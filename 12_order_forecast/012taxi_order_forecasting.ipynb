{
 "cells": [
  {
   "cell_type": "markdown",
   "metadata": {
    "toc": true
   },
   "source": [
    "<h1>Содержание<span class=\"tocSkip\"></span></h1>\n",
    "<div class=\"toc\"><ul class=\"toc-item\"><li><span><a href=\"#Анализ-данных\" data-toc-modified-id=\"Анализ-данных-1\"><span class=\"toc-item-num\">1&nbsp;&nbsp;</span>Анализ данных</a></span></li><li><span><a href=\"#Моделирование\" data-toc-modified-id=\"Моделирование-2\"><span class=\"toc-item-num\">2&nbsp;&nbsp;</span>Моделирование</a></span></li><li><span><a href=\"#Выводы\" data-toc-modified-id=\"Выводы-3\"><span class=\"toc-item-num\">3&nbsp;&nbsp;</span>Выводы</a></span></li></ul></div>"
   ]
  },
  {
   "cell_type": "markdown",
   "metadata": {},
   "source": [
    "#  Прогнозирование заказов такси"
   ]
  },
  {
   "cell_type": "markdown",
   "metadata": {},
   "source": [
    "Компания «Чётенькое такси» собрала исторические данные о заказах такси в аэропортах. Чтобы привлекать больше водителей в период пиковой нагрузки, нужно спрогнозировать количество заказов такси на следующий час. Постройте модель для такого предсказания.\n",
    "\n",
    "\n",
    "\n",
    "Вам нужно:\n",
    "\n",
    "1. За тестовую выборку взять последние 10% данных \n",
    "2. Построить модель для предсказания количества заказов такси на следущий час\n",
    "3. Значение метрики *RMSE* на тестовой выборке должно быть не больше 48.\n",
    "4. Проверить данные на тестовой выборке и сделать выводы.\n",
    "\n",
    "\n",
    "Данные лежат в файле `taxi.csv`. Количество заказов находится в столбце `num_orders` (от англ. *number of orders*, «число заказов»)."
   ]
  },
  {
   "cell_type": "markdown",
   "metadata": {},
   "source": [
    "## Анализ данных"
   ]
  },
  {
   "cell_type": "code",
   "execution_count": 1,
   "metadata": {},
   "outputs": [],
   "source": [
    "import pandas as pd\n",
    "import numpy as np\n",
    "import matplotlib.pyplot as plt\n",
    "\n",
    "from sklearn.metrics import mean_squared_error\n",
    "\n",
    "from statsmodels.tsa.ar_model import AutoReg\n",
    "import statsmodels.tsa.api as smt"
   ]
  },
  {
   "cell_type": "code",
   "execution_count": 2,
   "metadata": {},
   "outputs": [
    {
     "data": {
      "text/html": [
       "<div>\n",
       "<style scoped>\n",
       "    .dataframe tbody tr th:only-of-type {\n",
       "        vertical-align: middle;\n",
       "    }\n",
       "\n",
       "    .dataframe tbody tr th {\n",
       "        vertical-align: top;\n",
       "    }\n",
       "\n",
       "    .dataframe thead th {\n",
       "        text-align: right;\n",
       "    }\n",
       "</style>\n",
       "<table border=\"1\" class=\"dataframe\">\n",
       "  <thead>\n",
       "    <tr style=\"text-align: right;\">\n",
       "      <th></th>\n",
       "      <th>num_orders</th>\n",
       "    </tr>\n",
       "    <tr>\n",
       "      <th>datetime</th>\n",
       "      <th></th>\n",
       "    </tr>\n",
       "  </thead>\n",
       "  <tbody>\n",
       "    <tr>\n",
       "      <th>2018-03-01 00:00:00</th>\n",
       "      <td>124</td>\n",
       "    </tr>\n",
       "    <tr>\n",
       "      <th>2018-03-01 01:00:00</th>\n",
       "      <td>85</td>\n",
       "    </tr>\n",
       "    <tr>\n",
       "      <th>2018-03-01 02:00:00</th>\n",
       "      <td>71</td>\n",
       "    </tr>\n",
       "    <tr>\n",
       "      <th>2018-03-01 03:00:00</th>\n",
       "      <td>66</td>\n",
       "    </tr>\n",
       "    <tr>\n",
       "      <th>2018-03-01 04:00:00</th>\n",
       "      <td>43</td>\n",
       "    </tr>\n",
       "    <tr>\n",
       "      <th>...</th>\n",
       "      <td>...</td>\n",
       "    </tr>\n",
       "    <tr>\n",
       "      <th>2018-08-31 19:00:00</th>\n",
       "      <td>136</td>\n",
       "    </tr>\n",
       "    <tr>\n",
       "      <th>2018-08-31 20:00:00</th>\n",
       "      <td>154</td>\n",
       "    </tr>\n",
       "    <tr>\n",
       "      <th>2018-08-31 21:00:00</th>\n",
       "      <td>159</td>\n",
       "    </tr>\n",
       "    <tr>\n",
       "      <th>2018-08-31 22:00:00</th>\n",
       "      <td>223</td>\n",
       "    </tr>\n",
       "    <tr>\n",
       "      <th>2018-08-31 23:00:00</th>\n",
       "      <td>205</td>\n",
       "    </tr>\n",
       "  </tbody>\n",
       "</table>\n",
       "<p>4416 rows × 1 columns</p>\n",
       "</div>"
      ],
      "text/plain": [
       "                     num_orders\n",
       "datetime                       \n",
       "2018-03-01 00:00:00         124\n",
       "2018-03-01 01:00:00          85\n",
       "2018-03-01 02:00:00          71\n",
       "2018-03-01 03:00:00          66\n",
       "2018-03-01 04:00:00          43\n",
       "...                         ...\n",
       "2018-08-31 19:00:00         136\n",
       "2018-08-31 20:00:00         154\n",
       "2018-08-31 21:00:00         159\n",
       "2018-08-31 22:00:00         223\n",
       "2018-08-31 23:00:00         205\n",
       "\n",
       "[4416 rows x 1 columns]"
      ]
     },
     "execution_count": 2,
     "metadata": {},
     "output_type": "execute_result"
    }
   ],
   "source": [
    "df = pd.read_csv('/datasets/taxi.csv', parse_dates=['datetime'], index_col=['datetime']).sort_index()\n",
    "df = df.resample('1H').sum()\n",
    "df"
   ]
  },
  {
   "cell_type": "markdown",
   "metadata": {},
   "source": [
    "В стоблце `num_orders` находится количество заказов за каждый час.  \n",
    "Данные уже готовы для дальшейшей обработки."
   ]
  },
  {
   "cell_type": "markdown",
   "metadata": {},
   "source": [
    "Определяем тестовую выборку"
   ]
  },
  {
   "cell_type": "code",
   "execution_count": 5,
   "metadata": {},
   "outputs": [],
   "source": [
    "test_limit = int(len(df)*.9)"
   ]
  },
  {
   "cell_type": "code",
   "execution_count": 6,
   "metadata": {},
   "outputs": [
    {
     "data": {
      "text/plain": [
       "3974"
      ]
     },
     "execution_count": 6,
     "metadata": {},
     "output_type": "execute_result"
    }
   ],
   "source": [
    "test_limit"
   ]
  },
  {
   "cell_type": "markdown",
   "metadata": {},
   "source": [
    "Анализируем данные"
   ]
  },
  {
   "cell_type": "code",
   "execution_count": 4,
   "metadata": {},
   "outputs": [
    {
     "data": {
      "image/png": "[encoded data removed]",
      "text/plain": [
       "<Figure size 1080x720 with 4 Axes>"
      ]
     },
     "metadata": {
      "needs_background": "light"
     },
     "output_type": "display_data"
    }
   ],
   "source": [
    "with plt.style.context('bmh'):\n",
    "    f, axs = plt.subplots(4, 1, figsize=(15, 10))\n",
    "    df.num_orders.plot(ax=axs[0]).set_title('Time Series Analysis Plots')\n",
    "    df.num_orders[test_limit:].plot(ax=axs[1]).set_title('Test Time Series Analysis Plots')\n",
    "    smt.graphics.plot_acf(df.num_orders, lags=200, ax=axs[2], alpha=0.5, auto_ylims=True)\n",
    "    smt.graphics.plot_pacf(df.num_orders, lags=200, ax=axs[3], alpha=0.5, method='ywm', auto_ylims=True)\n",
    "    plt.tight_layout()"
   ]
  },
  {
   "cell_type": "markdown",
   "metadata": {},
   "source": [
    "Высокая ежедневная корреляция и недельная сезонность."
   ]
  },
  {
   "cell_type": "markdown",
   "metadata": {},
   "source": [
    "## Моделирование"
   ]
  },
  {
   "cell_type": "markdown",
   "metadata": {},
   "source": [
    "За точку отсчета возьмем предсказание равное количеству заказов за предыдущий час"
   ]
  },
  {
   "cell_type": "code",
   "execution_count": 5,
   "metadata": {},
   "outputs": [
    {
     "name": "stdout",
     "output_type": "stream",
     "text": [
      "Based Dummy`s prediction RMSE:\n"
     ]
    },
    {
     "data": {
      "text/plain": [
       "58.86"
      ]
     },
     "metadata": {},
     "output_type": "display_data"
    }
   ],
   "source": [
    "print('Based Dummy`s prediction RMSE:')\n",
    "display(np.round(mean_squared_error(df['num_orders'][test_limit:],\n",
    "                                    df['num_orders'].shift()[test_limit:],\n",
    "                                    squared=False),2))"
   ]
  },
  {
   "cell_type": "markdown",
   "metadata": {},
   "source": [
    "Обучим авторегрессор на данных"
   ]
  },
  {
   "cell_type": "code",
   "execution_count": null,
   "metadata": {},
   "outputs": [],
   "source": [
    "ar = []\n",
    "for n in range(test_limit, len(df)):\n",
    "    print(n)\n",
    "    model = AutoReg(df['num_orders'][:n],\n",
    "                    lags=167,\n",
    "                    seasonal=True,\n",
    "                    period=168).fit()\n",
    "    ar.append(model.predict(n,n).values[0])"
   ]
  },
  {
   "cell_type": "code",
   "execution_count": 8,
   "metadata": {},
   "outputs": [
    {
     "data": {
      "text/plain": [
       "datetime\n",
       "2018-03-01 00:00:00    124\n",
       "2018-03-01 01:00:00     85\n",
       "2018-03-01 02:00:00     71\n",
       "2018-03-01 03:00:00     66\n",
       "2018-03-01 04:00:00     43\n",
       "                      ... \n",
       "2018-07-22 18:00:00     52\n",
       "2018-07-22 19:00:00     55\n",
       "2018-07-22 20:00:00     99\n",
       "2018-07-22 21:00:00    104\n",
       "2018-07-22 22:00:00    105\n",
       "Freq: H, Name: num_orders, Length: 3455, dtype: int64"
      ]
     },
     "execution_count": 8,
     "metadata": {},
     "output_type": "execute_result"
    }
   ],
   "source": [
    "df['num_orders'][:3455]"
   ]
  },
  {
   "cell_type": "markdown",
   "metadata": {},
   "source": [
    "Оценим ошибку"
   ]
  },
  {
   "cell_type": "code",
   "execution_count": 7,
   "metadata": {},
   "outputs": [
    {
     "name": "stdout",
     "output_type": "stream",
     "text": [
      "Autoregression`s  prediction RMSE:\n"
     ]
    },
    {
     "data": {
      "text/plain": [
       "35.06"
      ]
     },
     "metadata": {},
     "output_type": "display_data"
    }
   ],
   "source": [
    "print('Autoregression`s  prediction RMSE:')\n",
    "display(np.round(mean_squared_error(df['num_orders'][test_limit:],\n",
    "                                    ar,\n",
    "                                    squared=False),2))"
   ]
  },
  {
   "cell_type": "markdown",
   "metadata": {},
   "source": [
    "Что соответсвует изначальным требованиям"
   ]
  },
  {
   "cell_type": "code",
   "execution_count": 8,
   "metadata": {
    "scrolled": false
   },
   "outputs": [
    {
     "data": {
      "image/png": "[encoded data removed]",
      "text/plain": [
       "<Figure size 1440x576 with 1 Axes>"
      ]
     },
     "metadata": {},
     "output_type": "display_data"
    }
   ],
   "source": [
    "with plt.style.context('seaborn-white'):    \n",
    "    plt.figure(figsize=(20, 8))\n",
    "    plt.plot(ar, label = \"Predicted\")\n",
    "    plt.plot(df.num_orders[test_limit:].values, \"k\", label = \"Actual\", alpha=0.3)\n",
    "    plt.legend(loc=\"best\")\n",
    "    plt.axis('tight')\n",
    "    plt.title(\"Predicted Test\")\n",
    "    plt.grid(True)"
   ]
  },
  {
   "cell_type": "markdown",
   "metadata": {},
   "source": [
    "Основная доля ошибок выпадает на аномально резкие увеличения спроса"
   ]
  },
  {
   "cell_type": "markdown",
   "metadata": {},
   "source": [
    "## Выводы"
   ]
  },
  {
   "cell_type": "markdown",
   "metadata": {},
   "source": [
    "1. Построена Autoregression модель, которая соответсвует требуемой точности.\n",
    "2. Основная часть ошибок модели приходится на аномальные всплески, которые вероятно связаны с внешними факторами (погода, форс мажор и др.) информации о которых нет в исходных данных"
   ]
  }
 ],
 "metadata": {
  "ExecuteTimeLog": [
   {
    "duration": 1500,
    "start_time": "2022-04-19T10:13:07.737Z"
   },
   {
    "duration": 155,
    "start_time": "2022-04-19T10:13:39.293Z"
   },
   {
    "duration": 48,
    "start_time": "2022-04-19T10:14:17.471Z"
   },
   {
    "duration": 41,
    "start_time": "2022-04-19T10:14:22.123Z"
   },
   {
    "duration": 35,
    "start_time": "2022-04-19T10:15:05.123Z"
   },
   {
    "duration": 12,
    "start_time": "2022-04-19T10:15:06.627Z"
   },
   {
    "duration": 7,
    "start_time": "2022-04-19T10:15:18.657Z"
   },
   {
    "duration": 1175,
    "start_time": "2022-04-19T10:15:19.724Z"
   },
   {
    "duration": 33,
    "start_time": "2022-04-19T10:15:44.842Z"
   },
   {
    "duration": 147,
    "start_time": "2022-04-19T10:15:45.700Z"
   },
   {
    "duration": 39,
    "start_time": "2022-04-19T10:16:08.123Z"
   },
   {
    "duration": 44,
    "start_time": "2022-04-19T10:16:08.454Z"
   },
   {
    "duration": 59,
    "start_time": "2022-04-19T10:16:40.053Z"
   },
   {
    "duration": 41,
    "start_time": "2022-04-19T10:16:50.509Z"
   },
   {
    "duration": 3,
    "start_time": "2022-04-19T10:16:56.140Z"
   },
   {
    "duration": 43,
    "start_time": "2022-04-19T10:16:57.007Z"
   },
   {
    "duration": 10,
    "start_time": "2022-04-19T10:18:37.441Z"
   },
   {
    "duration": 12,
    "start_time": "2022-04-19T10:26:47.491Z"
   },
   {
    "duration": 9,
    "start_time": "2022-04-19T10:26:59.455Z"
   },
   {
    "duration": 657,
    "start_time": "2022-04-19T12:22:55.471Z"
   },
   {
    "duration": 33,
    "start_time": "2022-04-19T12:23:31.977Z"
   },
   {
    "duration": 9,
    "start_time": "2022-04-19T12:23:34.073Z"
   },
   {
    "duration": 3978,
    "start_time": "2022-04-20T06:26:46.827Z"
   },
   {
    "duration": 69,
    "start_time": "2022-04-20T06:26:52.937Z"
   },
   {
    "duration": 19,
    "start_time": "2022-04-20T06:26:53.828Z"
   },
   {
    "duration": 198,
    "start_time": "2022-04-20T06:26:57.741Z"
   },
   {
    "duration": 11,
    "start_time": "2022-04-20T06:27:04.612Z"
   },
   {
    "duration": 768,
    "start_time": "2022-04-20T06:27:06.176Z"
   },
   {
    "duration": 7,
    "start_time": "2022-04-20T06:28:19.198Z"
   },
   {
    "duration": 77,
    "start_time": "2022-04-20T06:28:20.452Z"
   },
   {
    "duration": 515,
    "start_time": "2022-04-20T06:28:30.157Z"
   },
   {
    "duration": 334,
    "start_time": "2022-04-20T06:28:33.688Z"
   },
   {
    "duration": 5,
    "start_time": "2022-04-20T06:28:42.098Z"
   },
   {
    "duration": 696,
    "start_time": "2022-04-20T06:28:45.095Z"
   },
   {
    "duration": 43,
    "start_time": "2022-04-20T06:29:17.473Z"
   },
   {
    "duration": 14,
    "start_time": "2022-04-20T06:29:17.730Z"
   },
   {
    "duration": 259,
    "start_time": "2022-04-20T06:29:19.322Z"
   },
   {
    "duration": 6,
    "start_time": "2022-04-20T06:29:22.496Z"
   },
   {
    "duration": 690,
    "start_time": "2022-04-20T06:29:25.616Z"
   },
   {
    "duration": 7,
    "start_time": "2022-04-20T06:30:27.138Z"
   },
   {
    "duration": 1053,
    "start_time": "2022-04-20T06:30:27.365Z"
   },
   {
    "duration": 17,
    "start_time": "2022-04-20T06:32:25.512Z"
   },
   {
    "duration": 19,
    "start_time": "2022-04-20T06:32:33.428Z"
   },
   {
    "duration": 8,
    "start_time": "2022-04-20T06:32:45.623Z"
   },
   {
    "duration": 5,
    "start_time": "2022-04-20T06:33:00.799Z"
   },
   {
    "duration": 26,
    "start_time": "2022-04-20T06:33:06.161Z"
   },
   {
    "duration": 20,
    "start_time": "2022-04-20T06:33:20.343Z"
   },
   {
    "duration": 458,
    "start_time": "2022-04-20T06:33:34.325Z"
   },
   {
    "duration": 587,
    "start_time": "2022-04-20T06:34:11.734Z"
   },
   {
    "duration": 25,
    "start_time": "2022-04-20T06:34:54.035Z"
   },
   {
    "duration": 20,
    "start_time": "2022-04-20T06:35:12.574Z"
   },
   {
    "duration": 493,
    "start_time": "2022-04-20T06:35:38.994Z"
   },
   {
    "duration": 496,
    "start_time": "2022-04-20T06:35:44.107Z"
   },
   {
    "duration": 53,
    "start_time": "2022-04-20T06:36:07.253Z"
   },
   {
    "duration": 14,
    "start_time": "2022-04-20T06:36:07.484Z"
   },
   {
    "duration": 74,
    "start_time": "2022-04-20T06:36:09.295Z"
   },
   {
    "duration": 7,
    "start_time": "2022-04-20T06:36:12.734Z"
   },
   {
    "duration": 677,
    "start_time": "2022-04-20T06:36:12.952Z"
   },
   {
    "duration": 51,
    "start_time": "2022-04-20T06:36:27.091Z"
   },
   {
    "duration": 12,
    "start_time": "2022-04-20T06:36:27.581Z"
   },
   {
    "duration": 185,
    "start_time": "2022-04-20T06:36:27.910Z"
   },
   {
    "duration": 45,
    "start_time": "2022-04-20T06:36:34.654Z"
   },
   {
    "duration": 12,
    "start_time": "2022-04-20T06:36:35.131Z"
   },
   {
    "duration": 152,
    "start_time": "2022-04-20T06:36:36.333Z"
   },
   {
    "duration": 6,
    "start_time": "2022-04-20T06:36:38.309Z"
   },
   {
    "duration": 852,
    "start_time": "2022-04-20T06:36:39.748Z"
   },
   {
    "duration": 7,
    "start_time": "2022-04-20T06:36:50.480Z"
   },
   {
    "duration": 5,
    "start_time": "2022-04-20T06:36:50.775Z"
   },
   {
    "duration": 440,
    "start_time": "2022-04-20T06:36:51.497Z"
   },
   {
    "duration": 7,
    "start_time": "2022-04-20T06:37:27.390Z"
   },
   {
    "duration": 760,
    "start_time": "2022-04-20T06:37:28.949Z"
   },
   {
    "duration": 7,
    "start_time": "2022-04-20T06:38:13.698Z"
   },
   {
    "duration": 30,
    "start_time": "2022-04-20T06:38:14.059Z"
   },
   {
    "duration": 7,
    "start_time": "2022-04-20T06:38:36.054Z"
   },
   {
    "duration": 617,
    "start_time": "2022-04-20T06:38:36.315Z"
   },
   {
    "duration": 743,
    "start_time": "2022-04-20T06:39:08.387Z"
   },
   {
    "duration": 759,
    "start_time": "2022-04-20T06:39:19.109Z"
   },
   {
    "duration": 46,
    "start_time": "2022-04-20T06:39:34.393Z"
   },
   {
    "duration": 13,
    "start_time": "2022-04-20T06:39:34.733Z"
   },
   {
    "duration": 73,
    "start_time": "2022-04-20T06:39:36.600Z"
   },
   {
    "duration": 8,
    "start_time": "2022-04-20T06:39:39.200Z"
   },
   {
    "duration": 714,
    "start_time": "2022-04-20T06:39:39.471Z"
   },
   {
    "duration": 7,
    "start_time": "2022-04-20T06:39:49.087Z"
   },
   {
    "duration": 6,
    "start_time": "2022-04-20T06:39:49.802Z"
   },
   {
    "duration": 417,
    "start_time": "2022-04-20T06:39:50.601Z"
   },
   {
    "duration": 408,
    "start_time": "2022-04-20T06:40:01.421Z"
   },
   {
    "duration": 7,
    "start_time": "2022-04-20T06:40:11.225Z"
   },
   {
    "duration": 665,
    "start_time": "2022-04-20T06:40:11.546Z"
   },
   {
    "duration": 20,
    "start_time": "2022-04-20T06:40:35.594Z"
   },
   {
    "duration": 13,
    "start_time": "2022-04-20T06:40:40.888Z"
   },
   {
    "duration": 119,
    "start_time": "2022-04-20T06:40:42.905Z"
   },
   {
    "duration": 165,
    "start_time": "2022-04-20T06:40:52.112Z"
   },
   {
    "duration": 168,
    "start_time": "2022-04-20T06:42:21.498Z"
   },
   {
    "duration": 273,
    "start_time": "2022-04-20T06:42:54.785Z"
   },
   {
    "duration": 16,
    "start_time": "2022-04-20T06:43:32.398Z"
   },
   {
    "duration": 16,
    "start_time": "2022-04-20T06:43:47.410Z"
   },
   {
    "duration": 8,
    "start_time": "2022-04-20T06:43:57.735Z"
   },
   {
    "duration": 256,
    "start_time": "2022-04-20T06:43:57.990Z"
   },
   {
    "duration": 2439,
    "start_time": "2022-04-20T06:44:04.154Z"
   },
   {
    "duration": 19,
    "start_time": "2022-04-20T06:44:14.568Z"
   },
   {
    "duration": 1545,
    "start_time": "2022-04-20T06:44:28.177Z"
   },
   {
    "duration": 20,
    "start_time": "2022-04-20T06:45:03.579Z"
   },
   {
    "duration": 1467,
    "start_time": "2022-04-20T06:45:18.990Z"
   },
   {
    "duration": 1512,
    "start_time": "2022-04-20T06:45:35.994Z"
   },
   {
    "duration": 1489,
    "start_time": "2022-04-20T06:45:40.180Z"
   },
   {
    "duration": 7,
    "start_time": "2022-04-20T06:45:44.710Z"
   },
   {
    "duration": 7573,
    "start_time": "2022-04-20T06:47:28.332Z"
   },
   {
    "duration": 6416,
    "start_time": "2022-04-20T06:47:35.907Z"
   },
   {
    "duration": 14,
    "start_time": "2022-04-20T06:47:45.256Z"
   },
   {
    "duration": 77,
    "start_time": "2022-04-20T07:37:49.464Z"
   },
   {
    "duration": 3172,
    "start_time": "2022-04-20T07:37:56.481Z"
   },
   {
    "duration": 290,
    "start_time": "2022-04-20T07:37:59.656Z"
   },
   {
    "duration": 12,
    "start_time": "2022-04-20T07:37:59.949Z"
   },
   {
    "duration": 83,
    "start_time": "2022-04-20T07:37:59.981Z"
   },
   {
    "duration": 6,
    "start_time": "2022-04-20T07:38:07.310Z"
   },
   {
    "duration": 664,
    "start_time": "2022-04-20T07:38:07.622Z"
   },
   {
    "duration": 413,
    "start_time": "2022-04-20T07:38:18.278Z"
   },
   {
    "duration": 407,
    "start_time": "2022-04-20T07:38:23.761Z"
   },
   {
    "duration": 373,
    "start_time": "2022-04-20T07:38:53.950Z"
   },
   {
    "duration": 406,
    "start_time": "2022-04-20T07:39:14.326Z"
   },
   {
    "duration": 381,
    "start_time": "2022-04-20T07:39:19.998Z"
   },
   {
    "duration": 380,
    "start_time": "2022-04-20T07:39:23.046Z"
   },
   {
    "duration": 403,
    "start_time": "2022-04-20T07:39:29.067Z"
   },
   {
    "duration": 413,
    "start_time": "2022-04-20T07:39:46.020Z"
   },
   {
    "duration": 9,
    "start_time": "2022-04-20T07:42:08.124Z"
   },
   {
    "duration": 948,
    "start_time": "2022-04-20T07:42:08.417Z"
   },
   {
    "duration": 774,
    "start_time": "2022-04-20T07:43:17.852Z"
   },
   {
    "duration": 829,
    "start_time": "2022-04-20T07:44:01.092Z"
   },
   {
    "duration": 571,
    "start_time": "2022-04-20T07:44:09.458Z"
   },
   {
    "duration": 610,
    "start_time": "2022-04-20T07:44:32.680Z"
   },
   {
    "duration": 587,
    "start_time": "2022-04-20T07:44:41.000Z"
   },
   {
    "duration": 759,
    "start_time": "2022-04-20T07:46:05.288Z"
   },
   {
    "duration": 661,
    "start_time": "2022-04-20T07:46:15.506Z"
   },
   {
    "duration": 641,
    "start_time": "2022-04-20T07:46:27.497Z"
   },
   {
    "duration": 439,
    "start_time": "2022-04-20T07:46:48.058Z"
   },
   {
    "duration": 22,
    "start_time": "2022-04-20T07:47:13.025Z"
   },
   {
    "duration": 645,
    "start_time": "2022-04-20T07:47:45.738Z"
   },
   {
    "duration": 581,
    "start_time": "2022-04-20T07:47:58.333Z"
   },
   {
    "duration": 672,
    "start_time": "2022-04-20T07:48:10.542Z"
   },
   {
    "duration": 677,
    "start_time": "2022-04-20T07:48:23.792Z"
   },
   {
    "duration": 659,
    "start_time": "2022-04-20T07:49:18.104Z"
   },
   {
    "duration": 788,
    "start_time": "2022-04-20T07:49:41.094Z"
   },
   {
    "duration": 645,
    "start_time": "2022-04-20T07:49:50.595Z"
   },
   {
    "duration": 655,
    "start_time": "2022-04-20T07:49:59.650Z"
   },
   {
    "duration": 658,
    "start_time": "2022-04-20T07:50:20.065Z"
   },
   {
    "duration": 667,
    "start_time": "2022-04-20T07:50:30.710Z"
   },
   {
    "duration": 656,
    "start_time": "2022-04-20T07:50:44.797Z"
   },
   {
    "duration": 667,
    "start_time": "2022-04-20T07:50:53.554Z"
   },
   {
    "duration": 848,
    "start_time": "2022-04-20T07:51:11.515Z"
   },
   {
    "duration": 666,
    "start_time": "2022-04-20T07:51:33.574Z"
   },
   {
    "duration": 658,
    "start_time": "2022-04-20T07:51:39.989Z"
   },
   {
    "duration": 658,
    "start_time": "2022-04-20T07:52:30.850Z"
   },
   {
    "duration": 788,
    "start_time": "2022-04-20T07:52:36.917Z"
   },
   {
    "duration": 646,
    "start_time": "2022-04-20T07:52:44.008Z"
   },
   {
    "duration": 666,
    "start_time": "2022-04-20T07:53:03.373Z"
   },
   {
    "duration": 2065,
    "start_time": "2022-04-20T07:53:54.987Z"
   },
   {
    "duration": 195,
    "start_time": "2022-04-20T07:53:57.055Z"
   },
   {
    "duration": 10,
    "start_time": "2022-04-20T07:54:08.467Z"
   },
   {
    "duration": 61,
    "start_time": "2022-04-20T07:54:35.033Z"
   },
   {
    "duration": 17,
    "start_time": "2022-04-20T07:54:35.246Z"
   },
   {
    "duration": 6,
    "start_time": "2022-04-20T07:54:45.750Z"
   },
   {
    "duration": 704,
    "start_time": "2022-04-20T07:54:46.410Z"
   },
   {
    "duration": 674,
    "start_time": "2022-04-20T07:54:55.448Z"
   },
   {
    "duration": 813,
    "start_time": "2022-04-20T07:55:28.575Z"
   },
   {
    "duration": 662,
    "start_time": "2022-04-20T07:55:42.398Z"
   },
   {
    "duration": 711,
    "start_time": "2022-04-20T07:56:57.749Z"
   },
   {
    "duration": 693,
    "start_time": "2022-04-20T07:57:11.128Z"
   },
   {
    "duration": 704,
    "start_time": "2022-04-20T07:57:17.852Z"
   },
   {
    "duration": 709,
    "start_time": "2022-04-20T07:57:27.163Z"
   },
   {
    "duration": 829,
    "start_time": "2022-04-20T07:57:44.174Z"
   },
   {
    "duration": 680,
    "start_time": "2022-04-20T07:57:59.181Z"
   },
   {
    "duration": 736,
    "start_time": "2022-04-20T07:58:10.640Z"
   },
   {
    "duration": 739,
    "start_time": "2022-04-20T07:58:54.610Z"
   },
   {
    "duration": 627,
    "start_time": "2022-04-20T07:59:01.071Z"
   },
   {
    "duration": 543,
    "start_time": "2022-04-20T07:59:11.953Z"
   },
   {
    "duration": 541,
    "start_time": "2022-04-20T07:59:18.526Z"
   },
   {
    "duration": 812,
    "start_time": "2022-04-20T07:59:43.139Z"
   },
   {
    "duration": 774,
    "start_time": "2022-04-20T07:59:57.902Z"
   },
   {
    "duration": 533,
    "start_time": "2022-04-20T08:00:14.051Z"
   },
   {
    "duration": 528,
    "start_time": "2022-04-20T08:00:31.938Z"
   },
   {
    "duration": 522,
    "start_time": "2022-04-20T08:00:49.041Z"
   },
   {
    "duration": 535,
    "start_time": "2022-04-20T08:00:57.590Z"
   },
   {
    "duration": 520,
    "start_time": "2022-04-20T08:02:00.243Z"
   },
   {
    "duration": 525,
    "start_time": "2022-04-20T08:03:03.734Z"
   },
   {
    "duration": 645,
    "start_time": "2022-04-20T08:03:20.267Z"
   },
   {
    "duration": 524,
    "start_time": "2022-04-20T08:03:37.105Z"
   },
   {
    "duration": 522,
    "start_time": "2022-04-20T08:03:46.530Z"
   },
   {
    "duration": 521,
    "start_time": "2022-04-20T08:03:53.651Z"
   },
   {
    "duration": 518,
    "start_time": "2022-04-20T08:04:10.761Z"
   },
   {
    "duration": 521,
    "start_time": "2022-04-20T08:04:40.547Z"
   },
   {
    "duration": 556,
    "start_time": "2022-04-20T08:04:52.333Z"
   },
   {
    "duration": 585,
    "start_time": "2022-04-20T08:06:01.267Z"
   },
   {
    "duration": 51,
    "start_time": "2022-04-20T08:06:22.746Z"
   },
   {
    "duration": 13,
    "start_time": "2022-04-20T08:06:22.801Z"
   },
   {
    "duration": 7,
    "start_time": "2022-04-20T08:06:26.847Z"
   },
   {
    "duration": 809,
    "start_time": "2022-04-20T08:06:27.102Z"
   },
   {
    "duration": 6,
    "start_time": "2022-04-20T08:06:34.224Z"
   },
   {
    "duration": 385,
    "start_time": "2022-04-20T08:06:34.443Z"
   },
   {
    "duration": 7,
    "start_time": "2022-04-20T08:06:38.170Z"
   },
   {
    "duration": 675,
    "start_time": "2022-04-20T08:06:38.367Z"
   },
   {
    "duration": 38,
    "start_time": "2022-04-20T09:19:10.488Z"
   },
   {
    "duration": 2428,
    "start_time": "2022-04-20T09:19:13.158Z"
   },
   {
    "duration": 9,
    "start_time": "2022-04-20T09:19:15.589Z"
   },
   {
    "duration": 1010,
    "start_time": "2022-04-20T09:19:15.600Z"
   },
   {
    "duration": 8,
    "start_time": "2022-04-20T09:20:12.586Z"
   },
   {
    "duration": 5,
    "start_time": "2022-04-20T09:20:12.976Z"
   },
   {
    "duration": 1032,
    "start_time": "2022-04-20T09:20:14.024Z"
   },
   {
    "duration": 8,
    "start_time": "2022-04-20T09:21:11.776Z"
   },
   {
    "duration": 1848,
    "start_time": "2022-04-20T09:21:12.857Z"
   },
   {
    "duration": 1542,
    "start_time": "2022-04-20T09:23:21.507Z"
   },
   {
    "duration": 1466,
    "start_time": "2022-04-20T09:23:50.865Z"
   },
   {
    "duration": 1561,
    "start_time": "2022-04-20T09:24:10.764Z"
   },
   {
    "duration": 11,
    "start_time": "2022-04-20T09:43:50.825Z"
   },
   {
    "duration": 12,
    "start_time": "2022-04-20T09:43:59.449Z"
   },
   {
    "duration": 14,
    "start_time": "2022-04-20T09:44:16.976Z"
   },
   {
    "duration": 41,
    "start_time": "2022-04-20T09:44:53.605Z"
   },
   {
    "duration": 11,
    "start_time": "2022-04-20T09:45:00.091Z"
   },
   {
    "duration": 174,
    "start_time": "2022-04-20T09:45:03.622Z"
   },
   {
    "duration": 10,
    "start_time": "2022-04-20T09:45:08.902Z"
   },
   {
    "duration": 145,
    "start_time": "2022-04-20T09:45:09.713Z"
   },
   {
    "duration": 21,
    "start_time": "2022-04-20T09:45:16.747Z"
   },
   {
    "duration": 6,
    "start_time": "2022-04-20T09:45:18.416Z"
   },
   {
    "duration": 51722,
    "start_time": "2022-04-20T09:45:18.768Z"
   },
   {
    "duration": 139,
    "start_time": "2022-04-20T09:46:25.129Z"
   },
   {
    "duration": 8,
    "start_time": "2022-04-20T09:46:32.202Z"
   },
   {
    "duration": 862,
    "start_time": "2022-04-20T09:47:07.650Z"
   },
   {
    "duration": 828,
    "start_time": "2022-04-20T09:48:09.865Z"
   },
   {
    "duration": 700,
    "start_time": "2022-04-20T09:48:39.313Z"
   },
   {
    "duration": 3524,
    "start_time": "2022-04-20T09:56:57.969Z"
   },
   {
    "duration": 3807,
    "start_time": "2022-04-20T09:57:31.543Z"
   },
   {
    "duration": 3566,
    "start_time": "2022-04-20T09:57:35.353Z"
   },
   {
    "duration": 12851,
    "start_time": "2022-04-20T09:59:25.059Z"
   },
   {
    "duration": 3394,
    "start_time": "2022-04-20T09:59:37.913Z"
   },
   {
    "duration": 3314,
    "start_time": "2022-04-20T09:59:41.309Z"
   },
   {
    "duration": 13147,
    "start_time": "2022-04-20T09:59:48.451Z"
   },
   {
    "duration": 351,
    "start_time": "2022-04-20T10:00:41.387Z"
   },
   {
    "duration": 361,
    "start_time": "2022-04-20T10:00:49.178Z"
   },
   {
    "duration": 12944,
    "start_time": "2022-04-20T10:01:03.857Z"
   },
   {
    "duration": 17811,
    "start_time": "2022-04-20T10:01:35.795Z"
   },
   {
    "duration": 8507,
    "start_time": "2022-04-20T10:02:17.782Z"
   },
   {
    "duration": 7933,
    "start_time": "2022-04-20T10:03:03.530Z"
   },
   {
    "duration": 4169,
    "start_time": "2022-04-20T10:03:11.466Z"
   },
   {
    "duration": 8300,
    "start_time": "2022-04-20T10:03:56.247Z"
   },
   {
    "duration": 7496,
    "start_time": "2022-04-20T10:04:04.549Z"
   },
   {
    "duration": 7460,
    "start_time": "2022-04-20T10:04:12.048Z"
   },
   {
    "duration": 7,
    "start_time": "2022-04-20T11:13:24.594Z"
   },
   {
    "duration": 3038,
    "start_time": "2022-04-20T11:19:11.403Z"
   },
   {
    "duration": 205,
    "start_time": "2022-04-20T11:19:14.444Z"
   },
   {
    "duration": 12,
    "start_time": "2022-04-20T11:19:14.651Z"
   },
   {
    "duration": 69,
    "start_time": "2022-04-20T11:19:14.667Z"
   },
   {
    "duration": 17,
    "start_time": "2022-04-20T11:19:14.738Z"
   },
   {
    "duration": 779,
    "start_time": "2022-04-20T11:19:14.757Z"
   },
   {
    "duration": 276,
    "start_time": "2022-04-20T11:20:09.119Z"
   },
   {
    "duration": 8,
    "start_time": "2022-04-20T11:20:09.398Z"
   },
   {
    "duration": 1040,
    "start_time": "2022-04-20T11:20:09.988Z"
   },
   {
    "duration": 262,
    "start_time": "2022-04-20T11:22:50.292Z"
   },
   {
    "duration": 8,
    "start_time": "2022-04-20T11:23:00.789Z"
   },
   {
    "duration": 130,
    "start_time": "2022-04-20T11:23:06.800Z"
   },
   {
    "duration": 7,
    "start_time": "2022-04-20T11:23:44.909Z"
   },
   {
    "duration": 721,
    "start_time": "2022-04-20T11:23:45.091Z"
   },
   {
    "duration": 9,
    "start_time": "2022-04-20T11:23:45.816Z"
   },
   {
    "duration": 5,
    "start_time": "2022-04-20T11:23:45.935Z"
   },
   {
    "duration": 736,
    "start_time": "2022-04-20T11:23:47.285Z"
   },
   {
    "duration": 6,
    "start_time": "2022-04-20T11:23:48.024Z"
   },
   {
    "duration": 726,
    "start_time": "2022-04-20T11:23:49.719Z"
   },
   {
    "duration": 22,
    "start_time": "2022-04-20T11:23:50.448Z"
   },
   {
    "duration": 11,
    "start_time": "2022-04-20T11:23:51.563Z"
   },
   {
    "duration": 58355,
    "start_time": "2022-04-20T11:23:55.910Z"
   },
   {
    "duration": 620,
    "start_time": "2022-04-20T11:24:54.267Z"
   },
   {
    "duration": 6,
    "start_time": "2022-04-20T11:39:55.484Z"
   },
   {
    "duration": 8,
    "start_time": "2022-04-20T11:39:55.493Z"
   },
   {
    "duration": 5,
    "start_time": "2022-04-20T11:39:55.503Z"
   },
   {
    "duration": 71,
    "start_time": "2022-04-20T11:39:55.511Z"
   },
   {
    "duration": 13,
    "start_time": "2022-04-20T11:39:55.584Z"
   },
   {
    "duration": 272,
    "start_time": "2022-04-20T11:39:55.599Z"
   },
   {
    "duration": 12,
    "start_time": "2022-04-20T11:39:55.873Z"
   },
   {
    "duration": 837,
    "start_time": "2022-04-20T11:39:55.890Z"
   },
   {
    "duration": 9,
    "start_time": "2022-04-20T11:39:56.730Z"
   },
   {
    "duration": 9,
    "start_time": "2022-04-20T11:39:56.741Z"
   },
   {
    "duration": 583,
    "start_time": "2022-04-20T11:39:56.752Z"
   },
   {
    "duration": 9,
    "start_time": "2022-04-20T11:39:57.337Z"
   },
   {
    "duration": 5,
    "start_time": "2022-04-20T11:56:24.760Z"
   },
   {
    "duration": 7,
    "start_time": "2022-04-20T11:57:03.556Z"
   },
   {
    "duration": 9,
    "start_time": "2022-04-20T11:57:14.695Z"
   },
   {
    "duration": 621,
    "start_time": "2022-04-20T11:57:14.954Z"
   },
   {
    "duration": 953,
    "start_time": "2022-04-20T11:57:29.263Z"
   },
   {
    "duration": 653,
    "start_time": "2022-04-20T11:58:07.901Z"
   },
   {
    "duration": 1124,
    "start_time": "2022-04-20T11:59:00.516Z"
   },
   {
    "duration": 987,
    "start_time": "2022-04-20T11:59:14.005Z"
   },
   {
    "duration": 29,
    "start_time": "2022-04-20T11:59:42.129Z"
   },
   {
    "duration": 8,
    "start_time": "2022-04-20T11:59:43.208Z"
   },
   {
    "duration": 55574,
    "start_time": "2022-04-20T11:59:43.467Z"
   },
   {
    "duration": 158,
    "start_time": "2022-04-20T12:00:39.043Z"
   },
   {
    "duration": 719,
    "start_time": "2022-04-20T12:00:39.203Z"
   },
   {
    "duration": 286,
    "start_time": "2022-04-20T12:00:39.926Z"
   },
   {
    "duration": 2949,
    "start_time": "2022-04-20T12:00:40.215Z"
   },
   {
    "duration": 127557,
    "start_time": "2022-04-20T12:00:43.166Z"
   },
   {
    "duration": 133410,
    "start_time": "2022-04-20T12:02:50.725Z"
   },
   {
    "duration": 133767,
    "start_time": "2022-04-20T12:05:04.137Z"
   },
   {
    "duration": 118863,
    "start_time": "2022-04-20T12:07:17.906Z"
   },
   {
    "duration": 13,
    "start_time": "2022-04-20T12:09:16.772Z"
   },
   {
    "duration": 11,
    "start_time": "2022-04-20T12:46:25.401Z"
   },
   {
    "duration": 2973,
    "start_time": "2022-04-20T12:46:31.197Z"
   },
   {
    "duration": 195,
    "start_time": "2022-04-20T12:46:34.173Z"
   },
   {
    "duration": 14,
    "start_time": "2022-04-20T12:46:34.370Z"
   },
   {
    "duration": 51,
    "start_time": "2022-04-20T12:46:34.386Z"
   },
   {
    "duration": 17,
    "start_time": "2022-04-20T12:46:34.737Z"
   },
   {
    "duration": 810,
    "start_time": "2022-04-20T12:46:35.531Z"
   },
   {
    "duration": 7,
    "start_time": "2022-04-20T12:46:36.344Z"
   },
   {
    "duration": 1022,
    "start_time": "2022-04-20T12:46:36.353Z"
   },
   {
    "duration": 8,
    "start_time": "2022-04-20T12:46:37.378Z"
   },
   {
    "duration": 8,
    "start_time": "2022-04-20T12:46:37.388Z"
   },
   {
    "duration": 529,
    "start_time": "2022-04-20T12:46:37.398Z"
   },
   {
    "duration": 6,
    "start_time": "2022-04-20T12:46:37.929Z"
   },
   {
    "duration": 731,
    "start_time": "2022-04-20T12:46:37.938Z"
   },
   {
    "duration": 135,
    "start_time": "2022-04-20T12:46:38.671Z"
   },
   {
    "duration": 10,
    "start_time": "2022-04-20T12:46:38.808Z"
   },
   {
    "duration": 53334,
    "start_time": "2022-04-20T12:46:38.821Z"
   },
   {
    "duration": 156,
    "start_time": "2022-04-20T12:47:32.157Z"
   },
   {
    "duration": 722,
    "start_time": "2022-04-20T12:47:32.315Z"
   },
   {
    "duration": 292,
    "start_time": "2022-04-20T12:47:33.040Z"
   },
   {
    "duration": 2570,
    "start_time": "2022-04-20T12:47:33.334Z"
   },
   {
    "duration": 82627,
    "start_time": "2022-04-20T12:47:35.907Z"
   },
   {
    "duration": 193784,
    "start_time": "2022-04-20T12:48:58.537Z"
   },
   {
    "duration": 76122,
    "start_time": "2022-04-20T12:52:12.324Z"
   },
   {
    "duration": 9137,
    "start_time": "2022-04-20T12:53:28.449Z"
   },
   {
    "duration": 5,
    "start_time": "2022-04-20T12:53:37.589Z"
   },
   {
    "duration": 275,
    "start_time": "2022-04-20T12:53:37.595Z"
   },
   {
    "duration": 16,
    "start_time": "2022-04-20T12:54:08.121Z"
   },
   {
    "duration": 13,
    "start_time": "2022-04-20T12:54:35.051Z"
   },
   {
    "duration": 21,
    "start_time": "2022-04-20T12:55:29.280Z"
   },
   {
    "duration": 10,
    "start_time": "2022-04-20T12:55:42.438Z"
   },
   {
    "duration": 17,
    "start_time": "2022-04-20T12:55:45.023Z"
   },
   {
    "duration": 19,
    "start_time": "2022-04-20T12:56:27.914Z"
   },
   {
    "duration": 17,
    "start_time": "2022-04-20T12:56:34.913Z"
   },
   {
    "duration": 41,
    "start_time": "2022-04-20T12:57:07.906Z"
   },
   {
    "duration": 13,
    "start_time": "2022-04-20T12:57:18.559Z"
   },
   {
    "duration": 66,
    "start_time": "2022-04-20T12:57:26.058Z"
   },
   {
    "duration": 17,
    "start_time": "2022-04-20T12:57:56.682Z"
   },
   {
    "duration": 16,
    "start_time": "2022-04-20T12:57:56.938Z"
   },
   {
    "duration": 436,
    "start_time": "2022-04-20T12:59:03.058Z"
   },
   {
    "duration": 458,
    "start_time": "2022-04-20T13:01:55.632Z"
   },
   {
    "duration": 62,
    "start_time": "2022-04-20T13:02:17.612Z"
   },
   {
    "duration": 86,
    "start_time": "2022-04-20T13:02:28.142Z"
   },
   {
    "duration": 10,
    "start_time": "2022-04-20T13:02:39.565Z"
   },
   {
    "duration": 97,
    "start_time": "2022-04-20T13:02:41.045Z"
   },
   {
    "duration": 14,
    "start_time": "2022-04-20T13:02:59.813Z"
   },
   {
    "duration": 95,
    "start_time": "2022-04-20T13:03:13.411Z"
   },
   {
    "duration": 50,
    "start_time": "2022-04-20T13:03:43.499Z"
   },
   {
    "duration": 146,
    "start_time": "2022-04-20T13:04:26.458Z"
   },
   {
    "duration": 13,
    "start_time": "2022-04-20T13:04:57.777Z"
   },
   {
    "duration": 1741,
    "start_time": "2022-04-20T15:58:04.206Z"
   },
   {
    "duration": 178,
    "start_time": "2022-04-20T15:58:05.950Z"
   },
   {
    "duration": 8,
    "start_time": "2022-04-20T15:58:06.130Z"
   },
   {
    "duration": 48,
    "start_time": "2022-04-20T15:58:06.140Z"
   },
   {
    "duration": 14,
    "start_time": "2022-04-20T15:58:06.191Z"
   },
   {
    "duration": 496,
    "start_time": "2022-04-20T15:58:06.207Z"
   },
   {
    "duration": 5,
    "start_time": "2022-04-20T15:58:06.705Z"
   },
   {
    "duration": 576,
    "start_time": "2022-04-20T15:58:06.711Z"
   },
   {
    "duration": 5,
    "start_time": "2022-04-20T15:58:07.289Z"
   },
   {
    "duration": 7,
    "start_time": "2022-04-20T15:58:07.296Z"
   },
   {
    "duration": 293,
    "start_time": "2022-04-20T15:58:07.304Z"
   },
   {
    "duration": 5,
    "start_time": "2022-04-20T15:58:07.598Z"
   },
   {
    "duration": 394,
    "start_time": "2022-04-20T15:58:07.604Z"
   },
   {
    "duration": 133,
    "start_time": "2022-04-20T15:58:08.001Z"
   },
   {
    "duration": 14,
    "start_time": "2022-04-20T15:58:08.135Z"
   },
   {
    "duration": 29386,
    "start_time": "2022-04-20T15:58:08.151Z"
   },
   {
    "duration": 89,
    "start_time": "2022-04-20T15:58:37.539Z"
   },
   {
    "duration": 568,
    "start_time": "2022-04-20T15:58:37.630Z"
   },
   {
    "duration": 184,
    "start_time": "2022-04-20T15:58:38.200Z"
   },
   {
    "duration": 2411,
    "start_time": "2022-04-20T15:58:38.386Z"
   },
   {
    "duration": 7913,
    "start_time": "2022-04-20T15:58:40.799Z"
   },
   {
    "duration": 6707,
    "start_time": "2022-04-20T15:58:48.714Z"
   },
   {
    "duration": 6525,
    "start_time": "2022-04-20T15:58:55.423Z"
   },
   {
    "duration": 6464,
    "start_time": "2022-04-20T15:59:01.950Z"
   },
   {
    "duration": 4,
    "start_time": "2022-04-20T17:01:17.192Z"
   },
   {
    "duration": 3,
    "start_time": "2022-04-20T17:01:17.628Z"
   },
   {
    "duration": 3,
    "start_time": "2022-04-20T17:01:19.530Z"
   },
   {
    "duration": 40,
    "start_time": "2022-04-20T17:01:19.795Z"
   },
   {
    "duration": 10,
    "start_time": "2022-04-20T17:01:20.400Z"
   },
   {
    "duration": 5,
    "start_time": "2022-04-20T17:01:22.218Z"
   },
   {
    "duration": 461,
    "start_time": "2022-04-20T17:01:22.818Z"
   },
   {
    "duration": 6,
    "start_time": "2022-04-20T17:01:23.887Z"
   },
   {
    "duration": 4,
    "start_time": "2022-04-20T17:01:24.160Z"
   },
   {
    "duration": 285,
    "start_time": "2022-04-20T17:01:24.437Z"
   },
   {
    "duration": 4,
    "start_time": "2022-04-20T17:01:24.725Z"
   },
   {
    "duration": 405,
    "start_time": "2022-04-20T17:01:25.157Z"
   },
   {
    "duration": 14,
    "start_time": "2022-04-20T17:01:27.196Z"
   },
   {
    "duration": 5,
    "start_time": "2022-04-20T17:01:28.084Z"
   },
   {
    "duration": 29665,
    "start_time": "2022-04-20T17:01:28.617Z"
   },
   {
    "duration": 94,
    "start_time": "2022-04-20T17:01:58.284Z"
   },
   {
    "duration": 477,
    "start_time": "2022-04-20T17:01:58.380Z"
   },
   {
    "duration": 168,
    "start_time": "2022-04-20T17:01:58.859Z"
   },
   {
    "duration": 2219,
    "start_time": "2022-04-20T17:01:59.029Z"
   },
   {
    "duration": 6683,
    "start_time": "2022-04-20T17:02:01.251Z"
   },
   {
    "duration": 6844,
    "start_time": "2022-04-20T17:02:07.936Z"
   },
   {
    "duration": 10863,
    "start_time": "2022-04-20T17:02:14.782Z"
   },
   {
    "duration": 6779,
    "start_time": "2022-04-20T17:02:25.647Z"
   },
   {
    "duration": 3,
    "start_time": "2022-04-20T17:03:40.938Z"
   },
   {
    "duration": 18,
    "start_time": "2022-04-20T17:06:24.640Z"
   },
   {
    "duration": 10,
    "start_time": "2022-04-20T17:06:28.809Z"
   },
   {
    "duration": 173,
    "start_time": "2022-04-20T17:08:29.658Z"
   },
   {
    "duration": 7,
    "start_time": "2022-04-20T17:08:37.009Z"
   },
   {
    "duration": 65,
    "start_time": "2022-04-20T17:08:39.423Z"
   },
   {
    "duration": 14,
    "start_time": "2022-04-20T17:09:20.324Z"
   },
   {
    "duration": 12,
    "start_time": "2022-04-20T17:09:35.283Z"
   },
   {
    "duration": 6,
    "start_time": "2022-04-20T17:10:58.323Z"
   },
   {
    "duration": 14,
    "start_time": "2022-04-20T17:11:21.247Z"
   },
   {
    "duration": 7,
    "start_time": "2022-04-20T17:11:27.901Z"
   },
   {
    "duration": 7,
    "start_time": "2022-04-20T17:16:55.827Z"
   },
   {
    "duration": 114,
    "start_time": "2022-04-20T17:18:57.393Z"
   },
   {
    "duration": 115,
    "start_time": "2022-04-20T17:19:08.013Z"
   },
   {
    "duration": 6,
    "start_time": "2022-04-20T17:19:25.630Z"
   },
   {
    "duration": 5,
    "start_time": "2022-04-20T17:19:41.647Z"
   },
   {
    "duration": 3,
    "start_time": "2022-04-20T17:19:48.959Z"
   },
   {
    "duration": 12,
    "start_time": "2022-04-20T17:19:58.162Z"
   },
   {
    "duration": 3,
    "start_time": "2022-04-20T17:20:42.616Z"
   },
   {
    "duration": 4,
    "start_time": "2022-04-20T17:20:51.225Z"
   },
   {
    "duration": 111,
    "start_time": "2022-04-20T17:20:58.209Z"
   },
   {
    "duration": 5,
    "start_time": "2022-04-20T17:21:01.560Z"
   },
   {
    "duration": 6,
    "start_time": "2022-04-20T17:21:21.836Z"
   },
   {
    "duration": 3,
    "start_time": "2022-04-20T17:21:32.343Z"
   },
   {
    "duration": 4,
    "start_time": "2022-04-20T17:21:35.794Z"
   },
   {
    "duration": 13,
    "start_time": "2022-04-20T17:21:37.903Z"
   },
   {
    "duration": 5,
    "start_time": "2022-04-20T17:21:42.160Z"
   },
   {
    "duration": 7,
    "start_time": "2022-04-20T17:25:02.796Z"
   },
   {
    "duration": 115,
    "start_time": "2022-04-20T17:25:42.433Z"
   },
   {
    "duration": 13,
    "start_time": "2022-04-20T17:25:46.201Z"
   },
   {
    "duration": 10,
    "start_time": "2022-04-20T17:25:56.120Z"
   },
   {
    "duration": 120,
    "start_time": "2022-04-20T17:27:07.902Z"
   },
   {
    "duration": 7,
    "start_time": "2022-04-20T17:27:27.739Z"
   },
   {
    "duration": 464,
    "start_time": "2022-04-20T17:27:35.709Z"
   },
   {
    "duration": 406,
    "start_time": "2022-04-20T17:28:12.635Z"
   },
   {
    "duration": 464,
    "start_time": "2022-04-20T17:28:27.874Z"
   },
   {
    "duration": 6,
    "start_time": "2022-04-20T17:29:31.051Z"
   },
   {
    "duration": 794,
    "start_time": "2022-04-20T17:29:34.579Z"
   },
   {
    "duration": 105,
    "start_time": "2022-04-20T17:29:40.372Z"
   },
   {
    "duration": 15,
    "start_time": "2022-04-20T17:29:46.354Z"
   },
   {
    "duration": 18,
    "start_time": "2022-04-20T17:29:51.635Z"
   },
   {
    "duration": 9,
    "start_time": "2022-04-20T17:30:38.465Z"
   },
   {
    "duration": 444192,
    "start_time": "2022-04-20T17:30:39.733Z"
   },
   {
    "duration": 1654,
    "start_time": "2022-04-21T07:26:36.665Z"
   },
   {
    "duration": 154,
    "start_time": "2022-04-21T07:26:38.322Z"
   },
   {
    "duration": 12,
    "start_time": "2022-04-21T07:28:13.604Z"
   },
   {
    "duration": 65,
    "start_time": "2022-04-21T07:28:13.888Z"
   },
   {
    "duration": 13,
    "start_time": "2022-04-21T07:28:15.478Z"
   },
   {
    "duration": 963,
    "start_time": "2022-04-21T07:33:23.670Z"
   },
   {
    "duration": 4,
    "start_time": "2022-04-21T07:33:25.607Z"
   },
   {
    "duration": 10601,
    "start_time": "2022-04-21T07:33:26.112Z"
   },
   {
    "duration": 8,
    "start_time": "2022-04-21T07:36:17.194Z"
   },
   {
    "duration": 16,
    "start_time": "2022-04-21T07:36:59.996Z"
   },
   {
    "duration": 127,
    "start_time": "2022-04-21T07:38:38.686Z"
   },
   {
    "duration": 8,
    "start_time": "2022-04-21T07:39:06.210Z"
   },
   {
    "duration": 6,
    "start_time": "2022-04-21T07:39:50.209Z"
   },
   {
    "duration": 5,
    "start_time": "2022-04-21T07:40:49.092Z"
   },
   {
    "duration": 16,
    "start_time": "2022-04-21T07:40:57.643Z"
   },
   {
    "duration": 323,
    "start_time": "2022-04-21T07:42:12.631Z"
   },
   {
    "duration": 301,
    "start_time": "2022-04-21T07:42:16.009Z"
   },
   {
    "duration": 4,
    "start_time": "2022-04-21T07:42:23.008Z"
   },
   {
    "duration": 296,
    "start_time": "2022-04-21T07:42:29.914Z"
   },
   {
    "duration": 61,
    "start_time": "2022-04-21T07:43:24.809Z"
   },
   {
    "duration": 99,
    "start_time": "2022-04-21T07:43:28.709Z"
   },
   {
    "duration": 291,
    "start_time": "2022-04-21T07:43:52.056Z"
   },
   {
    "duration": 286,
    "start_time": "2022-04-21T07:44:06.089Z"
   },
   {
    "duration": 331,
    "start_time": "2022-04-21T07:44:12.909Z"
   },
   {
    "duration": 299,
    "start_time": "2022-04-21T07:44:16.210Z"
   },
   {
    "duration": 470,
    "start_time": "2022-04-21T07:44:21.709Z"
   },
   {
    "duration": 7,
    "start_time": "2022-04-21T07:44:41.473Z"
   },
   {
    "duration": 102,
    "start_time": "2022-04-21T07:44:44.107Z"
   },
   {
    "duration": 4,
    "start_time": "2022-04-21T07:46:17.592Z"
   },
   {
    "duration": 14,
    "start_time": "2022-04-21T07:46:18.851Z"
   },
   {
    "duration": 3,
    "start_time": "2022-04-21T07:46:31.167Z"
   },
   {
    "duration": 5,
    "start_time": "2022-04-21T07:46:32.146Z"
   },
   {
    "duration": 11,
    "start_time": "2022-04-21T07:46:33.257Z"
   },
   {
    "duration": 102,
    "start_time": "2022-04-21T07:55:02.607Z"
   },
   {
    "duration": 288,
    "start_time": "2022-04-21T07:55:02.720Z"
   },
   {
    "duration": 98,
    "start_time": "2022-04-21T07:55:09.309Z"
   },
   {
    "duration": 5100,
    "start_time": "2022-04-21T07:55:25.610Z"
   },
   {
    "duration": 7,
    "start_time": "2022-04-21T07:55:53.584Z"
   },
   {
    "duration": 107,
    "start_time": "2022-04-21T07:56:08.609Z"
   },
   {
    "duration": 3401,
    "start_time": "2022-04-21T07:56:27.210Z"
   },
   {
    "duration": 11,
    "start_time": "2022-04-21T07:56:41.326Z"
   },
   {
    "duration": 4,
    "start_time": "2022-04-21T07:56:47.310Z"
   },
   {
    "duration": 96,
    "start_time": "2022-04-21T07:56:47.910Z"
   },
   {
    "duration": 200,
    "start_time": "2022-04-21T07:56:49.811Z"
   },
   {
    "duration": 305,
    "start_time": "2022-04-21T07:56:52.108Z"
   },
   {
    "duration": 98,
    "start_time": "2022-04-21T07:56:57.611Z"
   },
   {
    "duration": 10,
    "start_time": "2022-04-21T07:57:01.011Z"
   },
   {
    "duration": 7,
    "start_time": "2022-04-21T07:57:01.309Z"
   },
   {
    "duration": 100,
    "start_time": "2022-04-21T07:58:06.310Z"
   },
   {
    "duration": 6,
    "start_time": "2022-04-21T08:00:40.322Z"
   },
   {
    "duration": 5,
    "start_time": "2022-04-21T08:00:48.884Z"
   },
   {
    "duration": 6,
    "start_time": "2022-04-21T08:00:52.270Z"
   },
   {
    "duration": 2,
    "start_time": "2022-04-21T09:05:58.856Z"
   },
   {
    "duration": 5,
    "start_time": "2022-04-21T09:06:02.610Z"
   },
   {
    "duration": 95,
    "start_time": "2022-04-21T09:06:16.114Z"
   },
   {
    "duration": 5,
    "start_time": "2022-04-21T09:06:16.409Z"
   },
   {
    "duration": 107,
    "start_time": "2022-04-21T09:06:23.609Z"
   },
   {
    "duration": 9,
    "start_time": "2022-04-21T09:08:23.010Z"
   },
   {
    "duration": 13,
    "start_time": "2022-04-21T09:08:28.856Z"
   },
   {
    "duration": 201,
    "start_time": "2022-04-21T09:08:48.609Z"
   },
   {
    "duration": 19,
    "start_time": "2022-04-21T09:09:04.303Z"
   },
   {
    "duration": 12,
    "start_time": "2022-04-21T09:09:22.696Z"
   },
   {
    "duration": 101,
    "start_time": "2022-04-21T09:09:29.609Z"
   },
   {
    "duration": 6,
    "start_time": "2022-04-21T09:09:35.540Z"
   },
   {
    "duration": 401,
    "start_time": "2022-04-21T09:10:05.910Z"
   },
   {
    "duration": 104,
    "start_time": "2022-04-21T09:10:32.009Z"
   },
   {
    "duration": 1805,
    "start_time": "2022-04-21T09:10:40.309Z"
   },
   {
    "duration": 930,
    "start_time": "2022-04-21T09:10:50.909Z"
   },
   {
    "duration": 6,
    "start_time": "2022-04-21T09:11:29.424Z"
   },
   {
    "duration": 102,
    "start_time": "2022-04-21T09:11:30.709Z"
   },
   {
    "duration": 198,
    "start_time": "2022-04-21T09:12:03.110Z"
   },
   {
    "duration": 122,
    "start_time": "2022-04-21T09:12:14.716Z"
   },
   {
    "duration": 70,
    "start_time": "2022-04-21T09:14:07.352Z"
   },
   {
    "duration": 29,
    "start_time": "2022-04-21T09:14:45.200Z"
   },
   {
    "duration": 6,
    "start_time": "2022-04-21T09:15:37.830Z"
   },
   {
    "duration": 44,
    "start_time": "2022-04-21T09:15:39.280Z"
   },
   {
    "duration": 102,
    "start_time": "2022-04-21T09:29:02.409Z"
   },
   {
    "duration": 197,
    "start_time": "2022-04-21T09:29:07.010Z"
   },
   {
    "duration": 7,
    "start_time": "2022-04-21T09:29:16.309Z"
   },
   {
    "duration": 6,
    "start_time": "2022-04-21T09:29:35.209Z"
   },
   {
    "duration": 13,
    "start_time": "2022-04-21T09:30:27.455Z"
   },
   {
    "duration": 5,
    "start_time": "2022-04-21T09:30:45.410Z"
   },
   {
    "duration": 4,
    "start_time": "2022-04-21T09:30:48.652Z"
   },
   {
    "duration": 12,
    "start_time": "2022-04-21T09:31:01.109Z"
   },
   {
    "duration": 8,
    "start_time": "2022-04-21T09:31:36.509Z"
   },
   {
    "duration": 4,
    "start_time": "2022-04-21T09:31:37.415Z"
   },
   {
    "duration": 208,
    "start_time": "2022-04-21T09:35:39.564Z"
   },
   {
    "duration": 48,
    "start_time": "2022-04-21T09:35:45.162Z"
   },
   {
    "duration": 4,
    "start_time": "2022-04-21T09:35:57.955Z"
   },
   {
    "duration": 521,
    "start_time": "2022-04-21T09:35:59.596Z"
   },
   {
    "duration": 648,
    "start_time": "2022-04-21T09:38:15.463Z"
   },
   {
    "duration": 2097,
    "start_time": "2022-04-21T09:38:28.509Z"
   },
   {
    "duration": 102,
    "start_time": "2022-04-21T10:13:50.708Z"
   },
   {
    "duration": 10,
    "start_time": "2022-04-21T10:13:54.508Z"
   },
   {
    "duration": 295,
    "start_time": "2022-04-21T10:13:54.820Z"
   },
   {
    "duration": 82,
    "start_time": "2022-04-21T10:51:28.153Z"
   },
   {
    "duration": 421,
    "start_time": "2022-04-21T11:06:26.209Z"
   },
   {
    "duration": 997,
    "start_time": "2022-04-21T11:07:44.012Z"
   },
   {
    "duration": 98,
    "start_time": "2022-04-21T11:08:01.711Z"
   },
   {
    "duration": 1108,
    "start_time": "2022-04-21T11:08:10.008Z"
   },
   {
    "duration": 1293,
    "start_time": "2022-04-21T11:08:21.716Z"
   },
   {
    "duration": 299,
    "start_time": "2022-04-21T11:09:02.508Z"
   },
   {
    "duration": 1203,
    "start_time": "2022-04-21T11:09:04.309Z"
   },
   {
    "duration": 3,
    "start_time": "2022-04-21T11:09:14.112Z"
   },
   {
    "duration": 15,
    "start_time": "2022-04-21T11:09:34.309Z"
   },
   {
    "duration": 7,
    "start_time": "2022-04-21T11:09:39.709Z"
   },
   {
    "duration": 14,
    "start_time": "2022-04-21T11:09:45.309Z"
   },
   {
    "duration": 7,
    "start_time": "2022-04-21T11:09:51.613Z"
   },
   {
    "duration": 9,
    "start_time": "2022-04-21T11:10:01.627Z"
   },
   {
    "duration": 8,
    "start_time": "2022-04-21T11:10:23.013Z"
   },
   {
    "duration": 314,
    "start_time": "2022-04-21T11:10:32.207Z"
   },
   {
    "duration": 212,
    "start_time": "2022-04-21T11:10:36.409Z"
   },
   {
    "duration": 106,
    "start_time": "2022-04-21T11:13:26.715Z"
   },
   {
    "duration": 24,
    "start_time": "2022-04-21T11:13:37.108Z"
   },
   {
    "duration": 6,
    "start_time": "2022-04-21T11:14:05.910Z"
   },
   {
    "duration": 9,
    "start_time": "2022-04-21T11:14:17.709Z"
   },
   {
    "duration": 98,
    "start_time": "2022-04-21T11:14:26.214Z"
   },
   {
    "duration": 99,
    "start_time": "2022-04-21T11:14:29.919Z"
   },
   {
    "duration": 115,
    "start_time": "2022-04-21T11:14:38.308Z"
   },
   {
    "duration": 112,
    "start_time": "2022-04-21T11:14:48.808Z"
   },
   {
    "duration": 6,
    "start_time": "2022-04-21T11:15:15.662Z"
   },
   {
    "duration": 13,
    "start_time": "2022-04-21T11:15:32.614Z"
   },
   {
    "duration": 13,
    "start_time": "2022-04-21T11:15:38.524Z"
   },
   {
    "duration": 60,
    "start_time": "2022-04-21T11:15:43.249Z"
   },
   {
    "duration": 57,
    "start_time": "2022-04-21T11:15:47.867Z"
   },
   {
    "duration": 58,
    "start_time": "2022-04-21T11:15:51.151Z"
   },
   {
    "duration": 62,
    "start_time": "2022-04-21T11:15:56.260Z"
   },
   {
    "duration": 106,
    "start_time": "2022-04-21T11:16:02.903Z"
   },
   {
    "duration": 12,
    "start_time": "2022-04-21T11:16:06.122Z"
   },
   {
    "duration": 47,
    "start_time": "2022-04-21T11:16:10.262Z"
   },
   {
    "duration": 71,
    "start_time": "2022-04-21T11:16:15.042Z"
   },
   {
    "duration": 112,
    "start_time": "2022-04-21T11:16:20.010Z"
   },
   {
    "duration": 76,
    "start_time": "2022-04-21T11:16:28.133Z"
   },
   {
    "duration": 352,
    "start_time": "2022-04-21T11:18:42.747Z"
   },
   {
    "duration": 404,
    "start_time": "2022-04-21T11:18:49.017Z"
   },
   {
    "duration": 414,
    "start_time": "2022-04-21T11:18:52.805Z"
   },
   {
    "duration": 378,
    "start_time": "2022-04-21T11:18:57.829Z"
   },
   {
    "duration": 354,
    "start_time": "2022-04-21T11:19:04.164Z"
   },
   {
    "duration": 406,
    "start_time": "2022-04-21T11:19:10.019Z"
   },
   {
    "duration": 389,
    "start_time": "2022-04-21T11:20:05.145Z"
   },
   {
    "duration": 393,
    "start_time": "2022-04-21T11:20:12.109Z"
   },
   {
    "duration": 401,
    "start_time": "2022-04-21T11:20:16.997Z"
   },
   {
    "duration": 11,
    "start_time": "2022-04-21T11:25:01.063Z"
   },
   {
    "duration": 5,
    "start_time": "2022-04-21T11:25:17.634Z"
   },
   {
    "duration": 385,
    "start_time": "2022-04-21T11:25:25.009Z"
   },
   {
    "duration": 422,
    "start_time": "2022-04-21T11:25:33.911Z"
   },
   {
    "duration": 367,
    "start_time": "2022-04-21T11:25:45.741Z"
   },
   {
    "duration": 81,
    "start_time": "2022-04-21T11:26:30.407Z"
   },
   {
    "duration": 23,
    "start_time": "2022-04-21T11:26:34.494Z"
   },
   {
    "duration": 359,
    "start_time": "2022-04-21T11:26:43.386Z"
   },
   {
    "duration": 217,
    "start_time": "2022-04-21T11:27:06.459Z"
   },
   {
    "duration": 385,
    "start_time": "2022-04-21T11:27:12.206Z"
   },
   {
    "duration": 386,
    "start_time": "2022-04-21T11:27:31.589Z"
   },
   {
    "duration": 395,
    "start_time": "2022-04-21T11:27:57.502Z"
   },
   {
    "duration": 329,
    "start_time": "2022-04-21T11:28:02.353Z"
   },
   {
    "duration": 17,
    "start_time": "2022-04-21T11:28:37.568Z"
   },
   {
    "duration": 340,
    "start_time": "2022-04-21T11:28:50.952Z"
   },
   {
    "duration": 4,
    "start_time": "2022-04-21T11:29:10.199Z"
   },
   {
    "duration": 408,
    "start_time": "2022-04-21T11:29:18.244Z"
   },
   {
    "duration": 388,
    "start_time": "2022-04-21T11:29:51.633Z"
   },
   {
    "duration": 6,
    "start_time": "2022-04-21T11:32:56.280Z"
   },
   {
    "duration": 9,
    "start_time": "2022-04-21T11:33:00.481Z"
   },
   {
    "duration": 158,
    "start_time": "2022-04-21T11:37:13.757Z"
   },
   {
    "duration": 71,
    "start_time": "2022-04-21T11:37:14.162Z"
   },
   {
    "duration": 5,
    "start_time": "2022-04-21T11:37:59.141Z"
   },
   {
    "duration": 23,
    "start_time": "2022-04-21T11:38:13.526Z"
   },
   {
    "duration": 70,
    "start_time": "2022-04-21T11:38:32.149Z"
   },
   {
    "duration": 39,
    "start_time": "2022-04-21T11:38:35.588Z"
   },
   {
    "duration": 47,
    "start_time": "2022-04-21T11:38:38.671Z"
   },
   {
    "duration": 19,
    "start_time": "2022-04-21T11:38:45.423Z"
   },
   {
    "duration": 215,
    "start_time": "2022-04-21T11:39:03.602Z"
   },
   {
    "duration": 6,
    "start_time": "2022-04-21T11:39:16.867Z"
   },
   {
    "duration": 6,
    "start_time": "2022-04-21T11:39:44.778Z"
   },
   {
    "duration": 9,
    "start_time": "2022-04-21T11:39:49.645Z"
   },
   {
    "duration": 6,
    "start_time": "2022-04-21T11:40:06.882Z"
   },
   {
    "duration": 6,
    "start_time": "2022-04-21T11:40:59.264Z"
   },
   {
    "duration": 13171,
    "start_time": "2022-04-21T11:41:18.582Z"
   },
   {
    "duration": 58842,
    "start_time": "2022-04-21T11:41:35.171Z"
   },
   {
    "duration": 103,
    "start_time": "2022-04-21T11:42:34.018Z"
   },
   {
    "duration": 14,
    "start_time": "2022-04-21T11:42:38.954Z"
   },
   {
    "duration": 6,
    "start_time": "2022-04-21T11:43:17.003Z"
   },
   {
    "duration": 516358,
    "start_time": "2022-04-21T11:48:01.168Z"
   },
   {
    "duration": 10,
    "start_time": "2022-04-21T11:56:37.609Z"
   },
   {
    "duration": 2057,
    "start_time": "2022-04-21T15:49:40.929Z"
   },
   {
    "duration": 687,
    "start_time": "2022-04-21T15:49:46.373Z"
   },
   {
    "duration": 85,
    "start_time": "2022-04-21T15:49:47.897Z"
   },
   {
    "duration": 13,
    "start_time": "2022-04-21T15:49:48.852Z"
   },
   {
    "duration": 126,
    "start_time": "2022-04-21T15:55:26.812Z"
   },
   {
    "duration": 2,
    "start_time": "2022-04-21T15:55:55.344Z"
   },
   {
    "duration": 10,
    "start_time": "2022-04-21T15:55:59.637Z"
   },
   {
    "duration": 418966,
    "start_time": "2022-04-21T15:56:11.869Z"
   },
   {
    "duration": 7,
    "start_time": "2022-04-21T16:03:10.837Z"
   },
   {
    "duration": 559482,
    "start_time": "2022-04-21T16:12:23.442Z"
   },
   {
    "duration": 5,
    "start_time": "2022-04-21T16:21:42.925Z"
   },
   {
    "duration": 447011,
    "start_time": "2022-04-21T16:21:42.932Z"
   },
   {
    "duration": 14,
    "start_time": "2022-04-21T16:29:09.945Z"
   },
   {
    "duration": 0,
    "start_time": "2022-04-21T16:29:09.961Z"
   },
   {
    "duration": 0,
    "start_time": "2022-04-21T16:29:09.963Z"
   },
   {
    "duration": 2807550,
    "start_time": "2022-04-21T16:29:47.414Z"
   },
   {
    "duration": 0,
    "start_time": "2022-04-21T17:16:34.966Z"
   },
   {
    "duration": 92,
    "start_time": "2022-04-21T17:17:17.327Z"
   },
   {
    "duration": 13,
    "start_time": "2022-04-21T17:25:35.311Z"
   },
   {
    "duration": 3,
    "start_time": "2022-04-21T17:25:39.968Z"
   },
   {
    "duration": 255,
    "start_time": "2022-04-21T17:25:43.473Z"
   },
   {
    "duration": 222,
    "start_time": "2022-04-21T17:25:57.404Z"
   },
   {
    "duration": 217,
    "start_time": "2022-04-21T17:26:04.964Z"
   },
   {
    "duration": 221,
    "start_time": "2022-04-21T17:26:11.969Z"
   },
   {
    "duration": 214,
    "start_time": "2022-04-21T17:26:21.585Z"
   },
   {
    "duration": 221,
    "start_time": "2022-04-21T17:26:38.447Z"
   },
   {
    "duration": 13726,
    "start_time": "2022-04-22T11:08:47.037Z"
   },
   {
    "duration": 584,
    "start_time": "2022-04-22T11:09:00.764Z"
   },
   {
    "duration": 27,
    "start_time": "2022-04-22T11:09:01.432Z"
   },
   {
    "duration": 493,
    "start_time": "2022-04-22T11:09:01.546Z"
   },
   {
    "duration": 16,
    "start_time": "2022-04-22T11:11:04.737Z"
   },
   {
    "duration": 8,
    "start_time": "2022-04-22T11:13:27.949Z"
   },
   {
    "duration": 214,
    "start_time": "2022-04-22T11:13:43.534Z"
   },
   {
    "duration": 97,
    "start_time": "2022-04-22T11:13:43.755Z"
   },
   {
    "duration": 9,
    "start_time": "2022-04-22T11:15:04.635Z"
   },
   {
    "duration": 214,
    "start_time": "2022-04-22T11:31:59.644Z"
   },
   {
    "duration": 997,
    "start_time": "2022-04-22T11:38:31.261Z"
   },
   {
    "duration": 94,
    "start_time": "2022-04-22T11:38:36.564Z"
   },
   {
    "duration": 200,
    "start_time": "2022-04-22T11:38:39.943Z"
   },
   {
    "duration": 16,
    "start_time": "2022-04-22T11:38:48.041Z"
   },
   {
    "duration": 0,
    "start_time": "2022-04-22T11:38:48.135Z"
   },
   {
    "duration": 317,
    "start_time": "2022-04-22T11:38:57.434Z"
   },
   {
    "duration": 76,
    "start_time": "2022-04-22T11:39:01.664Z"
   },
   {
    "duration": 150929,
    "start_time": "2022-04-22T11:39:02.150Z"
   },
   {
    "duration": 335,
    "start_time": "2022-04-22T11:41:33.134Z"
   },
   {
    "duration": 1667,
    "start_time": "2022-04-22T11:41:33.471Z"
   },
   {
    "duration": 1221,
    "start_time": "2022-04-22T11:44:28.553Z"
   },
   {
    "duration": 1178,
    "start_time": "2022-04-22T11:45:20.579Z"
   },
   {
    "duration": 956,
    "start_time": "2022-04-22T11:45:41.294Z"
   },
   {
    "duration": 953,
    "start_time": "2022-04-22T11:45:51.297Z"
   },
   {
    "duration": 15,
    "start_time": "2022-04-22T11:54:07.041Z"
   },
   {
    "duration": 25,
    "start_time": "2022-04-22T11:54:09.611Z"
   },
   {
    "duration": 3,
    "start_time": "2022-04-22T11:54:12.006Z"
   },
   {
    "duration": 224,
    "start_time": "2022-04-22T11:54:12.823Z"
   },
   {
    "duration": 7,
    "start_time": "2022-04-22T11:54:14.903Z"
   },
   {
    "duration": 138,
    "start_time": "2022-04-22T11:54:16.315Z"
   },
   {
    "duration": 30,
    "start_time": "2022-04-22T11:54:42.436Z"
   },
   {
    "duration": 3091,
    "start_time": "2022-04-22T11:55:01.249Z"
   },
   {
    "duration": 106,
    "start_time": "2022-04-22T11:55:08.948Z"
   },
   {
    "duration": 509,
    "start_time": "2022-04-22T11:55:41.254Z"
   },
   {
    "duration": 582,
    "start_time": "2022-04-22T11:55:50.274Z"
   },
   {
    "duration": 816,
    "start_time": "2022-04-22T11:56:00.432Z"
   },
   {
    "duration": 699,
    "start_time": "2022-04-22T11:56:10.772Z"
   },
   {
    "duration": 734,
    "start_time": "2022-04-22T11:56:30.434Z"
   },
   {
    "duration": 706,
    "start_time": "2022-04-22T11:56:37.647Z"
   },
   {
    "duration": 771,
    "start_time": "2022-04-22T11:56:45.373Z"
   },
   {
    "duration": 618,
    "start_time": "2022-04-22T11:57:15.755Z"
   },
   {
    "duration": 796,
    "start_time": "2022-04-22T11:58:16.874Z"
   },
   {
    "duration": 584,
    "start_time": "2022-04-22T11:58:48.673Z"
   },
   {
    "duration": 596,
    "start_time": "2022-04-22T11:58:58.057Z"
   },
   {
    "duration": 98,
    "start_time": "2022-04-22T12:20:49.862Z"
   },
   {
    "duration": 7,
    "start_time": "2022-04-22T12:22:05.235Z"
   },
   {
    "duration": 102,
    "start_time": "2022-04-22T12:22:38.335Z"
   },
   {
    "duration": 100,
    "start_time": "2022-04-22T12:22:43.235Z"
   },
   {
    "duration": 16,
    "start_time": "2022-04-22T12:22:48.134Z"
   },
   {
    "duration": 8,
    "start_time": "2022-04-22T12:22:53.233Z"
   },
   {
    "duration": 79,
    "start_time": "2022-04-22T16:00:15.338Z"
   },
   {
    "duration": 3403,
    "start_time": "2022-04-22T16:00:18.840Z"
   },
   {
    "duration": 327,
    "start_time": "2022-04-22T16:00:22.251Z"
   },
   {
    "duration": 21,
    "start_time": "2022-04-22T16:00:22.581Z"
   },
   {
    "duration": 5,
    "start_time": "2022-04-22T16:00:22.608Z"
   },
   {
    "duration": 61,
    "start_time": "2022-04-22T16:01:17.912Z"
   },
   {
    "duration": 10,
    "start_time": "2022-04-22T16:01:20.338Z"
   },
   {
    "duration": 28,
    "start_time": "2022-04-22T16:01:32.772Z"
   },
   {
    "duration": 376,
    "start_time": "2022-04-22T16:01:37.623Z"
   },
   {
    "duration": 41,
    "start_time": "2022-04-22T16:01:40.263Z"
   },
   {
    "duration": 8,
    "start_time": "2022-04-22T16:01:51.175Z"
   },
   {
    "duration": 15,
    "start_time": "2022-04-22T16:02:01.629Z"
   },
   {
    "duration": 8,
    "start_time": "2022-04-22T16:02:04.625Z"
   },
   {
    "duration": 13,
    "start_time": "2022-04-22T16:02:37.860Z"
   },
   {
    "duration": 39,
    "start_time": "2022-04-22T16:02:53.949Z"
   },
   {
    "duration": 23,
    "start_time": "2022-04-22T16:02:56.880Z"
   },
   {
    "duration": 6,
    "start_time": "2022-04-22T16:03:02.426Z"
   },
   {
    "duration": 28,
    "start_time": "2022-04-22T16:03:36.667Z"
   },
   {
    "duration": 6,
    "start_time": "2022-04-22T16:03:39.176Z"
   },
   {
    "duration": 22,
    "start_time": "2022-04-22T16:03:43.878Z"
   },
   {
    "duration": 192,
    "start_time": "2022-04-22T16:09:59.669Z"
   },
   {
    "duration": 507,
    "start_time": "2022-04-22T16:10:20.209Z"
   },
   {
    "duration": 20,
    "start_time": "2022-04-22T16:10:21.525Z"
   },
   {
    "duration": 4,
    "start_time": "2022-04-22T16:10:33.366Z"
   },
   {
    "duration": 18,
    "start_time": "2022-04-22T16:10:44.269Z"
   },
   {
    "duration": 16,
    "start_time": "2022-04-22T16:12:13.100Z"
   },
   {
    "duration": 9,
    "start_time": "2022-04-22T16:12:28.565Z"
   },
   {
    "duration": 7,
    "start_time": "2022-04-22T16:12:37.051Z"
   },
   {
    "duration": 10,
    "start_time": "2022-04-22T16:12:48.513Z"
   },
   {
    "duration": 8,
    "start_time": "2022-04-22T16:13:00.067Z"
   },
   {
    "duration": 11,
    "start_time": "2022-04-22T16:18:56.676Z"
   },
   {
    "duration": 57,
    "start_time": "2022-04-22T16:19:00.934Z"
   },
   {
    "duration": 16,
    "start_time": "2022-04-22T16:19:01.247Z"
   },
   {
    "duration": 10,
    "start_time": "2022-04-22T16:19:06.951Z"
   },
   {
    "duration": 12,
    "start_time": "2022-04-22T16:19:09.892Z"
   },
   {
    "duration": 5,
    "start_time": "2022-04-22T16:19:28.341Z"
   },
   {
    "duration": 7,
    "start_time": "2022-04-22T16:19:37.587Z"
   },
   {
    "duration": 6,
    "start_time": "2022-04-22T16:19:42.419Z"
   },
   {
    "duration": 6,
    "start_time": "2022-04-22T16:19:47.396Z"
   },
   {
    "duration": 13,
    "start_time": "2022-04-22T16:20:53.868Z"
   },
   {
    "duration": 7,
    "start_time": "2022-04-22T16:20:59.879Z"
   },
   {
    "duration": 5,
    "start_time": "2022-04-22T16:21:11.663Z"
   },
   {
    "duration": 7,
    "start_time": "2022-04-22T16:21:15.397Z"
   },
   {
    "duration": 6,
    "start_time": "2022-04-22T16:21:32.421Z"
   },
   {
    "duration": 7,
    "start_time": "2022-04-22T16:23:59.079Z"
   },
   {
    "duration": 8,
    "start_time": "2022-04-22T16:24:02.552Z"
   },
   {
    "duration": 51,
    "start_time": "2022-04-22T16:24:21.784Z"
   },
   {
    "duration": 11,
    "start_time": "2022-04-22T16:24:23.930Z"
   },
   {
    "duration": 6,
    "start_time": "2022-04-22T16:24:30.260Z"
   },
   {
    "duration": 6,
    "start_time": "2022-04-22T16:24:52.758Z"
   },
   {
    "duration": 839,
    "start_time": "2022-04-22T16:24:52.938Z"
   },
   {
    "duration": 7,
    "start_time": "2022-04-22T16:26:32.972Z"
   },
   {
    "duration": 15,
    "start_time": "2022-04-22T16:27:54.724Z"
   },
   {
    "duration": 13,
    "start_time": "2022-04-22T16:28:08.313Z"
   },
   {
    "duration": 5,
    "start_time": "2022-04-22T16:28:11.420Z"
   },
   {
    "duration": 6,
    "start_time": "2022-04-22T16:28:17.840Z"
   },
   {
    "duration": 5,
    "start_time": "2022-04-22T16:28:19.314Z"
   },
   {
    "duration": 13,
    "start_time": "2022-04-22T16:28:32.168Z"
   },
   {
    "duration": 7,
    "start_time": "2022-04-22T16:28:35.618Z"
   },
   {
    "duration": 5,
    "start_time": "2022-04-22T16:28:40.001Z"
   },
   {
    "duration": 6,
    "start_time": "2022-04-22T16:28:45.511Z"
   },
   {
    "duration": 13,
    "start_time": "2022-04-22T16:29:48.936Z"
   },
   {
    "duration": 50,
    "start_time": "2022-04-22T16:30:00.360Z"
   },
   {
    "duration": 13,
    "start_time": "2022-04-22T16:30:06.306Z"
   },
   {
    "duration": 4,
    "start_time": "2022-04-22T16:32:28.171Z"
   },
   {
    "duration": 29,
    "start_time": "2022-04-22T16:34:23.194Z"
   },
   {
    "duration": 8,
    "start_time": "2022-04-22T16:34:46.991Z"
   },
   {
    "duration": 10,
    "start_time": "2022-04-22T16:34:53.893Z"
   },
   {
    "duration": 34,
    "start_time": "2022-04-22T16:35:06.847Z"
   },
   {
    "duration": 5,
    "start_time": "2022-04-22T16:35:17.402Z"
   },
   {
    "duration": 27,
    "start_time": "2022-04-22T16:35:19.614Z"
   },
   {
    "duration": 15,
    "start_time": "2022-04-22T16:35:29.573Z"
   },
   {
    "duration": 16,
    "start_time": "2022-04-22T16:36:11.491Z"
   },
   {
    "duration": 7,
    "start_time": "2022-04-22T16:36:15.373Z"
   },
   {
    "duration": 9,
    "start_time": "2022-04-22T16:36:22.531Z"
   },
   {
    "duration": 15,
    "start_time": "2022-04-22T16:36:27.488Z"
   },
   {
    "duration": 5,
    "start_time": "2022-04-22T16:36:50.341Z"
   },
   {
    "duration": 27,
    "start_time": "2022-04-22T16:36:55.835Z"
   },
   {
    "duration": 16,
    "start_time": "2022-04-22T16:36:57.211Z"
   },
   {
    "duration": 16,
    "start_time": "2022-04-22T16:37:33.083Z"
   },
   {
    "duration": 17,
    "start_time": "2022-04-22T16:37:39.446Z"
   },
   {
    "duration": 97,
    "start_time": "2022-04-22T16:37:49.811Z"
   },
   {
    "duration": 4,
    "start_time": "2022-04-22T16:37:55.512Z"
   },
   {
    "duration": 19,
    "start_time": "2022-04-22T16:37:58.438Z"
   },
   {
    "duration": 20,
    "start_time": "2022-04-22T16:38:01.005Z"
   },
   {
    "duration": 19,
    "start_time": "2022-04-22T16:38:07.903Z"
   },
   {
    "duration": 4,
    "start_time": "2022-04-22T16:38:08.741Z"
   },
   {
    "duration": 18,
    "start_time": "2022-04-22T16:38:09.476Z"
   },
   {
    "duration": 7,
    "start_time": "2022-04-22T16:38:49.440Z"
   },
   {
    "duration": 5,
    "start_time": "2022-04-22T16:38:51.380Z"
   },
   {
    "duration": 8,
    "start_time": "2022-04-22T16:38:52.172Z"
   },
   {
    "duration": 16,
    "start_time": "2022-04-22T16:38:53.767Z"
   },
   {
    "duration": 11,
    "start_time": "2022-04-22T16:38:59.927Z"
   },
   {
    "duration": 4,
    "start_time": "2022-04-22T16:39:00.242Z"
   },
   {
    "duration": 14,
    "start_time": "2022-04-22T16:39:02.385Z"
   },
   {
    "duration": 4,
    "start_time": "2022-04-22T16:39:24.336Z"
   },
   {
    "duration": 31,
    "start_time": "2022-04-22T16:39:26.323Z"
   },
   {
    "duration": 4,
    "start_time": "2022-04-22T16:39:35.312Z"
   },
   {
    "duration": 30,
    "start_time": "2022-04-22T16:39:37.009Z"
   },
   {
    "duration": 15,
    "start_time": "2022-04-22T16:39:44.493Z"
   },
   {
    "duration": 4,
    "start_time": "2022-04-22T16:40:35.445Z"
   },
   {
    "duration": 30,
    "start_time": "2022-04-22T16:40:37.190Z"
   },
   {
    "duration": 4,
    "start_time": "2022-04-22T16:40:49.347Z"
   },
   {
    "duration": 26,
    "start_time": "2022-04-22T16:40:50.997Z"
   },
   {
    "duration": 13,
    "start_time": "2022-04-22T16:40:52.669Z"
   },
   {
    "duration": 4,
    "start_time": "2022-04-22T16:41:18.050Z"
   },
   {
    "duration": 27,
    "start_time": "2022-04-22T16:41:20.041Z"
   },
   {
    "duration": 4,
    "start_time": "2022-04-22T16:42:20.208Z"
   },
   {
    "duration": 28,
    "start_time": "2022-04-22T16:42:21.805Z"
   },
   {
    "duration": 35,
    "start_time": "2022-04-22T16:42:53.507Z"
   },
   {
    "duration": 6,
    "start_time": "2022-04-22T16:42:58.163Z"
   },
   {
    "duration": 47,
    "start_time": "2022-04-22T16:42:59.694Z"
   },
   {
    "duration": 43,
    "start_time": "2022-04-22T16:43:23.476Z"
   },
   {
    "duration": 48,
    "start_time": "2022-04-22T16:43:30.017Z"
   },
   {
    "duration": 55,
    "start_time": "2022-04-22T16:43:41.339Z"
   },
   {
    "duration": 964,
    "start_time": "2022-04-22T16:43:58.234Z"
   },
   {
    "duration": 36,
    "start_time": "2022-04-22T16:44:11.186Z"
   },
   {
    "duration": 1015,
    "start_time": "2022-04-22T16:44:21.004Z"
   },
   {
    "duration": 936,
    "start_time": "2022-04-22T16:44:25.840Z"
   },
   {
    "duration": 29,
    "start_time": "2022-04-22T16:44:38.393Z"
   },
   {
    "duration": 955,
    "start_time": "2022-04-22T16:44:44.807Z"
   },
   {
    "duration": 40,
    "start_time": "2022-04-22T16:44:56.463Z"
   },
   {
    "duration": 29,
    "start_time": "2022-04-22T16:45:16.846Z"
   },
   {
    "duration": 868,
    "start_time": "2022-04-22T16:45:30.750Z"
   },
   {
    "duration": 992,
    "start_time": "2022-04-22T16:45:36.025Z"
   },
   {
    "duration": 966,
    "start_time": "2022-04-22T16:45:54.906Z"
   },
   {
    "duration": 910,
    "start_time": "2022-04-22T16:46:31.586Z"
   },
   {
    "duration": 580,
    "start_time": "2022-04-22T16:46:57.221Z"
   },
   {
    "duration": 945,
    "start_time": "2022-04-22T16:47:53.038Z"
   },
   {
    "duration": 937,
    "start_time": "2022-04-22T16:47:58.769Z"
   },
   {
    "duration": 4,
    "start_time": "2022-04-22T16:48:05.603Z"
   },
   {
    "duration": 62,
    "start_time": "2022-04-22T16:48:10.066Z"
   },
   {
    "duration": 13,
    "start_time": "2022-04-22T16:48:11.862Z"
   },
   {
    "duration": 11,
    "start_time": "2022-04-22T16:48:28.611Z"
   },
   {
    "duration": 13,
    "start_time": "2022-04-22T16:48:36.428Z"
   },
   {
    "duration": 15,
    "start_time": "2022-04-22T16:48:40.122Z"
   },
   {
    "duration": 13,
    "start_time": "2022-04-22T16:49:08.856Z"
   },
   {
    "duration": 5,
    "start_time": "2022-04-22T16:52:04.241Z"
   },
   {
    "duration": 13,
    "start_time": "2022-04-22T16:52:07.920Z"
   },
   {
    "duration": 57,
    "start_time": "2022-04-22T16:52:18.060Z"
   },
   {
    "duration": 5,
    "start_time": "2022-04-22T16:52:29.665Z"
   },
   {
    "duration": 58,
    "start_time": "2022-04-22T16:52:36.826Z"
   },
   {
    "duration": 149,
    "start_time": "2022-04-22T16:52:39.018Z"
   },
   {
    "duration": 10,
    "start_time": "2022-04-22T16:59:02.471Z"
   },
   {
    "duration": 16,
    "start_time": "2022-04-22T16:59:08.606Z"
   },
   {
    "duration": 9,
    "start_time": "2022-04-22T16:59:34.588Z"
   },
   {
    "duration": 6,
    "start_time": "2022-04-22T17:00:15.226Z"
   },
   {
    "duration": 6,
    "start_time": "2022-04-22T17:00:44.637Z"
   },
   {
    "duration": 6,
    "start_time": "2022-04-22T17:00:53.443Z"
   },
   {
    "duration": 10,
    "start_time": "2022-04-22T17:01:15.650Z"
   },
   {
    "duration": 10,
    "start_time": "2022-04-22T17:01:19.605Z"
   },
   {
    "duration": 13,
    "start_time": "2022-04-22T17:02:39.851Z"
   },
   {
    "duration": 7,
    "start_time": "2022-04-22T17:02:52.876Z"
   },
   {
    "duration": 8,
    "start_time": "2022-04-22T17:03:18.254Z"
   },
   {
    "duration": 7,
    "start_time": "2022-04-22T17:03:34.841Z"
   },
   {
    "duration": 6,
    "start_time": "2022-04-22T17:03:47.012Z"
   },
   {
    "duration": 6,
    "start_time": "2022-04-22T17:04:18.660Z"
   },
   {
    "duration": 6,
    "start_time": "2022-04-22T17:04:22.670Z"
   },
   {
    "duration": 1034,
    "start_time": "2022-04-22T17:07:25.909Z"
   },
   {
    "duration": 44,
    "start_time": "2022-04-22T17:07:40.426Z"
   },
   {
    "duration": 720,
    "start_time": "2022-04-22T17:07:44.548Z"
   },
   {
    "duration": 8,
    "start_time": "2022-04-22T17:12:01.059Z"
   },
   {
    "duration": 15,
    "start_time": "2022-04-22T17:12:03.083Z"
   },
   {
    "duration": 2211,
    "start_time": "2022-04-22T17:12:08.786Z"
   },
   {
    "duration": 45,
    "start_time": "2022-04-22T17:12:21.426Z"
   },
   {
    "duration": 12,
    "start_time": "2022-04-22T17:12:23.663Z"
   },
   {
    "duration": 7,
    "start_time": "2022-04-22T17:12:28.577Z"
   },
   {
    "duration": 11,
    "start_time": "2022-04-22T17:12:52.919Z"
   },
   {
    "duration": 1472,
    "start_time": "2022-04-22T17:13:01.967Z"
   },
   {
    "duration": 12,
    "start_time": "2022-04-22T17:13:17.290Z"
   },
   {
    "duration": 701,
    "start_time": "2022-04-22T17:13:18.770Z"
   },
   {
    "duration": 19,
    "start_time": "2022-04-22T17:13:40.457Z"
   },
   {
    "duration": 2540,
    "start_time": "2022-04-22T17:13:43.566Z"
   },
   {
    "duration": 9,
    "start_time": "2022-04-22T17:14:17.897Z"
   },
   {
    "duration": 17,
    "start_time": "2022-04-22T17:14:20.002Z"
   },
   {
    "duration": 787,
    "start_time": "2022-04-22T17:14:37.715Z"
   },
   {
    "duration": 18,
    "start_time": "2022-04-22T17:14:40.321Z"
   },
   {
    "duration": 705,
    "start_time": "2022-04-22T17:15:14.791Z"
   },
   {
    "duration": 26940,
    "start_time": "2022-04-22T17:15:40.386Z"
   },
   {
    "duration": 1567,
    "start_time": "2022-04-22T17:16:23.090Z"
   },
   {
    "duration": 26,
    "start_time": "2022-04-22T17:16:26.489Z"
   },
   {
    "duration": 9,
    "start_time": "2022-04-22T17:16:41.521Z"
   },
   {
    "duration": 4,
    "start_time": "2022-04-22T17:54:23.148Z"
   },
   {
    "duration": 14,
    "start_time": "2022-04-22T17:54:46.400Z"
   },
   {
    "duration": 3,
    "start_time": "2022-04-22T17:54:52.621Z"
   },
   {
    "duration": 5,
    "start_time": "2022-04-22T17:54:53.173Z"
   },
   {
    "duration": 24,
    "start_time": "2022-04-22T17:54:57.009Z"
   },
   {
    "duration": 5,
    "start_time": "2022-04-22T17:55:05.903Z"
   },
   {
    "duration": 521,
    "start_time": "2022-04-22T17:55:09.541Z"
   },
   {
    "duration": 548105,
    "start_time": "2022-04-22T17:55:21.660Z"
   },
   {
    "duration": 8,
    "start_time": "2022-04-22T18:04:29.854Z"
   },
   {
    "duration": 22,
    "start_time": "2022-04-22T18:11:53.288Z"
   },
   {
    "duration": 18,
    "start_time": "2022-04-22T18:11:55.387Z"
   },
   {
    "duration": 59,
    "start_time": "2022-04-22T18:12:07.255Z"
   },
   {
    "duration": 16,
    "start_time": "2022-04-22T18:12:21.951Z"
   },
   {
    "duration": 3,
    "start_time": "2022-04-22T18:15:51.853Z"
   },
   {
    "duration": 3083,
    "start_time": "2022-04-22T18:16:03.836Z"
   },
   {
    "duration": 23,
    "start_time": "2022-04-22T18:16:44.775Z"
   },
   {
    "duration": 5,
    "start_time": "2022-04-22T18:16:55.927Z"
   },
   {
    "duration": 10,
    "start_time": "2022-04-22T18:17:00.896Z"
   },
   {
    "duration": 12,
    "start_time": "2022-04-22T18:17:45.030Z"
   },
   {
    "duration": 13,
    "start_time": "2022-04-22T18:18:25.646Z"
   },
   {
    "duration": 14,
    "start_time": "2022-04-22T18:18:29.878Z"
   },
   {
    "duration": 1068,
    "start_time": "2022-04-22T18:20:30.602Z"
   },
   {
    "duration": 421,
    "start_time": "2022-04-22T18:20:37.387Z"
   },
   {
    "duration": 125,
    "start_time": "2022-04-22T18:20:44.337Z"
   },
   {
    "duration": 31,
    "start_time": "2022-04-22T18:21:21.500Z"
   },
   {
    "duration": 118,
    "start_time": "2022-04-22T18:21:39.986Z"
   },
   {
    "duration": 4,
    "start_time": "2022-04-22T18:21:42.874Z"
   },
   {
    "duration": 1111,
    "start_time": "2022-04-22T18:21:45.681Z"
   },
   {
    "duration": 4,
    "start_time": "2022-04-22T18:21:53.405Z"
   },
   {
    "duration": 975,
    "start_time": "2022-04-22T18:21:54.384Z"
   },
   {
    "duration": 29,
    "start_time": "2022-04-22T18:22:18.197Z"
   },
   {
    "duration": 32,
    "start_time": "2022-04-22T18:22:27.446Z"
   },
   {
    "duration": 101,
    "start_time": "2022-04-22T18:23:09.741Z"
   },
   {
    "duration": 99,
    "start_time": "2022-04-22T18:23:15.790Z"
   },
   {
    "duration": 38,
    "start_time": "2022-04-22T18:24:25.931Z"
   },
   {
    "duration": 44,
    "start_time": "2022-04-22T18:24:59.810Z"
   },
   {
    "duration": 35,
    "start_time": "2022-04-22T18:25:06.675Z"
   },
   {
    "duration": 30,
    "start_time": "2022-04-22T18:25:10.832Z"
   },
   {
    "duration": 113,
    "start_time": "2022-04-22T18:25:13.930Z"
   },
   {
    "duration": 1155,
    "start_time": "2022-04-22T18:28:21.748Z"
   },
   {
    "duration": 9,
    "start_time": "2022-04-22T18:39:38.634Z"
   },
   {
    "duration": 88,
    "start_time": "2022-04-22T18:40:43.600Z"
   },
   {
    "duration": 89,
    "start_time": "2022-04-22T18:40:49.236Z"
   },
   {
    "duration": 24,
    "start_time": "2022-04-22T18:41:09.231Z"
   },
   {
    "duration": 32,
    "start_time": "2022-04-22T18:41:42.805Z"
   },
   {
    "duration": 716,
    "start_time": "2022-04-22T18:42:12.449Z"
   },
   {
    "duration": 304,
    "start_time": "2022-04-22T18:42:33.749Z"
   },
   {
    "duration": 12,
    "start_time": "2022-04-22T18:46:29.111Z"
   },
   {
    "duration": 9,
    "start_time": "2022-04-22T18:46:34.818Z"
   },
   {
    "duration": 8,
    "start_time": "2022-04-22T18:46:56.233Z"
   },
   {
    "duration": 13,
    "start_time": "2022-04-22T18:47:00.773Z"
   },
   {
    "duration": 9,
    "start_time": "2022-04-22T18:47:04.346Z"
   },
   {
    "duration": 7,
    "start_time": "2022-04-22T18:47:31.722Z"
   },
   {
    "duration": 98,
    "start_time": "2022-04-22T18:47:43.863Z"
   },
   {
    "duration": 2194318,
    "start_time": "2022-04-22T18:48:03.864Z"
   },
   {
    "duration": 15,
    "start_time": "2022-04-22T19:24:38.253Z"
   },
   {
    "duration": 7,
    "start_time": "2022-04-22T19:28:45.942Z"
   },
   {
    "duration": 88,
    "start_time": "2022-04-22T19:28:53.084Z"
   },
   {
    "duration": 115,
    "start_time": "2022-04-22T19:30:44.004Z"
   },
   {
    "duration": 8,
    "start_time": "2022-04-22T19:30:51.780Z"
   },
   {
    "duration": 830,
    "start_time": "2022-04-22T19:30:57.348Z"
   },
   {
    "duration": 5,
    "start_time": "2022-04-22T19:31:23.372Z"
   },
   {
    "duration": 89,
    "start_time": "2022-04-22T19:31:29.715Z"
   },
   {
    "duration": 5,
    "start_time": "2022-04-22T19:31:47.989Z"
   },
   {
    "duration": 121,
    "start_time": "2022-04-22T19:31:50.615Z"
   },
   {
    "duration": 6,
    "start_time": "2022-04-22T19:32:23.423Z"
   },
   {
    "duration": 147,
    "start_time": "2022-04-22T19:32:26.298Z"
   },
   {
    "duration": 5,
    "start_time": "2022-04-22T19:33:01.205Z"
   },
   {
    "duration": 116,
    "start_time": "2022-04-22T19:33:04.188Z"
   },
   {
    "duration": 5,
    "start_time": "2022-04-22T19:33:35.197Z"
   },
   {
    "duration": 88,
    "start_time": "2022-04-22T19:33:38.969Z"
   },
   {
    "duration": 8,
    "start_time": "2022-04-22T19:33:51.196Z"
   },
   {
    "duration": 125,
    "start_time": "2022-04-22T19:33:53.481Z"
   },
   {
    "duration": 6,
    "start_time": "2022-04-22T19:34:19.130Z"
   },
   {
    "duration": 6180522,
    "start_time": "2022-04-22T19:34:21.445Z"
   },
   {
    "duration": 20,
    "start_time": "2022-04-22T21:17:22.052Z"
   },
   {
    "duration": 2262,
    "start_time": "2022-04-23T04:23:15.386Z"
   },
   {
    "duration": 159,
    "start_time": "2022-04-23T04:23:17.651Z"
   },
   {
    "duration": 7,
    "start_time": "2022-04-23T04:23:17.812Z"
   },
   {
    "duration": 61,
    "start_time": "2022-04-23T04:23:17.821Z"
   },
   {
    "duration": 55,
    "start_time": "2022-04-23T04:23:20.052Z"
   },
   {
    "duration": 12,
    "start_time": "2022-04-23T04:24:58.479Z"
   },
   {
    "duration": 4,
    "start_time": "2022-04-23T04:27:43.805Z"
   },
   {
    "duration": 6,
    "start_time": "2022-04-23T04:28:10.831Z"
   },
   {
    "duration": 132,
    "start_time": "2022-04-23T04:28:31.379Z"
   },
   {
    "duration": 3,
    "start_time": "2022-04-23T04:28:37.239Z"
   },
   {
    "duration": 22,
    "start_time": "2022-04-23T04:28:40.049Z"
   },
   {
    "duration": 6,
    "start_time": "2022-04-23T04:29:11.644Z"
   },
   {
    "duration": 5,
    "start_time": "2022-04-23T04:29:24.220Z"
   },
   {
    "duration": 17,
    "start_time": "2022-04-23T04:30:04.148Z"
   },
   {
    "duration": 4,
    "start_time": "2022-04-23T04:30:22.792Z"
   },
   {
    "duration": 17,
    "start_time": "2022-04-23T04:30:31.202Z"
   },
   {
    "duration": 8,
    "start_time": "2022-04-23T04:30:43.708Z"
   },
   {
    "duration": 5,
    "start_time": "2022-04-23T04:30:58.948Z"
   },
   {
    "duration": 25,
    "start_time": "2022-04-23T04:31:18.702Z"
   },
   {
    "duration": 5,
    "start_time": "2022-04-23T04:33:21.232Z"
   },
   {
    "duration": 6,
    "start_time": "2022-04-23T04:33:27.355Z"
   },
   {
    "duration": 6,
    "start_time": "2022-04-23T04:33:31.182Z"
   },
   {
    "duration": 6,
    "start_time": "2022-04-23T04:33:40.122Z"
   },
   {
    "duration": 5,
    "start_time": "2022-04-23T04:33:50.522Z"
   },
   {
    "duration": 5,
    "start_time": "2022-04-23T04:33:54.047Z"
   },
   {
    "duration": 24,
    "start_time": "2022-04-23T04:34:01.420Z"
   },
   {
    "duration": 6,
    "start_time": "2022-04-23T04:34:25.618Z"
   },
   {
    "duration": 119,
    "start_time": "2022-04-23T04:34:31.240Z"
   },
   {
    "duration": 143,
    "start_time": "2022-04-23T04:34:43.513Z"
   },
   {
    "duration": 157,
    "start_time": "2022-04-23T04:35:17.102Z"
   },
   {
    "duration": 199,
    "start_time": "2022-04-23T04:35:21.757Z"
   },
   {
    "duration": 151,
    "start_time": "2022-04-23T04:35:53.905Z"
   },
   {
    "duration": 172,
    "start_time": "2022-04-23T04:35:57.484Z"
   },
   {
    "duration": 6,
    "start_time": "2022-04-23T04:36:03.486Z"
   },
   {
    "duration": 4,
    "start_time": "2022-04-23T04:36:20.975Z"
   },
   {
    "duration": 2417,
    "start_time": "2022-04-23T08:33:15.500Z"
   },
   {
    "duration": 214,
    "start_time": "2022-04-23T08:33:17.920Z"
   },
   {
    "duration": 12,
    "start_time": "2022-04-23T08:33:18.137Z"
   },
   {
    "duration": 96,
    "start_time": "2022-04-23T08:33:18.152Z"
   },
   {
    "duration": 57,
    "start_time": "2022-04-23T08:33:18.250Z"
   },
   {
    "duration": 20,
    "start_time": "2022-04-23T08:33:24.195Z"
   },
   {
    "duration": 5,
    "start_time": "2022-04-23T08:33:26.738Z"
   },
   {
    "duration": 4,
    "start_time": "2022-04-23T08:33:39.504Z"
   },
   {
    "duration": 4,
    "start_time": "2022-04-23T08:33:50.768Z"
   },
   {
    "duration": 6,
    "start_time": "2022-04-23T08:34:05.105Z"
   },
   {
    "duration": 3051465,
    "start_time": "2022-04-23T08:34:11.466Z"
   },
   {
    "duration": 16,
    "start_time": "2022-04-23T09:26:37.569Z"
   },
   {
    "duration": 15,
    "start_time": "2022-04-23T10:23:20.268Z"
   },
   {
    "duration": 16,
    "start_time": "2022-04-23T12:29:01.312Z"
   },
   {
    "duration": 15,
    "start_time": "2022-04-23T12:29:04.260Z"
   },
   {
    "duration": 265,
    "start_time": "2022-04-23T14:27:42.551Z"
   },
   {
    "duration": 37177,
    "start_time": "2022-04-23T14:28:06.113Z"
   },
   {
    "duration": 22,
    "start_time": "2022-04-23T14:28:53.892Z"
   },
   {
    "duration": 11216,
    "start_time": "2022-04-23T14:28:55.843Z"
   },
   {
    "duration": 10142,
    "start_time": "2022-04-23T14:29:12.016Z"
   },
   {
    "duration": 22,
    "start_time": "2022-04-23T14:29:28.063Z"
   },
   {
    "duration": 9873,
    "start_time": "2022-04-23T14:29:30.298Z"
   },
   {
    "duration": 30,
    "start_time": "2022-04-23T14:29:40.176Z"
   },
   {
    "duration": 9939,
    "start_time": "2022-04-23T14:29:42.500Z"
   },
   {
    "duration": 29,
    "start_time": "2022-04-23T14:29:52.443Z"
   },
   {
    "duration": 10756,
    "start_time": "2022-04-23T14:29:55.403Z"
   },
   {
    "duration": 21,
    "start_time": "2022-04-23T14:30:06.162Z"
   },
   {
    "duration": 18,
    "start_time": "2022-04-23T15:30:10.018Z"
   },
   {
    "duration": 15,
    "start_time": "2022-04-23T15:30:18.824Z"
   },
   {
    "duration": 16,
    "start_time": "2022-04-23T15:30:35.892Z"
   },
   {
    "duration": 9919,
    "start_time": "2022-04-23T18:14:38.544Z"
   },
   {
    "duration": 22,
    "start_time": "2022-04-23T18:14:48.467Z"
   },
   {
    "duration": 9981,
    "start_time": "2022-04-23T18:14:58.892Z"
   },
   {
    "duration": 69,
    "start_time": "2022-04-23T18:15:08.876Z"
   },
   {
    "duration": 10602,
    "start_time": "2022-04-23T18:15:24.871Z"
   },
   {
    "duration": 68,
    "start_time": "2022-04-23T18:15:35.477Z"
   },
   {
    "duration": 5063,
    "start_time": "2022-04-23T18:15:51.451Z"
   },
   {
    "duration": 12,
    "start_time": "2022-04-23T18:15:59.473Z"
   },
   {
    "duration": 8984,
    "start_time": "2022-04-23T18:16:02.074Z"
   },
   {
    "duration": 12,
    "start_time": "2022-04-23T18:16:14.192Z"
   },
   {
    "duration": 3619,
    "start_time": "2022-04-23T18:16:20.860Z"
   },
   {
    "duration": 9136,
    "start_time": "2022-04-23T18:16:30.028Z"
   },
   {
    "duration": 67,
    "start_time": "2022-04-23T18:16:45.824Z"
   },
   {
    "duration": 11,
    "start_time": "2022-04-23T18:17:57.962Z"
   },
   {
    "duration": 10,
    "start_time": "2022-04-23T18:18:04.335Z"
   },
   {
    "duration": 9210,
    "start_time": "2022-04-23T18:18:05.961Z"
   },
   {
    "duration": 3609,
    "start_time": "2022-04-23T18:18:15.175Z"
   },
   {
    "duration": 12,
    "start_time": "2022-04-23T18:18:18.787Z"
   },
   {
    "duration": 10663,
    "start_time": "2022-04-23T18:27:37.248Z"
   },
   {
    "duration": 1965,
    "start_time": "2022-04-23T18:28:10.533Z"
   },
   {
    "duration": 4758,
    "start_time": "2022-04-23T18:28:24.533Z"
   },
   {
    "duration": 4349,
    "start_time": "2022-04-23T18:28:42.373Z"
   },
   {
    "duration": 10081,
    "start_time": "2022-04-23T18:28:48.454Z"
   },
   {
    "duration": 2570,
    "start_time": "2022-04-23T18:32:25.350Z"
   },
   {
    "duration": 4,
    "start_time": "2022-04-23T18:34:53.380Z"
   },
   {
    "duration": 7,
    "start_time": "2022-04-23T18:46:08.261Z"
   },
   {
    "duration": 120,
    "start_time": "2022-04-23T18:46:08.901Z"
   },
   {
    "duration": 4,
    "start_time": "2022-04-23T18:46:14.957Z"
   },
   {
    "duration": 51,
    "start_time": "2022-04-23T18:46:15.221Z"
   },
   {
    "duration": 4,
    "start_time": "2022-04-23T18:46:17.311Z"
   },
   {
    "duration": 35,
    "start_time": "2022-04-23T18:46:17.590Z"
   },
   {
    "duration": 10,
    "start_time": "2022-04-23T18:46:32.806Z"
   },
   {
    "duration": 791,
    "start_time": "2022-04-23T18:46:34.235Z"
   },
   {
    "duration": 18,
    "start_time": "2022-04-23T19:09:13.614Z"
   },
   {
    "duration": 10,
    "start_time": "2022-04-23T19:09:17.099Z"
   },
   {
    "duration": 21,
    "start_time": "2022-04-23T19:09:22.514Z"
   },
   {
    "duration": 19,
    "start_time": "2022-04-23T19:09:44.048Z"
   },
   {
    "duration": 16,
    "start_time": "2022-04-23T19:09:55.290Z"
   },
   {
    "duration": 19,
    "start_time": "2022-04-23T19:10:13.617Z"
   },
   {
    "duration": 7,
    "start_time": "2022-04-23T19:11:38.811Z"
   },
   {
    "duration": 77,
    "start_time": "2022-04-23T19:11:43.212Z"
   },
   {
    "duration": 47,
    "start_time": "2022-04-23T19:12:05.964Z"
   },
   {
    "duration": 10,
    "start_time": "2022-04-23T19:12:13.799Z"
   },
   {
    "duration": 4,
    "start_time": "2022-04-23T19:12:14.066Z"
   },
   {
    "duration": 1813,
    "start_time": "2022-04-23T19:12:19.032Z"
   },
   {
    "duration": 27,
    "start_time": "2022-04-23T19:12:45.724Z"
   },
   {
    "duration": 10,
    "start_time": "2022-04-23T19:13:15.253Z"
   },
   {
    "duration": 91,
    "start_time": "2022-04-23T19:13:16.965Z"
   },
   {
    "duration": 7,
    "start_time": "2022-04-23T19:13:32.851Z"
   },
   {
    "duration": 108,
    "start_time": "2022-04-23T19:13:33.255Z"
   },
   {
    "duration": 8,
    "start_time": "2022-04-23T19:13:40.216Z"
   },
   {
    "duration": 85,
    "start_time": "2022-04-23T19:13:40.913Z"
   },
   {
    "duration": 53,
    "start_time": "2022-04-23T19:13:41.781Z"
   },
   {
    "duration": 8,
    "start_time": "2022-04-23T19:14:35.208Z"
   },
   {
    "duration": 29051,
    "start_time": "2022-04-24T03:31:59.127Z"
   },
   {
    "duration": 3563,
    "start_time": "2022-04-24T03:32:28.182Z"
   },
   {
    "duration": 3457,
    "start_time": "2022-04-24T03:32:37.364Z"
   },
   {
    "duration": 11358,
    "start_time": "2022-04-24T03:32:43.039Z"
   },
   {
    "duration": 9410,
    "start_time": "2022-04-24T03:32:59.288Z"
   },
   {
    "duration": 112,
    "start_time": "2022-04-24T03:33:15.008Z"
   },
   {
    "duration": 9128,
    "start_time": "2022-04-24T03:33:18.032Z"
   },
   {
    "duration": 3875,
    "start_time": "2022-04-24T03:33:27.163Z"
   },
   {
    "duration": 10788,
    "start_time": "2022-04-24T03:33:43.642Z"
   },
   {
    "duration": 13,
    "start_time": "2022-04-24T03:33:57.182Z"
   },
   {
    "duration": 2002,
    "start_time": "2022-04-24T03:34:04.787Z"
   },
   {
    "duration": 53,
    "start_time": "2022-04-24T03:34:06.792Z"
   },
   {
    "duration": 12,
    "start_time": "2022-04-24T03:34:08.017Z"
   },
   {
    "duration": 859,
    "start_time": "2022-04-24T03:34:12.430Z"
   },
   {
    "duration": 5,
    "start_time": "2022-04-24T03:34:25.341Z"
   },
   {
    "duration": 10,
    "start_time": "2022-04-24T03:34:27.980Z"
   },
   {
    "duration": 5861,
    "start_time": "2022-04-24T03:34:28.308Z"
   },
   {
    "duration": 15,
    "start_time": "2022-04-24T03:34:42.180Z"
   },
   {
    "duration": 4,
    "start_time": "2022-04-24T03:34:43.327Z"
   },
   {
    "duration": 6,
    "start_time": "2022-04-24T03:34:43.680Z"
   },
   {
    "duration": 10,
    "start_time": "2022-04-24T03:34:44.894Z"
   },
   {
    "duration": 3372876,
    "start_time": "2022-04-24T03:34:46.080Z"
   },
   {
    "duration": 93,
    "start_time": "2022-04-24T04:30:58.959Z"
   },
   {
    "duration": 36,
    "start_time": "2022-04-24T04:59:33.417Z"
   },
   {
    "duration": 5,
    "start_time": "2022-04-24T05:00:38.132Z"
   },
   {
    "duration": 54,
    "start_time": "2022-04-24T05:01:34.675Z"
   },
   {
    "duration": 39,
    "start_time": "2022-04-24T05:01:40.097Z"
   },
   {
    "duration": 10,
    "start_time": "2022-04-24T05:01:44.301Z"
   },
   {
    "duration": 11,
    "start_time": "2022-04-24T05:02:28.434Z"
   },
   {
    "duration": 55,
    "start_time": "2022-04-24T05:02:53.569Z"
   },
   {
    "duration": 103,
    "start_time": "2022-04-24T05:03:30.305Z"
   },
   {
    "duration": 1436661,
    "start_time": "2022-04-24T05:03:34.416Z"
   },
   {
    "duration": 0,
    "start_time": "2022-04-24T05:27:31.080Z"
   },
   {
    "duration": 2054,
    "start_time": "2022-04-24T05:29:04.782Z"
   },
   {
    "duration": 52,
    "start_time": "2022-04-24T05:29:06.839Z"
   },
   {
    "duration": 4,
    "start_time": "2022-04-24T05:29:12.651Z"
   },
   {
    "duration": 10,
    "start_time": "2022-04-24T05:29:21.200Z"
   },
   {
    "duration": 4,
    "start_time": "2022-04-24T05:29:22.946Z"
   },
   {
    "duration": 6,
    "start_time": "2022-04-24T05:29:23.153Z"
   },
   {
    "duration": 7,
    "start_time": "2022-04-24T05:29:25.462Z"
   },
   {
    "duration": 4050025,
    "start_time": "2022-04-24T05:29:26.327Z"
   },
   {
    "duration": 59,
    "start_time": "2022-04-24T06:36:56.355Z"
   },
   {
    "duration": 5,
    "start_time": "2022-04-24T06:36:56.416Z"
   },
   {
    "duration": 1651,
    "start_time": "2022-04-24T11:41:21.884Z"
   },
   {
    "duration": 38,
    "start_time": "2022-04-24T11:41:23.537Z"
   },
   {
    "duration": 3,
    "start_time": "2022-04-24T11:41:30.857Z"
   },
   {
    "duration": 6,
    "start_time": "2022-04-24T11:41:34.539Z"
   },
   {
    "duration": 4,
    "start_time": "2022-04-24T11:41:35.617Z"
   },
   {
    "duration": 3,
    "start_time": "2022-04-24T11:41:35.882Z"
   },
   {
    "duration": 4,
    "start_time": "2022-04-24T11:41:37.010Z"
   },
   {
    "duration": 2482449,
    "start_time": "2022-04-24T11:41:37.259Z"
   },
   {
    "duration": 38,
    "start_time": "2022-04-24T12:22:59.710Z"
   },
   {
    "duration": 3,
    "start_time": "2022-04-24T12:22:59.750Z"
   },
   {
    "duration": 15055,
    "start_time": "2022-04-24T12:22:59.756Z"
   },
   {
    "duration": 69,
    "start_time": "2022-04-24T12:23:14.813Z"
   },
   {
    "duration": 109,
    "start_time": "2022-04-24T13:13:25.149Z"
   },
   {
    "duration": 63,
    "start_time": "2022-04-24T13:13:53.898Z"
   },
   {
    "duration": 10,
    "start_time": "2022-04-24T13:13:58.244Z"
   },
   {
    "duration": 20,
    "start_time": "2022-04-24T13:15:07.247Z"
   },
   {
    "duration": 23,
    "start_time": "2022-04-24T13:15:11.966Z"
   },
   {
    "duration": 23,
    "start_time": "2022-04-24T13:15:27.474Z"
   },
   {
    "duration": 35,
    "start_time": "2022-04-24T13:15:32.818Z"
   },
   {
    "duration": 3,
    "start_time": "2022-04-24T13:17:50.086Z"
   },
   {
    "duration": 12525,
    "start_time": "2022-04-24T13:17:50.392Z"
   },
   {
    "duration": 22,
    "start_time": "2022-04-24T13:19:27.512Z"
   },
   {
    "duration": 3,
    "start_time": "2022-04-24T13:21:26.714Z"
   },
   {
    "duration": 12367,
    "start_time": "2022-04-24T13:21:28.347Z"
   },
   {
    "duration": 14,
    "start_time": "2022-04-24T13:22:37.170Z"
   },
   {
    "duration": 932,
    "start_time": "2022-04-24T13:23:17.494Z"
   },
   {
    "duration": 9,
    "start_time": "2022-04-24T13:23:23.995Z"
   },
   {
    "duration": 20,
    "start_time": "2022-04-24T13:23:49.015Z"
   },
   {
    "duration": 3,
    "start_time": "2022-04-24T13:23:50.275Z"
   },
   {
    "duration": 3959,
    "start_time": "2022-04-24T13:23:57.708Z"
   },
   {
    "duration": 3,
    "start_time": "2022-04-24T13:24:15.304Z"
   },
   {
    "duration": 10576,
    "start_time": "2022-04-24T13:24:15.845Z"
   },
   {
    "duration": 10,
    "start_time": "2022-04-24T13:26:01.793Z"
   },
   {
    "duration": 12,
    "start_time": "2022-04-24T13:26:09.212Z"
   },
   {
    "duration": 2,
    "start_time": "2022-04-24T13:28:02.449Z"
   },
   {
    "duration": 1921,
    "start_time": "2022-04-24T13:28:05.594Z"
   },
   {
    "duration": 61,
    "start_time": "2022-04-24T13:31:41.745Z"
   },
   {
    "duration": 5191,
    "start_time": "2022-04-24T13:31:47.137Z"
   },
   {
    "duration": 75,
    "start_time": "2022-04-24T13:32:09.118Z"
   },
   {
    "duration": 7117,
    "start_time": "2022-04-24T13:32:13.170Z"
   },
   {
    "duration": 4876,
    "start_time": "2022-04-24T13:32:22.080Z"
   },
   {
    "duration": 302,
    "start_time": "2022-04-24T13:35:13.343Z"
   },
   {
    "duration": 5719,
    "start_time": "2022-04-24T13:35:20.129Z"
   },
   {
    "duration": 4928,
    "start_time": "2022-04-24T13:36:06.957Z"
   },
   {
    "duration": 4807,
    "start_time": "2022-04-24T13:36:27.243Z"
   },
   {
    "duration": 4968,
    "start_time": "2022-04-24T13:37:39.094Z"
   },
   {
    "duration": 63,
    "start_time": "2022-04-24T13:38:14.370Z"
   },
   {
    "duration": 66,
    "start_time": "2022-04-24T13:38:19.881Z"
   },
   {
    "duration": 47,
    "start_time": "2022-04-24T13:38:26.194Z"
   },
   {
    "duration": 7347,
    "start_time": "2022-04-24T13:38:31.561Z"
   },
   {
    "duration": 451,
    "start_time": "2022-04-24T13:38:50.285Z"
   },
   {
    "duration": 5570,
    "start_time": "2022-04-24T13:39:01.418Z"
   },
   {
    "duration": 78,
    "start_time": "2022-04-24T13:39:34.704Z"
   },
   {
    "duration": 5213,
    "start_time": "2022-04-24T13:39:46.640Z"
   },
   {
    "duration": 6827,
    "start_time": "2022-04-24T13:39:56.819Z"
   },
   {
    "duration": 4592,
    "start_time": "2022-04-24T13:40:37.379Z"
   },
   {
    "duration": 4849,
    "start_time": "2022-04-24T13:42:54.501Z"
   },
   {
    "duration": 5063,
    "start_time": "2022-04-24T13:43:03.117Z"
   },
   {
    "duration": 4802,
    "start_time": "2022-04-24T13:43:09.478Z"
   },
   {
    "duration": 14,
    "start_time": "2022-04-24T14:14:25.019Z"
   },
   {
    "duration": 5989,
    "start_time": "2022-04-24T14:14:40.104Z"
   },
   {
    "duration": 17275,
    "start_time": "2022-04-24T14:15:13.599Z"
   },
   {
    "duration": 9,
    "start_time": "2022-04-24T14:20:07.961Z"
   },
   {
    "duration": 3,
    "start_time": "2022-04-24T14:20:27.145Z"
   },
   {
    "duration": 30,
    "start_time": "2022-04-24T14:20:27.419Z"
   },
   {
    "duration": 4971,
    "start_time": "2022-04-24T14:20:27.670Z"
   },
   {
    "duration": 3,
    "start_time": "2022-04-24T14:20:32.643Z"
   },
   {
    "duration": 8,
    "start_time": "2022-04-24T14:20:32.647Z"
   },
   {
    "duration": 307653,
    "start_time": "2022-04-24T14:20:32.657Z"
   },
   {
    "duration": 95,
    "start_time": "2022-04-24T14:25:40.317Z"
   },
   {
    "duration": 8,
    "start_time": "2022-04-24T14:25:45.528Z"
   },
   {
    "duration": 179,
    "start_time": "2022-04-24T14:25:47.643Z"
   },
   {
    "duration": 167,
    "start_time": "2022-04-24T14:26:02.206Z"
   },
   {
    "duration": 181,
    "start_time": "2022-04-24T14:26:05.810Z"
   },
   {
    "duration": 186,
    "start_time": "2022-04-24T14:27:33.703Z"
   },
   {
    "duration": 192,
    "start_time": "2022-04-24T14:27:53.347Z"
   },
   {
    "duration": 11,
    "start_time": "2022-04-24T14:30:03.114Z"
   },
   {
    "duration": 6,
    "start_time": "2022-04-24T14:30:08.601Z"
   },
   {
    "duration": 6,
    "start_time": "2022-04-24T14:31:49.806Z"
   },
   {
    "duration": 4880,
    "start_time": "2022-04-24T14:34:18.259Z"
   },
   {
    "duration": 12953,
    "start_time": "2022-04-24T14:35:30.268Z"
   },
   {
    "duration": 28,
    "start_time": "2022-04-24T14:37:19.022Z"
   },
   {
    "duration": 3,
    "start_time": "2022-04-24T14:37:20.167Z"
   },
   {
    "duration": 8,
    "start_time": "2022-04-24T14:37:32.283Z"
   },
   {
    "duration": 7,
    "start_time": "2022-04-24T14:38:30.572Z"
   },
   {
    "duration": 71035,
    "start_time": "2022-04-24T14:38:48.819Z"
   },
   {
    "duration": 219298,
    "start_time": "2022-04-24T14:41:58.943Z"
   },
   {
    "duration": 0,
    "start_time": "2022-04-24T14:45:38.243Z"
   },
   {
    "duration": 16,
    "start_time": "2022-04-24T14:49:26.440Z"
   },
   {
    "duration": 11,
    "start_time": "2022-04-24T14:49:51.089Z"
   },
   {
    "duration": 68,
    "start_time": "2022-04-24T14:49:56.181Z"
   },
   {
    "duration": 12,
    "start_time": "2022-04-24T14:50:03.553Z"
   },
   {
    "duration": 36,
    "start_time": "2022-04-24T14:51:03.463Z"
   },
   {
    "duration": 4,
    "start_time": "2022-04-24T14:51:06.766Z"
   },
   {
    "duration": 17,
    "start_time": "2022-04-24T14:51:06.933Z"
   },
   {
    "duration": 3,
    "start_time": "2022-04-24T14:51:14.622Z"
   },
   {
    "duration": 348245,
    "start_time": "2022-04-24T14:51:15.471Z"
   },
   {
    "duration": 7,
    "start_time": "2022-04-24T14:57:03.809Z"
   },
   {
    "duration": 27,
    "start_time": "2022-04-24T14:57:33.741Z"
   },
   {
    "duration": 3,
    "start_time": "2022-04-24T14:57:43.813Z"
   },
   {
    "duration": 36300,
    "start_time": "2022-04-24T14:58:06.010Z"
   },
   {
    "duration": 4,
    "start_time": "2022-04-24T14:59:04.917Z"
   },
   {
    "duration": 36559,
    "start_time": "2022-04-24T14:59:52.448Z"
   },
   {
    "duration": 34639,
    "start_time": "2022-04-24T15:01:48.177Z"
   },
   {
    "duration": 4,
    "start_time": "2022-04-24T15:02:31.926Z"
   },
   {
    "duration": 4,
    "start_time": "2022-04-24T15:02:35.886Z"
   },
   {
    "duration": 38898,
    "start_time": "2022-04-24T15:02:47.710Z"
   },
   {
    "duration": 35306,
    "start_time": "2022-04-24T15:03:30.903Z"
   },
   {
    "duration": 45477,
    "start_time": "2022-04-24T15:04:19.632Z"
   },
   {
    "duration": 7,
    "start_time": "2022-04-24T15:05:05.111Z"
   },
   {
    "duration": 6036410,
    "start_time": "2022-04-24T15:05:28.280Z"
   },
   {
    "duration": 13088,
    "start_time": "2022-04-24T16:47:00.153Z"
   },
   {
    "duration": 37,
    "start_time": "2022-04-24T16:47:20.451Z"
   },
   {
    "duration": 447,
    "start_time": "2022-04-24T16:47:21.984Z"
   },
   {
    "duration": 3,
    "start_time": "2022-04-24T16:47:23.279Z"
   },
   {
    "duration": 8217,
    "start_time": "2022-04-24T16:47:23.491Z"
   },
   {
    "duration": 6408,
    "start_time": "2022-04-24T16:48:03.674Z"
   },
   {
    "duration": 5140,
    "start_time": "2022-04-24T16:48:45.278Z"
   },
   {
    "duration": 661020,
    "start_time": "2022-04-24T16:50:02.388Z"
   },
   {
    "duration": 98,
    "start_time": "2022-04-24T17:01:03.411Z"
   },
   {
    "duration": 207,
    "start_time": "2022-04-24T17:01:44.275Z"
   },
   {
    "duration": 177,
    "start_time": "2022-04-24T17:03:29.562Z"
   },
   {
    "duration": 243,
    "start_time": "2022-04-24T17:03:50.543Z"
   },
   {
    "duration": 12,
    "start_time": "2022-04-24T17:04:10.824Z"
   },
   {
    "duration": 12,
    "start_time": "2022-04-24T17:04:19.111Z"
   },
   {
    "duration": 8,
    "start_time": "2022-04-24T17:04:34.834Z"
   },
   {
    "duration": 6,
    "start_time": "2022-04-24T17:04:48.580Z"
   },
   {
    "duration": 263,
    "start_time": "2022-04-24T17:04:56.957Z"
   },
   {
    "duration": 4,
    "start_time": "2022-04-24T17:05:35.038Z"
   },
   {
    "duration": 4,
    "start_time": "2022-04-24T17:05:47.426Z"
   },
   {
    "duration": 5,
    "start_time": "2022-04-24T17:05:51.062Z"
   },
   {
    "duration": 234,
    "start_time": "2022-04-24T17:06:26.301Z"
   },
   {
    "duration": 7,
    "start_time": "2022-04-24T17:07:17.601Z"
   },
   {
    "duration": 1885452,
    "start_time": "2022-04-24T17:07:39.583Z"
   },
   {
    "duration": 11,
    "start_time": "2022-04-24T17:39:05.114Z"
   },
   {
    "duration": 193460,
    "start_time": "2022-04-24T17:58:53.244Z"
   },
   {
    "duration": 3,
    "start_time": "2022-04-24T18:11:40.602Z"
   },
   {
    "duration": 35,
    "start_time": "2022-04-24T18:11:40.937Z"
   },
   {
    "duration": 3,
    "start_time": "2022-04-24T18:11:42.815Z"
   },
   {
    "duration": 45563,
    "start_time": "2022-04-24T18:11:48.877Z"
   },
   {
    "duration": 6,
    "start_time": "2022-04-24T18:12:34.442Z"
   },
   {
    "duration": 1401,
    "start_time": "2022-04-24T18:14:00.337Z"
   },
   {
    "duration": 46,
    "start_time": "2022-04-24T18:14:01.740Z"
   },
   {
    "duration": 2,
    "start_time": "2022-04-24T18:14:01.788Z"
   },
   {
    "duration": 6262,
    "start_time": "2022-04-24T18:14:01.793Z"
   },
   {
    "duration": 7,
    "start_time": "2022-04-24T18:14:08.057Z"
   },
   {
    "duration": 775246,
    "start_time": "2022-04-24T18:14:08.066Z"
   },
   {
    "duration": 93,
    "start_time": "2022-04-24T18:27:03.317Z"
   },
   {
    "duration": 230,
    "start_time": "2022-04-24T18:27:03.411Z"
   },
   {
    "duration": 7,
    "start_time": "2022-04-24T18:28:07.232Z"
   },
   {
    "duration": 4537,
    "start_time": "2022-04-25T12:59:21.094Z"
   },
   {
    "duration": 48,
    "start_time": "2022-04-25T12:59:25.633Z"
   },
   {
    "duration": 3,
    "start_time": "2022-04-25T12:59:25.682Z"
   },
   {
    "duration": 4992,
    "start_time": "2022-04-25T12:59:25.686Z"
   },
   {
    "duration": 3,
    "start_time": "2022-04-25T13:01:57.791Z"
   },
   {
    "duration": 4,
    "start_time": "2022-04-25T13:02:08.247Z"
   },
   {
    "duration": 23187,
    "start_time": "2022-04-25T13:08:21.148Z"
   },
   {
    "duration": 6,
    "start_time": "2022-04-25T13:09:07.821Z"
   }
  ],
  "kernelspec": {
   "display_name": "Python 3 (ipykernel)",
   "language": "python",
   "name": "python3"
  },
  "language_info": {
   "codemirror_mode": {
    "name": "ipython",
    "version": 3
   },
   "file_extension": ".py",
   "mimetype": "text/x-python",
   "name": "python",
   "nbconvert_exporter": "python",
   "pygments_lexer": "ipython3",
   "version": "3.9.5"
  },
  "toc": {
   "base_numbering": 1,
   "nav_menu": {},
   "number_sections": true,
   "sideBar": true,
   "skip_h1_title": true,
   "title_cell": "Содержание",
   "title_sidebar": "Contents",
   "toc_cell": true,
   "toc_position": {},
   "toc_section_display": true,
   "toc_window_display": false
  }
 },
 "nbformat": 4,
 "nbformat_minor": 2
}
