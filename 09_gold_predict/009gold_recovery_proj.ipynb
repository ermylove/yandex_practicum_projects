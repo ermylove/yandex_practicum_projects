{
 "cells": [
  {
   "cell_type": "code",
   "execution_count": 1,
   "metadata": {
    "scrolled": true
   },
   "outputs": [],
   "source": [
    "# !pip install missingno\n",
    "# !pip install --user catboost -U\n",
    "# !pip install --user imblearn\n",
    "# !pip install --user -U seaborn\n",
    "# !pip install --user -U matplotlib"
   ]
  },
  {
   "cell_type": "markdown",
   "metadata": {
    "toc": true
   },
   "source": [
    "<h1>Содержание<span class=\"tocSkip\"></span></h1>\n",
    "<div class=\"toc\"><ul class=\"toc-item\"><li><span><a href=\"#Знакомство-с-данными\" data-toc-modified-id=\"Знакомство-с-данными-1\"><span class=\"toc-item-num\">1&nbsp;&nbsp;</span>Знакомство с данными</a></span></li><li><span><a href=\"#Анализ-данных\" data-toc-modified-id=\"Анализ-данных-2\"><span class=\"toc-item-num\">2&nbsp;&nbsp;</span>Анализ данных</a></span></li><li><span><a href=\"#Подготовка-данных\" data-toc-modified-id=\"Подготовка-данных-3\"><span class=\"toc-item-num\">3&nbsp;&nbsp;</span>Подготовка данных</a></span></li><li><span><a href=\"#Модель\" data-toc-modified-id=\"Модель-4\"><span class=\"toc-item-num\">4&nbsp;&nbsp;</span>Модель</a></span></li><li><span><a href=\"#Выводы\" data-toc-modified-id=\"Выводы-5\"><span class=\"toc-item-num\">5&nbsp;&nbsp;</span>Выводы</a></span></li></ul></div>"
   ]
  },
  {
   "cell_type": "markdown",
   "metadata": {},
   "source": [
    "# Восстановление золота из руды"
   ]
  },
  {
   "cell_type": "markdown",
   "metadata": {},
   "source": [
    "Необходимо подготовить прототип модели машинного обучения для «Цифры». Компания разрабатывает решения для эффективной работы промышленных предприятий.\n",
    "\n",
    "Модель должна предсказать коэффициент восстановления золота из золотосодержащей руды. Используйте данные с параметрами добычи и очистки. \n",
    "\n",
    "Модель поможет оптимизировать производство, чтобы не запускать предприятие с убыточными характеристиками.\n",
    "\n",
    "Необходимо:\n",
    "\n",
    "1. Изучить данные    \n",
    "    1.1. Вычислите эффективность обогащения на обучающей выборке для признака `rougher.output.recovery`    \n",
    "    1.2. Найти MAE между расчётами и значением признака.\n",
    "2. Провести исследовательский анализ данных  \n",
    "    2.1. Показать как меняется концентрация металлов на различных этапах очистки.  \n",
    "    2.2. Сравнить распределения размеров гранул сырья на обучающей и тестовой выборках.  \n",
    "    2.3. Исследуйте суммарную концентрацию всех веществ на разных стадиях\n",
    "3. Построить и обучить модель.  \n",
    "    3.1. Написать функцию для вычисления итоговой sMAPE.  \n",
    "    3.2. Обучить разные модели и оцените их качество кросс-валидацией.  "
   ]
  },
  {
   "cell_type": "markdown",
   "metadata": {},
   "source": [
    "## Знакомство с данными"
   ]
  },
  {
   "cell_type": "code",
   "execution_count": 2,
   "metadata": {},
   "outputs": [],
   "source": [
    "import pandas as pd\n",
    "import numpy as np\n",
    "import matplotlib.pyplot as plt\n",
    "import seaborn as sns\n",
    "import missingno as msno\n",
    "\n",
    "import scipy.stats as stats\n",
    "\n",
    "from sklearn.metrics import mean_absolute_error\n",
    "from sklearn.model_selection import cross_val_score\n",
    "from sklearn.preprocessing import StandardScaler\n",
    "from imblearn.pipeline import make_pipeline\n",
    "from sklearn.metrics import make_scorer\n",
    "\n",
    "from sklearn.multioutput import MultiOutputRegressor\n",
    "\n",
    "from catboost import CatBoostRegressor\n",
    "from sklearn.neighbors import KNeighborsRegressor\n",
    "from sklearn.svm import SVR\n",
    "from sklearn.dummy import DummyRegressor\n",
    "\n",
    "import tensorflow.keras as k"
   ]
  },
  {
   "cell_type": "code",
   "execution_count": 3,
   "metadata": {},
   "outputs": [],
   "source": [
    "df_full = pd.read_csv('/datasets/gold_recovery_full_new.csv', parse_dates=['date'])\n",
    "df = pd.read_csv('/datasets/gold_recovery_train_new.csv', parse_dates=['date'])\n",
    "df_test = pd.read_csv('/datasets/gold_recovery_test_new.csv', parse_dates=['date'])"
   ]
  },
  {
   "cell_type": "markdown",
   "metadata": {},
   "source": [
    "В нашем распоряжении 3 файла.  \n",
    "`gold_recovery_full_new.csv` - содержащий полную выборку данных  \n",
    "Которая заранее разбита на тренировочную в файле `gold_recovery_train_new.csv`  \n",
    "и тестовую в `gold_recovery_test_new.csv`"
   ]
  },
  {
   "cell_type": "code",
   "execution_count": 4,
   "metadata": {
    "scrolled": false
   },
   "outputs": [
    {
     "name": "stdout",
     "output_type": "stream",
     "text": [
      "<class 'pandas.core.frame.DataFrame'>\n",
      "RangeIndex: 19439 entries, 0 to 19438\n",
      "Data columns (total 87 columns):\n",
      " #   Column                                              Non-Null Count  Dtype         \n",
      "---  ------                                              --------------  -----         \n",
      " 0   date                                                19439 non-null  datetime64[ns]\n",
      " 1   final.output.concentrate_ag                         19438 non-null  float64       \n",
      " 2   final.output.concentrate_pb                         19438 non-null  float64       \n",
      " 3   final.output.concentrate_sol                        19228 non-null  float64       \n",
      " 4   final.output.concentrate_au                         19439 non-null  float64       \n",
      " 5   final.output.recovery                               19439 non-null  float64       \n",
      " 6   final.output.tail_ag                                19438 non-null  float64       \n",
      " 7   final.output.tail_pb                                19338 non-null  float64       \n",
      " 8   final.output.tail_sol                               19433 non-null  float64       \n",
      " 9   final.output.tail_au                                19439 non-null  float64       \n",
      " 10  primary_cleaner.input.sulfate                       19415 non-null  float64       \n",
      " 11  primary_cleaner.input.depressant                    19402 non-null  float64       \n",
      " 12  primary_cleaner.input.feed_size                     19439 non-null  float64       \n",
      " 13  primary_cleaner.input.xanthate                      19335 non-null  float64       \n",
      " 14  primary_cleaner.output.concentrate_ag               19439 non-null  float64       \n",
      " 15  primary_cleaner.output.concentrate_pb               19323 non-null  float64       \n",
      " 16  primary_cleaner.output.concentrate_sol              19069 non-null  float64       \n",
      " 17  primary_cleaner.output.concentrate_au               19439 non-null  float64       \n",
      " 18  primary_cleaner.output.tail_ag                      19435 non-null  float64       \n",
      " 19  primary_cleaner.output.tail_pb                      19418 non-null  float64       \n",
      " 20  primary_cleaner.output.tail_sol                     19377 non-null  float64       \n",
      " 21  primary_cleaner.output.tail_au                      19439 non-null  float64       \n",
      " 22  primary_cleaner.state.floatbank8_a_air              19435 non-null  float64       \n",
      " 23  primary_cleaner.state.floatbank8_a_level            19438 non-null  float64       \n",
      " 24  primary_cleaner.state.floatbank8_b_air              19435 non-null  float64       \n",
      " 25  primary_cleaner.state.floatbank8_b_level            19438 non-null  float64       \n",
      " 26  primary_cleaner.state.floatbank8_c_air              19437 non-null  float64       \n",
      " 27  primary_cleaner.state.floatbank8_c_level            19438 non-null  float64       \n",
      " 28  primary_cleaner.state.floatbank8_d_air              19436 non-null  float64       \n",
      " 29  primary_cleaner.state.floatbank8_d_level            19438 non-null  float64       \n",
      " 30  rougher.calculation.sulfate_to_au_concentrate       19437 non-null  float64       \n",
      " 31  rougher.calculation.floatbank10_sulfate_to_au_feed  19437 non-null  float64       \n",
      " 32  rougher.calculation.floatbank11_sulfate_to_au_feed  19437 non-null  float64       \n",
      " 33  rougher.calculation.au_pb_ratio                     19439 non-null  float64       \n",
      " 34  rougher.input.feed_ag                               19439 non-null  float64       \n",
      " 35  rougher.input.feed_pb                               19339 non-null  float64       \n",
      " 36  rougher.input.feed_rate                             19428 non-null  float64       \n",
      " 37  rougher.input.feed_size                             19294 non-null  float64       \n",
      " 38  rougher.input.feed_sol                              19340 non-null  float64       \n",
      " 39  rougher.input.feed_au                               19439 non-null  float64       \n",
      " 40  rougher.input.floatbank10_sulfate                   19405 non-null  float64       \n",
      " 41  rougher.input.floatbank10_xanthate                  19431 non-null  float64       \n",
      " 42  rougher.input.floatbank11_sulfate                   19395 non-null  float64       \n",
      " 43  rougher.input.floatbank11_xanthate                  18986 non-null  float64       \n",
      " 44  rougher.output.concentrate_ag                       19439 non-null  float64       \n",
      " 45  rougher.output.concentrate_pb                       19439 non-null  float64       \n",
      " 46  rougher.output.concentrate_sol                      19416 non-null  float64       \n",
      " 47  rougher.output.concentrate_au                       19439 non-null  float64       \n",
      " 48  rougher.output.recovery                             19439 non-null  float64       \n",
      " 49  rougher.output.tail_ag                              19438 non-null  float64       \n",
      " 50  rougher.output.tail_pb                              19439 non-null  float64       \n",
      " 51  rougher.output.tail_sol                             19439 non-null  float64       \n",
      " 52  rougher.output.tail_au                              19439 non-null  float64       \n",
      " 53  rougher.state.floatbank10_a_air                     19438 non-null  float64       \n",
      " 54  rougher.state.floatbank10_a_level                   19438 non-null  float64       \n",
      " 55  rougher.state.floatbank10_b_air                     19438 non-null  float64       \n",
      " 56  rougher.state.floatbank10_b_level                   19438 non-null  float64       \n",
      " 57  rougher.state.floatbank10_c_air                     19438 non-null  float64       \n",
      " 58  rougher.state.floatbank10_c_level                   19438 non-null  float64       \n",
      " 59  rougher.state.floatbank10_d_air                     19439 non-null  float64       \n",
      " 60  rougher.state.floatbank10_d_level                   19439 non-null  float64       \n",
      " 61  rougher.state.floatbank10_e_air                     19003 non-null  float64       \n",
      " 62  rougher.state.floatbank10_e_level                   19439 non-null  float64       \n",
      " 63  rougher.state.floatbank10_f_air                     19439 non-null  float64       \n",
      " 64  rougher.state.floatbank10_f_level                   19439 non-null  float64       \n",
      " 65  secondary_cleaner.output.tail_ag                    19437 non-null  float64       \n",
      " 66  secondary_cleaner.output.tail_pb                    19427 non-null  float64       \n",
      " 67  secondary_cleaner.output.tail_sol                   17691 non-null  float64       \n",
      " 68  secondary_cleaner.output.tail_au                    19439 non-null  float64       \n",
      " 69  secondary_cleaner.state.floatbank2_a_air            19219 non-null  float64       \n",
      " 70  secondary_cleaner.state.floatbank2_a_level          19438 non-null  float64       \n",
      " 71  secondary_cleaner.state.floatbank2_b_air            19416 non-null  float64       \n",
      " 72  secondary_cleaner.state.floatbank2_b_level          19438 non-null  float64       \n",
      " 73  secondary_cleaner.state.floatbank3_a_air            19426 non-null  float64       \n",
      " 74  secondary_cleaner.state.floatbank3_a_level          19438 non-null  float64       \n",
      " 75  secondary_cleaner.state.floatbank3_b_air            19438 non-null  float64       \n",
      " 76  secondary_cleaner.state.floatbank3_b_level          19438 non-null  float64       \n",
      " 77  secondary_cleaner.state.floatbank4_a_air            19433 non-null  float64       \n",
      " 78  secondary_cleaner.state.floatbank4_a_level          19438 non-null  float64       \n",
      " 79  secondary_cleaner.state.floatbank4_b_air            19438 non-null  float64       \n",
      " 80  secondary_cleaner.state.floatbank4_b_level          19438 non-null  float64       \n",
      " 81  secondary_cleaner.state.floatbank5_a_air            19438 non-null  float64       \n",
      " 82  secondary_cleaner.state.floatbank5_a_level          19438 non-null  float64       \n",
      " 83  secondary_cleaner.state.floatbank5_b_air            19438 non-null  float64       \n",
      " 84  secondary_cleaner.state.floatbank5_b_level          19438 non-null  float64       \n",
      " 85  secondary_cleaner.state.floatbank6_a_air            19437 non-null  float64       \n",
      " 86  secondary_cleaner.state.floatbank6_a_level          19438 non-null  float64       \n",
      "dtypes: datetime64[ns](1), float64(86)\n",
      "memory usage: 12.9 MB\n"
     ]
    }
   ],
   "source": [
    "df_full.info()"
   ]
  },
  {
   "cell_type": "markdown",
   "metadata": {},
   "source": [
    "Названия признаков сложносоставные и описывают показатели различных стадий  \n",
    "\n",
    "-----------------------------------------------------------------------------------------------------------------------------\n",
    "`rougher` - первичная   \n",
    "\n",
    "Последующая состоящая из \n",
    "первичной `primary_cleaner` \n",
    "и вторичной очистки`secondary_cleaner` \n",
    "\n",
    "Заключающая `final`\n",
    "\n",
    "---------------------------------------------------\n",
    "`input` показатели перед стадией  \n",
    "`output` после прохождения стадии  \n",
    "`calculation` вычисляемые  \n",
    "\n",
    "---------------------------------------------------\n",
    "`state.floatbank...` - технологические показатели узла\n",
    "\n",
    "---------------------------------------------------\n",
    "`concentrate_...` - концентрация веществ в растворе переходящий на дальнейшую стадию  \n",
    "`tail_...` - концентрация веществ в растворе удаляемом из основного цикла  \n"
   ]
  },
  {
   "cell_type": "code",
   "execution_count": 5,
   "metadata": {
    "scrolled": false
   },
   "outputs": [
    {
     "data": {
      "text/plain": [
       "<AxesSubplot:>"
      ]
     },
     "execution_count": 5,
     "metadata": {},
     "output_type": "execute_result"
    },
    {
     "data": {
      "image/png": "[encoded data removed]",
      "text/plain": [
       "<Figure size 1800x720 with 2 Axes>"
      ]
     },
     "metadata": {
      "needs_background": "light"
     },
     "output_type": "display_data"
    }
   ],
   "source": [
    "msno.matrix(df_full)"
   ]
  },
  {
   "cell_type": "markdown",
   "metadata": {},
   "source": [
    "в данных имеется значительное количество пропусков"
   ]
  },
  {
   "cell_type": "code",
   "execution_count": 6,
   "metadata": {
    "scrolled": false
   },
   "outputs": [
    {
     "data": {
      "text/plain": [
       "<AxesSubplot:>"
      ]
     },
     "execution_count": 6,
     "metadata": {},
     "output_type": "execute_result"
    },
    {
     "data": {
      "image/png": "[encoded data removed]",
      "text/plain": [
       "<Figure size 1800x720 with 2 Axes>"
      ]
     },
     "metadata": {
      "needs_background": "light"
     },
     "output_type": "display_data"
    }
   ],
   "source": [
    "msno.matrix(df_full.fillna(1)[df_full.fillna(1).round(1)!=0])"
   ]
  },
  {
   "cell_type": "markdown",
   "metadata": {},
   "source": [
    "и нулевых значений"
   ]
  },
  {
   "cell_type": "code",
   "execution_count": 7,
   "metadata": {},
   "outputs": [
    {
     "data": {
      "text/html": [
       "<div>\n",
       "<style scoped>\n",
       "    .dataframe tbody tr th:only-of-type {\n",
       "        vertical-align: middle;\n",
       "    }\n",
       "\n",
       "    .dataframe tbody tr th {\n",
       "        vertical-align: top;\n",
       "    }\n",
       "\n",
       "    .dataframe thead th {\n",
       "        text-align: right;\n",
       "    }\n",
       "</style>\n",
       "<table border=\"1\" class=\"dataframe\">\n",
       "  <thead>\n",
       "    <tr style=\"text-align: right;\">\n",
       "      <th></th>\n",
       "      <th>final.output.concentrate_ag</th>\n",
       "      <th>final.output.concentrate_pb</th>\n",
       "      <th>final.output.concentrate_sol</th>\n",
       "      <th>final.output.concentrate_au</th>\n",
       "      <th>final.output.recovery</th>\n",
       "      <th>final.output.tail_ag</th>\n",
       "      <th>final.output.tail_pb</th>\n",
       "      <th>final.output.tail_sol</th>\n",
       "      <th>final.output.tail_au</th>\n",
       "      <th>primary_cleaner.input.sulfate</th>\n",
       "      <th>...</th>\n",
       "      <th>secondary_cleaner.state.floatbank4_a_air</th>\n",
       "      <th>secondary_cleaner.state.floatbank4_a_level</th>\n",
       "      <th>secondary_cleaner.state.floatbank4_b_air</th>\n",
       "      <th>secondary_cleaner.state.floatbank4_b_level</th>\n",
       "      <th>secondary_cleaner.state.floatbank5_a_air</th>\n",
       "      <th>secondary_cleaner.state.floatbank5_a_level</th>\n",
       "      <th>secondary_cleaner.state.floatbank5_b_air</th>\n",
       "      <th>secondary_cleaner.state.floatbank5_b_level</th>\n",
       "      <th>secondary_cleaner.state.floatbank6_a_air</th>\n",
       "      <th>secondary_cleaner.state.floatbank6_a_level</th>\n",
       "    </tr>\n",
       "  </thead>\n",
       "  <tbody>\n",
       "    <tr>\n",
       "      <th>count</th>\n",
       "      <td>19438.000000</td>\n",
       "      <td>19438.000000</td>\n",
       "      <td>19228.000000</td>\n",
       "      <td>19439.000000</td>\n",
       "      <td>19439.000000</td>\n",
       "      <td>19438.000000</td>\n",
       "      <td>19338.000000</td>\n",
       "      <td>19433.000000</td>\n",
       "      <td>19439.000000</td>\n",
       "      <td>19415.000000</td>\n",
       "      <td>...</td>\n",
       "      <td>19433.000000</td>\n",
       "      <td>19438.000000</td>\n",
       "      <td>19438.000000</td>\n",
       "      <td>19438.000000</td>\n",
       "      <td>19438.000000</td>\n",
       "      <td>19438.000000</td>\n",
       "      <td>19438.000000</td>\n",
       "      <td>19438.000000</td>\n",
       "      <td>19437.000000</td>\n",
       "      <td>19438.000000</td>\n",
       "    </tr>\n",
       "    <tr>\n",
       "      <th>mean</th>\n",
       "      <td>5.168470</td>\n",
       "      <td>9.978895</td>\n",
       "      <td>9.501224</td>\n",
       "      <td>44.076513</td>\n",
       "      <td>67.050208</td>\n",
       "      <td>9.688589</td>\n",
       "      <td>2.705795</td>\n",
       "      <td>10.583728</td>\n",
       "      <td>3.042467</td>\n",
       "      <td>144.624774</td>\n",
       "      <td>...</td>\n",
       "      <td>18.987674</td>\n",
       "      <td>-485.894516</td>\n",
       "      <td>15.010366</td>\n",
       "      <td>-461.078636</td>\n",
       "      <td>15.694452</td>\n",
       "      <td>-488.684065</td>\n",
       "      <td>12.198224</td>\n",
       "      <td>-487.149827</td>\n",
       "      <td>18.959024</td>\n",
       "      <td>-505.436305</td>\n",
       "    </tr>\n",
       "    <tr>\n",
       "      <th>std</th>\n",
       "      <td>1.372348</td>\n",
       "      <td>1.669240</td>\n",
       "      <td>2.787537</td>\n",
       "      <td>5.129784</td>\n",
       "      <td>10.125840</td>\n",
       "      <td>2.328642</td>\n",
       "      <td>0.949077</td>\n",
       "      <td>2.868782</td>\n",
       "      <td>0.922808</td>\n",
       "      <td>44.464071</td>\n",
       "      <td>...</td>\n",
       "      <td>5.411058</td>\n",
       "      <td>47.758570</td>\n",
       "      <td>4.890228</td>\n",
       "      <td>67.405524</td>\n",
       "      <td>5.510974</td>\n",
       "      <td>34.533396</td>\n",
       "      <td>5.333024</td>\n",
       "      <td>38.347312</td>\n",
       "      <td>5.550498</td>\n",
       "      <td>37.689057</td>\n",
       "    </tr>\n",
       "    <tr>\n",
       "      <th>min</th>\n",
       "      <td>0.000000</td>\n",
       "      <td>0.000000</td>\n",
       "      <td>0.000000</td>\n",
       "      <td>0.000000</td>\n",
       "      <td>0.000000</td>\n",
       "      <td>0.000000</td>\n",
       "      <td>0.000000</td>\n",
       "      <td>0.000000</td>\n",
       "      <td>0.000000</td>\n",
       "      <td>0.003112</td>\n",
       "      <td>...</td>\n",
       "      <td>0.000000</td>\n",
       "      <td>-799.798523</td>\n",
       "      <td>0.000000</td>\n",
       "      <td>-800.836914</td>\n",
       "      <td>-0.372054</td>\n",
       "      <td>-797.323986</td>\n",
       "      <td>0.528083</td>\n",
       "      <td>-800.220337</td>\n",
       "      <td>-0.079426</td>\n",
       "      <td>-809.741464</td>\n",
       "    </tr>\n",
       "    <tr>\n",
       "      <th>25%</th>\n",
       "      <td>4.251240</td>\n",
       "      <td>9.137262</td>\n",
       "      <td>7.722820</td>\n",
       "      <td>43.402215</td>\n",
       "      <td>63.299712</td>\n",
       "      <td>8.062878</td>\n",
       "      <td>2.040119</td>\n",
       "      <td>8.938947</td>\n",
       "      <td>2.461138</td>\n",
       "      <td>114.107029</td>\n",
       "      <td>...</td>\n",
       "      <td>14.975734</td>\n",
       "      <td>-500.704892</td>\n",
       "      <td>11.940294</td>\n",
       "      <td>-500.187742</td>\n",
       "      <td>10.988606</td>\n",
       "      <td>-500.458467</td>\n",
       "      <td>8.971105</td>\n",
       "      <td>-500.129462</td>\n",
       "      <td>14.983037</td>\n",
       "      <td>-500.728067</td>\n",
       "    </tr>\n",
       "    <tr>\n",
       "      <th>50%</th>\n",
       "      <td>5.066094</td>\n",
       "      <td>10.102433</td>\n",
       "      <td>9.218961</td>\n",
       "      <td>45.011244</td>\n",
       "      <td>68.172738</td>\n",
       "      <td>9.743623</td>\n",
       "      <td>2.748730</td>\n",
       "      <td>10.622456</td>\n",
       "      <td>2.984909</td>\n",
       "      <td>143.232103</td>\n",
       "      <td>...</td>\n",
       "      <td>18.017481</td>\n",
       "      <td>-499.837793</td>\n",
       "      <td>14.971014</td>\n",
       "      <td>-499.459786</td>\n",
       "      <td>15.000036</td>\n",
       "      <td>-499.802605</td>\n",
       "      <td>11.019433</td>\n",
       "      <td>-499.935317</td>\n",
       "      <td>19.960541</td>\n",
       "      <td>-500.048400</td>\n",
       "    </tr>\n",
       "    <tr>\n",
       "      <th>75%</th>\n",
       "      <td>5.895527</td>\n",
       "      <td>11.035769</td>\n",
       "      <td>10.947813</td>\n",
       "      <td>46.275313</td>\n",
       "      <td>72.686642</td>\n",
       "      <td>11.134294</td>\n",
       "      <td>3.333216</td>\n",
       "      <td>12.104271</td>\n",
       "      <td>3.571351</td>\n",
       "      <td>175.075656</td>\n",
       "      <td>...</td>\n",
       "      <td>23.012470</td>\n",
       "      <td>-498.249730</td>\n",
       "      <td>19.034162</td>\n",
       "      <td>-400.118106</td>\n",
       "      <td>18.026190</td>\n",
       "      <td>-498.384187</td>\n",
       "      <td>14.019088</td>\n",
       "      <td>-499.436708</td>\n",
       "      <td>24.003170</td>\n",
       "      <td>-499.495378</td>\n",
       "    </tr>\n",
       "    <tr>\n",
       "      <th>max</th>\n",
       "      <td>16.001945</td>\n",
       "      <td>17.031899</td>\n",
       "      <td>19.615720</td>\n",
       "      <td>52.756638</td>\n",
       "      <td>100.000000</td>\n",
       "      <td>19.552149</td>\n",
       "      <td>5.804178</td>\n",
       "      <td>22.317730</td>\n",
       "      <td>8.245022</td>\n",
       "      <td>265.983123</td>\n",
       "      <td>...</td>\n",
       "      <td>30.115735</td>\n",
       "      <td>-245.239184</td>\n",
       "      <td>31.269706</td>\n",
       "      <td>-6.506986</td>\n",
       "      <td>43.709931</td>\n",
       "      <td>-244.483566</td>\n",
       "      <td>27.926001</td>\n",
       "      <td>-137.740004</td>\n",
       "      <td>32.188906</td>\n",
       "      <td>-104.427459</td>\n",
       "    </tr>\n",
       "  </tbody>\n",
       "</table>\n",
       "<p>8 rows × 86 columns</p>\n",
       "</div>"
      ],
      "text/plain": [
       "       final.output.concentrate_ag  final.output.concentrate_pb  \\\n",
       "count                 19438.000000                 19438.000000   \n",
       "mean                      5.168470                     9.978895   \n",
       "std                       1.372348                     1.669240   \n",
       "min                       0.000000                     0.000000   \n",
       "25%                       4.251240                     9.137262   \n",
       "50%                       5.066094                    10.102433   \n",
       "75%                       5.895527                    11.035769   \n",
       "max                      16.001945                    17.031899   \n",
       "\n",
       "       final.output.concentrate_sol  final.output.concentrate_au  \\\n",
       "count                  19228.000000                 19439.000000   \n",
       "mean                       9.501224                    44.076513   \n",
       "std                        2.787537                     5.129784   \n",
       "min                        0.000000                     0.000000   \n",
       "25%                        7.722820                    43.402215   \n",
       "50%                        9.218961                    45.011244   \n",
       "75%                       10.947813                    46.275313   \n",
       "max                       19.615720                    52.756638   \n",
       "\n",
       "       final.output.recovery  final.output.tail_ag  final.output.tail_pb  \\\n",
       "count           19439.000000          19438.000000          19338.000000   \n",
       "mean               67.050208              9.688589              2.705795   \n",
       "std                10.125840              2.328642              0.949077   \n",
       "min                 0.000000              0.000000              0.000000   \n",
       "25%                63.299712              8.062878              2.040119   \n",
       "50%                68.172738              9.743623              2.748730   \n",
       "75%                72.686642             11.134294              3.333216   \n",
       "max               100.000000             19.552149              5.804178   \n",
       "\n",
       "       final.output.tail_sol  final.output.tail_au  \\\n",
       "count           19433.000000          19439.000000   \n",
       "mean               10.583728              3.042467   \n",
       "std                 2.868782              0.922808   \n",
       "min                 0.000000              0.000000   \n",
       "25%                 8.938947              2.461138   \n",
       "50%                10.622456              2.984909   \n",
       "75%                12.104271              3.571351   \n",
       "max                22.317730              8.245022   \n",
       "\n",
       "       primary_cleaner.input.sulfate  ...  \\\n",
       "count                   19415.000000  ...   \n",
       "mean                      144.624774  ...   \n",
       "std                        44.464071  ...   \n",
       "min                         0.003112  ...   \n",
       "25%                       114.107029  ...   \n",
       "50%                       143.232103  ...   \n",
       "75%                       175.075656  ...   \n",
       "max                       265.983123  ...   \n",
       "\n",
       "       secondary_cleaner.state.floatbank4_a_air  \\\n",
       "count                              19433.000000   \n",
       "mean                                  18.987674   \n",
       "std                                    5.411058   \n",
       "min                                    0.000000   \n",
       "25%                                   14.975734   \n",
       "50%                                   18.017481   \n",
       "75%                                   23.012470   \n",
       "max                                   30.115735   \n",
       "\n",
       "       secondary_cleaner.state.floatbank4_a_level  \\\n",
       "count                                19438.000000   \n",
       "mean                                  -485.894516   \n",
       "std                                     47.758570   \n",
       "min                                   -799.798523   \n",
       "25%                                   -500.704892   \n",
       "50%                                   -499.837793   \n",
       "75%                                   -498.249730   \n",
       "max                                   -245.239184   \n",
       "\n",
       "       secondary_cleaner.state.floatbank4_b_air  \\\n",
       "count                              19438.000000   \n",
       "mean                                  15.010366   \n",
       "std                                    4.890228   \n",
       "min                                    0.000000   \n",
       "25%                                   11.940294   \n",
       "50%                                   14.971014   \n",
       "75%                                   19.034162   \n",
       "max                                   31.269706   \n",
       "\n",
       "       secondary_cleaner.state.floatbank4_b_level  \\\n",
       "count                                19438.000000   \n",
       "mean                                  -461.078636   \n",
       "std                                     67.405524   \n",
       "min                                   -800.836914   \n",
       "25%                                   -500.187742   \n",
       "50%                                   -499.459786   \n",
       "75%                                   -400.118106   \n",
       "max                                     -6.506986   \n",
       "\n",
       "       secondary_cleaner.state.floatbank5_a_air  \\\n",
       "count                              19438.000000   \n",
       "mean                                  15.694452   \n",
       "std                                    5.510974   \n",
       "min                                   -0.372054   \n",
       "25%                                   10.988606   \n",
       "50%                                   15.000036   \n",
       "75%                                   18.026190   \n",
       "max                                   43.709931   \n",
       "\n",
       "       secondary_cleaner.state.floatbank5_a_level  \\\n",
       "count                                19438.000000   \n",
       "mean                                  -488.684065   \n",
       "std                                     34.533396   \n",
       "min                                   -797.323986   \n",
       "25%                                   -500.458467   \n",
       "50%                                   -499.802605   \n",
       "75%                                   -498.384187   \n",
       "max                                   -244.483566   \n",
       "\n",
       "       secondary_cleaner.state.floatbank5_b_air  \\\n",
       "count                              19438.000000   \n",
       "mean                                  12.198224   \n",
       "std                                    5.333024   \n",
       "min                                    0.528083   \n",
       "25%                                    8.971105   \n",
       "50%                                   11.019433   \n",
       "75%                                   14.019088   \n",
       "max                                   27.926001   \n",
       "\n",
       "       secondary_cleaner.state.floatbank5_b_level  \\\n",
       "count                                19438.000000   \n",
       "mean                                  -487.149827   \n",
       "std                                     38.347312   \n",
       "min                                   -800.220337   \n",
       "25%                                   -500.129462   \n",
       "50%                                   -499.935317   \n",
       "75%                                   -499.436708   \n",
       "max                                   -137.740004   \n",
       "\n",
       "       secondary_cleaner.state.floatbank6_a_air  \\\n",
       "count                              19437.000000   \n",
       "mean                                  18.959024   \n",
       "std                                    5.550498   \n",
       "min                                   -0.079426   \n",
       "25%                                   14.983037   \n",
       "50%                                   19.960541   \n",
       "75%                                   24.003170   \n",
       "max                                   32.188906   \n",
       "\n",
       "       secondary_cleaner.state.floatbank6_a_level  \n",
       "count                                19438.000000  \n",
       "mean                                  -505.436305  \n",
       "std                                     37.689057  \n",
       "min                                   -809.741464  \n",
       "25%                                   -500.728067  \n",
       "50%                                   -500.048400  \n",
       "75%                                   -499.495378  \n",
       "max                                   -104.427459  \n",
       "\n",
       "[8 rows x 86 columns]"
      ]
     },
     "execution_count": 7,
     "metadata": {},
     "output_type": "execute_result"
    }
   ],
   "source": [
    "df_full.describe()"
   ]
  },
  {
   "cell_type": "markdown",
   "metadata": {},
   "source": [
    "Зачастую в тех местах где это не разумно с технологической точки зрения. И связано скорей всего со сбоем измерительного оборудования."
   ]
  },
  {
   "cell_type": "markdown",
   "metadata": {},
   "source": [
    "Не буду душить аналогичными простынями текста с двух других файлов. Сыграем на доверии.  \n",
    "Описанное выше справедливо также и для файлов с тренировочной и тестовой выборками"
   ]
  },
  {
   "cell_type": "markdown",
   "metadata": {},
   "source": [
    "## Анализ данных"
   ]
  },
  {
   "cell_type": "markdown",
   "metadata": {},
   "source": [
    "Согласно условию, данные в признаке `rougher.output.recovery` рассчитываются по формуле"
   ]
  },
  {
   "cell_type": "markdown",
   "metadata": {},
   "source": [
    "$$ Recovery = \\frac{C*(F-T)}{F*(C-T)} *100\\% $$"
   ]
  },
  {
   "cell_type": "markdown",
   "metadata": {},
   "source": [
    "где    \n",
    "C — доля золота в концентрате после флотации/очистки;  \n",
    "F — доля золота в сырье/концентрате до флотации/очистки;  \n",
    "T — доля золота в отвальных хвостах после флотации/очистки.  "
   ]
  },
  {
   "cell_type": "markdown",
   "metadata": {},
   "source": [
    "Что мы и проверим"
   ]
  },
  {
   "cell_type": "code",
   "execution_count": 8,
   "metadata": {},
   "outputs": [],
   "source": [
    "def rou_calc(concentrate, feed_au, tail_au):\n",
    "  return (concentrate*(feed_au-tail_au))/(feed_au*(concentrate-tail_au))*100"
   ]
  },
  {
   "cell_type": "code",
   "execution_count": 9,
   "metadata": {},
   "outputs": [],
   "source": [
    "df_routher = pd.DataFrame()\n",
    "df_routher['available_rou'] = df['rougher.output.recovery']\n",
    "df_routher['calculated_rou'] = rou_calc(df['rougher.output.concentrate_au'],\n",
    "                                        df['rougher.input.feed_au'],\n",
    "                                        df['rougher.output.tail_au'])\n",
    "df_routher = df_routher.round(6)"
   ]
  },
  {
   "cell_type": "code",
   "execution_count": 10,
   "metadata": {},
   "outputs": [
    {
     "name": "stdout",
     "output_type": "stream",
     "text": [
      " MAE: 0.0 \n"
     ]
    }
   ],
   "source": [
    "print(f''' MAE: {\n",
    "mean_absolute_error(df_routher['available_rou'].dropna(), df_routher['calculated_rou'].dropna())} ''')"
   ]
  },
  {
   "cell_type": "markdown",
   "metadata": {},
   "source": [
    "Взглянем на изменениие концентрации веществ в зависимости от этапа обработки"
   ]
  },
  {
   "cell_type": "code",
   "execution_count": 11,
   "metadata": {
    "scrolled": false
   },
   "outputs": [
    {
     "data": {
      "image/png": "[encoded data removed]",
      "text/plain": [
       "<Figure size 1080x1080 with 4 Axes>"
      ]
     },
     "metadata": {
      "needs_background": "light"
     },
     "output_type": "display_data"
    }
   ],
   "source": [
    "stages = ['rougher', 'primary_cleaner','final']\n",
    "f, axs = plt.subplots(4,1, figsize=(15,15), sharex=True)\n",
    "plt.suptitle('Сoncentration at stages', fontsize=20, y=0.92)\n",
    "\n",
    "sns.histplot(ax=axs[0],\n",
    "               data=df_full\\\n",
    "                  .filter(regex='rougher\\.input\\.feed_[agpbusol]{2,3}',axis=1)\\\n",
    "                  .rename(columns=lambda x: x.split('.')[-1]),\n",
    "               stat='percent', kde=True).set_title('initial', fontsize=15)\n",
    "\n",
    "for i, stage in enumerate(stages):\n",
    "  sns.histplot(ax=axs[i+1],\n",
    "               data=df_full\\\n",
    "                  .filter(like=f'{stage}.output.concentrate', axis=1)\\\n",
    "                  .rename(columns=lambda x: x.split('.')[-1]),\n",
    "               stat='percent', kde=True).set_title(stage, fontsize=15)"
   ]
  },
  {
   "cell_type": "markdown",
   "metadata": {},
   "source": [
    "Так как компания золотодобывающая, весьма логично видеть на графиках, что технология позволяет увеличивать концентрацию золота в дисперсии."
   ]
  },
  {
   "cell_type": "code",
   "execution_count": 12,
   "metadata": {},
   "outputs": [
    {
     "data": {
      "text/plain": [
       "<matplotlib.legend.Legend at 0x7f3ae5fd8b20>"
      ]
     },
     "execution_count": 12,
     "metadata": {},
     "output_type": "execute_result"
    },
    {
     "data": {
      "image/png": "[encoded data removed]",
      "text/plain": [
       "<Figure size 1080x720 with 2 Axes>"
      ]
     },
     "metadata": {
      "needs_background": "light"
     },
     "output_type": "display_data"
    }
   ],
   "source": [
    "f, axs = plt.subplots(1,2, figsize=(15,10))\n",
    "plt.suptitle('sizes distribution', fontsize=20, y=0.92)\n",
    "\n",
    "sns.histplot(ax=axs[0],\n",
    "             data=df.filter(like='rougher.input.feed_size', axis=1),\n",
    "             bins=250, stat='percent').set_xlim(0,100)\n",
    "\n",
    "sns.histplot(ax=axs[0],\n",
    "             data=df_test.filter(like='rougher.input.feed_size', axis=1),\n",
    "             bins=250, stat='percent', palette='Oranges', alpha=0.7).set_xlim(0,100)\n",
    "\n",
    "axs[0].legend(['train rougher feed size', 'test rougher feed size'])\n",
    "\n",
    "sns.histplot(ax=axs[1],\n",
    "             data=df.filter(like='cleaner.input.feed_size', axis=1),\n",
    "             bins=30, stat='percent').set_xlim(0,15)\n",
    "sns.histplot(ax=axs[1],\n",
    "             data=df_test.filter(like='cleaner.input.feed_size', axis=1),\n",
    "             bins=30, stat='percent', palette='Oranges', alpha=0.7).set_xlim(0,15)\n",
    "\n",
    "axs[1].legend(['train primary cleaner feed size', 'test primary cleaner feed size'])\n"
   ]
  },
  {
   "cell_type": "markdown",
   "metadata": {},
   "source": [
    "Если распределение гранул в обучающей и тестовой выборке на этапе вторичной очистки несомненно идентичны, то вот изначальный их размер в выборках весьма не похож"
   ]
  },
  {
   "cell_type": "code",
   "execution_count": 13,
   "metadata": {},
   "outputs": [
    {
     "name": "stdout",
     "output_type": "stream",
     "text": [
      "p-value: 7.865316540588674e-33\n"
     ]
    }
   ],
   "source": [
    "print(f'''p-value: {\n",
    "stats.ttest_ind(df['rougher.input.feed_size'].dropna(), df_test['rougher.input.feed_size'].dropna()).pvalue}''')"
   ]
  },
  {
   "cell_type": "markdown",
   "metadata": {},
   "source": [
    "Что подтвержается статистически. Но изначальные условия не предоставляют выбора, поэтому продолжаем работать с тем, что имеется"
   ]
  },
  {
   "cell_type": "code",
   "execution_count": 14,
   "metadata": {
    "scrolled": false
   },
   "outputs": [
    {
     "data": {
      "text/plain": [
       "<matplotlib.legend.Legend at 0x7f3ae610e460>"
      ]
     },
     "execution_count": 14,
     "metadata": {},
     "output_type": "execute_result"
    },
    {
     "data": {
      "image/png": "[encoded data removed]",
      "text/plain": [
       "<Figure size 1080x360 with 1 Axes>"
      ]
     },
     "metadata": {
      "needs_background": "light"
     },
     "output_type": "display_data"
    }
   ],
   "source": [
    "stages = ['rougher', 'primary_cleaner', 'final']\n",
    "colors = ['#00CC00', '#00CCCC','#0000CC']\n",
    "\n",
    "plt.figure(figsize=(15,5))\n",
    "plt.title('Сoncentration at stages', fontsize=20)\n",
    "\n",
    "sns.histplot(data=df.filter(regex='rougher\\.input\\.feed_[agpbusol]{2,3}',\n",
    "                            axis=1).sum(axis=1),\n",
    "              stat='percent',\n",
    "              kde=True,\n",
    "              color='#CCCC00',\n",
    "              alpha=0.6)\n",
    "\n",
    "for color, stage in zip(colors,stages):\n",
    "  sns.histplot(data=df.filter(like=f'{stage}.output.concentrate_',\n",
    "                              axis=1).sum(axis=1),\n",
    "                stat='percent',\n",
    "                kde=True,\n",
    "                color=color,\n",
    "                alpha=0.6)\n",
    "# c цветами получилось как-то не очень изящно и не очень красиво. Может есть способ получше?\n",
    "plt.legend(['start', 'rougher', 'primary_cleaner', 'final'])"
   ]
  },
  {
   "cell_type": "markdown",
   "metadata": {},
   "source": [
    "А это суммарная концентрация веществ на разных этапах. Учитывая сложность технологии, не имею компетенции и информации, чтобы делать из этого какие-либо выводы"
   ]
  },
  {
   "cell_type": "markdown",
   "metadata": {},
   "source": [
    "## Подготовка данных"
   ]
  },
  {
   "cell_type": "markdown",
   "metadata": {},
   "source": [
    "Как мы неоднократно убедились ранее в данных много пропусков, выбросов и нулевых значений как в тренировочной так и в тестовой выборке. Для дальнейшей работы почистим данные от них."
   ]
  },
  {
   "cell_type": "code",
   "execution_count": 15,
   "metadata": {},
   "outputs": [],
   "source": [
    "df = df.drop('date', axis=1) \n",
    "df = df[df.round(1)!=0] # удаляем нулевые и минимально отклонившиеся от нуля данные\n",
    "df_clean = df[((df<df.quantile(0.99)) & (df>df.quantile(0.01))).all(axis=1)] # удаляем выбросы"
   ]
  },
  {
   "cell_type": "code",
   "execution_count": 16,
   "metadata": {},
   "outputs": [],
   "source": [
    "df_test_clean = df_test.merge(df_full[['date',\n",
    "                                 'rougher.output.recovery',\n",
    "                                 'final.output.recovery']],\n",
    "                            how='left',\n",
    "                            on='date') # добавляем целевые признаки\n",
    "df_test_clean = df_test_clean[df_test_clean.round(1)!=0] # чистим от нулей в то числе и в целевых признаках\n",
    "df_test_clean = df_test_clean.dropna() "
   ]
  },
  {
   "cell_type": "markdown",
   "metadata": {},
   "source": [
    "## Модель"
   ]
  },
  {
   "cell_type": "markdown",
   "metadata": {},
   "source": [
    "Эффективность модели будет оцениваться по сумме симметричных средних абсолютных процентных отклонений (sMAPE) для двух признаков по формуле"
   ]
  },
  {
   "cell_type": "markdown",
   "metadata": {},
   "source": [
    "$$ 25\\% \\ sMAPE(routher) + 75\\% \\  sMAPE(final) $$"
   ]
  },
  {
   "cell_type": "markdown",
   "metadata": {},
   "source": [
    "где"
   ]
  },
  {
   "cell_type": "markdown",
   "metadata": {},
   "source": [
    "$$ sMAPE = \\frac{1}{N} \\sum \\frac{|y-\\overline{y}|}{(|y|+|\\overline{y}|)/2}*100\\% $$"
   ]
  },
  {
   "cell_type": "markdown",
   "metadata": {},
   "source": [
    "где  \n",
    "$y$ - значение целевого признака для объекта  \n",
    "$\\overline{y}$ - значение предсказания для объекта  \n",
    "$N$ - количество объектов в выборке  "
   ]
  },
  {
   "cell_type": "code",
   "execution_count": 17,
   "metadata": {},
   "outputs": [],
   "source": [
    "def smape(y_true, y_pred):\n",
    "    return ((np.abs(y_true-y_pred))/((np.abs(y_true)+np.abs(y_pred))/2)).mean()*100\n",
    "\n",
    "def smape_sum(y_true, y_pred): # ['rougher.output.recovery','final.output.recovery']\n",
    "  \n",
    "  rou_rec_pred = y_pred.T[0]  \n",
    "  rou_rec_true = y_true['rougher.output.recovery'].values\n",
    "  \n",
    "  final_rec_pred = y_pred.T[1]\n",
    "  final_rec_true = y_true['final.output.recovery'].values\n",
    "    \n",
    "  return 0.25*smape(rou_rec_true, rou_rec_pred)+0.75*smape(final_rec_true, final_rec_pred) \n",
    "\n",
    "scorer = make_scorer(smape_sum, greater_is_better=False) #для дальнейшего cross_val_score"
   ]
  },
  {
   "cell_type": "markdown",
   "metadata": {},
   "source": [
    "Разделяй и ~властвуй~ тренируй"
   ]
  },
  {
   "cell_type": "code",
   "execution_count": 18,
   "metadata": {},
   "outputs": [],
   "source": [
    "df_train_X = df_clean.loc[:, df_test.drop(['date'], axis=1).columns]\n",
    "df_train_y = df_clean[['rougher.output.recovery',\n",
    "                        'final.output.recovery']]\n",
    "\n",
    "df_test_X = df_test_clean.drop(['date',\n",
    "                          'rougher.output.recovery',\n",
    "                          'final.output.recovery'],\n",
    "                          axis=1)\n",
    "df_test_y = df_test_clean[['rougher.output.recovery',\n",
    "                           'final.output.recovery']]\n"
   ]
  },
  {
   "cell_type": "markdown",
   "metadata": {},
   "source": [
    "обучим и оценим качество используемых моделей как и просили на `cross_val_score`"
   ]
  },
  {
   "cell_type": "markdown",
   "metadata": {},
   "source": [
    "сумма sMAPE для средней константы"
   ]
  },
  {
   "cell_type": "code",
   "execution_count": 19,
   "metadata": {},
   "outputs": [
    {
     "data": {
      "text/plain": [
       "7.292748129407008"
      ]
     },
     "execution_count": 19,
     "metadata": {},
     "output_type": "execute_result"
    }
   ],
   "source": [
    "x = df_clean[['rougher.output.recovery','final.output.recovery']]\n",
    "\n",
    "primary_smape = (((x-x.mean()).abs())/((x+x.mean())/2)).mean()*100\n",
    "\n",
    "0.25*primary_smape[0]+0.75*primary_smape[1]"
   ]
  },
  {
   "cell_type": "markdown",
   "metadata": {},
   "source": [
    "сумма sMAPE для DummyRegressor"
   ]
  },
  {
   "cell_type": "code",
   "execution_count": 20,
   "metadata": {
    "scrolled": true
   },
   "outputs": [
    {
     "data": {
      "text/plain": [
       "7.841708713642781"
      ]
     },
     "execution_count": 20,
     "metadata": {},
     "output_type": "execute_result"
    }
   ],
   "source": [
    "dum = DummyRegressor(strategy='mean')\n",
    "np.absolute(cross_val_score(dum, df_train_X, df_train_y, cv=5, scoring=scorer).mean())\n",
    "# здесь тоже не понял почему возникает разница на 0.5"
   ]
  },
  {
   "cell_type": "markdown",
   "metadata": {},
   "source": [
    "сумма sMAPE для SVR"
   ]
  },
  {
   "cell_type": "code",
   "execution_count": 21,
   "metadata": {},
   "outputs": [
    {
     "data": {
      "text/plain": [
       "6.630306958168182"
      ]
     },
     "execution_count": 21,
     "metadata": {},
     "output_type": "execute_result"
    }
   ],
   "source": [
    "multi_liner = MultiOutputRegressor(SVR(C=2.5, epsilon=0.2))\n",
    "pipe_liner = make_pipeline(StandardScaler(), multi_liner)\n",
    "\n",
    "np.absolute(cross_val_score(pipe_liner, df_train_X, df_train_y, cv=5, scoring=scorer).mean())"
   ]
  },
  {
   "cell_type": "markdown",
   "metadata": {},
   "source": [
    "сумма sMAPE для KNN"
   ]
  },
  {
   "cell_type": "code",
   "execution_count": 22,
   "metadata": {},
   "outputs": [
    {
     "data": {
      "text/plain": [
       "7.376890887114458"
      ]
     },
     "execution_count": 22,
     "metadata": {},
     "output_type": "execute_result"
    }
   ],
   "source": [
    "multiKNR = MultiOutputRegressor(KNeighborsRegressor(n_neighbors=150))\n",
    "pipe_multiKNR = make_pipeline(StandardScaler(), multiKNR)\n",
    "\n",
    "np.absolute(cross_val_score(pipe_multiKNR, df_train_X, df_train_y, cv=5, scoring=scorer).mean())"
   ]
  },
  {
   "cell_type": "markdown",
   "metadata": {},
   "source": [
    "сумма sMAPE для catboost"
   ]
  },
  {
   "cell_type": "code",
   "execution_count": 23,
   "metadata": {},
   "outputs": [
    {
     "data": {
      "text/plain": [
       "6.66669729143802"
      ]
     },
     "execution_count": 23,
     "metadata": {},
     "output_type": "execute_result"
    }
   ],
   "source": [
    "cbr = CatBoostRegressor(iterations=2000,\n",
    "                        loss_function='MultiRMSE',\n",
    "                        depth=7,\n",
    "                        early_stopping_rounds=300,\n",
    "                        learning_rate=0.1,\n",
    "                        verbose=0)\n",
    "\n",
    "np.absolute(cross_val_score(cbr, df_train_X, df_train_y, cv=5, scoring=scorer).mean())"
   ]
  },
  {
   "cell_type": "markdown",
   "metadata": {},
   "source": [
    "бонус"
   ]
  },
  {
   "cell_type": "code",
   "execution_count": 24,
   "metadata": {},
   "outputs": [],
   "source": [
    "scaler = StandardScaler()\n",
    "scaler.fit_transform(df_train_X)\n",
    "df_train_X = scaler.transform(df_train_X)"
   ]
  },
  {
   "cell_type": "code",
   "execution_count": 25,
   "metadata": {},
   "outputs": [
    {
     "name": "stderr",
     "output_type": "stream",
     "text": [
      "2022-03-18 11:37:10.186771: I tensorflow/core/platform/cpu_feature_guard.cc:151] This TensorFlow binary is optimized with oneAPI Deep Neural Network Library (oneDNN) to use the following CPU instructions in performance-critical operations:  AVX2 FMA\n",
      "To enable them in other operations, rebuild TensorFlow with the appropriate compiler flags.\n"
     ]
    }
   ],
   "source": [
    "ker_model = k.Sequential()\n",
    "ker_model.add(k.layers.Dense(units=100, input_dim=52, activation='relu'))\n",
    "ker_model.add(k.layers.Dropout(0.5))\n",
    "ker_model.add(k.layers.Dense(units=50, input_dim=100, activation='tanh'))\n",
    "ker_model.add(k.layers.Dropout(0.5))\n",
    "ker_model.add(k.layers.Dense(units=2, input_dim=50, activation='relu'))\n",
    "ker_model.compile(loss='mse', optimizer='adam')"
   ]
  },
  {
   "cell_type": "markdown",
   "metadata": {},
   "source": [
    "Оценим качество моделей на тестовой выборке"
   ]
  },
  {
   "cell_type": "code",
   "execution_count": 26,
   "metadata": {},
   "outputs": [
    {
     "name": "stderr",
     "output_type": "stream",
     "text": [
      "/home/jovyan/.local/lib/python3.9/site-packages/sklearn/base.py:443: UserWarning: X has feature names, but StandardScaler was fitted without feature names\n",
      "  warnings.warn(\n",
      "/home/jovyan/.local/lib/python3.9/site-packages/sklearn/base.py:443: UserWarning: X has feature names, but StandardScaler was fitted without feature names\n",
      "  warnings.warn(\n"
     ]
    }
   ],
   "source": [
    "models = [dum, pipe_liner, pipe_multiKNR, cbr, ker_model]\n",
    "scores = {}\n",
    "\n",
    "for model in models:\n",
    "  if model.__class__.__name__ == 'Sequential':\n",
    "      model.fit(x=df_train_X, y=df_train_y, epochs=500, validation_split=0.1, batch_size=5, verbose=0)\n",
    "      scores[f'{model.__class__.__name__}'] = smape_sum(df_test_y, model.predict(scaler.transform(df_test_X)))\n",
    "      continue\n",
    "        \n",
    "  model.fit(df_train_X, df_train_y)\n",
    "\n",
    "  if model.__class__.__name__ == 'Pipeline':\n",
    "      scores[f'{model[-1].estimator.__class__.__name__}'] = smape_sum(df_test_y, model.predict(df_test_X))\n",
    "\n",
    "  else: scores[f'{model.__class__.__name__}'] = smape_sum(df_test_y, model.predict(df_test_X))\n"
   ]
  },
  {
   "cell_type": "markdown",
   "metadata": {},
   "source": [
    "И визуализируем результат"
   ]
  },
  {
   "cell_type": "code",
   "execution_count": 27,
   "metadata": {},
   "outputs": [
    {
     "data": {
      "image/png": "[encoded data removed]",
      "text/plain": [
       "<Figure size 864x432 with 1 Axes>"
      ]
     },
     "metadata": {
      "needs_background": "light"
     },
     "output_type": "display_data"
    }
   ],
   "source": [
    "plt.figure(figsize=(12,6))\n",
    "plt.title('Models sum of sMape', fontsize=20)\n",
    "ax = sns.barplot(x=list(scores.keys()), y=list(scores.values()))\n",
    "ax.bar_label(ax.containers[0], padding=-20, fontsize=15, fmt='%.3f', c='white');"
   ]
  },
  {
   "cell_type": "markdown",
   "metadata": {},
   "source": [
    "## Выводы"
   ]
  },
  {
   "cell_type": "markdown",
   "metadata": {},
   "source": [
    "Модели позволяют получить небольшое преимущество относительно константного среднего значения. Но требуется усилить способы получения актуальных данных."
   ]
  }
 ],
 "metadata": {
  "ExecuteTimeLog": [
   {
    "duration": 1905,
    "start_time": "2022-03-15T06:38:59.579Z"
   },
   {
    "duration": 4362,
    "start_time": "2022-03-15T06:39:22.371Z"
   },
   {
    "duration": 34211,
    "start_time": "2022-03-15T06:40:41.702Z"
   },
   {
    "duration": 432,
    "start_time": "2022-03-15T06:41:33.115Z"
   },
   {
    "duration": 915,
    "start_time": "2022-03-15T06:42:03.236Z"
   },
   {
    "duration": 4,
    "start_time": "2022-03-15T06:42:48.636Z"
   },
   {
    "duration": 19,
    "start_time": "2022-03-15T06:42:56.520Z"
   },
   {
    "duration": 11,
    "start_time": "2022-03-15T06:43:19.016Z"
   },
   {
    "duration": 16103,
    "start_time": "2022-03-15T09:14:21.748Z"
   },
   {
    "duration": 13874,
    "start_time": "2022-03-15T09:14:48.906Z"
   },
   {
    "duration": 1582,
    "start_time": "2022-03-15T09:15:02.783Z"
   },
   {
    "duration": 905,
    "start_time": "2022-03-15T09:15:04.368Z"
   },
   {
    "duration": 3,
    "start_time": "2022-03-15T09:15:05.276Z"
   },
   {
    "duration": 21,
    "start_time": "2022-03-15T09:15:05.281Z"
   },
   {
    "duration": 9,
    "start_time": "2022-03-15T09:15:05.304Z"
   },
   {
    "duration": 253,
    "start_time": "2022-03-15T09:15:05.315Z"
   },
   {
    "duration": 76,
    "start_time": "2022-03-15T09:15:05.570Z"
   },
   {
    "duration": 9525,
    "start_time": "2022-03-15T09:15:05.649Z"
   },
   {
    "duration": 2903,
    "start_time": "2022-03-15T09:15:15.177Z"
   },
   {
    "duration": 9,
    "start_time": "2022-03-15T09:15:18.083Z"
   },
   {
    "duration": 4016,
    "start_time": "2022-03-15T09:15:18.095Z"
   },
   {
    "duration": 11,
    "start_time": "2022-03-15T09:15:22.114Z"
   },
   {
    "duration": 6,
    "start_time": "2022-03-15T09:15:22.143Z"
   },
   {
    "duration": 19,
    "start_time": "2022-03-15T09:15:22.151Z"
   },
   {
    "duration": 35,
    "start_time": "2022-03-15T09:15:22.172Z"
   },
   {
    "duration": 4109,
    "start_time": "2022-03-15T09:15:22.209Z"
   },
   {
    "duration": 2029,
    "start_time": "2022-03-15T09:15:26.321Z"
   },
   {
    "duration": 1617304,
    "start_time": "2022-03-15T09:15:28.353Z"
   },
   {
    "duration": 651863,
    "start_time": "2022-03-15T09:48:02.418Z"
   },
   {
    "duration": 135624,
    "start_time": "2022-03-15T09:58:54.283Z"
   },
   {
    "duration": 478,
    "start_time": "2022-03-15T10:01:09.910Z"
   },
   {
    "duration": 10494,
    "start_time": "2022-03-15T10:16:37.471Z"
   },
   {
    "duration": 971,
    "start_time": "2022-03-15T10:16:58.779Z"
   },
   {
    "duration": 781,
    "start_time": "2022-03-15T10:17:08.619Z"
   },
   {
    "duration": 9617,
    "start_time": "2022-03-15T10:17:31.879Z"
   },
   {
    "duration": -14,
    "start_time": "2022-03-15T10:17:41.516Z"
   },
   {
    "duration": -27,
    "start_time": "2022-03-15T10:17:41.530Z"
   },
   {
    "duration": -27,
    "start_time": "2022-03-15T10:17:41.532Z"
   },
   {
    "duration": 8,
    "start_time": "2022-03-15T10:17:41.534Z"
   },
   {
    "duration": 10,
    "start_time": "2022-03-15T10:17:41.536Z"
   },
   {
    "duration": 11,
    "start_time": "2022-03-15T10:17:41.538Z"
   },
   {
    "duration": 10,
    "start_time": "2022-03-15T10:17:41.541Z"
   },
   {
    "duration": 11,
    "start_time": "2022-03-15T10:17:41.543Z"
   },
   {
    "duration": 12,
    "start_time": "2022-03-15T10:17:41.545Z"
   },
   {
    "duration": 12,
    "start_time": "2022-03-15T10:17:41.547Z"
   },
   {
    "duration": 7,
    "start_time": "2022-03-15T10:17:41.555Z"
   },
   {
    "duration": 7,
    "start_time": "2022-03-15T10:17:41.557Z"
   },
   {
    "duration": 7,
    "start_time": "2022-03-15T10:17:41.559Z"
   },
   {
    "duration": -50,
    "start_time": "2022-03-15T10:17:41.619Z"
   },
   {
    "duration": -51,
    "start_time": "2022-03-15T10:17:41.621Z"
   },
   {
    "duration": 20,
    "start_time": "2022-03-15T10:17:41.623Z"
   },
   {
    "duration": 11,
    "start_time": "2022-03-15T10:17:41.634Z"
   },
   {
    "duration": 10,
    "start_time": "2022-03-15T10:17:41.637Z"
   },
   {
    "duration": 7,
    "start_time": "2022-03-15T10:17:41.642Z"
   },
   {
    "duration": 7,
    "start_time": "2022-03-15T10:17:41.644Z"
   },
   {
    "duration": 19639,
    "start_time": "2022-03-15T10:17:45.809Z"
   },
   {
    "duration": 5,
    "start_time": "2022-03-15T10:18:46.491Z"
   },
   {
    "duration": 2744,
    "start_time": "2022-03-15T10:18:46.499Z"
   },
   {
    "duration": 903,
    "start_time": "2022-03-15T10:18:49.246Z"
   },
   {
    "duration": 4,
    "start_time": "2022-03-15T10:18:50.154Z"
   },
   {
    "duration": 23,
    "start_time": "2022-03-15T10:18:50.161Z"
   },
   {
    "duration": 9,
    "start_time": "2022-03-15T10:18:50.187Z"
   },
   {
    "duration": 261,
    "start_time": "2022-03-15T10:18:50.201Z"
   },
   {
    "duration": 80,
    "start_time": "2022-03-15T10:18:50.466Z"
   },
   {
    "duration": 8948,
    "start_time": "2022-03-15T10:18:50.548Z"
   },
   {
    "duration": 2645,
    "start_time": "2022-03-15T10:18:59.498Z"
   },
   {
    "duration": 10,
    "start_time": "2022-03-15T10:19:02.145Z"
   },
   {
    "duration": 4001,
    "start_time": "2022-03-15T10:19:02.157Z"
   },
   {
    "duration": 16,
    "start_time": "2022-03-15T10:19:06.160Z"
   },
   {
    "duration": 19,
    "start_time": "2022-03-15T10:19:06.179Z"
   },
   {
    "duration": 18,
    "start_time": "2022-03-15T10:19:06.200Z"
   },
   {
    "duration": 45,
    "start_time": "2022-03-15T10:19:06.244Z"
   },
   {
    "duration": 5144,
    "start_time": "2022-03-15T10:19:06.292Z"
   },
   {
    "duration": 2217,
    "start_time": "2022-03-15T10:19:11.442Z"
   },
   {
    "duration": 672225,
    "start_time": "2022-03-15T10:19:13.662Z"
   },
   {
    "duration": 132881,
    "start_time": "2022-03-15T10:30:25.890Z"
   },
   {
    "duration": 397,
    "start_time": "2022-03-15T10:32:38.774Z"
   },
   {
    "duration": 44504,
    "start_time": "2022-03-15T15:28:20.944Z"
   },
   {
    "duration": 1821,
    "start_time": "2022-03-15T15:39:14.468Z"
   },
   {
    "duration": 698,
    "start_time": "2022-03-15T15:39:27.108Z"
   },
   {
    "duration": 25,
    "start_time": "2022-03-15T15:39:43.519Z"
   },
   {
    "duration": 16,
    "start_time": "2022-03-15T15:40:06.240Z"
   },
   {
    "duration": 9,
    "start_time": "2022-03-15T16:13:16.348Z"
   },
   {
    "duration": 7,
    "start_time": "2022-03-15T16:13:24.123Z"
   },
   {
    "duration": 7,
    "start_time": "2022-03-15T16:13:50.926Z"
   },
   {
    "duration": 6,
    "start_time": "2022-03-15T16:13:53.967Z"
   },
   {
    "duration": 8,
    "start_time": "2022-03-15T16:14:16.655Z"
   },
   {
    "duration": 972,
    "start_time": "2022-03-15T16:14:43.764Z"
   },
   {
    "duration": 603,
    "start_time": "2022-03-15T16:17:00.945Z"
   },
   {
    "duration": 707,
    "start_time": "2022-03-15T16:18:10.859Z"
   },
   {
    "duration": 703,
    "start_time": "2022-03-15T16:18:21.321Z"
   },
   {
    "duration": 719,
    "start_time": "2022-03-15T16:18:34.749Z"
   },
   {
    "duration": 127,
    "start_time": "2022-03-15T16:19:21.294Z"
   },
   {
    "duration": 815,
    "start_time": "2022-03-15T16:20:37.374Z"
   },
   {
    "duration": 988,
    "start_time": "2022-03-15T16:20:56.968Z"
   },
   {
    "duration": 748,
    "start_time": "2022-03-15T16:21:07.358Z"
   },
   {
    "duration": 153,
    "start_time": "2022-03-15T16:24:18.625Z"
   },
   {
    "duration": 436,
    "start_time": "2022-03-15T16:24:27.931Z"
   },
   {
    "duration": 435,
    "start_time": "2022-03-15T16:24:35.680Z"
   },
   {
    "duration": 581,
    "start_time": "2022-03-15T16:24:46.127Z"
   },
   {
    "duration": 234,
    "start_time": "2022-03-15T16:27:04.764Z"
   },
   {
    "duration": 374,
    "start_time": "2022-03-15T16:27:10.507Z"
   },
   {
    "duration": 904,
    "start_time": "2022-03-15T16:28:10.043Z"
   },
   {
    "duration": 9,
    "start_time": "2022-03-15T16:28:33.297Z"
   },
   {
    "duration": 790,
    "start_time": "2022-03-15T16:32:06.253Z"
   },
   {
    "duration": 692,
    "start_time": "2022-03-15T16:32:21.756Z"
   },
   {
    "duration": 665,
    "start_time": "2022-03-15T16:32:35.379Z"
   },
   {
    "duration": 703,
    "start_time": "2022-03-15T16:33:45.864Z"
   },
   {
    "duration": 232,
    "start_time": "2022-03-15T16:35:07.026Z"
   },
   {
    "duration": 92,
    "start_time": "2022-03-15T16:37:43.427Z"
   },
   {
    "duration": 11,
    "start_time": "2022-03-15T16:42:21.211Z"
   },
   {
    "duration": 11,
    "start_time": "2022-03-15T16:44:06.444Z"
   },
   {
    "duration": 7434,
    "start_time": "2022-03-15T16:45:32.756Z"
   },
   {
    "duration": 703,
    "start_time": "2022-03-15T16:49:31.353Z"
   },
   {
    "duration": 1321,
    "start_time": "2022-03-15T16:57:54.320Z"
   },
   {
    "duration": 6,
    "start_time": "2022-03-15T17:01:11.453Z"
   },
   {
    "duration": 6,
    "start_time": "2022-03-15T17:02:24.586Z"
   },
   {
    "duration": 2,
    "start_time": "2022-03-15T17:13:59.229Z"
   },
   {
    "duration": 105,
    "start_time": "2022-03-15T17:14:30.975Z"
   },
   {
    "duration": 94,
    "start_time": "2022-03-15T17:17:58.608Z"
   },
   {
    "duration": 3,
    "start_time": "2022-03-15T17:19:36.964Z"
   },
   {
    "duration": 309,
    "start_time": "2022-03-15T17:20:35.776Z"
   },
   {
    "duration": 2,
    "start_time": "2022-03-15T17:20:41.102Z"
   },
   {
    "duration": 11,
    "start_time": "2022-03-15T17:20:41.396Z"
   },
   {
    "duration": 5,
    "start_time": "2022-03-15T17:20:43.391Z"
   },
   {
    "duration": 8,
    "start_time": "2022-03-15T17:21:40.927Z"
   },
   {
    "duration": 6,
    "start_time": "2022-03-15T17:21:41.753Z"
   },
   {
    "duration": 5,
    "start_time": "2022-03-15T17:22:39.423Z"
   },
   {
    "duration": 306,
    "start_time": "2022-03-15T17:34:51.430Z"
   },
   {
    "duration": 93,
    "start_time": "2022-03-15T17:45:04.999Z"
   },
   {
    "duration": 91,
    "start_time": "2022-03-15T17:46:58.605Z"
   },
   {
    "duration": 3,
    "start_time": "2022-03-15T17:47:50.226Z"
   },
   {
    "duration": 1472,
    "start_time": "2022-03-15T17:47:50.230Z"
   },
   {
    "duration": 677,
    "start_time": "2022-03-15T17:47:51.703Z"
   },
   {
    "duration": 14,
    "start_time": "2022-03-15T17:47:52.384Z"
   },
   {
    "duration": 668,
    "start_time": "2022-03-15T17:47:52.399Z"
   },
   {
    "duration": 806,
    "start_time": "2022-03-15T17:47:53.080Z"
   },
   {
    "duration": 220,
    "start_time": "2022-03-15T17:47:53.888Z"
   },
   {
    "duration": 2,
    "start_time": "2022-03-15T17:47:54.110Z"
   },
   {
    "duration": 9,
    "start_time": "2022-03-15T17:47:54.114Z"
   },
   {
    "duration": 5,
    "start_time": "2022-03-15T17:47:54.124Z"
   },
   {
    "duration": 7302,
    "start_time": "2022-03-15T17:47:54.130Z"
   },
   {
    "duration": 1517,
    "start_time": "2022-03-15T17:48:01.433Z"
   },
   {
    "duration": 5,
    "start_time": "2022-03-15T17:48:02.951Z"
   },
   {
    "duration": 2193,
    "start_time": "2022-03-15T17:48:02.958Z"
   },
   {
    "duration": 132,
    "start_time": "2022-03-15T17:48:05.152Z"
   },
   {
    "duration": 34,
    "start_time": "2022-03-15T17:48:05.285Z"
   },
   {
    "duration": 3,
    "start_time": "2022-03-15T17:48:05.321Z"
   },
   {
    "duration": 415,
    "start_time": "2022-03-15T17:48:05.326Z"
   },
   {
    "duration": 586,
    "start_time": "2022-03-15T17:48:05.157Z"
   },
   {
    "duration": 586,
    "start_time": "2022-03-15T17:48:05.158Z"
   },
   {
    "duration": 586,
    "start_time": "2022-03-15T17:48:05.160Z"
   },
   {
    "duration": 586,
    "start_time": "2022-03-15T17:48:05.161Z"
   },
   {
    "duration": 586,
    "start_time": "2022-03-15T17:48:05.162Z"
   },
   {
    "duration": 587,
    "start_time": "2022-03-15T17:48:05.163Z"
   },
   {
    "duration": 587,
    "start_time": "2022-03-15T17:48:05.164Z"
   },
   {
    "duration": 587,
    "start_time": "2022-03-15T17:48:05.165Z"
   },
   {
    "duration": 584,
    "start_time": "2022-03-15T17:48:05.170Z"
   },
   {
    "duration": 3,
    "start_time": "2022-03-15T17:50:37.687Z"
   },
   {
    "duration": 1508,
    "start_time": "2022-03-15T17:50:37.691Z"
   },
   {
    "duration": 644,
    "start_time": "2022-03-15T17:50:39.200Z"
   },
   {
    "duration": 14,
    "start_time": "2022-03-15T17:50:39.848Z"
   },
   {
    "duration": 694,
    "start_time": "2022-03-15T17:50:39.863Z"
   },
   {
    "duration": 829,
    "start_time": "2022-03-15T17:50:40.558Z"
   },
   {
    "duration": 228,
    "start_time": "2022-03-15T17:50:41.390Z"
   },
   {
    "duration": 2,
    "start_time": "2022-03-15T17:50:41.620Z"
   },
   {
    "duration": 11,
    "start_time": "2022-03-15T17:50:41.624Z"
   },
   {
    "duration": 4,
    "start_time": "2022-03-15T17:50:41.637Z"
   },
   {
    "duration": 7639,
    "start_time": "2022-03-15T17:50:41.642Z"
   },
   {
    "duration": 1479,
    "start_time": "2022-03-15T17:50:49.283Z"
   },
   {
    "duration": 5,
    "start_time": "2022-03-15T17:50:50.763Z"
   },
   {
    "duration": 2274,
    "start_time": "2022-03-15T17:50:50.770Z"
   },
   {
    "duration": 132,
    "start_time": "2022-03-15T17:50:53.046Z"
   },
   {
    "duration": 34,
    "start_time": "2022-03-15T17:50:53.180Z"
   },
   {
    "duration": 3,
    "start_time": "2022-03-15T17:50:53.216Z"
   },
   {
    "duration": 9,
    "start_time": "2022-03-15T17:50:53.221Z"
   },
   {
    "duration": 11,
    "start_time": "2022-03-15T17:50:53.232Z"
   },
   {
    "duration": 40,
    "start_time": "2022-03-15T17:50:53.245Z"
   },
   {
    "duration": 7738,
    "start_time": "2022-03-15T17:50:53.287Z"
   },
   {
    "duration": 2975,
    "start_time": "2022-03-15T17:51:01.028Z"
   },
   {
    "duration": 975300,
    "start_time": "2022-03-15T17:51:04.004Z"
   },
   {
    "duration": 10,
    "start_time": "2022-03-15T18:07:19.306Z"
   },
   {
    "duration": 384,
    "start_time": "2022-03-15T18:07:19.317Z"
   },
   {
    "duration": 641,
    "start_time": "2022-03-15T18:07:19.063Z"
   },
   {
    "duration": 607,
    "start_time": "2022-03-15T18:07:19.098Z"
   },
   {
    "duration": 3,
    "start_time": "2022-03-15T18:13:17.947Z"
   },
   {
    "duration": 4429,
    "start_time": "2022-03-15T18:13:17.952Z"
   },
   {
    "duration": 659,
    "start_time": "2022-03-15T18:13:22.383Z"
   },
   {
    "duration": 17,
    "start_time": "2022-03-15T18:13:23.044Z"
   },
   {
    "duration": 730,
    "start_time": "2022-03-15T18:13:23.062Z"
   },
   {
    "duration": 710,
    "start_time": "2022-03-15T18:13:23.794Z"
   },
   {
    "duration": 223,
    "start_time": "2022-03-15T18:13:24.506Z"
   },
   {
    "duration": 2,
    "start_time": "2022-03-15T18:13:24.732Z"
   },
   {
    "duration": 10,
    "start_time": "2022-03-15T18:13:24.736Z"
   },
   {
    "duration": 5,
    "start_time": "2022-03-15T18:13:24.747Z"
   },
   {
    "duration": 7840,
    "start_time": "2022-03-15T18:13:24.753Z"
   },
   {
    "duration": 1344,
    "start_time": "2022-03-15T18:13:32.594Z"
   },
   {
    "duration": 5,
    "start_time": "2022-03-15T18:13:33.940Z"
   },
   {
    "duration": 2314,
    "start_time": "2022-03-15T18:13:33.946Z"
   },
   {
    "duration": 131,
    "start_time": "2022-03-15T18:13:36.262Z"
   },
   {
    "duration": 35,
    "start_time": "2022-03-15T18:13:36.394Z"
   },
   {
    "duration": 4,
    "start_time": "2022-03-15T18:13:36.430Z"
   },
   {
    "duration": 12,
    "start_time": "2022-03-15T18:13:36.435Z"
   },
   {
    "duration": 12,
    "start_time": "2022-03-15T18:13:36.448Z"
   },
   {
    "duration": 36,
    "start_time": "2022-03-15T18:13:36.461Z"
   },
   {
    "duration": 7545,
    "start_time": "2022-03-15T18:13:36.499Z"
   },
   {
    "duration": 2067,
    "start_time": "2022-03-15T18:13:44.045Z"
   },
   {
    "duration": 985739,
    "start_time": "2022-03-15T18:13:46.115Z"
   },
   {
    "duration": 27,
    "start_time": "2022-03-15T18:30:11.856Z"
   },
   {
    "duration": 80,
    "start_time": "2022-03-15T18:30:11.885Z"
   },
   {
    "duration": 103661,
    "start_time": "2022-03-15T18:30:11.966Z"
   },
   {
    "duration": 652,
    "start_time": "2022-03-15T18:31:54.977Z"
   },
   {
    "duration": 1215611,
    "start_time": "2022-03-15T18:31:58.021Z"
   },
   {
    "duration": 695,
    "start_time": "2022-03-15T18:52:12.939Z"
   },
   {
    "duration": 305,
    "start_time": "2022-03-15T18:53:45.896Z"
   },
   {
    "duration": 22,
    "start_time": "2022-03-15T19:01:38.021Z"
   },
   {
    "duration": 24,
    "start_time": "2022-03-15T19:02:01.973Z"
   },
   {
    "duration": 4,
    "start_time": "2022-03-15T19:02:51.698Z"
   },
   {
    "duration": 10,
    "start_time": "2022-03-15T19:03:30.568Z"
   },
   {
    "duration": 29,
    "start_time": "2022-03-15T19:03:31.910Z"
   },
   {
    "duration": 10,
    "start_time": "2022-03-15T19:04:00.962Z"
   },
   {
    "duration": 35,
    "start_time": "2022-03-15T19:04:20.533Z"
   },
   {
    "duration": 12,
    "start_time": "2022-03-15T19:04:34.081Z"
   },
   {
    "duration": 346372,
    "start_time": "2022-03-15T19:04:51.745Z"
   },
   {
    "duration": 20,
    "start_time": "2022-03-15T19:11:19.277Z"
   },
   {
    "duration": 3,
    "start_time": "2022-03-15T19:13:20.941Z"
   },
   {
    "duration": 32525,
    "start_time": "2022-03-15T19:22:12.389Z"
   },
   {
    "duration": 3,
    "start_time": "2022-03-15T19:22:44.916Z"
   },
   {
    "duration": 730,
    "start_time": "2022-03-15T19:22:55.742Z"
   },
   {
    "duration": 2,
    "start_time": "2022-03-15T19:23:32.473Z"
   },
   {
    "duration": 4513,
    "start_time": "2022-03-15T19:23:32.477Z"
   },
   {
    "duration": 690,
    "start_time": "2022-03-15T19:23:36.303Z"
   },
   {
    "duration": 689,
    "start_time": "2022-03-15T19:23:36.305Z"
   },
   {
    "duration": 689,
    "start_time": "2022-03-15T19:23:36.306Z"
   },
   {
    "duration": 689,
    "start_time": "2022-03-15T19:23:36.307Z"
   },
   {
    "duration": 688,
    "start_time": "2022-03-15T19:23:36.309Z"
   },
   {
    "duration": 687,
    "start_time": "2022-03-15T19:23:36.311Z"
   },
   {
    "duration": 687,
    "start_time": "2022-03-15T19:23:36.312Z"
   },
   {
    "duration": 688,
    "start_time": "2022-03-15T19:23:36.313Z"
   },
   {
    "duration": 687,
    "start_time": "2022-03-15T19:23:36.315Z"
   },
   {
    "duration": 687,
    "start_time": "2022-03-15T19:23:36.316Z"
   },
   {
    "duration": 687,
    "start_time": "2022-03-15T19:23:36.317Z"
   },
   {
    "duration": 687,
    "start_time": "2022-03-15T19:23:36.318Z"
   },
   {
    "duration": 687,
    "start_time": "2022-03-15T19:23:36.319Z"
   },
   {
    "duration": 687,
    "start_time": "2022-03-15T19:23:36.321Z"
   },
   {
    "duration": 687,
    "start_time": "2022-03-15T19:23:36.322Z"
   },
   {
    "duration": 682,
    "start_time": "2022-03-15T19:23:36.327Z"
   },
   {
    "duration": 681,
    "start_time": "2022-03-15T19:23:36.329Z"
   },
   {
    "duration": 681,
    "start_time": "2022-03-15T19:23:36.330Z"
   },
   {
    "duration": 681,
    "start_time": "2022-03-15T19:23:36.331Z"
   },
   {
    "duration": 681,
    "start_time": "2022-03-15T19:23:36.332Z"
   },
   {
    "duration": 681,
    "start_time": "2022-03-15T19:23:36.333Z"
   },
   {
    "duration": 667,
    "start_time": "2022-03-15T19:23:36.347Z"
   },
   {
    "duration": 668,
    "start_time": "2022-03-15T19:23:36.348Z"
   },
   {
    "duration": 667,
    "start_time": "2022-03-15T19:23:36.350Z"
   },
   {
    "duration": 668,
    "start_time": "2022-03-15T19:23:36.351Z"
   },
   {
    "duration": 667,
    "start_time": "2022-03-15T19:23:36.352Z"
   },
   {
    "duration": 3,
    "start_time": "2022-03-15T19:23:54.744Z"
   },
   {
    "duration": 5670,
    "start_time": "2022-03-15T19:23:54.749Z"
   },
   {
    "duration": 731,
    "start_time": "2022-03-15T19:24:00.421Z"
   },
   {
    "duration": 432,
    "start_time": "2022-03-15T19:24:01.155Z"
   },
   {
    "duration": 2298,
    "start_time": "2022-03-15T19:24:01.589Z"
   },
   {
    "duration": 1557,
    "start_time": "2022-03-15T19:24:03.889Z"
   },
   {
    "duration": 1104,
    "start_time": "2022-03-15T19:24:05.448Z"
   },
   {
    "duration": 1672,
    "start_time": "2022-03-15T19:24:06.554Z"
   },
   {
    "duration": 2014,
    "start_time": "2022-03-15T19:24:08.229Z"
   },
   {
    "duration": 2068,
    "start_time": "2022-03-15T19:24:10.245Z"
   },
   {
    "duration": 9831,
    "start_time": "2022-03-15T19:24:12.315Z"
   },
   {
    "duration": 1400,
    "start_time": "2022-03-15T19:24:22.148Z"
   },
   {
    "duration": 106,
    "start_time": "2022-03-15T19:24:23.550Z"
   },
   {
    "duration": 3501,
    "start_time": "2022-03-15T19:24:23.658Z"
   },
   {
    "duration": 138,
    "start_time": "2022-03-15T19:24:27.161Z"
   },
   {
    "duration": 589,
    "start_time": "2022-03-15T19:24:27.300Z"
   },
   {
    "duration": 419,
    "start_time": "2022-03-15T19:24:27.891Z"
   },
   {
    "duration": 405,
    "start_time": "2022-03-15T19:24:28.312Z"
   },
   {
    "duration": 485,
    "start_time": "2022-03-15T19:24:28.718Z"
   },
   {
    "duration": 336,
    "start_time": "2022-03-15T19:24:29.205Z"
   },
   {
    "duration": 412,
    "start_time": "2022-03-15T19:24:29.542Z"
   },
   {
    "duration": 8477,
    "start_time": "2022-03-15T19:24:29.956Z"
   },
   {
    "duration": 2173,
    "start_time": "2022-03-15T19:24:38.435Z"
   },
   {
    "duration": 577957,
    "start_time": "2022-03-15T19:24:40.610Z"
   },
   {
    "duration": 10,
    "start_time": "2022-03-15T19:34:18.569Z"
   },
   {
    "duration": 1290,
    "start_time": "2022-03-15T19:34:18.581Z"
   },
   {
    "duration": 1132816,
    "start_time": "2022-03-15T19:34:19.874Z"
   },
   {
    "duration": 242,
    "start_time": "2022-03-15T19:53:12.692Z"
   },
   {
    "duration": 39069,
    "start_time": "2022-03-16T06:52:11.373Z"
   },
   {
    "duration": 65579,
    "start_time": "2022-03-17T08:17:26.222Z"
   },
   {
    "duration": 868,
    "start_time": "2022-03-17T08:18:31.805Z"
   },
   {
    "duration": 2532,
    "start_time": "2022-03-17T08:18:32.676Z"
   },
   {
    "duration": 0,
    "start_time": "2022-03-17T08:18:35.211Z"
   },
   {
    "duration": 0,
    "start_time": "2022-03-17T08:18:35.213Z"
   },
   {
    "duration": 0,
    "start_time": "2022-03-17T08:18:35.215Z"
   },
   {
    "duration": 0,
    "start_time": "2022-03-17T08:18:35.216Z"
   },
   {
    "duration": 0,
    "start_time": "2022-03-17T08:18:35.218Z"
   },
   {
    "duration": 0,
    "start_time": "2022-03-17T08:18:35.220Z"
   },
   {
    "duration": 0,
    "start_time": "2022-03-17T08:18:35.221Z"
   },
   {
    "duration": 0,
    "start_time": "2022-03-17T08:18:35.223Z"
   },
   {
    "duration": 0,
    "start_time": "2022-03-17T08:18:35.243Z"
   },
   {
    "duration": 0,
    "start_time": "2022-03-17T08:18:35.244Z"
   },
   {
    "duration": 0,
    "start_time": "2022-03-17T08:18:35.246Z"
   },
   {
    "duration": 0,
    "start_time": "2022-03-17T08:18:35.248Z"
   },
   {
    "duration": 0,
    "start_time": "2022-03-17T08:18:35.249Z"
   },
   {
    "duration": 0,
    "start_time": "2022-03-17T08:18:35.251Z"
   },
   {
    "duration": 0,
    "start_time": "2022-03-17T08:18:35.253Z"
   },
   {
    "duration": 0,
    "start_time": "2022-03-17T08:18:35.254Z"
   },
   {
    "duration": 0,
    "start_time": "2022-03-17T08:18:35.256Z"
   },
   {
    "duration": 5655,
    "start_time": "2022-03-17T08:20:40.646Z"
   },
   {
    "duration": 6108,
    "start_time": "2022-03-17T08:21:09.223Z"
   },
   {
    "duration": 34,
    "start_time": "2022-03-17T08:21:23.220Z"
   },
   {
    "duration": 7526,
    "start_time": "2022-03-17T08:22:00.446Z"
   },
   {
    "duration": 2604,
    "start_time": "2022-03-17T10:32:10.073Z"
   },
   {
    "duration": 577,
    "start_time": "2022-03-17T10:32:25.452Z"
   },
   {
    "duration": 45,
    "start_time": "2022-03-17T10:32:33.317Z"
   },
   {
    "duration": 8035,
    "start_time": "2022-03-17T10:32:42.231Z"
   },
   {
    "duration": 30,
    "start_time": "2022-03-17T10:32:55.256Z"
   },
   {
    "duration": 16,
    "start_time": "2022-03-17T10:32:58.968Z"
   },
   {
    "duration": 2516,
    "start_time": "2022-03-17T10:33:06.165Z"
   },
   {
    "duration": 5086,
    "start_time": "2022-03-17T10:33:18.516Z"
   },
   {
    "duration": 29,
    "start_time": "2022-03-17T10:33:34.763Z"
   },
   {
    "duration": 17,
    "start_time": "2022-03-17T11:40:41.648Z"
   },
   {
    "duration": 5320,
    "start_time": "2022-03-17T11:40:48.537Z"
   },
   {
    "duration": 5292,
    "start_time": "2022-03-17T11:41:14.193Z"
   },
   {
    "duration": 5219,
    "start_time": "2022-03-17T11:42:10.824Z"
   },
   {
    "duration": 4961,
    "start_time": "2022-03-17T11:42:26.369Z"
   },
   {
    "duration": 8246,
    "start_time": "2022-03-17T12:23:45.681Z"
   },
   {
    "duration": 22,
    "start_time": "2022-03-17T12:24:04.159Z"
   },
   {
    "duration": 15,
    "start_time": "2022-03-17T12:24:06.663Z"
   },
   {
    "duration": 3647,
    "start_time": "2022-03-17T12:24:17.783Z"
   },
   {
    "duration": 22,
    "start_time": "2022-03-17T12:24:28.875Z"
   },
   {
    "duration": 72559,
    "start_time": "2022-03-17T12:24:37.489Z"
   },
   {
    "duration": 117191,
    "start_time": "2022-03-17T12:25:58.006Z"
   },
   {
    "duration": 50577,
    "start_time": "2022-03-17T12:28:01.422Z"
   },
   {
    "duration": 42442,
    "start_time": "2022-03-17T12:29:09.877Z"
   },
   {
    "duration": 0,
    "start_time": "2022-03-17T12:29:52.322Z"
   },
   {
    "duration": 4,
    "start_time": "2022-03-17T12:29:54.397Z"
   },
   {
    "duration": 137238,
    "start_time": "2022-03-17T12:30:10.809Z"
   },
   {
    "duration": 4094,
    "start_time": "2022-03-17T12:32:33.402Z"
   },
   {
    "duration": 171695,
    "start_time": "2022-03-17T12:32:46.457Z"
   },
   {
    "duration": 929,
    "start_time": "2022-03-17T12:37:37.417Z"
   },
   {
    "duration": 28,
    "start_time": "2022-03-17T12:37:39.393Z"
   },
   {
    "duration": 123,
    "start_time": "2022-03-17T12:37:42.822Z"
   },
   {
    "duration": 11,
    "start_time": "2022-03-17T12:37:51.471Z"
   },
   {
    "duration": 950,
    "start_time": "2022-03-17T12:37:55.590Z"
   },
   {
    "duration": 1125,
    "start_time": "2022-03-17T12:38:00.231Z"
   },
   {
    "duration": 123,
    "start_time": "2022-03-17T12:38:13.708Z"
   },
   {
    "duration": 49,
    "start_time": "2022-03-17T12:38:14.813Z"
   },
   {
    "duration": 6,
    "start_time": "2022-03-17T12:38:16.549Z"
   },
   {
    "duration": 13,
    "start_time": "2022-03-17T12:38:18.946Z"
   },
   {
    "duration": 17,
    "start_time": "2022-03-17T12:38:21.872Z"
   },
   {
    "duration": 35,
    "start_time": "2022-03-17T12:38:25.158Z"
   },
   {
    "duration": 12677,
    "start_time": "2022-03-17T12:38:26.535Z"
   },
   {
    "duration": 2889,
    "start_time": "2022-03-17T12:38:39.215Z"
   },
   {
    "duration": 56397,
    "start_time": "2022-03-18T11:21:42.102Z"
   },
   {
    "duration": 18098,
    "start_time": "2022-03-18T11:23:01.767Z"
   },
   {
    "duration": 3,
    "start_time": "2022-03-18T11:24:13.668Z"
   },
   {
    "duration": 331561,
    "start_time": "2022-03-18T11:24:13.673Z"
   },
   {
    "duration": 1039,
    "start_time": "2022-03-18T11:29:45.235Z"
   },
   {
    "duration": 24,
    "start_time": "2022-03-18T11:29:46.276Z"
   },
   {
    "duration": 791,
    "start_time": "2022-03-18T11:29:46.303Z"
   },
   {
    "duration": 678,
    "start_time": "2022-03-18T11:29:47.095Z"
   },
   {
    "duration": 216,
    "start_time": "2022-03-18T11:29:47.775Z"
   },
   {
    "duration": 3,
    "start_time": "2022-03-18T11:29:47.992Z"
   },
   {
    "duration": 12,
    "start_time": "2022-03-18T11:29:47.997Z"
   },
   {
    "duration": 4,
    "start_time": "2022-03-18T11:29:48.010Z"
   },
   {
    "duration": 7260,
    "start_time": "2022-03-18T11:29:48.017Z"
   },
   {
    "duration": 1389,
    "start_time": "2022-03-18T11:29:55.279Z"
   },
   {
    "duration": 11,
    "start_time": "2022-03-18T11:29:56.670Z"
   },
   {
    "duration": 2082,
    "start_time": "2022-03-18T11:29:56.682Z"
   },
   {
    "duration": 70,
    "start_time": "2022-03-18T11:29:58.766Z"
   },
   {
    "duration": 28,
    "start_time": "2022-03-18T11:29:58.838Z"
   },
   {
    "duration": 8,
    "start_time": "2022-03-18T11:29:58.873Z"
   },
   {
    "duration": 14,
    "start_time": "2022-03-18T11:29:58.883Z"
   },
   {
    "duration": 14,
    "start_time": "2022-03-18T11:29:58.899Z"
   },
   {
    "duration": 27,
    "start_time": "2022-03-18T11:29:58.914Z"
   },
   {
    "duration": 8576,
    "start_time": "2022-03-18T11:29:58.943Z"
   },
   {
    "duration": 2084,
    "start_time": "2022-03-18T11:30:07.521Z"
   },
   {
    "duration": 420558,
    "start_time": "2022-03-18T11:30:09.607Z"
   },
   {
    "duration": 12,
    "start_time": "2022-03-18T11:37:10.167Z"
   },
   {
    "duration": 230,
    "start_time": "2022-03-18T11:37:10.181Z"
   },
   {
    "duration": 1001987,
    "start_time": "2022-03-18T11:37:10.413Z"
   },
   {
    "duration": 249,
    "start_time": "2022-03-18T11:53:52.402Z"
   }
  ],
  "kernelspec": {
   "display_name": "Python 3 (ipykernel)",
   "language": "python",
   "name": "python3"
  },
  "language_info": {
   "codemirror_mode": {
    "name": "ipython",
    "version": 3
   },
   "file_extension": ".py",
   "mimetype": "text/x-python",
   "name": "python",
   "nbconvert_exporter": "python",
   "pygments_lexer": "ipython3",
   "version": "3.9.5"
  },
  "toc": {
   "base_numbering": 1,
   "nav_menu": {},
   "number_sections": true,
   "sideBar": true,
   "skip_h1_title": true,
   "title_cell": "Содержание",
   "title_sidebar": "Contents",
   "toc_cell": true,
   "toc_position": {
    "height": "calc(100% - 180px)",
    "left": "10px",
    "top": "150px",
    "width": "204.391px"
   },
   "toc_section_display": true,
   "toc_window_display": false
  }
 },
 "nbformat": 4,
 "nbformat_minor": 2
}
