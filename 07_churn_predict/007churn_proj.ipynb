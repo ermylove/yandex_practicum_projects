{
 "cells": [
  {
   "cell_type": "code",
   "execution_count": 1,
   "metadata": {},
   "outputs": [],
   "source": [
    "#!pip install shap\n",
    "#%pip install catboost -U"
   ]
  },
  {
   "cell_type": "markdown",
   "metadata": {
    "toc": true
   },
   "source": [
    "<h1>Содержание<span class=\"tocSkip\"></span></h1>\n",
    "<div class=\"toc\"><ul class=\"toc-item\"><li><span><a href=\"#Подготовка-данных\" data-toc-modified-id=\"Подготовка-данных-1\"><span class=\"toc-item-num\">1&nbsp;&nbsp;</span>Подготовка данных</a></span></li><li><span><a href=\"#Анализ-и-обработка-данных\" data-toc-modified-id=\"Анализ-и-обработка-данных-2\"><span class=\"toc-item-num\">2&nbsp;&nbsp;</span>Анализ и обработка данных</a></span><ul class=\"toc-item\"><li><span><a href=\"#Модель-без-учета-дисбаланса\" data-toc-modified-id=\"Модель-без-учета-дисбаланса-2.1\"><span class=\"toc-item-num\">2.1&nbsp;&nbsp;</span>Модель без учета дисбаланса</a></span></li><li><span><a href=\"#Модель-с-учета-дисбаланса\" data-toc-modified-id=\"Модель-с-учета-дисбаланса-2.2\"><span class=\"toc-item-num\">2.2&nbsp;&nbsp;</span>Модель с учета дисбаланса</a></span></li></ul></li><li><span><a href=\"#Интерпретация-результатов\" data-toc-modified-id=\"Интерпретация-результатов-3\"><span class=\"toc-item-num\">3&nbsp;&nbsp;</span>Интерпретация результатов</a></span></li><li><span><a href=\"#ROC\" data-toc-modified-id=\"ROC-4\"><span class=\"toc-item-num\">4&nbsp;&nbsp;</span>ROC</a></span></li><li><span><a href=\"#Выводы\" data-toc-modified-id=\"Выводы-5\"><span class=\"toc-item-num\">5&nbsp;&nbsp;</span>Выводы</a></span></li></ul></div>"
   ]
  },
  {
   "cell_type": "markdown",
   "metadata": {},
   "source": [
    "# Отток клиентов"
   ]
  },
  {
   "cell_type": "markdown",
   "metadata": {},
   "source": [
    "Из «Бета-Банка» стали уходить клиенты. Каждый месяц. Немного, но заметно. Банковские маркетологи посчитали: сохранять текущих клиентов дешевле, чем привлекать новых.\n",
    "Предоставлены исторические данные о поведении клиентов и расторжении договоров с банком. \n",
    "\n",
    "Необходимо:\n",
    "1. Исследовать баланс классов, обучить модель без учёта дисбаланса.\n",
    "2. Улучшить качество модели, учитывая дисбаланс классов.\n",
    "1. Построить модель позволяющую спрогнозировать, уйдёт клиент из банка в ближайшее время или нет, которая имела бы значением *F1*-меры более 0.59.\n",
    "3. Измерить  *AUC-ROC*.\n"
   ]
  },
  {
   "cell_type": "code",
   "execution_count": 2,
   "metadata": {},
   "outputs": [],
   "source": [
    "import pandas as pd\n",
    "\n",
    "import matplotlib.pyplot as plt\n",
    "import shap\n",
    "\n",
    "from catboost import CatBoostClassifier, cv\n",
    "from catboost.utils import get_roc_curve\n",
    "from catboost.core import Pool\n",
    "\n",
    "from sklearn.model_selection import train_test_split\n",
    "from sklearn.preprocessing import OrdinalEncoder #LabelEncoder\n",
    "from sklearn.metrics import f1_score, auc"
   ]
  },
  {
   "cell_type": "markdown",
   "metadata": {},
   "source": [
    "## Подготовка данных"
   ]
  },
  {
   "cell_type": "markdown",
   "metadata": {},
   "source": [
    "Посмотрим на предоставленные данные"
   ]
  },
  {
   "cell_type": "code",
   "execution_count": 3,
   "metadata": {
    "scrolled": false
   },
   "outputs": [
    {
     "data": {
      "text/html": [
       "<div>\n",
       "<style scoped>\n",
       "    .dataframe tbody tr th:only-of-type {\n",
       "        vertical-align: middle;\n",
       "    }\n",
       "\n",
       "    .dataframe tbody tr th {\n",
       "        vertical-align: top;\n",
       "    }\n",
       "\n",
       "    .dataframe thead th {\n",
       "        text-align: right;\n",
       "    }\n",
       "</style>\n",
       "<table border=\"1\" class=\"dataframe\">\n",
       "  <thead>\n",
       "    <tr style=\"text-align: right;\">\n",
       "      <th></th>\n",
       "      <th>RowNumber</th>\n",
       "      <th>CustomerId</th>\n",
       "      <th>Surname</th>\n",
       "      <th>CreditScore</th>\n",
       "      <th>Geography</th>\n",
       "      <th>Gender</th>\n",
       "      <th>Age</th>\n",
       "      <th>Tenure</th>\n",
       "      <th>Balance</th>\n",
       "      <th>NumOfProducts</th>\n",
       "      <th>HasCrCard</th>\n",
       "      <th>IsActiveMember</th>\n",
       "      <th>EstimatedSalary</th>\n",
       "      <th>Exited</th>\n",
       "    </tr>\n",
       "  </thead>\n",
       "  <tbody>\n",
       "    <tr>\n",
       "      <td>0</td>\n",
       "      <td>1</td>\n",
       "      <td>15634602</td>\n",
       "      <td>Hargrave</td>\n",
       "      <td>619</td>\n",
       "      <td>France</td>\n",
       "      <td>Female</td>\n",
       "      <td>42</td>\n",
       "      <td>2.0</td>\n",
       "      <td>0.00</td>\n",
       "      <td>1</td>\n",
       "      <td>1</td>\n",
       "      <td>1</td>\n",
       "      <td>101348.88</td>\n",
       "      <td>1</td>\n",
       "    </tr>\n",
       "    <tr>\n",
       "      <td>1</td>\n",
       "      <td>2</td>\n",
       "      <td>15647311</td>\n",
       "      <td>Hill</td>\n",
       "      <td>608</td>\n",
       "      <td>Spain</td>\n",
       "      <td>Female</td>\n",
       "      <td>41</td>\n",
       "      <td>1.0</td>\n",
       "      <td>83807.86</td>\n",
       "      <td>1</td>\n",
       "      <td>0</td>\n",
       "      <td>1</td>\n",
       "      <td>112542.58</td>\n",
       "      <td>0</td>\n",
       "    </tr>\n",
       "    <tr>\n",
       "      <td>2</td>\n",
       "      <td>3</td>\n",
       "      <td>15619304</td>\n",
       "      <td>Onio</td>\n",
       "      <td>502</td>\n",
       "      <td>France</td>\n",
       "      <td>Female</td>\n",
       "      <td>42</td>\n",
       "      <td>8.0</td>\n",
       "      <td>159660.80</td>\n",
       "      <td>3</td>\n",
       "      <td>1</td>\n",
       "      <td>0</td>\n",
       "      <td>113931.57</td>\n",
       "      <td>1</td>\n",
       "    </tr>\n",
       "    <tr>\n",
       "      <td>3</td>\n",
       "      <td>4</td>\n",
       "      <td>15701354</td>\n",
       "      <td>Boni</td>\n",
       "      <td>699</td>\n",
       "      <td>France</td>\n",
       "      <td>Female</td>\n",
       "      <td>39</td>\n",
       "      <td>1.0</td>\n",
       "      <td>0.00</td>\n",
       "      <td>2</td>\n",
       "      <td>0</td>\n",
       "      <td>0</td>\n",
       "      <td>93826.63</td>\n",
       "      <td>0</td>\n",
       "    </tr>\n",
       "    <tr>\n",
       "      <td>4</td>\n",
       "      <td>5</td>\n",
       "      <td>15737888</td>\n",
       "      <td>Mitchell</td>\n",
       "      <td>850</td>\n",
       "      <td>Spain</td>\n",
       "      <td>Female</td>\n",
       "      <td>43</td>\n",
       "      <td>2.0</td>\n",
       "      <td>125510.82</td>\n",
       "      <td>1</td>\n",
       "      <td>1</td>\n",
       "      <td>1</td>\n",
       "      <td>79084.10</td>\n",
       "      <td>0</td>\n",
       "    </tr>\n",
       "    <tr>\n",
       "      <td>...</td>\n",
       "      <td>...</td>\n",
       "      <td>...</td>\n",
       "      <td>...</td>\n",
       "      <td>...</td>\n",
       "      <td>...</td>\n",
       "      <td>...</td>\n",
       "      <td>...</td>\n",
       "      <td>...</td>\n",
       "      <td>...</td>\n",
       "      <td>...</td>\n",
       "      <td>...</td>\n",
       "      <td>...</td>\n",
       "      <td>...</td>\n",
       "      <td>...</td>\n",
       "    </tr>\n",
       "    <tr>\n",
       "      <td>9995</td>\n",
       "      <td>9996</td>\n",
       "      <td>15606229</td>\n",
       "      <td>Obijiaku</td>\n",
       "      <td>771</td>\n",
       "      <td>France</td>\n",
       "      <td>Male</td>\n",
       "      <td>39</td>\n",
       "      <td>5.0</td>\n",
       "      <td>0.00</td>\n",
       "      <td>2</td>\n",
       "      <td>1</td>\n",
       "      <td>0</td>\n",
       "      <td>96270.64</td>\n",
       "      <td>0</td>\n",
       "    </tr>\n",
       "    <tr>\n",
       "      <td>9996</td>\n",
       "      <td>9997</td>\n",
       "      <td>15569892</td>\n",
       "      <td>Johnstone</td>\n",
       "      <td>516</td>\n",
       "      <td>France</td>\n",
       "      <td>Male</td>\n",
       "      <td>35</td>\n",
       "      <td>10.0</td>\n",
       "      <td>57369.61</td>\n",
       "      <td>1</td>\n",
       "      <td>1</td>\n",
       "      <td>1</td>\n",
       "      <td>101699.77</td>\n",
       "      <td>0</td>\n",
       "    </tr>\n",
       "    <tr>\n",
       "      <td>9997</td>\n",
       "      <td>9998</td>\n",
       "      <td>15584532</td>\n",
       "      <td>Liu</td>\n",
       "      <td>709</td>\n",
       "      <td>France</td>\n",
       "      <td>Female</td>\n",
       "      <td>36</td>\n",
       "      <td>7.0</td>\n",
       "      <td>0.00</td>\n",
       "      <td>1</td>\n",
       "      <td>0</td>\n",
       "      <td>1</td>\n",
       "      <td>42085.58</td>\n",
       "      <td>1</td>\n",
       "    </tr>\n",
       "    <tr>\n",
       "      <td>9998</td>\n",
       "      <td>9999</td>\n",
       "      <td>15682355</td>\n",
       "      <td>Sabbatini</td>\n",
       "      <td>772</td>\n",
       "      <td>Germany</td>\n",
       "      <td>Male</td>\n",
       "      <td>42</td>\n",
       "      <td>3.0</td>\n",
       "      <td>75075.31</td>\n",
       "      <td>2</td>\n",
       "      <td>1</td>\n",
       "      <td>0</td>\n",
       "      <td>92888.52</td>\n",
       "      <td>1</td>\n",
       "    </tr>\n",
       "    <tr>\n",
       "      <td>9999</td>\n",
       "      <td>10000</td>\n",
       "      <td>15628319</td>\n",
       "      <td>Walker</td>\n",
       "      <td>792</td>\n",
       "      <td>France</td>\n",
       "      <td>Female</td>\n",
       "      <td>28</td>\n",
       "      <td>NaN</td>\n",
       "      <td>130142.79</td>\n",
       "      <td>1</td>\n",
       "      <td>1</td>\n",
       "      <td>0</td>\n",
       "      <td>38190.78</td>\n",
       "      <td>0</td>\n",
       "    </tr>\n",
       "  </tbody>\n",
       "</table>\n",
       "<p>10000 rows × 14 columns</p>\n",
       "</div>"
      ],
      "text/plain": [
       "      RowNumber  CustomerId    Surname  CreditScore Geography  Gender  Age  \\\n",
       "0             1    15634602   Hargrave          619    France  Female   42   \n",
       "1             2    15647311       Hill          608     Spain  Female   41   \n",
       "2             3    15619304       Onio          502    France  Female   42   \n",
       "3             4    15701354       Boni          699    France  Female   39   \n",
       "4             5    15737888   Mitchell          850     Spain  Female   43   \n",
       "...         ...         ...        ...          ...       ...     ...  ...   \n",
       "9995       9996    15606229   Obijiaku          771    France    Male   39   \n",
       "9996       9997    15569892  Johnstone          516    France    Male   35   \n",
       "9997       9998    15584532        Liu          709    France  Female   36   \n",
       "9998       9999    15682355  Sabbatini          772   Germany    Male   42   \n",
       "9999      10000    15628319     Walker          792    France  Female   28   \n",
       "\n",
       "      Tenure    Balance  NumOfProducts  HasCrCard  IsActiveMember  \\\n",
       "0        2.0       0.00              1          1               1   \n",
       "1        1.0   83807.86              1          0               1   \n",
       "2        8.0  159660.80              3          1               0   \n",
       "3        1.0       0.00              2          0               0   \n",
       "4        2.0  125510.82              1          1               1   \n",
       "...      ...        ...            ...        ...             ...   \n",
       "9995     5.0       0.00              2          1               0   \n",
       "9996    10.0   57369.61              1          1               1   \n",
       "9997     7.0       0.00              1          0               1   \n",
       "9998     3.0   75075.31              2          1               0   \n",
       "9999     NaN  130142.79              1          1               0   \n",
       "\n",
       "      EstimatedSalary  Exited  \n",
       "0           101348.88       1  \n",
       "1           112542.58       0  \n",
       "2           113931.57       1  \n",
       "3            93826.63       0  \n",
       "4            79084.10       0  \n",
       "...               ...     ...  \n",
       "9995         96270.64       0  \n",
       "9996        101699.77       0  \n",
       "9997         42085.58       1  \n",
       "9998         92888.52       1  \n",
       "9999         38190.78       0  \n",
       "\n",
       "[10000 rows x 14 columns]"
      ]
     },
     "execution_count": 3,
     "metadata": {},
     "output_type": "execute_result"
    }
   ],
   "source": [
    "df = pd.read_csv(\"/datasets/Churn.csv\")\n",
    "df"
   ]
  },
  {
   "cell_type": "markdown",
   "metadata": {},
   "source": [
    "Согласно приложенной документации, в колонках содержется следующая информация:"
   ]
  },
  {
   "cell_type": "markdown",
   "metadata": {},
   "source": [
    "<b>Признаки</b>  \n",
    "RowNumber — индекс строки в данных  \n",
    "CustomerId — уникальный идентификатор клиента  \n",
    "Surname — фамилия  \n",
    "CreditScore — кредитный рейтинг  \n",
    "Geography — страна проживания  \n",
    "Gender — пол  \n",
    "Age — возраст  \n",
    "Tenure — сколько лет человек является клиентом банка  \n",
    "Balance — баланс на счёте  \n",
    "NumOfProducts — количество продуктов банка, используемых клиентом  \n",
    "HasCrCard — наличие кредитной карты  \n",
    "IsActiveMember — активность клиента  \n",
    "EstimatedSalary — предполагаемая зарплата \n",
    "\n",
    "<b>Целевой признак</b>  \n",
    "Exited — факт ухода клиента"
   ]
  },
  {
   "cell_type": "code",
   "execution_count": 4,
   "metadata": {
    "scrolled": true
   },
   "outputs": [
    {
     "data": {
      "text/plain": [
       "RowNumber            0\n",
       "CustomerId           0\n",
       "Surname              0\n",
       "CreditScore          0\n",
       "Geography            0\n",
       "Gender               0\n",
       "Age                  0\n",
       "Tenure             909\n",
       "Balance              0\n",
       "NumOfProducts        0\n",
       "HasCrCard            0\n",
       "IsActiveMember       0\n",
       "EstimatedSalary      0\n",
       "Exited               0\n",
       "dtype: int64"
      ]
     },
     "execution_count": 4,
     "metadata": {},
     "output_type": "execute_result"
    }
   ],
   "source": [
    "df.isna().sum()"
   ]
  },
  {
   "cell_type": "markdown",
   "metadata": {},
   "source": [
    "В 9% записей имеются пропуски в данных о стаже клиента.\n",
    "Так как нет средств позволяющих с высокой точностью их востановить, а данный признак может быть связанным с целевым, оставшееся количество записей позволяет удалить клиентов с пропусками из дальнейшего анализа."
   ]
  },
  {
   "cell_type": "code",
   "execution_count": 5,
   "metadata": {},
   "outputs": [],
   "source": [
    "df = df.dropna()"
   ]
  },
  {
   "cell_type": "markdown",
   "metadata": {},
   "source": [
    "Приведем названия колонок в соответствие с хорошим стилем"
   ]
  },
  {
   "cell_type": "code",
   "execution_count": 6,
   "metadata": {},
   "outputs": [],
   "source": [
    "def lowering(word):\n",
    "  for symbol in set(word):\n",
    "    if not symbol.islower():\n",
    "      word = word.replace(symbol, '_'+symbol)\n",
    "  return word[1:].lower()"
   ]
  },
  {
   "cell_type": "code",
   "execution_count": 7,
   "metadata": {},
   "outputs": [],
   "source": [
    "df.columns = [lowering(name) for name in df.columns]"
   ]
  },
  {
   "cell_type": "markdown",
   "metadata": {},
   "source": [
    "Фичи `row_number`, `customer_id`, `surname` являются системными данными не нужными для предсказания"
   ]
  },
  {
   "cell_type": "code",
   "execution_count": 8,
   "metadata": {},
   "outputs": [],
   "source": [
    "df = df.drop(['row_number', 'customer_id', 'surname'], axis=1)"
   ]
  },
  {
   "cell_type": "markdown",
   "metadata": {},
   "source": [
    "Излишняя точность показателей `balance`, `estimated_salary` и `tenure` только усложнит расчеты"
   ]
  },
  {
   "cell_type": "code",
   "execution_count": 9,
   "metadata": {},
   "outputs": [],
   "source": [
    "df.balance = df.balance.astype(int)\n",
    "df.estimated_salary = df.estimated_salary.astype(int)\n",
    "df.tenure = df.tenure.astype(int)"
   ]
  },
  {
   "cell_type": "markdown",
   "metadata": {},
   "source": [
    "Для наглядности в последующей интепретации результатов оцифруем качественные признаки"
   ]
  },
  {
   "cell_type": "code",
   "execution_count": 10,
   "metadata": {},
   "outputs": [],
   "source": [
    "oe = OrdinalEncoder()\n",
    "df.geography = oe.fit_transform(df[['geography']]).astype(int) #0 - France, 1- Germany, 2- Spain\n",
    "df.gender = oe.fit_transform(df[['gender']]).astype(int) #0-Female, 1-Male"
   ]
  },
  {
   "cell_type": "code",
   "execution_count": 11,
   "metadata": {},
   "outputs": [
    {
     "data": {
      "text/html": [
       "<div>\n",
       "<style scoped>\n",
       "    .dataframe tbody tr th:only-of-type {\n",
       "        vertical-align: middle;\n",
       "    }\n",
       "\n",
       "    .dataframe tbody tr th {\n",
       "        vertical-align: top;\n",
       "    }\n",
       "\n",
       "    .dataframe thead th {\n",
       "        text-align: right;\n",
       "    }\n",
       "</style>\n",
       "<table border=\"1\" class=\"dataframe\">\n",
       "  <thead>\n",
       "    <tr style=\"text-align: right;\">\n",
       "      <th></th>\n",
       "      <th>credit_score</th>\n",
       "      <th>geography</th>\n",
       "      <th>gender</th>\n",
       "      <th>age</th>\n",
       "      <th>tenure</th>\n",
       "      <th>balance</th>\n",
       "      <th>num_of_products</th>\n",
       "      <th>has_cr_card</th>\n",
       "      <th>is_active_member</th>\n",
       "      <th>estimated_salary</th>\n",
       "      <th>exited</th>\n",
       "    </tr>\n",
       "  </thead>\n",
       "  <tbody>\n",
       "    <tr>\n",
       "      <td>0</td>\n",
       "      <td>619</td>\n",
       "      <td>0</td>\n",
       "      <td>0</td>\n",
       "      <td>42</td>\n",
       "      <td>2</td>\n",
       "      <td>0</td>\n",
       "      <td>1</td>\n",
       "      <td>1</td>\n",
       "      <td>1</td>\n",
       "      <td>101348</td>\n",
       "      <td>1</td>\n",
       "    </tr>\n",
       "    <tr>\n",
       "      <td>1</td>\n",
       "      <td>608</td>\n",
       "      <td>2</td>\n",
       "      <td>0</td>\n",
       "      <td>41</td>\n",
       "      <td>1</td>\n",
       "      <td>83807</td>\n",
       "      <td>1</td>\n",
       "      <td>0</td>\n",
       "      <td>1</td>\n",
       "      <td>112542</td>\n",
       "      <td>0</td>\n",
       "    </tr>\n",
       "    <tr>\n",
       "      <td>2</td>\n",
       "      <td>502</td>\n",
       "      <td>0</td>\n",
       "      <td>0</td>\n",
       "      <td>42</td>\n",
       "      <td>8</td>\n",
       "      <td>159660</td>\n",
       "      <td>3</td>\n",
       "      <td>1</td>\n",
       "      <td>0</td>\n",
       "      <td>113931</td>\n",
       "      <td>1</td>\n",
       "    </tr>\n",
       "    <tr>\n",
       "      <td>3</td>\n",
       "      <td>699</td>\n",
       "      <td>0</td>\n",
       "      <td>0</td>\n",
       "      <td>39</td>\n",
       "      <td>1</td>\n",
       "      <td>0</td>\n",
       "      <td>2</td>\n",
       "      <td>0</td>\n",
       "      <td>0</td>\n",
       "      <td>93826</td>\n",
       "      <td>0</td>\n",
       "    </tr>\n",
       "    <tr>\n",
       "      <td>4</td>\n",
       "      <td>850</td>\n",
       "      <td>2</td>\n",
       "      <td>0</td>\n",
       "      <td>43</td>\n",
       "      <td>2</td>\n",
       "      <td>125510</td>\n",
       "      <td>1</td>\n",
       "      <td>1</td>\n",
       "      <td>1</td>\n",
       "      <td>79084</td>\n",
       "      <td>0</td>\n",
       "    </tr>\n",
       "    <tr>\n",
       "      <td>...</td>\n",
       "      <td>...</td>\n",
       "      <td>...</td>\n",
       "      <td>...</td>\n",
       "      <td>...</td>\n",
       "      <td>...</td>\n",
       "      <td>...</td>\n",
       "      <td>...</td>\n",
       "      <td>...</td>\n",
       "      <td>...</td>\n",
       "      <td>...</td>\n",
       "      <td>...</td>\n",
       "    </tr>\n",
       "    <tr>\n",
       "      <td>9994</td>\n",
       "      <td>800</td>\n",
       "      <td>0</td>\n",
       "      <td>0</td>\n",
       "      <td>29</td>\n",
       "      <td>2</td>\n",
       "      <td>0</td>\n",
       "      <td>2</td>\n",
       "      <td>0</td>\n",
       "      <td>0</td>\n",
       "      <td>167773</td>\n",
       "      <td>0</td>\n",
       "    </tr>\n",
       "    <tr>\n",
       "      <td>9995</td>\n",
       "      <td>771</td>\n",
       "      <td>0</td>\n",
       "      <td>1</td>\n",
       "      <td>39</td>\n",
       "      <td>5</td>\n",
       "      <td>0</td>\n",
       "      <td>2</td>\n",
       "      <td>1</td>\n",
       "      <td>0</td>\n",
       "      <td>96270</td>\n",
       "      <td>0</td>\n",
       "    </tr>\n",
       "    <tr>\n",
       "      <td>9996</td>\n",
       "      <td>516</td>\n",
       "      <td>0</td>\n",
       "      <td>1</td>\n",
       "      <td>35</td>\n",
       "      <td>10</td>\n",
       "      <td>57369</td>\n",
       "      <td>1</td>\n",
       "      <td>1</td>\n",
       "      <td>1</td>\n",
       "      <td>101699</td>\n",
       "      <td>0</td>\n",
       "    </tr>\n",
       "    <tr>\n",
       "      <td>9997</td>\n",
       "      <td>709</td>\n",
       "      <td>0</td>\n",
       "      <td>0</td>\n",
       "      <td>36</td>\n",
       "      <td>7</td>\n",
       "      <td>0</td>\n",
       "      <td>1</td>\n",
       "      <td>0</td>\n",
       "      <td>1</td>\n",
       "      <td>42085</td>\n",
       "      <td>1</td>\n",
       "    </tr>\n",
       "    <tr>\n",
       "      <td>9998</td>\n",
       "      <td>772</td>\n",
       "      <td>1</td>\n",
       "      <td>1</td>\n",
       "      <td>42</td>\n",
       "      <td>3</td>\n",
       "      <td>75075</td>\n",
       "      <td>2</td>\n",
       "      <td>1</td>\n",
       "      <td>0</td>\n",
       "      <td>92888</td>\n",
       "      <td>1</td>\n",
       "    </tr>\n",
       "  </tbody>\n",
       "</table>\n",
       "<p>9091 rows × 11 columns</p>\n",
       "</div>"
      ],
      "text/plain": [
       "      credit_score  geography  gender  age  tenure  balance  num_of_products  \\\n",
       "0              619          0       0   42       2        0                1   \n",
       "1              608          2       0   41       1    83807                1   \n",
       "2              502          0       0   42       8   159660                3   \n",
       "3              699          0       0   39       1        0                2   \n",
       "4              850          2       0   43       2   125510                1   \n",
       "...            ...        ...     ...  ...     ...      ...              ...   \n",
       "9994           800          0       0   29       2        0                2   \n",
       "9995           771          0       1   39       5        0                2   \n",
       "9996           516          0       1   35      10    57369                1   \n",
       "9997           709          0       0   36       7        0                1   \n",
       "9998           772          1       1   42       3    75075                2   \n",
       "\n",
       "      has_cr_card  is_active_member  estimated_salary  exited  \n",
       "0               1                 1            101348       1  \n",
       "1               0                 1            112542       0  \n",
       "2               1                 0            113931       1  \n",
       "3               0                 0             93826       0  \n",
       "4               1                 1             79084       0  \n",
       "...           ...               ...               ...     ...  \n",
       "9994            0                 0            167773       0  \n",
       "9995            1                 0             96270       0  \n",
       "9996            1                 1            101699       0  \n",
       "9997            0                 1             42085       1  \n",
       "9998            1                 0             92888       1  \n",
       "\n",
       "[9091 rows x 11 columns]"
      ]
     },
     "execution_count": 11,
     "metadata": {},
     "output_type": "execute_result"
    }
   ],
   "source": [
    "df"
   ]
  },
  {
   "cell_type": "markdown",
   "metadata": {},
   "source": [
    "## Анализ и обработка данных"
   ]
  },
  {
   "cell_type": "code",
   "execution_count": 12,
   "metadata": {
    "scrolled": false
   },
   "outputs": [
    {
     "data": {
      "image/png": "[encoded data removed]",
      "text/plain": [
       "<Figure size 432x432 with 1 Axes>"
      ]
     },
     "metadata": {},
     "output_type": "display_data"
    }
   ],
   "source": [
    "fig, ax = plt.subplots(figsize=(6, 6))\n",
    "\n",
    "patches, texts, pcts = ax.pie(df.exited.value_counts(),\n",
    "        autopct='%.1f%%',\n",
    "        textprops= {'size': 'x-large'},\n",
    "        explode= [0,0.1],\n",
    "        labels = ['', 'Churn'],\n",
    "        shadow = True);\n",
    "plt.setp(pcts, color='white');\n",
    "plt.title('Proportion of losses', fontsize=20);"
   ]
  },
  {
   "cell_type": "markdown",
   "metadata": {},
   "source": [
    "В предоставленных данных, за рассматриваемый период, около 20% клиентов решили прекратить пользоваться услугами «Бета-Банка»."
   ]
  },
  {
   "cell_type": "markdown",
   "metadata": {},
   "source": [
    "### Модель без учета дисбаланса"
   ]
  },
  {
   "cell_type": "markdown",
   "metadata": {},
   "source": [
    "По плану заказчика сначала предоставим модель обученую без учета дисбаланса классов."
   ]
  },
  {
   "cell_type": "markdown",
   "metadata": {},
   "source": [
    "Разделим данные на тренировочные и тестовые."
   ]
  },
  {
   "cell_type": "code",
   "execution_count": 13,
   "metadata": {},
   "outputs": [],
   "source": [
    "X_train, X_test, y_train, y_test = train_test_split(df.drop('exited', axis=1),\n",
    "                                                    df.exited,\n",
    "                                                    test_size=0.33,\n",
    "                                                    random_state=42)\n"
   ]
  },
  {
   "cell_type": "markdown",
   "metadata": {},
   "source": [
    "Для предсказания будем обучать модель catboost"
   ]
  },
  {
   "cell_type": "code",
   "execution_count": 14,
   "metadata": {},
   "outputs": [
    {
     "name": "stdout",
     "output_type": "stream",
     "text": [
      "0:\tlearn: 0.5303581\ttest: 0.4782147\tbest: 0.4782147 (0)\ttotal: 65.5ms\tremaining: 2m 10s\n",
      "200:\tlearn: 0.5903984\ttest: 0.5419766\tbest: 0.5419766 (189)\ttotal: 2.93s\tremaining: 26.2s\n",
      "400:\tlearn: 0.6197891\ttest: 0.5598335\tbest: 0.5598335 (394)\ttotal: 5.33s\tremaining: 21.2s\n",
      "600:\tlearn: 0.6418651\ttest: 0.5667351\tbest: 0.5693731 (577)\ttotal: 7.75s\tremaining: 18s\n",
      "Stopped by overfitting detector  (100 iterations wait)\n",
      "\n",
      "bestTest = 0.5731832139\n",
      "bestIteration = 621\n",
      "\n",
      "Shrink model to first 622 iterations.\n",
      "Значением F1-меры для модели обученной без учета дисбаланса классов:       0.573\n"
     ]
    }
   ],
   "source": [
    "cat_features = ['geography','gender','num_of_products','has_cr_card','is_active_member'] #качественные признаки\n",
    "\n",
    "cbc = CatBoostClassifier(iterations=2000,\n",
    "                         cat_features=cat_features,\n",
    "                         depth=7,\n",
    "                         loss_function='Logloss',                         \n",
    "                         custom_loss='F1',\n",
    "                         eval_metric='F1',\n",
    "                         learning_rate=0.01,\n",
    "                         early_stopping_rounds=100)\n",
    "\n",
    "cbc.fit(X_train, y_train, eval_set=(X_test, y_test), verbose=200)\n",
    "\n",
    "print(f'Значением F1-меры для модели обученной без учета дисбаланса классов: \\\n",
    "      {f1_score(y_test, cbc.predict(X_test)):.3f}')"
   ]
  },
  {
   "cell_type": "markdown",
   "metadata": {},
   "source": [
    "Полученное значение F1 не достигает необходимой величины 0.59"
   ]
  },
  {
   "cell_type": "markdown",
   "metadata": {},
   "source": [
    "### Модель с учета дисбаланса"
   ]
  },
  {
   "cell_type": "markdown",
   "metadata": {},
   "source": [
    "Теперь обучим полноценную модель с учетом дисбаланса классов"
   ]
  },
  {
   "cell_type": "code",
   "execution_count": 15,
   "metadata": {
    "scrolled": true
   },
   "outputs": [
    {
     "name": "stdout",
     "output_type": "stream",
     "text": [
      "Training on fold [0/5]\n",
      "0:\tlearn: 0.7524572\ttest: 0.7449835\tbest: 0.7449835 (0)\ttotal: 13.4ms\tremaining: 26.9s\n",
      "200:\tlearn: 0.7984244\ttest: 0.7945379\tbest: 0.7961720 (99)\ttotal: 2.31s\tremaining: 20.7s\n",
      "\n",
      "bestTest = 0.7961719516\n",
      "bestIteration = 99\n",
      "\n",
      "Training on fold [1/5]\n",
      "0:\tlearn: 0.7611282\ttest: 0.7640600\tbest: 0.7640600 (0)\ttotal: 13.3ms\tremaining: 26.5s\n",
      "200:\tlearn: 0.7984737\ttest: 0.7934329\tbest: 0.7963559 (161)\ttotal: 2.17s\tremaining: 19.4s\n",
      "400:\tlearn: 0.8171070\ttest: 0.7832935\tbest: 0.7963559 (161)\ttotal: 4.28s\tremaining: 17.1s\n",
      "\n",
      "bestTest = 0.7963559397\n",
      "bestIteration = 161\n",
      "\n",
      "Training on fold [2/5]\n",
      "0:\tlearn: 0.7567385\ttest: 0.7468718\tbest: 0.7468718 (0)\ttotal: 16.3ms\tremaining: 32.6s\n",
      "200:\tlearn: 0.7956015\ttest: 0.7619332\tbest: 0.7678809 (154)\ttotal: 2.24s\tremaining: 20.1s\n",
      "400:\tlearn: 0.8105823\ttest: 0.7612335\tbest: 0.7678809 (154)\ttotal: 4.32s\tremaining: 17.2s\n",
      "\n",
      "bestTest = 0.7678808677\n",
      "bestIteration = 154\n",
      "\n",
      "Training on fold [3/5]\n",
      "0:\tlearn: 0.7565598\ttest: 0.7244907\tbest: 0.7244907 (0)\ttotal: 14.8ms\tremaining: 29.6s\n",
      "200:\tlearn: 0.7955300\ttest: 0.7579726\tbest: 0.7591043 (119)\ttotal: 2.32s\tremaining: 20.8s\n",
      "400:\tlearn: 0.8077214\ttest: 0.7654762\tbest: 0.7665415 (251)\ttotal: 4.48s\tremaining: 17.8s\n",
      "600:\tlearn: 0.8242413\ttest: 0.7722111\tbest: 0.7722111 (595)\ttotal: 6.6s\tremaining: 15.4s\n",
      "800:\tlearn: 0.8414094\ttest: 0.7695100\tbest: 0.7751388 (758)\ttotal: 8.71s\tremaining: 13s\n",
      "1000:\tlearn: 0.8555962\ttest: 0.7662239\tbest: 0.7751388 (758)\ttotal: 11.2s\tremaining: 11.1s\n",
      "\n",
      "bestTest = 0.7751388044\n",
      "bestIteration = 758\n",
      "\n",
      "Training on fold [4/5]\n",
      "0:\tlearn: 0.7625496\ttest: 0.6965201\tbest: 0.6965201 (0)\ttotal: 13.4ms\tremaining: 26.9s\n",
      "200:\tlearn: 0.7995288\ttest: 0.7404424\tbest: 0.7439446 (147)\ttotal: 2.24s\tremaining: 20s\n",
      "400:\tlearn: 0.8130930\ttest: 0.7519570\tbest: 0.7519570 (400)\ttotal: 4.32s\tremaining: 17.2s\n",
      "600:\tlearn: 0.8229860\ttest: 0.7602080\tbest: 0.7620295 (566)\ttotal: 6.28s\tremaining: 14.6s\n",
      "800:\tlearn: 0.8347810\ttest: 0.7511304\tbest: 0.7620295 (566)\ttotal: 8.47s\tremaining: 12.7s\n",
      "\n",
      "bestTest = 0.7620295291\n",
      "bestIteration = 566\n",
      "\n"
     ]
    }
   ],
   "source": [
    "params = {'loss_function': 'Logloss',\n",
    "          'depth': 7,\n",
    "          'iterations': 2000,\n",
    "          'custom_loss': 'F1',\n",
    "          'random_seed': 42,\n",
    "          'learning_rate': 0.01,\n",
    "          'eval_metric':'F1',\n",
    "          'early_stopping_rounds':300,\n",
    "          'auto_class_weights': 'Balanced',\n",
    "         } \n",
    "\n",
    "cv_data, cbc_list = cv(\n",
    "    params=params,\n",
    "    pool = Pool(X_train, y_train, cat_features=cat_features),\n",
    "    fold_count = 5,\n",
    "    shuffle = True,\n",
    "    partition_random_seed=42,\n",
    "    stratified=True,\n",
    "    verbose=200,\n",
    "    return_models=True,\n",
    ")\n",
    "\n"
   ]
  },
  {
   "cell_type": "markdown",
   "metadata": {},
   "source": [
    "Все модели показали необходимый результат на тренировочной выборке.  \n",
    "Для дальнейшей оценки будем использовать одну из обученных моделей"
   ]
  },
  {
   "cell_type": "code",
   "execution_count": 16,
   "metadata": {},
   "outputs": [
    {
     "name": "stdout",
     "output_type": "stream",
     "text": [
      "Значением F1-меры для модели обученной с учетом дисбаланса классов:       0.617\n"
     ]
    }
   ],
   "source": [
    "cbc = cbc_list[1]\n",
    "\n",
    "print(f\"Значением F1-меры для модели обученной с учетом дисбаланса классов: \\\n",
    "      {f1_score(y_test, cbc.predict(X_test, prediction_type='Class')):.3f}\")\n"
   ]
  },
  {
   "cell_type": "markdown",
   "metadata": {},
   "source": [
    "Достигнуто необходимое F1"
   ]
  },
  {
   "cell_type": "markdown",
   "metadata": {},
   "source": [
    "## Интерпретация результатов"
   ]
  },
  {
   "cell_type": "markdown",
   "metadata": {},
   "source": [
    "Визуализируем важность признаков при прогнозировании обученной модели"
   ]
  },
  {
   "cell_type": "code",
   "execution_count": 17,
   "metadata": {},
   "outputs": [
    {
     "data": {
      "image/png": "[encoded data removed]",
      "text/plain": [
       "<Figure size 720x720 with 2 Axes>"
      ]
     },
     "metadata": {
      "needs_background": "light"
     },
     "output_type": "display_data"
    }
   ],
   "source": [
    "shap.summary_plot(shap.TreeExplainer(cbc).shap_values(Pool(X_test,\n",
    "                                                           y_test,\n",
    "                                                           cat_features=cat_features)),\n",
    "                  X_test,\n",
    "                  plot_size=(10,10))"
   ]
  },
  {
   "cell_type": "markdown",
   "metadata": {},
   "source": [
    "<b>Стаж, кредитный рейтинг, предполагаемая зарплата и наличие кредитной карты</b> - показатели не являющиеся основополагающими при принятии решения покинуть ряды клиентов «Бета-Банка»\n",
    "\n",
    "<b>Geography</b> - Немецкие филиалы хуже справляются с местным менталитетом, из-за чего доля уходов в Германии немного выше, а вот Французы немного более лояльны.\n",
    "\n",
    "<b>Balance</b> - видна небольшая зависимость, что присутсвует клиенты с большими деньгами не удовлетворенные услугами  «Бета-Банка»\n",
    "\n",
    "<b>Gender, Active</b> - женщины покидают «Бета-Банк» чаще мужчин, а признак неактивности клиента является знаком к возможному уходу\n",
    "\n",
    "<b>Age</b> - один из важнейших признаков. Нет данных связан ли уход из «Бета-Банка» со смертью клиента, но великовозрастные клиенты с возрастом покидают банк все чаще.\n",
    "\n",
    "В данном виде самый важный признак <b>num_of_product</b> не однозначен. Рассмотрим его отдельно"
   ]
  },
  {
   "cell_type": "code",
   "execution_count": 18,
   "metadata": {},
   "outputs": [
    {
     "data": {
      "image/png": "[encoded data removed]",
      "text/plain": [
       "<Figure size 432x432 with 1 Axes>"
      ]
     },
     "metadata": {
      "needs_background": "light"
     },
     "output_type": "display_data"
    }
   ],
   "source": [
    "plt.figure(figsize=(6,6))\n",
    "df.groupby('num_of_products').exited.mean().plot(kind='bar', grid=True, zorder=2);\n",
    "plt.ylabel('Proportion of losses');\n",
    "plt.title('Importance of product quantity', fontsize=15);"
   ]
  },
  {
   "cell_type": "markdown",
   "metadata": {},
   "source": [
    "Клиенты с 2 продуктами уходят из «Бета-Банка» в среднем гораздо реже, в вот использующие 3 или 4 продукта, согласно данным, практически точно в скором времени покинут «Бета-Банка»."
   ]
  },
  {
   "cell_type": "markdown",
   "metadata": {
    "scrolled": true
   },
   "source": [
    "## ROC"
   ]
  },
  {
   "cell_type": "markdown",
   "metadata": {},
   "source": [
    "AUC-ROC обученной модели"
   ]
  },
  {
   "cell_type": "code",
   "execution_count": 19,
   "metadata": {},
   "outputs": [
    {
     "data": {
      "image/png": "[encoded data removed]",
      "text/plain": [
       "<Figure size 504x432 with 1 Axes>"
      ]
     },
     "metadata": {
      "needs_background": "light"
     },
     "output_type": "display_data"
    }
   ],
   "source": [
    "(fpr, tpr, trh) = get_roc_curve(cbc, Pool(X_test, y_test, cat_features=cat_features))\n",
    "\n",
    "plt.figure(figsize=(7,6))\n",
    "plt.plot(fpr, tpr, color='darkorange',\n",
    "         label='ROC curve (area = %0.2f)'% auc(fpr, tpr))\n",
    "plt.plot([0, 1], [0, 1], color='navy', linestyle='--')\n",
    "plt.xlim([0.0, 1.0])\n",
    "plt.ylim([0.0, 1.05])\n",
    "plt.xlabel('False Positive Rate')\n",
    "plt.ylabel('True Positive Rate')\n",
    "plt.title('Receiver Operating Characteristic', fontsize=15);\n",
    "plt.legend(loc='lower right')\n",
    "plt.grid()"
   ]
  },
  {
   "cell_type": "markdown",
   "metadata": {},
   "source": [
    "## Выводы"
   ]
  },
  {
   "cell_type": "markdown",
   "metadata": {},
   "source": [
    "1. Обучены модели в запрашиваемом виде с необходимыми метриками\n",
    "2. Наблюдается высокая неудовлетворенность возрастных, богатых клиентов пользующимися несколькими продуктами «Бета-Банка»"
   ]
  }
 ],
 "metadata": {
  "ExecuteTimeLog": [
   {
    "duration": 482,
    "start_time": "2022-02-10T16:03:55.748Z"
   },
   {
    "duration": 7007,
    "start_time": "2022-02-10T16:04:09.543Z"
   },
   {
    "duration": 4,
    "start_time": "2022-02-10T18:16:47.451Z"
   },
   {
    "duration": 6230,
    "start_time": "2022-02-10T18:17:58.255Z"
   },
   {
    "duration": 3286,
    "start_time": "2022-02-10T18:18:07.421Z"
   },
   {
    "duration": 72,
    "start_time": "2022-02-10T18:19:06.638Z"
   },
   {
    "duration": 12,
    "start_time": "2022-02-10T18:19:11.374Z"
   },
   {
    "duration": 5,
    "start_time": "2022-02-10T18:19:11.697Z"
   },
   {
    "duration": 5,
    "start_time": "2022-02-10T18:19:18.051Z"
   },
   {
    "duration": 10,
    "start_time": "2022-02-10T18:19:18.440Z"
   },
   {
    "duration": 7,
    "start_time": "2022-02-10T18:19:21.439Z"
   },
   {
    "duration": 7,
    "start_time": "2022-02-10T18:19:22.357Z"
   },
   {
    "duration": 5,
    "start_time": "2022-02-10T18:19:23.024Z"
   },
   {
    "duration": 25,
    "start_time": "2022-02-10T18:19:29.384Z"
   },
   {
    "duration": 11,
    "start_time": "2022-02-10T18:20:02.845Z"
   },
   {
    "duration": 288430,
    "start_time": "2022-02-10T18:21:37.258Z"
   },
   {
    "duration": 70811,
    "start_time": "2022-02-10T18:37:12.770Z"
   },
   {
    "duration": 3249,
    "start_time": "2022-02-10T18:38:30.825Z"
   },
   {
    "duration": 5,
    "start_time": "2022-02-10T18:39:05.013Z"
   },
   {
    "duration": 832,
    "start_time": "2022-02-10T18:39:37.588Z"
   },
   {
    "duration": 4503,
    "start_time": "2022-02-10T18:39:51.294Z"
   },
   {
    "duration": 4081,
    "start_time": "2022-02-10T18:40:05.601Z"
   },
   {
    "duration": 89,
    "start_time": "2022-02-10T18:40:10.750Z"
   },
   {
    "duration": 4,
    "start_time": "2022-02-10T18:40:14.734Z"
   },
   {
    "duration": 5,
    "start_time": "2022-02-10T18:40:15.061Z"
   },
   {
    "duration": 11,
    "start_time": "2022-02-10T18:40:15.395Z"
   },
   {
    "duration": 8,
    "start_time": "2022-02-10T18:40:16.810Z"
   },
   {
    "duration": 7,
    "start_time": "2022-02-10T18:40:17.732Z"
   },
   {
    "duration": 5,
    "start_time": "2022-02-10T18:40:18.044Z"
   },
   {
    "duration": 25,
    "start_time": "2022-02-10T18:40:18.368Z"
   },
   {
    "duration": 11,
    "start_time": "2022-02-10T18:40:25.557Z"
   },
   {
    "duration": 2249,
    "start_time": "2022-02-10T18:40:34.938Z"
   },
   {
    "duration": 5,
    "start_time": "2022-02-10T18:43:07.504Z"
   },
   {
    "duration": 29,
    "start_time": "2022-02-10T18:44:49.385Z"
   },
   {
    "duration": 554,
    "start_time": "2022-02-10T18:45:04.827Z"
   },
   {
    "duration": 863,
    "start_time": "2022-02-10T18:47:33.573Z"
   },
   {
    "duration": 2536,
    "start_time": "2022-02-10T18:47:47.356Z"
   },
   {
    "duration": 2553,
    "start_time": "2022-02-10T18:49:19.342Z"
   },
   {
    "duration": 847,
    "start_time": "2022-02-10T18:51:23.208Z"
   },
   {
    "duration": 853,
    "start_time": "2022-02-10T18:51:30.028Z"
   },
   {
    "duration": 1496,
    "start_time": "2022-02-10T18:52:32.138Z"
   },
   {
    "duration": 3447,
    "start_time": "2022-02-10T18:52:45.717Z"
   },
   {
    "duration": 3238,
    "start_time": "2022-02-10T18:53:00.537Z"
   },
   {
    "duration": 635,
    "start_time": "2022-02-10T18:53:03.777Z"
   },
   {
    "duration": 353,
    "start_time": "2022-02-10T18:53:07.890Z"
   },
   {
    "duration": 6,
    "start_time": "2022-02-10T18:53:12.897Z"
   },
   {
    "duration": 68,
    "start_time": "2022-02-10T18:53:13.435Z"
   },
   {
    "duration": 21,
    "start_time": "2022-02-10T18:53:14.426Z"
   },
   {
    "duration": 4,
    "start_time": "2022-02-10T18:53:14.897Z"
   },
   {
    "duration": 5,
    "start_time": "2022-02-10T18:53:15.301Z"
   },
   {
    "duration": 12,
    "start_time": "2022-02-10T18:53:16.106Z"
   },
   {
    "duration": 9,
    "start_time": "2022-02-10T18:53:16.442Z"
   },
   {
    "duration": 8,
    "start_time": "2022-02-10T18:53:17.070Z"
   },
   {
    "duration": 6,
    "start_time": "2022-02-10T18:53:18.367Z"
   },
   {
    "duration": 33,
    "start_time": "2022-02-10T18:53:19.055Z"
   },
   {
    "duration": 13,
    "start_time": "2022-02-10T18:53:20.500Z"
   },
   {
    "duration": 371,
    "start_time": "2022-02-10T18:53:21.223Z"
   },
   {
    "duration": 90914,
    "start_time": "2022-02-10T18:53:39.028Z"
   },
   {
    "duration": 89241,
    "start_time": "2022-02-10T18:59:35.212Z"
   },
   {
    "duration": 390,
    "start_time": "2022-02-10T19:01:49.002Z"
   },
   {
    "duration": 384,
    "start_time": "2022-02-10T19:04:47.632Z"
   },
   {
    "duration": 398,
    "start_time": "2022-02-10T19:05:44.098Z"
   },
   {
    "duration": 83822,
    "start_time": "2022-02-10T19:05:49.642Z"
   },
   {
    "duration": 3440,
    "start_time": "2022-02-10T19:20:36.745Z"
   },
   {
    "duration": 29759,
    "start_time": "2022-02-10T19:20:57.399Z"
   },
   {
    "duration": 998,
    "start_time": "2022-02-10T19:21:37.054Z"
   },
   {
    "duration": 2027,
    "start_time": "2022-02-10T19:21:40.176Z"
   },
   {
    "duration": 66,
    "start_time": "2022-02-10T19:21:44.560Z"
   },
   {
    "duration": 9,
    "start_time": "2022-02-10T19:21:45.172Z"
   },
   {
    "duration": 4,
    "start_time": "2022-02-10T19:21:46.169Z"
   },
   {
    "duration": 5,
    "start_time": "2022-02-10T19:21:46.502Z"
   },
   {
    "duration": 10,
    "start_time": "2022-02-10T19:21:46.886Z"
   },
   {
    "duration": 6,
    "start_time": "2022-02-10T19:21:47.648Z"
   },
   {
    "duration": 7,
    "start_time": "2022-02-10T19:21:47.981Z"
   },
   {
    "duration": 5,
    "start_time": "2022-02-10T19:21:48.305Z"
   },
   {
    "duration": 25,
    "start_time": "2022-02-10T19:21:48.810Z"
   },
   {
    "duration": 11,
    "start_time": "2022-02-10T19:21:50.489Z"
   },
   {
    "duration": 56686,
    "start_time": "2022-02-10T19:21:55.801Z"
   },
   {
    "duration": 60395,
    "start_time": "2022-02-10T19:23:03.537Z"
   },
   {
    "duration": 23,
    "start_time": "2022-02-10T19:24:15.117Z"
   },
   {
    "duration": 551,
    "start_time": "2022-02-10T19:24:59.636Z"
   },
   {
    "duration": 59550,
    "start_time": "2022-02-10T19:25:04.560Z"
   },
   {
    "duration": 18,
    "start_time": "2022-02-10T19:26:04.112Z"
   },
   {
    "duration": 574,
    "start_time": "2022-02-10T19:26:50.158Z"
   },
   {
    "duration": 3,
    "start_time": "2022-02-10T19:27:05.264Z"
   },
   {
    "duration": 17,
    "start_time": "2022-02-10T19:27:08.074Z"
   },
   {
    "duration": 5473,
    "start_time": "2022-02-10T19:27:09.606Z"
   },
   {
    "duration": 4,
    "start_time": "2022-02-10T19:32:56.385Z"
   },
   {
    "duration": 24,
    "start_time": "2022-02-10T19:33:01.033Z"
   },
   {
    "duration": 121,
    "start_time": "2022-02-10T19:33:11.866Z"
   },
   {
    "duration": 123,
    "start_time": "2022-02-10T19:33:25.464Z"
   },
   {
    "duration": 4,
    "start_time": "2022-02-10T19:33:40.396Z"
   },
   {
    "duration": 8,
    "start_time": "2022-02-10T19:34:08.779Z"
   },
   {
    "duration": 21,
    "start_time": "2022-02-10T19:35:17.504Z"
   },
   {
    "duration": 10,
    "start_time": "2022-02-10T19:35:46.172Z"
   },
   {
    "duration": 20,
    "start_time": "2022-02-10T19:35:48.270Z"
   },
   {
    "duration": 10,
    "start_time": "2022-02-10T19:36:33.688Z"
   },
   {
    "duration": 67903,
    "start_time": "2022-02-10T19:36:34.557Z"
   },
   {
    "duration": 3,
    "start_time": "2022-02-10T19:37:44.441Z"
   },
   {
    "duration": 19,
    "start_time": "2022-02-10T19:37:44.745Z"
   },
   {
    "duration": 6194,
    "start_time": "2022-02-10T19:37:48.171Z"
   },
   {
    "duration": 7986,
    "start_time": "2022-02-10T19:38:19.552Z"
   },
   {
    "duration": 6,
    "start_time": "2022-02-10T19:41:05.167Z"
   },
   {
    "duration": 10,
    "start_time": "2022-02-10T19:41:10.128Z"
   },
   {
    "duration": 440,
    "start_time": "2022-02-10T19:41:12.355Z"
   },
   {
    "duration": 20,
    "start_time": "2022-02-10T19:41:32.767Z"
   },
   {
    "duration": 12,
    "start_time": "2022-02-10T19:42:26.726Z"
   },
   {
    "duration": 61612,
    "start_time": "2022-02-10T19:42:27.941Z"
   },
   {
    "duration": 5,
    "start_time": "2022-02-10T19:43:40.560Z"
   },
   {
    "duration": 10070,
    "start_time": "2022-02-10T19:43:42.255Z"
   },
   {
    "duration": 639,
    "start_time": "2022-02-11T11:32:55.432Z"
   },
   {
    "duration": 13130,
    "start_time": "2022-02-11T11:32:59.092Z"
   },
   {
    "duration": 3,
    "start_time": "2022-02-11T11:33:12.224Z"
   },
   {
    "duration": 2,
    "start_time": "2022-02-11T11:42:26.576Z"
   },
   {
    "duration": 2460,
    "start_time": "2022-02-11T11:42:31.561Z"
   },
   {
    "duration": 625,
    "start_time": "2022-02-11T11:42:42.435Z"
   },
   {
    "duration": 4018,
    "start_time": "2022-02-11T12:10:38.973Z"
   },
   {
    "duration": 3,
    "start_time": "2022-02-11T12:10:42.994Z"
   },
   {
    "duration": 45,
    "start_time": "2022-02-11T12:10:47.579Z"
   },
   {
    "duration": 7,
    "start_time": "2022-02-11T12:10:49.568Z"
   },
   {
    "duration": 3,
    "start_time": "2022-02-11T12:10:51.683Z"
   },
   {
    "duration": 3,
    "start_time": "2022-02-11T12:10:51.963Z"
   },
   {
    "duration": 6,
    "start_time": "2022-02-11T12:10:52.251Z"
   },
   {
    "duration": 4,
    "start_time": "2022-02-11T12:10:53.216Z"
   },
   {
    "duration": 5,
    "start_time": "2022-02-11T12:10:57.216Z"
   },
   {
    "duration": 6,
    "start_time": "2022-02-11T12:10:58.005Z"
   },
   {
    "duration": 4,
    "start_time": "2022-02-11T12:10:59.822Z"
   },
   {
    "duration": 11,
    "start_time": "2022-02-11T12:11:00.380Z"
   },
   {
    "duration": 7,
    "start_time": "2022-02-11T12:11:03.462Z"
   },
   {
    "duration": 40033,
    "start_time": "2022-02-11T12:11:07.554Z"
   },
   {
    "duration": 20764,
    "start_time": "2022-02-11T12:11:58.163Z"
   },
   {
    "duration": 39369,
    "start_time": "2022-02-11T12:12:26.354Z"
   },
   {
    "duration": 2,
    "start_time": "2022-02-11T12:13:08.420Z"
   },
   {
    "duration": 13,
    "start_time": "2022-02-11T12:13:08.887Z"
   },
   {
    "duration": 4,
    "start_time": "2022-02-11T12:13:15.630Z"
   },
   {
    "duration": 6,
    "start_time": "2022-02-11T12:13:15.918Z"
   },
   {
    "duration": 34503,
    "start_time": "2022-02-11T12:13:52.153Z"
   },
   {
    "duration": 3,
    "start_time": "2022-02-11T12:14:52.898Z"
   },
   {
    "duration": 5125,
    "start_time": "2022-02-11T12:14:53.139Z"
   },
   {
    "duration": 3,
    "start_time": "2022-02-11T12:15:41.305Z"
   },
   {
    "duration": 446,
    "start_time": "2022-02-11T12:16:30.273Z"
   },
   {
    "duration": 324,
    "start_time": "2022-02-11T12:17:25.066Z"
   },
   {
    "duration": 3,
    "start_time": "2022-02-11T12:17:36.751Z"
   },
   {
    "duration": 11,
    "start_time": "2022-02-11T12:17:46.404Z"
   },
   {
    "duration": 15,
    "start_time": "2022-02-11T12:20:31.098Z"
   },
   {
    "duration": 78,
    "start_time": "2022-02-11T12:21:33.297Z"
   },
   {
    "duration": 12,
    "start_time": "2022-02-11T12:22:00.794Z"
   },
   {
    "duration": 14,
    "start_time": "2022-02-11T12:22:16.574Z"
   },
   {
    "duration": 13,
    "start_time": "2022-02-11T12:22:20.085Z"
   },
   {
    "duration": 80,
    "start_time": "2022-02-11T12:22:29.710Z"
   },
   {
    "duration": 35209,
    "start_time": "2022-02-11T12:23:56.554Z"
   },
   {
    "duration": 44,
    "start_time": "2022-02-11T12:24:36.296Z"
   },
   {
    "duration": 315,
    "start_time": "2022-02-11T12:24:48.847Z"
   },
   {
    "duration": 41,
    "start_time": "2022-02-11T12:25:00.593Z"
   },
   {
    "duration": 2,
    "start_time": "2022-02-11T12:25:02.933Z"
   },
   {
    "duration": 3,
    "start_time": "2022-02-11T12:25:03.242Z"
   },
   {
    "duration": 6,
    "start_time": "2022-02-11T12:25:03.502Z"
   },
   {
    "duration": 4,
    "start_time": "2022-02-11T12:25:04.334Z"
   },
   {
    "duration": 6,
    "start_time": "2022-02-11T12:25:04.734Z"
   },
   {
    "duration": 6,
    "start_time": "2022-02-11T12:25:05.739Z"
   },
   {
    "duration": 3,
    "start_time": "2022-02-11T12:25:07.056Z"
   },
   {
    "duration": 6,
    "start_time": "2022-02-11T12:25:11.391Z"
   },
   {
    "duration": 52191,
    "start_time": "2022-02-11T12:25:12.054Z"
   },
   {
    "duration": 55,
    "start_time": "2022-02-11T12:26:15.716Z"
   },
   {
    "duration": 4,
    "start_time": "2022-02-11T12:26:27.688Z"
   },
   {
    "duration": 6,
    "start_time": "2022-02-11T12:26:31.395Z"
   },
   {
    "duration": 51075,
    "start_time": "2022-02-11T12:26:31.754Z"
   },
   {
    "duration": 56,
    "start_time": "2022-02-11T12:27:25.408Z"
   },
   {
    "duration": 4,
    "start_time": "2022-02-11T12:28:15.773Z"
   },
   {
    "duration": 41,
    "start_time": "2022-02-11T12:28:50.247Z"
   },
   {
    "duration": 6,
    "start_time": "2022-02-11T12:28:51.116Z"
   },
   {
    "duration": 2,
    "start_time": "2022-02-11T12:28:51.444Z"
   },
   {
    "duration": 3,
    "start_time": "2022-02-11T12:28:52.148Z"
   },
   {
    "duration": 6,
    "start_time": "2022-02-11T12:28:52.464Z"
   },
   {
    "duration": 5,
    "start_time": "2022-02-11T12:28:52.785Z"
   },
   {
    "duration": 5,
    "start_time": "2022-02-11T12:28:53.129Z"
   },
   {
    "duration": 6,
    "start_time": "2022-02-11T12:28:54.202Z"
   },
   {
    "duration": 4,
    "start_time": "2022-02-11T12:28:54.663Z"
   },
   {
    "duration": 7,
    "start_time": "2022-02-11T12:28:56.627Z"
   },
   {
    "duration": 5,
    "start_time": "2022-02-11T12:28:57.450Z"
   },
   {
    "duration": 118,
    "start_time": "2022-02-11T12:28:58.748Z"
   },
   {
    "duration": 3359,
    "start_time": "2022-02-11T12:29:06.936Z"
   },
   {
    "duration": 45047,
    "start_time": "2022-02-11T12:29:46.064Z"
   },
   {
    "duration": 2265,
    "start_time": "2022-02-11T12:30:41.109Z"
   },
   {
    "duration": 2230,
    "start_time": "2022-02-11T12:31:18.347Z"
   },
   {
    "duration": 397,
    "start_time": "2022-02-11T12:31:36.546Z"
   },
   {
    "duration": 46021,
    "start_time": "2022-02-11T12:31:53.669Z"
   },
   {
    "duration": 18307,
    "start_time": "2022-02-11T13:48:16.183Z"
   },
   {
    "duration": 41,
    "start_time": "2022-02-11T13:48:40.686Z"
   },
   {
    "duration": 360,
    "start_time": "2022-02-11T13:49:11.665Z"
   },
   {
    "duration": 382,
    "start_time": "2022-02-11T13:51:23.900Z"
   },
   {
    "duration": 4567,
    "start_time": "2022-02-11T13:51:46.944Z"
   },
   {
    "duration": 4820,
    "start_time": "2022-02-11T13:52:05.613Z"
   },
   {
    "duration": 47927,
    "start_time": "2022-02-11T13:52:16.192Z"
   },
   {
    "duration": 54,
    "start_time": "2022-02-11T13:53:22.638Z"
   },
   {
    "duration": 6,
    "start_time": "2022-02-11T13:53:28.030Z"
   },
   {
    "duration": 5509,
    "start_time": "2022-02-11T13:53:28.350Z"
   },
   {
    "duration": 8,
    "start_time": "2022-02-11T13:53:38.724Z"
   },
   {
    "duration": 5472,
    "start_time": "2022-02-11T13:53:48.060Z"
   },
   {
    "duration": 9,
    "start_time": "2022-02-11T13:53:53.534Z"
   },
   {
    "duration": 309,
    "start_time": "2022-02-11T13:54:22.030Z"
   },
   {
    "duration": 4854,
    "start_time": "2022-02-11T13:54:41.004Z"
   },
   {
    "duration": 129,
    "start_time": "2022-02-11T13:56:43.129Z"
   },
   {
    "duration": 6135,
    "start_time": "2022-02-11T13:56:49.040Z"
   },
   {
    "duration": 5374,
    "start_time": "2022-02-11T13:58:34.908Z"
   },
   {
    "duration": 2273,
    "start_time": "2022-02-11T14:02:05.432Z"
   },
   {
    "duration": 5264,
    "start_time": "2022-02-11T14:02:23.982Z"
   },
   {
    "duration": 106,
    "start_time": "2022-02-11T14:02:43.944Z"
   },
   {
    "duration": 35829,
    "start_time": "2022-02-11T14:02:49.302Z"
   },
   {
    "duration": 48,
    "start_time": "2022-02-11T14:03:30.280Z"
   },
   {
    "duration": 5,
    "start_time": "2022-02-11T14:04:04.752Z"
   },
   {
    "duration": 4,
    "start_time": "2022-02-11T14:04:10.186Z"
   },
   {
    "duration": 4,
    "start_time": "2022-02-11T14:04:16.606Z"
   },
   {
    "duration": 4,
    "start_time": "2022-02-11T14:04:29.091Z"
   },
   {
    "duration": 3088,
    "start_time": "2022-02-11T14:04:47.257Z"
   },
   {
    "duration": 3,
    "start_time": "2022-02-11T14:05:06.979Z"
   },
   {
    "duration": 391,
    "start_time": "2022-02-11T14:05:17.230Z"
   },
   {
    "duration": 3,
    "start_time": "2022-02-11T14:05:32.724Z"
   },
   {
    "duration": 29139,
    "start_time": "2022-02-11T14:05:39.317Z"
   },
   {
    "duration": 43,
    "start_time": "2022-02-11T14:06:13.727Z"
   },
   {
    "duration": 2421,
    "start_time": "2022-02-11T14:09:28.775Z"
   },
   {
    "duration": 2528,
    "start_time": "2022-02-11T14:10:28.103Z"
   },
   {
    "duration": 4,
    "start_time": "2022-02-11T14:10:54.638Z"
   },
   {
    "duration": 4,
    "start_time": "2022-02-11T14:11:07.688Z"
   },
   {
    "duration": 3,
    "start_time": "2022-02-11T14:11:31.114Z"
   },
   {
    "duration": 5,
    "start_time": "2022-02-11T14:11:35.853Z"
   },
   {
    "duration": 328,
    "start_time": "2022-02-11T14:11:44.107Z"
   },
   {
    "duration": 5,
    "start_time": "2022-02-11T14:12:19.665Z"
   },
   {
    "duration": 2200,
    "start_time": "2022-02-11T14:14:27.545Z"
   },
   {
    "duration": 6199,
    "start_time": "2022-02-11T14:14:42.124Z"
   },
   {
    "duration": 5565,
    "start_time": "2022-02-11T14:15:14.812Z"
   },
   {
    "duration": 4965,
    "start_time": "2022-02-11T14:49:34.893Z"
   },
   {
    "duration": 591,
    "start_time": "2022-02-11T14:50:33.074Z"
   },
   {
    "duration": 1632,
    "start_time": "2022-02-11T14:50:35.573Z"
   },
   {
    "duration": 3,
    "start_time": "2022-02-11T14:50:37.207Z"
   },
   {
    "duration": 5,
    "start_time": "2022-02-11T14:50:37.212Z"
   },
   {
    "duration": 65,
    "start_time": "2022-02-11T14:50:37.772Z"
   },
   {
    "duration": 9,
    "start_time": "2022-02-11T14:50:38.645Z"
   },
   {
    "duration": 4,
    "start_time": "2022-02-11T14:50:39.594Z"
   },
   {
    "duration": 3,
    "start_time": "2022-02-11T14:50:39.926Z"
   },
   {
    "duration": 7,
    "start_time": "2022-02-11T14:50:40.262Z"
   },
   {
    "duration": 5,
    "start_time": "2022-02-11T14:50:40.938Z"
   },
   {
    "duration": 5,
    "start_time": "2022-02-11T14:50:41.207Z"
   },
   {
    "duration": 6,
    "start_time": "2022-02-11T14:50:42.217Z"
   },
   {
    "duration": 4,
    "start_time": "2022-02-11T14:50:43.930Z"
   },
   {
    "duration": 4,
    "start_time": "2022-02-11T14:50:44.182Z"
   },
   {
    "duration": 7,
    "start_time": "2022-02-11T14:50:51.677Z"
   },
   {
    "duration": 2846,
    "start_time": "2022-02-11T14:50:54.916Z"
   },
   {
    "duration": 38721,
    "start_time": "2022-02-11T14:51:06.835Z"
   },
   {
    "duration": 2377,
    "start_time": "2022-02-11T14:51:47.684Z"
   },
   {
    "duration": 2297,
    "start_time": "2022-02-11T14:55:17.787Z"
   },
   {
    "duration": 5171,
    "start_time": "2022-02-11T14:59:25.828Z"
   },
   {
    "duration": 649,
    "start_time": "2022-02-11T14:59:45.005Z"
   },
   {
    "duration": 1412,
    "start_time": "2022-02-11T14:59:47.182Z"
   },
   {
    "duration": 3,
    "start_time": "2022-02-11T14:59:48.595Z"
   },
   {
    "duration": 5,
    "start_time": "2022-02-11T14:59:48.599Z"
   },
   {
    "duration": 47,
    "start_time": "2022-02-11T14:59:49.182Z"
   },
   {
    "duration": 3,
    "start_time": "2022-02-11T14:59:52.815Z"
   },
   {
    "duration": 3,
    "start_time": "2022-02-11T14:59:53.094Z"
   },
   {
    "duration": 6,
    "start_time": "2022-02-11T14:59:53.576Z"
   },
   {
    "duration": 5,
    "start_time": "2022-02-11T14:59:54.217Z"
   },
   {
    "duration": 5,
    "start_time": "2022-02-11T14:59:54.521Z"
   },
   {
    "duration": 7,
    "start_time": "2022-02-11T14:59:55.103Z"
   },
   {
    "duration": 5,
    "start_time": "2022-02-11T14:59:55.809Z"
   },
   {
    "duration": 3,
    "start_time": "2022-02-11T14:59:56.174Z"
   },
   {
    "duration": 7,
    "start_time": "2022-02-11T14:59:59.139Z"
   },
   {
    "duration": 2435,
    "start_time": "2022-02-11T15:00:02.385Z"
   },
   {
    "duration": 2349,
    "start_time": "2022-02-11T15:00:09.149Z"
   },
   {
    "duration": 859,
    "start_time": "2022-02-12T11:00:33.446Z"
   },
   {
    "duration": 4572,
    "start_time": "2022-02-12T11:00:38.245Z"
   },
   {
    "duration": 3,
    "start_time": "2022-02-12T11:00:42.820Z"
   },
   {
    "duration": 31,
    "start_time": "2022-02-12T11:00:42.826Z"
   },
   {
    "duration": 65,
    "start_time": "2022-02-12T11:00:52.402Z"
   },
   {
    "duration": 10,
    "start_time": "2022-02-12T11:00:54.149Z"
   },
   {
    "duration": 4,
    "start_time": "2022-02-12T11:07:13.132Z"
   },
   {
    "duration": 4,
    "start_time": "2022-02-12T11:07:13.409Z"
   },
   {
    "duration": 10,
    "start_time": "2022-02-12T11:07:13.688Z"
   },
   {
    "duration": 6,
    "start_time": "2022-02-12T11:07:16.253Z"
   },
   {
    "duration": 7,
    "start_time": "2022-02-12T11:07:16.902Z"
   },
   {
    "duration": 10,
    "start_time": "2022-02-12T11:07:17.474Z"
   },
   {
    "duration": 6,
    "start_time": "2022-02-12T11:07:25.108Z"
   },
   {
    "duration": 5,
    "start_time": "2022-02-12T11:07:26.210Z"
   },
   {
    "duration": 10,
    "start_time": "2022-02-12T11:07:27.540Z"
   },
   {
    "duration": 3293,
    "start_time": "2022-02-12T11:08:10.649Z"
   },
   {
    "duration": 64703,
    "start_time": "2022-02-12T11:08:26.621Z"
   },
   {
    "duration": 85,
    "start_time": "2022-02-12T11:09:38.164Z"
   },
   {
    "duration": 4,
    "start_time": "2022-02-12T11:10:05.377Z"
   },
   {
    "duration": 8686,
    "start_time": "2022-02-12T11:10:05.629Z"
   },
   {
    "duration": 4,
    "start_time": "2022-02-12T11:11:23.394Z"
   },
   {
    "duration": 19,
    "start_time": "2022-02-12T11:11:23.698Z"
   },
   {
    "duration": 6,
    "start_time": "2022-02-12T11:11:29.199Z"
   },
   {
    "duration": 9,
    "start_time": "2022-02-12T11:11:29.979Z"
   },
   {
    "duration": 66176,
    "start_time": "2022-02-12T11:11:31.214Z"
   },
   {
    "duration": 79,
    "start_time": "2022-02-12T11:12:41.032Z"
   },
   {
    "duration": 10895,
    "start_time": "2022-02-12T11:12:49.364Z"
   },
   {
    "duration": 4,
    "start_time": "2022-02-12T11:13:15.860Z"
   },
   {
    "duration": 6246,
    "start_time": "2022-02-12T11:13:16.235Z"
   },
   {
    "duration": 121,
    "start_time": "2022-02-12T11:13:32.432Z"
   },
   {
    "duration": 7,
    "start_time": "2022-02-12T11:14:58.493Z"
   },
   {
    "duration": 10,
    "start_time": "2022-02-12T11:15:07.027Z"
   },
   {
    "duration": 387,
    "start_time": "2022-02-12T11:15:08.702Z"
   },
   {
    "duration": 15,
    "start_time": "2022-02-12T11:15:15.047Z"
   },
   {
    "duration": 55999,
    "start_time": "2022-02-12T11:16:00.003Z"
   },
   {
    "duration": 93,
    "start_time": "2022-02-12T11:17:02.628Z"
   },
   {
    "duration": 6506,
    "start_time": "2022-02-12T11:17:11.377Z"
   },
   {
    "duration": 57,
    "start_time": "2022-02-12T11:18:08.108Z"
   },
   {
    "duration": 9,
    "start_time": "2022-02-12T11:18:10.909Z"
   },
   {
    "duration": 24,
    "start_time": "2022-02-12T11:18:10.921Z"
   },
   {
    "duration": 5,
    "start_time": "2022-02-12T11:18:11.035Z"
   },
   {
    "duration": 13,
    "start_time": "2022-02-12T11:18:12.325Z"
   },
   {
    "duration": 6,
    "start_time": "2022-02-12T11:18:13.624Z"
   },
   {
    "duration": 8,
    "start_time": "2022-02-12T11:18:14.822Z"
   },
   {
    "duration": 10,
    "start_time": "2022-02-12T11:18:15.752Z"
   },
   {
    "duration": 5,
    "start_time": "2022-02-12T11:18:20.814Z"
   },
   {
    "duration": 12,
    "start_time": "2022-02-12T11:18:25.233Z"
   },
   {
    "duration": 3,
    "start_time": "2022-02-12T11:18:30.976Z"
   },
   {
    "duration": 55440,
    "start_time": "2022-02-12T11:18:36.282Z"
   },
   {
    "duration": 79591,
    "start_time": "2022-02-12T11:19:36.296Z"
   },
   {
    "duration": 21,
    "start_time": "2022-02-12T11:21:04.269Z"
   },
   {
    "duration": 5,
    "start_time": "2022-02-12T11:21:09.693Z"
   },
   {
    "duration": 20,
    "start_time": "2022-02-12T11:21:10.034Z"
   },
   {
    "duration": 9402,
    "start_time": "2022-02-12T11:21:17.166Z"
   },
   {
    "duration": 101,
    "start_time": "2022-02-12T11:21:39.956Z"
   },
   {
    "duration": 18,
    "start_time": "2022-02-12T11:25:19.114Z"
   },
   {
    "duration": 49768,
    "start_time": "2022-02-12T11:26:05.438Z"
   },
   {
    "duration": 17,
    "start_time": "2022-02-12T11:28:42.017Z"
   },
   {
    "duration": 7,
    "start_time": "2022-02-12T11:28:49.008Z"
   },
   {
    "duration": 10,
    "start_time": "2022-02-12T11:28:55.578Z"
   },
   {
    "duration": 17151,
    "start_time": "2022-02-12T12:54:29.942Z"
   },
   {
    "duration": 96,
    "start_time": "2022-02-12T12:54:57.087Z"
   },
   {
    "duration": 83,
    "start_time": "2022-02-12T12:55:01.452Z"
   },
   {
    "duration": 86,
    "start_time": "2022-02-12T12:55:12.182Z"
   },
   {
    "duration": 84,
    "start_time": "2022-02-12T12:55:26.591Z"
   },
   {
    "duration": 89,
    "start_time": "2022-02-12T12:55:44.180Z"
   },
   {
    "duration": 124,
    "start_time": "2022-02-12T12:57:01.976Z"
   },
   {
    "duration": 124,
    "start_time": "2022-02-12T12:57:47.183Z"
   },
   {
    "duration": 96,
    "start_time": "2022-02-12T12:58:00.248Z"
   },
   {
    "duration": 286,
    "start_time": "2022-02-12T12:58:05.369Z"
   },
   {
    "duration": 541,
    "start_time": "2022-02-12T12:58:08.997Z"
   },
   {
    "duration": 128,
    "start_time": "2022-02-12T12:58:15.669Z"
   },
   {
    "duration": 134,
    "start_time": "2022-02-12T13:01:19.359Z"
   },
   {
    "duration": 123,
    "start_time": "2022-02-12T13:01:23.171Z"
   },
   {
    "duration": 124,
    "start_time": "2022-02-12T13:01:57.625Z"
   },
   {
    "duration": 188,
    "start_time": "2022-02-12T13:02:30.124Z"
   },
   {
    "duration": 184,
    "start_time": "2022-02-12T13:02:43.654Z"
   },
   {
    "duration": 186,
    "start_time": "2022-02-12T13:02:49.782Z"
   },
   {
    "duration": 424,
    "start_time": "2022-02-12T13:03:43.765Z"
   },
   {
    "duration": 446,
    "start_time": "2022-02-12T13:04:10.809Z"
   },
   {
    "duration": 137,
    "start_time": "2022-02-12T13:04:35.926Z"
   },
   {
    "duration": 521,
    "start_time": "2022-02-12T13:07:46.488Z"
   },
   {
    "duration": 131,
    "start_time": "2022-02-12T13:07:51.993Z"
   },
   {
    "duration": 135,
    "start_time": "2022-02-12T13:09:59.447Z"
   },
   {
    "duration": 134,
    "start_time": "2022-02-12T13:10:21.739Z"
   },
   {
    "duration": 143,
    "start_time": "2022-02-12T13:10:32.840Z"
   },
   {
    "duration": 129,
    "start_time": "2022-02-12T13:11:39.066Z"
   },
   {
    "duration": 132,
    "start_time": "2022-02-12T13:11:41.487Z"
   },
   {
    "duration": 13,
    "start_time": "2022-02-12T13:13:27.141Z"
   },
   {
    "duration": 12861,
    "start_time": "2022-02-12T13:14:00.164Z"
   },
   {
    "duration": 86,
    "start_time": "2022-02-12T13:15:53.457Z"
   },
   {
    "duration": 308,
    "start_time": "2022-02-12T13:18:49.302Z"
   },
   {
    "duration": 22,
    "start_time": "2022-02-12T13:19:48.839Z"
   },
   {
    "duration": 10,
    "start_time": "2022-02-12T13:22:30.071Z"
   },
   {
    "duration": 280,
    "start_time": "2022-02-12T13:22:56.634Z"
   },
   {
    "duration": 214,
    "start_time": "2022-02-12T13:22:59.527Z"
   },
   {
    "duration": 205,
    "start_time": "2022-02-12T13:24:38.846Z"
   },
   {
    "duration": 209,
    "start_time": "2022-02-12T13:24:43.257Z"
   },
   {
    "duration": 199,
    "start_time": "2022-02-12T13:24:45.963Z"
   },
   {
    "duration": 212,
    "start_time": "2022-02-12T13:24:59.696Z"
   },
   {
    "duration": 1545,
    "start_time": "2022-02-12T13:25:39.438Z"
   },
   {
    "duration": 246,
    "start_time": "2022-02-12T13:25:51.248Z"
   },
   {
    "duration": 231,
    "start_time": "2022-02-12T13:26:00.775Z"
   },
   {
    "duration": 241,
    "start_time": "2022-02-12T13:27:30.451Z"
   },
   {
    "duration": 227,
    "start_time": "2022-02-12T13:27:36.360Z"
   },
   {
    "duration": 234,
    "start_time": "2022-02-12T13:27:41.064Z"
   },
   {
    "duration": 236,
    "start_time": "2022-02-12T13:27:48.468Z"
   },
   {
    "duration": 223,
    "start_time": "2022-02-12T13:27:53.758Z"
   },
   {
    "duration": 224,
    "start_time": "2022-02-12T13:29:36.220Z"
   },
   {
    "duration": 281,
    "start_time": "2022-02-12T13:32:10.808Z"
   },
   {
    "duration": 226,
    "start_time": "2022-02-12T13:32:12.615Z"
   },
   {
    "duration": 232,
    "start_time": "2022-02-12T13:32:21.376Z"
   },
   {
    "duration": 97,
    "start_time": "2022-02-12T13:32:41.151Z"
   },
   {
    "duration": 223,
    "start_time": "2022-02-12T13:32:48.305Z"
   },
   {
    "duration": 229,
    "start_time": "2022-02-12T13:32:55.633Z"
   },
   {
    "duration": 245,
    "start_time": "2022-02-12T13:33:02.490Z"
   },
   {
    "duration": 228,
    "start_time": "2022-02-12T13:33:06.425Z"
   },
   {
    "duration": 235,
    "start_time": "2022-02-12T13:33:13.792Z"
   },
   {
    "duration": 232,
    "start_time": "2022-02-12T13:33:19.292Z"
   },
   {
    "duration": 242,
    "start_time": "2022-02-12T13:34:07.640Z"
   },
   {
    "duration": 386,
    "start_time": "2022-02-12T13:34:17.173Z"
   },
   {
    "duration": 232,
    "start_time": "2022-02-12T13:34:51.331Z"
   },
   {
    "duration": 231,
    "start_time": "2022-02-12T13:34:54.726Z"
   },
   {
    "duration": 245,
    "start_time": "2022-02-12T13:35:49.126Z"
   },
   {
    "duration": 232,
    "start_time": "2022-02-12T13:35:57.281Z"
   },
   {
    "duration": 245,
    "start_time": "2022-02-12T13:36:01.732Z"
   },
   {
    "duration": 243,
    "start_time": "2022-02-12T13:36:03.987Z"
   },
   {
    "duration": 235,
    "start_time": "2022-02-12T13:36:20.502Z"
   },
   {
    "duration": 237,
    "start_time": "2022-02-12T13:36:31.272Z"
   },
   {
    "duration": 233,
    "start_time": "2022-02-12T13:36:35.539Z"
   },
   {
    "duration": 279,
    "start_time": "2022-02-12T13:37:00.480Z"
   },
   {
    "duration": 356,
    "start_time": "2022-02-12T13:37:30.450Z"
   },
   {
    "duration": 253,
    "start_time": "2022-02-12T13:38:27.269Z"
   },
   {
    "duration": 265,
    "start_time": "2022-02-12T13:38:44.349Z"
   },
   {
    "duration": 254,
    "start_time": "2022-02-12T13:38:48.362Z"
   },
   {
    "duration": 254,
    "start_time": "2022-02-12T13:39:52.512Z"
   },
   {
    "duration": 249,
    "start_time": "2022-02-12T13:39:56.356Z"
   },
   {
    "duration": 259,
    "start_time": "2022-02-12T13:40:10.952Z"
   },
   {
    "duration": 17,
    "start_time": "2022-02-12T14:09:04.666Z"
   },
   {
    "duration": 301,
    "start_time": "2022-02-12T14:09:26.695Z"
   },
   {
    "duration": 278,
    "start_time": "2022-02-12T14:09:38.037Z"
   },
   {
    "duration": 446,
    "start_time": "2022-02-12T14:10:23.234Z"
   },
   {
    "duration": 339,
    "start_time": "2022-02-12T14:10:32.226Z"
   },
   {
    "duration": 325,
    "start_time": "2022-02-12T14:11:23.044Z"
   },
   {
    "duration": 308,
    "start_time": "2022-02-12T14:11:26.692Z"
   },
   {
    "duration": 4,
    "start_time": "2022-02-12T14:13:22.392Z"
   },
   {
    "duration": 327,
    "start_time": "2022-02-12T14:13:44.331Z"
   },
   {
    "duration": 310,
    "start_time": "2022-02-12T14:14:00.662Z"
   },
   {
    "duration": 321,
    "start_time": "2022-02-12T14:15:10.790Z"
   },
   {
    "duration": 344,
    "start_time": "2022-02-12T14:16:10.597Z"
   },
   {
    "duration": 365,
    "start_time": "2022-02-12T14:16:18.587Z"
   },
   {
    "duration": 326,
    "start_time": "2022-02-12T14:16:23.556Z"
   },
   {
    "duration": 719,
    "start_time": "2022-02-12T14:16:43.423Z"
   },
   {
    "duration": 838,
    "start_time": "2022-02-12T14:16:59.996Z"
   },
   {
    "duration": 92,
    "start_time": "2022-02-12T14:17:04.882Z"
   },
   {
    "duration": 319,
    "start_time": "2022-02-12T14:17:13.983Z"
   },
   {
    "duration": 311,
    "start_time": "2022-02-12T14:17:20.767Z"
   },
   {
    "duration": 56,
    "start_time": "2022-02-12T14:47:30.183Z"
   },
   {
    "duration": 18,
    "start_time": "2022-02-12T14:47:44.836Z"
   },
   {
    "duration": 896,
    "start_time": "2022-02-12T14:56:02.181Z"
   },
   {
    "duration": 54,
    "start_time": "2022-02-12T14:56:18.007Z"
   },
   {
    "duration": 9,
    "start_time": "2022-02-12T14:56:19.740Z"
   },
   {
    "duration": 9,
    "start_time": "2022-02-12T14:56:20.969Z"
   },
   {
    "duration": 4,
    "start_time": "2022-02-12T14:56:21.822Z"
   },
   {
    "duration": 5,
    "start_time": "2022-02-12T14:56:22.086Z"
   },
   {
    "duration": 7,
    "start_time": "2022-02-12T14:56:23.354Z"
   },
   {
    "duration": 8,
    "start_time": "2022-02-12T14:56:24.176Z"
   },
   {
    "duration": 11,
    "start_time": "2022-02-12T14:56:24.964Z"
   },
   {
    "duration": 11,
    "start_time": "2022-02-12T14:56:27.764Z"
   },
   {
    "duration": 706,
    "start_time": "2022-02-12T14:56:28.910Z"
   },
   {
    "duration": 11229,
    "start_time": "2022-02-12T14:56:38.824Z"
   },
   {
    "duration": 11151,
    "start_time": "2022-02-12T14:57:04.867Z"
   },
   {
    "duration": 7,
    "start_time": "2022-02-12T14:57:18.473Z"
   },
   {
    "duration": 6,
    "start_time": "2022-02-12T14:57:41.650Z"
   },
   {
    "duration": 11386,
    "start_time": "2022-02-12T14:57:50.334Z"
   },
   {
    "duration": 91,
    "start_time": "2022-02-12T14:58:55.095Z"
   },
   {
    "duration": 11746,
    "start_time": "2022-02-12T14:58:59.448Z"
   },
   {
    "duration": 100,
    "start_time": "2022-02-12T14:59:54.361Z"
   },
   {
    "duration": 50319,
    "start_time": "2022-02-12T15:01:14.852Z"
   },
   {
    "duration": 95,
    "start_time": "2022-02-12T15:02:50.018Z"
   },
   {
    "duration": 99,
    "start_time": "2022-02-12T15:03:16.994Z"
   },
   {
    "duration": 21,
    "start_time": "2022-02-12T15:03:52.423Z"
   },
   {
    "duration": 99,
    "start_time": "2022-02-12T15:03:59.110Z"
   },
   {
    "duration": 92,
    "start_time": "2022-02-12T15:04:05.763Z"
   },
   {
    "duration": 91,
    "start_time": "2022-02-12T15:04:16.405Z"
   },
   {
    "duration": 20,
    "start_time": "2022-02-12T15:04:50.210Z"
   },
   {
    "duration": 4,
    "start_time": "2022-02-12T15:30:25.187Z"
   },
   {
    "duration": 4,
    "start_time": "2022-02-12T15:34:11.741Z"
   },
   {
    "duration": 2922,
    "start_time": "2022-02-12T15:34:11.748Z"
   },
   {
    "duration": 66,
    "start_time": "2022-02-12T15:34:14.673Z"
   },
   {
    "duration": 10,
    "start_time": "2022-02-12T15:34:14.748Z"
   },
   {
    "duration": 9,
    "start_time": "2022-02-12T15:34:14.761Z"
   },
   {
    "duration": 5,
    "start_time": "2022-02-12T15:34:14.772Z"
   },
   {
    "duration": 12,
    "start_time": "2022-02-12T15:34:14.780Z"
   },
   {
    "duration": 8,
    "start_time": "2022-02-12T15:34:14.796Z"
   },
   {
    "duration": 44,
    "start_time": "2022-02-12T15:34:14.807Z"
   },
   {
    "duration": 18,
    "start_time": "2022-02-12T15:34:14.853Z"
   },
   {
    "duration": 155,
    "start_time": "2022-02-12T15:34:14.873Z"
   },
   {
    "duration": 25,
    "start_time": "2022-02-12T15:34:15.031Z"
   },
   {
    "duration": 10965,
    "start_time": "2022-02-12T15:34:15.059Z"
   },
   {
    "duration": 51128,
    "start_time": "2022-02-12T15:34:26.026Z"
   },
   {
    "duration": 23,
    "start_time": "2022-02-12T15:35:17.158Z"
   },
   {
    "duration": 6386,
    "start_time": "2022-02-12T15:35:17.183Z"
   },
   {
    "duration": 263,
    "start_time": "2022-02-12T15:35:23.571Z"
   },
   {
    "duration": 429,
    "start_time": "2022-02-12T15:35:23.837Z"
   },
   {
    "duration": 4910,
    "start_time": "2022-02-12T15:36:28.066Z"
   },
   {
    "duration": 4,
    "start_time": "2022-02-12T15:36:51.719Z"
   },
   {
    "duration": 2863,
    "start_time": "2022-02-12T15:36:51.727Z"
   },
   {
    "duration": 66,
    "start_time": "2022-02-12T15:36:54.593Z"
   },
   {
    "duration": 10,
    "start_time": "2022-02-12T15:36:54.662Z"
   },
   {
    "duration": 8,
    "start_time": "2022-02-12T15:36:54.675Z"
   },
   {
    "duration": 6,
    "start_time": "2022-02-12T15:36:54.686Z"
   },
   {
    "duration": 5,
    "start_time": "2022-02-12T15:36:54.694Z"
   },
   {
    "duration": 48,
    "start_time": "2022-02-12T15:36:54.702Z"
   },
   {
    "duration": 9,
    "start_time": "2022-02-12T15:36:54.754Z"
   },
   {
    "duration": 10,
    "start_time": "2022-02-12T15:36:54.766Z"
   },
   {
    "duration": 156,
    "start_time": "2022-02-12T15:36:54.779Z"
   },
   {
    "duration": 13,
    "start_time": "2022-02-12T15:36:54.937Z"
   },
   {
    "duration": 11528,
    "start_time": "2022-02-12T15:36:54.953Z"
   },
   {
    "duration": 48439,
    "start_time": "2022-02-12T15:37:06.483Z"
   },
   {
    "duration": 22,
    "start_time": "2022-02-12T15:37:54.925Z"
   },
   {
    "duration": 5167,
    "start_time": "2022-02-12T15:37:54.950Z"
   },
   {
    "duration": 272,
    "start_time": "2022-02-12T15:38:00.119Z"
   },
   {
    "duration": 450,
    "start_time": "2022-02-12T15:38:00.393Z"
   },
   {
    "duration": 9680,
    "start_time": "2022-02-12T16:41:29.651Z"
   },
   {
    "duration": 2962,
    "start_time": "2022-02-12T16:41:59.156Z"
   },
   {
    "duration": 93,
    "start_time": "2022-02-12T16:42:02.121Z"
   },
   {
    "duration": 10,
    "start_time": "2022-02-12T16:42:02.957Z"
   },
   {
    "duration": 11,
    "start_time": "2022-02-12T16:42:05.492Z"
   },
   {
    "duration": 5,
    "start_time": "2022-02-12T16:42:06.572Z"
   },
   {
    "duration": 5,
    "start_time": "2022-02-12T16:42:06.816Z"
   },
   {
    "duration": 7,
    "start_time": "2022-02-12T16:42:08.826Z"
   },
   {
    "duration": 10,
    "start_time": "2022-02-12T16:42:12.322Z"
   },
   {
    "duration": 23,
    "start_time": "2022-02-12T16:42:28.518Z"
   },
   {
    "duration": 6,
    "start_time": "2022-02-12T16:43:00.893Z"
   },
   {
    "duration": 25,
    "start_time": "2022-02-12T16:43:04.594Z"
   },
   {
    "duration": 653,
    "start_time": "2022-02-12T16:43:13.480Z"
   },
   {
    "duration": 29,
    "start_time": "2022-02-12T16:43:47.638Z"
   },
   {
    "duration": 282,
    "start_time": "2022-02-12T16:45:48.714Z"
   },
   {
    "duration": 314,
    "start_time": "2022-02-12T16:45:56.792Z"
   },
   {
    "duration": 485,
    "start_time": "2022-02-12T16:46:17.505Z"
   },
   {
    "duration": 280,
    "start_time": "2022-02-12T16:47:25.073Z"
   },
   {
    "duration": 286,
    "start_time": "2022-02-12T16:47:59.212Z"
   },
   {
    "duration": 11,
    "start_time": "2022-02-12T16:48:06.628Z"
   },
   {
    "duration": 282,
    "start_time": "2022-02-12T16:48:12.644Z"
   },
   {
    "duration": 306,
    "start_time": "2022-02-12T16:48:17.306Z"
   },
   {
    "duration": 8,
    "start_time": "2022-02-12T16:48:32.884Z"
   },
   {
    "duration": 13,
    "start_time": "2022-02-12T16:48:36.925Z"
   },
   {
    "duration": 7,
    "start_time": "2022-02-12T16:48:45.251Z"
   },
   {
    "duration": 16,
    "start_time": "2022-02-12T16:49:37.393Z"
   },
   {
    "duration": 23,
    "start_time": "2022-02-12T16:49:42.908Z"
   },
   {
    "duration": 8387,
    "start_time": "2022-02-12T17:16:16.398Z"
   },
   {
    "duration": 5,
    "start_time": "2022-02-12T17:16:31.214Z"
   },
   {
    "duration": 2863,
    "start_time": "2022-02-12T17:16:31.222Z"
   },
   {
    "duration": 75,
    "start_time": "2022-02-12T17:16:34.089Z"
   },
   {
    "duration": 11,
    "start_time": "2022-02-12T17:16:34.168Z"
   },
   {
    "duration": 10,
    "start_time": "2022-02-12T17:16:34.182Z"
   },
   {
    "duration": 8,
    "start_time": "2022-02-12T17:16:34.194Z"
   },
   {
    "duration": 46,
    "start_time": "2022-02-12T17:16:34.204Z"
   },
   {
    "duration": 7,
    "start_time": "2022-02-12T17:16:34.254Z"
   },
   {
    "duration": 9,
    "start_time": "2022-02-12T17:16:34.264Z"
   },
   {
    "duration": 17,
    "start_time": "2022-02-12T17:16:34.275Z"
   },
   {
    "duration": 57,
    "start_time": "2022-02-12T17:16:34.294Z"
   },
   {
    "duration": 179,
    "start_time": "2022-02-12T17:16:34.353Z"
   },
   {
    "duration": 19,
    "start_time": "2022-02-12T17:16:34.534Z"
   },
   {
    "duration": 8692,
    "start_time": "2022-02-12T17:16:34.556Z"
   },
   {
    "duration": -605,
    "start_time": "2022-02-12T17:16:43.856Z"
   },
   {
    "duration": -605,
    "start_time": "2022-02-12T17:16:43.858Z"
   },
   {
    "duration": -606,
    "start_time": "2022-02-12T17:16:43.860Z"
   },
   {
    "duration": -606,
    "start_time": "2022-02-12T17:16:43.861Z"
   },
   {
    "duration": -605,
    "start_time": "2022-02-12T17:16:43.862Z"
   },
   {
    "duration": 7056,
    "start_time": "2022-02-12T17:17:16.732Z"
   },
   {
    "duration": 7719,
    "start_time": "2022-02-12T17:17:55.856Z"
   },
   {
    "duration": 4,
    "start_time": "2022-02-12T17:18:16.952Z"
   },
   {
    "duration": 2782,
    "start_time": "2022-02-12T17:18:16.959Z"
   },
   {
    "duration": 63,
    "start_time": "2022-02-12T17:18:19.744Z"
   },
   {
    "duration": 10,
    "start_time": "2022-02-12T17:18:19.810Z"
   },
   {
    "duration": 34,
    "start_time": "2022-02-12T17:18:19.822Z"
   },
   {
    "duration": 5,
    "start_time": "2022-02-12T17:18:19.859Z"
   },
   {
    "duration": 9,
    "start_time": "2022-02-12T17:18:19.867Z"
   },
   {
    "duration": 8,
    "start_time": "2022-02-12T17:18:19.880Z"
   },
   {
    "duration": 60,
    "start_time": "2022-02-12T17:18:19.890Z"
   },
   {
    "duration": 16,
    "start_time": "2022-02-12T17:18:19.952Z"
   },
   {
    "duration": 23,
    "start_time": "2022-02-12T17:18:19.971Z"
   },
   {
    "duration": 186,
    "start_time": "2022-02-12T17:18:19.997Z"
   },
   {
    "duration": 12,
    "start_time": "2022-02-12T17:18:20.186Z"
   },
   {
    "duration": 7333,
    "start_time": "2022-02-12T17:18:20.200Z"
   },
   {
    "duration": -641,
    "start_time": "2022-02-12T17:18:28.176Z"
   },
   {
    "duration": -639,
    "start_time": "2022-02-12T17:18:28.176Z"
   },
   {
    "duration": -641,
    "start_time": "2022-02-12T17:18:28.179Z"
   },
   {
    "duration": -641,
    "start_time": "2022-02-12T17:18:28.180Z"
   },
   {
    "duration": -640,
    "start_time": "2022-02-12T17:18:28.181Z"
   },
   {
    "duration": 7,
    "start_time": "2022-02-12T17:19:09.388Z"
   },
   {
    "duration": 4,
    "start_time": "2022-02-12T17:19:45.088Z"
   },
   {
    "duration": 2825,
    "start_time": "2022-02-12T17:19:45.095Z"
   },
   {
    "duration": 65,
    "start_time": "2022-02-12T17:19:47.923Z"
   },
   {
    "duration": 9,
    "start_time": "2022-02-12T17:19:47.992Z"
   },
   {
    "duration": 9,
    "start_time": "2022-02-12T17:19:48.003Z"
   },
   {
    "duration": 37,
    "start_time": "2022-02-12T17:19:48.014Z"
   },
   {
    "duration": 10,
    "start_time": "2022-02-12T17:19:48.053Z"
   },
   {
    "duration": 9,
    "start_time": "2022-02-12T17:19:48.066Z"
   },
   {
    "duration": 7,
    "start_time": "2022-02-12T17:19:48.079Z"
   },
   {
    "duration": 16,
    "start_time": "2022-02-12T17:19:48.089Z"
   },
   {
    "duration": 57,
    "start_time": "2022-02-12T17:19:48.107Z"
   },
   {
    "duration": 186,
    "start_time": "2022-02-12T17:19:48.168Z"
   },
   {
    "duration": 10,
    "start_time": "2022-02-12T17:19:48.357Z"
   },
   {
    "duration": 11980,
    "start_time": "2022-02-12T17:19:48.370Z"
   },
   {
    "duration": 50460,
    "start_time": "2022-02-12T17:20:00.353Z"
   },
   {
    "duration": 18,
    "start_time": "2022-02-12T17:20:50.815Z"
   },
   {
    "duration": 4955,
    "start_time": "2022-02-12T17:20:50.835Z"
   },
   {
    "duration": 284,
    "start_time": "2022-02-12T17:20:55.793Z"
   },
   {
    "duration": 441,
    "start_time": "2022-02-12T17:20:56.080Z"
   }
  ],
  "kernelspec": {
   "display_name": "Python 3",
   "language": "python",
   "name": "python3"
  },
  "language_info": {
   "codemirror_mode": {
    "name": "ipython",
    "version": 3
   },
   "file_extension": ".py",
   "mimetype": "text/x-python",
   "name": "python",
   "nbconvert_exporter": "python",
   "pygments_lexer": "ipython3",
   "version": "3.7.8"
  },
  "toc": {
   "base_numbering": 1,
   "nav_menu": {},
   "number_sections": true,
   "sideBar": true,
   "skip_h1_title": true,
   "title_cell": "Содержание",
   "title_sidebar": "Contents",
   "toc_cell": true,
   "toc_position": {},
   "toc_section_display": true,
   "toc_window_display": false
  }
 },
 "nbformat": 4,
 "nbformat_minor": 2
}
