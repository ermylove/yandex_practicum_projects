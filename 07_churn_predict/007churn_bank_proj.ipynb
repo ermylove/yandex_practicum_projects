{
 "cells": [
  {
   "cell_type": "code",
   "execution_count": 1,
   "metadata": {},
   "outputs": [],
   "source": [
    "# !pip install shap\n",
    "# %pip install catboost -U\n",
    "# !pip install imblearn"
   ]
  },
  {
   "cell_type": "markdown",
   "metadata": {
    "toc": true
   },
   "source": [
    "<h1>Содержание<span class=\"tocSkip\"></span></h1>\n",
    "<div class=\"toc\"><ul class=\"toc-item\"><li><span><a href=\"#Подготовка-данных\" data-toc-modified-id=\"Подготовка-данных-1\"><span class=\"toc-item-num\">1&nbsp;&nbsp;</span>Подготовка данных</a></span></li><li><span><a href=\"#Анализ-и-обработка-данных\" data-toc-modified-id=\"Анализ-и-обработка-данных-2\"><span class=\"toc-item-num\">2&nbsp;&nbsp;</span>Анализ и обработка данных</a></span><ul class=\"toc-item\"><li><span><a href=\"#Модели-без-учета-дисбаланса\" data-toc-modified-id=\"Модели-без-учета-дисбаланса-2.1\"><span class=\"toc-item-num\">2.1&nbsp;&nbsp;</span>Модели без учета дисбаланса</a></span><ul class=\"toc-item\"><li><span><a href=\"#catboost\" data-toc-modified-id=\"catboost-2.1.1\"><span class=\"toc-item-num\">2.1.1&nbsp;&nbsp;</span>catboost</a></span></li><li><span><a href=\"#SVC\" data-toc-modified-id=\"SVC-2.1.2\"><span class=\"toc-item-num\">2.1.2&nbsp;&nbsp;</span>SVC</a></span></li></ul></li><li><span><a href=\"#Модели-с-учетом-дисбаланса\" data-toc-modified-id=\"Модели-с-учетом-дисбаланса-2.2\"><span class=\"toc-item-num\">2.2&nbsp;&nbsp;</span>Модели с учетом дисбаланса</a></span><ul class=\"toc-item\"><li><span><a href=\"#Oversampling\" data-toc-modified-id=\"Oversampling-2.2.1\"><span class=\"toc-item-num\">2.2.1&nbsp;&nbsp;</span>Oversampling</a></span><ul class=\"toc-item\"><li><span><a href=\"#catboost\" data-toc-modified-id=\"catboost-2.2.1.1\"><span class=\"toc-item-num\">2.2.1.1&nbsp;&nbsp;</span>catboost</a></span></li><li><span><a href=\"#SVC\" data-toc-modified-id=\"SVC-2.2.1.2\"><span class=\"toc-item-num\">2.2.1.2&nbsp;&nbsp;</span>SVC</a></span></li></ul></li><li><span><a href=\"#class-weights\" data-toc-modified-id=\"class-weights-2.2.2\"><span class=\"toc-item-num\">2.2.2&nbsp;&nbsp;</span>class weights</a></span><ul class=\"toc-item\"><li><span><a href=\"#catboost\" data-toc-modified-id=\"catboost-2.2.2.1\"><span class=\"toc-item-num\">2.2.2.1&nbsp;&nbsp;</span>catboost</a></span></li><li><span><a href=\"#SVC\" data-toc-modified-id=\"SVC-2.2.2.2\"><span class=\"toc-item-num\">2.2.2.2&nbsp;&nbsp;</span>SVC</a></span></li></ul></li></ul></li></ul></li><li><span><a href=\"#Интерпретация-результатов\" data-toc-modified-id=\"Интерпретация-результатов-3\"><span class=\"toc-item-num\">3&nbsp;&nbsp;</span>Интерпретация результатов</a></span></li><li><span><a href=\"#ROC\" data-toc-modified-id=\"ROC-4\"><span class=\"toc-item-num\">4&nbsp;&nbsp;</span>ROC</a></span></li><li><span><a href=\"#Выводы\" data-toc-modified-id=\"Выводы-5\"><span class=\"toc-item-num\">5&nbsp;&nbsp;</span>Выводы</a></span></li></ul></div>"
   ]
  },
  {
   "cell_type": "markdown",
   "metadata": {},
   "source": [
    "# Отток клиентов"
   ]
  },
  {
   "cell_type": "markdown",
   "metadata": {},
   "source": [
    "Из «Бета-Банка» стали уходить клиенты. Каждый месяц. Немного, но заметно. Банковские маркетологи посчитали: сохранять текущих клиентов дешевле, чем привлекать новых.\n",
    "Предоставлены исторические данные о поведении клиентов и расторжении договоров с банком. \n",
    "\n",
    "Необходимо:\n",
    "1. Исследовать баланс классов, обучив 2 модели без учёта дисбаланса.\n",
    "2. Улучшить качество моделей, обработав дисбаланс классов 2 способами\n",
    "1. Построить модель позволяющую спрогнозировать, уйдёт клиент из банка в ближайшее время или нет, которая имела бы значением *F1*-меры более 0.59.\n",
    "3. Измерить  *AUC-ROC*.\n"
   ]
  },
  {
   "cell_type": "code",
   "execution_count": 2,
   "metadata": {},
   "outputs": [],
   "source": [
    "import pandas as pd\n",
    "\n",
    "import matplotlib.pyplot as plt\n",
    "import shap\n",
    "\n",
    "from catboost import CatBoostClassifier, cv\n",
    "from catboost.utils import get_roc_curve\n",
    "from catboost.core import Pool\n",
    "\n",
    "from sklearn.svm import SVC\n",
    "\n",
    "from sklearn import preprocessing\n",
    "from sklearn.model_selection import train_test_split, GridSearchCV\n",
    "from imblearn.pipeline import make_pipeline\n",
    "from imblearn.over_sampling import RandomOverSampler\n",
    "from sklearn.metrics import f1_score, auc"
   ]
  },
  {
   "cell_type": "markdown",
   "metadata": {},
   "source": [
    "## Подготовка данных"
   ]
  },
  {
   "cell_type": "markdown",
   "metadata": {},
   "source": [
    "Посмотрим на предоставленные данные"
   ]
  },
  {
   "cell_type": "code",
   "execution_count": 3,
   "metadata": {
    "scrolled": false
   },
   "outputs": [
    {
     "data": {
      "text/html": [
       "<div>\n",
       "<style scoped>\n",
       "    .dataframe tbody tr th:only-of-type {\n",
       "        vertical-align: middle;\n",
       "    }\n",
       "\n",
       "    .dataframe tbody tr th {\n",
       "        vertical-align: top;\n",
       "    }\n",
       "\n",
       "    .dataframe thead th {\n",
       "        text-align: right;\n",
       "    }\n",
       "</style>\n",
       "<table border=\"1\" class=\"dataframe\">\n",
       "  <thead>\n",
       "    <tr style=\"text-align: right;\">\n",
       "      <th></th>\n",
       "      <th>RowNumber</th>\n",
       "      <th>CustomerId</th>\n",
       "      <th>Surname</th>\n",
       "      <th>CreditScore</th>\n",
       "      <th>Geography</th>\n",
       "      <th>Gender</th>\n",
       "      <th>Age</th>\n",
       "      <th>Tenure</th>\n",
       "      <th>Balance</th>\n",
       "      <th>NumOfProducts</th>\n",
       "      <th>HasCrCard</th>\n",
       "      <th>IsActiveMember</th>\n",
       "      <th>EstimatedSalary</th>\n",
       "      <th>Exited</th>\n",
       "    </tr>\n",
       "  </thead>\n",
       "  <tbody>\n",
       "    <tr>\n",
       "      <td>0</td>\n",
       "      <td>1</td>\n",
       "      <td>15634602</td>\n",
       "      <td>Hargrave</td>\n",
       "      <td>619</td>\n",
       "      <td>France</td>\n",
       "      <td>Female</td>\n",
       "      <td>42</td>\n",
       "      <td>2.0</td>\n",
       "      <td>0.00</td>\n",
       "      <td>1</td>\n",
       "      <td>1</td>\n",
       "      <td>1</td>\n",
       "      <td>101348.88</td>\n",
       "      <td>1</td>\n",
       "    </tr>\n",
       "    <tr>\n",
       "      <td>1</td>\n",
       "      <td>2</td>\n",
       "      <td>15647311</td>\n",
       "      <td>Hill</td>\n",
       "      <td>608</td>\n",
       "      <td>Spain</td>\n",
       "      <td>Female</td>\n",
       "      <td>41</td>\n",
       "      <td>1.0</td>\n",
       "      <td>83807.86</td>\n",
       "      <td>1</td>\n",
       "      <td>0</td>\n",
       "      <td>1</td>\n",
       "      <td>112542.58</td>\n",
       "      <td>0</td>\n",
       "    </tr>\n",
       "    <tr>\n",
       "      <td>2</td>\n",
       "      <td>3</td>\n",
       "      <td>15619304</td>\n",
       "      <td>Onio</td>\n",
       "      <td>502</td>\n",
       "      <td>France</td>\n",
       "      <td>Female</td>\n",
       "      <td>42</td>\n",
       "      <td>8.0</td>\n",
       "      <td>159660.80</td>\n",
       "      <td>3</td>\n",
       "      <td>1</td>\n",
       "      <td>0</td>\n",
       "      <td>113931.57</td>\n",
       "      <td>1</td>\n",
       "    </tr>\n",
       "    <tr>\n",
       "      <td>3</td>\n",
       "      <td>4</td>\n",
       "      <td>15701354</td>\n",
       "      <td>Boni</td>\n",
       "      <td>699</td>\n",
       "      <td>France</td>\n",
       "      <td>Female</td>\n",
       "      <td>39</td>\n",
       "      <td>1.0</td>\n",
       "      <td>0.00</td>\n",
       "      <td>2</td>\n",
       "      <td>0</td>\n",
       "      <td>0</td>\n",
       "      <td>93826.63</td>\n",
       "      <td>0</td>\n",
       "    </tr>\n",
       "    <tr>\n",
       "      <td>4</td>\n",
       "      <td>5</td>\n",
       "      <td>15737888</td>\n",
       "      <td>Mitchell</td>\n",
       "      <td>850</td>\n",
       "      <td>Spain</td>\n",
       "      <td>Female</td>\n",
       "      <td>43</td>\n",
       "      <td>2.0</td>\n",
       "      <td>125510.82</td>\n",
       "      <td>1</td>\n",
       "      <td>1</td>\n",
       "      <td>1</td>\n",
       "      <td>79084.10</td>\n",
       "      <td>0</td>\n",
       "    </tr>\n",
       "    <tr>\n",
       "      <td>...</td>\n",
       "      <td>...</td>\n",
       "      <td>...</td>\n",
       "      <td>...</td>\n",
       "      <td>...</td>\n",
       "      <td>...</td>\n",
       "      <td>...</td>\n",
       "      <td>...</td>\n",
       "      <td>...</td>\n",
       "      <td>...</td>\n",
       "      <td>...</td>\n",
       "      <td>...</td>\n",
       "      <td>...</td>\n",
       "      <td>...</td>\n",
       "      <td>...</td>\n",
       "    </tr>\n",
       "    <tr>\n",
       "      <td>9995</td>\n",
       "      <td>9996</td>\n",
       "      <td>15606229</td>\n",
       "      <td>Obijiaku</td>\n",
       "      <td>771</td>\n",
       "      <td>France</td>\n",
       "      <td>Male</td>\n",
       "      <td>39</td>\n",
       "      <td>5.0</td>\n",
       "      <td>0.00</td>\n",
       "      <td>2</td>\n",
       "      <td>1</td>\n",
       "      <td>0</td>\n",
       "      <td>96270.64</td>\n",
       "      <td>0</td>\n",
       "    </tr>\n",
       "    <tr>\n",
       "      <td>9996</td>\n",
       "      <td>9997</td>\n",
       "      <td>15569892</td>\n",
       "      <td>Johnstone</td>\n",
       "      <td>516</td>\n",
       "      <td>France</td>\n",
       "      <td>Male</td>\n",
       "      <td>35</td>\n",
       "      <td>10.0</td>\n",
       "      <td>57369.61</td>\n",
       "      <td>1</td>\n",
       "      <td>1</td>\n",
       "      <td>1</td>\n",
       "      <td>101699.77</td>\n",
       "      <td>0</td>\n",
       "    </tr>\n",
       "    <tr>\n",
       "      <td>9997</td>\n",
       "      <td>9998</td>\n",
       "      <td>15584532</td>\n",
       "      <td>Liu</td>\n",
       "      <td>709</td>\n",
       "      <td>France</td>\n",
       "      <td>Female</td>\n",
       "      <td>36</td>\n",
       "      <td>7.0</td>\n",
       "      <td>0.00</td>\n",
       "      <td>1</td>\n",
       "      <td>0</td>\n",
       "      <td>1</td>\n",
       "      <td>42085.58</td>\n",
       "      <td>1</td>\n",
       "    </tr>\n",
       "    <tr>\n",
       "      <td>9998</td>\n",
       "      <td>9999</td>\n",
       "      <td>15682355</td>\n",
       "      <td>Sabbatini</td>\n",
       "      <td>772</td>\n",
       "      <td>Germany</td>\n",
       "      <td>Male</td>\n",
       "      <td>42</td>\n",
       "      <td>3.0</td>\n",
       "      <td>75075.31</td>\n",
       "      <td>2</td>\n",
       "      <td>1</td>\n",
       "      <td>0</td>\n",
       "      <td>92888.52</td>\n",
       "      <td>1</td>\n",
       "    </tr>\n",
       "    <tr>\n",
       "      <td>9999</td>\n",
       "      <td>10000</td>\n",
       "      <td>15628319</td>\n",
       "      <td>Walker</td>\n",
       "      <td>792</td>\n",
       "      <td>France</td>\n",
       "      <td>Female</td>\n",
       "      <td>28</td>\n",
       "      <td>NaN</td>\n",
       "      <td>130142.79</td>\n",
       "      <td>1</td>\n",
       "      <td>1</td>\n",
       "      <td>0</td>\n",
       "      <td>38190.78</td>\n",
       "      <td>0</td>\n",
       "    </tr>\n",
       "  </tbody>\n",
       "</table>\n",
       "<p>10000 rows × 14 columns</p>\n",
       "</div>"
      ],
      "text/plain": [
       "      RowNumber  CustomerId    Surname  CreditScore Geography  Gender  Age  \\\n",
       "0             1    15634602   Hargrave          619    France  Female   42   \n",
       "1             2    15647311       Hill          608     Spain  Female   41   \n",
       "2             3    15619304       Onio          502    France  Female   42   \n",
       "3             4    15701354       Boni          699    France  Female   39   \n",
       "4             5    15737888   Mitchell          850     Spain  Female   43   \n",
       "...         ...         ...        ...          ...       ...     ...  ...   \n",
       "9995       9996    15606229   Obijiaku          771    France    Male   39   \n",
       "9996       9997    15569892  Johnstone          516    France    Male   35   \n",
       "9997       9998    15584532        Liu          709    France  Female   36   \n",
       "9998       9999    15682355  Sabbatini          772   Germany    Male   42   \n",
       "9999      10000    15628319     Walker          792    France  Female   28   \n",
       "\n",
       "      Tenure    Balance  NumOfProducts  HasCrCard  IsActiveMember  \\\n",
       "0        2.0       0.00              1          1               1   \n",
       "1        1.0   83807.86              1          0               1   \n",
       "2        8.0  159660.80              3          1               0   \n",
       "3        1.0       0.00              2          0               0   \n",
       "4        2.0  125510.82              1          1               1   \n",
       "...      ...        ...            ...        ...             ...   \n",
       "9995     5.0       0.00              2          1               0   \n",
       "9996    10.0   57369.61              1          1               1   \n",
       "9997     7.0       0.00              1          0               1   \n",
       "9998     3.0   75075.31              2          1               0   \n",
       "9999     NaN  130142.79              1          1               0   \n",
       "\n",
       "      EstimatedSalary  Exited  \n",
       "0           101348.88       1  \n",
       "1           112542.58       0  \n",
       "2           113931.57       1  \n",
       "3            93826.63       0  \n",
       "4            79084.10       0  \n",
       "...               ...     ...  \n",
       "9995         96270.64       0  \n",
       "9996        101699.77       0  \n",
       "9997         42085.58       1  \n",
       "9998         92888.52       1  \n",
       "9999         38190.78       0  \n",
       "\n",
       "[10000 rows x 14 columns]"
      ]
     },
     "execution_count": 3,
     "metadata": {},
     "output_type": "execute_result"
    }
   ],
   "source": [
    "df = pd.read_csv(\"/datasets/Churn.csv\")\n",
    "df"
   ]
  },
  {
   "cell_type": "markdown",
   "metadata": {},
   "source": [
    "Согласно приложенной документации, в колонках содержется следующая информация:"
   ]
  },
  {
   "cell_type": "markdown",
   "metadata": {},
   "source": [
    "<b>Признаки</b>  \n",
    "RowNumber — индекс строки в данных  \n",
    "CustomerId — уникальный идентификатор клиента  \n",
    "Surname — фамилия  \n",
    "CreditScore — кредитный рейтинг  \n",
    "Geography — страна проживания  \n",
    "Gender — пол  \n",
    "Age — возраст  \n",
    "Tenure — сколько лет человек является клиентом банка  \n",
    "Balance — баланс на счёте  \n",
    "NumOfProducts — количество продуктов банка, используемых клиентом  \n",
    "HasCrCard — наличие кредитной карты  \n",
    "IsActiveMember — активность клиента  \n",
    "EstimatedSalary — предполагаемая зарплата \n",
    "\n",
    "<b>Целевой признак</b>  \n",
    "Exited — факт ухода клиента"
   ]
  },
  {
   "cell_type": "code",
   "execution_count": 4,
   "metadata": {
    "scrolled": true
   },
   "outputs": [
    {
     "data": {
      "text/plain": [
       "RowNumber            0\n",
       "CustomerId           0\n",
       "Surname              0\n",
       "CreditScore          0\n",
       "Geography            0\n",
       "Gender               0\n",
       "Age                  0\n",
       "Tenure             909\n",
       "Balance              0\n",
       "NumOfProducts        0\n",
       "HasCrCard            0\n",
       "IsActiveMember       0\n",
       "EstimatedSalary      0\n",
       "Exited               0\n",
       "dtype: int64"
      ]
     },
     "execution_count": 4,
     "metadata": {},
     "output_type": "execute_result"
    }
   ],
   "source": [
    "df.isna().sum()"
   ]
  },
  {
   "cell_type": "markdown",
   "metadata": {},
   "source": [
    "В 9% записей имеются пропуски в данных о стаже клиента.\n",
    "Так как нет средств позволяющих с высокой точностью их востановить, а данный признак может быть связанным с целевым, оставшееся количество записей позволяет удалить клиентов с пропусками из дальнейшего анализа."
   ]
  },
  {
   "cell_type": "code",
   "execution_count": 5,
   "metadata": {},
   "outputs": [],
   "source": [
    "df = df.dropna()"
   ]
  },
  {
   "cell_type": "markdown",
   "metadata": {},
   "source": [
    "Приведем названия колонок в соответствие с хорошим стилем"
   ]
  },
  {
   "cell_type": "code",
   "execution_count": 6,
   "metadata": {},
   "outputs": [],
   "source": [
    "def lowering(word):\n",
    "  for symbol in set(word):\n",
    "    if not symbol.islower():\n",
    "      word = word.replace(symbol, '_'+symbol)\n",
    "  return word[1:].lower()"
   ]
  },
  {
   "cell_type": "code",
   "execution_count": 7,
   "metadata": {},
   "outputs": [],
   "source": [
    "df.columns = [lowering(name) for name in df.columns]"
   ]
  },
  {
   "cell_type": "markdown",
   "metadata": {},
   "source": [
    "Фичи `row_number`, `customer_id`, `surname` являются системными данными не нужными для предсказания"
   ]
  },
  {
   "cell_type": "code",
   "execution_count": 8,
   "metadata": {},
   "outputs": [],
   "source": [
    "df = df.drop(['row_number', 'customer_id', 'surname'], axis=1)"
   ]
  },
  {
   "cell_type": "markdown",
   "metadata": {},
   "source": [
    "Излишняя точность показателей `balance`, `estimated_salary` и `tenure` только усложнит расчеты"
   ]
  },
  {
   "cell_type": "code",
   "execution_count": 9,
   "metadata": {},
   "outputs": [],
   "source": [
    "df.balance = df.balance.astype(int)\n",
    "df.estimated_salary = df.estimated_salary.astype(int)\n",
    "df.tenure = df.tenure.astype(int)"
   ]
  },
  {
   "cell_type": "markdown",
   "metadata": {},
   "source": [
    "Для наглядности в последующей интепретации результатов оцифруем качественные признаки"
   ]
  },
  {
   "cell_type": "code",
   "execution_count": 10,
   "metadata": {},
   "outputs": [
    {
     "data": {
      "text/html": [
       "<div>\n",
       "<style scoped>\n",
       "    .dataframe tbody tr th:only-of-type {\n",
       "        vertical-align: middle;\n",
       "    }\n",
       "\n",
       "    .dataframe tbody tr th {\n",
       "        vertical-align: top;\n",
       "    }\n",
       "\n",
       "    .dataframe thead th {\n",
       "        text-align: right;\n",
       "    }\n",
       "</style>\n",
       "<table border=\"1\" class=\"dataframe\">\n",
       "  <thead>\n",
       "    <tr style=\"text-align: right;\">\n",
       "      <th></th>\n",
       "      <th>credit_score</th>\n",
       "      <th>age</th>\n",
       "      <th>tenure</th>\n",
       "      <th>balance</th>\n",
       "      <th>num_of_products</th>\n",
       "      <th>has_cr_card</th>\n",
       "      <th>is_active_member</th>\n",
       "      <th>estimated_salary</th>\n",
       "      <th>exited</th>\n",
       "      <th>geography_France</th>\n",
       "      <th>geography_Germany</th>\n",
       "      <th>gender_Male</th>\n",
       "    </tr>\n",
       "  </thead>\n",
       "  <tbody>\n",
       "    <tr>\n",
       "      <td>0</td>\n",
       "      <td>619</td>\n",
       "      <td>42</td>\n",
       "      <td>2</td>\n",
       "      <td>0</td>\n",
       "      <td>1</td>\n",
       "      <td>1</td>\n",
       "      <td>1</td>\n",
       "      <td>101348</td>\n",
       "      <td>1</td>\n",
       "      <td>1</td>\n",
       "      <td>0</td>\n",
       "      <td>0</td>\n",
       "    </tr>\n",
       "    <tr>\n",
       "      <td>1</td>\n",
       "      <td>608</td>\n",
       "      <td>41</td>\n",
       "      <td>1</td>\n",
       "      <td>83807</td>\n",
       "      <td>1</td>\n",
       "      <td>0</td>\n",
       "      <td>1</td>\n",
       "      <td>112542</td>\n",
       "      <td>0</td>\n",
       "      <td>0</td>\n",
       "      <td>0</td>\n",
       "      <td>0</td>\n",
       "    </tr>\n",
       "    <tr>\n",
       "      <td>2</td>\n",
       "      <td>502</td>\n",
       "      <td>42</td>\n",
       "      <td>8</td>\n",
       "      <td>159660</td>\n",
       "      <td>3</td>\n",
       "      <td>1</td>\n",
       "      <td>0</td>\n",
       "      <td>113931</td>\n",
       "      <td>1</td>\n",
       "      <td>1</td>\n",
       "      <td>0</td>\n",
       "      <td>0</td>\n",
       "    </tr>\n",
       "    <tr>\n",
       "      <td>3</td>\n",
       "      <td>699</td>\n",
       "      <td>39</td>\n",
       "      <td>1</td>\n",
       "      <td>0</td>\n",
       "      <td>2</td>\n",
       "      <td>0</td>\n",
       "      <td>0</td>\n",
       "      <td>93826</td>\n",
       "      <td>0</td>\n",
       "      <td>1</td>\n",
       "      <td>0</td>\n",
       "      <td>0</td>\n",
       "    </tr>\n",
       "    <tr>\n",
       "      <td>4</td>\n",
       "      <td>850</td>\n",
       "      <td>43</td>\n",
       "      <td>2</td>\n",
       "      <td>125510</td>\n",
       "      <td>1</td>\n",
       "      <td>1</td>\n",
       "      <td>1</td>\n",
       "      <td>79084</td>\n",
       "      <td>0</td>\n",
       "      <td>0</td>\n",
       "      <td>0</td>\n",
       "      <td>0</td>\n",
       "    </tr>\n",
       "    <tr>\n",
       "      <td>...</td>\n",
       "      <td>...</td>\n",
       "      <td>...</td>\n",
       "      <td>...</td>\n",
       "      <td>...</td>\n",
       "      <td>...</td>\n",
       "      <td>...</td>\n",
       "      <td>...</td>\n",
       "      <td>...</td>\n",
       "      <td>...</td>\n",
       "      <td>...</td>\n",
       "      <td>...</td>\n",
       "      <td>...</td>\n",
       "    </tr>\n",
       "    <tr>\n",
       "      <td>9994</td>\n",
       "      <td>800</td>\n",
       "      <td>29</td>\n",
       "      <td>2</td>\n",
       "      <td>0</td>\n",
       "      <td>2</td>\n",
       "      <td>0</td>\n",
       "      <td>0</td>\n",
       "      <td>167773</td>\n",
       "      <td>0</td>\n",
       "      <td>1</td>\n",
       "      <td>0</td>\n",
       "      <td>0</td>\n",
       "    </tr>\n",
       "    <tr>\n",
       "      <td>9995</td>\n",
       "      <td>771</td>\n",
       "      <td>39</td>\n",
       "      <td>5</td>\n",
       "      <td>0</td>\n",
       "      <td>2</td>\n",
       "      <td>1</td>\n",
       "      <td>0</td>\n",
       "      <td>96270</td>\n",
       "      <td>0</td>\n",
       "      <td>1</td>\n",
       "      <td>0</td>\n",
       "      <td>1</td>\n",
       "    </tr>\n",
       "    <tr>\n",
       "      <td>9996</td>\n",
       "      <td>516</td>\n",
       "      <td>35</td>\n",
       "      <td>10</td>\n",
       "      <td>57369</td>\n",
       "      <td>1</td>\n",
       "      <td>1</td>\n",
       "      <td>1</td>\n",
       "      <td>101699</td>\n",
       "      <td>0</td>\n",
       "      <td>1</td>\n",
       "      <td>0</td>\n",
       "      <td>1</td>\n",
       "    </tr>\n",
       "    <tr>\n",
       "      <td>9997</td>\n",
       "      <td>709</td>\n",
       "      <td>36</td>\n",
       "      <td>7</td>\n",
       "      <td>0</td>\n",
       "      <td>1</td>\n",
       "      <td>0</td>\n",
       "      <td>1</td>\n",
       "      <td>42085</td>\n",
       "      <td>1</td>\n",
       "      <td>1</td>\n",
       "      <td>0</td>\n",
       "      <td>0</td>\n",
       "    </tr>\n",
       "    <tr>\n",
       "      <td>9998</td>\n",
       "      <td>772</td>\n",
       "      <td>42</td>\n",
       "      <td>3</td>\n",
       "      <td>75075</td>\n",
       "      <td>2</td>\n",
       "      <td>1</td>\n",
       "      <td>0</td>\n",
       "      <td>92888</td>\n",
       "      <td>1</td>\n",
       "      <td>0</td>\n",
       "      <td>1</td>\n",
       "      <td>1</td>\n",
       "    </tr>\n",
       "  </tbody>\n",
       "</table>\n",
       "<p>9091 rows × 12 columns</p>\n",
       "</div>"
      ],
      "text/plain": [
       "      credit_score  age  tenure  balance  num_of_products  has_cr_card  \\\n",
       "0              619   42       2        0                1            1   \n",
       "1              608   41       1    83807                1            0   \n",
       "2              502   42       8   159660                3            1   \n",
       "3              699   39       1        0                2            0   \n",
       "4              850   43       2   125510                1            1   \n",
       "...            ...  ...     ...      ...              ...          ...   \n",
       "9994           800   29       2        0                2            0   \n",
       "9995           771   39       5        0                2            1   \n",
       "9996           516   35      10    57369                1            1   \n",
       "9997           709   36       7        0                1            0   \n",
       "9998           772   42       3    75075                2            1   \n",
       "\n",
       "      is_active_member  estimated_salary  exited  geography_France  \\\n",
       "0                    1            101348       1                 1   \n",
       "1                    1            112542       0                 0   \n",
       "2                    0            113931       1                 1   \n",
       "3                    0             93826       0                 1   \n",
       "4                    1             79084       0                 0   \n",
       "...                ...               ...     ...               ...   \n",
       "9994                 0            167773       0                 1   \n",
       "9995                 0             96270       0                 1   \n",
       "9996                 1            101699       0                 1   \n",
       "9997                 1             42085       1                 1   \n",
       "9998                 0             92888       1                 0   \n",
       "\n",
       "      geography_Germany  gender_Male  \n",
       "0                     0            0  \n",
       "1                     0            0  \n",
       "2                     0            0  \n",
       "3                     0            0  \n",
       "4                     0            0  \n",
       "...                 ...          ...  \n",
       "9994                  0            0  \n",
       "9995                  0            1  \n",
       "9996                  0            1  \n",
       "9997                  0            0  \n",
       "9998                  1            1  \n",
       "\n",
       "[9091 rows x 12 columns]"
      ]
     },
     "execution_count": 10,
     "metadata": {},
     "output_type": "execute_result"
    }
   ],
   "source": [
    "df = pd.get_dummies(df).drop(['geography_Spain','gender_Female'], axis=1)\n",
    "df"
   ]
  },
  {
   "cell_type": "markdown",
   "metadata": {},
   "source": [
    "## Анализ и обработка данных"
   ]
  },
  {
   "cell_type": "code",
   "execution_count": 11,
   "metadata": {
    "scrolled": false
   },
   "outputs": [
    {
     "data": {
      "image/png": "[encoded data removed]",
      "text/plain": [
       "<Figure size 432x432 with 1 Axes>"
      ]
     },
     "metadata": {},
     "output_type": "display_data"
    }
   ],
   "source": [
    "fig, ax = plt.subplots(figsize=(6, 6))\n",
    "\n",
    "patches, texts, pcts = ax.pie(df.exited.value_counts(),\n",
    "        autopct='%.1f%%',\n",
    "        textprops= {'size': 'x-large'},\n",
    "        explode= [0,0.1],\n",
    "        labels = ['', 'Churn'],\n",
    "        shadow = True);\n",
    "plt.setp(pcts, color='white');\n",
    "plt.title('Proportion of losses', fontsize=20);"
   ]
  },
  {
   "cell_type": "markdown",
   "metadata": {},
   "source": [
    "В предоставленных данных, за рассматриваемый период, около 20% клиентов решили прекратить пользоваться услугами «Бета-Банка»."
   ]
  },
  {
   "cell_type": "markdown",
   "metadata": {},
   "source": [
    "Посмотрим как этот дисбаланс скажется на обучении моделей"
   ]
  },
  {
   "cell_type": "markdown",
   "metadata": {},
   "source": [
    "### Модели без учета дисбаланса"
   ]
  },
  {
   "cell_type": "markdown",
   "metadata": {},
   "source": [
    "По плану заказчика сначала обучим модели без учета дисбаланса классов."
   ]
  },
  {
   "cell_type": "markdown",
   "metadata": {},
   "source": [
    "Разделим данные на тренировочные и тестовые."
   ]
  },
  {
   "cell_type": "code",
   "execution_count": 12,
   "metadata": {},
   "outputs": [],
   "source": [
    "X_train, X_test, y_train, y_test = train_test_split(df.drop('exited', axis=1),\n",
    "                                                    df.exited,\n",
    "                                                    test_size=0.33,\n",
    "                                                    random_state=42)"
   ]
  },
  {
   "cell_type": "markdown",
   "metadata": {},
   "source": [
    "#### catboost"
   ]
  },
  {
   "cell_type": "code",
   "execution_count": 13,
   "metadata": {
    "scrolled": true
   },
   "outputs": [
    {
     "name": "stdout",
     "output_type": "stream",
     "text": [
      "Значением F1-меры для модели обученной без учета дисбаланса классов:       0.575\n"
     ]
    }
   ],
   "source": [
    "parametrs = {'depth': range(5,10)}\n",
    "\n",
    "cbc = GridSearchCV(CatBoostClassifier(iterations=2000,\n",
    "                                      loss_function='Logloss',\n",
    "                                      custom_loss='F1',\n",
    "                                      eval_metric='F1',\n",
    "                                      early_stopping_rounds=200,\n",
    "                                      learning_rate=0.01,\n",
    "                                     ),\n",
    "                   parametrs,\n",
    "                   scoring='f1',\n",
    "                   cv=5)\n",
    "\n",
    "cbc.fit(X_train, y_train, eval_set=(X_test, y_test), verbose=0)\n",
    "\n",
    "print(f'Значением F1-меры для модели обученной без учета дисбаланса классов: \\\n",
    "      {f1_score(y_test, cbc.predict(X_test)):.3f}')"
   ]
  },
  {
   "cell_type": "markdown",
   "metadata": {},
   "source": [
    "#### SVC"
   ]
  },
  {
   "cell_type": "code",
   "execution_count": 14,
   "metadata": {},
   "outputs": [
    {
     "name": "stdout",
     "output_type": "stream",
     "text": [
      "Значением F1-меры для модели обученной без учета дисбаланса классов:       0.489\n"
     ]
    }
   ],
   "source": [
    "ppline_svc = make_pipeline(preprocessing.StandardScaler(),\n",
    "                           SVC())\n",
    "\n",
    "parametrs = {'svc__kernel':['poly','rbf']}\n",
    "             \n",
    "svc = GridSearchCV(ppline_svc, parametrs, scoring='f1', cv=5)\n",
    "                     \n",
    "svc.fit(X_train, y_train)\n",
    "\n",
    "print(f'Значением F1-меры для модели обученной без учета дисбаланса классов: \\\n",
    "      {f1_score(y_test, svc.predict(X_test)):.3f}')"
   ]
  },
  {
   "cell_type": "markdown",
   "metadata": {},
   "source": [
    "Полученные значение F1 не достигают необходимой величины 0.59  \n",
    "Поэтому воспользуемся методиками для борьбы с дисбалансом классов"
   ]
  },
  {
   "cell_type": "markdown",
   "metadata": {},
   "source": [
    "### Модели с учетом дисбаланса"
   ]
  },
  {
   "cell_type": "markdown",
   "metadata": {},
   "source": [
    "#### Oversampling"
   ]
  },
  {
   "cell_type": "markdown",
   "metadata": {},
   "source": [
    "##### catboost"
   ]
  },
  {
   "cell_type": "code",
   "execution_count": 15,
   "metadata": {
    "scrolled": false
   },
   "outputs": [
    {
     "name": "stdout",
     "output_type": "stream",
     "text": [
      "Значением F1-меры для модели обученной c оверсемплингом классов:       0.607\n"
     ]
    }
   ],
   "source": [
    "parametrs = {'catboostclassifier__depth': range(5,10)}\n",
    "\n",
    "cbc = CatBoostClassifier(iterations=2000,\n",
    "                         loss_function='Logloss',\n",
    "                         custom_loss='F1',\n",
    "                         eval_metric='F1',\n",
    "                         early_stopping_rounds=200,\n",
    "                         learning_rate=0.01,\n",
    "                        )\n",
    "\n",
    "pipe_cbc = make_pipeline(RandomOverSampler(), cbc)\n",
    "\n",
    "gcbc_over = GridSearchCV(pipe_cbc,\n",
    "                   parametrs,\n",
    "                   scoring='f1',\n",
    "                   cv=5)\n",
    "\n",
    "gcbc_over.fit(X_train, y_train, catboostclassifier__verbose=0)\n",
    "\n",
    "print(f'Значением F1-меры для модели обученной c оверсемплингом классов: \\\n",
    "      {f1_score(y_test, gcbc_over.predict(X_test)):.3f}')"
   ]
  },
  {
   "cell_type": "markdown",
   "metadata": {},
   "source": [
    "##### SVC"
   ]
  },
  {
   "cell_type": "code",
   "execution_count": 16,
   "metadata": {},
   "outputs": [
    {
     "name": "stdout",
     "output_type": "stream",
     "text": [
      "Значением F1-меры для модели обученной с оверсемплингом классов:       0.587\n"
     ]
    }
   ],
   "source": [
    "ppline_svc = make_pipeline(RandomOverSampler(),\n",
    "                           preprocessing.StandardScaler(),\n",
    "                           SVC())\n",
    "parametrs = {'svc__kernel':['poly','rbf']}\n",
    "             \n",
    "svc_over = GridSearchCV(ppline_svc, parametrs, scoring='f1', cv=5)\n",
    "                     \n",
    "svc_over.fit(X_train, y_train)\n",
    "\n",
    "print(f'Значением F1-меры для модели обученной с оверсемплингом классов: \\\n",
    "      {f1_score(y_test, svc_over.predict(X_test)):.3f}')"
   ]
  },
  {
   "cell_type": "markdown",
   "metadata": {},
   "source": [
    "#### class weights"
   ]
  },
  {
   "cell_type": "markdown",
   "metadata": {},
   "source": [
    "##### catboost"
   ]
  },
  {
   "cell_type": "code",
   "execution_count": 17,
   "metadata": {},
   "outputs": [
    {
     "name": "stdout",
     "output_type": "stream",
     "text": [
      "Значением F1-меры для модели обученной cо сбалансированными весами классов:       0.611\n"
     ]
    }
   ],
   "source": [
    "parametrs = {'depth': range(5,10)}\n",
    "\n",
    "cbc = CatBoostClassifier(iterations=2000,\n",
    "                         loss_function='Logloss',\n",
    "                         custom_loss='F1',\n",
    "                         eval_metric='F1',\n",
    "                         early_stopping_rounds=200,\n",
    "                         learning_rate=0.01,\n",
    "                         auto_class_weights='Balanced' # веса клоссов сбалансированны\n",
    "                        )\n",
    "\n",
    "gcbc_bal = GridSearchCV(cbc,\n",
    "                   parametrs,\n",
    "                   scoring='f1',\n",
    "                   cv=5)\n",
    "\n",
    "gcbc_bal.fit(X_train, y_train, verbose=0)\n",
    "\n",
    "print(f'Значением F1-меры для модели обученной cо сбалансированными весами классов: \\\n",
    "      {f1_score(y_test, gcbc_bal.predict(X_test)):.3f}')"
   ]
  },
  {
   "cell_type": "markdown",
   "metadata": {},
   "source": [
    "##### SVC"
   ]
  },
  {
   "cell_type": "code",
   "execution_count": 18,
   "metadata": {
    "scrolled": true
   },
   "outputs": [
    {
     "name": "stdout",
     "output_type": "stream",
     "text": [
      "Значением F1-меры для модели обученной cо сбалансированными весами классов:       0.586\n"
     ]
    }
   ],
   "source": [
    "ppline_svc = make_pipeline(preprocessing.StandardScaler(),\n",
    "                           SVC(class_weight='balanced')) # веса клоссов сбалансированны\n",
    "parametrs = {'svc__kernel':['poly','rbf']}\n",
    "             \n",
    "svc = GridSearchCV(ppline_svc, parametrs, scoring='f1', cv=5)\n",
    "                     \n",
    "svc.fit(X_train, y_train)\n",
    "\n",
    "print(f'Значением F1-меры для модели обученной cо сбалансированными весами классов: \\\n",
    "      {f1_score(y_test, svc.predict(X_test)):.3f}')"
   ]
  },
  {
   "cell_type": "markdown",
   "metadata": {},
   "source": [
    "Модель catboost с предобработкой дисбаланса классов позволила достигнуть необходимого значения F1"
   ]
  },
  {
   "cell_type": "markdown",
   "metadata": {},
   "source": [
    "Продолжим работать с наилучшей моделью"
   ]
  },
  {
   "cell_type": "code",
   "execution_count": 21,
   "metadata": {},
   "outputs": [],
   "source": [
    "best_model = gcbc_bal.best_estimator_"
   ]
  },
  {
   "cell_type": "markdown",
   "metadata": {},
   "source": [
    "## Интерпретация результатов"
   ]
  },
  {
   "cell_type": "markdown",
   "metadata": {},
   "source": [
    "Визуализируем важность признаков при прогнозировании обученной модели"
   ]
  },
  {
   "cell_type": "code",
   "execution_count": 22,
   "metadata": {},
   "outputs": [
    {
     "data": {
      "image/png": "[encoded data removed]",
      "text/plain": [
       "<Figure size 720x720 with 2 Axes>"
      ]
     },
     "metadata": {
      "needs_background": "light"
     },
     "output_type": "display_data"
    }
   ],
   "source": [
    "shap.summary_plot(shap.TreeExplainer(best_model).shap_values(Pool(X_test,\n",
    "                                                                  y_test,\n",
    "                                                                 )),\n",
    "                  X_test,\n",
    "                  plot_size=(10,10))"
   ]
  },
  {
   "cell_type": "markdown",
   "metadata": {},
   "source": [
    "<b>Стаж, кредитный рейтинг, предполагаемая зарплата и наличие кредитной карты</b> - показатели не являющиеся основополагающими при принятии решения покинуть ряды клиентов «Бета-Банка»\n",
    "\n",
    "<b>Geography</b> - Немецкие филиалы хуже справляются с местным менталитетом, из-за чего доля уходов в Германии немного выше, а вот Французы немного более лояльны.\n",
    "\n",
    "<b>Balance</b> - видна небольшая зависимость, что присутсвует клиенты с большими деньгами не удовлетворенные услугами  «Бета-Банка»\n",
    "\n",
    "<b>Gender, Active</b> - женщины покидают «Бета-Банк» чаще мужчин, а признак неактивности клиента является знаком к возможному уходу\n",
    "\n",
    "<b>Age</b> - один из важнейших признаков. Нет данных связан ли уход из «Бета-Банка» со смертью клиента, но великовозрастные клиенты с возрастом покидают банк все чаще.\n",
    "\n",
    "В данном виде  признак <b>num_of_product</b> не однозначен. Рассмотрим его отдельно"
   ]
  },
  {
   "cell_type": "code",
   "execution_count": 23,
   "metadata": {},
   "outputs": [
    {
     "data": {
      "image/png": "[encoded data removed]",
      "text/plain": [
       "<Figure size 432x432 with 1 Axes>"
      ]
     },
     "metadata": {
      "needs_background": "light"
     },
     "output_type": "display_data"
    }
   ],
   "source": [
    "plt.figure(figsize=(6,6))\n",
    "df.groupby('num_of_products').exited.mean().plot(kind='bar', grid=True, zorder=2);\n",
    "plt.ylabel('Proportion of losses');\n",
    "plt.title('Importance of product quantity', fontsize=15);"
   ]
  },
  {
   "cell_type": "markdown",
   "metadata": {},
   "source": [
    "Клиенты с 2 продуктами уходят из «Бета-Банка» в среднем гораздо реже, в вот использующие 3 или 4 продукта, согласно данным, практически точно в скором времени покинут «Бета-Банка»."
   ]
  },
  {
   "cell_type": "markdown",
   "metadata": {
    "scrolled": true
   },
   "source": [
    "## ROC"
   ]
  },
  {
   "cell_type": "markdown",
   "metadata": {},
   "source": [
    "AUC-ROC обученной модели"
   ]
  },
  {
   "cell_type": "code",
   "execution_count": 24,
   "metadata": {},
   "outputs": [
    {
     "data": {
      "image/png": "[encoded data removed]",
      "text/plain": [
       "<Figure size 504x432 with 1 Axes>"
      ]
     },
     "metadata": {
      "needs_background": "light"
     },
     "output_type": "display_data"
    }
   ],
   "source": [
    "(fpr, tpr, trh) = get_roc_curve(best_model, Pool(X_test, y_test))\n",
    "\n",
    "plt.figure(figsize=(7,6))\n",
    "plt.plot(fpr, tpr, color='darkorange',\n",
    "         label='ROC curve (area = %0.2f)'% auc(fpr, tpr))\n",
    "plt.plot([0, 1], [0, 1], color='navy', linestyle='--')\n",
    "plt.xlim([0.0, 1.0])\n",
    "plt.ylim([0.0, 1.05])\n",
    "plt.xlabel('False Positive Rate')\n",
    "plt.ylabel('True Positive Rate')\n",
    "plt.title('Receiver Operating Characteristic', fontsize=15);\n",
    "plt.legend(loc='lower right')\n",
    "plt.grid()"
   ]
  },
  {
   "cell_type": "markdown",
   "metadata": {},
   "source": [
    "## Выводы"
   ]
  },
  {
   "cell_type": "markdown",
   "metadata": {},
   "source": [
    "1. Обучены модели в запрашиваемом виде с необходимыми метриками\n",
    "2. Наблюдается высокая неудовлетворенность возрастных, богатых клиентов пользующимися несколькими продуктами «Бета-Банка»"
   ]
  }
 ],
 "metadata": {
  "ExecuteTimeLog": [
   {
    "duration": 482,
    "start_time": "2022-02-10T16:03:55.748Z"
   },
   {
    "duration": 7007,
    "start_time": "2022-02-10T16:04:09.543Z"
   },
   {
    "duration": 4,
    "start_time": "2022-02-10T18:16:47.451Z"
   },
   {
    "duration": 6230,
    "start_time": "2022-02-10T18:17:58.255Z"
   },
   {
    "duration": 3286,
    "start_time": "2022-02-10T18:18:07.421Z"
   },
   {
    "duration": 72,
    "start_time": "2022-02-10T18:19:06.638Z"
   },
   {
    "duration": 12,
    "start_time": "2022-02-10T18:19:11.374Z"
   },
   {
    "duration": 5,
    "start_time": "2022-02-10T18:19:11.697Z"
   },
   {
    "duration": 5,
    "start_time": "2022-02-10T18:19:18.051Z"
   },
   {
    "duration": 10,
    "start_time": "2022-02-10T18:19:18.440Z"
   },
   {
    "duration": 7,
    "start_time": "2022-02-10T18:19:21.439Z"
   },
   {
    "duration": 7,
    "start_time": "2022-02-10T18:19:22.357Z"
   },
   {
    "duration": 5,
    "start_time": "2022-02-10T18:19:23.024Z"
   },
   {
    "duration": 25,
    "start_time": "2022-02-10T18:19:29.384Z"
   },
   {
    "duration": 11,
    "start_time": "2022-02-10T18:20:02.845Z"
   },
   {
    "duration": 288430,
    "start_time": "2022-02-10T18:21:37.258Z"
   },
   {
    "duration": 70811,
    "start_time": "2022-02-10T18:37:12.770Z"
   },
   {
    "duration": 3249,
    "start_time": "2022-02-10T18:38:30.825Z"
   },
   {
    "duration": 5,
    "start_time": "2022-02-10T18:39:05.013Z"
   },
   {
    "duration": 832,
    "start_time": "2022-02-10T18:39:37.588Z"
   },
   {
    "duration": 4503,
    "start_time": "2022-02-10T18:39:51.294Z"
   },
   {
    "duration": 4081,
    "start_time": "2022-02-10T18:40:05.601Z"
   },
   {
    "duration": 89,
    "start_time": "2022-02-10T18:40:10.750Z"
   },
   {
    "duration": 4,
    "start_time": "2022-02-10T18:40:14.734Z"
   },
   {
    "duration": 5,
    "start_time": "2022-02-10T18:40:15.061Z"
   },
   {
    "duration": 11,
    "start_time": "2022-02-10T18:40:15.395Z"
   },
   {
    "duration": 8,
    "start_time": "2022-02-10T18:40:16.810Z"
   },
   {
    "duration": 7,
    "start_time": "2022-02-10T18:40:17.732Z"
   },
   {
    "duration": 5,
    "start_time": "2022-02-10T18:40:18.044Z"
   },
   {
    "duration": 25,
    "start_time": "2022-02-10T18:40:18.368Z"
   },
   {
    "duration": 11,
    "start_time": "2022-02-10T18:40:25.557Z"
   },
   {
    "duration": 2249,
    "start_time": "2022-02-10T18:40:34.938Z"
   },
   {
    "duration": 5,
    "start_time": "2022-02-10T18:43:07.504Z"
   },
   {
    "duration": 29,
    "start_time": "2022-02-10T18:44:49.385Z"
   },
   {
    "duration": 554,
    "start_time": "2022-02-10T18:45:04.827Z"
   },
   {
    "duration": 863,
    "start_time": "2022-02-10T18:47:33.573Z"
   },
   {
    "duration": 2536,
    "start_time": "2022-02-10T18:47:47.356Z"
   },
   {
    "duration": 2553,
    "start_time": "2022-02-10T18:49:19.342Z"
   },
   {
    "duration": 847,
    "start_time": "2022-02-10T18:51:23.208Z"
   },
   {
    "duration": 853,
    "start_time": "2022-02-10T18:51:30.028Z"
   },
   {
    "duration": 1496,
    "start_time": "2022-02-10T18:52:32.138Z"
   },
   {
    "duration": 3447,
    "start_time": "2022-02-10T18:52:45.717Z"
   },
   {
    "duration": 3238,
    "start_time": "2022-02-10T18:53:00.537Z"
   },
   {
    "duration": 635,
    "start_time": "2022-02-10T18:53:03.777Z"
   },
   {
    "duration": 353,
    "start_time": "2022-02-10T18:53:07.890Z"
   },
   {
    "duration": 6,
    "start_time": "2022-02-10T18:53:12.897Z"
   },
   {
    "duration": 68,
    "start_time": "2022-02-10T18:53:13.435Z"
   },
   {
    "duration": 21,
    "start_time": "2022-02-10T18:53:14.426Z"
   },
   {
    "duration": 4,
    "start_time": "2022-02-10T18:53:14.897Z"
   },
   {
    "duration": 5,
    "start_time": "2022-02-10T18:53:15.301Z"
   },
   {
    "duration": 12,
    "start_time": "2022-02-10T18:53:16.106Z"
   },
   {
    "duration": 9,
    "start_time": "2022-02-10T18:53:16.442Z"
   },
   {
    "duration": 8,
    "start_time": "2022-02-10T18:53:17.070Z"
   },
   {
    "duration": 6,
    "start_time": "2022-02-10T18:53:18.367Z"
   },
   {
    "duration": 33,
    "start_time": "2022-02-10T18:53:19.055Z"
   },
   {
    "duration": 13,
    "start_time": "2022-02-10T18:53:20.500Z"
   },
   {
    "duration": 371,
    "start_time": "2022-02-10T18:53:21.223Z"
   },
   {
    "duration": 90914,
    "start_time": "2022-02-10T18:53:39.028Z"
   },
   {
    "duration": 89241,
    "start_time": "2022-02-10T18:59:35.212Z"
   },
   {
    "duration": 390,
    "start_time": "2022-02-10T19:01:49.002Z"
   },
   {
    "duration": 384,
    "start_time": "2022-02-10T19:04:47.632Z"
   },
   {
    "duration": 398,
    "start_time": "2022-02-10T19:05:44.098Z"
   },
   {
    "duration": 83822,
    "start_time": "2022-02-10T19:05:49.642Z"
   },
   {
    "duration": 3440,
    "start_time": "2022-02-10T19:20:36.745Z"
   },
   {
    "duration": 29759,
    "start_time": "2022-02-10T19:20:57.399Z"
   },
   {
    "duration": 998,
    "start_time": "2022-02-10T19:21:37.054Z"
   },
   {
    "duration": 2027,
    "start_time": "2022-02-10T19:21:40.176Z"
   },
   {
    "duration": 66,
    "start_time": "2022-02-10T19:21:44.560Z"
   },
   {
    "duration": 9,
    "start_time": "2022-02-10T19:21:45.172Z"
   },
   {
    "duration": 4,
    "start_time": "2022-02-10T19:21:46.169Z"
   },
   {
    "duration": 5,
    "start_time": "2022-02-10T19:21:46.502Z"
   },
   {
    "duration": 10,
    "start_time": "2022-02-10T19:21:46.886Z"
   },
   {
    "duration": 6,
    "start_time": "2022-02-10T19:21:47.648Z"
   },
   {
    "duration": 7,
    "start_time": "2022-02-10T19:21:47.981Z"
   },
   {
    "duration": 5,
    "start_time": "2022-02-10T19:21:48.305Z"
   },
   {
    "duration": 25,
    "start_time": "2022-02-10T19:21:48.810Z"
   },
   {
    "duration": 11,
    "start_time": "2022-02-10T19:21:50.489Z"
   },
   {
    "duration": 56686,
    "start_time": "2022-02-10T19:21:55.801Z"
   },
   {
    "duration": 60395,
    "start_time": "2022-02-10T19:23:03.537Z"
   },
   {
    "duration": 23,
    "start_time": "2022-02-10T19:24:15.117Z"
   },
   {
    "duration": 551,
    "start_time": "2022-02-10T19:24:59.636Z"
   },
   {
    "duration": 59550,
    "start_time": "2022-02-10T19:25:04.560Z"
   },
   {
    "duration": 18,
    "start_time": "2022-02-10T19:26:04.112Z"
   },
   {
    "duration": 574,
    "start_time": "2022-02-10T19:26:50.158Z"
   },
   {
    "duration": 3,
    "start_time": "2022-02-10T19:27:05.264Z"
   },
   {
    "duration": 17,
    "start_time": "2022-02-10T19:27:08.074Z"
   },
   {
    "duration": 5473,
    "start_time": "2022-02-10T19:27:09.606Z"
   },
   {
    "duration": 4,
    "start_time": "2022-02-10T19:32:56.385Z"
   },
   {
    "duration": 24,
    "start_time": "2022-02-10T19:33:01.033Z"
   },
   {
    "duration": 121,
    "start_time": "2022-02-10T19:33:11.866Z"
   },
   {
    "duration": 123,
    "start_time": "2022-02-10T19:33:25.464Z"
   },
   {
    "duration": 4,
    "start_time": "2022-02-10T19:33:40.396Z"
   },
   {
    "duration": 8,
    "start_time": "2022-02-10T19:34:08.779Z"
   },
   {
    "duration": 21,
    "start_time": "2022-02-10T19:35:17.504Z"
   },
   {
    "duration": 10,
    "start_time": "2022-02-10T19:35:46.172Z"
   },
   {
    "duration": 20,
    "start_time": "2022-02-10T19:35:48.270Z"
   },
   {
    "duration": 10,
    "start_time": "2022-02-10T19:36:33.688Z"
   },
   {
    "duration": 67903,
    "start_time": "2022-02-10T19:36:34.557Z"
   },
   {
    "duration": 3,
    "start_time": "2022-02-10T19:37:44.441Z"
   },
   {
    "duration": 19,
    "start_time": "2022-02-10T19:37:44.745Z"
   },
   {
    "duration": 6194,
    "start_time": "2022-02-10T19:37:48.171Z"
   },
   {
    "duration": 7986,
    "start_time": "2022-02-10T19:38:19.552Z"
   },
   {
    "duration": 6,
    "start_time": "2022-02-10T19:41:05.167Z"
   },
   {
    "duration": 10,
    "start_time": "2022-02-10T19:41:10.128Z"
   },
   {
    "duration": 440,
    "start_time": "2022-02-10T19:41:12.355Z"
   },
   {
    "duration": 20,
    "start_time": "2022-02-10T19:41:32.767Z"
   },
   {
    "duration": 12,
    "start_time": "2022-02-10T19:42:26.726Z"
   },
   {
    "duration": 61612,
    "start_time": "2022-02-10T19:42:27.941Z"
   },
   {
    "duration": 5,
    "start_time": "2022-02-10T19:43:40.560Z"
   },
   {
    "duration": 10070,
    "start_time": "2022-02-10T19:43:42.255Z"
   },
   {
    "duration": 639,
    "start_time": "2022-02-11T11:32:55.432Z"
   },
   {
    "duration": 13130,
    "start_time": "2022-02-11T11:32:59.092Z"
   },
   {
    "duration": 3,
    "start_time": "2022-02-11T11:33:12.224Z"
   },
   {
    "duration": 2,
    "start_time": "2022-02-11T11:42:26.576Z"
   },
   {
    "duration": 2460,
    "start_time": "2022-02-11T11:42:31.561Z"
   },
   {
    "duration": 625,
    "start_time": "2022-02-11T11:42:42.435Z"
   },
   {
    "duration": 4018,
    "start_time": "2022-02-11T12:10:38.973Z"
   },
   {
    "duration": 3,
    "start_time": "2022-02-11T12:10:42.994Z"
   },
   {
    "duration": 45,
    "start_time": "2022-02-11T12:10:47.579Z"
   },
   {
    "duration": 7,
    "start_time": "2022-02-11T12:10:49.568Z"
   },
   {
    "duration": 3,
    "start_time": "2022-02-11T12:10:51.683Z"
   },
   {
    "duration": 3,
    "start_time": "2022-02-11T12:10:51.963Z"
   },
   {
    "duration": 6,
    "start_time": "2022-02-11T12:10:52.251Z"
   },
   {
    "duration": 4,
    "start_time": "2022-02-11T12:10:53.216Z"
   },
   {
    "duration": 5,
    "start_time": "2022-02-11T12:10:57.216Z"
   },
   {
    "duration": 6,
    "start_time": "2022-02-11T12:10:58.005Z"
   },
   {
    "duration": 4,
    "start_time": "2022-02-11T12:10:59.822Z"
   },
   {
    "duration": 11,
    "start_time": "2022-02-11T12:11:00.380Z"
   },
   {
    "duration": 7,
    "start_time": "2022-02-11T12:11:03.462Z"
   },
   {
    "duration": 40033,
    "start_time": "2022-02-11T12:11:07.554Z"
   },
   {
    "duration": 20764,
    "start_time": "2022-02-11T12:11:58.163Z"
   },
   {
    "duration": 39369,
    "start_time": "2022-02-11T12:12:26.354Z"
   },
   {
    "duration": 2,
    "start_time": "2022-02-11T12:13:08.420Z"
   },
   {
    "duration": 13,
    "start_time": "2022-02-11T12:13:08.887Z"
   },
   {
    "duration": 4,
    "start_time": "2022-02-11T12:13:15.630Z"
   },
   {
    "duration": 6,
    "start_time": "2022-02-11T12:13:15.918Z"
   },
   {
    "duration": 34503,
    "start_time": "2022-02-11T12:13:52.153Z"
   },
   {
    "duration": 3,
    "start_time": "2022-02-11T12:14:52.898Z"
   },
   {
    "duration": 5125,
    "start_time": "2022-02-11T12:14:53.139Z"
   },
   {
    "duration": 3,
    "start_time": "2022-02-11T12:15:41.305Z"
   },
   {
    "duration": 446,
    "start_time": "2022-02-11T12:16:30.273Z"
   },
   {
    "duration": 324,
    "start_time": "2022-02-11T12:17:25.066Z"
   },
   {
    "duration": 3,
    "start_time": "2022-02-11T12:17:36.751Z"
   },
   {
    "duration": 11,
    "start_time": "2022-02-11T12:17:46.404Z"
   },
   {
    "duration": 15,
    "start_time": "2022-02-11T12:20:31.098Z"
   },
   {
    "duration": 78,
    "start_time": "2022-02-11T12:21:33.297Z"
   },
   {
    "duration": 12,
    "start_time": "2022-02-11T12:22:00.794Z"
   },
   {
    "duration": 14,
    "start_time": "2022-02-11T12:22:16.574Z"
   },
   {
    "duration": 13,
    "start_time": "2022-02-11T12:22:20.085Z"
   },
   {
    "duration": 80,
    "start_time": "2022-02-11T12:22:29.710Z"
   },
   {
    "duration": 35209,
    "start_time": "2022-02-11T12:23:56.554Z"
   },
   {
    "duration": 44,
    "start_time": "2022-02-11T12:24:36.296Z"
   },
   {
    "duration": 315,
    "start_time": "2022-02-11T12:24:48.847Z"
   },
   {
    "duration": 41,
    "start_time": "2022-02-11T12:25:00.593Z"
   },
   {
    "duration": 2,
    "start_time": "2022-02-11T12:25:02.933Z"
   },
   {
    "duration": 3,
    "start_time": "2022-02-11T12:25:03.242Z"
   },
   {
    "duration": 6,
    "start_time": "2022-02-11T12:25:03.502Z"
   },
   {
    "duration": 4,
    "start_time": "2022-02-11T12:25:04.334Z"
   },
   {
    "duration": 6,
    "start_time": "2022-02-11T12:25:04.734Z"
   },
   {
    "duration": 6,
    "start_time": "2022-02-11T12:25:05.739Z"
   },
   {
    "duration": 3,
    "start_time": "2022-02-11T12:25:07.056Z"
   },
   {
    "duration": 6,
    "start_time": "2022-02-11T12:25:11.391Z"
   },
   {
    "duration": 52191,
    "start_time": "2022-02-11T12:25:12.054Z"
   },
   {
    "duration": 55,
    "start_time": "2022-02-11T12:26:15.716Z"
   },
   {
    "duration": 4,
    "start_time": "2022-02-11T12:26:27.688Z"
   },
   {
    "duration": 6,
    "start_time": "2022-02-11T12:26:31.395Z"
   },
   {
    "duration": 51075,
    "start_time": "2022-02-11T12:26:31.754Z"
   },
   {
    "duration": 56,
    "start_time": "2022-02-11T12:27:25.408Z"
   },
   {
    "duration": 4,
    "start_time": "2022-02-11T12:28:15.773Z"
   },
   {
    "duration": 41,
    "start_time": "2022-02-11T12:28:50.247Z"
   },
   {
    "duration": 6,
    "start_time": "2022-02-11T12:28:51.116Z"
   },
   {
    "duration": 2,
    "start_time": "2022-02-11T12:28:51.444Z"
   },
   {
    "duration": 3,
    "start_time": "2022-02-11T12:28:52.148Z"
   },
   {
    "duration": 6,
    "start_time": "2022-02-11T12:28:52.464Z"
   },
   {
    "duration": 5,
    "start_time": "2022-02-11T12:28:52.785Z"
   },
   {
    "duration": 5,
    "start_time": "2022-02-11T12:28:53.129Z"
   },
   {
    "duration": 6,
    "start_time": "2022-02-11T12:28:54.202Z"
   },
   {
    "duration": 4,
    "start_time": "2022-02-11T12:28:54.663Z"
   },
   {
    "duration": 7,
    "start_time": "2022-02-11T12:28:56.627Z"
   },
   {
    "duration": 5,
    "start_time": "2022-02-11T12:28:57.450Z"
   },
   {
    "duration": 118,
    "start_time": "2022-02-11T12:28:58.748Z"
   },
   {
    "duration": 3359,
    "start_time": "2022-02-11T12:29:06.936Z"
   },
   {
    "duration": 45047,
    "start_time": "2022-02-11T12:29:46.064Z"
   },
   {
    "duration": 2265,
    "start_time": "2022-02-11T12:30:41.109Z"
   },
   {
    "duration": 2230,
    "start_time": "2022-02-11T12:31:18.347Z"
   },
   {
    "duration": 397,
    "start_time": "2022-02-11T12:31:36.546Z"
   },
   {
    "duration": 46021,
    "start_time": "2022-02-11T12:31:53.669Z"
   },
   {
    "duration": 18307,
    "start_time": "2022-02-11T13:48:16.183Z"
   },
   {
    "duration": 41,
    "start_time": "2022-02-11T13:48:40.686Z"
   },
   {
    "duration": 360,
    "start_time": "2022-02-11T13:49:11.665Z"
   },
   {
    "duration": 382,
    "start_time": "2022-02-11T13:51:23.900Z"
   },
   {
    "duration": 4567,
    "start_time": "2022-02-11T13:51:46.944Z"
   },
   {
    "duration": 4820,
    "start_time": "2022-02-11T13:52:05.613Z"
   },
   {
    "duration": 47927,
    "start_time": "2022-02-11T13:52:16.192Z"
   },
   {
    "duration": 54,
    "start_time": "2022-02-11T13:53:22.638Z"
   },
   {
    "duration": 6,
    "start_time": "2022-02-11T13:53:28.030Z"
   },
   {
    "duration": 5509,
    "start_time": "2022-02-11T13:53:28.350Z"
   },
   {
    "duration": 8,
    "start_time": "2022-02-11T13:53:38.724Z"
   },
   {
    "duration": 5472,
    "start_time": "2022-02-11T13:53:48.060Z"
   },
   {
    "duration": 9,
    "start_time": "2022-02-11T13:53:53.534Z"
   },
   {
    "duration": 309,
    "start_time": "2022-02-11T13:54:22.030Z"
   },
   {
    "duration": 4854,
    "start_time": "2022-02-11T13:54:41.004Z"
   },
   {
    "duration": 129,
    "start_time": "2022-02-11T13:56:43.129Z"
   },
   {
    "duration": 6135,
    "start_time": "2022-02-11T13:56:49.040Z"
   },
   {
    "duration": 5374,
    "start_time": "2022-02-11T13:58:34.908Z"
   },
   {
    "duration": 2273,
    "start_time": "2022-02-11T14:02:05.432Z"
   },
   {
    "duration": 5264,
    "start_time": "2022-02-11T14:02:23.982Z"
   },
   {
    "duration": 106,
    "start_time": "2022-02-11T14:02:43.944Z"
   },
   {
    "duration": 35829,
    "start_time": "2022-02-11T14:02:49.302Z"
   },
   {
    "duration": 48,
    "start_time": "2022-02-11T14:03:30.280Z"
   },
   {
    "duration": 5,
    "start_time": "2022-02-11T14:04:04.752Z"
   },
   {
    "duration": 4,
    "start_time": "2022-02-11T14:04:10.186Z"
   },
   {
    "duration": 4,
    "start_time": "2022-02-11T14:04:16.606Z"
   },
   {
    "duration": 4,
    "start_time": "2022-02-11T14:04:29.091Z"
   },
   {
    "duration": 3088,
    "start_time": "2022-02-11T14:04:47.257Z"
   },
   {
    "duration": 3,
    "start_time": "2022-02-11T14:05:06.979Z"
   },
   {
    "duration": 391,
    "start_time": "2022-02-11T14:05:17.230Z"
   },
   {
    "duration": 3,
    "start_time": "2022-02-11T14:05:32.724Z"
   },
   {
    "duration": 29139,
    "start_time": "2022-02-11T14:05:39.317Z"
   },
   {
    "duration": 43,
    "start_time": "2022-02-11T14:06:13.727Z"
   },
   {
    "duration": 2421,
    "start_time": "2022-02-11T14:09:28.775Z"
   },
   {
    "duration": 2528,
    "start_time": "2022-02-11T14:10:28.103Z"
   },
   {
    "duration": 4,
    "start_time": "2022-02-11T14:10:54.638Z"
   },
   {
    "duration": 4,
    "start_time": "2022-02-11T14:11:07.688Z"
   },
   {
    "duration": 3,
    "start_time": "2022-02-11T14:11:31.114Z"
   },
   {
    "duration": 5,
    "start_time": "2022-02-11T14:11:35.853Z"
   },
   {
    "duration": 328,
    "start_time": "2022-02-11T14:11:44.107Z"
   },
   {
    "duration": 5,
    "start_time": "2022-02-11T14:12:19.665Z"
   },
   {
    "duration": 2200,
    "start_time": "2022-02-11T14:14:27.545Z"
   },
   {
    "duration": 6199,
    "start_time": "2022-02-11T14:14:42.124Z"
   },
   {
    "duration": 5565,
    "start_time": "2022-02-11T14:15:14.812Z"
   },
   {
    "duration": 4965,
    "start_time": "2022-02-11T14:49:34.893Z"
   },
   {
    "duration": 591,
    "start_time": "2022-02-11T14:50:33.074Z"
   },
   {
    "duration": 1632,
    "start_time": "2022-02-11T14:50:35.573Z"
   },
   {
    "duration": 3,
    "start_time": "2022-02-11T14:50:37.207Z"
   },
   {
    "duration": 5,
    "start_time": "2022-02-11T14:50:37.212Z"
   },
   {
    "duration": 65,
    "start_time": "2022-02-11T14:50:37.772Z"
   },
   {
    "duration": 9,
    "start_time": "2022-02-11T14:50:38.645Z"
   },
   {
    "duration": 4,
    "start_time": "2022-02-11T14:50:39.594Z"
   },
   {
    "duration": 3,
    "start_time": "2022-02-11T14:50:39.926Z"
   },
   {
    "duration": 7,
    "start_time": "2022-02-11T14:50:40.262Z"
   },
   {
    "duration": 5,
    "start_time": "2022-02-11T14:50:40.938Z"
   },
   {
    "duration": 5,
    "start_time": "2022-02-11T14:50:41.207Z"
   },
   {
    "duration": 6,
    "start_time": "2022-02-11T14:50:42.217Z"
   },
   {
    "duration": 4,
    "start_time": "2022-02-11T14:50:43.930Z"
   },
   {
    "duration": 4,
    "start_time": "2022-02-11T14:50:44.182Z"
   },
   {
    "duration": 7,
    "start_time": "2022-02-11T14:50:51.677Z"
   },
   {
    "duration": 2846,
    "start_time": "2022-02-11T14:50:54.916Z"
   },
   {
    "duration": 38721,
    "start_time": "2022-02-11T14:51:06.835Z"
   },
   {
    "duration": 2377,
    "start_time": "2022-02-11T14:51:47.684Z"
   },
   {
    "duration": 2297,
    "start_time": "2022-02-11T14:55:17.787Z"
   },
   {
    "duration": 5171,
    "start_time": "2022-02-11T14:59:25.828Z"
   },
   {
    "duration": 649,
    "start_time": "2022-02-11T14:59:45.005Z"
   },
   {
    "duration": 1412,
    "start_time": "2022-02-11T14:59:47.182Z"
   },
   {
    "duration": 3,
    "start_time": "2022-02-11T14:59:48.595Z"
   },
   {
    "duration": 5,
    "start_time": "2022-02-11T14:59:48.599Z"
   },
   {
    "duration": 47,
    "start_time": "2022-02-11T14:59:49.182Z"
   },
   {
    "duration": 3,
    "start_time": "2022-02-11T14:59:52.815Z"
   },
   {
    "duration": 3,
    "start_time": "2022-02-11T14:59:53.094Z"
   },
   {
    "duration": 6,
    "start_time": "2022-02-11T14:59:53.576Z"
   },
   {
    "duration": 5,
    "start_time": "2022-02-11T14:59:54.217Z"
   },
   {
    "duration": 5,
    "start_time": "2022-02-11T14:59:54.521Z"
   },
   {
    "duration": 7,
    "start_time": "2022-02-11T14:59:55.103Z"
   },
   {
    "duration": 5,
    "start_time": "2022-02-11T14:59:55.809Z"
   },
   {
    "duration": 3,
    "start_time": "2022-02-11T14:59:56.174Z"
   },
   {
    "duration": 7,
    "start_time": "2022-02-11T14:59:59.139Z"
   },
   {
    "duration": 2435,
    "start_time": "2022-02-11T15:00:02.385Z"
   },
   {
    "duration": 2349,
    "start_time": "2022-02-11T15:00:09.149Z"
   },
   {
    "duration": 859,
    "start_time": "2022-02-12T11:00:33.446Z"
   },
   {
    "duration": 4572,
    "start_time": "2022-02-12T11:00:38.245Z"
   },
   {
    "duration": 3,
    "start_time": "2022-02-12T11:00:42.820Z"
   },
   {
    "duration": 31,
    "start_time": "2022-02-12T11:00:42.826Z"
   },
   {
    "duration": 65,
    "start_time": "2022-02-12T11:00:52.402Z"
   },
   {
    "duration": 10,
    "start_time": "2022-02-12T11:00:54.149Z"
   },
   {
    "duration": 4,
    "start_time": "2022-02-12T11:07:13.132Z"
   },
   {
    "duration": 4,
    "start_time": "2022-02-12T11:07:13.409Z"
   },
   {
    "duration": 10,
    "start_time": "2022-02-12T11:07:13.688Z"
   },
   {
    "duration": 6,
    "start_time": "2022-02-12T11:07:16.253Z"
   },
   {
    "duration": 7,
    "start_time": "2022-02-12T11:07:16.902Z"
   },
   {
    "duration": 10,
    "start_time": "2022-02-12T11:07:17.474Z"
   },
   {
    "duration": 6,
    "start_time": "2022-02-12T11:07:25.108Z"
   },
   {
    "duration": 5,
    "start_time": "2022-02-12T11:07:26.210Z"
   },
   {
    "duration": 10,
    "start_time": "2022-02-12T11:07:27.540Z"
   },
   {
    "duration": 3293,
    "start_time": "2022-02-12T11:08:10.649Z"
   },
   {
    "duration": 64703,
    "start_time": "2022-02-12T11:08:26.621Z"
   },
   {
    "duration": 85,
    "start_time": "2022-02-12T11:09:38.164Z"
   },
   {
    "duration": 4,
    "start_time": "2022-02-12T11:10:05.377Z"
   },
   {
    "duration": 8686,
    "start_time": "2022-02-12T11:10:05.629Z"
   },
   {
    "duration": 4,
    "start_time": "2022-02-12T11:11:23.394Z"
   },
   {
    "duration": 19,
    "start_time": "2022-02-12T11:11:23.698Z"
   },
   {
    "duration": 6,
    "start_time": "2022-02-12T11:11:29.199Z"
   },
   {
    "duration": 9,
    "start_time": "2022-02-12T11:11:29.979Z"
   },
   {
    "duration": 66176,
    "start_time": "2022-02-12T11:11:31.214Z"
   },
   {
    "duration": 79,
    "start_time": "2022-02-12T11:12:41.032Z"
   },
   {
    "duration": 10895,
    "start_time": "2022-02-12T11:12:49.364Z"
   },
   {
    "duration": 4,
    "start_time": "2022-02-12T11:13:15.860Z"
   },
   {
    "duration": 6246,
    "start_time": "2022-02-12T11:13:16.235Z"
   },
   {
    "duration": 121,
    "start_time": "2022-02-12T11:13:32.432Z"
   },
   {
    "duration": 7,
    "start_time": "2022-02-12T11:14:58.493Z"
   },
   {
    "duration": 10,
    "start_time": "2022-02-12T11:15:07.027Z"
   },
   {
    "duration": 387,
    "start_time": "2022-02-12T11:15:08.702Z"
   },
   {
    "duration": 15,
    "start_time": "2022-02-12T11:15:15.047Z"
   },
   {
    "duration": 55999,
    "start_time": "2022-02-12T11:16:00.003Z"
   },
   {
    "duration": 93,
    "start_time": "2022-02-12T11:17:02.628Z"
   },
   {
    "duration": 6506,
    "start_time": "2022-02-12T11:17:11.377Z"
   },
   {
    "duration": 57,
    "start_time": "2022-02-12T11:18:08.108Z"
   },
   {
    "duration": 9,
    "start_time": "2022-02-12T11:18:10.909Z"
   },
   {
    "duration": 24,
    "start_time": "2022-02-12T11:18:10.921Z"
   },
   {
    "duration": 5,
    "start_time": "2022-02-12T11:18:11.035Z"
   },
   {
    "duration": 13,
    "start_time": "2022-02-12T11:18:12.325Z"
   },
   {
    "duration": 6,
    "start_time": "2022-02-12T11:18:13.624Z"
   },
   {
    "duration": 8,
    "start_time": "2022-02-12T11:18:14.822Z"
   },
   {
    "duration": 10,
    "start_time": "2022-02-12T11:18:15.752Z"
   },
   {
    "duration": 5,
    "start_time": "2022-02-12T11:18:20.814Z"
   },
   {
    "duration": 12,
    "start_time": "2022-02-12T11:18:25.233Z"
   },
   {
    "duration": 3,
    "start_time": "2022-02-12T11:18:30.976Z"
   },
   {
    "duration": 55440,
    "start_time": "2022-02-12T11:18:36.282Z"
   },
   {
    "duration": 79591,
    "start_time": "2022-02-12T11:19:36.296Z"
   },
   {
    "duration": 21,
    "start_time": "2022-02-12T11:21:04.269Z"
   },
   {
    "duration": 5,
    "start_time": "2022-02-12T11:21:09.693Z"
   },
   {
    "duration": 20,
    "start_time": "2022-02-12T11:21:10.034Z"
   },
   {
    "duration": 9402,
    "start_time": "2022-02-12T11:21:17.166Z"
   },
   {
    "duration": 101,
    "start_time": "2022-02-12T11:21:39.956Z"
   },
   {
    "duration": 18,
    "start_time": "2022-02-12T11:25:19.114Z"
   },
   {
    "duration": 49768,
    "start_time": "2022-02-12T11:26:05.438Z"
   },
   {
    "duration": 17,
    "start_time": "2022-02-12T11:28:42.017Z"
   },
   {
    "duration": 7,
    "start_time": "2022-02-12T11:28:49.008Z"
   },
   {
    "duration": 10,
    "start_time": "2022-02-12T11:28:55.578Z"
   },
   {
    "duration": 17151,
    "start_time": "2022-02-12T12:54:29.942Z"
   },
   {
    "duration": 96,
    "start_time": "2022-02-12T12:54:57.087Z"
   },
   {
    "duration": 83,
    "start_time": "2022-02-12T12:55:01.452Z"
   },
   {
    "duration": 86,
    "start_time": "2022-02-12T12:55:12.182Z"
   },
   {
    "duration": 84,
    "start_time": "2022-02-12T12:55:26.591Z"
   },
   {
    "duration": 89,
    "start_time": "2022-02-12T12:55:44.180Z"
   },
   {
    "duration": 124,
    "start_time": "2022-02-12T12:57:01.976Z"
   },
   {
    "duration": 124,
    "start_time": "2022-02-12T12:57:47.183Z"
   },
   {
    "duration": 96,
    "start_time": "2022-02-12T12:58:00.248Z"
   },
   {
    "duration": 286,
    "start_time": "2022-02-12T12:58:05.369Z"
   },
   {
    "duration": 541,
    "start_time": "2022-02-12T12:58:08.997Z"
   },
   {
    "duration": 128,
    "start_time": "2022-02-12T12:58:15.669Z"
   },
   {
    "duration": 134,
    "start_time": "2022-02-12T13:01:19.359Z"
   },
   {
    "duration": 123,
    "start_time": "2022-02-12T13:01:23.171Z"
   },
   {
    "duration": 124,
    "start_time": "2022-02-12T13:01:57.625Z"
   },
   {
    "duration": 188,
    "start_time": "2022-02-12T13:02:30.124Z"
   },
   {
    "duration": 184,
    "start_time": "2022-02-12T13:02:43.654Z"
   },
   {
    "duration": 186,
    "start_time": "2022-02-12T13:02:49.782Z"
   },
   {
    "duration": 424,
    "start_time": "2022-02-12T13:03:43.765Z"
   },
   {
    "duration": 446,
    "start_time": "2022-02-12T13:04:10.809Z"
   },
   {
    "duration": 137,
    "start_time": "2022-02-12T13:04:35.926Z"
   },
   {
    "duration": 521,
    "start_time": "2022-02-12T13:07:46.488Z"
   },
   {
    "duration": 131,
    "start_time": "2022-02-12T13:07:51.993Z"
   },
   {
    "duration": 135,
    "start_time": "2022-02-12T13:09:59.447Z"
   },
   {
    "duration": 134,
    "start_time": "2022-02-12T13:10:21.739Z"
   },
   {
    "duration": 143,
    "start_time": "2022-02-12T13:10:32.840Z"
   },
   {
    "duration": 129,
    "start_time": "2022-02-12T13:11:39.066Z"
   },
   {
    "duration": 132,
    "start_time": "2022-02-12T13:11:41.487Z"
   },
   {
    "duration": 13,
    "start_time": "2022-02-12T13:13:27.141Z"
   },
   {
    "duration": 12861,
    "start_time": "2022-02-12T13:14:00.164Z"
   },
   {
    "duration": 86,
    "start_time": "2022-02-12T13:15:53.457Z"
   },
   {
    "duration": 308,
    "start_time": "2022-02-12T13:18:49.302Z"
   },
   {
    "duration": 22,
    "start_time": "2022-02-12T13:19:48.839Z"
   },
   {
    "duration": 10,
    "start_time": "2022-02-12T13:22:30.071Z"
   },
   {
    "duration": 280,
    "start_time": "2022-02-12T13:22:56.634Z"
   },
   {
    "duration": 214,
    "start_time": "2022-02-12T13:22:59.527Z"
   },
   {
    "duration": 205,
    "start_time": "2022-02-12T13:24:38.846Z"
   },
   {
    "duration": 209,
    "start_time": "2022-02-12T13:24:43.257Z"
   },
   {
    "duration": 199,
    "start_time": "2022-02-12T13:24:45.963Z"
   },
   {
    "duration": 212,
    "start_time": "2022-02-12T13:24:59.696Z"
   },
   {
    "duration": 1545,
    "start_time": "2022-02-12T13:25:39.438Z"
   },
   {
    "duration": 246,
    "start_time": "2022-02-12T13:25:51.248Z"
   },
   {
    "duration": 231,
    "start_time": "2022-02-12T13:26:00.775Z"
   },
   {
    "duration": 241,
    "start_time": "2022-02-12T13:27:30.451Z"
   },
   {
    "duration": 227,
    "start_time": "2022-02-12T13:27:36.360Z"
   },
   {
    "duration": 234,
    "start_time": "2022-02-12T13:27:41.064Z"
   },
   {
    "duration": 236,
    "start_time": "2022-02-12T13:27:48.468Z"
   },
   {
    "duration": 223,
    "start_time": "2022-02-12T13:27:53.758Z"
   },
   {
    "duration": 224,
    "start_time": "2022-02-12T13:29:36.220Z"
   },
   {
    "duration": 281,
    "start_time": "2022-02-12T13:32:10.808Z"
   },
   {
    "duration": 226,
    "start_time": "2022-02-12T13:32:12.615Z"
   },
   {
    "duration": 232,
    "start_time": "2022-02-12T13:32:21.376Z"
   },
   {
    "duration": 97,
    "start_time": "2022-02-12T13:32:41.151Z"
   },
   {
    "duration": 223,
    "start_time": "2022-02-12T13:32:48.305Z"
   },
   {
    "duration": 229,
    "start_time": "2022-02-12T13:32:55.633Z"
   },
   {
    "duration": 245,
    "start_time": "2022-02-12T13:33:02.490Z"
   },
   {
    "duration": 228,
    "start_time": "2022-02-12T13:33:06.425Z"
   },
   {
    "duration": 235,
    "start_time": "2022-02-12T13:33:13.792Z"
   },
   {
    "duration": 232,
    "start_time": "2022-02-12T13:33:19.292Z"
   },
   {
    "duration": 242,
    "start_time": "2022-02-12T13:34:07.640Z"
   },
   {
    "duration": 386,
    "start_time": "2022-02-12T13:34:17.173Z"
   },
   {
    "duration": 232,
    "start_time": "2022-02-12T13:34:51.331Z"
   },
   {
    "duration": 231,
    "start_time": "2022-02-12T13:34:54.726Z"
   },
   {
    "duration": 245,
    "start_time": "2022-02-12T13:35:49.126Z"
   },
   {
    "duration": 232,
    "start_time": "2022-02-12T13:35:57.281Z"
   },
   {
    "duration": 245,
    "start_time": "2022-02-12T13:36:01.732Z"
   },
   {
    "duration": 243,
    "start_time": "2022-02-12T13:36:03.987Z"
   },
   {
    "duration": 235,
    "start_time": "2022-02-12T13:36:20.502Z"
   },
   {
    "duration": 237,
    "start_time": "2022-02-12T13:36:31.272Z"
   },
   {
    "duration": 233,
    "start_time": "2022-02-12T13:36:35.539Z"
   },
   {
    "duration": 279,
    "start_time": "2022-02-12T13:37:00.480Z"
   },
   {
    "duration": 356,
    "start_time": "2022-02-12T13:37:30.450Z"
   },
   {
    "duration": 253,
    "start_time": "2022-02-12T13:38:27.269Z"
   },
   {
    "duration": 265,
    "start_time": "2022-02-12T13:38:44.349Z"
   },
   {
    "duration": 254,
    "start_time": "2022-02-12T13:38:48.362Z"
   },
   {
    "duration": 254,
    "start_time": "2022-02-12T13:39:52.512Z"
   },
   {
    "duration": 249,
    "start_time": "2022-02-12T13:39:56.356Z"
   },
   {
    "duration": 259,
    "start_time": "2022-02-12T13:40:10.952Z"
   },
   {
    "duration": 17,
    "start_time": "2022-02-12T14:09:04.666Z"
   },
   {
    "duration": 301,
    "start_time": "2022-02-12T14:09:26.695Z"
   },
   {
    "duration": 278,
    "start_time": "2022-02-12T14:09:38.037Z"
   },
   {
    "duration": 446,
    "start_time": "2022-02-12T14:10:23.234Z"
   },
   {
    "duration": 339,
    "start_time": "2022-02-12T14:10:32.226Z"
   },
   {
    "duration": 325,
    "start_time": "2022-02-12T14:11:23.044Z"
   },
   {
    "duration": 308,
    "start_time": "2022-02-12T14:11:26.692Z"
   },
   {
    "duration": 4,
    "start_time": "2022-02-12T14:13:22.392Z"
   },
   {
    "duration": 327,
    "start_time": "2022-02-12T14:13:44.331Z"
   },
   {
    "duration": 310,
    "start_time": "2022-02-12T14:14:00.662Z"
   },
   {
    "duration": 321,
    "start_time": "2022-02-12T14:15:10.790Z"
   },
   {
    "duration": 344,
    "start_time": "2022-02-12T14:16:10.597Z"
   },
   {
    "duration": 365,
    "start_time": "2022-02-12T14:16:18.587Z"
   },
   {
    "duration": 326,
    "start_time": "2022-02-12T14:16:23.556Z"
   },
   {
    "duration": 719,
    "start_time": "2022-02-12T14:16:43.423Z"
   },
   {
    "duration": 838,
    "start_time": "2022-02-12T14:16:59.996Z"
   },
   {
    "duration": 92,
    "start_time": "2022-02-12T14:17:04.882Z"
   },
   {
    "duration": 319,
    "start_time": "2022-02-12T14:17:13.983Z"
   },
   {
    "duration": 311,
    "start_time": "2022-02-12T14:17:20.767Z"
   },
   {
    "duration": 56,
    "start_time": "2022-02-12T14:47:30.183Z"
   },
   {
    "duration": 18,
    "start_time": "2022-02-12T14:47:44.836Z"
   },
   {
    "duration": 896,
    "start_time": "2022-02-12T14:56:02.181Z"
   },
   {
    "duration": 54,
    "start_time": "2022-02-12T14:56:18.007Z"
   },
   {
    "duration": 9,
    "start_time": "2022-02-12T14:56:19.740Z"
   },
   {
    "duration": 9,
    "start_time": "2022-02-12T14:56:20.969Z"
   },
   {
    "duration": 4,
    "start_time": "2022-02-12T14:56:21.822Z"
   },
   {
    "duration": 5,
    "start_time": "2022-02-12T14:56:22.086Z"
   },
   {
    "duration": 7,
    "start_time": "2022-02-12T14:56:23.354Z"
   },
   {
    "duration": 8,
    "start_time": "2022-02-12T14:56:24.176Z"
   },
   {
    "duration": 11,
    "start_time": "2022-02-12T14:56:24.964Z"
   },
   {
    "duration": 11,
    "start_time": "2022-02-12T14:56:27.764Z"
   },
   {
    "duration": 706,
    "start_time": "2022-02-12T14:56:28.910Z"
   },
   {
    "duration": 11229,
    "start_time": "2022-02-12T14:56:38.824Z"
   },
   {
    "duration": 11151,
    "start_time": "2022-02-12T14:57:04.867Z"
   },
   {
    "duration": 7,
    "start_time": "2022-02-12T14:57:18.473Z"
   },
   {
    "duration": 6,
    "start_time": "2022-02-12T14:57:41.650Z"
   },
   {
    "duration": 11386,
    "start_time": "2022-02-12T14:57:50.334Z"
   },
   {
    "duration": 91,
    "start_time": "2022-02-12T14:58:55.095Z"
   },
   {
    "duration": 11746,
    "start_time": "2022-02-12T14:58:59.448Z"
   },
   {
    "duration": 100,
    "start_time": "2022-02-12T14:59:54.361Z"
   },
   {
    "duration": 50319,
    "start_time": "2022-02-12T15:01:14.852Z"
   },
   {
    "duration": 95,
    "start_time": "2022-02-12T15:02:50.018Z"
   },
   {
    "duration": 99,
    "start_time": "2022-02-12T15:03:16.994Z"
   },
   {
    "duration": 21,
    "start_time": "2022-02-12T15:03:52.423Z"
   },
   {
    "duration": 99,
    "start_time": "2022-02-12T15:03:59.110Z"
   },
   {
    "duration": 92,
    "start_time": "2022-02-12T15:04:05.763Z"
   },
   {
    "duration": 91,
    "start_time": "2022-02-12T15:04:16.405Z"
   },
   {
    "duration": 20,
    "start_time": "2022-02-12T15:04:50.210Z"
   },
   {
    "duration": 4,
    "start_time": "2022-02-12T15:30:25.187Z"
   },
   {
    "duration": 4,
    "start_time": "2022-02-12T15:34:11.741Z"
   },
   {
    "duration": 2922,
    "start_time": "2022-02-12T15:34:11.748Z"
   },
   {
    "duration": 66,
    "start_time": "2022-02-12T15:34:14.673Z"
   },
   {
    "duration": 10,
    "start_time": "2022-02-12T15:34:14.748Z"
   },
   {
    "duration": 9,
    "start_time": "2022-02-12T15:34:14.761Z"
   },
   {
    "duration": 5,
    "start_time": "2022-02-12T15:34:14.772Z"
   },
   {
    "duration": 12,
    "start_time": "2022-02-12T15:34:14.780Z"
   },
   {
    "duration": 8,
    "start_time": "2022-02-12T15:34:14.796Z"
   },
   {
    "duration": 44,
    "start_time": "2022-02-12T15:34:14.807Z"
   },
   {
    "duration": 18,
    "start_time": "2022-02-12T15:34:14.853Z"
   },
   {
    "duration": 155,
    "start_time": "2022-02-12T15:34:14.873Z"
   },
   {
    "duration": 25,
    "start_time": "2022-02-12T15:34:15.031Z"
   },
   {
    "duration": 10965,
    "start_time": "2022-02-12T15:34:15.059Z"
   },
   {
    "duration": 51128,
    "start_time": "2022-02-12T15:34:26.026Z"
   },
   {
    "duration": 23,
    "start_time": "2022-02-12T15:35:17.158Z"
   },
   {
    "duration": 6386,
    "start_time": "2022-02-12T15:35:17.183Z"
   },
   {
    "duration": 263,
    "start_time": "2022-02-12T15:35:23.571Z"
   },
   {
    "duration": 429,
    "start_time": "2022-02-12T15:35:23.837Z"
   },
   {
    "duration": 4910,
    "start_time": "2022-02-12T15:36:28.066Z"
   },
   {
    "duration": 4,
    "start_time": "2022-02-12T15:36:51.719Z"
   },
   {
    "duration": 2863,
    "start_time": "2022-02-12T15:36:51.727Z"
   },
   {
    "duration": 66,
    "start_time": "2022-02-12T15:36:54.593Z"
   },
   {
    "duration": 10,
    "start_time": "2022-02-12T15:36:54.662Z"
   },
   {
    "duration": 8,
    "start_time": "2022-02-12T15:36:54.675Z"
   },
   {
    "duration": 6,
    "start_time": "2022-02-12T15:36:54.686Z"
   },
   {
    "duration": 5,
    "start_time": "2022-02-12T15:36:54.694Z"
   },
   {
    "duration": 48,
    "start_time": "2022-02-12T15:36:54.702Z"
   },
   {
    "duration": 9,
    "start_time": "2022-02-12T15:36:54.754Z"
   },
   {
    "duration": 10,
    "start_time": "2022-02-12T15:36:54.766Z"
   },
   {
    "duration": 156,
    "start_time": "2022-02-12T15:36:54.779Z"
   },
   {
    "duration": 13,
    "start_time": "2022-02-12T15:36:54.937Z"
   },
   {
    "duration": 11528,
    "start_time": "2022-02-12T15:36:54.953Z"
   },
   {
    "duration": 48439,
    "start_time": "2022-02-12T15:37:06.483Z"
   },
   {
    "duration": 22,
    "start_time": "2022-02-12T15:37:54.925Z"
   },
   {
    "duration": 5167,
    "start_time": "2022-02-12T15:37:54.950Z"
   },
   {
    "duration": 272,
    "start_time": "2022-02-12T15:38:00.119Z"
   },
   {
    "duration": 450,
    "start_time": "2022-02-12T15:38:00.393Z"
   },
   {
    "duration": 9680,
    "start_time": "2022-02-12T16:41:29.651Z"
   },
   {
    "duration": 2962,
    "start_time": "2022-02-12T16:41:59.156Z"
   },
   {
    "duration": 93,
    "start_time": "2022-02-12T16:42:02.121Z"
   },
   {
    "duration": 10,
    "start_time": "2022-02-12T16:42:02.957Z"
   },
   {
    "duration": 11,
    "start_time": "2022-02-12T16:42:05.492Z"
   },
   {
    "duration": 5,
    "start_time": "2022-02-12T16:42:06.572Z"
   },
   {
    "duration": 5,
    "start_time": "2022-02-12T16:42:06.816Z"
   },
   {
    "duration": 7,
    "start_time": "2022-02-12T16:42:08.826Z"
   },
   {
    "duration": 10,
    "start_time": "2022-02-12T16:42:12.322Z"
   },
   {
    "duration": 23,
    "start_time": "2022-02-12T16:42:28.518Z"
   },
   {
    "duration": 6,
    "start_time": "2022-02-12T16:43:00.893Z"
   },
   {
    "duration": 25,
    "start_time": "2022-02-12T16:43:04.594Z"
   },
   {
    "duration": 653,
    "start_time": "2022-02-12T16:43:13.480Z"
   },
   {
    "duration": 29,
    "start_time": "2022-02-12T16:43:47.638Z"
   },
   {
    "duration": 282,
    "start_time": "2022-02-12T16:45:48.714Z"
   },
   {
    "duration": 314,
    "start_time": "2022-02-12T16:45:56.792Z"
   },
   {
    "duration": 485,
    "start_time": "2022-02-12T16:46:17.505Z"
   },
   {
    "duration": 280,
    "start_time": "2022-02-12T16:47:25.073Z"
   },
   {
    "duration": 286,
    "start_time": "2022-02-12T16:47:59.212Z"
   },
   {
    "duration": 11,
    "start_time": "2022-02-12T16:48:06.628Z"
   },
   {
    "duration": 282,
    "start_time": "2022-02-12T16:48:12.644Z"
   },
   {
    "duration": 306,
    "start_time": "2022-02-12T16:48:17.306Z"
   },
   {
    "duration": 8,
    "start_time": "2022-02-12T16:48:32.884Z"
   },
   {
    "duration": 13,
    "start_time": "2022-02-12T16:48:36.925Z"
   },
   {
    "duration": 7,
    "start_time": "2022-02-12T16:48:45.251Z"
   },
   {
    "duration": 16,
    "start_time": "2022-02-12T16:49:37.393Z"
   },
   {
    "duration": 23,
    "start_time": "2022-02-12T16:49:42.908Z"
   },
   {
    "duration": 401,
    "start_time": "2022-02-12T19:49:17.538Z"
   },
   {
    "duration": 35474,
    "start_time": "2022-02-12T19:49:28.960Z"
   },
   {
    "duration": 2829,
    "start_time": "2022-02-12T19:50:18.156Z"
   },
   {
    "duration": 66,
    "start_time": "2022-02-12T19:50:21.277Z"
   },
   {
    "duration": 10,
    "start_time": "2022-02-12T19:50:23.708Z"
   },
   {
    "duration": 9,
    "start_time": "2022-02-12T19:50:25.134Z"
   },
   {
    "duration": 5,
    "start_time": "2022-02-12T19:50:26.003Z"
   },
   {
    "duration": 5,
    "start_time": "2022-02-12T19:50:26.568Z"
   },
   {
    "duration": 7,
    "start_time": "2022-02-12T19:50:27.289Z"
   },
   {
    "duration": 7,
    "start_time": "2022-02-12T19:50:28.354Z"
   },
   {
    "duration": 18,
    "start_time": "2022-02-12T19:50:29.516Z"
   },
   {
    "duration": 21,
    "start_time": "2022-02-12T19:50:29.812Z"
   },
   {
    "duration": 145,
    "start_time": "2022-02-12T19:50:35.236Z"
   },
   {
    "duration": 11,
    "start_time": "2022-02-12T19:50:41.690Z"
   },
   {
    "duration": 593,
    "start_time": "2022-02-12T19:50:49.319Z"
   },
   {
    "duration": 17,
    "start_time": "2022-02-12T19:58:00.586Z"
   },
   {
    "duration": 407,
    "start_time": "2022-02-12T19:58:16.967Z"
   },
   {
    "duration": 12220,
    "start_time": "2022-02-12T19:58:33.812Z"
   },
   {
    "duration": 387,
    "start_time": "2022-02-12T19:58:56.146Z"
   },
   {
    "duration": 1337,
    "start_time": "2022-02-12T19:59:44.716Z"
   },
   {
    "duration": 1412,
    "start_time": "2022-02-12T19:59:51.019Z"
   },
   {
    "duration": 3879,
    "start_time": "2022-02-12T20:00:04.643Z"
   },
   {
    "duration": 438,
    "start_time": "2022-02-12T20:00:15.008Z"
   },
   {
    "duration": 864,
    "start_time": "2022-02-12T20:00:26.771Z"
   },
   {
    "duration": 2111,
    "start_time": "2022-02-12T20:00:40.426Z"
   },
   {
    "duration": 100,
    "start_time": "2022-02-12T20:00:43.547Z"
   },
   {
    "duration": 11,
    "start_time": "2022-02-12T20:00:51.653Z"
   },
   {
    "duration": 11,
    "start_time": "2022-02-12T20:00:52.618Z"
   },
   {
    "duration": 5,
    "start_time": "2022-02-12T20:00:53.847Z"
   },
   {
    "duration": 6,
    "start_time": "2022-02-12T20:00:54.176Z"
   },
   {
    "duration": 6,
    "start_time": "2022-02-12T20:00:55.140Z"
   },
   {
    "duration": 7,
    "start_time": "2022-02-12T20:00:56.237Z"
   },
   {
    "duration": 18,
    "start_time": "2022-02-12T20:00:56.826Z"
   },
   {
    "duration": 21,
    "start_time": "2022-02-12T20:00:58.144Z"
   },
   {
    "duration": 4,
    "start_time": "2022-02-12T20:01:11.948Z"
   },
   {
    "duration": 7,
    "start_time": "2022-02-12T20:02:25.644Z"
   },
   {
    "duration": 16,
    "start_time": "2022-02-12T20:02:29.654Z"
   },
   {
    "duration": 17,
    "start_time": "2022-02-12T20:02:33.924Z"
   },
   {
    "duration": 7,
    "start_time": "2022-02-12T20:02:40.897Z"
   },
   {
    "duration": 16,
    "start_time": "2022-02-12T20:02:49.796Z"
   },
   {
    "duration": 6,
    "start_time": "2022-02-12T20:02:59.106Z"
   },
   {
    "duration": 7,
    "start_time": "2022-02-12T20:03:35.303Z"
   },
   {
    "duration": 2870,
    "start_time": "2022-02-12T20:03:37.812Z"
   },
   {
    "duration": 3465,
    "start_time": "2022-02-12T20:03:52.701Z"
   },
   {
    "duration": 11,
    "start_time": "2022-02-12T20:04:32.929Z"
   },
   {
    "duration": 15,
    "start_time": "2022-02-12T20:05:01.019Z"
   },
   {
    "duration": 7,
    "start_time": "2022-02-12T20:05:46.029Z"
   },
   {
    "duration": 16,
    "start_time": "2022-02-12T20:05:47.803Z"
   },
   {
    "duration": 6,
    "start_time": "2022-02-12T20:05:48.877Z"
   },
   {
    "duration": 7886,
    "start_time": "2022-02-12T20:05:55.708Z"
   },
   {
    "duration": 3,
    "start_time": "2022-02-12T20:07:36.585Z"
   },
   {
    "duration": 10,
    "start_time": "2022-02-12T20:08:07.012Z"
   },
   {
    "duration": 15,
    "start_time": "2022-02-12T20:08:11.082Z"
   },
   {
    "duration": 6,
    "start_time": "2022-02-12T20:08:12.363Z"
   },
   {
    "duration": 7828,
    "start_time": "2022-02-12T20:08:15.560Z"
   },
   {
    "duration": 9,
    "start_time": "2022-02-12T20:09:04.034Z"
   },
   {
    "duration": 16,
    "start_time": "2022-02-12T20:09:06.044Z"
   },
   {
    "duration": 6,
    "start_time": "2022-02-12T20:09:07.021Z"
   },
   {
    "duration": 8568,
    "start_time": "2022-02-12T20:09:08.562Z"
   },
   {
    "duration": 4,
    "start_time": "2022-02-12T20:09:44.859Z"
   },
   {
    "duration": 10,
    "start_time": "2022-02-12T20:10:14.064Z"
   },
   {
    "duration": 1145,
    "start_time": "2022-02-12T20:10:16.440Z"
   },
   {
    "duration": 5,
    "start_time": "2022-02-12T20:10:19.367Z"
   },
   {
    "duration": 4244,
    "start_time": "2022-02-12T20:10:22.047Z"
   },
   {
    "duration": 20103,
    "start_time": "2022-02-12T20:10:34.919Z"
   },
   {
    "duration": 9,
    "start_time": "2022-02-12T20:11:02.624Z"
   },
   {
    "duration": 38,
    "start_time": "2022-02-12T20:11:04.481Z"
   },
   {
    "duration": 5,
    "start_time": "2022-02-12T20:11:06.072Z"
   },
   {
    "duration": 19008,
    "start_time": "2022-02-12T20:11:07.481Z"
   },
   {
    "duration": 9,
    "start_time": "2022-02-12T20:11:28.960Z"
   },
   {
    "duration": 40,
    "start_time": "2022-02-12T20:11:32.610Z"
   },
   {
    "duration": 19573,
    "start_time": "2022-02-12T20:11:37.141Z"
   },
   {
    "duration": 10,
    "start_time": "2022-02-12T20:12:31.858Z"
   },
   {
    "duration": 5,
    "start_time": "2022-02-12T20:12:33.127Z"
   },
   {
    "duration": 60,
    "start_time": "2022-02-12T20:12:35.195Z"
   },
   {
    "duration": 5,
    "start_time": "2022-02-12T20:12:37.115Z"
   },
   {
    "duration": 6,
    "start_time": "2022-02-12T20:12:43.062Z"
   },
   {
    "duration": 10,
    "start_time": "2022-02-12T20:13:12.153Z"
   },
   {
    "duration": 6,
    "start_time": "2022-02-12T20:13:15.776Z"
   },
   {
    "duration": 59,
    "start_time": "2022-02-12T20:13:16.750Z"
   },
   {
    "duration": 6,
    "start_time": "2022-02-12T20:13:17.406Z"
   },
   {
    "duration": 29982,
    "start_time": "2022-02-12T20:13:22.008Z"
   },
   {
    "duration": 3,
    "start_time": "2022-02-12T20:14:44.562Z"
   },
   {
    "duration": 6,
    "start_time": "2022-02-12T20:15:15.473Z"
   },
   {
    "duration": 9,
    "start_time": "2022-02-12T20:15:17.179Z"
   },
   {
    "duration": 51,
    "start_time": "2022-02-12T20:15:25.025Z"
   },
   {
    "duration": 6,
    "start_time": "2022-02-12T20:15:26.634Z"
   },
   {
    "duration": 23597,
    "start_time": "2022-02-12T20:15:28.780Z"
   },
   {
    "duration": 3,
    "start_time": "2022-02-12T20:16:46.275Z"
   },
   {
    "duration": 10,
    "start_time": "2022-02-12T20:17:20.227Z"
   },
   {
    "duration": 6,
    "start_time": "2022-02-12T20:17:21.669Z"
   },
   {
    "duration": 16,
    "start_time": "2022-02-12T20:17:23.031Z"
   },
   {
    "duration": 6,
    "start_time": "2022-02-12T20:17:24.395Z"
   },
   {
    "duration": 44244,
    "start_time": "2022-02-12T20:17:29.176Z"
   },
   {
    "duration": 4,
    "start_time": "2022-02-12T20:19:02.595Z"
   },
   {
    "duration": 11,
    "start_time": "2022-02-12T20:19:26.280Z"
   },
   {
    "duration": 6,
    "start_time": "2022-02-12T20:19:30.061Z"
   },
   {
    "duration": 23,
    "start_time": "2022-02-12T20:19:30.834Z"
   },
   {
    "duration": 7,
    "start_time": "2022-02-12T20:19:31.934Z"
   },
   {
    "duration": 45040,
    "start_time": "2022-02-12T20:19:34.269Z"
   },
   {
    "duration": 4,
    "start_time": "2022-02-12T20:20:45.172Z"
   },
   {
    "duration": 10,
    "start_time": "2022-02-12T20:21:01.141Z"
   },
   {
    "duration": 7,
    "start_time": "2022-02-12T20:21:02.221Z"
   },
   {
    "duration": 40,
    "start_time": "2022-02-12T20:21:03.098Z"
   },
   {
    "duration": 6,
    "start_time": "2022-02-12T20:21:04.219Z"
   },
   {
    "duration": 45134,
    "start_time": "2022-02-12T20:21:07.727Z"
   },
   {
    "duration": 45426,
    "start_time": "2022-02-12T20:22:01.008Z"
   },
   {
    "duration": 41274,
    "start_time": "2022-02-13T07:01:02.667Z"
   },
   {
    "duration": 3635,
    "start_time": "2022-02-13T07:02:05.232Z"
   },
   {
    "duration": 63,
    "start_time": "2022-02-13T07:02:23.737Z"
   },
   {
    "duration": 62,
    "start_time": "2022-02-13T07:58:14.621Z"
   },
   {
    "duration": 10,
    "start_time": "2022-02-13T07:58:17.748Z"
   },
   {
    "duration": 5,
    "start_time": "2022-02-13T07:58:21.997Z"
   },
   {
    "duration": 4,
    "start_time": "2022-02-13T07:58:22.293Z"
   },
   {
    "duration": 7,
    "start_time": "2022-02-13T07:58:24.042Z"
   },
   {
    "duration": 8,
    "start_time": "2022-02-13T07:58:24.775Z"
   },
   {
    "duration": 7,
    "start_time": "2022-02-13T07:58:49.244Z"
   },
   {
    "duration": 534,
    "start_time": "2022-02-13T07:59:05.108Z"
   },
   {
    "duration": 183,
    "start_time": "2022-02-13T07:59:05.462Z"
   },
   {
    "duration": 18,
    "start_time": "2022-02-13T07:59:29.452Z"
   },
   {
    "duration": 20,
    "start_time": "2022-02-13T07:59:30.799Z"
   },
   {
    "duration": 23,
    "start_time": "2022-02-13T07:59:44.592Z"
   },
   {
    "duration": 6,
    "start_time": "2022-02-13T08:03:39.595Z"
   },
   {
    "duration": 269,
    "start_time": "2022-02-13T08:04:14.388Z"
   },
   {
    "duration": 36,
    "start_time": "2022-02-13T08:04:36.027Z"
   },
   {
    "duration": 35,
    "start_time": "2022-02-13T08:05:47.749Z"
   },
   {
    "duration": 354,
    "start_time": "2022-02-13T08:12:26.153Z"
   },
   {
    "duration": 28,
    "start_time": "2022-02-13T08:12:35.891Z"
   },
   {
    "duration": 21,
    "start_time": "2022-02-13T08:12:42.797Z"
   },
   {
    "duration": 20,
    "start_time": "2022-02-13T08:12:50.970Z"
   },
   {
    "duration": 17,
    "start_time": "2022-02-13T08:13:00.759Z"
   },
   {
    "duration": 5,
    "start_time": "2022-02-13T08:14:04.487Z"
   },
   {
    "duration": 33,
    "start_time": "2022-02-13T08:14:04.776Z"
   },
   {
    "duration": 34,
    "start_time": "2022-02-13T08:14:09.227Z"
   },
   {
    "duration": 6,
    "start_time": "2022-02-13T08:14:27.311Z"
   },
   {
    "duration": 320,
    "start_time": "2022-02-13T08:15:09.802Z"
   },
   {
    "duration": 34,
    "start_time": "2022-02-13T08:15:21.066Z"
   },
   {
    "duration": 9,
    "start_time": "2022-02-13T08:15:31.823Z"
   },
   {
    "duration": 273,
    "start_time": "2022-02-13T08:16:12.194Z"
   },
   {
    "duration": 23,
    "start_time": "2022-02-13T08:16:33.533Z"
   },
   {
    "duration": 7,
    "start_time": "2022-02-13T08:16:50.969Z"
   },
   {
    "duration": 377,
    "start_time": "2022-02-13T08:17:09.083Z"
   },
   {
    "duration": 7,
    "start_time": "2022-02-13T08:19:52.268Z"
   },
   {
    "duration": 5,
    "start_time": "2022-02-13T08:20:16.416Z"
   },
   {
    "duration": 33,
    "start_time": "2022-02-13T08:20:17.745Z"
   },
   {
    "duration": 35,
    "start_time": "2022-02-13T08:20:21.598Z"
   },
   {
    "duration": 280,
    "start_time": "2022-02-13T08:21:34.827Z"
   },
   {
    "duration": 317,
    "start_time": "2022-02-13T08:21:47.790Z"
   },
   {
    "duration": 272,
    "start_time": "2022-02-13T08:21:55.131Z"
   },
   {
    "duration": 8,
    "start_time": "2022-02-13T08:22:08.130Z"
   },
   {
    "duration": 25,
    "start_time": "2022-02-13T08:22:34.731Z"
   },
   {
    "duration": 5,
    "start_time": "2022-02-13T08:22:42.929Z"
   },
   {
    "duration": 25,
    "start_time": "2022-02-13T08:22:47.149Z"
   },
   {
    "duration": 5,
    "start_time": "2022-02-13T08:22:58.197Z"
   },
   {
    "duration": 35,
    "start_time": "2022-02-13T08:23:04.745Z"
   },
   {
    "duration": 6,
    "start_time": "2022-02-13T08:23:25.849Z"
   },
   {
    "duration": 27,
    "start_time": "2022-02-13T08:23:32.149Z"
   },
   {
    "duration": 5,
    "start_time": "2022-02-13T08:23:49.593Z"
   },
   {
    "duration": 26,
    "start_time": "2022-02-13T08:23:52.191Z"
   },
   {
    "duration": 10,
    "start_time": "2022-02-13T08:24:30.456Z"
   },
   {
    "duration": 273,
    "start_time": "2022-02-13T08:24:31.642Z"
   },
   {
    "duration": 24,
    "start_time": "2022-02-13T08:24:56.782Z"
   },
   {
    "duration": 8,
    "start_time": "2022-02-13T08:25:04.100Z"
   },
   {
    "duration": 56,
    "start_time": "2022-02-13T08:25:18.475Z"
   },
   {
    "duration": 10,
    "start_time": "2022-02-13T08:25:21.859Z"
   },
   {
    "duration": 5,
    "start_time": "2022-02-13T08:25:22.962Z"
   },
   {
    "duration": 4,
    "start_time": "2022-02-13T08:25:23.219Z"
   },
   {
    "duration": 7,
    "start_time": "2022-02-13T08:25:24.424Z"
   },
   {
    "duration": 8,
    "start_time": "2022-02-13T08:25:25.614Z"
   },
   {
    "duration": 5,
    "start_time": "2022-02-13T08:25:26.988Z"
   },
   {
    "duration": 34,
    "start_time": "2022-02-13T08:25:27.726Z"
   },
   {
    "duration": 34,
    "start_time": "2022-02-13T08:25:29.191Z"
   },
   {
    "duration": 18,
    "start_time": "2022-02-13T08:25:45.339Z"
   },
   {
    "duration": 24,
    "start_time": "2022-02-13T08:25:54.833Z"
   },
   {
    "duration": 10,
    "start_time": "2022-02-13T08:26:10.058Z"
   },
   {
    "duration": 7,
    "start_time": "2022-02-13T08:26:10.378Z"
   },
   {
    "duration": 7,
    "start_time": "2022-02-13T08:26:13.217Z"
   },
   {
    "duration": 14,
    "start_time": "2022-02-13T08:31:45.948Z"
   },
   {
    "duration": 24,
    "start_time": "2022-02-13T08:31:50.389Z"
   },
   {
    "duration": 5,
    "start_time": "2022-02-13T08:32:04.042Z"
   },
   {
    "duration": 34,
    "start_time": "2022-02-13T08:32:04.546Z"
   },
   {
    "duration": 36,
    "start_time": "2022-02-13T08:32:07.726Z"
   },
   {
    "duration": 19,
    "start_time": "2022-02-13T08:32:21.088Z"
   },
   {
    "duration": 24,
    "start_time": "2022-02-13T08:32:21.541Z"
   },
   {
    "duration": 8,
    "start_time": "2022-02-13T08:32:29.272Z"
   },
   {
    "duration": 252,
    "start_time": "2022-02-13T08:32:32.910Z"
   },
   {
    "duration": 375,
    "start_time": "2022-02-13T08:32:52.247Z"
   },
   {
    "duration": 400,
    "start_time": "2022-02-13T08:33:04.272Z"
   },
   {
    "duration": 210,
    "start_time": "2022-02-13T08:33:09.053Z"
   },
   {
    "duration": 198,
    "start_time": "2022-02-13T08:33:13.953Z"
   },
   {
    "duration": 248,
    "start_time": "2022-02-13T08:33:19.323Z"
   },
   {
    "duration": 218,
    "start_time": "2022-02-13T08:33:22.873Z"
   },
   {
    "duration": 6,
    "start_time": "2022-02-13T08:35:25.356Z"
   },
   {
    "duration": 34,
    "start_time": "2022-02-13T08:35:26.291Z"
   },
   {
    "duration": 35,
    "start_time": "2022-02-13T08:35:27.383Z"
   },
   {
    "duration": 14,
    "start_time": "2022-02-13T08:35:38.425Z"
   },
   {
    "duration": 23,
    "start_time": "2022-02-13T08:35:38.893Z"
   },
   {
    "duration": 8,
    "start_time": "2022-02-13T08:35:42.748Z"
   },
   {
    "duration": 136,
    "start_time": "2022-02-13T08:35:45.330Z"
   },
   {
    "duration": 4,
    "start_time": "2022-02-13T08:48:23.603Z"
   },
   {
    "duration": 271,
    "start_time": "2022-02-13T08:49:37.476Z"
   },
   {
    "duration": 26,
    "start_time": "2022-02-13T08:49:45.096Z"
   },
   {
    "duration": 281,
    "start_time": "2022-02-13T08:49:52.396Z"
   },
   {
    "duration": 5,
    "start_time": "2022-02-13T08:50:58.163Z"
   },
   {
    "duration": 25,
    "start_time": "2022-02-13T08:51:31.512Z"
   },
   {
    "duration": 7,
    "start_time": "2022-02-13T08:52:19.405Z"
   },
   {
    "duration": 51,
    "start_time": "2022-02-13T08:52:19.674Z"
   },
   {
    "duration": 56,
    "start_time": "2022-02-13T08:52:20.270Z"
   },
   {
    "duration": 9,
    "start_time": "2022-02-13T08:53:08.174Z"
   },
   {
    "duration": 19,
    "start_time": "2022-02-13T08:53:10.501Z"
   },
   {
    "duration": 214,
    "start_time": "2022-02-13T08:53:23.235Z"
   },
   {
    "duration": 252,
    "start_time": "2022-02-13T08:53:38.535Z"
   },
   {
    "duration": 296,
    "start_time": "2022-02-13T08:54:08.997Z"
   },
   {
    "duration": 265,
    "start_time": "2022-02-13T08:54:55.174Z"
   },
   {
    "duration": 4,
    "start_time": "2022-02-13T08:54:59.048Z"
   },
   {
    "duration": 301,
    "start_time": "2022-02-13T08:55:09.461Z"
   },
   {
    "duration": 268,
    "start_time": "2022-02-13T09:00:05.048Z"
   },
   {
    "duration": 344,
    "start_time": "2022-02-13T09:00:13.139Z"
   },
   {
    "duration": 285,
    "start_time": "2022-02-13T09:01:01.774Z"
   },
   {
    "duration": 348,
    "start_time": "2022-02-13T09:01:15.871Z"
   },
   {
    "duration": 106,
    "start_time": "2022-02-13T09:01:38.016Z"
   },
   {
    "duration": 307,
    "start_time": "2022-02-13T09:01:49.178Z"
   },
   {
    "duration": 4,
    "start_time": "2022-02-13T09:05:39.053Z"
   },
   {
    "duration": 4,
    "start_time": "2022-02-13T09:05:44.972Z"
   },
   {
    "duration": 5,
    "start_time": "2022-02-13T09:05:57.035Z"
   },
   {
    "duration": 270,
    "start_time": "2022-02-13T09:05:59.108Z"
   },
   {
    "duration": 540,
    "start_time": "2022-02-13T09:10:04.483Z"
   },
   {
    "duration": 266,
    "start_time": "2022-02-13T09:10:27.885Z"
   },
   {
    "duration": 32545,
    "start_time": "2022-02-13T12:53:24.113Z"
   },
   {
    "duration": 3,
    "start_time": "2022-02-13T12:55:31.989Z"
   },
   {
    "duration": 2206,
    "start_time": "2022-02-13T12:55:36.432Z"
   },
   {
    "duration": 17,
    "start_time": "2022-02-13T12:55:38.640Z"
   },
   {
    "duration": 45,
    "start_time": "2022-02-13T12:55:42.051Z"
   },
   {
    "duration": 7,
    "start_time": "2022-02-13T12:55:45.325Z"
   },
   {
    "duration": 6,
    "start_time": "2022-02-13T12:55:47.530Z"
   },
   {
    "duration": 3,
    "start_time": "2022-02-13T12:55:48.317Z"
   },
   {
    "duration": 3,
    "start_time": "2022-02-13T12:55:48.581Z"
   },
   {
    "duration": 5,
    "start_time": "2022-02-13T12:55:49.668Z"
   },
   {
    "duration": 6,
    "start_time": "2022-02-13T12:55:51.017Z"
   },
   {
    "duration": 5,
    "start_time": "2022-02-13T12:56:13.607Z"
   },
   {
    "duration": 20,
    "start_time": "2022-02-13T12:56:15.897Z"
   },
   {
    "duration": 21,
    "start_time": "2022-02-13T12:56:18.403Z"
   },
   {
    "duration": 7,
    "start_time": "2022-02-13T12:56:44.304Z"
   },
   {
    "duration": 2078,
    "start_time": "2022-02-13T13:01:26.371Z"
   },
   {
    "duration": 13,
    "start_time": "2022-02-13T13:01:28.451Z"
   },
   {
    "duration": 47,
    "start_time": "2022-02-13T13:01:30.235Z"
   },
   {
    "duration": 7,
    "start_time": "2022-02-13T13:01:32.427Z"
   },
   {
    "duration": 7,
    "start_time": "2022-02-13T13:01:33.901Z"
   },
   {
    "duration": 4,
    "start_time": "2022-02-13T13:01:34.843Z"
   },
   {
    "duration": 3,
    "start_time": "2022-02-13T13:01:35.075Z"
   },
   {
    "duration": 5,
    "start_time": "2022-02-13T13:01:36.538Z"
   },
   {
    "duration": 5,
    "start_time": "2022-02-13T13:01:37.568Z"
   },
   {
    "duration": 5,
    "start_time": "2022-02-13T13:01:38.694Z"
   },
   {
    "duration": 19,
    "start_time": "2022-02-13T13:01:38.955Z"
   },
   {
    "duration": 21,
    "start_time": "2022-02-13T13:01:40.201Z"
   },
   {
    "duration": 3,
    "start_time": "2022-02-13T13:01:56.797Z"
   },
   {
    "duration": 444,
    "start_time": "2022-02-13T13:03:01.715Z"
   },
   {
    "duration": 7,
    "start_time": "2022-02-13T13:03:06.686Z"
   },
   {
    "duration": 12,
    "start_time": "2022-02-13T13:03:09.087Z"
   },
   {
    "duration": 114,
    "start_time": "2022-02-13T13:03:37.565Z"
   },
   {
    "duration": 106,
    "start_time": "2022-02-13T13:03:46.383Z"
   },
   {
    "duration": 8,
    "start_time": "2022-02-13T13:04:00.651Z"
   },
   {
    "duration": 12,
    "start_time": "2022-02-13T13:04:04.193Z"
   },
   {
    "duration": 3,
    "start_time": "2022-02-13T13:04:09.653Z"
   },
   {
    "duration": 2638,
    "start_time": "2022-02-13T13:04:14.149Z"
   },
   {
    "duration": 3,
    "start_time": "2022-02-13T13:04:36.313Z"
   },
   {
    "duration": 6165,
    "start_time": "2022-02-13T13:04:38.299Z"
   },
   {
    "duration": 3,
    "start_time": "2022-02-13T13:04:54.922Z"
   },
   {
    "duration": 727,
    "start_time": "2022-02-13T13:04:55.816Z"
   },
   {
    "duration": 3,
    "start_time": "2022-02-13T13:05:16.111Z"
   },
   {
    "duration": 732,
    "start_time": "2022-02-13T13:05:16.640Z"
   },
   {
    "duration": 332,
    "start_time": "2022-02-13T13:06:12.976Z"
   },
   {
    "duration": 3,
    "start_time": "2022-02-13T13:07:21.665Z"
   },
   {
    "duration": 324,
    "start_time": "2022-02-13T13:07:37.332Z"
   },
   {
    "duration": 332,
    "start_time": "2022-02-13T13:07:49.516Z"
   },
   {
    "duration": 4,
    "start_time": "2022-02-13T13:07:58.987Z"
   },
   {
    "duration": 2,
    "start_time": "2022-02-13T13:08:29.021Z"
   },
   {
    "duration": 880,
    "start_time": "2022-02-13T13:08:29.521Z"
   },
   {
    "duration": 283,
    "start_time": "2022-02-13T13:08:36.004Z"
   },
   {
    "duration": 286,
    "start_time": "2022-02-13T13:08:38.757Z"
   },
   {
    "duration": 5,
    "start_time": "2022-02-13T13:08:43.891Z"
   },
   {
    "duration": 3,
    "start_time": "2022-02-13T13:09:08.153Z"
   },
   {
    "duration": 1015,
    "start_time": "2022-02-13T13:09:08.425Z"
   },
   {
    "duration": 578,
    "start_time": "2022-02-13T13:09:11.992Z"
   },
   {
    "duration": 590,
    "start_time": "2022-02-13T13:09:15.985Z"
   },
   {
    "duration": 3,
    "start_time": "2022-02-13T13:09:33.771Z"
   },
   {
    "duration": 1472,
    "start_time": "2022-02-13T13:09:34.101Z"
   },
   {
    "duration": 674,
    "start_time": "2022-02-13T13:09:39.479Z"
   },
   {
    "duration": 653,
    "start_time": "2022-02-13T13:09:41.908Z"
   },
   {
    "duration": 3,
    "start_time": "2022-02-13T13:09:55.278Z"
   },
   {
    "duration": 405,
    "start_time": "2022-02-13T13:09:55.631Z"
   },
   {
    "duration": 2,
    "start_time": "2022-02-13T13:10:16.054Z"
   },
   {
    "duration": 1589,
    "start_time": "2022-02-13T13:10:16.318Z"
   },
   {
    "duration": 1056,
    "start_time": "2022-02-13T13:10:20.293Z"
   },
   {
    "duration": 878,
    "start_time": "2022-02-13T13:10:23.708Z"
   },
   {
    "duration": 3,
    "start_time": "2022-02-13T13:10:45.133Z"
   },
   {
    "duration": 2451,
    "start_time": "2022-02-13T13:10:45.425Z"
   },
   {
    "duration": 3,
    "start_time": "2022-02-13T13:11:02.101Z"
   },
   {
    "duration": 1458,
    "start_time": "2022-02-13T13:11:02.370Z"
   },
   {
    "duration": 437,
    "start_time": "2022-02-13T13:11:06.273Z"
   },
   {
    "duration": 448,
    "start_time": "2022-02-13T13:11:08.581Z"
   },
   {
    "duration": 4,
    "start_time": "2022-02-13T13:11:11.536Z"
   },
   {
    "duration": 3,
    "start_time": "2022-02-13T13:11:39.475Z"
   },
   {
    "duration": 2604,
    "start_time": "2022-02-13T13:11:40.595Z"
   },
   {
    "duration": 3,
    "start_time": "2022-02-13T13:11:48.720Z"
   },
   {
    "duration": 1574,
    "start_time": "2022-02-13T13:11:49.047Z"
   },
   {
    "duration": 3,
    "start_time": "2022-02-13T13:12:01.924Z"
   },
   {
    "duration": 1009,
    "start_time": "2022-02-13T13:12:05.972Z"
   },
   {
    "duration": 3,
    "start_time": "2022-02-13T13:12:10.329Z"
   },
   {
    "duration": 858,
    "start_time": "2022-02-13T13:12:11.934Z"
   },
   {
    "duration": 865,
    "start_time": "2022-02-13T13:12:20.542Z"
   },
   {
    "duration": 3,
    "start_time": "2022-02-13T13:12:24.973Z"
   },
   {
    "duration": 4001,
    "start_time": "2022-02-13T13:12:25.261Z"
   },
   {
    "duration": 3,
    "start_time": "2022-02-13T13:13:11.267Z"
   },
   {
    "duration": 4674,
    "start_time": "2022-02-13T13:13:11.606Z"
   },
   {
    "duration": 8796,
    "start_time": "2022-02-13T13:14:30.556Z"
   },
   {
    "duration": 385,
    "start_time": "2022-02-13T13:14:50.560Z"
   },
   {
    "duration": 106,
    "start_time": "2022-02-13T13:15:01.270Z"
   },
   {
    "duration": 22368,
    "start_time": "2022-02-13T13:15:09.659Z"
   },
   {
    "duration": 10,
    "start_time": "2022-02-13T13:15:38.593Z"
   },
   {
    "duration": 745,
    "start_time": "2022-02-13T13:36:09.540Z"
   },
   {
    "duration": 5051,
    "start_time": "2022-02-13T13:36:24.975Z"
   },
   {
    "duration": 214,
    "start_time": "2022-02-13T13:38:00.496Z"
   },
   {
    "duration": 4,
    "start_time": "2022-02-13T13:39:02.497Z"
   },
   {
    "duration": 3,
    "start_time": "2022-02-13T13:39:04.158Z"
   },
   {
    "duration": 38,
    "start_time": "2022-02-13T13:39:06.024Z"
   },
   {
    "duration": 7,
    "start_time": "2022-02-13T13:39:09.642Z"
   },
   {
    "duration": 7,
    "start_time": "2022-02-13T13:39:10.915Z"
   },
   {
    "duration": 3,
    "start_time": "2022-02-13T13:39:11.936Z"
   },
   {
    "duration": 4,
    "start_time": "2022-02-13T13:39:12.188Z"
   },
   {
    "duration": 4,
    "start_time": "2022-02-13T13:39:13.478Z"
   },
   {
    "duration": 7,
    "start_time": "2022-02-13T13:39:14.739Z"
   },
   {
    "duration": 29,
    "start_time": "2022-02-13T13:39:16.717Z"
   },
   {
    "duration": 119,
    "start_time": "2022-02-13T13:39:21.149Z"
   },
   {
    "duration": 9,
    "start_time": "2022-02-13T13:39:34.088Z"
   },
   {
    "duration": 9590,
    "start_time": "2022-02-13T13:39:49.446Z"
   },
   {
    "duration": 15403,
    "start_time": "2022-02-13T13:40:04.030Z"
   },
   {
    "duration": 3,
    "start_time": "2022-02-13T13:41:00.853Z"
   },
   {
    "duration": 3699,
    "start_time": "2022-02-13T13:42:05.594Z"
   },
   {
    "duration": 3926,
    "start_time": "2022-02-13T13:42:27.558Z"
   },
   {
    "duration": 3,
    "start_time": "2022-02-13T13:51:48.929Z"
   },
   {
    "duration": 160,
    "start_time": "2022-02-13T13:56:42.260Z"
   },
   {
    "duration": 353,
    "start_time": "2022-02-13T13:56:50.683Z"
   },
   {
    "duration": 426,
    "start_time": "2022-02-13T13:57:19.754Z"
   },
   {
    "duration": 404,
    "start_time": "2022-02-13T13:57:24.583Z"
   },
   {
    "duration": 328,
    "start_time": "2022-02-13T13:57:59.749Z"
   },
   {
    "duration": 4,
    "start_time": "2022-02-13T13:58:18.888Z"
   },
   {
    "duration": 14856,
    "start_time": "2022-02-13T13:58:48.061Z"
   },
   {
    "duration": 206499,
    "start_time": "2022-02-13T13:59:18.683Z"
   },
   {
    "duration": 608578,
    "start_time": "2022-02-13T14:03:49.292Z"
   },
   {
    "duration": 4,
    "start_time": "2022-02-13T14:14:07.074Z"
   },
   {
    "duration": 4,
    "start_time": "2022-02-13T14:14:18.059Z"
   },
   {
    "duration": 3,
    "start_time": "2022-02-13T14:14:34.885Z"
   },
   {
    "duration": 4,
    "start_time": "2022-02-13T14:14:41.520Z"
   },
   {
    "duration": 263716,
    "start_time": "2022-02-13T14:15:02.924Z"
   },
   {
    "duration": 37953,
    "start_time": "2022-02-13T14:19:41.661Z"
   },
   {
    "duration": 15967,
    "start_time": "2022-02-13T14:20:30.892Z"
   },
   {
    "duration": 9129,
    "start_time": "2022-02-13T14:20:56.183Z"
   },
   {
    "duration": 13451,
    "start_time": "2022-02-13T14:21:16.556Z"
   },
   {
    "duration": 14184,
    "start_time": "2022-02-13T14:21:40.270Z"
   },
   {
    "duration": 370,
    "start_time": "2022-02-13T14:21:56.551Z"
   },
   {
    "duration": 4,
    "start_time": "2022-02-13T14:22:02.617Z"
   },
   {
    "duration": 51955,
    "start_time": "2022-02-13T14:22:47.192Z"
   },
   {
    "duration": 7785,
    "start_time": "2022-02-13T14:23:47.436Z"
   },
   {
    "duration": 131,
    "start_time": "2022-02-13T14:24:33.667Z"
   },
   {
    "duration": 38615,
    "start_time": "2022-02-13T14:24:50.971Z"
   },
   {
    "duration": 321463,
    "start_time": "2022-02-13T14:27:08.165Z"
   },
   {
    "duration": 149228,
    "start_time": "2022-02-13T14:32:32.200Z"
   },
   {
    "duration": 237841,
    "start_time": "2022-02-13T14:35:14.938Z"
   },
   {
    "duration": 108,
    "start_time": "2022-02-13T14:39:22.444Z"
   },
   {
    "duration": 101,
    "start_time": "2022-02-13T14:39:28.044Z"
   },
   {
    "duration": 4158,
    "start_time": "2022-02-13T14:39:36.505Z"
   },
   {
    "duration": 8,
    "start_time": "2022-02-13T14:40:14.685Z"
   },
   {
    "duration": 4017,
    "start_time": "2022-02-13T14:40:29.224Z"
   },
   {
    "duration": 7,
    "start_time": "2022-02-13T14:40:34.682Z"
   },
   {
    "duration": 3803,
    "start_time": "2022-02-13T14:40:47.122Z"
   },
   {
    "duration": 7,
    "start_time": "2022-02-13T14:40:51.912Z"
   },
   {
    "duration": 334,
    "start_time": "2022-02-13T14:41:10.998Z"
   },
   {
    "duration": 345,
    "start_time": "2022-02-13T14:41:18.988Z"
   },
   {
    "duration": 336,
    "start_time": "2022-02-13T14:41:24.560Z"
   },
   {
    "duration": 373,
    "start_time": "2022-02-13T14:41:52.826Z"
   },
   {
    "duration": 351,
    "start_time": "2022-02-13T14:42:10.776Z"
   },
   {
    "duration": 496,
    "start_time": "2022-02-13T14:42:24.002Z"
   },
   {
    "duration": 35951,
    "start_time": "2022-02-13T14:44:28.566Z"
   },
   {
    "duration": 35000,
    "start_time": "2022-02-13T14:45:32.955Z"
   },
   {
    "duration": 4,
    "start_time": "2022-02-13T14:46:12.634Z"
   },
   {
    "duration": 25956,
    "start_time": "2022-02-13T14:46:55.716Z"
   },
   {
    "duration": 6312,
    "start_time": "2022-02-13T14:47:25.438Z"
   },
   {
    "duration": 4,
    "start_time": "2022-02-13T14:47:48.651Z"
   },
   {
    "duration": 390,
    "start_time": "2022-02-13T14:50:30.263Z"
   },
   {
    "duration": 109,
    "start_time": "2022-02-13T15:02:00.080Z"
   },
   {
    "duration": 375,
    "start_time": "2022-02-13T15:02:13.135Z"
   },
   {
    "duration": 416,
    "start_time": "2022-02-13T15:02:54.316Z"
   },
   {
    "duration": 346,
    "start_time": "2022-02-13T15:04:02.484Z"
   },
   {
    "duration": 404,
    "start_time": "2022-02-13T15:06:53.187Z"
   },
   {
    "duration": 394,
    "start_time": "2022-02-13T15:07:14.156Z"
   },
   {
    "duration": 364,
    "start_time": "2022-02-13T15:07:26.796Z"
   },
   {
    "duration": 383,
    "start_time": "2022-02-13T15:08:01.276Z"
   },
   {
    "duration": 589,
    "start_time": "2022-02-13T15:08:09.978Z"
   },
   {
    "duration": 350,
    "start_time": "2022-02-13T15:08:37.242Z"
   },
   {
    "duration": 579,
    "start_time": "2022-02-13T15:08:55.518Z"
   },
   {
    "duration": 383,
    "start_time": "2022-02-13T15:11:18.084Z"
   },
   {
    "duration": 366,
    "start_time": "2022-02-13T15:11:24.775Z"
   },
   {
    "duration": 368,
    "start_time": "2022-02-13T15:11:27.691Z"
   },
   {
    "duration": 2605,
    "start_time": "2022-02-13T15:11:36.697Z"
   },
   {
    "duration": 23,
    "start_time": "2022-02-13T15:11:39.305Z"
   },
   {
    "duration": 65,
    "start_time": "2022-02-13T15:11:46.171Z"
   },
   {
    "duration": 1687,
    "start_time": "2022-02-13T15:11:46.238Z"
   },
   {
    "duration": 8,
    "start_time": "2022-02-13T15:11:49.551Z"
   },
   {
    "duration": 1229,
    "start_time": "2022-02-13T15:11:49.561Z"
   },
   {
    "duration": 1661,
    "start_time": "2022-02-13T15:11:50.792Z"
   },
   {
    "duration": 1050,
    "start_time": "2022-02-13T15:11:52.455Z"
   },
   {
    "duration": 1571,
    "start_time": "2022-02-13T15:11:53.507Z"
   },
   {
    "duration": 983,
    "start_time": "2022-02-13T15:11:55.080Z"
   },
   {
    "duration": 422,
    "start_time": "2022-02-13T15:12:06.702Z"
   },
   {
    "duration": 11,
    "start_time": "2022-02-13T15:12:16.156Z"
   },
   {
    "duration": 330,
    "start_time": "2022-02-13T15:12:24.409Z"
   },
   {
    "duration": 19545,
    "start_time": "2022-02-13T15:12:31.437Z"
   },
   {
    "duration": 386,
    "start_time": "2022-02-13T15:13:04.067Z"
   },
   {
    "duration": 719862,
    "start_time": "2022-02-13T15:13:31.073Z"
   },
   {
    "duration": 12,
    "start_time": "2022-02-13T15:25:30.937Z"
   },
   {
    "duration": 3,
    "start_time": "2022-02-13T15:43:33.919Z"
   },
   {
    "duration": 24878,
    "start_time": "2022-02-13T15:46:14.769Z"
   },
   {
    "duration": 196,
    "start_time": "2022-02-13T15:51:23.182Z"
   },
   {
    "duration": 46242,
    "start_time": "2022-02-13T15:51:30.878Z"
   },
   {
    "duration": 17990,
    "start_time": "2022-02-13T15:53:01.513Z"
   },
   {
    "duration": 119630,
    "start_time": "2022-02-13T15:55:24.233Z"
   },
   {
    "duration": 550,
    "start_time": "2022-02-13T15:58:12.840Z"
   },
   {
    "duration": 10012,
    "start_time": "2022-02-13T16:01:02.334Z"
   },
   {
    "duration": 2338,
    "start_time": "2022-02-13T16:01:24.255Z"
   },
   {
    "duration": 14,
    "start_time": "2022-02-13T16:01:26.595Z"
   },
   {
    "duration": 46,
    "start_time": "2022-02-13T16:01:29.201Z"
   },
   {
    "duration": 7,
    "start_time": "2022-02-13T16:01:33.990Z"
   },
   {
    "duration": 3,
    "start_time": "2022-02-13T16:01:34.780Z"
   },
   {
    "duration": 392,
    "start_time": "2022-02-13T16:01:35.067Z"
   },
   {
    "duration": 5,
    "start_time": "2022-02-13T16:01:36.233Z"
   },
   {
    "duration": 5,
    "start_time": "2022-02-13T16:01:37.864Z"
   },
   {
    "duration": 21,
    "start_time": "2022-02-13T16:01:39.519Z"
   },
   {
    "duration": 7,
    "start_time": "2022-02-13T16:01:52.263Z"
   },
   {
    "duration": 51946,
    "start_time": "2022-02-13T16:02:01.100Z"
   },
   {
    "duration": 440,
    "start_time": "2022-02-13T16:02:53.048Z"
   },
   {
    "duration": 2,
    "start_time": "2022-02-13T16:03:32.923Z"
   },
   {
    "duration": 4361,
    "start_time": "2022-02-13T16:03:43.565Z"
   },
   {
    "duration": 55908,
    "start_time": "2022-02-13T16:03:58.027Z"
   },
   {
    "duration": 3,
    "start_time": "2022-02-13T16:09:41.653Z"
   },
   {
    "duration": 328,
    "start_time": "2022-02-13T16:13:48.472Z"
   },
   {
    "duration": 340,
    "start_time": "2022-02-13T16:14:27.976Z"
   },
   {
    "duration": 396,
    "start_time": "2022-02-13T16:14:36.624Z"
   },
   {
    "duration": 333,
    "start_time": "2022-02-13T16:14:44.747Z"
   },
   {
    "duration": 338,
    "start_time": "2022-02-13T16:14:50.071Z"
   },
   {
    "duration": 325,
    "start_time": "2022-02-13T16:14:57.275Z"
   },
   {
    "duration": 344,
    "start_time": "2022-02-13T16:15:13.685Z"
   },
   {
    "duration": 371,
    "start_time": "2022-02-13T16:16:33.563Z"
   },
   {
    "duration": 2666,
    "start_time": "2022-02-13T16:16:40.020Z"
   },
   {
    "duration": 2591,
    "start_time": "2022-02-13T16:17:19.207Z"
   },
   {
    "duration": 110,
    "start_time": "2022-02-13T16:22:43.400Z"
   },
   {
    "duration": 291,
    "start_time": "2022-02-13T16:24:40.210Z"
   },
   {
    "duration": 2,
    "start_time": "2022-02-13T16:24:45.475Z"
   },
   {
    "duration": 141646,
    "start_time": "2022-02-13T16:24:49.193Z"
   },
   {
    "duration": 23936,
    "start_time": "2022-02-13T16:27:13.727Z"
   },
   {
    "duration": 290,
    "start_time": "2022-02-13T16:29:46.371Z"
   },
   {
    "duration": 4,
    "start_time": "2022-02-13T16:29:49.280Z"
   },
   {
    "duration": 13383,
    "start_time": "2022-02-13T16:29:51.504Z"
   },
   {
    "duration": 9068,
    "start_time": "2022-02-13T16:30:08.473Z"
   },
   {
    "duration": 19713,
    "start_time": "2022-02-13T16:31:48.444Z"
   },
   {
    "duration": 40,
    "start_time": "2022-02-13T16:32:13.440Z"
   },
   {
    "duration": 324,
    "start_time": "2022-02-13T16:33:15.368Z"
   },
   {
    "duration": 377,
    "start_time": "2022-02-13T16:39:45.201Z"
   },
   {
    "duration": 1489,
    "start_time": "2022-02-13T16:40:23.336Z"
   },
   {
    "duration": 237959,
    "start_time": "2022-02-13T16:40:31.361Z"
   },
   {
    "duration": 9900,
    "start_time": "2022-02-13T16:46:26.113Z"
   },
   {
    "duration": 104,
    "start_time": "2022-02-13T16:55:55.640Z"
   },
   {
    "duration": 2,
    "start_time": "2022-02-13T16:56:40.691Z"
   },
   {
    "duration": 3,
    "start_time": "2022-02-13T17:00:05.964Z"
   },
   {
    "duration": 2210,
    "start_time": "2022-02-13T17:00:05.968Z"
   },
   {
    "duration": 47,
    "start_time": "2022-02-13T17:00:08.180Z"
   },
   {
    "duration": 6,
    "start_time": "2022-02-13T17:00:08.229Z"
   },
   {
    "duration": 26,
    "start_time": "2022-02-13T17:00:08.237Z"
   },
   {
    "duration": 12,
    "start_time": "2022-02-13T17:00:08.265Z"
   },
   {
    "duration": 17,
    "start_time": "2022-02-13T17:00:08.279Z"
   },
   {
    "duration": 21,
    "start_time": "2022-02-13T17:00:08.298Z"
   },
   {
    "duration": 21,
    "start_time": "2022-02-13T17:00:08.321Z"
   },
   {
    "duration": 41,
    "start_time": "2022-02-13T17:00:08.344Z"
   },
   {
    "duration": 90,
    "start_time": "2022-02-13T17:00:08.387Z"
   },
   {
    "duration": 6,
    "start_time": "2022-02-13T17:00:08.479Z"
   },
   {
    "duration": 164551,
    "start_time": "2022-02-13T17:00:08.486Z"
   },
   {
    "duration": 6079,
    "start_time": "2022-02-13T17:02:53.038Z"
   },
   {
    "duration": 267439,
    "start_time": "2022-02-13T17:02:59.119Z"
   },
   {
    "duration": 26191,
    "start_time": "2022-02-13T17:07:26.560Z"
   },
   {
    "duration": 236072,
    "start_time": "2022-02-13T17:07:52.753Z"
   },
   {
    "duration": 9381,
    "start_time": "2022-02-13T17:11:48.826Z"
   },
   {
    "duration": 3,
    "start_time": "2022-02-13T17:11:58.208Z"
   },
   {
    "duration": 450,
    "start_time": "2022-02-13T17:11:58.212Z"
   },
   {
    "duration": 349,
    "start_time": "2022-02-13T17:11:58.315Z"
   },
   {
    "duration": 349,
    "start_time": "2022-02-13T17:11:58.316Z"
   },
   {
    "duration": 3,
    "start_time": "2022-02-13T17:12:35.022Z"
   },
   {
    "duration": 127528,
    "start_time": "2022-02-13T17:12:38.250Z"
   },
   {
    "duration": 157,
    "start_time": "2022-02-13T17:14:45.781Z"
   },
   {
    "duration": 246,
    "start_time": "2022-02-13T17:14:45.940Z"
   }
  ],
  "kernelspec": {
   "display_name": "Python 3",
   "language": "python",
   "name": "python3"
  },
  "language_info": {
   "codemirror_mode": {
    "name": "ipython",
    "version": 3
   },
   "file_extension": ".py",
   "mimetype": "text/x-python",
   "name": "python",
   "nbconvert_exporter": "python",
   "pygments_lexer": "ipython3",
   "version": "3.7.8"
  },
  "toc": {
   "base_numbering": 1,
   "nav_menu": {},
   "number_sections": true,
   "sideBar": true,
   "skip_h1_title": true,
   "title_cell": "Содержание",
   "title_sidebar": "Contents",
   "toc_cell": true,
   "toc_position": {},
   "toc_section_display": true,
   "toc_window_display": false
  }
 },
 "nbformat": 4,
 "nbformat_minor": 2
}
