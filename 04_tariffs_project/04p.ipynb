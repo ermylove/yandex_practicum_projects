{
 "cells": [
  {
   "cell_type": "markdown",
   "metadata": {},
   "source": [
    "<div class=\"alert alert-success\">\n",
    "<font size=\"5\"><b>Комментарий ревьюера 3</b></font>\n",
    "\n",
    "Привет) Я твою логику понял. Конечно, при стремлении в бесконечность мы будем стремиться к лимиту в виде средних. Проблема в том, что мы анализируем именно этот период, заданный год использования услуг оператора. В итоге мы не сойдемся к единому мнению, поэтому мне главное, что твоя позиция обоснована и подкреплена определенными соображениями, которые показывают причины такого решения. Это главное, что твоя позиция обоснована. \n",
    "    \n",
    "Работа выполнена хорошо. Ты классно поработал, молодец. Поздравляю со сданным проектом. Надеюсь, он был интересен и познавателен. Спасибо за столь детальный комментарий на мои комментарии) Успехов в дальнейшем пути :)\n",
    "\n",
    "</div>"
   ]
  },
  {
   "cell_type": "markdown",
   "metadata": {},
   "source": [
    "<div class=\"alert alert-info\">\n",
    "<font size=\"5\"><b>Комментарий ревьюера 2</b></font>\n",
    "\n",
    "Привет еще раз. Спасибо, что частично доделал работу. Оформление комментариев по работе сохраняется. Только обозначим, что это вторая итерация. \n",
    "\n",
    "</div>"
   ]
  },
  {
   "cell_type": "markdown",
   "metadata": {},
   "source": [
    "<div class=\"alert alert-info\">\n",
    "<font size=\"5\"><b>Комментарий ревьюера</b></font>\n",
    "\n",
    "Привет, Александр! Спасибо, что прислал задание:) Меня зовут Слепцов Артем и я буду проверять твой проект) Ты проделал большую работу над проектом. Он выполнен уже на достойном уровне. Однако есть моменты, которые еще можно улучшить. Будет здорово, если ты, надеюсь, не против, если я буду на ты, будешь отвечать на комментарии и участвовать в диалоге. Если обращение на ты неприемлемо, то прошу сообщить. \n",
    "\n",
    "Мои комментарии обозначены пометкой **Комментарий ревьюера**. Далее в файле ты сможешь найти их в похожих ячейках:\n",
    "</div>    \n",
    "<div class=\"alert alert-success\">Успех: Если фон комментария зелёный - всё сделано правильно. Рекомендации укажу таким же цветом;</div>\n",
    "        \n",
    "<div class=\"alert alert-warning\">Совет: Оранжевый - некритичные замечания;</div>\n",
    "        \n",
    "<div class=\"alert alert-danger\">Ошибка: Красный - нужно переделать. </div>\n",
    "        \n",
    "Не удаляй эти комментарии и постарайся учесть их в ходе выполнения данного проекта. Свои же комментарии ты можешь обозначать любым заметным способом. \n",
    "\n",
    "</div>"
   ]
  },
  {
   "cell_type": "markdown",
   "metadata": {},
   "source": [
    "# Определение перспективного тарифа для телеком-компании"
   ]
  },
  {
   "cell_type": "markdown",
   "metadata": {},
   "source": [
    "В нашем распоряжении данные 500 пользователей «Мегалайна»: кто они, откуда, каким тарифом пользуются, сколько звонков и сообщений каждый отправил за 2018 год. Нужно проанализировать поведение клиентов и сделать вывод — какой тариф лучше.\n",
    "\n",
    "Проверим гипотезы:  \n",
    "1. Cредняя выручка пользователей тарифов «Ультра» и «Смарт» различаются;\n",
    "2. Cредняя выручка пользователей из Москвы отличается от выручки пользователей из других регионов."
   ]
  },
  {
   "cell_type": "markdown",
   "metadata": {},
   "source": [
    "## Изучение данных из файла"
   ]
  },
  {
   "cell_type": "markdown",
   "metadata": {},
   "source": [
    "<b>Описание тарифов  </b>  \n",
    "\n",
    "<b>Тариф «Смарт» </b>   \n",
    "\n",
    "Ежемесячная плата: 550 рублей  \n",
    "Включено 500 минут разговора, 50 сообщений и 15 Гб интернет-трафика  \n",
    "\n",
    "Стоимость услуг сверх тарифного пакета:  \n",
    "1. минута разговора: 3 рубля («Мегалайн» всегда округляет вверх значения минут и мегабайтов. Если пользователь проговорил всего 1 секунду, в тарифе засчитывается целая минута);  \n",
    "2. сообщение: 3 рубля;\n",
    "3. 1 Гб интернет-трафика: 200 рублей.\n",
    "\n",
    "\n",
    "<b>Тариф «Ультра»  </b>  \n",
    "\n",
    "Ежемесячная плата: 1950 рублей  \n",
    "Включено 3000 минут разговора, 1000 сообщений и 30 Гб интернет-трафика  \n",
    "\n",
    "Стоимость услуг сверх тарифного пакета:  \n",
    "1. минута разговора: 1 рубль;  \n",
    "2. сообщение: 1 рубль;  \n",
    "3. 1 Гб интернет-трафика: 150 рублей."
   ]
  },
  {
   "cell_type": "markdown",
   "metadata": {},
   "source": [
    "<div class=\"alert alert-success\">\n",
    "<font size=\"5\"><b>Комментарий ревьюера</b></font>\n",
    "\n",
    "Успех: Вступление в работу очень важно. Так ты поясняешь то, чему она посвящена. Здорово, что каждому пункту вводной информации ты уделил внимание. \n",
    "\n",
    "</div>"
   ]
  },
  {
   "cell_type": "markdown",
   "metadata": {},
   "source": [
    "<div class=\"alert alert-warning\">\n",
    "<font size=\"5\"><b>Комментарий ревьюера</b></font>\n",
    "\n",
    "Совет: Я заметил, что ячейки в твоей тетрадке начинаются не с 1. Перед отправкой работы рекомендую перезапускать ноутбук, чтобы убедиться, что все ячейки выполняются корректно.\n",
    "\n",
    "</div>"
   ]
  },
  {
   "cell_type": "markdown",
   "metadata": {},
   "source": [
    "<div class=\"alert alert-success\">\n",
    "<font size=\"5\"><b>Комментарий ревьюера 2</b></font>\n",
    "\n",
    "Успех: Перезапуск проекта позволяет обнаружить и исправить скрытые в коде ошибки. \n",
    "\n",
    "</div>"
   ]
  },
  {
   "cell_type": "code",
   "execution_count": 1,
   "metadata": {},
   "outputs": [],
   "source": [
    "import warnings\n",
    "\n",
    "warnings.simplefilter('ignore')"
   ]
  },
  {
   "cell_type": "code",
   "execution_count": 2,
   "metadata": {},
   "outputs": [],
   "source": [
    "import pandas as pd\n",
    "import seaborn as sns\n",
    "import numpy as np\n",
    "import matplotlib.pyplot as plt\n",
    "import datetime\n",
    "import scipy.stats as stats"
   ]
  },
  {
   "cell_type": "markdown",
   "metadata": {},
   "source": [
    "<div class=\"alert alert-success\">\n",
    "<font size=\"5\"><b>Комментарий ревьюера</b></font>\n",
    "\n",
    "Успех: Правильно, что весь импорт ты проводишь в начале работы. Так твой коллега, запускающий работу, будет в курсе используемых в ней библиотек и сможет при необходимости быстро настроить окружение. \n",
    "\n",
    "</div>"
   ]
  },
  {
   "cell_type": "code",
   "execution_count": 3,
   "metadata": {},
   "outputs": [],
   "source": [
    "cf = pd.read_csv('/datasets/calls.csv', parse_dates =['call_date'])\n",
    "i_f = pd.read_csv('/datasets/internet.csv',index_col=0, parse_dates =['session_date'])\n",
    "mf = pd.read_csv('/datasets/messages.csv', parse_dates =['message_date'])\n",
    "tf = pd.read_csv('/datasets/tariffs.csv')\n",
    "uf = pd.read_csv('/datasets/users.csv', parse_dates =['churn_date','reg_date'])"
   ]
  },
  {
   "cell_type": "markdown",
   "metadata": {},
   "source": [
    "<b>Таблица users (информация о пользователях):</b>  \n",
    "\n",
    "user_id — уникальный идентификатор пользователя  \n",
    "first_name — имя пользователя  \n",
    "last_name — фамилия пользователя  \n",
    "age — возраст пользователя (годы)  \n",
    "reg_date — дата подключения тарифа (день, месяц, год)  \n",
    "churn_date — дата прекращения пользования тарифом (если значение пропущено, то тариф ещё действовал на момент выгрузки данных)  \n",
    "city — город проживания пользователя  \n",
    "tarif — название тарифного плана  \n",
    "Таблица calls (информация о звонках):  \n",
    "id — уникальный номер звонка  \n",
    "call_date — дата звонка  \n",
    "duration — длительность звонка в минутах  \n",
    "user_id — идентификатор пользователя, сделавшего звонок  \n",
    "\n",
    "\n",
    "<b>Таблица messages (информация о сообщениях):</b> \n",
    "\n",
    "id — уникальный номер сообщения  \n",
    "message_date — дата сообщения  \n",
    "user_id — идентификатор пользователя, отправившего сообщение  \n",
    "\n",
    "\n",
    "<b>Таблица internet (информация об интернет-сессиях):</b> \n",
    "\n",
    "id — уникальный номер сессии  \n",
    "mb_used — объём потраченного за сессию интернет-трафика (в мегабайтах)  \n",
    "session_date — дата интернет-сессии  \n",
    "user_id — идентификатор пользователя  \n",
    "\n",
    "\n",
    "<b>Таблица tariffs (информация о тарифах):</b> \n",
    "\n",
    "tariff_name — название тарифа  \n",
    "rub_monthly_fee — ежемесячная абонентская плата в рублях  \n",
    "minutes_included — количество минут разговора в месяц, включённых в абонентскую плату  \n",
    "messages_included — количество сообщений в месяц, включённых в абонентскую плату  \n",
    "mb_per_month_included — объём интернет-трафика, включённого в абонентскую плату (в мегабайтах)  \n",
    "rub_per_minute — стоимость минуты разговора сверх тарифного пакета (например, если в тарифе 100 минут разговора в месяц, то со 101 минуты будет взиматься плата)  \n",
    "rub_per_message — стоимость отправки сообщения сверх тарифного пакета  \n",
    "rub_per_gb — стоимость дополнительного гигабайта интернет-трафика сверх тарифного пакета (1 гигабайт = 1024 мегабайта)  "
   ]
  },
  {
   "cell_type": "code",
   "execution_count": 4,
   "metadata": {
    "scrolled": false
   },
   "outputs": [
    {
     "name": "stdout",
     "output_type": "stream",
     "text": [
      "В DataFrame calls пропусков нет\n",
      "\n",
      "В DataFrame internet пропусков нет\n",
      "\n",
      "В DataFrame messages пропусков нет\n",
      "\n",
      "В DataFrame users пропуски\n",
      "user_id         0\n",
      "age             0\n",
      "churn_date    462\n",
      "city            0\n",
      "first_name      0\n",
      "last_name       0\n",
      "reg_date        0\n",
      "tariff          0\n",
      "dtype: int64\n"
     ]
    }
   ],
   "source": [
    "for df,names in zip([cf, i_f, mf, uf], ['calls', 'internet', 'messages', 'users']):\n",
    "    if df.isna().sum().sum():\n",
    "        print(f\"В DataFrame {names} пропуски\")\n",
    "        print(f'{df.isna().sum()}')\n",
    "    else:\n",
    "        print(f\"В DataFrame {names} пропусков нет\")\n",
    "        print()"
   ]
  },
  {
   "cell_type": "markdown",
   "metadata": {},
   "source": [
    "Присутсвуют только пропуски в колонке churn_date о пропусках в которой предупреждали в условиях (если значение пропущено, то тариф ещё действовал на момент выгрузки данных)."
   ]
  },
  {
   "cell_type": "code",
   "execution_count": 5,
   "metadata": {},
   "outputs": [
    {
     "name": "stdout",
     "output_type": "stream",
     "text": [
      "В DataFrame calls явных дубликатов нет\n",
      "\n",
      "В DataFrame internet явных дубликатов нет\n",
      "\n",
      "В DataFrame messages явных дубликатов нет\n",
      "\n",
      "В DataFrame users явных дубликатов нет\n",
      "\n"
     ]
    }
   ],
   "source": [
    "for df,names in zip([cf, i_f, mf, uf], ['calls', 'internet', 'messages', 'users']):\n",
    "    if df.duplicated().sum():\n",
    "        print(f\"В DataFrame {names} {df.duplicated().sum()} дубликатов\")\n",
    "    else:\n",
    "        print(f\"В DataFrame {names} явных дубликатов нет\")\n",
    "        print()"
   ]
  },
  {
   "cell_type": "code",
   "execution_count": 6,
   "metadata": {
    "scrolled": true
   },
   "outputs": [
    {
     "name": "stdout",
     "output_type": "stream",
     "text": [
      "DataFrame calls\n"
     ]
    },
    {
     "data": {
      "text/html": [
       "<div>\n",
       "<style scoped>\n",
       "    .dataframe tbody tr th:only-of-type {\n",
       "        vertical-align: middle;\n",
       "    }\n",
       "\n",
       "    .dataframe tbody tr th {\n",
       "        vertical-align: top;\n",
       "    }\n",
       "\n",
       "    .dataframe thead th {\n",
       "        text-align: right;\n",
       "    }\n",
       "</style>\n",
       "<table border=\"1\" class=\"dataframe\">\n",
       "  <thead>\n",
       "    <tr style=\"text-align: right;\">\n",
       "      <th></th>\n",
       "      <th>duration</th>\n",
       "      <th>user_id</th>\n",
       "    </tr>\n",
       "  </thead>\n",
       "  <tbody>\n",
       "    <tr>\n",
       "      <td>count</td>\n",
       "      <td>202607.000000</td>\n",
       "      <td>202607.000000</td>\n",
       "    </tr>\n",
       "    <tr>\n",
       "      <td>mean</td>\n",
       "      <td>6.755887</td>\n",
       "      <td>1253.940619</td>\n",
       "    </tr>\n",
       "    <tr>\n",
       "      <td>std</td>\n",
       "      <td>5.843365</td>\n",
       "      <td>144.722751</td>\n",
       "    </tr>\n",
       "    <tr>\n",
       "      <td>min</td>\n",
       "      <td>0.000000</td>\n",
       "      <td>1000.000000</td>\n",
       "    </tr>\n",
       "    <tr>\n",
       "      <td>25%</td>\n",
       "      <td>1.300000</td>\n",
       "      <td>1126.000000</td>\n",
       "    </tr>\n",
       "    <tr>\n",
       "      <td>50%</td>\n",
       "      <td>6.000000</td>\n",
       "      <td>1260.000000</td>\n",
       "    </tr>\n",
       "    <tr>\n",
       "      <td>75%</td>\n",
       "      <td>10.700000</td>\n",
       "      <td>1379.000000</td>\n",
       "    </tr>\n",
       "    <tr>\n",
       "      <td>max</td>\n",
       "      <td>38.000000</td>\n",
       "      <td>1499.000000</td>\n",
       "    </tr>\n",
       "  </tbody>\n",
       "</table>\n",
       "</div>"
      ],
      "text/plain": [
       "            duration        user_id\n",
       "count  202607.000000  202607.000000\n",
       "mean        6.755887    1253.940619\n",
       "std         5.843365     144.722751\n",
       "min         0.000000    1000.000000\n",
       "25%         1.300000    1126.000000\n",
       "50%         6.000000    1260.000000\n",
       "75%        10.700000    1379.000000\n",
       "max        38.000000    1499.000000"
      ]
     },
     "metadata": {},
     "output_type": "display_data"
    },
    {
     "name": "stdout",
     "output_type": "stream",
     "text": [
      "DataFrame internet\n"
     ]
    },
    {
     "data": {
      "text/html": [
       "<div>\n",
       "<style scoped>\n",
       "    .dataframe tbody tr th:only-of-type {\n",
       "        vertical-align: middle;\n",
       "    }\n",
       "\n",
       "    .dataframe tbody tr th {\n",
       "        vertical-align: top;\n",
       "    }\n",
       "\n",
       "    .dataframe thead th {\n",
       "        text-align: right;\n",
       "    }\n",
       "</style>\n",
       "<table border=\"1\" class=\"dataframe\">\n",
       "  <thead>\n",
       "    <tr style=\"text-align: right;\">\n",
       "      <th></th>\n",
       "      <th>mb_used</th>\n",
       "      <th>user_id</th>\n",
       "    </tr>\n",
       "  </thead>\n",
       "  <tbody>\n",
       "    <tr>\n",
       "      <td>count</td>\n",
       "      <td>149396.000000</td>\n",
       "      <td>149396.000000</td>\n",
       "    </tr>\n",
       "    <tr>\n",
       "      <td>mean</td>\n",
       "      <td>370.192426</td>\n",
       "      <td>1252.099842</td>\n",
       "    </tr>\n",
       "    <tr>\n",
       "      <td>std</td>\n",
       "      <td>278.300951</td>\n",
       "      <td>144.050823</td>\n",
       "    </tr>\n",
       "    <tr>\n",
       "      <td>min</td>\n",
       "      <td>0.000000</td>\n",
       "      <td>1000.000000</td>\n",
       "    </tr>\n",
       "    <tr>\n",
       "      <td>25%</td>\n",
       "      <td>138.187500</td>\n",
       "      <td>1130.000000</td>\n",
       "    </tr>\n",
       "    <tr>\n",
       "      <td>50%</td>\n",
       "      <td>348.015000</td>\n",
       "      <td>1251.000000</td>\n",
       "    </tr>\n",
       "    <tr>\n",
       "      <td>75%</td>\n",
       "      <td>559.552500</td>\n",
       "      <td>1380.000000</td>\n",
       "    </tr>\n",
       "    <tr>\n",
       "      <td>max</td>\n",
       "      <td>1724.830000</td>\n",
       "      <td>1499.000000</td>\n",
       "    </tr>\n",
       "  </tbody>\n",
       "</table>\n",
       "</div>"
      ],
      "text/plain": [
       "             mb_used        user_id\n",
       "count  149396.000000  149396.000000\n",
       "mean      370.192426    1252.099842\n",
       "std       278.300951     144.050823\n",
       "min         0.000000    1000.000000\n",
       "25%       138.187500    1130.000000\n",
       "50%       348.015000    1251.000000\n",
       "75%       559.552500    1380.000000\n",
       "max      1724.830000    1499.000000"
      ]
     },
     "metadata": {},
     "output_type": "display_data"
    },
    {
     "name": "stdout",
     "output_type": "stream",
     "text": [
      "DataFrame messages\n"
     ]
    },
    {
     "data": {
      "text/html": [
       "<div>\n",
       "<style scoped>\n",
       "    .dataframe tbody tr th:only-of-type {\n",
       "        vertical-align: middle;\n",
       "    }\n",
       "\n",
       "    .dataframe tbody tr th {\n",
       "        vertical-align: top;\n",
       "    }\n",
       "\n",
       "    .dataframe thead th {\n",
       "        text-align: right;\n",
       "    }\n",
       "</style>\n",
       "<table border=\"1\" class=\"dataframe\">\n",
       "  <thead>\n",
       "    <tr style=\"text-align: right;\">\n",
       "      <th></th>\n",
       "      <th>user_id</th>\n",
       "    </tr>\n",
       "  </thead>\n",
       "  <tbody>\n",
       "    <tr>\n",
       "      <td>count</td>\n",
       "      <td>123036.000000</td>\n",
       "    </tr>\n",
       "    <tr>\n",
       "      <td>mean</td>\n",
       "      <td>1256.989410</td>\n",
       "    </tr>\n",
       "    <tr>\n",
       "      <td>std</td>\n",
       "      <td>143.523967</td>\n",
       "    </tr>\n",
       "    <tr>\n",
       "      <td>min</td>\n",
       "      <td>1000.000000</td>\n",
       "    </tr>\n",
       "    <tr>\n",
       "      <td>25%</td>\n",
       "      <td>1134.000000</td>\n",
       "    </tr>\n",
       "    <tr>\n",
       "      <td>50%</td>\n",
       "      <td>1271.000000</td>\n",
       "    </tr>\n",
       "    <tr>\n",
       "      <td>75%</td>\n",
       "      <td>1381.000000</td>\n",
       "    </tr>\n",
       "    <tr>\n",
       "      <td>max</td>\n",
       "      <td>1499.000000</td>\n",
       "    </tr>\n",
       "  </tbody>\n",
       "</table>\n",
       "</div>"
      ],
      "text/plain": [
       "             user_id\n",
       "count  123036.000000\n",
       "mean     1256.989410\n",
       "std       143.523967\n",
       "min      1000.000000\n",
       "25%      1134.000000\n",
       "50%      1271.000000\n",
       "75%      1381.000000\n",
       "max      1499.000000"
      ]
     },
     "metadata": {},
     "output_type": "display_data"
    },
    {
     "name": "stdout",
     "output_type": "stream",
     "text": [
      "DataFrame users\n"
     ]
    },
    {
     "data": {
      "text/html": [
       "<div>\n",
       "<style scoped>\n",
       "    .dataframe tbody tr th:only-of-type {\n",
       "        vertical-align: middle;\n",
       "    }\n",
       "\n",
       "    .dataframe tbody tr th {\n",
       "        vertical-align: top;\n",
       "    }\n",
       "\n",
       "    .dataframe thead th {\n",
       "        text-align: right;\n",
       "    }\n",
       "</style>\n",
       "<table border=\"1\" class=\"dataframe\">\n",
       "  <thead>\n",
       "    <tr style=\"text-align: right;\">\n",
       "      <th></th>\n",
       "      <th>user_id</th>\n",
       "      <th>age</th>\n",
       "    </tr>\n",
       "  </thead>\n",
       "  <tbody>\n",
       "    <tr>\n",
       "      <td>count</td>\n",
       "      <td>500.000000</td>\n",
       "      <td>500.00000</td>\n",
       "    </tr>\n",
       "    <tr>\n",
       "      <td>mean</td>\n",
       "      <td>1249.500000</td>\n",
       "      <td>46.58800</td>\n",
       "    </tr>\n",
       "    <tr>\n",
       "      <td>std</td>\n",
       "      <td>144.481833</td>\n",
       "      <td>16.66763</td>\n",
       "    </tr>\n",
       "    <tr>\n",
       "      <td>min</td>\n",
       "      <td>1000.000000</td>\n",
       "      <td>18.00000</td>\n",
       "    </tr>\n",
       "    <tr>\n",
       "      <td>25%</td>\n",
       "      <td>1124.750000</td>\n",
       "      <td>32.00000</td>\n",
       "    </tr>\n",
       "    <tr>\n",
       "      <td>50%</td>\n",
       "      <td>1249.500000</td>\n",
       "      <td>46.00000</td>\n",
       "    </tr>\n",
       "    <tr>\n",
       "      <td>75%</td>\n",
       "      <td>1374.250000</td>\n",
       "      <td>62.00000</td>\n",
       "    </tr>\n",
       "    <tr>\n",
       "      <td>max</td>\n",
       "      <td>1499.000000</td>\n",
       "      <td>75.00000</td>\n",
       "    </tr>\n",
       "  </tbody>\n",
       "</table>\n",
       "</div>"
      ],
      "text/plain": [
       "           user_id        age\n",
       "count   500.000000  500.00000\n",
       "mean   1249.500000   46.58800\n",
       "std     144.481833   16.66763\n",
       "min    1000.000000   18.00000\n",
       "25%    1124.750000   32.00000\n",
       "50%    1249.500000   46.00000\n",
       "75%    1374.250000   62.00000\n",
       "max    1499.000000   75.00000"
      ]
     },
     "metadata": {},
     "output_type": "display_data"
    }
   ],
   "source": [
    "for df,names in zip([cf, i_f, mf, uf], ['calls', 'internet', 'messages', 'users']):\n",
    "    print(f\"DataFrame {names}\")\n",
    "    display(df.describe())"
   ]
  },
  {
   "cell_type": "code",
   "execution_count": 7,
   "metadata": {
    "scrolled": true
   },
   "outputs": [
    {
     "name": "stdout",
     "output_type": "stream",
     "text": [
      "\n",
      "DataFrame calls\n",
      "<class 'pandas.core.frame.DataFrame'>\n",
      "RangeIndex: 202607 entries, 0 to 202606\n",
      "Data columns (total 4 columns):\n",
      "id           202607 non-null object\n",
      "call_date    202607 non-null datetime64[ns]\n",
      "duration     202607 non-null float64\n",
      "user_id      202607 non-null int64\n",
      "dtypes: datetime64[ns](1), float64(1), int64(1), object(1)\n",
      "memory usage: 6.2+ MB\n",
      "\n",
      "DataFrame internet\n",
      "<class 'pandas.core.frame.DataFrame'>\n",
      "Int64Index: 149396 entries, 0 to 149395\n",
      "Data columns (total 4 columns):\n",
      "id              149396 non-null object\n",
      "mb_used         149396 non-null float64\n",
      "session_date    149396 non-null datetime64[ns]\n",
      "user_id         149396 non-null int64\n",
      "dtypes: datetime64[ns](1), float64(1), int64(1), object(1)\n",
      "memory usage: 5.7+ MB\n",
      "\n",
      "DataFrame messages\n",
      "<class 'pandas.core.frame.DataFrame'>\n",
      "RangeIndex: 123036 entries, 0 to 123035\n",
      "Data columns (total 3 columns):\n",
      "id              123036 non-null object\n",
      "message_date    123036 non-null datetime64[ns]\n",
      "user_id         123036 non-null int64\n",
      "dtypes: datetime64[ns](1), int64(1), object(1)\n",
      "memory usage: 2.8+ MB\n",
      "\n",
      "DataFrame users\n",
      "<class 'pandas.core.frame.DataFrame'>\n",
      "RangeIndex: 500 entries, 0 to 499\n",
      "Data columns (total 8 columns):\n",
      "user_id       500 non-null int64\n",
      "age           500 non-null int64\n",
      "churn_date    38 non-null datetime64[ns]\n",
      "city          500 non-null object\n",
      "first_name    500 non-null object\n",
      "last_name     500 non-null object\n",
      "reg_date      500 non-null datetime64[ns]\n",
      "tariff        500 non-null object\n",
      "dtypes: datetime64[ns](2), int64(2), object(4)\n",
      "memory usage: 31.4+ KB\n"
     ]
    }
   ],
   "source": [
    "for df,names in zip([cf, i_f, mf, uf], ['calls', 'internet', 'messages', 'users']):\n",
    "    print()\n",
    "    print(f\"DataFrame {names}\")\n",
    "    df.info()"
   ]
  },
  {
   "cell_type": "markdown",
   "metadata": {},
   "source": [
    "<div class=\"alert alert-success\">\n",
    "<font size=\"5\"><b>Комментарий ревьюера</b></font>\n",
    "\n",
    "Совет: Столбцы с датой в каждом случае у нас имеют тип данных object. Исправить это уже при считывании данных тебе поможет [данная статья](https://towardsdatascience.com/4-tricks-you-should-know-to-parse-date-columns-with-pandas-read-csv-27355bb2ad0e) о исправлении типов данных столбцов с датой уже при считывании таблицы. \n",
    "\n",
    "</div>"
   ]
  },
  {
   "cell_type": "markdown",
   "metadata": {},
   "source": [
    "<div class=\"alert alert-success\">\n",
    "<font size=\"5\"><b>Комментарий ревьюера 2</b></font>\n",
    "\n",
    "Успех: Круто, что ты исправил ошибки в данных уже на стадии их считывания. \n",
    "\n",
    "</div>"
   ]
  },
  {
   "cell_type": "markdown",
   "metadata": {},
   "source": [
    "Данные на первый взгляд относительно чистые. Без пропущенных значений, без явных дубликатов и без неадыкватных значений. Единственным замечанием является, что данные с датами имеют тип object"
   ]
  },
  {
   "cell_type": "markdown",
   "metadata": {},
   "source": [
    "<div class=\"alert alert-success\">\n",
    "<font size=\"5\"><b>Комментарий ревьюера</b></font>\n",
    "\n",
    "Успех: Подумай также о возможных причинах появления ошибок в данных, а также о том, являются ли они случайными или нет. Можно высказать предварительные варианты их обработки. \n",
    "\n",
    "Первый взгляд на таблицы выполнен.\n",
    "\n",
    "</div>"
   ]
  },
  {
   "cell_type": "markdown",
   "metadata": {},
   "source": [
    "## Предобработка данных"
   ]
  },
  {
   "cell_type": "markdown",
   "metadata": {},
   "source": [
    "Добавим дополнительные колонки в основной DataFrame с информацией о стаже пользователей на данном тарифе.  \n",
    "Для действующих пользователей для датой прекращения будем считать последний день года (31 декабря 2018).\n",
    "\n",
    "А так как плата за тариф взымается каждые 30 дней, для каждого пользователя определим дату последнего такого 30дневного периода."
   ]
  },
  {
   "cell_type": "code",
   "execution_count": 8,
   "metadata": {},
   "outputs": [],
   "source": [
    "uf['duration'] = (uf.churn_date-uf.reg_date)\n",
    "uf['duration'] = uf['duration'].fillna(datetime.datetime.strptime('2018-12-31', '%Y-%m-%d')-uf.reg_date)\n",
    "uf['full_mount'] = uf.duration.dt.days//30 # количесво условных месяцев использования\n",
    "uf['end_data'] = uf.apply(lambda x: x.reg_date+pd.Timedelta(days=x.full_mount*30), axis=1)"
   ]
  },
  {
   "cell_type": "markdown",
   "metadata": {},
   "source": [
    "<div class=\"alert alert-danger\">\n",
    "<font size=\"5\"><b>Комментарий ревьюера</b></font>\n",
    "\n",
    "Ошибка: В таблицах со звонками и интернет-трафиком есть большое число нулевых значений в продолжительности звонков/интернет-сессиях. Какова возможная причина их появления - недозвоны, сбои сети или что-то другое? Подумай над причинами их появления, исходя из которой обработай их.\n",
    "\n",
    "</div>"
   ]
  },
  {
   "cell_type": "markdown",
   "metadata": {},
   "source": [
    "В таблицах со звонками и интернет-трафиком есть большое число нулевых значений, но в сопроводительной документации сказано, что в данных звонками с нулевой продолжительностью обозначены пропущенные звонки.  \n",
    "А интернет-сессии с нулевыми значениями видимо обозначают сеансы в которые использовался только исходящий трафик, который не тарифицируется.  \n",
    "Поэтому нули обрабатываться не будут."
   ]
  },
  {
   "cell_type": "markdown",
   "metadata": {},
   "source": [
    "<div class=\"alert alert-success\">\n",
    "<font size=\"5\"><b>Комментарий ревьюера 2</b></font>\n",
    "\n",
    "Успех: Ок, исходя из таких причин, нулевые значения мы можем оставить в данных.\n",
    "\n",
    "</div>"
   ]
  },
  {
   "cell_type": "markdown",
   "metadata": {},
   "source": [
    "Чтобы не копировать методы обработки данных для каждого вида услуг воспользуемся функцией."
   ]
  },
  {
   "cell_type": "code",
   "execution_count": 9,
   "metadata": {},
   "outputs": [],
   "source": [
    "def overrun(df, comp_source, source, date, source_limit, overlimit_price, conversion_c=1, initial_rounding = False):\n",
    "  '''Функция обрабатывает переданный DataFrame с записями об использовании услуги\n",
    "  и добавляет информацию для каждого пользователя в сводную таблицу\n",
    "  df = DataFrame с записями об использовании услуги пользователями,\n",
    "  comp_source = название для суммированных данных,\n",
    "  conversion_c = коэффициент округления при суммировании,\n",
    "  source = название стоблца в переданом DataFrame с количеством использованных ресурсов\n",
    "  date = название стоблца в переданом DataFrame с датой использования услуги,\n",
    "  source_limit = название колонки с указанными лимитами по данному ресурсу в DataFrame с тарифами,\n",
    "  overlimit_price = название колонки с указанной ценой за использование ресурса\n",
    "  сверхлимита в DataFrame с тарифами,\n",
    "  initial_rounding = округляется ли количество ресурса согласно conversion_c до суммирования'''\n",
    "\n",
    "  df['start_data'] = df.user_id.map(dict(zip(uf[\"user_id\"], uf[\"reg_date\"])))\n",
    "  #добавление даты подключения тарифа для каждого пользователя\n",
    "  df['end_data'] = df.user_id.map(dict(zip(uf[\"user_id\"], uf[\"end_data\"])))  \n",
    "  #добавление последней даты по которой осуществляются расчеты для каждого пользователя\n",
    "  df['periods'] = np.ceil(((df[date]-df['start_data']).dt.days+1)/30)\n",
    "  #в какой условный месяц стажа была использована услуга для каждого пользователя\n",
    "  df = df[df[date] < df['end_data']]\n",
    "  #убираем данные для не полных месяцев пользователей\n",
    "    \n",
    "  if initial_rounding:\n",
    "    df[comp_source] = np.ceil(df[source]/conversion_c)\n",
    "    users_used = df.groupby(['user_id','periods'])[comp_source].sum().reset_index()\n",
    "  else:\n",
    "    users_used = df.groupby(['user_id','periods'])[source].sum().reset_index()\n",
    "    users_used[source] =  np.ceil(users_used[source]/conversion_c)\n",
    "    users_used = users_used.rename(columns={source: comp_source})\n",
    "  #обработка до суммирования или после согласно изначальным требованиям\n",
    " \n",
    "  used = users_used.groupby('user_id')[comp_source].sum()\n",
    "  uf[comp_source] = uf.user_id.map(dict(zip(used.index, used.values)))\n",
    "  #добавление суммы использованного в сводный DF\n",
    "  uf[comp_source] = uf[comp_source].fillna(0)\n",
    "  #для пользователей не использовавших услугу добавление 0 в сводный DF\n",
    "\n",
    "  users_used['tariff'] = users_used.user_id.map(dict(zip(uf[\"user_id\"], uf[\"tariff\"])))\n",
    "  users_used[f'over_{comp_source}'] = users_used[comp_source]\\\n",
    "                                        -users_used.tariff.map(dict(zip(tf[\"tariff_name\"],\n",
    "                                                                        tf[source_limit]/conversion_c)))\n",
    "  #использованный ресурса сверхлимита\n",
    "  users_used.loc[(users_used[f'over_{comp_source}']<0), f'over_{comp_source}'] = 0\n",
    "  #для пользователей использовавших меньше лимита добавление 0\n",
    "\n",
    "  over = users_used.groupby('user_id')[f'over_{comp_source}'].sum()\n",
    "  uf[f'over_{comp_source}'] = uf.user_id.map(dict(zip(over.index, over.values)))\n",
    "  #добавление количества использованного ресурса сверхлимита  в сводный DF\n",
    "  uf[f'over_{comp_source}'] = uf[f'over_{comp_source}'].fillna(0)  \n",
    "  #для пользователей не использовавших услугу добавление 0 в сводный DF\n",
    "\n",
    "  uf[f'over_{comp_source}_price'] = uf[f'over_{comp_source}'] \\\n",
    "                                    * uf.tariff.map(dict(zip(tf[\"tariff_name\"],\n",
    "                                                             tf[overlimit_price])))\n",
    "  #добавление цены использованного ресурса сверхлимита  в сводный DF  \n",
    "  uf[f'over_{comp_source}_price'] = uf[f'over_{comp_source}_price'].fillna(0)\n",
    "  #для пользователей не использовавших услугу добавление 0 в сводный DF\n",
    "\n",
    "  uf[f'{comp_source}_per_m'] = uf[comp_source]/uf.full_mount\n",
    "  uf[f'over_{comp_source}_per_m'] = uf[f'over_{comp_source}']/uf.full_mount\n",
    "  #добавление среднего количества использованного ресурса сверхлимита в сводный DF  \n",
    "  uf[f'over_{comp_source}_price_per_m'] = uf[f'over_{comp_source}_price']/uf.full_mount\n",
    "  #добавление средней переплаты за использованный ресурс сверхлимита  в сводный DF  "
   ]
  },
  {
   "cell_type": "markdown",
   "metadata": {},
   "source": [
    "<div class=\"alert alert-success\">\n",
    "<font size=\"5\"><b>Комментарий ревьюера</b></font>\n",
    "\n",
    "Успех: Верно, что округление длительности звонков производится до суммирования. Это согласуется с тем, как оператор фиксирует выручку.\n",
    "\n",
    "</div>"
   ]
  },
  {
   "cell_type": "markdown",
   "metadata": {},
   "source": [
    "И обработаем данные при помощи этой функции."
   ]
  },
  {
   "cell_type": "code",
   "execution_count": 10,
   "metadata": {},
   "outputs": [],
   "source": [
    "overrun(i_f, 'gb_used', 'mb_used', 'session_date', 'mb_per_month_included', 'rub_per_gb', conversion_c=1024)\n",
    "overrun(cf, 'min_used', 'duration', 'call_date', 'minutes_included', 'rub_per_minute', initial_rounding=True)\n",
    "mf['source'] = 1 # для возможности обработки функцией добавим столбец в котором количество использованных смс за операцию\n",
    "overrun(mf, 'mes_used', 'source', 'message_date', 'messages_included', 'rub_per_message')"
   ]
  },
  {
   "cell_type": "markdown",
   "metadata": {},
   "source": [
    "<div class=\"alert alert-danger\">\n",
    "<font size=\"5\"><b>Комментарий ревьюера</b></font>\n",
    "\n",
    "Ошибка: С помощью функции выше ты считаешь не полные данные о каждом месяце использования услугами каждым клиентом, а усредненные показатели за месяц. В итоге вместо 3000 строк мы имеем лишь 500 усредненных значений. Это серьезным образом повлияет на результаты анализа. Для получения надежных результатов важно иметь полные данные о потреблении клиентом услуг за каждый месяц. Исправь вид таблицы, для каждого клиента мы должны иметь данные о месяце, потреблении каждой услуги в нем и выручке за данный период. \n",
    "\n",
    "</div>"
   ]
  },
  {
   "cell_type": "markdown",
   "metadata": {},
   "source": [
    "И посчитаем теперь общую переплату. "
   ]
  },
  {
   "cell_type": "code",
   "execution_count": 11,
   "metadata": {},
   "outputs": [],
   "source": [
    "uf['profit_per_m'] = uf.tariff.map(dict(zip(tf[\"tariff_name\"], tf['rub_monthly_fee'])))\\\n",
    "                    +uf.over_gb_used_price_per_m\\\n",
    "                    +uf.over_min_used_price_per_m\\\n",
    "                    +uf.over_mes_used_price_per_m"
   ]
  },
  {
   "cell_type": "code",
   "execution_count": 12,
   "metadata": {
    "scrolled": true
   },
   "outputs": [
    {
     "data": {
      "text/plain": [
       "user_id                        0\n",
       "age                            0\n",
       "churn_date                   462\n",
       "city                           0\n",
       "first_name                     0\n",
       "last_name                      0\n",
       "reg_date                       0\n",
       "tariff                         0\n",
       "duration                       0\n",
       "full_mount                     0\n",
       "end_data                       0\n",
       "gb_used                        0\n",
       "over_gb_used                   0\n",
       "over_gb_used_price             0\n",
       "gb_used_per_m                 36\n",
       "over_gb_used_per_m            36\n",
       "over_gb_used_price_per_m      36\n",
       "min_used                       0\n",
       "over_min_used                  0\n",
       "over_min_used_price            0\n",
       "min_used_per_m                36\n",
       "over_min_used_per_m           36\n",
       "over_min_used_price_per_m     36\n",
       "mes_used                       0\n",
       "over_mes_used                  0\n",
       "over_mes_used_price            0\n",
       "mes_used_per_m                36\n",
       "over_mes_used_per_m           36\n",
       "over_mes_used_price_per_m     36\n",
       "profit_per_m                  36\n",
       "dtype: int64"
      ]
     },
     "execution_count": 12,
     "metadata": {},
     "output_type": "execute_result"
    }
   ],
   "source": [
    "uf.isna().sum()"
   ]
  },
  {
   "cell_type": "markdown",
   "metadata": {},
   "source": [
    "После подсчетов появились пропуски"
   ]
  },
  {
   "cell_type": "code",
   "execution_count": 13,
   "metadata": {},
   "outputs": [
    {
     "data": {
      "text/html": [
       "<div>\n",
       "<style scoped>\n",
       "    .dataframe tbody tr th:only-of-type {\n",
       "        vertical-align: middle;\n",
       "    }\n",
       "\n",
       "    .dataframe tbody tr th {\n",
       "        vertical-align: top;\n",
       "    }\n",
       "\n",
       "    .dataframe thead th {\n",
       "        text-align: right;\n",
       "    }\n",
       "</style>\n",
       "<table border=\"1\" class=\"dataframe\">\n",
       "  <thead>\n",
       "    <tr style=\"text-align: right;\">\n",
       "      <th></th>\n",
       "      <th>user_id</th>\n",
       "      <th>age</th>\n",
       "      <th>churn_date</th>\n",
       "      <th>city</th>\n",
       "      <th>first_name</th>\n",
       "      <th>last_name</th>\n",
       "      <th>reg_date</th>\n",
       "      <th>tariff</th>\n",
       "      <th>duration</th>\n",
       "      <th>full_mount</th>\n",
       "      <th>...</th>\n",
       "      <th>min_used_per_m</th>\n",
       "      <th>over_min_used_per_m</th>\n",
       "      <th>over_min_used_price_per_m</th>\n",
       "      <th>mes_used</th>\n",
       "      <th>over_mes_used</th>\n",
       "      <th>over_mes_used_price</th>\n",
       "      <th>mes_used_per_m</th>\n",
       "      <th>over_mes_used_per_m</th>\n",
       "      <th>over_mes_used_price_per_m</th>\n",
       "      <th>profit_per_m</th>\n",
       "    </tr>\n",
       "  </thead>\n",
       "  <tbody>\n",
       "    <tr>\n",
       "      <td>8</td>\n",
       "      <td>1008</td>\n",
       "      <td>63</td>\n",
       "      <td>NaT</td>\n",
       "      <td>Челябинск</td>\n",
       "      <td>Рустэм</td>\n",
       "      <td>Пономарёв</td>\n",
       "      <td>2018-12-19</td>\n",
       "      <td>smart</td>\n",
       "      <td>12 days</td>\n",
       "      <td>0</td>\n",
       "      <td>...</td>\n",
       "      <td>NaN</td>\n",
       "      <td>NaN</td>\n",
       "      <td>NaN</td>\n",
       "      <td>0.0</td>\n",
       "      <td>0.0</td>\n",
       "      <td>0.0</td>\n",
       "      <td>NaN</td>\n",
       "      <td>NaN</td>\n",
       "      <td>NaN</td>\n",
       "      <td>NaN</td>\n",
       "    </tr>\n",
       "    <tr>\n",
       "      <td>62</td>\n",
       "      <td>1062</td>\n",
       "      <td>24</td>\n",
       "      <td>2018-12-09</td>\n",
       "      <td>Москва</td>\n",
       "      <td>Александр</td>\n",
       "      <td>Коршунов</td>\n",
       "      <td>2018-11-16</td>\n",
       "      <td>smart</td>\n",
       "      <td>23 days</td>\n",
       "      <td>0</td>\n",
       "      <td>...</td>\n",
       "      <td>NaN</td>\n",
       "      <td>NaN</td>\n",
       "      <td>NaN</td>\n",
       "      <td>0.0</td>\n",
       "      <td>0.0</td>\n",
       "      <td>0.0</td>\n",
       "      <td>NaN</td>\n",
       "      <td>NaN</td>\n",
       "      <td>NaN</td>\n",
       "      <td>NaN</td>\n",
       "    </tr>\n",
       "    <tr>\n",
       "      <td>69</td>\n",
       "      <td>1069</td>\n",
       "      <td>36</td>\n",
       "      <td>NaT</td>\n",
       "      <td>Екатеринбург</td>\n",
       "      <td>Гордей</td>\n",
       "      <td>Кочетов</td>\n",
       "      <td>2018-12-10</td>\n",
       "      <td>smart</td>\n",
       "      <td>21 days</td>\n",
       "      <td>0</td>\n",
       "      <td>...</td>\n",
       "      <td>NaN</td>\n",
       "      <td>NaN</td>\n",
       "      <td>NaN</td>\n",
       "      <td>0.0</td>\n",
       "      <td>0.0</td>\n",
       "      <td>0.0</td>\n",
       "      <td>NaN</td>\n",
       "      <td>NaN</td>\n",
       "      <td>NaN</td>\n",
       "      <td>NaN</td>\n",
       "    </tr>\n",
       "    <tr>\n",
       "      <td>74</td>\n",
       "      <td>1074</td>\n",
       "      <td>68</td>\n",
       "      <td>NaT</td>\n",
       "      <td>Якутск</td>\n",
       "      <td>Андрей</td>\n",
       "      <td>Кравцов</td>\n",
       "      <td>2018-12-30</td>\n",
       "      <td>smart</td>\n",
       "      <td>1 days</td>\n",
       "      <td>0</td>\n",
       "      <td>...</td>\n",
       "      <td>NaN</td>\n",
       "      <td>NaN</td>\n",
       "      <td>NaN</td>\n",
       "      <td>0.0</td>\n",
       "      <td>0.0</td>\n",
       "      <td>0.0</td>\n",
       "      <td>NaN</td>\n",
       "      <td>NaN</td>\n",
       "      <td>NaN</td>\n",
       "      <td>NaN</td>\n",
       "    </tr>\n",
       "    <tr>\n",
       "      <td>84</td>\n",
       "      <td>1084</td>\n",
       "      <td>47</td>\n",
       "      <td>NaT</td>\n",
       "      <td>Саранск</td>\n",
       "      <td>Виолетта</td>\n",
       "      <td>Спиридонова</td>\n",
       "      <td>2018-12-13</td>\n",
       "      <td>ultra</td>\n",
       "      <td>18 days</td>\n",
       "      <td>0</td>\n",
       "      <td>...</td>\n",
       "      <td>NaN</td>\n",
       "      <td>NaN</td>\n",
       "      <td>NaN</td>\n",
       "      <td>0.0</td>\n",
       "      <td>0.0</td>\n",
       "      <td>0.0</td>\n",
       "      <td>NaN</td>\n",
       "      <td>NaN</td>\n",
       "      <td>NaN</td>\n",
       "      <td>NaN</td>\n",
       "    </tr>\n",
       "  </tbody>\n",
       "</table>\n",
       "<p>5 rows × 30 columns</p>\n",
       "</div>"
      ],
      "text/plain": [
       "    user_id  age churn_date          city first_name    last_name   reg_date  \\\n",
       "8      1008   63        NaT     Челябинск     Рустэм    Пономарёв 2018-12-19   \n",
       "62     1062   24 2018-12-09        Москва  Александр     Коршунов 2018-11-16   \n",
       "69     1069   36        NaT  Екатеринбург     Гордей      Кочетов 2018-12-10   \n",
       "74     1074   68        NaT        Якутск     Андрей      Кравцов 2018-12-30   \n",
       "84     1084   47        NaT       Саранск   Виолетта  Спиридонова 2018-12-13   \n",
       "\n",
       "   tariff duration  full_mount  ... min_used_per_m  over_min_used_per_m  \\\n",
       "8   smart  12 days           0  ...            NaN                  NaN   \n",
       "62  smart  23 days           0  ...            NaN                  NaN   \n",
       "69  smart  21 days           0  ...            NaN                  NaN   \n",
       "74  smart   1 days           0  ...            NaN                  NaN   \n",
       "84  ultra  18 days           0  ...            NaN                  NaN   \n",
       "\n",
       "    over_min_used_price_per_m  mes_used  over_mes_used  over_mes_used_price  \\\n",
       "8                         NaN       0.0            0.0                  0.0   \n",
       "62                        NaN       0.0            0.0                  0.0   \n",
       "69                        NaN       0.0            0.0                  0.0   \n",
       "74                        NaN       0.0            0.0                  0.0   \n",
       "84                        NaN       0.0            0.0                  0.0   \n",
       "\n",
       "    mes_used_per_m  over_mes_used_per_m  over_mes_used_price_per_m  \\\n",
       "8              NaN                  NaN                        NaN   \n",
       "62             NaN                  NaN                        NaN   \n",
       "69             NaN                  NaN                        NaN   \n",
       "74             NaN                  NaN                        NaN   \n",
       "84             NaN                  NaN                        NaN   \n",
       "\n",
       "    profit_per_m  \n",
       "8            NaN  \n",
       "62           NaN  \n",
       "69           NaN  \n",
       "74           NaN  \n",
       "84           NaN  \n",
       "\n",
       "[5 rows x 30 columns]"
      ]
     },
     "execution_count": 13,
     "metadata": {},
     "output_type": "execute_result"
    }
   ],
   "source": [
    "uf[uf.gb_used_per_m.isna()].head()"
   ]
  },
  {
   "cell_type": "markdown",
   "metadata": {},
   "source": [
    "Из-за пользователей пользующихся тарифом менее 30 дней.  \n",
    "Исключим их из дальнейшего анализа"
   ]
  },
  {
   "cell_type": "code",
   "execution_count": 14,
   "metadata": {},
   "outputs": [],
   "source": [
    "uf = uf[~uf.index.isin(uf[uf.gb_used_per_m.isna()].index)]"
   ]
  },
  {
   "cell_type": "code",
   "execution_count": 15,
   "metadata": {
    "scrolled": false
   },
   "outputs": [
    {
     "data": {
      "text/html": [
       "<div>\n",
       "<style scoped>\n",
       "    .dataframe tbody tr th:only-of-type {\n",
       "        vertical-align: middle;\n",
       "    }\n",
       "\n",
       "    .dataframe tbody tr th {\n",
       "        vertical-align: top;\n",
       "    }\n",
       "\n",
       "    .dataframe thead th {\n",
       "        text-align: right;\n",
       "    }\n",
       "</style>\n",
       "<table border=\"1\" class=\"dataframe\">\n",
       "  <thead>\n",
       "    <tr style=\"text-align: right;\">\n",
       "      <th></th>\n",
       "      <th>user_id</th>\n",
       "      <th>age</th>\n",
       "      <th>churn_date</th>\n",
       "      <th>city</th>\n",
       "      <th>first_name</th>\n",
       "      <th>last_name</th>\n",
       "      <th>reg_date</th>\n",
       "      <th>tariff</th>\n",
       "      <th>duration</th>\n",
       "      <th>full_mount</th>\n",
       "      <th>...</th>\n",
       "      <th>min_used_per_m</th>\n",
       "      <th>over_min_used_per_m</th>\n",
       "      <th>over_min_used_price_per_m</th>\n",
       "      <th>mes_used</th>\n",
       "      <th>over_mes_used</th>\n",
       "      <th>over_mes_used_price</th>\n",
       "      <th>mes_used_per_m</th>\n",
       "      <th>over_mes_used_per_m</th>\n",
       "      <th>over_mes_used_price_per_m</th>\n",
       "      <th>profit_per_m</th>\n",
       "    </tr>\n",
       "  </thead>\n",
       "  <tbody>\n",
       "    <tr>\n",
       "      <td>0</td>\n",
       "      <td>1000</td>\n",
       "      <td>52</td>\n",
       "      <td>NaT</td>\n",
       "      <td>Краснодар</td>\n",
       "      <td>Рафаил</td>\n",
       "      <td>Верещагин</td>\n",
       "      <td>2018-05-25</td>\n",
       "      <td>ultra</td>\n",
       "      <td>220 days</td>\n",
       "      <td>7</td>\n",
       "      <td>...</td>\n",
       "      <td>352.571429</td>\n",
       "      <td>0.000000</td>\n",
       "      <td>0.000000</td>\n",
       "      <td>473.0</td>\n",
       "      <td>0.0</td>\n",
       "      <td>0.0</td>\n",
       "      <td>67.571429</td>\n",
       "      <td>0.000000</td>\n",
       "      <td>0.0</td>\n",
       "      <td>1950.000000</td>\n",
       "    </tr>\n",
       "    <tr>\n",
       "      <td>1</td>\n",
       "      <td>1001</td>\n",
       "      <td>41</td>\n",
       "      <td>NaT</td>\n",
       "      <td>Москва</td>\n",
       "      <td>Иван</td>\n",
       "      <td>Ежов</td>\n",
       "      <td>2018-11-01</td>\n",
       "      <td>smart</td>\n",
       "      <td>60 days</td>\n",
       "      <td>2</td>\n",
       "      <td>...</td>\n",
       "      <td>422.000000</td>\n",
       "      <td>0.000000</td>\n",
       "      <td>0.000000</td>\n",
       "      <td>0.0</td>\n",
       "      <td>0.0</td>\n",
       "      <td>0.0</td>\n",
       "      <td>0.000000</td>\n",
       "      <td>0.000000</td>\n",
       "      <td>0.0</td>\n",
       "      <td>850.000000</td>\n",
       "    </tr>\n",
       "    <tr>\n",
       "      <td>2</td>\n",
       "      <td>1002</td>\n",
       "      <td>59</td>\n",
       "      <td>NaT</td>\n",
       "      <td>Стерлитамак</td>\n",
       "      <td>Евгений</td>\n",
       "      <td>Абрамович</td>\n",
       "      <td>2018-06-17</td>\n",
       "      <td>smart</td>\n",
       "      <td>197 days</td>\n",
       "      <td>6</td>\n",
       "      <td>...</td>\n",
       "      <td>231.166667</td>\n",
       "      <td>0.000000</td>\n",
       "      <td>0.000000</td>\n",
       "      <td>64.0</td>\n",
       "      <td>0.0</td>\n",
       "      <td>0.0</td>\n",
       "      <td>10.666667</td>\n",
       "      <td>0.000000</td>\n",
       "      <td>0.0</td>\n",
       "      <td>1083.333333</td>\n",
       "    </tr>\n",
       "    <tr>\n",
       "      <td>3</td>\n",
       "      <td>1003</td>\n",
       "      <td>23</td>\n",
       "      <td>NaT</td>\n",
       "      <td>Москва</td>\n",
       "      <td>Белла</td>\n",
       "      <td>Белякова</td>\n",
       "      <td>2018-08-17</td>\n",
       "      <td>ultra</td>\n",
       "      <td>136 days</td>\n",
       "      <td>4</td>\n",
       "      <td>...</td>\n",
       "      <td>870.750000</td>\n",
       "      <td>0.000000</td>\n",
       "      <td>0.000000</td>\n",
       "      <td>342.0</td>\n",
       "      <td>0.0</td>\n",
       "      <td>0.0</td>\n",
       "      <td>85.500000</td>\n",
       "      <td>0.000000</td>\n",
       "      <td>0.0</td>\n",
       "      <td>1950.000000</td>\n",
       "    </tr>\n",
       "    <tr>\n",
       "      <td>4</td>\n",
       "      <td>1004</td>\n",
       "      <td>68</td>\n",
       "      <td>NaT</td>\n",
       "      <td>Новокузнецк</td>\n",
       "      <td>Татьяна</td>\n",
       "      <td>Авдеенко</td>\n",
       "      <td>2018-05-14</td>\n",
       "      <td>ultra</td>\n",
       "      <td>231 days</td>\n",
       "      <td>7</td>\n",
       "      <td>...</td>\n",
       "      <td>124.857143</td>\n",
       "      <td>0.000000</td>\n",
       "      <td>0.000000</td>\n",
       "      <td>1085.0</td>\n",
       "      <td>0.0</td>\n",
       "      <td>0.0</td>\n",
       "      <td>155.000000</td>\n",
       "      <td>0.000000</td>\n",
       "      <td>0.0</td>\n",
       "      <td>1950.000000</td>\n",
       "    </tr>\n",
       "    <tr>\n",
       "      <td>...</td>\n",
       "      <td>...</td>\n",
       "      <td>...</td>\n",
       "      <td>...</td>\n",
       "      <td>...</td>\n",
       "      <td>...</td>\n",
       "      <td>...</td>\n",
       "      <td>...</td>\n",
       "      <td>...</td>\n",
       "      <td>...</td>\n",
       "      <td>...</td>\n",
       "      <td>...</td>\n",
       "      <td>...</td>\n",
       "      <td>...</td>\n",
       "      <td>...</td>\n",
       "      <td>...</td>\n",
       "      <td>...</td>\n",
       "      <td>...</td>\n",
       "      <td>...</td>\n",
       "      <td>...</td>\n",
       "      <td>...</td>\n",
       "      <td>...</td>\n",
       "    </tr>\n",
       "    <tr>\n",
       "      <td>495</td>\n",
       "      <td>1495</td>\n",
       "      <td>65</td>\n",
       "      <td>NaT</td>\n",
       "      <td>Иркутск</td>\n",
       "      <td>Авксентий</td>\n",
       "      <td>Фокин</td>\n",
       "      <td>2018-08-28</td>\n",
       "      <td>ultra</td>\n",
       "      <td>125 days</td>\n",
       "      <td>4</td>\n",
       "      <td>...</td>\n",
       "      <td>937.500000</td>\n",
       "      <td>0.000000</td>\n",
       "      <td>0.000000</td>\n",
       "      <td>323.0</td>\n",
       "      <td>0.0</td>\n",
       "      <td>0.0</td>\n",
       "      <td>80.750000</td>\n",
       "      <td>0.000000</td>\n",
       "      <td>0.0</td>\n",
       "      <td>2362.500000</td>\n",
       "    </tr>\n",
       "    <tr>\n",
       "      <td>496</td>\n",
       "      <td>1496</td>\n",
       "      <td>36</td>\n",
       "      <td>NaT</td>\n",
       "      <td>Вологда</td>\n",
       "      <td>Трифон</td>\n",
       "      <td>Блохин</td>\n",
       "      <td>2018-01-27</td>\n",
       "      <td>smart</td>\n",
       "      <td>338 days</td>\n",
       "      <td>11</td>\n",
       "      <td>...</td>\n",
       "      <td>520.818182</td>\n",
       "      <td>46.636364</td>\n",
       "      <td>139.909091</td>\n",
       "      <td>448.0</td>\n",
       "      <td>0.0</td>\n",
       "      <td>0.0</td>\n",
       "      <td>40.727273</td>\n",
       "      <td>0.000000</td>\n",
       "      <td>0.0</td>\n",
       "      <td>2471.727273</td>\n",
       "    </tr>\n",
       "    <tr>\n",
       "      <td>497</td>\n",
       "      <td>1497</td>\n",
       "      <td>32</td>\n",
       "      <td>NaT</td>\n",
       "      <td>Челябинск</td>\n",
       "      <td>Каролина</td>\n",
       "      <td>Агеева</td>\n",
       "      <td>2018-10-09</td>\n",
       "      <td>smart</td>\n",
       "      <td>83 days</td>\n",
       "      <td>2</td>\n",
       "      <td>...</td>\n",
       "      <td>470.000000</td>\n",
       "      <td>48.500000</td>\n",
       "      <td>145.500000</td>\n",
       "      <td>37.0</td>\n",
       "      <td>0.0</td>\n",
       "      <td>0.0</td>\n",
       "      <td>18.500000</td>\n",
       "      <td>0.000000</td>\n",
       "      <td>0.0</td>\n",
       "      <td>895.500000</td>\n",
       "    </tr>\n",
       "    <tr>\n",
       "      <td>498</td>\n",
       "      <td>1498</td>\n",
       "      <td>68</td>\n",
       "      <td>2018-10-25</td>\n",
       "      <td>Владикавказ</td>\n",
       "      <td>Всеволод</td>\n",
       "      <td>Акимчин</td>\n",
       "      <td>2018-07-19</td>\n",
       "      <td>smart</td>\n",
       "      <td>98 days</td>\n",
       "      <td>3</td>\n",
       "      <td>...</td>\n",
       "      <td>390.000000</td>\n",
       "      <td>0.000000</td>\n",
       "      <td>0.000000</td>\n",
       "      <td>156.0</td>\n",
       "      <td>7.0</td>\n",
       "      <td>21.0</td>\n",
       "      <td>52.000000</td>\n",
       "      <td>2.333333</td>\n",
       "      <td>7.0</td>\n",
       "      <td>1957.000000</td>\n",
       "    </tr>\n",
       "    <tr>\n",
       "      <td>499</td>\n",
       "      <td>1499</td>\n",
       "      <td>35</td>\n",
       "      <td>NaT</td>\n",
       "      <td>Пермь</td>\n",
       "      <td>Гектор</td>\n",
       "      <td>Корнилов</td>\n",
       "      <td>2018-09-27</td>\n",
       "      <td>smart</td>\n",
       "      <td>95 days</td>\n",
       "      <td>3</td>\n",
       "      <td>...</td>\n",
       "      <td>515.666667</td>\n",
       "      <td>18.000000</td>\n",
       "      <td>54.000000</td>\n",
       "      <td>173.0</td>\n",
       "      <td>23.0</td>\n",
       "      <td>69.0</td>\n",
       "      <td>57.666667</td>\n",
       "      <td>7.666667</td>\n",
       "      <td>23.0</td>\n",
       "      <td>827.000000</td>\n",
       "    </tr>\n",
       "  </tbody>\n",
       "</table>\n",
       "<p>464 rows × 30 columns</p>\n",
       "</div>"
      ],
      "text/plain": [
       "     user_id  age churn_date         city first_name  last_name   reg_date  \\\n",
       "0       1000   52        NaT    Краснодар     Рафаил  Верещагин 2018-05-25   \n",
       "1       1001   41        NaT       Москва       Иван       Ежов 2018-11-01   \n",
       "2       1002   59        NaT  Стерлитамак    Евгений  Абрамович 2018-06-17   \n",
       "3       1003   23        NaT       Москва      Белла   Белякова 2018-08-17   \n",
       "4       1004   68        NaT  Новокузнецк    Татьяна   Авдеенко 2018-05-14   \n",
       "..       ...  ...        ...          ...        ...        ...        ...   \n",
       "495     1495   65        NaT      Иркутск  Авксентий      Фокин 2018-08-28   \n",
       "496     1496   36        NaT      Вологда     Трифон     Блохин 2018-01-27   \n",
       "497     1497   32        NaT    Челябинск   Каролина     Агеева 2018-10-09   \n",
       "498     1498   68 2018-10-25  Владикавказ   Всеволод    Акимчин 2018-07-19   \n",
       "499     1499   35        NaT        Пермь     Гектор   Корнилов 2018-09-27   \n",
       "\n",
       "    tariff duration  full_mount  ... min_used_per_m  over_min_used_per_m  \\\n",
       "0    ultra 220 days           7  ...     352.571429             0.000000   \n",
       "1    smart  60 days           2  ...     422.000000             0.000000   \n",
       "2    smart 197 days           6  ...     231.166667             0.000000   \n",
       "3    ultra 136 days           4  ...     870.750000             0.000000   \n",
       "4    ultra 231 days           7  ...     124.857143             0.000000   \n",
       "..     ...      ...         ...  ...            ...                  ...   \n",
       "495  ultra 125 days           4  ...     937.500000             0.000000   \n",
       "496  smart 338 days          11  ...     520.818182            46.636364   \n",
       "497  smart  83 days           2  ...     470.000000            48.500000   \n",
       "498  smart  98 days           3  ...     390.000000             0.000000   \n",
       "499  smart  95 days           3  ...     515.666667            18.000000   \n",
       "\n",
       "     over_min_used_price_per_m  mes_used  over_mes_used  over_mes_used_price  \\\n",
       "0                     0.000000     473.0            0.0                  0.0   \n",
       "1                     0.000000       0.0            0.0                  0.0   \n",
       "2                     0.000000      64.0            0.0                  0.0   \n",
       "3                     0.000000     342.0            0.0                  0.0   \n",
       "4                     0.000000    1085.0            0.0                  0.0   \n",
       "..                         ...       ...            ...                  ...   \n",
       "495                   0.000000     323.0            0.0                  0.0   \n",
       "496                 139.909091     448.0            0.0                  0.0   \n",
       "497                 145.500000      37.0            0.0                  0.0   \n",
       "498                   0.000000     156.0            7.0                 21.0   \n",
       "499                  54.000000     173.0           23.0                 69.0   \n",
       "\n",
       "     mes_used_per_m  over_mes_used_per_m  over_mes_used_price_per_m  \\\n",
       "0         67.571429             0.000000                        0.0   \n",
       "1          0.000000             0.000000                        0.0   \n",
       "2         10.666667             0.000000                        0.0   \n",
       "3         85.500000             0.000000                        0.0   \n",
       "4        155.000000             0.000000                        0.0   \n",
       "..              ...                  ...                        ...   \n",
       "495       80.750000             0.000000                        0.0   \n",
       "496       40.727273             0.000000                        0.0   \n",
       "497       18.500000             0.000000                        0.0   \n",
       "498       52.000000             2.333333                        7.0   \n",
       "499       57.666667             7.666667                       23.0   \n",
       "\n",
       "     profit_per_m  \n",
       "0     1950.000000  \n",
       "1      850.000000  \n",
       "2     1083.333333  \n",
       "3     1950.000000  \n",
       "4     1950.000000  \n",
       "..            ...  \n",
       "495   2362.500000  \n",
       "496   2471.727273  \n",
       "497    895.500000  \n",
       "498   1957.000000  \n",
       "499    827.000000  \n",
       "\n",
       "[464 rows x 30 columns]"
      ]
     },
     "execution_count": 15,
     "metadata": {},
     "output_type": "execute_result"
    }
   ],
   "source": [
    "uf"
   ]
  },
  {
   "cell_type": "markdown",
   "metadata": {},
   "source": [
    "<div class=\"alert alert-danger\">\n",
    "<font size=\"5\"><b>Комментарий ревьюера</b></font>\n",
    "\n",
    "Ошибка: Скорректируй вид таблицы, работай с полными данными, а не с усредненными показателями. \n",
    "</div>"
   ]
  },
  {
   "cell_type": "markdown",
   "metadata": {},
   "source": [
    "<div class=\"alert alert-info\">\n",
    "<b>Комментарий студента:</b> При всем уважении и без негатива, но мне кажется, что ты не достаточно подробно просмотрел принцип получения данных.  \n",
    "Те самые полные данные за каждый месяц формируются внутри функции в датафрейме `users_used`, по которому усредненные данные и получаются. Так как цель работы не изучить динамику за определенный месяц, то сами по себе данные за месяцы нам не нужны, поэтому они сразу подвергаются дальшейшей обработке.  \n",
    "Если я нигде не ошибся, то результаты получены верно с учетом конкретных перерасходов по месяцам.</div>"
   ]
  },
  {
   "cell_type": "markdown",
   "metadata": {},
   "source": [
    "<div class=\"alert alert-danger\">\n",
    "<font size=\"5\"><b>Комментарий ревьюера 2</b></font>\n",
    "\n",
    "Ошибка: Да, полные значения получались внутри функции. Но эти полные данные стоит оставить для дальнейшей работы, дальнейшегоо анализа, без лишнего усреднения. Динамику мы не изучаем, но это не значит, что все показатели можно просто усреднить. Смотри, в чем особенность. Пользователи используют услуги оператора разное по продолжительности время. В итоге ты для одного пользователя проводишь усреднение 12 значений, для другого - 5 значений, а для третьего - рассчитываешь значение лишь по одному месяцу. Пусть все они используют смарт. Первый пользователь тратит 1500 каждый месяц, второй - 1000, третий не выходит за границы тарифа - 550р. Считаем среднюю выручку ((1500 * 12) + (1000 * 5) + 550) / 18 = 1308. Считаем среднюю выручку по средним (1500 + 1000 + 550) / 3 = 1016. Разница колоссальная. Во всех расчетах стат. показателей ниже будет такая неточность: в расчетах среднего, дисперсии и стандартного отклонения. Средние значения от средних брать не стоит. Происходит вышеописанная ошибка. Будь у нас одинаковый временной интервал, все было бы правильно. Привел доказательство этого ниже. Собственно, эта же проблема переносится и на стат. тесты, внутри которых происходит расчет средних значений. Поэтому результаты получаются искаженными. Если ты с этим не согласен, то обоснуй свою позицию. Если все будет правильно и логично, то мы остановимся на таком решении. А пока советую создать по каждой услуге таблицу через группировку по id пользователя и месяцу, а затем просто соедини эти 3 таблицы методом merge (важно разобраться с типом соединения). Так мы получим все данные о потреблении каждой услуги каждым пользователем за все месяцы, после чего останется лишь рассчитать выручку. \n",
    "\n",
    "</div>"
   ]
  },
  {
   "cell_type": "markdown",
   "metadata": {},
   "source": [
    "<div class=\"alert alert-info\">\n",
    "<b>Комментарий студента:</b> Хорошо. Предположим, что эти 3 клиента (1500, 1000 и 550) все что есть. В рассматриваемый месяц средняя выручка получилась 1308. Но тогда в следующий ((1500 * 13) + (1000 * 6) + (550*2)) / 21 = 1267. И еще +1 = 1235,4 и так далее средняя выручка будет все падать и падать (см. график ниже) стремясь именно к значению 1016. Но как же так получается, рассматриваемая система не меняется, а прибыль падает? Потому что такой способ подсчета показывает не среднюю прибыль за месяц, а среднюю прибыль за прошлый рассматриваемый период в котором вес старых пользователей смещает среднее значение. И если систему не изменять, то прибыль эта будет как раз стремиться к истинной средней выручке. Искаженнымми результатами являются как раз те, которые считаются первым способом. А сумма средних показывает именно относительно точную прибыль, которая будет получена ежемесячно при неизменном составе пользователей.\n",
    "</div>"
   ]
  },
  {
   "cell_type": "code",
   "execution_count": 30,
   "metadata": {},
   "outputs": [
    {
     "data": {
      "text/plain": [
       "<matplotlib.lines.Line2D at 0x7f3d783332d0>"
      ]
     },
     "execution_count": 30,
     "metadata": {},
     "output_type": "execute_result"
    },
    {
     "data": {
      "image/png": "[encoded data removed]",
      "text/plain": [
       "<Figure size 432x288 with 1 Axes>"
      ]
     },
     "metadata": {
      "needs_background": "light"
     },
     "output_type": "display_data"
    }
   ],
   "source": [
    "df1=pd.DataFrame(range(0,100),columns=['c'])\n",
    "df1['a'] = df1.c+11\n",
    "df1['b'] = df1.c+4\n",
    "df1['income'] = (1500*df1.a+1000*df1.b+550*df1.c)/(df1.a+df1.b+df1.c)\n",
    "df1.loc[1:].income.plot(ylim=(500,1500), grid=True)\n",
    "plt.axhline(y=1016, color='r')"
   ]
  },
  {
   "cell_type": "code",
   "execution_count": 3,
   "metadata": {},
   "outputs": [
    {
     "data": {
      "text/plain": [
       "1235.4166666666667"
      ]
     },
     "execution_count": 3,
     "metadata": {},
     "output_type": "execute_result"
    }
   ],
   "source": [
    "((1500 * 14) + (1000 * 7) + (550*3)) / 24"
   ]
  },
  {
   "cell_type": "code",
   "execution_count": 2,
   "metadata": {},
   "outputs": [
    {
     "data": {
      "text/plain": [
       "1016.6666666666666"
      ]
     },
     "execution_count": 2,
     "metadata": {},
     "output_type": "execute_result"
    }
   ],
   "source": [
    "(1500 + 1000 + 550) / 3"
   ]
  },
  {
   "cell_type": "code",
   "execution_count": 3,
   "metadata": {},
   "outputs": [
    {
     "data": {
      "text/plain": [
       "1016.6666666666666"
      ]
     },
     "execution_count": 3,
     "metadata": {},
     "output_type": "execute_result"
    }
   ],
   "source": [
    "((1500 * 12) + (1000 * 12) + 550 * 12) / 36"
   ]
  },
  {
   "cell_type": "markdown",
   "metadata": {},
   "source": [
    "## Анализ  данных"
   ]
  },
  {
   "cell_type": "markdown",
   "metadata": {},
   "source": [
    "Рассмотрим последовательное каждый вид услуг использующийся пользователями \"Мегалайн\"."
   ]
  },
  {
   "cell_type": "markdown",
   "metadata": {},
   "source": [
    "### internet"
   ]
  },
  {
   "cell_type": "code",
   "execution_count": 16,
   "metadata": {
    "scrolled": false
   },
   "outputs": [
    {
     "data": {
      "text/plain": [
       "<matplotlib.legend.Legend at 0x7f54b5056b10>"
      ]
     },
     "execution_count": 16,
     "metadata": {},
     "output_type": "execute_result"
    },
    {
     "data": {
      "image/png": "[encoded data removed]",
      "text/plain": [
       "<Figure size 864x504 with 1 Axes>"
      ]
     },
     "metadata": {
      "needs_background": "light"
     },
     "output_type": "display_data"
    }
   ],
   "source": [
    "plt.figure(figsize=(12,7))\n",
    "plt.title('Consumed traffic distribution', fontsize=20)\n",
    "plt.ylabel(\"Count\")\n",
    "plt.xlabel(\"Gb\")\n",
    "\n",
    "uf[uf.tariff=='smart'].gb_used_per_m.sort_values().hist(alpha=0.7)\n",
    "uf[uf.tariff=='ultra'].gb_used_per_m.sort_values().hist(alpha=0.7)\n",
    "plt.axvline(x=15, color='b')\n",
    "plt.axvline(x=30, color='y')\n",
    "plt.legend(labels=[\"smart limit\", \"ultra limit\", \"smart\", \"ultra\"])"
   ]
  },
  {
   "cell_type": "markdown",
   "metadata": {},
   "source": [
    "Интернет главный инструмент для обменом информацией в современном мире. Части пользователей обоих тарифов не хватает ежемесячных лимитов."
   ]
  },
  {
   "cell_type": "code",
   "execution_count": 17,
   "metadata": {
    "scrolled": false
   },
   "outputs": [
    {
     "name": "stdout",
     "output_type": "stream",
     "text": [
      "26.6% пользователей тарифа smart не покупают дополнительно интернет трафик \n",
      "80.9% пользователей тарифа ultra не покупают дополнительно интернет трафик \n"
     ]
    }
   ],
   "source": [
    "print(f'''{stats.percentileofscore(uf[uf.tariff=='smart'].gb_used_per_m.sort_values(), 15):.3}% \\\n",
    "пользователей тарифа smart не покупают дополнительно интернет трафик ''')\n",
    "print(f'''{stats.percentileofscore(uf[uf.tariff=='ultra'].gb_used_per_m.sort_values(), 30):.3}% \\\n",
    "пользователей тарифа ultra не покупают дополнительно интернет трафик ''')"
   ]
  },
  {
   "cell_type": "code",
   "execution_count": 18,
   "metadata": {},
   "outputs": [
    {
     "name": "stdout",
     "output_type": "stream",
     "text": [
      " Cреднее количество потребляемого трафика пользователей smart: 17.8 Gb\n",
      " Дисперсия: 18.6\n",
      " Стардартное отклонение: 4.32\n",
      " Cреднее количество потребляемого трафика пользователей ultra: 21.4 Gb\n",
      " Дисперсия: 86.0\n",
      " Стардартное отклонение: 9.27\n"
     ]
    }
   ],
   "source": [
    "print(f''' Cреднее количество потребляемого трафика пользователей smart: \\\n",
    "{uf[uf.tariff=='smart'].gb_used_per_m.mean():.3} Gb''')\n",
    "print(f''' Дисперсия: \\\n",
    "{np.var(uf[uf.tariff=='smart'].gb_used_per_m):.3}''')\n",
    "print(f''' Стардартное отклонение: \\\n",
    "{np.std(uf[uf.tariff=='smart'].gb_used_per_m):.3}''')\n",
    "\n",
    "print(f''' Cреднее количество потребляемого трафика пользователей ultra: \\\n",
    "{uf[uf.tariff=='ultra'].gb_used_per_m.mean():.3} Gb''')\n",
    "print(f''' Дисперсия: \\\n",
    "{np.var(uf[uf.tariff=='ultra'].gb_used_per_m):.3}''')\n",
    "print(f''' Стардартное отклонение: \\\n",
    "{np.std(uf[uf.tariff=='ultra'].gb_used_per_m):.3}''')"
   ]
  },
  {
   "cell_type": "markdown",
   "metadata": {},
   "source": [
    "### minutes"
   ]
  },
  {
   "cell_type": "code",
   "execution_count": 19,
   "metadata": {
    "scrolled": false
   },
   "outputs": [
    {
     "data": {
      "text/plain": [
       "<matplotlib.legend.Legend at 0x7f54b399d910>"
      ]
     },
     "execution_count": 19,
     "metadata": {},
     "output_type": "execute_result"
    },
    {
     "data": {
      "image/png": "[encoded data removed]",
      "text/plain": [
       "<Figure size 864x504 with 1 Axes>"
      ]
     },
     "metadata": {
      "needs_background": "light"
     },
     "output_type": "display_data"
    }
   ],
   "source": [
    "plt.figure(figsize=(12,7))\n",
    "plt.title('Consumed minutes distribution', fontsize=20)\n",
    "plt.ylabel(\"Count\")\n",
    "plt.xlabel(\"minutes\")\n",
    "\n",
    "uf[uf.tariff=='smart'].min_used_per_m.sort_values().hist(alpha=0.7)\n",
    "uf[uf.tariff=='ultra'].min_used_per_m.sort_values().hist(alpha=0.7)\n",
    "plt.axvline(x=500, color='b')\n",
    "plt.legend(labels=[\"smart limit\", \"smart\", \"ultra\"])"
   ]
  },
  {
   "cell_type": "markdown",
   "metadata": {},
   "source": [
    "Лимиты по тарифу ultra не указаны на графике, так как они в 2 раза превышают требования самого \"общительного\" пользователя"
   ]
  },
  {
   "cell_type": "code",
   "execution_count": 20,
   "metadata": {
    "scrolled": false
   },
   "outputs": [
    {
     "name": "stdout",
     "output_type": "stream",
     "text": [
      "62.2% пользователей тарифа smart не покупают дополнительно минуты разговора\n",
      "100.0% пользователей тарифа ultra не покупают дополнительно минуты разговора\n"
     ]
    }
   ],
   "source": [
    "print(f'''{stats.percentileofscore(uf[uf.tariff=='smart'].min_used_per_m.sort_values(), 500):.3}% \\\n",
    "пользователей тарифа smart не покупают дополнительно минуты разговора''')\n",
    "print(f'''{stats.percentileofscore(uf[uf.tariff=='ultra'].min_used_per_m.sort_values(), 3000):.4}% \\\n",
    "пользователей тарифа ultra не покупают дополнительно минуты разговора''')"
   ]
  },
  {
   "cell_type": "code",
   "execution_count": 21,
   "metadata": {},
   "outputs": [
    {
     "name": "stdout",
     "output_type": "stream",
     "text": [
      " Cреднее количество потребляемых минут разговора пользователей smart: 459.0 минут\n",
      " Дисперсия: 30138.6\n",
      " Стардартное отклонение: 173.6\n",
      " Cреднее количество потребляемых  минут разговора пользователей ultra: 573.1 минут\n",
      " Дисперсия: 99012.5\n",
      " Стардартное отклонение: 314.7\n"
     ]
    }
   ],
   "source": [
    "print(f''' Cреднее количество потребляемых минут разговора пользователей smart: \\\n",
    "{uf[uf.tariff=='smart'].min_used_per_m.mean():.4} минут''')\n",
    "print(f''' Дисперсия: \\\n",
    "{np.var(uf[uf.tariff=='smart'].min_used_per_m):.6}''')\n",
    "print(f''' Стардартное отклонение: \\\n",
    "{np.std(uf[uf.tariff=='smart'].min_used_per_m):.4}''')\n",
    "\n",
    "print(f''' Cреднее количество потребляемых  минут разговора пользователей ultra: \\\n",
    "{uf[uf.tariff=='ultra'].min_used_per_m.mean():.4} минут''')\n",
    "print(f''' Дисперсия: \\\n",
    "{np.var(uf[uf.tariff=='ultra'].min_used_per_m):.6}''')\n",
    "print(f''' Стардартное отклонение: \\\n",
    "{np.std(uf[uf.tariff=='ultra'].min_used_per_m):.4}''')"
   ]
  },
  {
   "cell_type": "markdown",
   "metadata": {},
   "source": [
    "### messages"
   ]
  },
  {
   "cell_type": "code",
   "execution_count": 22,
   "metadata": {
    "scrolled": false
   },
   "outputs": [
    {
     "data": {
      "text/plain": [
       "<matplotlib.legend.Legend at 0x7f54b38df690>"
      ]
     },
     "execution_count": 22,
     "metadata": {},
     "output_type": "execute_result"
    },
    {
     "data": {
      "image/png": "[encoded data removed]",
      "text/plain": [
       "<Figure size 864x504 with 1 Axes>"
      ]
     },
     "metadata": {
      "needs_background": "light"
     },
     "output_type": "display_data"
    }
   ],
   "source": [
    "plt.figure(figsize=(12,7))\n",
    "plt.title('Consumed messages distribution', fontsize=20)\n",
    "plt.ylabel(\"Count\")\n",
    "plt.xlabel(\"messages\")\n",
    "\n",
    "uf[uf.tariff=='smart'].mes_used_per_m.sort_values().hist(alpha=0.7)\n",
    "uf[uf.tariff=='ultra'].mes_used_per_m.sort_values().hist(alpha=0.7)\n",
    "plt.axvline(x=50, color='b')\n",
    "\n",
    "plt.legend(labels=[\"smart limit\", \"smart\", \"ultra\"])"
   ]
  },
  {
   "cell_type": "markdown",
   "metadata": {},
   "source": [
    "Лимиты по тарифу ultra не указаны на графике, так как они в 5 раз превышают требования самого активного пользователя sms"
   ]
  },
  {
   "cell_type": "code",
   "execution_count": 23,
   "metadata": {
    "scrolled": true
   },
   "outputs": [
    {
     "name": "stdout",
     "output_type": "stream",
     "text": [
      "72.1% пользователей тарифа smart не покупают дополнительно сообщения\n",
      "100.0% пользователей тарифа ultra не покупают дополнительно сообщения\n"
     ]
    }
   ],
   "source": [
    "print(f'''{stats.percentileofscore(uf[uf.tariff=='smart'].mes_used_per_m.sort_values(), 50):.3}% \\\n",
    "пользователей тарифа smart не покупают дополнительно сообщения''')\n",
    "print(f'''{stats.percentileofscore(uf[uf.tariff=='ultra'].mes_used_per_m.sort_values(), 1000):.4}% \\\n",
    "пользователей тарифа ultra не покупают дополнительно сообщения''')"
   ]
  },
  {
   "cell_type": "code",
   "execution_count": 24,
   "metadata": {},
   "outputs": [
    {
     "name": "stdout",
     "output_type": "stream",
     "text": [
      " Cреднее количество потребляемых сообщений пользователей smart: 35.3 шт\n",
      " Дисперсия: 817.4\n",
      " Стардартное отклонение: 28.6\n",
      " Cреднее количество потребляемых  сообщение пользователей ultra: 58.3 шт\n",
      " Дисперсия: 2462.8\n",
      " Стардартное отклонение: 49.6\n"
     ]
    }
   ],
   "source": [
    "print(f''' Cреднее количество потребляемых сообщений пользователей smart: \\\n",
    "{uf[uf.tariff=='smart'].mes_used_per_m.mean():.3} шт''')\n",
    "print(f''' Дисперсия: \\\n",
    "{np.var(uf[uf.tariff=='smart'].mes_used_per_m):.4}''')\n",
    "print(f''' Стардартное отклонение: \\\n",
    "{np.std(uf[uf.tariff=='smart'].mes_used_per_m):.3}''')\n",
    "\n",
    "print(f''' Cреднее количество потребляемых  сообщение пользователей ultra: \\\n",
    "{uf[uf.tariff=='ultra'].mes_used_per_m.mean():.3} шт''')\n",
    "print(f''' Дисперсия: \\\n",
    "{np.var(uf[uf.tariff=='ultra'].mes_used_per_m):.5}''')\n",
    "print(f''' Стардартное отклонение: \\\n",
    "{np.std(uf[uf.tariff=='ultra'].mes_used_per_m):.3}''')"
   ]
  },
  {
   "cell_type": "markdown",
   "metadata": {},
   "source": [
    "Похоже, что пользователям тарифа smart не совсем комфортно быть в Мегалайн'е. Доступных лимитов не хватает приблизительно каждому второму клиенту. Переход на ultra практически полностью покрывает потребности, но его цена в 4 раза выше."
   ]
  },
  {
   "cell_type": "markdown",
   "metadata": {},
   "source": [
    "<div class=\"alert alert-danger\">\n",
    "<font size=\"5\"><b>Комментарий ревьюера</b></font>\n",
    "\n",
    "Ошибка: По каждой услуге нам просят также рассчитать и стат. показатели: среднее, дисперсию и стандартное отклонение. Добавь расчет данных значений по каждой услуге каждого тарифа. \n",
    "\n",
    "</div>"
   ]
  },
  {
   "cell_type": "markdown",
   "metadata": {},
   "source": [
    "<div class=\"alert alert-info\">\n",
    "<b>Комментарий студента:</b> Я добавил, но визуально вся эта информация просматривается на графиках. В данном случае, как мне кажется, цифры менее наглядны, в какой-то степени вводят в заблуждение, и так как не используются в дальнейшем - избыточны </div>"
   ]
  },
  {
   "cell_type": "markdown",
   "metadata": {},
   "source": [
    "<div class=\"alert alert-success\">\n",
    "<font size=\"5\"><b>Комментарий ревьюера 2</b></font>\n",
    "\n",
    "Успех: Базовые статистические параметры получены. Приведены все необходимые графики. Здорово, что графики для одинаковых услуг тарифов приведены на одном рисунке. Так удобнее сравнивать тарифы. \n",
    "</div>"
   ]
  },
  {
   "cell_type": "markdown",
   "metadata": {},
   "source": [
    "### hypothesis testing"
   ]
  },
  {
   "cell_type": "markdown",
   "metadata": {},
   "source": [
    "#### Cредняя выручка пользователей тарифов «Ультра» и «Смарт» различаются?  "
   ]
  },
  {
   "cell_type": "markdown",
   "metadata": {},
   "source": [
    "Посмотрим есть ли разница в средней выручке с тарифов."
   ]
  },
  {
   "cell_type": "code",
   "execution_count": 25,
   "metadata": {},
   "outputs": [
    {
     "data": {
      "text/plain": [
       "<matplotlib.legend.Legend at 0x7f54b38ea3d0>"
      ]
     },
     "execution_count": 25,
     "metadata": {},
     "output_type": "execute_result"
    },
    {
     "data": {
      "image/png": "[encoded data removed]",
      "text/plain": [
       "<Figure size 864x504 with 1 Axes>"
      ]
     },
     "metadata": {
      "needs_background": "light"
     },
     "output_type": "display_data"
    }
   ],
   "source": [
    "plt.figure(figsize=(12,7))\n",
    "plt.title('Monthly fee distribution', fontsize=20)\n",
    "plt.ylabel(\"Count\")\n",
    "plt.xlabel(\"rub\")\n",
    "\n",
    "uf[uf.tariff=='smart'].profit_per_m.sort_values().hist(alpha=0.7)\n",
    "uf[uf.tariff=='ultra'].profit_per_m.sort_values().hist(alpha=0.7)\n",
    "\n",
    "plt.legend(labels=[\"smart\", \"ultra\"])"
   ]
  },
  {
   "cell_type": "code",
   "execution_count": 26,
   "metadata": {
    "scrolled": false
   },
   "outputs": [
    {
     "name": "stdout",
     "output_type": "stream",
     "text": [
      "Средняя ежемесячная выручка с пользователя тарифом smart 1451.12\n",
      "Средняя ежемесячная выручка с пользователя тарифом ultra 2132.89\n",
      "H0 - cредняя выручка тарифов «Ультра» и «Смарт» равны \n",
      "H1 - cредняя выручка тарифов «Ультра» и «Смарт» не равны \n",
      "Разница статистически значима, так как p-value = 3.9162789110819694e-19\n"
     ]
    }
   ],
   "source": [
    "print(f'''Средняя ежемесячная выручка с пользователя тарифом smart \\\n",
    "{uf[uf.tariff=='smart'].profit_per_m.mean():.6}''')\n",
    "print(f'''Средняя ежемесячная выручка с пользователя тарифом ultra \\\n",
    "{uf[uf.tariff=='ultra'].profit_per_m.mean():.6}''')\n",
    "print('H0 - cредняя выручка тарифов «Ультра» и «Смарт» равны ')\n",
    "print('H1 - cредняя выручка тарифов «Ультра» и «Смарт» не равны ')\n",
    "print(f'''Разница статистически значима, так как p-value = \\\n",
    "{stats.ttest_ind(uf[uf.tariff=='smart'].profit_per_m,\n",
    "                uf[uf.tariff=='ultra'].profit_per_m).pvalue}''')"
   ]
  },
  {
   "cell_type": "markdown",
   "metadata": {},
   "source": [
    "Ежемесячная прибыль с тарифа ultra практически равна абонентской плате, а вот пользователям smart приходится переплачивать в 3 раза, но это все равно дешевле чем сменить тариф."
   ]
  },
  {
   "cell_type": "markdown",
   "metadata": {},
   "source": [
    "<div class=\"alert alert-danger\">\n",
    "<font size=\"5\"><b>Комментарий ревьюера</b></font>\n",
    "\n",
    "Ошибка: Приведи формулировки гипотез, которые мы тестируем. Также посмотри на результаты после исправления вида анализируемой таблицы. Усреднение сильно уменьшает размеры выборок, что увеличивает вероятность ошибки второго рода. \n",
    "\n",
    "</div>"
   ]
  },
  {
   "cell_type": "markdown",
   "metadata": {},
   "source": [
    "<div class=\"alert alert-success\">\n",
    "<font size=\"5\"><b>Комментарий ревьюера 2</b></font>\n",
    "\n",
    "Успех: Формудировки гипотез теперь есть. Да, именно средние выручки по тарифам мы и сравниваем. \n",
    "\n",
    "</div>"
   ]
  },
  {
   "cell_type": "code",
   "execution_count": 27,
   "metadata": {
    "scrolled": false
   },
   "outputs": [
    {
     "data": {
      "image/png": "[encoded data removed]",
      "text/plain": [
       "<Figure size 720x432 with 1 Axes>"
      ]
     },
     "metadata": {
      "needs_background": "light"
     },
     "output_type": "display_data"
    }
   ],
   "source": [
    "plt.figure(figsize=(10,6))\n",
    "plt.title('Profit from additional packages', fontsize=20)\n",
    "plt.ylabel(\"rub\")\n",
    "\n",
    "uf.loc[(uf.tariff=='smart'),['over_gb_used_price_per_m','over_min_used_price_per_m','over_mes_used_price_per_m']].mean().plot(kind='bar', rot=0, grid=True)\n",
    "plt.xticks(range(3),['overpayment in Gb','overpayment in minutes','overpayment in messages']);"
   ]
  },
  {
   "cell_type": "markdown",
   "metadata": {},
   "source": [
    "Большую часть прибыли у smart'сменов приносит покупка дополнительного трафика."
   ]
  },
  {
   "cell_type": "markdown",
   "metadata": {},
   "source": [
    "<div class=\"alert alert-success\">\n",
    "<font size=\"5\"><b>Комментарий ревьюера</b></font>\n",
    "\n",
    "Успех: Круто, что ты заметил это!\n",
    "\n",
    "</div>"
   ]
  },
  {
   "cell_type": "markdown",
   "metadata": {},
   "source": [
    "#### Cредняя выручка пользователей из Москвы отличается от выручки пользователей из других регионов?"
   ]
  },
  {
   "cell_type": "markdown",
   "metadata": {},
   "source": [
    "Рассмотрим теперь гипотезу о том, что пользователи из Москвы приносят больше выручки"
   ]
  },
  {
   "cell_type": "code",
   "execution_count": 28,
   "metadata": {},
   "outputs": [],
   "source": [
    "uf['msk'] = uf.city == 'Москва'"
   ]
  },
  {
   "cell_type": "markdown",
   "metadata": {},
   "source": [
    "H0 - cредняя выручка тарифов «Ультра» и «Смарт» в Москве и других регионах равны  \n",
    "H1 - cредняя выручка тарифов «Ультра» и «Смарт» в Москве и других регионах не равны"
   ]
  },
  {
   "cell_type": "code",
   "execution_count": 29,
   "metadata": {
    "scrolled": false
   },
   "outputs": [
    {
     "name": "stdout",
     "output_type": "stream",
     "text": [
      "Средняя ежемесячная выручка с пользователя тарифом smart из Москвы 1367.16\n",
      "Средняя ежемесячная выручка с пользователя тарифом smart из других регионов 1470.28\n",
      "Разница статистически не значима, так как p-value = 0.3790560874331593\n"
     ]
    }
   ],
   "source": [
    "print(f'''Средняя ежемесячная выручка с пользователя тарифом smart из Москвы \\\n",
    "{uf[(uf.tariff=='smart') & uf.msk].profit_per_m.mean():.6}''')\n",
    "print(f'''Средняя ежемесячная выручка с пользователя тарифом smart из других регионов \\\n",
    "{uf[(uf.tariff=='smart') & ~uf.msk].profit_per_m.mean():.6}''')\n",
    "print(f'''Разница статистически не значима, так как p-value = \\\n",
    "{stats.ttest_ind(uf[(uf.tariff=='smart') & uf.msk].profit_per_m,\n",
    "                uf[(uf.tariff=='smart') & ~uf.msk].profit_per_m).pvalue}''')"
   ]
  },
  {
   "cell_type": "code",
   "execution_count": 30,
   "metadata": {
    "scrolled": false
   },
   "outputs": [
    {
     "name": "stdout",
     "output_type": "stream",
     "text": [
      "Средняя ежемесячная выручка с пользователя тарифом ultra из Москвы 2076.12\n",
      "Средняя ежемесячная выручка с пользователя тарифом ultra из других регионов 2149.56\n",
      "Разница статистически не значима, так как p-value = 0.39753914450786254\n"
     ]
    }
   ],
   "source": [
    "print(f'''Средняя ежемесячная выручка с пользователя тарифом ultra из Москвы \\\n",
    "{uf[(uf.tariff=='ultra') & uf.msk].profit_per_m.mean():.6}''')\n",
    "print(f'''Средняя ежемесячная выручка с пользователя тарифом ultra из других регионов \\\n",
    "{uf[(uf.tariff=='ultra') & ~uf.msk].profit_per_m.mean():.6}''')\n",
    "print(f'''Разница статистически не значима, так как p-value = \\\n",
    "{stats.ttest_ind(uf[(uf.tariff=='ultra') & uf.msk].profit_per_m,\n",
    "                uf[(uf.tariff=='ultra') & ~uf.msk].profit_per_m).pvalue}''')"
   ]
  },
  {
   "cell_type": "markdown",
   "metadata": {},
   "source": [
    "<div class=\"alert alert-danger\">\n",
    "<font size=\"5\"><b>Комментарий ревьюера</b></font>\n",
    "\n",
    "Ошибка: Исправь аналогичные помарки и при проверке второй гипотезы. \n",
    "\n",
    "</div>"
   ]
  },
  {
   "cell_type": "markdown",
   "metadata": {},
   "source": [
    "## Выводы"
   ]
  },
  {
   "cell_type": "markdown",
   "metadata": {},
   "source": [
    "1. Cредняя выручка пользователей тарифов «Ультра» и «Смарт» различаются?  \n",
    "Средняя выручка различается. Большенству пользователей «Смарт» не хватает лимитов тарифа. Не смотря на то, что на покупку дополнительных пакетов пользователи \"Смарт\" тратят в 2 раза больше чем абонентская плата, это все равно дешевле, чем брать более дорогой тариф \"Ультра\". Такое психологическое давление может являться источником негативного впечатления пользователей о \"Мегалайне\".\n",
    "2. Cредняя выручка пользователей из Москвы отличается от выручки пользователей из других регионов?  \n",
    "Средняя ежемесечная выручка от пользователей из Москвы не отличается от других регионов.\n",
    "3. Какой тариф выгоднее для оператора?  \n",
    "Самым выгодным для оператора является тариф, в котором за подключение к сети пользователь отдавал бы все свое имущество. Но будет ли такой тариф популярным? Поверхностно можно попытаться сделать вывод, что на тарифе ultra можно заработать больше, но важно не забывать о массовости. Ведь даже не учитывая наличие конкурентов, ultra в 2 раза проигрывает в популярности даже своему коллеге smart`у. Поэтому окончательный вывод уже выходит за рамки данной работы"
   ]
  },
  {
   "cell_type": "markdown",
   "metadata": {},
   "source": [
    "<div class=\"alert alert-success\">\n",
    "<font size=\"5\"><b>Комментарий ревьюера</b></font>\n",
    "\n",
    "Успех: Выводы сделаны. Приведены ответы на главные вопросы проекта. В выводах можно приводить полученные ранее значения. Также можно расписать все, что было сделано в ходе проведения работы. \n",
    "\n",
    "</div>"
   ]
  },
  {
   "cell_type": "markdown",
   "metadata": {},
   "source": [
    "<div class=\"alert alert-danger\">\n",
    "<font size=\"5\"><b>Комментарий ревьюера</b></font>\n",
    "\n",
    "Ошибка: Однако нас также просят проанализировать, какой из тарифов будет выгоднее для оператора. Ответь и на данный вопрос.\n",
    "\n",
    "</div>"
   ]
  },
  {
   "cell_type": "markdown",
   "metadata": {},
   "source": [
    "<div class=\"alert alert-success\">\n",
    "<font size=\"5\"><b>Комментарий ревьюера 2</b></font>\n",
    "\n",
    "Успех: Ок, с твоим мнением согласен. \n",
    "\n",
    "</div>"
   ]
  },
  {
   "cell_type": "markdown",
   "metadata": {},
   "source": [
    "<div class=\"alert alert-info\">\n",
    "<font size=\"5\"><b>Комментарий ревьюера</b></font>\n",
    "\n",
    "Если тебе нравится тема визуализации, то можешь изучить и методы библиотеки seaborn. Она позволяет строить довольно презентабельные графики. Рекомендую ресурс https://www.python-graph-gallery.com/. В нем содержится большая библиотека графиков с готовым кодом, который можно использовать при работе.\n",
    "\n",
    "Ты проделал большую работу, молодец! Анализируй по проекту полные данные. Функция получилась очень сложная, видна большая работа над ней, но она делает не совсем то, что нам надо. Скорректируй ее, тогда проект будет выполнен очень классно. Жду твою работу :)\n",
    "\n",
    "</div>"
   ]
  },
  {
   "cell_type": "markdown",
   "metadata": {},
   "source": [
    "<div class=\"alert alert-info\">\n",
    "<font size=\"5\"><b>Комментарий ревьюера 2</b></font>\n",
    "\n",
    "Большая часть помарок исправлена. Очень интересный диалог у нас выходит по виду финальной для анализа таблицы. Буду ждать его продолжения на следующей итерации)\n",
    "\n",
    "</div>"
   ]
  },
  {
   "cell_type": "code",
   "execution_count": null,
   "metadata": {},
   "outputs": [],
   "source": []
  }
 ],
 "metadata": {
  "ExecuteTimeLog": [
   {
    "duration": 1696,
    "start_time": "2021-12-24T06:26:29.863Z"
   },
   {
    "duration": 3850,
    "start_time": "2021-12-24T06:26:31.562Z"
   },
   {
    "duration": 577,
    "start_time": "2021-12-24T06:27:34.036Z"
   },
   {
    "duration": 96,
    "start_time": "2021-12-24T06:27:40.244Z"
   },
   {
    "duration": 145,
    "start_time": "2021-12-24T06:27:41.013Z"
   },
   {
    "duration": 15,
    "start_time": "2021-12-24T06:27:41.654Z"
   },
   {
    "duration": 87,
    "start_time": "2021-12-24T06:27:42.144Z"
   },
   {
    "duration": 96,
    "start_time": "2021-12-24T06:27:42.498Z"
   },
   {
    "duration": 68,
    "start_time": "2021-12-24T06:27:42.836Z"
   },
   {
    "duration": 8,
    "start_time": "2021-12-24T06:27:43.731Z"
   },
   {
    "duration": 12,
    "start_time": "2021-12-24T06:27:44.119Z"
   },
   {
    "duration": 7,
    "start_time": "2021-12-24T06:27:44.437Z"
   },
   {
    "duration": 555,
    "start_time": "2021-12-24T06:27:44.714Z"
   },
   {
    "duration": 14,
    "start_time": "2021-12-24T06:27:45.273Z"
   },
   {
    "duration": 607,
    "start_time": "2021-12-24T06:27:45.294Z"
   },
   {
    "duration": 9,
    "start_time": "2021-12-24T06:27:45.905Z"
   },
   {
    "duration": 602,
    "start_time": "2021-12-24T06:27:45.917Z"
   },
   {
    "duration": 11,
    "start_time": "2021-12-24T06:27:46.523Z"
   },
   {
    "duration": 482,
    "start_time": "2021-12-24T06:27:46.537Z"
   },
   {
    "duration": 17,
    "start_time": "2021-12-24T06:27:47.022Z"
   },
   {
    "duration": 246,
    "start_time": "2021-12-24T06:27:47.060Z"
   },
   {
    "duration": 6,
    "start_time": "2021-12-24T06:27:47.309Z"
   },
   {
    "duration": 21,
    "start_time": "2021-12-24T06:27:47.506Z"
   },
   {
    "duration": 20,
    "start_time": "2021-12-24T06:27:47.792Z"
   },
   {
    "duration": 3,
    "start_time": "2021-12-24T06:33:25.708Z"
   },
   {
    "duration": 5,
    "start_time": "2021-12-24T06:53:29.283Z"
   },
   {
    "duration": 41,
    "start_time": "2021-12-24T06:53:34.822Z"
   },
   {
    "duration": 40,
    "start_time": "2021-12-24T06:53:46.844Z"
   },
   {
    "duration": 136,
    "start_time": "2021-12-24T06:55:00.917Z"
   },
   {
    "duration": 68,
    "start_time": "2021-12-24T06:55:28.299Z"
   },
   {
    "duration": 22,
    "start_time": "2021-12-24T06:55:57.263Z"
   },
   {
    "duration": 385,
    "start_time": "2021-12-24T06:56:03.134Z"
   },
   {
    "duration": 53,
    "start_time": "2021-12-24T06:57:02.863Z"
   },
   {
    "duration": 375,
    "start_time": "2021-12-24T06:57:13.515Z"
   },
   {
    "duration": 5,
    "start_time": "2021-12-24T06:57:34.210Z"
   },
   {
    "duration": 192,
    "start_time": "2021-12-24T06:57:44.912Z"
   },
   {
    "duration": 132,
    "start_time": "2021-12-24T07:01:25.043Z"
   },
   {
    "duration": 23,
    "start_time": "2021-12-24T07:01:25.155Z"
   },
   {
    "duration": 428,
    "start_time": "2021-12-24T07:01:40.445Z"
   },
   {
    "duration": 128,
    "start_time": "2021-12-24T07:02:54.334Z"
   },
   {
    "duration": 649,
    "start_time": "2021-12-24T07:02:58.636Z"
   },
   {
    "duration": 373,
    "start_time": "2021-12-24T07:03:24.003Z"
   },
   {
    "duration": 125,
    "start_time": "2021-12-24T07:08:33.974Z"
   },
   {
    "duration": 43,
    "start_time": "2021-12-24T07:08:44.077Z"
   },
   {
    "duration": 43,
    "start_time": "2021-12-24T07:14:33.624Z"
   },
   {
    "duration": 43,
    "start_time": "2021-12-24T07:15:07.276Z"
   },
   {
    "duration": 18,
    "start_time": "2021-12-24T07:15:52.433Z"
   },
   {
    "duration": 298,
    "start_time": "2021-12-24T07:16:15.877Z"
   },
   {
    "duration": 289,
    "start_time": "2021-12-24T07:17:05.137Z"
   },
   {
    "duration": 286,
    "start_time": "2021-12-24T07:18:16.964Z"
   },
   {
    "duration": 301,
    "start_time": "2021-12-24T07:18:29.903Z"
   },
   {
    "duration": 111,
    "start_time": "2021-12-24T07:18:39.917Z"
   },
   {
    "duration": 230,
    "start_time": "2021-12-24T07:18:52.135Z"
   },
   {
    "duration": 237,
    "start_time": "2021-12-24T07:56:13.444Z"
   },
   {
    "duration": 240,
    "start_time": "2021-12-24T07:56:18.952Z"
   },
   {
    "duration": 61,
    "start_time": "2021-12-24T08:03:35.748Z"
   },
   {
    "duration": 56,
    "start_time": "2021-12-24T08:27:40.940Z"
   },
   {
    "duration": 53,
    "start_time": "2021-12-24T08:27:51.023Z"
   },
   {
    "duration": 28,
    "start_time": "2021-12-24T08:31:14.924Z"
   },
   {
    "duration": 546,
    "start_time": "2021-12-24T08:32:48.683Z"
   },
   {
    "duration": 510,
    "start_time": "2021-12-24T08:33:31.286Z"
   },
   {
    "duration": 530,
    "start_time": "2021-12-24T08:33:37.594Z"
   },
   {
    "duration": 701,
    "start_time": "2021-12-24T08:34:04.235Z"
   },
   {
    "duration": 778,
    "start_time": "2021-12-24T08:36:03.086Z"
   },
   {
    "duration": 579,
    "start_time": "2021-12-24T08:36:07.552Z"
   },
   {
    "duration": 552,
    "start_time": "2021-12-24T08:37:21.543Z"
   },
   {
    "duration": 571,
    "start_time": "2021-12-24T08:37:41.803Z"
   },
   {
    "duration": 767,
    "start_time": "2021-12-24T08:38:54.338Z"
   },
   {
    "duration": 592,
    "start_time": "2021-12-24T08:39:40.199Z"
   },
   {
    "duration": 679,
    "start_time": "2021-12-24T08:40:00.894Z"
   },
   {
    "duration": 750,
    "start_time": "2021-12-24T08:40:40.995Z"
   },
   {
    "duration": 656,
    "start_time": "2021-12-24T08:41:44.619Z"
   },
   {
    "duration": 642,
    "start_time": "2021-12-24T08:42:32.405Z"
   },
   {
    "duration": 14,
    "start_time": "2021-12-24T09:18:00.587Z"
   },
   {
    "duration": 14,
    "start_time": "2021-12-24T09:18:10.246Z"
   },
   {
    "duration": 12,
    "start_time": "2021-12-24T09:18:29.051Z"
   },
   {
    "duration": 13,
    "start_time": "2021-12-24T09:18:33.739Z"
   },
   {
    "duration": 134,
    "start_time": "2021-12-24T09:19:26.209Z"
   },
   {
    "duration": 1007,
    "start_time": "2021-12-24T09:19:41.239Z"
   },
   {
    "duration": 14,
    "start_time": "2021-12-24T09:19:52.512Z"
   },
   {
    "duration": 12,
    "start_time": "2021-12-24T09:20:36.740Z"
   },
   {
    "duration": 13,
    "start_time": "2021-12-24T09:20:50.629Z"
   },
   {
    "duration": 13,
    "start_time": "2021-12-24T09:20:53.221Z"
   },
   {
    "duration": 12,
    "start_time": "2021-12-24T09:21:40.627Z"
   },
   {
    "duration": 15,
    "start_time": "2021-12-24T09:21:47.097Z"
   },
   {
    "duration": 12,
    "start_time": "2021-12-24T09:22:05.294Z"
   },
   {
    "duration": 14,
    "start_time": "2021-12-24T09:22:10.135Z"
   },
   {
    "duration": 12,
    "start_time": "2021-12-24T09:22:19.242Z"
   },
   {
    "duration": 14,
    "start_time": "2021-12-24T09:22:25.017Z"
   },
   {
    "duration": 12,
    "start_time": "2021-12-24T09:22:40.126Z"
   },
   {
    "duration": 11,
    "start_time": "2021-12-24T09:22:44.399Z"
   },
   {
    "duration": 11,
    "start_time": "2021-12-24T09:22:46.792Z"
   },
   {
    "duration": 5,
    "start_time": "2021-12-24T09:23:21.944Z"
   },
   {
    "duration": 15,
    "start_time": "2021-12-24T09:23:26.555Z"
   },
   {
    "duration": 12,
    "start_time": "2021-12-24T09:24:39.918Z"
   },
   {
    "duration": 12,
    "start_time": "2021-12-24T09:24:43.677Z"
   },
   {
    "duration": 12,
    "start_time": "2021-12-24T09:24:51.419Z"
   },
   {
    "duration": 12,
    "start_time": "2021-12-24T09:24:57.316Z"
   },
   {
    "duration": 13,
    "start_time": "2021-12-24T09:25:44.053Z"
   },
   {
    "duration": 11,
    "start_time": "2021-12-24T09:25:48.844Z"
   },
   {
    "duration": 11,
    "start_time": "2021-12-24T09:26:11.621Z"
   },
   {
    "duration": 12,
    "start_time": "2021-12-24T09:26:22.675Z"
   },
   {
    "duration": 13,
    "start_time": "2021-12-24T09:26:27.192Z"
   },
   {
    "duration": 145,
    "start_time": "2021-12-24T09:27:00.280Z"
   },
   {
    "duration": 12,
    "start_time": "2021-12-24T09:27:10.600Z"
   },
   {
    "duration": 13,
    "start_time": "2021-12-24T09:27:26.650Z"
   },
   {
    "duration": 12,
    "start_time": "2021-12-24T09:27:29.615Z"
   },
   {
    "duration": 18,
    "start_time": "2021-12-24T09:28:31.907Z"
   },
   {
    "duration": 18,
    "start_time": "2021-12-24T09:28:38.881Z"
   },
   {
    "duration": 18,
    "start_time": "2021-12-24T09:28:51.737Z"
   },
   {
    "duration": 18,
    "start_time": "2021-12-24T09:28:56.379Z"
   },
   {
    "duration": 18,
    "start_time": "2021-12-24T09:29:27.051Z"
   },
   {
    "duration": 16,
    "start_time": "2021-12-24T09:38:35.287Z"
   },
   {
    "duration": 16,
    "start_time": "2021-12-24T09:39:21.786Z"
   },
   {
    "duration": 15,
    "start_time": "2021-12-24T09:39:24.677Z"
   },
   {
    "duration": 19,
    "start_time": "2021-12-24T09:42:36.118Z"
   },
   {
    "duration": 18,
    "start_time": "2021-12-24T09:42:54.138Z"
   },
   {
    "duration": 18,
    "start_time": "2021-12-24T09:43:01.627Z"
   },
   {
    "duration": 20,
    "start_time": "2021-12-24T09:43:54.371Z"
   },
   {
    "duration": 21,
    "start_time": "2021-12-24T09:44:16.152Z"
   },
   {
    "duration": 23,
    "start_time": "2021-12-24T09:44:26.045Z"
   },
   {
    "duration": 5,
    "start_time": "2021-12-24T09:44:30.981Z"
   },
   {
    "duration": 21,
    "start_time": "2021-12-24T09:44:30.989Z"
   },
   {
    "duration": 652,
    "start_time": "2021-12-24T09:44:31.015Z"
   },
   {
    "duration": 93,
    "start_time": "2021-12-24T09:44:31.670Z"
   },
   {
    "duration": 271,
    "start_time": "2021-12-24T09:44:31.767Z"
   },
   {
    "duration": 139,
    "start_time": "2021-12-24T09:44:32.040Z"
   },
   {
    "duration": 84,
    "start_time": "2021-12-24T09:44:32.182Z"
   },
   {
    "duration": 130,
    "start_time": "2021-12-24T09:44:32.270Z"
   },
   {
    "duration": -16,
    "start_time": "2021-12-24T09:44:32.420Z"
   },
   {
    "duration": -19,
    "start_time": "2021-12-24T09:44:32.424Z"
   },
   {
    "duration": -18,
    "start_time": "2021-12-24T09:44:32.426Z"
   },
   {
    "duration": -18,
    "start_time": "2021-12-24T09:44:32.428Z"
   },
   {
    "duration": -21,
    "start_time": "2021-12-24T09:44:32.433Z"
   },
   {
    "duration": -21,
    "start_time": "2021-12-24T09:44:32.435Z"
   },
   {
    "duration": -20,
    "start_time": "2021-12-24T09:44:32.437Z"
   },
   {
    "duration": -20,
    "start_time": "2021-12-24T09:44:32.439Z"
   },
   {
    "duration": -20,
    "start_time": "2021-12-24T09:44:32.441Z"
   },
   {
    "duration": -20,
    "start_time": "2021-12-24T09:44:32.443Z"
   },
   {
    "duration": -21,
    "start_time": "2021-12-24T09:44:32.446Z"
   },
   {
    "duration": -20,
    "start_time": "2021-12-24T09:44:32.448Z"
   },
   {
    "duration": -19,
    "start_time": "2021-12-24T09:44:32.449Z"
   },
   {
    "duration": -24,
    "start_time": "2021-12-24T09:44:32.456Z"
   },
   {
    "duration": -25,
    "start_time": "2021-12-24T09:44:32.459Z"
   },
   {
    "duration": -25,
    "start_time": "2021-12-24T09:44:32.461Z"
   },
   {
    "duration": -27,
    "start_time": "2021-12-24T09:44:32.465Z"
   },
   {
    "duration": -27,
    "start_time": "2021-12-24T09:44:32.467Z"
   },
   {
    "duration": -10,
    "start_time": "2021-12-24T09:44:32.469Z"
   },
   {
    "duration": -10,
    "start_time": "2021-12-24T09:44:32.471Z"
   },
   {
    "duration": -10,
    "start_time": "2021-12-24T09:44:32.474Z"
   },
   {
    "duration": 4,
    "start_time": "2021-12-24T09:44:56.771Z"
   },
   {
    "duration": 6,
    "start_time": "2021-12-24T09:44:56.777Z"
   },
   {
    "duration": 540,
    "start_time": "2021-12-24T09:44:56.786Z"
   },
   {
    "duration": 59,
    "start_time": "2021-12-24T09:44:57.329Z"
   },
   {
    "duration": 224,
    "start_time": "2021-12-24T09:44:57.390Z"
   },
   {
    "duration": 109,
    "start_time": "2021-12-24T09:44:57.617Z"
   },
   {
    "duration": 88,
    "start_time": "2021-12-24T09:44:57.729Z"
   },
   {
    "duration": 111,
    "start_time": "2021-12-24T09:44:57.819Z"
   },
   {
    "duration": 86,
    "start_time": "2021-12-24T09:44:57.933Z"
   },
   {
    "duration": 14,
    "start_time": "2021-12-24T09:44:58.022Z"
   },
   {
    "duration": 240,
    "start_time": "2021-12-24T09:44:58.039Z"
   },
   {
    "duration": 114,
    "start_time": "2021-12-24T09:44:58.282Z"
   },
   {
    "duration": 4,
    "start_time": "2021-12-24T09:44:58.395Z"
   },
   {
    "duration": 3,
    "start_time": "2021-12-24T09:44:58.398Z"
   },
   {
    "duration": -1,
    "start_time": "2021-12-24T09:44:58.403Z"
   },
   {
    "duration": -3,
    "start_time": "2021-12-24T09:44:58.406Z"
   },
   {
    "duration": -3,
    "start_time": "2021-12-24T09:44:58.408Z"
   },
   {
    "duration": -4,
    "start_time": "2021-12-24T09:44:58.410Z"
   },
   {
    "duration": -6,
    "start_time": "2021-12-24T09:44:58.414Z"
   },
   {
    "duration": -12,
    "start_time": "2021-12-24T09:44:58.421Z"
   },
   {
    "duration": -13,
    "start_time": "2021-12-24T09:44:58.424Z"
   },
   {
    "duration": -15,
    "start_time": "2021-12-24T09:44:58.427Z"
   },
   {
    "duration": -17,
    "start_time": "2021-12-24T09:44:58.431Z"
   },
   {
    "duration": -18,
    "start_time": "2021-12-24T09:44:58.433Z"
   },
   {
    "duration": -18,
    "start_time": "2021-12-24T09:44:58.435Z"
   },
   {
    "duration": -19,
    "start_time": "2021-12-24T09:44:58.437Z"
   },
   {
    "duration": -20,
    "start_time": "2021-12-24T09:44:58.439Z"
   },
   {
    "duration": -20,
    "start_time": "2021-12-24T09:44:58.441Z"
   },
   {
    "duration": 4,
    "start_time": "2021-12-24T09:45:11.245Z"
   },
   {
    "duration": 10,
    "start_time": "2021-12-24T09:45:11.251Z"
   },
   {
    "duration": 634,
    "start_time": "2021-12-24T09:45:11.264Z"
   },
   {
    "duration": 59,
    "start_time": "2021-12-24T09:45:11.900Z"
   },
   {
    "duration": 251,
    "start_time": "2021-12-24T09:45:11.963Z"
   },
   {
    "duration": 110,
    "start_time": "2021-12-24T09:45:12.217Z"
   },
   {
    "duration": 89,
    "start_time": "2021-12-24T09:45:12.329Z"
   },
   {
    "duration": 107,
    "start_time": "2021-12-24T09:45:12.420Z"
   },
   {
    "duration": 79,
    "start_time": "2021-12-24T09:45:12.529Z"
   },
   {
    "duration": 13,
    "start_time": "2021-12-24T09:45:12.612Z"
   },
   {
    "duration": 255,
    "start_time": "2021-12-24T09:45:12.628Z"
   },
   {
    "duration": 6,
    "start_time": "2021-12-24T09:45:12.886Z"
   },
   {
    "duration": 12,
    "start_time": "2021-12-24T09:45:12.895Z"
   },
   {
    "duration": 60,
    "start_time": "2021-12-24T09:45:12.909Z"
   },
   {
    "duration": 7,
    "start_time": "2021-12-24T09:45:12.972Z"
   },
   {
    "duration": 655,
    "start_time": "2021-12-24T09:45:12.982Z"
   },
   {
    "duration": 22,
    "start_time": "2021-12-24T09:45:13.639Z"
   },
   {
    "duration": 625,
    "start_time": "2021-12-24T09:45:13.663Z"
   },
   {
    "duration": 12,
    "start_time": "2021-12-24T09:45:14.290Z"
   },
   {
    "duration": 643,
    "start_time": "2021-12-24T09:45:14.304Z"
   },
   {
    "duration": 19,
    "start_time": "2021-12-24T09:45:14.950Z"
   },
   {
    "duration": 565,
    "start_time": "2021-12-24T09:45:14.972Z"
   },
   {
    "duration": 24,
    "start_time": "2021-12-24T09:45:15.539Z"
   },
   {
    "duration": 243,
    "start_time": "2021-12-24T09:45:15.566Z"
   },
   {
    "duration": 6,
    "start_time": "2021-12-24T09:45:15.813Z"
   },
   {
    "duration": 38,
    "start_time": "2021-12-24T09:45:15.821Z"
   },
   {
    "duration": 17,
    "start_time": "2021-12-24T09:45:15.863Z"
   },
   {
    "duration": 502,
    "start_time": "2021-12-24T10:06:28.490Z"
   },
   {
    "duration": 436,
    "start_time": "2021-12-24T10:06:37.820Z"
   },
   {
    "duration": 321,
    "start_time": "2021-12-24T10:06:43.287Z"
   },
   {
    "duration": 341,
    "start_time": "2021-12-24T10:08:25.923Z"
   },
   {
    "duration": 309,
    "start_time": "2021-12-24T10:09:41.191Z"
   },
   {
    "duration": 52,
    "start_time": "2021-12-24T10:17:57.074Z"
   },
   {
    "duration": 8,
    "start_time": "2021-12-24T10:18:18.034Z"
   },
   {
    "duration": 10,
    "start_time": "2021-12-24T10:18:24.050Z"
   },
   {
    "duration": 9,
    "start_time": "2021-12-24T10:53:59.100Z"
   },
   {
    "duration": 26,
    "start_time": "2021-12-24T10:59:06.823Z"
   },
   {
    "duration": 394,
    "start_time": "2021-12-24T11:02:57.377Z"
   },
   {
    "duration": 56,
    "start_time": "2021-12-24T11:03:00.576Z"
   },
   {
    "duration": 4,
    "start_time": "2021-12-24T11:24:34.145Z"
   },
   {
    "duration": 5,
    "start_time": "2021-12-24T11:24:34.153Z"
   },
   {
    "duration": 578,
    "start_time": "2021-12-24T11:24:34.160Z"
   },
   {
    "duration": 59,
    "start_time": "2021-12-24T11:24:34.741Z"
   },
   {
    "duration": 241,
    "start_time": "2021-12-24T11:24:34.803Z"
   },
   {
    "duration": 128,
    "start_time": "2021-12-24T11:24:35.047Z"
   },
   {
    "duration": 88,
    "start_time": "2021-12-24T11:24:35.177Z"
   },
   {
    "duration": 112,
    "start_time": "2021-12-24T11:24:35.270Z"
   },
   {
    "duration": 88,
    "start_time": "2021-12-24T11:24:35.386Z"
   },
   {
    "duration": 15,
    "start_time": "2021-12-24T11:24:35.477Z"
   },
   {
    "duration": 266,
    "start_time": "2021-12-24T11:24:35.494Z"
   },
   {
    "duration": 7,
    "start_time": "2021-12-24T11:24:35.762Z"
   },
   {
    "duration": 15,
    "start_time": "2021-12-24T11:24:35.771Z"
   },
   {
    "duration": 36,
    "start_time": "2021-12-24T11:24:35.788Z"
   },
   {
    "duration": 7,
    "start_time": "2021-12-24T11:24:35.827Z"
   },
   {
    "duration": 623,
    "start_time": "2021-12-24T11:24:35.836Z"
   },
   {
    "duration": 12,
    "start_time": "2021-12-24T11:24:36.461Z"
   },
   {
    "duration": 632,
    "start_time": "2021-12-24T11:24:36.476Z"
   },
   {
    "duration": 11,
    "start_time": "2021-12-24T11:24:37.110Z"
   },
   {
    "duration": 838,
    "start_time": "2021-12-24T11:24:37.125Z"
   },
   {
    "duration": 12,
    "start_time": "2021-12-24T11:24:37.965Z"
   },
   {
    "duration": 508,
    "start_time": "2021-12-24T11:24:37.980Z"
   },
   {
    "duration": 14,
    "start_time": "2021-12-24T11:24:38.490Z"
   },
   {
    "duration": 356,
    "start_time": "2021-12-24T11:24:38.507Z"
   },
   {
    "duration": 6,
    "start_time": "2021-12-24T11:24:38.865Z"
   },
   {
    "duration": 19,
    "start_time": "2021-12-24T11:24:38.873Z"
   },
   {
    "duration": 18,
    "start_time": "2021-12-24T11:24:38.894Z"
   },
   {
    "duration": 22,
    "start_time": "2021-12-24T11:27:00.281Z"
   },
   {
    "duration": 84,
    "start_time": "2021-12-24T11:27:17.517Z"
   },
   {
    "duration": 84,
    "start_time": "2021-12-24T11:28:09.708Z"
   },
   {
    "duration": 11,
    "start_time": "2021-12-24T11:30:33.096Z"
   },
   {
    "duration": 12,
    "start_time": "2021-12-24T11:30:36.007Z"
   },
   {
    "duration": 12,
    "start_time": "2021-12-24T11:30:47.330Z"
   },
   {
    "duration": 13,
    "start_time": "2021-12-24T11:31:28.601Z"
   },
   {
    "duration": 12,
    "start_time": "2021-12-24T11:31:32.187Z"
   },
   {
    "duration": 13,
    "start_time": "2021-12-24T11:32:27.341Z"
   },
   {
    "duration": 11,
    "start_time": "2021-12-24T11:33:11.442Z"
   },
   {
    "duration": 12,
    "start_time": "2021-12-24T11:33:17.679Z"
   },
   {
    "duration": 16,
    "start_time": "2021-12-24T11:33:35.916Z"
   },
   {
    "duration": 16,
    "start_time": "2021-12-24T11:33:43.566Z"
   },
   {
    "duration": 19,
    "start_time": "2021-12-24T11:33:54.903Z"
   },
   {
    "duration": 17,
    "start_time": "2021-12-24T11:34:17.453Z"
   },
   {
    "duration": 18,
    "start_time": "2021-12-24T11:34:24.394Z"
   },
   {
    "duration": 4,
    "start_time": "2021-12-25T07:47:11.396Z"
   },
   {
    "duration": 1109,
    "start_time": "2021-12-25T07:47:11.402Z"
   },
   {
    "duration": 405,
    "start_time": "2021-12-25T07:47:12.514Z"
   },
   {
    "duration": 44,
    "start_time": "2021-12-25T07:47:12.921Z"
   },
   {
    "duration": 189,
    "start_time": "2021-12-25T07:47:12.967Z"
   },
   {
    "duration": 94,
    "start_time": "2021-12-25T07:47:13.158Z"
   },
   {
    "duration": 88,
    "start_time": "2021-12-25T07:47:13.254Z"
   },
   {
    "duration": 70,
    "start_time": "2021-12-25T07:47:13.344Z"
   },
   {
    "duration": 42,
    "start_time": "2021-12-25T07:47:13.416Z"
   },
   {
    "duration": 10,
    "start_time": "2021-12-25T07:47:13.460Z"
   },
   {
    "duration": 188,
    "start_time": "2021-12-25T07:47:13.472Z"
   },
   {
    "duration": 5,
    "start_time": "2021-12-25T07:47:13.661Z"
   },
   {
    "duration": 13,
    "start_time": "2021-12-25T07:47:13.667Z"
   },
   {
    "duration": 29,
    "start_time": "2021-12-25T07:47:13.682Z"
   },
   {
    "duration": 5,
    "start_time": "2021-12-25T07:47:13.713Z"
   },
   {
    "duration": 33,
    "start_time": "2021-12-25T07:47:13.719Z"
   },
   {
    "duration": 449,
    "start_time": "2021-12-25T07:47:13.754Z"
   },
   {
    "duration": 9,
    "start_time": "2021-12-25T07:47:14.204Z"
   },
   {
    "duration": 427,
    "start_time": "2021-12-25T07:47:14.214Z"
   },
   {
    "duration": 8,
    "start_time": "2021-12-25T07:47:14.643Z"
   },
   {
    "duration": 457,
    "start_time": "2021-12-25T07:47:14.653Z"
   },
   {
    "duration": 8,
    "start_time": "2021-12-25T07:47:15.112Z"
   },
   {
    "duration": 322,
    "start_time": "2021-12-25T07:47:15.123Z"
   },
   {
    "duration": 10,
    "start_time": "2021-12-25T07:47:15.447Z"
   },
   {
    "duration": 215,
    "start_time": "2021-12-25T07:47:15.458Z"
   },
   {
    "duration": 4,
    "start_time": "2021-12-25T07:47:15.675Z"
   },
   {
    "duration": 19,
    "start_time": "2021-12-25T07:47:15.681Z"
   },
   {
    "duration": 11,
    "start_time": "2021-12-25T07:47:15.701Z"
   },
   {
    "duration": 15,
    "start_time": "2021-12-25T08:05:14.389Z"
   },
   {
    "duration": 32,
    "start_time": "2021-12-25T08:06:31.373Z"
   },
   {
    "duration": 111,
    "start_time": "2021-12-25T08:07:19.041Z"
   },
   {
    "duration": 31,
    "start_time": "2021-12-25T08:08:38.726Z"
   },
   {
    "duration": 4,
    "start_time": "2021-12-25T08:08:45.655Z"
   },
   {
    "duration": 1156,
    "start_time": "2021-12-25T08:08:45.660Z"
   },
   {
    "duration": 415,
    "start_time": "2021-12-25T08:08:46.818Z"
   },
   {
    "duration": 45,
    "start_time": "2021-12-25T08:08:47.235Z"
   },
   {
    "duration": 194,
    "start_time": "2021-12-25T08:08:47.282Z"
   },
   {
    "duration": 79,
    "start_time": "2021-12-25T08:08:47.478Z"
   },
   {
    "duration": 73,
    "start_time": "2021-12-25T08:08:47.559Z"
   },
   {
    "duration": 83,
    "start_time": "2021-12-25T08:08:47.634Z"
   },
   {
    "duration": 48,
    "start_time": "2021-12-25T08:08:47.720Z"
   },
   {
    "duration": 24,
    "start_time": "2021-12-25T08:08:47.770Z"
   },
   {
    "duration": 187,
    "start_time": "2021-12-25T08:08:47.805Z"
   },
   {
    "duration": 35,
    "start_time": "2021-12-25T08:08:47.994Z"
   },
   {
    "duration": 4,
    "start_time": "2021-12-25T08:08:48.031Z"
   },
   {
    "duration": 10,
    "start_time": "2021-12-25T08:08:48.037Z"
   },
   {
    "duration": 43,
    "start_time": "2021-12-25T08:08:48.048Z"
   },
   {
    "duration": 5,
    "start_time": "2021-12-25T08:08:48.093Z"
   },
   {
    "duration": 36,
    "start_time": "2021-12-25T08:08:48.100Z"
   },
   {
    "duration": 492,
    "start_time": "2021-12-25T08:08:48.137Z"
   },
   {
    "duration": 8,
    "start_time": "2021-12-25T08:08:48.631Z"
   },
   {
    "duration": 484,
    "start_time": "2021-12-25T08:08:48.641Z"
   },
   {
    "duration": 8,
    "start_time": "2021-12-25T08:08:49.127Z"
   },
   {
    "duration": 468,
    "start_time": "2021-12-25T08:08:49.137Z"
   },
   {
    "duration": 9,
    "start_time": "2021-12-25T08:08:49.607Z"
   },
   {
    "duration": 329,
    "start_time": "2021-12-25T08:08:49.618Z"
   },
   {
    "duration": 10,
    "start_time": "2021-12-25T08:08:49.950Z"
   },
   {
    "duration": 223,
    "start_time": "2021-12-25T08:08:49.962Z"
   },
   {
    "duration": 4,
    "start_time": "2021-12-25T08:08:50.191Z"
   },
   {
    "duration": 19,
    "start_time": "2021-12-25T08:08:50.197Z"
   },
   {
    "duration": 13,
    "start_time": "2021-12-25T08:08:50.217Z"
   },
   {
    "duration": 2300,
    "start_time": "2021-12-25T09:31:09.959Z"
   },
   {
    "duration": 150,
    "start_time": "2021-12-25T09:31:14.561Z"
   },
   {
    "duration": 537,
    "start_time": "2021-12-25T09:31:22.053Z"
   },
   {
    "duration": 21,
    "start_time": "2021-12-25T09:31:25.311Z"
   },
   {
    "duration": 18,
    "start_time": "2021-12-25T09:31:39.343Z"
   },
   {
    "duration": 18,
    "start_time": "2021-12-25T09:32:06.184Z"
   },
   {
    "duration": 19,
    "start_time": "2021-12-25T09:32:55.149Z"
   },
   {
    "duration": 616,
    "start_time": "2021-12-25T09:33:31.220Z"
   },
   {
    "duration": 48,
    "start_time": "2021-12-25T09:33:50.724Z"
   },
   {
    "duration": 18,
    "start_time": "2021-12-25T09:41:36.779Z"
   },
   {
    "duration": 4,
    "start_time": "2021-12-25T09:41:43.835Z"
   },
   {
    "duration": 9,
    "start_time": "2021-12-25T09:41:43.843Z"
   },
   {
    "duration": 637,
    "start_time": "2021-12-25T09:41:43.855Z"
   },
   {
    "duration": 39,
    "start_time": "2021-12-25T09:41:44.495Z"
   },
   {
    "duration": 216,
    "start_time": "2021-12-25T09:41:44.536Z"
   },
   {
    "duration": 119,
    "start_time": "2021-12-25T09:41:44.760Z"
   },
   {
    "duration": 44,
    "start_time": "2021-12-25T09:41:44.882Z"
   },
   {
    "duration": 104,
    "start_time": "2021-12-25T09:41:44.930Z"
   },
   {
    "duration": 24,
    "start_time": "2021-12-25T09:41:45.036Z"
   },
   {
    "duration": 246,
    "start_time": "2021-12-25T09:41:45.063Z"
   },
   {
    "duration": 27,
    "start_time": "2021-12-25T09:41:47.064Z"
   },
   {
    "duration": 11,
    "start_time": "2021-12-25T10:20:18.819Z"
   },
   {
    "duration": 11,
    "start_time": "2021-12-25T10:20:27.602Z"
   },
   {
    "duration": 10,
    "start_time": "2021-12-25T10:22:24.467Z"
   },
   {
    "duration": 10,
    "start_time": "2021-12-25T10:22:36.688Z"
   },
   {
    "duration": 9,
    "start_time": "2021-12-25T10:22:52.971Z"
   },
   {
    "duration": 13,
    "start_time": "2021-12-25T10:23:43.145Z"
   },
   {
    "duration": 12,
    "start_time": "2021-12-25T10:23:54.408Z"
   },
   {
    "duration": 13,
    "start_time": "2021-12-25T10:24:04.335Z"
   },
   {
    "duration": 13,
    "start_time": "2021-12-25T10:24:19.724Z"
   },
   {
    "duration": 15,
    "start_time": "2021-12-25T10:24:56.097Z"
   },
   {
    "duration": 21,
    "start_time": "2021-12-25T10:25:16.246Z"
   },
   {
    "duration": 21,
    "start_time": "2021-12-25T10:25:40.598Z"
   },
   {
    "duration": 20,
    "start_time": "2021-12-25T10:25:52.777Z"
   },
   {
    "duration": 20,
    "start_time": "2021-12-25T10:26:09.163Z"
   },
   {
    "duration": 20,
    "start_time": "2021-12-25T10:26:15.634Z"
   },
   {
    "duration": 19,
    "start_time": "2021-12-25T10:26:42.340Z"
   },
   {
    "duration": 20,
    "start_time": "2021-12-25T10:27:00.665Z"
   },
   {
    "duration": 21,
    "start_time": "2021-12-25T10:27:05.008Z"
   },
   {
    "duration": 21,
    "start_time": "2021-12-25T10:27:14.335Z"
   },
   {
    "duration": 21,
    "start_time": "2021-12-25T10:27:23.113Z"
   },
   {
    "duration": 20,
    "start_time": "2021-12-25T10:28:12.966Z"
   },
   {
    "duration": 25,
    "start_time": "2021-12-25T10:28:34.392Z"
   },
   {
    "duration": 4,
    "start_time": "2021-12-25T10:39:22.053Z"
   },
   {
    "duration": 5,
    "start_time": "2021-12-25T10:39:22.060Z"
   },
   {
    "duration": 649,
    "start_time": "2021-12-25T10:39:22.068Z"
   },
   {
    "duration": 39,
    "start_time": "2021-12-25T10:39:22.720Z"
   },
   {
    "duration": 204,
    "start_time": "2021-12-25T10:39:22.762Z"
   },
   {
    "duration": 119,
    "start_time": "2021-12-25T10:39:22.969Z"
   },
   {
    "duration": 47,
    "start_time": "2021-12-25T10:39:23.091Z"
   },
   {
    "duration": 73,
    "start_time": "2021-12-25T10:39:23.160Z"
   },
   {
    "duration": 27,
    "start_time": "2021-12-25T10:39:23.238Z"
   },
   {
    "duration": 227,
    "start_time": "2021-12-25T10:39:23.269Z"
   },
   {
    "duration": 8,
    "start_time": "2021-12-25T10:39:23.498Z"
   },
   {
    "duration": 12,
    "start_time": "2021-12-25T10:39:23.509Z"
   },
   {
    "duration": 64,
    "start_time": "2021-12-25T10:39:23.524Z"
   },
   {
    "duration": 8,
    "start_time": "2021-12-25T10:39:23.592Z"
   },
   {
    "duration": 74,
    "start_time": "2021-12-25T10:39:23.602Z"
   },
   {
    "duration": 593,
    "start_time": "2021-12-25T10:39:23.678Z"
   },
   {
    "duration": 11,
    "start_time": "2021-12-25T10:39:24.273Z"
   },
   {
    "duration": 23,
    "start_time": "2021-12-25T10:39:24.287Z"
   },
   {
    "duration": 647,
    "start_time": "2021-12-25T10:39:24.312Z"
   },
   {
    "duration": 11,
    "start_time": "2021-12-25T10:39:24.961Z"
   },
   {
    "duration": 21,
    "start_time": "2021-12-25T10:39:24.975Z"
   },
   {
    "duration": 664,
    "start_time": "2021-12-25T10:39:24.998Z"
   },
   {
    "duration": 12,
    "start_time": "2021-12-25T10:39:25.665Z"
   },
   {
    "duration": 23,
    "start_time": "2021-12-25T10:39:25.680Z"
   },
   {
    "duration": 527,
    "start_time": "2021-12-25T10:39:25.706Z"
   },
   {
    "duration": 24,
    "start_time": "2021-12-25T10:39:26.237Z"
   },
   {
    "duration": 371,
    "start_time": "2021-12-25T10:39:26.266Z"
   },
   {
    "duration": 5,
    "start_time": "2021-12-25T10:39:26.640Z"
   },
   {
    "duration": 28,
    "start_time": "2021-12-25T10:39:26.647Z"
   },
   {
    "duration": 16,
    "start_time": "2021-12-25T10:39:26.677Z"
   },
   {
    "duration": 6,
    "start_time": "2021-12-25T10:39:41.274Z"
   },
   {
    "duration": 1443,
    "start_time": "2021-12-25T10:39:41.283Z"
   },
   {
    "duration": 626,
    "start_time": "2021-12-25T10:39:42.729Z"
   },
   {
    "duration": 42,
    "start_time": "2021-12-25T10:39:43.358Z"
   },
   {
    "duration": 261,
    "start_time": "2021-12-25T10:39:43.403Z"
   },
   {
    "duration": 127,
    "start_time": "2021-12-25T10:39:43.666Z"
   },
   {
    "duration": 69,
    "start_time": "2021-12-25T10:39:43.795Z"
   },
   {
    "duration": 81,
    "start_time": "2021-12-25T10:39:43.867Z"
   },
   {
    "duration": 14,
    "start_time": "2021-12-25T10:39:43.960Z"
   },
   {
    "duration": 247,
    "start_time": "2021-12-25T10:39:43.976Z"
   },
   {
    "duration": 6,
    "start_time": "2021-12-25T10:39:44.226Z"
   },
   {
    "duration": 26,
    "start_time": "2021-12-25T10:39:44.234Z"
   },
   {
    "duration": 35,
    "start_time": "2021-12-25T10:39:44.262Z"
   },
   {
    "duration": 6,
    "start_time": "2021-12-25T10:39:44.299Z"
   },
   {
    "duration": 78,
    "start_time": "2021-12-25T10:39:44.307Z"
   },
   {
    "duration": 607,
    "start_time": "2021-12-25T10:39:44.387Z"
   },
   {
    "duration": 12,
    "start_time": "2021-12-25T10:39:44.997Z"
   },
   {
    "duration": 33,
    "start_time": "2021-12-25T10:39:45.011Z"
   },
   {
    "duration": 630,
    "start_time": "2021-12-25T10:39:45.060Z"
   },
   {
    "duration": 11,
    "start_time": "2021-12-25T10:39:45.693Z"
   },
   {
    "duration": 51,
    "start_time": "2021-12-25T10:39:45.708Z"
   },
   {
    "duration": 592,
    "start_time": "2021-12-25T10:39:45.761Z"
   },
   {
    "duration": 12,
    "start_time": "2021-12-25T10:39:46.361Z"
   },
   {
    "duration": 22,
    "start_time": "2021-12-25T10:39:46.376Z"
   },
   {
    "duration": 539,
    "start_time": "2021-12-25T10:39:46.401Z"
   },
   {
    "duration": 34,
    "start_time": "2021-12-25T10:39:46.943Z"
   },
   {
    "duration": 312,
    "start_time": "2021-12-25T10:39:46.979Z"
   },
   {
    "duration": 5,
    "start_time": "2021-12-25T10:39:47.294Z"
   },
   {
    "duration": 19,
    "start_time": "2021-12-25T10:39:47.301Z"
   },
   {
    "duration": 43,
    "start_time": "2021-12-25T10:39:47.322Z"
   },
   {
    "duration": 23,
    "start_time": "2021-12-25T10:42:54.391Z"
   },
   {
    "duration": 22,
    "start_time": "2021-12-25T10:43:09.935Z"
   },
   {
    "duration": 20,
    "start_time": "2021-12-25T10:43:22.728Z"
   },
   {
    "duration": 22,
    "start_time": "2021-12-25T10:43:36.262Z"
   },
   {
    "duration": 4,
    "start_time": "2021-12-25T10:43:49.508Z"
   },
   {
    "duration": 1421,
    "start_time": "2021-12-25T10:43:49.515Z"
   },
   {
    "duration": 630,
    "start_time": "2021-12-25T10:43:50.940Z"
   },
   {
    "duration": 49,
    "start_time": "2021-12-25T10:43:51.576Z"
   },
   {
    "duration": 264,
    "start_time": "2021-12-25T10:43:51.629Z"
   },
   {
    "duration": 125,
    "start_time": "2021-12-25T10:43:51.895Z"
   },
   {
    "duration": 72,
    "start_time": "2021-12-25T10:43:52.023Z"
   },
   {
    "duration": 89,
    "start_time": "2021-12-25T10:43:52.099Z"
   },
   {
    "duration": 16,
    "start_time": "2021-12-25T10:43:52.191Z"
   },
   {
    "duration": 250,
    "start_time": "2021-12-25T10:43:52.209Z"
   },
   {
    "duration": 7,
    "start_time": "2021-12-25T10:43:52.461Z"
   },
   {
    "duration": 15,
    "start_time": "2021-12-25T10:43:52.470Z"
   },
   {
    "duration": 33,
    "start_time": "2021-12-25T10:43:52.488Z"
   },
   {
    "duration": 6,
    "start_time": "2021-12-25T10:43:52.524Z"
   },
   {
    "duration": 51,
    "start_time": "2021-12-25T10:43:52.559Z"
   },
   {
    "duration": 633,
    "start_time": "2021-12-25T10:43:52.613Z"
   },
   {
    "duration": 20,
    "start_time": "2021-12-25T10:43:53.249Z"
   },
   {
    "duration": 21,
    "start_time": "2021-12-25T10:43:53.272Z"
   },
   {
    "duration": 643,
    "start_time": "2021-12-25T10:43:53.295Z"
   },
   {
    "duration": 21,
    "start_time": "2021-12-25T10:43:53.941Z"
   },
   {
    "duration": 21,
    "start_time": "2021-12-25T10:43:53.965Z"
   },
   {
    "duration": 668,
    "start_time": "2021-12-25T10:43:53.989Z"
   },
   {
    "duration": 10,
    "start_time": "2021-12-25T10:43:54.659Z"
   },
   {
    "duration": 26,
    "start_time": "2021-12-25T10:43:54.671Z"
   },
   {
    "duration": 509,
    "start_time": "2021-12-25T10:43:54.700Z"
   },
   {
    "duration": 14,
    "start_time": "2021-12-25T10:43:55.213Z"
   },
   {
    "duration": 321,
    "start_time": "2021-12-25T10:43:55.229Z"
   },
   {
    "duration": 9,
    "start_time": "2021-12-25T10:43:55.553Z"
   },
   {
    "duration": 22,
    "start_time": "2021-12-25T10:43:55.565Z"
   },
   {
    "duration": 22,
    "start_time": "2021-12-25T10:43:55.590Z"
   },
   {
    "duration": 16,
    "start_time": "2021-12-25T10:56:13.492Z"
   },
   {
    "duration": 20,
    "start_time": "2021-12-25T10:57:30.605Z"
   },
   {
    "duration": 4,
    "start_time": "2021-12-25T10:57:43.638Z"
   },
   {
    "duration": 1487,
    "start_time": "2021-12-25T10:57:43.646Z"
   },
   {
    "duration": 654,
    "start_time": "2021-12-25T10:57:45.136Z"
   },
   {
    "duration": 38,
    "start_time": "2021-12-25T10:57:45.793Z"
   },
   {
    "duration": 258,
    "start_time": "2021-12-25T10:57:45.834Z"
   },
   {
    "duration": 166,
    "start_time": "2021-12-25T10:57:46.095Z"
   },
   {
    "duration": 53,
    "start_time": "2021-12-25T10:57:46.264Z"
   },
   {
    "duration": 118,
    "start_time": "2021-12-25T10:57:46.320Z"
   },
   {
    "duration": 28,
    "start_time": "2021-12-25T10:57:46.443Z"
   },
   {
    "duration": 341,
    "start_time": "2021-12-25T10:57:46.476Z"
   },
   {
    "duration": 8,
    "start_time": "2021-12-25T10:57:46.819Z"
   },
   {
    "duration": 14,
    "start_time": "2021-12-25T10:57:46.829Z"
   },
   {
    "duration": 37,
    "start_time": "2021-12-25T10:57:46.859Z"
   },
   {
    "duration": 8,
    "start_time": "2021-12-25T10:57:46.898Z"
   },
   {
    "duration": 78,
    "start_time": "2021-12-25T10:57:46.909Z"
   },
   {
    "duration": 668,
    "start_time": "2021-12-25T10:57:46.990Z"
   },
   {
    "duration": 14,
    "start_time": "2021-12-25T10:57:47.661Z"
   },
   {
    "duration": 21,
    "start_time": "2021-12-25T10:57:47.678Z"
   },
   {
    "duration": 644,
    "start_time": "2021-12-25T10:57:47.701Z"
   },
   {
    "duration": 20,
    "start_time": "2021-12-25T10:57:48.348Z"
   },
   {
    "duration": 19,
    "start_time": "2021-12-25T10:57:48.370Z"
   },
   {
    "duration": 679,
    "start_time": "2021-12-25T10:57:48.391Z"
   },
   {
    "duration": 12,
    "start_time": "2021-12-25T10:57:49.073Z"
   },
   {
    "duration": 20,
    "start_time": "2021-12-25T10:57:49.087Z"
   },
   {
    "duration": 517,
    "start_time": "2021-12-25T10:57:49.109Z"
   },
   {
    "duration": 17,
    "start_time": "2021-12-25T10:57:49.628Z"
   },
   {
    "duration": 311,
    "start_time": "2021-12-25T10:57:49.661Z"
   },
   {
    "duration": 5,
    "start_time": "2021-12-25T10:57:49.975Z"
   },
   {
    "duration": 19,
    "start_time": "2021-12-25T10:57:49.983Z"
   },
   {
    "duration": 18,
    "start_time": "2021-12-25T10:57:50.004Z"
   },
   {
    "duration": 16,
    "start_time": "2021-12-25T17:32:34.847Z"
   },
   {
    "duration": 7,
    "start_time": "2021-12-25T17:33:29.248Z"
   },
   {
    "duration": 5,
    "start_time": "2021-12-25T17:35:08.188Z"
   },
   {
    "duration": 15,
    "start_time": "2021-12-26T07:52:01.996Z"
   },
   {
    "duration": 6,
    "start_time": "2021-12-26T07:52:39.259Z"
   },
   {
    "duration": 5,
    "start_time": "2021-12-26T07:52:41.889Z"
   },
   {
    "duration": 320,
    "start_time": "2021-12-26T07:58:26.013Z"
   },
   {
    "duration": 783,
    "start_time": "2021-12-26T07:58:35.734Z"
   },
   {
    "duration": 5,
    "start_time": "2021-12-26T07:58:46.911Z"
   },
   {
    "duration": 8,
    "start_time": "2021-12-26T07:58:51.672Z"
   },
   {
    "duration": 6,
    "start_time": "2021-12-26T08:00:22.982Z"
   },
   {
    "duration": 11,
    "start_time": "2021-12-26T08:00:26.652Z"
   },
   {
    "duration": 5,
    "start_time": "2021-12-26T08:00:50.298Z"
   },
   {
    "duration": 9,
    "start_time": "2021-12-26T08:00:52.522Z"
   },
   {
    "duration": 5,
    "start_time": "2021-12-26T08:01:50.038Z"
   },
   {
    "duration": 10,
    "start_time": "2021-12-26T08:01:50.314Z"
   },
   {
    "duration": 16,
    "start_time": "2021-12-26T08:01:54.821Z"
   },
   {
    "duration": 333,
    "start_time": "2021-12-26T08:03:01.904Z"
   },
   {
    "duration": 8,
    "start_time": "2021-12-26T08:03:19.151Z"
   },
   {
    "duration": 20,
    "start_time": "2021-12-26T08:03:24.219Z"
   },
   {
    "duration": 20,
    "start_time": "2021-12-26T08:03:57.204Z"
   },
   {
    "duration": 21,
    "start_time": "2021-12-26T08:04:06.008Z"
   },
   {
    "duration": 453,
    "start_time": "2021-12-26T08:04:34.147Z"
   },
   {
    "duration": 252,
    "start_time": "2021-12-26T08:04:44.650Z"
   },
   {
    "duration": 252,
    "start_time": "2021-12-26T08:05:10.293Z"
   },
   {
    "duration": 313,
    "start_time": "2021-12-26T08:05:16.671Z"
   },
   {
    "duration": 246,
    "start_time": "2021-12-26T08:05:22.697Z"
   },
   {
    "duration": 656,
    "start_time": "2021-12-26T08:06:03.335Z"
   },
   {
    "duration": 4,
    "start_time": "2021-12-26T08:06:14.520Z"
   },
   {
    "duration": 4,
    "start_time": "2021-12-26T08:06:17.205Z"
   },
   {
    "duration": 359,
    "start_time": "2021-12-26T08:06:27.065Z"
   },
   {
    "duration": 352,
    "start_time": "2021-12-26T08:06:43.188Z"
   },
   {
    "duration": 409,
    "start_time": "2021-12-26T08:06:50.629Z"
   },
   {
    "duration": 23,
    "start_time": "2021-12-26T14:07:00.065Z"
   }
  ],
  "kernelspec": {
   "display_name": "Python 3",
   "language": "python",
   "name": "python3"
  },
  "language_info": {
   "codemirror_mode": {
    "name": "ipython",
    "version": 3
   },
   "file_extension": ".py",
   "mimetype": "text/x-python",
   "name": "python",
   "nbconvert_exporter": "python",
   "pygments_lexer": "ipython3",
   "version": "3.7.8"
  },
  "toc": {
   "base_numbering": 1,
   "nav_menu": {},
   "number_sections": true,
   "sideBar": true,
   "skip_h1_title": true,
   "title_cell": "Table of Contents",
   "title_sidebar": "Contents",
   "toc_cell": false,
   "toc_position": {},
   "toc_section_display": true,
   "toc_window_display": false
  }
 },
 "nbformat": 4,
 "nbformat_minor": 2
}
