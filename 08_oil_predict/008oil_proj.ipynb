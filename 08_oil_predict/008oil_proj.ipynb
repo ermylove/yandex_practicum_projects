{
 "cells": [
  {
   "cell_type": "markdown",
   "metadata": {},
   "source": [
    "# Выбор локации для скважины"
   ]
  },
  {
   "cell_type": "markdown",
   "metadata": {},
   "source": [
    "«ГлавРосГосНефть» нужно решить, где бурить новую скважину.\n",
    "\n",
    "Предоставлены пробы нефти в трёх регионах: в каждом 10 000 месторождений, где измерили качество нефти и объём её запасов. Необходимо построить модель машинного обучения, которая поможет определить регион, где добыча принесёт наибольшую прибыль. \n",
    "\n",
    "Условия задачи:\n",
    "- При разведке региона исследуют 500 точек, из которых с помощью машинного обучения выбирают 200 лучших для разработки.\n",
    "- Бюджет на разработку скважин в регионе — 10 млрд рублей.\n",
    "- При нынешних ценах один баррель сырья приносит 450 рублей дохода. Доход с каждой единицы продукта составляет 450 тыс. рублей, поскольку объём указан в тысячах баррелей.\n",
    "- После оценки рисков нужно оставить лишь те регионы, в которых вероятность убытков меньше 2.5%. Среди них выбирают регион с наибольшей средней прибылью.\n",
    "\n",
    "\n",
    "Необходимо:\n",
    "\n",
    "- Для обучения модели использовать только линейную регрессия\n",
    "- Предоставить средний запас предсказанного сырья и RMSE модели в каждом регионе\n",
    "- Расчитать достаточный объём сырья для безубыточной разработки новой скважины\n",
    "- Анализировать возможную прибыль и риски техникой *Bootstrap.*"
   ]
  },
  {
   "cell_type": "code",
   "execution_count": 1,
   "metadata": {},
   "outputs": [],
   "source": [
    "import warnings\n",
    "warnings.simplefilter('ignore')"
   ]
  },
  {
   "cell_type": "markdown",
   "metadata": {},
   "source": [
    "## Загрузка и подготовка данных"
   ]
  },
  {
   "cell_type": "code",
   "execution_count": 2,
   "metadata": {},
   "outputs": [],
   "source": [
    "#import sklearn\n",
    "\n",
    "import pandas as pd\n",
    "import numpy as np\n",
    "import matplotlib as plt\n",
    "import seaborn as sns\n",
    "\n",
    "from sklearn.linear_model import LinearRegression\n",
    "\n",
    "from sklearn.model_selection import train_test_split\n",
    "from sklearn.metrics import mean_squared_error\n",
    "from sklearn import preprocessing"
   ]
  },
  {
   "cell_type": "markdown",
   "metadata": {},
   "source": [
    "Согласно предоставленной документации\n",
    "Данные геологоразведки трёх регионов находятся в файлах"
   ]
  },
  {
   "cell_type": "code",
   "execution_count": 3,
   "metadata": {},
   "outputs": [],
   "source": [
    "df0 = pd.read_csv('/datasets/geo_data_0.csv')\n",
    "df1 = pd.read_csv('/datasets/geo_data_1.csv')\n",
    "df2 = pd.read_csv('/datasets/geo_data_2.csv')"
   ]
  },
  {
   "cell_type": "code",
   "execution_count": 4,
   "metadata": {},
   "outputs": [
    {
     "data": {
      "text/html": [
       "<div>\n",
       "<style scoped>\n",
       "    .dataframe tbody tr th:only-of-type {\n",
       "        vertical-align: middle;\n",
       "    }\n",
       "\n",
       "    .dataframe tbody tr th {\n",
       "        vertical-align: top;\n",
       "    }\n",
       "\n",
       "    .dataframe thead th {\n",
       "        text-align: right;\n",
       "    }\n",
       "</style>\n",
       "<table border=\"1\" class=\"dataframe\">\n",
       "  <thead>\n",
       "    <tr style=\"text-align: right;\">\n",
       "      <th></th>\n",
       "      <th>id</th>\n",
       "      <th>f0</th>\n",
       "      <th>f1</th>\n",
       "      <th>f2</th>\n",
       "      <th>product</th>\n",
       "    </tr>\n",
       "  </thead>\n",
       "  <tbody>\n",
       "    <tr>\n",
       "      <th>0</th>\n",
       "      <td>txEyH</td>\n",
       "      <td>0.705745</td>\n",
       "      <td>-0.497823</td>\n",
       "      <td>1.221170</td>\n",
       "      <td>105.280062</td>\n",
       "    </tr>\n",
       "    <tr>\n",
       "      <th>1</th>\n",
       "      <td>2acmU</td>\n",
       "      <td>1.334711</td>\n",
       "      <td>-0.340164</td>\n",
       "      <td>4.365080</td>\n",
       "      <td>73.037750</td>\n",
       "    </tr>\n",
       "    <tr>\n",
       "      <th>2</th>\n",
       "      <td>409Wp</td>\n",
       "      <td>1.022732</td>\n",
       "      <td>0.151990</td>\n",
       "      <td>1.419926</td>\n",
       "      <td>85.265647</td>\n",
       "    </tr>\n",
       "    <tr>\n",
       "      <th>3</th>\n",
       "      <td>iJLyR</td>\n",
       "      <td>-0.032172</td>\n",
       "      <td>0.139033</td>\n",
       "      <td>2.978566</td>\n",
       "      <td>168.620776</td>\n",
       "    </tr>\n",
       "    <tr>\n",
       "      <th>4</th>\n",
       "      <td>Xdl7t</td>\n",
       "      <td>1.988431</td>\n",
       "      <td>0.155413</td>\n",
       "      <td>4.751769</td>\n",
       "      <td>154.036647</td>\n",
       "    </tr>\n",
       "    <tr>\n",
       "      <th>...</th>\n",
       "      <td>...</td>\n",
       "      <td>...</td>\n",
       "      <td>...</td>\n",
       "      <td>...</td>\n",
       "      <td>...</td>\n",
       "    </tr>\n",
       "    <tr>\n",
       "      <th>99995</th>\n",
       "      <td>DLsed</td>\n",
       "      <td>0.971957</td>\n",
       "      <td>0.370953</td>\n",
       "      <td>6.075346</td>\n",
       "      <td>110.744026</td>\n",
       "    </tr>\n",
       "    <tr>\n",
       "      <th>99996</th>\n",
       "      <td>QKivN</td>\n",
       "      <td>1.392429</td>\n",
       "      <td>-0.382606</td>\n",
       "      <td>1.273912</td>\n",
       "      <td>122.346843</td>\n",
       "    </tr>\n",
       "    <tr>\n",
       "      <th>99997</th>\n",
       "      <td>3rnvd</td>\n",
       "      <td>1.029585</td>\n",
       "      <td>0.018787</td>\n",
       "      <td>-1.348308</td>\n",
       "      <td>64.375443</td>\n",
       "    </tr>\n",
       "    <tr>\n",
       "      <th>99998</th>\n",
       "      <td>7kl59</td>\n",
       "      <td>0.998163</td>\n",
       "      <td>-0.528582</td>\n",
       "      <td>1.583869</td>\n",
       "      <td>74.040764</td>\n",
       "    </tr>\n",
       "    <tr>\n",
       "      <th>99999</th>\n",
       "      <td>1CWhH</td>\n",
       "      <td>1.764754</td>\n",
       "      <td>-0.266417</td>\n",
       "      <td>5.722849</td>\n",
       "      <td>149.633246</td>\n",
       "    </tr>\n",
       "  </tbody>\n",
       "</table>\n",
       "<p>100000 rows × 5 columns</p>\n",
       "</div>"
      ],
      "text/plain": [
       "          id        f0        f1        f2     product\n",
       "0      txEyH  0.705745 -0.497823  1.221170  105.280062\n",
       "1      2acmU  1.334711 -0.340164  4.365080   73.037750\n",
       "2      409Wp  1.022732  0.151990  1.419926   85.265647\n",
       "3      iJLyR -0.032172  0.139033  2.978566  168.620776\n",
       "4      Xdl7t  1.988431  0.155413  4.751769  154.036647\n",
       "...      ...       ...       ...       ...         ...\n",
       "99995  DLsed  0.971957  0.370953  6.075346  110.744026\n",
       "99996  QKivN  1.392429 -0.382606  1.273912  122.346843\n",
       "99997  3rnvd  1.029585  0.018787 -1.348308   64.375443\n",
       "99998  7kl59  0.998163 -0.528582  1.583869   74.040764\n",
       "99999  1CWhH  1.764754 -0.266417  5.722849  149.633246\n",
       "\n",
       "[100000 rows x 5 columns]"
      ]
     },
     "execution_count": 4,
     "metadata": {},
     "output_type": "execute_result"
    }
   ],
   "source": [
    "df0"
   ]
  },
  {
   "cell_type": "markdown",
   "metadata": {},
   "source": [
    "В которых:  \n",
    "id — уникальный идентификатор скважины;  \n",
    "f0, f1, f2 — три признака точек (неважно, что они означают, но сами признаки значимы);  \n",
    "product — объём запасов в скважине (тыс. баррелей).  "
   ]
  },
  {
   "cell_type": "code",
   "execution_count": 5,
   "metadata": {},
   "outputs": [
    {
     "name": "stdout",
     "output_type": "stream",
     "text": [
      "Количество уникальных значенией в geo_data_0 : 99990 из 100000 записей\n",
      "Количество уникальных значенией в geo_data_1 : 99996 из 100000 записей\n",
      "Количество уникальных значенией в geo_data_2 : 99996 из 100000 записей\n"
     ]
    }
   ],
   "source": [
    "print(f'Количество уникальных значенией в geo_data_0 : {df0.id.nunique()} из {df0.shape[0]} записей')\n",
    "print(f'Количество уникальных значенией в geo_data_1 : {df1.id.nunique()} из {df1.shape[0]} записей')\n",
    "print(f'Количество уникальных значенией в geo_data_2 : {df2.id.nunique()} из {df2.shape[0]} записей')"
   ]
  },
  {
   "cell_type": "markdown",
   "metadata": {},
   "source": [
    "В данных имееется несколько записей с разными данными признаков для скважин с одинаковыми `id`.    \n",
    "Удалим их из дальнейшего анализа"
   ]
  },
  {
   "cell_type": "code",
   "execution_count": 6,
   "metadata": {},
   "outputs": [],
   "source": [
    "def preproc_df(df):\n",
    "  dupl_id = df.groupby(df.id, as_index=False).size()\\\n",
    "             .sort_values(by='size', ascending=False)\\\n",
    "             .query('size>1')\\\n",
    "             ['id'].values\n",
    "\n",
    "  df = df[~df.id.isin(dupl_id)]\n",
    "\n",
    "  df = df.drop('id', axis=1)\n",
    "  \n",
    "  return df"
   ]
  },
  {
   "cell_type": "code",
   "execution_count": 7,
   "metadata": {},
   "outputs": [],
   "source": [
    "df0 = preproc_df(df0)\n",
    "df1 = preproc_df(df1)\n",
    "df2 = preproc_df(df2)"
   ]
  },
  {
   "cell_type": "markdown",
   "metadata": {},
   "source": [
    "## Обучение и проверка модели"
   ]
  },
  {
   "cell_type": "code",
   "execution_count": 8,
   "metadata": {},
   "outputs": [],
   "source": [
    "def modeling(df):\n",
    "  X_train, X_test, y_train, y_test = train_test_split(df.drop('product', axis=1),\n",
    "                                                    df['product'],\n",
    "                                                    test_size=0.25,\n",
    "                                                    random_state=42)\n",
    "  lr = LinearRegression(normalize=True)\n",
    "  lr.fit(X_train,y_train)\n",
    "  print(f\"Средний запас сырья: {df['product'].mean()}\")\n",
    "  print(f\"RMSE = {mean_squared_error(y_test, lr.predict(X_test))**0.5}\")\n",
    "  predicted_test = pd.concat([X_test,\n",
    "                  y_test,\n",
    "                  pd.DataFrame(lr.predict(X_test),\n",
    "                        columns=['predict'],\n",
    "                        index=X_test.index)],\n",
    "                  axis=1)\n",
    "  return predicted_test"
   ]
  },
  {
   "cell_type": "code",
   "execution_count": 9,
   "metadata": {
    "scrolled": true
   },
   "outputs": [
    {
     "name": "stdout",
     "output_type": "stream",
     "text": [
      "geolocation 0\n",
      "Средний запас сырья: 92.49916597893444\n",
      "RMSE = 37.76114714593895\n",
      "\n",
      "geolocation 1\n",
      "Средний запас сырья: 68.82414772665173\n",
      "RMSE = 0.8928635898777318\n",
      "\n",
      "geolocation 2\n",
      "Средний запас сырья: 94.99876686768079\n",
      "RMSE = 40.131155604130505\n",
      "\n"
     ]
    }
   ],
   "source": [
    "predictions = [df0,df1,df2]\n",
    "for i, df in enumerate (predictions):\n",
    "  print(f'geolocation {i}')\n",
    "  predictions[i] = modeling(df)\n",
    "  print()"
   ]
  },
  {
   "cell_type": "markdown",
   "metadata": {},
   "source": [
    "## Подготовка к расчёту прибыли"
   ]
  },
  {
   "cell_type": "code",
   "execution_count": 10,
   "metadata": {},
   "outputs": [],
   "source": [
    "budget = 10_000_000_000\n",
    "wells = 500\n",
    "best_wells = 200\n",
    "price = 450_000\n",
    "limit = 0.025"
   ]
  },
  {
   "cell_type": "code",
   "execution_count": 11,
   "metadata": {},
   "outputs": [
    {
     "name": "stdout",
     "output_type": "stream",
     "text": [
      "Достаточный объём сырья для безубыточной разработки новой скважины : 111.11 тыс. баррелей\n"
     ]
    }
   ],
   "source": [
    "print(f'Достаточный объём сырья для безубыточной разработки новой скважины : {budget/best_wells/price:.2f} тыс. баррелей')"
   ]
  },
  {
   "cell_type": "markdown",
   "metadata": {},
   "source": [
    "Функция для подсчета прибыли для лучших предсказаний"
   ]
  },
  {
   "cell_type": "code",
   "execution_count": 12,
   "metadata": {},
   "outputs": [],
   "source": [
    "def predicter(df):\n",
    "  return (df.sort_values(by=\"predict\", ascending=False)\\\n",
    "          [\"product\"][:best_wells].sum()*price-budget)/1_000_000"
   ]
  },
  {
   "cell_type": "markdown",
   "metadata": {},
   "source": [
    "## Расчёт прибыли и рисков "
   ]
  },
  {
   "cell_type": "code",
   "execution_count": 13,
   "metadata": {},
   "outputs": [
    {
     "name": "stdout",
     "output_type": "stream",
     "text": [
      "Прибыль по скважинам с наилучшим прогнозом в 0 области :\n",
      "   3301.82 млн.\n",
      "\n",
      "Прибыль по скважинам с наилучшим прогнозом в 1 области :\n",
      "   2415.09 млн.\n",
      "\n",
      "Прибыль по скважинам с наилучшим прогнозом в 2 области :\n",
      "   2103.91 млн.\n",
      "\n"
     ]
    }
   ],
   "source": [
    "for i, df in enumerate(predictions):\n",
    "  print(f'''Прибыль по скважинам с наилучшим прогнозом в {i} области :\n",
    "   {predicter(predictions[i]):.2f} млн.''')  \n",
    "  print()"
   ]
  },
  {
   "cell_type": "code",
   "execution_count": 14,
   "metadata": {},
   "outputs": [],
   "source": [
    "def get_bootstrap(data, index,\n",
    "                  boot_it=1000,\n",
    "                  boot_len=500,\n",
    "                  bootstrap_conf_level=0.95,\n",
    "                  satisfaction='не удовлетворительный',\n",
    "                  state = np.random.RandomState(42)):\n",
    "  boot_data = []\n",
    "  for i in range(boot_it):\n",
    "    samples = data.sample(boot_len, random_state=state)\n",
    "    boot_data.append(predicter(samples))\n",
    "  boot_data = pd.Series(boot_data)\n",
    "  print(f'Средняя прибыль региона {index}: {boot_data.mean():.2f} млн.')\n",
    "  left_quant = (1 - bootstrap_conf_level)/2\n",
    "  right_quant = 1 - (1 - bootstrap_conf_level)/2\n",
    "  print(f'95%-й доверительный интервал: {boot_data.quantile([left_quant, right_quant]).values}')\n",
    "  risk = (boot_data<0).mean()\n",
    "  if risk<limit:\n",
    "    satisfaction='удовлетворительный'\n",
    "  print(f'Риск убытков {satisfaction}, так как равен {risk*100:.1f}%')\n",
    "  print()\n"
   ]
  },
  {
   "cell_type": "code",
   "execution_count": 15,
   "metadata": {},
   "outputs": [
    {
     "name": "stdout",
     "output_type": "stream",
     "text": [
      "Средняя прибыль региона 0: 402.55 млн.\n",
      "95%-й доверительный интервал: [-106.97801294  934.99722656]\n",
      "Риск убытков не удовлетворительный, так как равен 5.7%\n",
      "\n",
      "Средняя прибыль региона 1: 487.08 млн.\n",
      "95%-й доверительный интервал: [ 94.50733161 897.96123635]\n",
      "Риск убытков удовлетворительный, так как равен 0.9%\n",
      "\n",
      "Средняя прибыль региона 2: 359.53 млн.\n",
      "95%-й доверительный интервал: [-171.58925319  841.4618113 ]\n",
      "Риск убытков не удовлетворительный, так как равен 8.3%\n",
      "\n"
     ]
    }
   ],
   "source": [
    "for i, df in enumerate(predictions):\n",
    "  get_bootstrap(df, i)"
   ]
  },
  {
   "cell_type": "markdown",
   "metadata": {},
   "source": [
    "## Выводы"
   ]
  },
  {
   "cell_type": "markdown",
   "metadata": {},
   "source": [
    "1. Регион 1 самый прибыльный и наименее рискованный для освоения.\n",
    "2. Данные для проекта и условия невероятно унылы."
   ]
  },
  {
   "cell_type": "code",
   "execution_count": null,
   "metadata": {},
   "outputs": [],
   "source": []
  }
 ],
 "metadata": {
  "ExecuteTimeLog": [
   {
    "duration": 3,
    "start_time": "2022-02-28T06:24:39.534Z"
   },
   {
    "duration": 1186,
    "start_time": "2022-02-28T06:24:39.539Z"
   },
   {
    "duration": 2446,
    "start_time": "2022-02-28T06:24:40.727Z"
   },
   {
    "duration": -27,
    "start_time": "2022-02-28T06:24:43.203Z"
   },
   {
    "duration": -29,
    "start_time": "2022-02-28T06:24:43.206Z"
   },
   {
    "duration": -32,
    "start_time": "2022-02-28T06:24:43.210Z"
   },
   {
    "duration": -34,
    "start_time": "2022-02-28T06:24:43.214Z"
   },
   {
    "duration": -35,
    "start_time": "2022-02-28T06:24:43.216Z"
   },
   {
    "duration": -36,
    "start_time": "2022-02-28T06:24:43.218Z"
   },
   {
    "duration": -36,
    "start_time": "2022-02-28T06:24:43.220Z"
   },
   {
    "duration": -37,
    "start_time": "2022-02-28T06:24:43.222Z"
   },
   {
    "duration": -39,
    "start_time": "2022-02-28T06:24:43.225Z"
   },
   {
    "duration": -40,
    "start_time": "2022-02-28T06:24:43.227Z"
   },
   {
    "duration": -40,
    "start_time": "2022-02-28T06:24:43.229Z"
   },
   {
    "duration": -40,
    "start_time": "2022-02-28T06:24:43.230Z"
   },
   {
    "duration": 2,
    "start_time": "2022-02-28T06:25:34.315Z"
   },
   {
    "duration": 11,
    "start_time": "2022-02-28T06:25:34.318Z"
   },
   {
    "duration": 333,
    "start_time": "2022-02-28T06:25:34.331Z"
   },
   {
    "duration": 12,
    "start_time": "2022-02-28T06:25:34.665Z"
   },
   {
    "duration": 49,
    "start_time": "2022-02-28T06:25:34.679Z"
   },
   {
    "duration": 3,
    "start_time": "2022-02-28T06:25:34.729Z"
   },
   {
    "duration": 667,
    "start_time": "2022-02-28T06:25:34.735Z"
   },
   {
    "duration": 3,
    "start_time": "2022-02-28T06:25:35.401Z"
   },
   {
    "duration": -10,
    "start_time": "2022-02-28T06:25:35.415Z"
   },
   {
    "duration": -14,
    "start_time": "2022-02-28T06:25:35.420Z"
   },
   {
    "duration": -14,
    "start_time": "2022-02-28T06:25:35.422Z"
   },
   {
    "duration": -18,
    "start_time": "2022-02-28T06:25:35.427Z"
   },
   {
    "duration": -19,
    "start_time": "2022-02-28T06:25:35.429Z"
   },
   {
    "duration": -18,
    "start_time": "2022-02-28T06:25:35.430Z"
   },
   {
    "duration": -19,
    "start_time": "2022-02-28T06:25:35.432Z"
   },
   {
    "duration": 3,
    "start_time": "2022-02-28T06:25:58.356Z"
   },
   {
    "duration": 959,
    "start_time": "2022-02-28T06:25:59.102Z"
   },
   {
    "duration": 3,
    "start_time": "2022-02-28T06:26:14.818Z"
   },
   {
    "duration": 645,
    "start_time": "2022-02-28T06:26:16.427Z"
   },
   {
    "duration": 3,
    "start_time": "2022-02-28T06:27:10.894Z"
   },
   {
    "duration": 7896,
    "start_time": "2022-02-28T06:27:12.030Z"
   },
   {
    "duration": 4,
    "start_time": "2022-02-28T06:27:28.622Z"
   },
   {
    "duration": 912,
    "start_time": "2022-02-28T06:27:28.853Z"
   },
   {
    "duration": 3,
    "start_time": "2022-02-28T06:27:44.628Z"
   },
   {
    "duration": 653,
    "start_time": "2022-02-28T06:27:44.846Z"
   },
   {
    "duration": 13,
    "start_time": "2022-02-28T06:28:07.925Z"
   },
   {
    "duration": 110,
    "start_time": "2022-02-28T06:28:18.587Z"
   },
   {
    "duration": 109,
    "start_time": "2022-02-28T06:29:34.710Z"
   },
   {
    "duration": 438,
    "start_time": "2022-02-28T06:29:45.185Z"
   },
   {
    "duration": 108,
    "start_time": "2022-02-28T06:29:56.655Z"
   },
   {
    "duration": 108,
    "start_time": "2022-02-28T06:30:00.282Z"
   },
   {
    "duration": 109,
    "start_time": "2022-02-28T06:30:03.656Z"
   },
   {
    "duration": 109,
    "start_time": "2022-02-28T06:30:09.055Z"
   },
   {
    "duration": 310,
    "start_time": "2022-02-28T06:32:36.482Z"
   },
   {
    "duration": 329,
    "start_time": "2022-02-28T06:32:41.207Z"
   },
   {
    "duration": 4,
    "start_time": "2022-02-28T06:33:32.335Z"
   },
   {
    "duration": 8183,
    "start_time": "2022-02-28T06:35:29.259Z"
   },
   {
    "duration": 2,
    "start_time": "2022-02-28T06:35:44.563Z"
   },
   {
    "duration": 7,
    "start_time": "2022-02-28T06:35:44.567Z"
   },
   {
    "duration": 1429,
    "start_time": "2022-02-28T06:35:44.576Z"
   },
   {
    "duration": 337,
    "start_time": "2022-02-28T06:35:46.007Z"
   },
   {
    "duration": 13,
    "start_time": "2022-02-28T06:35:46.345Z"
   },
   {
    "duration": 52,
    "start_time": "2022-02-28T06:35:46.359Z"
   },
   {
    "duration": 3,
    "start_time": "2022-02-28T06:35:46.413Z"
   },
   {
    "duration": 118,
    "start_time": "2022-02-28T06:35:46.418Z"
   },
   {
    "duration": 3,
    "start_time": "2022-02-28T06:35:46.538Z"
   },
   {
    "duration": 357,
    "start_time": "2022-02-28T06:35:46.542Z"
   },
   {
    "duration": 5,
    "start_time": "2022-02-28T06:35:46.900Z"
   },
   {
    "duration": 3218,
    "start_time": "2022-02-28T06:35:46.906Z"
   },
   {
    "duration": 15,
    "start_time": "2022-02-28T06:35:50.111Z"
   },
   {
    "duration": 12,
    "start_time": "2022-02-28T06:35:50.115Z"
   },
   {
    "duration": -6,
    "start_time": "2022-02-28T06:35:50.134Z"
   },
   {
    "duration": -9,
    "start_time": "2022-02-28T06:35:50.138Z"
   },
   {
    "duration": -10,
    "start_time": "2022-02-28T06:35:50.140Z"
   },
   {
    "duration": -11,
    "start_time": "2022-02-28T06:35:50.142Z"
   },
   {
    "duration": 3533,
    "start_time": "2022-02-28T06:36:37.878Z"
   },
   {
    "duration": 2,
    "start_time": "2022-02-28T06:37:12.074Z"
   },
   {
    "duration": 8,
    "start_time": "2022-02-28T06:37:12.078Z"
   },
   {
    "duration": 1188,
    "start_time": "2022-02-28T06:37:12.088Z"
   },
   {
    "duration": 329,
    "start_time": "2022-02-28T06:37:13.278Z"
   },
   {
    "duration": 13,
    "start_time": "2022-02-28T06:37:13.608Z"
   },
   {
    "duration": 46,
    "start_time": "2022-02-28T06:37:13.623Z"
   },
   {
    "duration": 3,
    "start_time": "2022-02-28T06:37:13.671Z"
   },
   {
    "duration": 398,
    "start_time": "2022-02-28T06:37:13.676Z"
   },
   {
    "duration": 4,
    "start_time": "2022-02-28T06:37:14.076Z"
   },
   {
    "duration": 777,
    "start_time": "2022-02-28T06:37:14.081Z"
   },
   {
    "duration": -19,
    "start_time": "2022-02-28T06:37:14.879Z"
   },
   {
    "duration": -21,
    "start_time": "2022-02-28T06:37:14.882Z"
   },
   {
    "duration": -26,
    "start_time": "2022-02-28T06:37:14.887Z"
   },
   {
    "duration": -28,
    "start_time": "2022-02-28T06:37:14.890Z"
   },
   {
    "duration": -29,
    "start_time": "2022-02-28T06:37:14.892Z"
   },
   {
    "duration": -30,
    "start_time": "2022-02-28T06:37:14.894Z"
   },
   {
    "duration": 1828,
    "start_time": "2022-02-28T06:38:08.292Z"
   },
   {
    "duration": 1669,
    "start_time": "2022-02-28T06:38:25.441Z"
   },
   {
    "duration": 279,
    "start_time": "2022-02-28T06:39:53.592Z"
   },
   {
    "duration": 2218,
    "start_time": "2022-02-28T06:40:14.952Z"
   },
   {
    "duration": 804,
    "start_time": "2022-02-28T06:40:33.916Z"
   },
   {
    "duration": 2,
    "start_time": "2022-02-28T06:40:44.965Z"
   },
   {
    "duration": 396,
    "start_time": "2022-02-28T06:40:47.271Z"
   },
   {
    "duration": 4,
    "start_time": "2022-02-28T06:40:49.627Z"
   },
   {
    "duration": 2267,
    "start_time": "2022-02-28T06:41:31.642Z"
   },
   {
    "duration": 2,
    "start_time": "2022-02-28T06:41:45.281Z"
   },
   {
    "duration": 10,
    "start_time": "2022-02-28T06:41:45.285Z"
   },
   {
    "duration": 1226,
    "start_time": "2022-02-28T06:41:45.296Z"
   },
   {
    "duration": 317,
    "start_time": "2022-02-28T06:41:46.523Z"
   },
   {
    "duration": 12,
    "start_time": "2022-02-28T06:41:46.842Z"
   },
   {
    "duration": 59,
    "start_time": "2022-02-28T06:41:46.856Z"
   },
   {
    "duration": 3,
    "start_time": "2022-02-28T06:41:46.917Z"
   },
   {
    "duration": 354,
    "start_time": "2022-02-28T06:41:46.921Z"
   },
   {
    "duration": 3,
    "start_time": "2022-02-28T06:41:47.277Z"
   },
   {
    "duration": 6,
    "start_time": "2022-02-28T06:41:47.281Z"
   },
   {
    "duration": 8,
    "start_time": "2022-02-28T06:41:47.288Z"
   },
   {
    "duration": 820,
    "start_time": "2022-02-28T06:41:47.297Z"
   },
   {
    "duration": -22,
    "start_time": "2022-02-28T06:41:48.141Z"
   },
   {
    "duration": -34,
    "start_time": "2022-02-28T06:41:48.154Z"
   },
   {
    "duration": -37,
    "start_time": "2022-02-28T06:41:48.158Z"
   },
   {
    "duration": -51,
    "start_time": "2022-02-28T06:41:48.173Z"
   },
   {
    "duration": -62,
    "start_time": "2022-02-28T06:41:48.185Z"
   },
   {
    "duration": -64,
    "start_time": "2022-02-28T06:41:48.188Z"
   },
   {
    "duration": 290,
    "start_time": "2022-02-28T06:41:55.158Z"
   },
   {
    "duration": 2,
    "start_time": "2022-02-28T06:41:56.640Z"
   },
   {
    "duration": 4,
    "start_time": "2022-02-28T06:41:56.974Z"
   },
   {
    "duration": 2298,
    "start_time": "2022-02-28T06:42:12.875Z"
   },
   {
    "duration": 2178,
    "start_time": "2022-02-28T06:42:23.867Z"
   },
   {
    "duration": 3,
    "start_time": "2022-02-28T06:42:26.047Z"
   },
   {
    "duration": 1139,
    "start_time": "2022-02-28T06:42:26.052Z"
   },
   {
    "duration": 363,
    "start_time": "2022-02-28T06:42:27.193Z"
   },
   {
    "duration": 12,
    "start_time": "2022-02-28T06:42:27.558Z"
   },
   {
    "duration": 49,
    "start_time": "2022-02-28T06:42:27.572Z"
   },
   {
    "duration": 3,
    "start_time": "2022-02-28T06:42:27.622Z"
   },
   {
    "duration": 351,
    "start_time": "2022-02-28T06:42:27.628Z"
   },
   {
    "duration": 4,
    "start_time": "2022-02-28T06:42:27.981Z"
   },
   {
    "duration": 7,
    "start_time": "2022-02-28T06:42:27.986Z"
   },
   {
    "duration": 11,
    "start_time": "2022-02-28T06:42:27.995Z"
   },
   {
    "duration": 755,
    "start_time": "2022-02-28T06:42:28.007Z"
   },
   {
    "duration": -25,
    "start_time": "2022-02-28T06:42:28.789Z"
   },
   {
    "duration": -28,
    "start_time": "2022-02-28T06:42:28.793Z"
   },
   {
    "duration": -30,
    "start_time": "2022-02-28T06:42:28.796Z"
   },
   {
    "duration": -33,
    "start_time": "2022-02-28T06:42:28.800Z"
   },
   {
    "duration": -34,
    "start_time": "2022-02-28T06:42:28.802Z"
   },
   {
    "duration": -40,
    "start_time": "2022-02-28T06:42:28.809Z"
   },
   {
    "duration": 2408,
    "start_time": "2022-02-28T06:42:44.463Z"
   },
   {
    "duration": 2,
    "start_time": "2022-02-28T06:42:46.873Z"
   },
   {
    "duration": 1160,
    "start_time": "2022-02-28T06:42:46.877Z"
   },
   {
    "duration": 325,
    "start_time": "2022-02-28T06:42:48.038Z"
   },
   {
    "duration": 14,
    "start_time": "2022-02-28T06:42:48.365Z"
   },
   {
    "duration": 59,
    "start_time": "2022-02-28T06:42:48.380Z"
   },
   {
    "duration": 4,
    "start_time": "2022-02-28T06:42:48.441Z"
   },
   {
    "duration": 348,
    "start_time": "2022-02-28T06:42:48.448Z"
   },
   {
    "duration": 9,
    "start_time": "2022-02-28T06:42:48.798Z"
   },
   {
    "duration": 6,
    "start_time": "2022-02-28T06:42:48.808Z"
   },
   {
    "duration": 740,
    "start_time": "2022-02-28T06:42:48.815Z"
   },
   {
    "duration": -5,
    "start_time": "2022-02-28T06:42:49.562Z"
   },
   {
    "duration": -7,
    "start_time": "2022-02-28T06:42:49.565Z"
   },
   {
    "duration": -8,
    "start_time": "2022-02-28T06:42:49.568Z"
   },
   {
    "duration": -9,
    "start_time": "2022-02-28T06:42:49.570Z"
   },
   {
    "duration": -10,
    "start_time": "2022-02-28T06:42:49.572Z"
   },
   {
    "duration": -11,
    "start_time": "2022-02-28T06:42:49.574Z"
   },
   {
    "duration": 4096,
    "start_time": "2022-02-28T06:42:59.128Z"
   },
   {
    "duration": 2,
    "start_time": "2022-02-28T06:43:15.761Z"
   },
   {
    "duration": 5,
    "start_time": "2022-02-28T06:43:15.766Z"
   },
   {
    "duration": 1188,
    "start_time": "2022-02-28T06:43:15.772Z"
   },
   {
    "duration": 321,
    "start_time": "2022-02-28T06:43:16.962Z"
   },
   {
    "duration": 12,
    "start_time": "2022-02-28T06:43:17.284Z"
   },
   {
    "duration": 50,
    "start_time": "2022-02-28T06:43:17.298Z"
   },
   {
    "duration": 3,
    "start_time": "2022-02-28T06:43:17.350Z"
   },
   {
    "duration": 354,
    "start_time": "2022-02-28T06:43:17.355Z"
   },
   {
    "duration": 4,
    "start_time": "2022-02-28T06:43:17.711Z"
   },
   {
    "duration": 360,
    "start_time": "2022-02-28T06:43:17.716Z"
   },
   {
    "duration": 20,
    "start_time": "2022-02-28T06:43:18.057Z"
   },
   {
    "duration": 16,
    "start_time": "2022-02-28T06:43:18.062Z"
   },
   {
    "duration": -7,
    "start_time": "2022-02-28T06:43:18.086Z"
   },
   {
    "duration": -16,
    "start_time": "2022-02-28T06:43:18.096Z"
   },
   {
    "duration": -18,
    "start_time": "2022-02-28T06:43:18.099Z"
   },
   {
    "duration": -19,
    "start_time": "2022-02-28T06:43:18.101Z"
   },
   {
    "duration": -20,
    "start_time": "2022-02-28T06:43:18.103Z"
   },
   {
    "duration": 2,
    "start_time": "2022-02-28T06:43:24.465Z"
   },
   {
    "duration": 753,
    "start_time": "2022-02-28T06:43:24.704Z"
   },
   {
    "duration": 2283,
    "start_time": "2022-02-28T06:45:21.145Z"
   },
   {
    "duration": 822,
    "start_time": "2022-02-28T06:45:27.962Z"
   },
   {
    "duration": 7,
    "start_time": "2022-02-28T06:45:31.526Z"
   },
   {
    "duration": 3,
    "start_time": "2022-02-28T06:45:32.462Z"
   },
   {
    "duration": 675,
    "start_time": "2022-02-28T06:45:32.928Z"
   },
   {
    "duration": 496,
    "start_time": "2022-02-28T06:45:46.622Z"
   },
   {
    "duration": 3,
    "start_time": "2022-02-28T06:45:47.121Z"
   },
   {
    "duration": 1054,
    "start_time": "2022-02-28T06:45:47.126Z"
   },
   {
    "duration": 344,
    "start_time": "2022-02-28T06:45:48.183Z"
   },
   {
    "duration": 13,
    "start_time": "2022-02-28T06:45:48.529Z"
   },
   {
    "duration": 45,
    "start_time": "2022-02-28T06:45:48.543Z"
   },
   {
    "duration": 3,
    "start_time": "2022-02-28T06:45:48.589Z"
   },
   {
    "duration": 484,
    "start_time": "2022-02-28T06:45:48.606Z"
   },
   {
    "duration": 3,
    "start_time": "2022-02-28T06:45:49.092Z"
   },
   {
    "duration": 10,
    "start_time": "2022-02-28T06:45:49.097Z"
   },
   {
    "duration": 824,
    "start_time": "2022-02-28T06:45:49.109Z"
   },
   {
    "duration": -7,
    "start_time": "2022-02-28T06:45:49.942Z"
   },
   {
    "duration": -11,
    "start_time": "2022-02-28T06:45:49.947Z"
   },
   {
    "duration": -15,
    "start_time": "2022-02-28T06:45:49.951Z"
   },
   {
    "duration": -17,
    "start_time": "2022-02-28T06:45:49.954Z"
   },
   {
    "duration": -21,
    "start_time": "2022-02-28T06:45:49.959Z"
   },
   {
    "duration": -22,
    "start_time": "2022-02-28T06:45:49.961Z"
   },
   {
    "duration": 698,
    "start_time": "2022-02-28T06:48:52.148Z"
   },
   {
    "duration": 7,
    "start_time": "2022-02-28T06:48:52.840Z"
   },
   {
    "duration": 5,
    "start_time": "2022-02-28T06:49:34.633Z"
   },
   {
    "duration": 579,
    "start_time": "2022-02-28T06:49:38.432Z"
   },
   {
    "duration": 4,
    "start_time": "2022-02-28T06:50:05.125Z"
   },
   {
    "duration": 350,
    "start_time": "2022-02-28T06:50:05.772Z"
   },
   {
    "duration": 5,
    "start_time": "2022-02-28T06:52:17.605Z"
   },
   {
    "duration": 3,
    "start_time": "2022-02-28T06:52:26.167Z"
   },
   {
    "duration": 5,
    "start_time": "2022-02-28T06:52:26.171Z"
   },
   {
    "duration": 336,
    "start_time": "2022-02-28T06:52:26.178Z"
   },
   {
    "duration": 10,
    "start_time": "2022-02-28T06:52:26.516Z"
   },
   {
    "duration": 44,
    "start_time": "2022-02-28T06:52:26.527Z"
   },
   {
    "duration": 3,
    "start_time": "2022-02-28T06:52:26.572Z"
   },
   {
    "duration": 354,
    "start_time": "2022-02-28T06:52:26.577Z"
   },
   {
    "duration": 4,
    "start_time": "2022-02-28T06:52:26.932Z"
   },
   {
    "duration": 371,
    "start_time": "2022-02-28T06:52:26.938Z"
   },
   {
    "duration": 91,
    "start_time": "2022-02-28T06:52:27.314Z"
   },
   {
    "duration": 5,
    "start_time": "2022-02-28T06:52:27.407Z"
   },
   {
    "duration": 4,
    "start_time": "2022-02-28T06:52:27.413Z"
   },
   {
    "duration": 17,
    "start_time": "2022-02-28T06:52:27.418Z"
   },
   {
    "duration": 5,
    "start_time": "2022-02-28T06:52:27.436Z"
   },
   {
    "duration": 3169,
    "start_time": "2022-02-28T06:52:27.442Z"
   },
   {
    "duration": 100,
    "start_time": "2022-02-28T07:53:17.264Z"
   },
   {
    "duration": 96,
    "start_time": "2022-02-28T08:02:38.497Z"
   },
   {
    "duration": 3,
    "start_time": "2022-02-28T08:03:05.804Z"
   },
   {
    "duration": 1159,
    "start_time": "2022-02-28T08:03:05.808Z"
   },
   {
    "duration": 335,
    "start_time": "2022-02-28T08:03:06.968Z"
   },
   {
    "duration": 13,
    "start_time": "2022-02-28T08:03:07.305Z"
   },
   {
    "duration": 49,
    "start_time": "2022-02-28T08:03:07.319Z"
   },
   {
    "duration": 3,
    "start_time": "2022-02-28T08:03:07.369Z"
   },
   {
    "duration": 353,
    "start_time": "2022-02-28T08:03:07.375Z"
   },
   {
    "duration": 4,
    "start_time": "2022-02-28T08:03:07.730Z"
   },
   {
    "duration": 377,
    "start_time": "2022-02-28T08:03:07.735Z"
   },
   {
    "duration": 92,
    "start_time": "2022-02-28T08:03:08.114Z"
   },
   {
    "duration": 103,
    "start_time": "2022-02-28T08:03:08.208Z"
   },
   {
    "duration": 5,
    "start_time": "2022-02-28T08:03:08.313Z"
   },
   {
    "duration": 17,
    "start_time": "2022-02-28T08:03:08.319Z"
   },
   {
    "duration": 5,
    "start_time": "2022-02-28T08:03:08.337Z"
   },
   {
    "duration": 2664,
    "start_time": "2022-02-28T08:03:08.344Z"
   },
   {
    "duration": 14372,
    "start_time": "2022-02-28T09:59:44.840Z"
   },
   {
    "duration": 14286,
    "start_time": "2022-02-28T10:04:10.719Z"
   }
  ],
  "kernelspec": {
   "display_name": "Python 3 (ipykernel)",
   "language": "python",
   "name": "python3"
  },
  "language_info": {
   "codemirror_mode": {
    "name": "ipython",
    "version": 3
   },
   "file_extension": ".py",
   "mimetype": "text/x-python",
   "name": "python",
   "nbconvert_exporter": "python",
   "pygments_lexer": "ipython3",
   "version": "3.9.5"
  },
  "toc": {
   "base_numbering": 1,
   "nav_menu": {},
   "number_sections": true,
   "sideBar": true,
   "skip_h1_title": true,
   "title_cell": "Table of Contents",
   "title_sidebar": "Contents",
   "toc_cell": false,
   "toc_position": {},
   "toc_section_display": true,
   "toc_window_display": false
  }
 },
 "nbformat": 4,
 "nbformat_minor": 2
}
