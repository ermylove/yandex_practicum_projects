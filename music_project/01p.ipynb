{
 "cells": [
  {
   "cell_type": "markdown",
   "metadata": {
    "id": "E0vqbgi9ay0H"
   },
   "source": [
    "# Яндекс.Музыка"
   ]
  },
  {
   "cell_type": "markdown",
   "metadata": {
    "id": "VUC88oWjTJw2"
   },
   "source": [
    "Сравнение Москвы и Петербурга окружено мифами. Например:\n",
    " * Москва — мегаполис, подчинённый жёсткому ритму рабочей недели;\n",
    " * Петербург — культурная столица, со своими вкусами.\n",
    "\n",
    "На данных Яндекс.Музыки сравним поведение пользователей двух столиц.\n",
    "\n",
    "**Цель исследования** — проверить три гипотезы:\n",
    "1. Активность пользователей зависит от дня недели. Причём в Москве и Петербурге это проявляется по-разному.\n",
    "2. В понедельник утром в Москве преобладают одни жанры, а в Петербурге — другие. Так же и вечером пятницы преобладают разные жанры — в зависимости от города. \n",
    "3. Москва и Петербург предпочитают разные жанры музыки. В Москве чаще слушают поп-музыку, в Петербурге — русский рэп.\n",
    "\n",
    "**Ход исследования**\n",
    "\n",
    "Данные о поведении пользователей получены из файла `yandex_music_project.csv`. О качестве данных ничего не известно. Поэтому перед проверкой гипотез понадобится обзор данных. \n",
    "\n",
    "Исследование пройдёт в три этапа:\n",
    " 1. Обзор данных.\n",
    " 2. Предобработка данных.\n",
    " 3. Проверка гипотез.\n",
    "\n"
   ]
  },
  {
   "cell_type": "markdown",
   "metadata": {
    "id": "Ml1hmfXC_Zcs"
   },
   "source": [
    "## Обзор данных\n",
    "\n",
    "Составим первое представление о данных Яндекс.Музыки.\n",
    "\n",
    "\n"
   ]
  },
  {
   "cell_type": "code",
   "execution_count": 241,
   "metadata": {
    "id": "AXN7PHPN_Zcs"
   },
   "outputs": [],
   "source": [
    "import pandas as pd # импорт библиотеки pandas\n",
    "import seaborn as sns\n",
    "import matplotlib.pyplot as plt\n",
    "import requests\n",
    "import json\n",
    "import urllib.parse\n",
    "sns.set(style='whitegrid', palette = 'tab10')"
   ]
  },
  {
   "cell_type": "code",
   "execution_count": 242,
   "metadata": {
    "id": "fFVu7vqh_Zct"
   },
   "outputs": [],
   "source": [
    "df = pd.read_csv('/datasets/yandex_music_project.csv') # чтение файла с данными и сохранение в df"
   ]
  },
  {
   "cell_type": "code",
   "execution_count": 243,
   "metadata": {
    "id": "oWTVX3gW_Zct"
   },
   "outputs": [
    {
     "data": {
      "text/html": [
       "<div>\n",
       "<style scoped>\n",
       "    .dataframe tbody tr th:only-of-type {\n",
       "        vertical-align: middle;\n",
       "    }\n",
       "\n",
       "    .dataframe tbody tr th {\n",
       "        vertical-align: top;\n",
       "    }\n",
       "\n",
       "    .dataframe thead th {\n",
       "        text-align: right;\n",
       "    }\n",
       "</style>\n",
       "<table border=\"1\" class=\"dataframe\">\n",
       "  <thead>\n",
       "    <tr style=\"text-align: right;\">\n",
       "      <th></th>\n",
       "      <th>userID</th>\n",
       "      <th>Track</th>\n",
       "      <th>artist</th>\n",
       "      <th>genre</th>\n",
       "      <th>City</th>\n",
       "      <th>time</th>\n",
       "      <th>Day</th>\n",
       "    </tr>\n",
       "  </thead>\n",
       "  <tbody>\n",
       "    <tr>\n",
       "      <td>0</td>\n",
       "      <td>FFB692EC</td>\n",
       "      <td>Kamigata To Boots</td>\n",
       "      <td>The Mass Missile</td>\n",
       "      <td>rock</td>\n",
       "      <td>Saint-Petersburg</td>\n",
       "      <td>20:28:33</td>\n",
       "      <td>Wednesday</td>\n",
       "    </tr>\n",
       "    <tr>\n",
       "      <td>1</td>\n",
       "      <td>55204538</td>\n",
       "      <td>Delayed Because of Accident</td>\n",
       "      <td>Andreas Rönnberg</td>\n",
       "      <td>rock</td>\n",
       "      <td>Moscow</td>\n",
       "      <td>14:07:09</td>\n",
       "      <td>Friday</td>\n",
       "    </tr>\n",
       "    <tr>\n",
       "      <td>2</td>\n",
       "      <td>20EC38</td>\n",
       "      <td>Funiculì funiculà</td>\n",
       "      <td>Mario Lanza</td>\n",
       "      <td>pop</td>\n",
       "      <td>Saint-Petersburg</td>\n",
       "      <td>20:58:07</td>\n",
       "      <td>Wednesday</td>\n",
       "    </tr>\n",
       "    <tr>\n",
       "      <td>3</td>\n",
       "      <td>A3DD03C9</td>\n",
       "      <td>Dragons in the Sunset</td>\n",
       "      <td>Fire + Ice</td>\n",
       "      <td>folk</td>\n",
       "      <td>Saint-Petersburg</td>\n",
       "      <td>08:37:09</td>\n",
       "      <td>Monday</td>\n",
       "    </tr>\n",
       "    <tr>\n",
       "      <td>4</td>\n",
       "      <td>E2DC1FAE</td>\n",
       "      <td>Soul People</td>\n",
       "      <td>Space Echo</td>\n",
       "      <td>dance</td>\n",
       "      <td>Moscow</td>\n",
       "      <td>08:34:34</td>\n",
       "      <td>Monday</td>\n",
       "    </tr>\n",
       "    <tr>\n",
       "      <td>5</td>\n",
       "      <td>842029A1</td>\n",
       "      <td>Преданная</td>\n",
       "      <td>IMPERVTOR</td>\n",
       "      <td>rusrap</td>\n",
       "      <td>Saint-Petersburg</td>\n",
       "      <td>13:09:41</td>\n",
       "      <td>Friday</td>\n",
       "    </tr>\n",
       "    <tr>\n",
       "      <td>6</td>\n",
       "      <td>4CB90AA5</td>\n",
       "      <td>True</td>\n",
       "      <td>Roman Messer</td>\n",
       "      <td>dance</td>\n",
       "      <td>Moscow</td>\n",
       "      <td>13:00:07</td>\n",
       "      <td>Wednesday</td>\n",
       "    </tr>\n",
       "    <tr>\n",
       "      <td>7</td>\n",
       "      <td>F03E1C1F</td>\n",
       "      <td>Feeling This Way</td>\n",
       "      <td>Polina Griffith</td>\n",
       "      <td>dance</td>\n",
       "      <td>Moscow</td>\n",
       "      <td>20:47:49</td>\n",
       "      <td>Wednesday</td>\n",
       "    </tr>\n",
       "    <tr>\n",
       "      <td>8</td>\n",
       "      <td>8FA1D3BE</td>\n",
       "      <td>И вновь продолжается бой</td>\n",
       "      <td>NaN</td>\n",
       "      <td>ruspop</td>\n",
       "      <td>Moscow</td>\n",
       "      <td>09:17:40</td>\n",
       "      <td>Friday</td>\n",
       "    </tr>\n",
       "    <tr>\n",
       "      <td>9</td>\n",
       "      <td>E772D5C0</td>\n",
       "      <td>Pessimist</td>\n",
       "      <td>NaN</td>\n",
       "      <td>dance</td>\n",
       "      <td>Saint-Petersburg</td>\n",
       "      <td>21:20:49</td>\n",
       "      <td>Wednesday</td>\n",
       "    </tr>\n",
       "  </tbody>\n",
       "</table>\n",
       "</div>"
      ],
      "text/plain": [
       "     userID                        Track            artist   genre  \\\n",
       "0  FFB692EC            Kamigata To Boots  The Mass Missile    rock   \n",
       "1  55204538  Delayed Because of Accident  Andreas Rönnberg    rock   \n",
       "2    20EC38            Funiculì funiculà       Mario Lanza     pop   \n",
       "3  A3DD03C9        Dragons in the Sunset        Fire + Ice    folk   \n",
       "4  E2DC1FAE                  Soul People        Space Echo   dance   \n",
       "5  842029A1                    Преданная         IMPERVTOR  rusrap   \n",
       "6  4CB90AA5                         True      Roman Messer   dance   \n",
       "7  F03E1C1F             Feeling This Way   Polina Griffith   dance   \n",
       "8  8FA1D3BE     И вновь продолжается бой               NaN  ruspop   \n",
       "9  E772D5C0                    Pessimist               NaN   dance   \n",
       "\n",
       "             City        time        Day  \n",
       "0  Saint-Petersburg  20:28:33  Wednesday  \n",
       "1            Moscow  14:07:09     Friday  \n",
       "2  Saint-Petersburg  20:58:07  Wednesday  \n",
       "3  Saint-Petersburg  08:37:09     Monday  \n",
       "4            Moscow  08:34:34     Monday  \n",
       "5  Saint-Petersburg  13:09:41     Friday  \n",
       "6            Moscow  13:00:07  Wednesday  \n",
       "7            Moscow  20:47:49  Wednesday  \n",
       "8            Moscow  09:17:40     Friday  \n",
       "9  Saint-Petersburg  21:20:49  Wednesday  "
      ]
     },
     "execution_count": 243,
     "metadata": {},
     "output_type": "execute_result"
    }
   ],
   "source": [
    "df.head(10) # получение первых 10 строк таблицы df"
   ]
  },
  {
   "cell_type": "code",
   "execution_count": 244,
   "metadata": {
    "id": "DSf2kIb-_Zct"
   },
   "outputs": [
    {
     "name": "stdout",
     "output_type": "stream",
     "text": [
      "<class 'pandas.core.frame.DataFrame'>\n",
      "RangeIndex: 65079 entries, 0 to 65078\n",
      "Data columns (total 7 columns):\n",
      "  userID    65079 non-null object\n",
      "Track       63848 non-null object\n",
      "artist      57876 non-null object\n",
      "genre       63881 non-null object\n",
      "  City      65079 non-null object\n",
      "time        65079 non-null object\n",
      "Day         65079 non-null object\n",
      "dtypes: object(7)\n",
      "memory usage: 3.5+ MB\n"
     ]
    }
   ],
   "source": [
    "df.info() # получение общей информации о данных в таблице df"
   ]
  },
  {
   "cell_type": "markdown",
   "metadata": {
    "id": "TaQ2Iwbr_Zct"
   },
   "source": [
    "Итак, в таблице семь столбцов. Тип данных во всех столбцах — `object`.\n",
    "\n",
    "Согласно документации к данным:\n",
    "* `userID` — идентификатор пользователя;\n",
    "* `Track` — название трека;  \n",
    "* `artist` — имя исполнителя;\n",
    "* `genre` — название жанра;\n",
    "* `City` — город пользователя;\n",
    "* `time` — время начала прослушивания;\n",
    "* `Day` — день недели.\n",
    "\n",
    "В названиях колонок видны три нарушения стиля:\n",
    "1. Строчные буквы сочетаются с прописными.\n",
    "2. Встречаются пробелы.\n",
    "3. Встречается слитное написание слов.\n",
    "\n",
    "\n",
    "\n",
    "Количество значений в столбцах различается. Значит, в данных есть пропущенные значения.\n"
   ]
  },
  {
   "cell_type": "markdown",
   "metadata": {
    "id": "MCB6-dXG_Zct"
   },
   "source": [
    "**Выводы**\n",
    "\n",
    "В каждой строке таблицы — данные о прослушанном треке. Часть колонок описывает саму композицию: название, исполнителя и жанр. Остальные данные рассказывают о пользователе: из какого он города, когда он слушал музыку. \n",
    "\n",
    "Предварительно можно утверждать, что, данных достаточно для проверки гипотез. Но встречаются пропуски в данных, а в названиях колонок — расхождения с хорошим стилем.\n",
    "\n",
    "Чтобы двигаться дальше, нужно устранить проблемы в данных."
   ]
  },
  {
   "cell_type": "markdown",
   "metadata": {
    "id": "SjYF6Ub9_Zct"
   },
   "source": [
    "## Предобработка данных\n",
    "Исправьим стиль в заголовках столбцов, исключим пропуски. Затем проверим данные на дубликаты."
   ]
  },
  {
   "cell_type": "markdown",
   "metadata": {
    "id": "dIaKXr29_Zct"
   },
   "source": [
    "### Стиль заголовков\n"
   ]
  },
  {
   "cell_type": "code",
   "execution_count": 245,
   "metadata": {
    "id": "oKOTdF_Q_Zct"
   },
   "outputs": [
    {
     "data": {
      "text/plain": [
       "Index(['  userID', 'Track', 'artist', 'genre', '  City  ', 'time', 'Day'], dtype='object')"
      ]
     },
     "execution_count": 245,
     "metadata": {},
     "output_type": "execute_result"
    }
   ],
   "source": [
    "df.columns # перечень названий столбцов таблицы df"
   ]
  },
  {
   "cell_type": "markdown",
   "metadata": {
    "id": "zj5534cv_Zct"
   },
   "source": [
    "Приведем названия в соответствие с хорошим стилем:\n",
    "Для этого переименем колонки так:\n",
    "* `'  userID'` → `'user_id'`;\n",
    "* `'Track'` → `'track'`;\n",
    "* `'  City  '` → `'city'`;\n",
    "* `'Day'` → `'day'`."
   ]
  },
  {
   "cell_type": "code",
   "execution_count": 246,
   "metadata": {
    "id": "ISlFqs5y_Zct"
   },
   "outputs": [],
   "source": [
    "df = df.rename(columns={'  userID' : 'user_id',\\\n",
    "                        'Track' : 'track',\\\n",
    "                        '  City  ' : 'city',\\\n",
    "                        'Day' : 'day'}) # переименование столбцов"
   ]
  },
  {
   "cell_type": "code",
   "execution_count": 247,
   "metadata": {
    "id": "d4NOAmTW_Zct"
   },
   "outputs": [
    {
     "data": {
      "text/plain": [
       "Index(['user_id', 'track', 'artist', 'genre', 'city', 'time', 'day'], dtype='object')"
      ]
     },
     "execution_count": 247,
     "metadata": {},
     "output_type": "execute_result"
    }
   ],
   "source": [
    "df.columns # проверка результатов - перечень названий столбцов"
   ]
  },
  {
   "cell_type": "markdown",
   "metadata": {
    "id": "5ISfbcfY_Zct"
   },
   "source": [
    "### Пропуски значений\n"
   ]
  },
  {
   "cell_type": "code",
   "execution_count": 248,
   "metadata": {
    "id": "RskX29qr_Zct",
    "scrolled": false
   },
   "outputs": [
    {
     "data": {
      "text/plain": [
       "user_id       0\n",
       "track      1231\n",
       "artist     7203\n",
       "genre      1198\n",
       "city          0\n",
       "time          0\n",
       "day           0\n",
       "dtype: int64"
      ]
     },
     "execution_count": 248,
     "metadata": {},
     "output_type": "execute_result"
    }
   ],
   "source": [
    "df.isna().sum() # подсчёт пропусков"
   ]
  },
  {
   "cell_type": "markdown",
   "metadata": {
    "id": "qubhgnlO_Zct"
   },
   "source": [
    "Не все пропущенные значения влияют на исследование. Так в `track` и `artist` пропуски не важны для вашей работы. Достаточно заменить их явными обозначениями.\n",
    "\n",
    "Но пропуски в `genre` могут помешать сравнению музыкальных вкусов в Москве и Санкт-Петербурге. На практике было бы правильно установить причину пропусков и восстановить данные. Такой возможности нет в учебном проекте. Придётся:\n",
    "* заполнить и эти пропуски явными обозначениями,\n",
    "* оценить, насколько они повредят расчётам. "
   ]
  },
  {
   "cell_type": "markdown",
   "metadata": {
    "id": "fSv2laPA_Zct"
   },
   "source": [
    "Для упрощения работы с пропусками проверим наличие и устраним сначала строки с явными дубликатами"
   ]
  },
  {
   "cell_type": "code",
   "execution_count": 249,
   "metadata": {},
   "outputs": [
    {
     "data": {
      "text/plain": [
       "3826"
      ]
     },
     "execution_count": 249,
     "metadata": {},
     "output_type": "execute_result"
    }
   ],
   "source": [
    "df.duplicated().sum() # подсчёт явных дубликатов"
   ]
  },
  {
   "cell_type": "code",
   "execution_count": 250,
   "metadata": {},
   "outputs": [],
   "source": [
    "df = df.drop_duplicates().reset_index(drop=True)"
   ]
  },
  {
   "cell_type": "markdown",
   "metadata": {},
   "source": [
    "Так как пропуски встречаются только в трех столбцах, составим таблицу для оценки количества отсутвующих данных. "
   ]
  },
  {
   "cell_type": "code",
   "execution_count": 251,
   "metadata": {
    "scrolled": true
   },
   "outputs": [
    {
     "data": {
      "text/html": [
       "<div>\n",
       "<style scoped>\n",
       "    .dataframe tbody tr th:only-of-type {\n",
       "        vertical-align: middle;\n",
       "    }\n",
       "\n",
       "    .dataframe tbody tr th {\n",
       "        vertical-align: top;\n",
       "    }\n",
       "\n",
       "    .dataframe thead th {\n",
       "        text-align: right;\n",
       "    }\n",
       "</style>\n",
       "<table border=\"1\" class=\"dataframe\">\n",
       "  <thead>\n",
       "    <tr style=\"text-align: right;\">\n",
       "      <th></th>\n",
       "      <th>title_exis</th>\n",
       "      <th>artist_exis</th>\n",
       "      <th>genre_exis</th>\n",
       "      <th>number</th>\n",
       "    </tr>\n",
       "  </thead>\n",
       "  <tbody>\n",
       "    <tr>\n",
       "      <td>0</td>\n",
       "      <td>True</td>\n",
       "      <td>True</td>\n",
       "      <td>True</td>\n",
       "      <td>619</td>\n",
       "    </tr>\n",
       "    <tr>\n",
       "      <td>1</td>\n",
       "      <td>True</td>\n",
       "      <td>True</td>\n",
       "      <td>False</td>\n",
       "      <td>536</td>\n",
       "    </tr>\n",
       "    <tr>\n",
       "      <td>2</td>\n",
       "      <td>True</td>\n",
       "      <td>False</td>\n",
       "      <td>True</td>\n",
       "      <td>0</td>\n",
       "    </tr>\n",
       "    <tr>\n",
       "      <td>3</td>\n",
       "      <td>True</td>\n",
       "      <td>False</td>\n",
       "      <td>False</td>\n",
       "      <td>0</td>\n",
       "    </tr>\n",
       "    <tr>\n",
       "      <td>4</td>\n",
       "      <td>False</td>\n",
       "      <td>True</td>\n",
       "      <td>True</td>\n",
       "      <td>163</td>\n",
       "    </tr>\n",
       "    <tr>\n",
       "      <td>5</td>\n",
       "      <td>False</td>\n",
       "      <td>True</td>\n",
       "      <td>False</td>\n",
       "      <td>5454</td>\n",
       "    </tr>\n",
       "    <tr>\n",
       "      <td>6</td>\n",
       "      <td>False</td>\n",
       "      <td>False</td>\n",
       "      <td>True</td>\n",
       "      <td>345</td>\n",
       "    </tr>\n",
       "    <tr>\n",
       "      <td>7</td>\n",
       "      <td>False</td>\n",
       "      <td>False</td>\n",
       "      <td>False</td>\n",
       "      <td>54136</td>\n",
       "    </tr>\n",
       "  </tbody>\n",
       "</table>\n",
       "</div>"
      ],
      "text/plain": [
       "  title_exis artist_exis genre_exis number\n",
       "0       True        True       True    619\n",
       "1       True        True      False    536\n",
       "2       True       False       True      0\n",
       "3       True       False      False      0\n",
       "4      False        True       True    163\n",
       "5      False        True      False   5454\n",
       "6      False       False       True    345\n",
       "7      False       False      False  54136"
      ]
     },
     "metadata": {},
     "output_type": "display_data"
    }
   ],
   "source": [
    "nan_count = pd.DataFrame(columns=['title_exis','artist_exis','genre_exis','number']) # создаем датафрейм для подсчета\n",
    "for a in [True, False]:\n",
    "  for b in [True, False]:\n",
    "    for c in [True, False]:\n",
    "      number = df[(df.track.isna() == a) & (df.artist.isna() == b) & (df.genre.isna() == c)].shape[0] #подсчитываем количество\n",
    "      nan_count = nan_count.append({'title_exis' : a, \"artist_exis\": b, \"genre_exis\": c,  \"number\": number},\\\n",
    "                                   ignore_index=True) #заполняем датафрейм\n",
    "display(nan_count)"
   ]
  },
  {
   "cell_type": "markdown",
   "metadata": {},
   "source": [
    "После манипуляций в данных имеется:\n",
    "* 1. 619 строк не имеющих информации о треке\n",
    "* 2. 536 строк в которых известен только жанр трека\n",
    "* 3. 163 строки в которых известно только название трека, но нет информации об исполнителе и жанре\n",
    "* 4. 5454 строки с неизвестным исполнителем\n",
    "* 5. 345 строки в которых нет информации о жанре, но есть данные о названии трека и исполнителе\n",
    "* 6. 54136 строк с полными данными\n",
    "\n",
    "Исходя из этого, можно частично востановить информацию, необходимую в данном исследовании, о жанре аудиотрека у данных из пунктов 3 и 5 по названию трека и исполнителю. "
   ]
  },
  {
   "cell_type": "code",
   "execution_count": 252,
   "metadata": {},
   "outputs": [],
   "source": [
    "def genre_by_artist(artist): #функция для поиска жанра по артисту\n",
    "    try:\n",
    "        url = 'https://music.yandex.ru/handlers/music-search.jsx'\n",
    "        params={'text': urllib.parse.quote(artist),\n",
    "                'type' : 'artist'}\n",
    "        cookies = {\n",
    "        'gdpr': '0',\n",
    "        'mda': '0',\n",
    "        'yandex_gid': '38',\n",
    "        'is_gdpr_b': 'COaIGBD2TigC',\n",
    "        'is_gdpr': '0',\n",
    "        'bltsr': '1',\n",
    "        'yandexuid': '2450519631594838815',\n",
    "        'yuidss': '2450519631594838815',\n",
    "        'ymex': '1638608355.oyu.9406303111635779726#1951328489.yrts.1635968489#1951376355.yrtsi.1636016355',\n",
    "        'L': 'Zgphc0sAQG5uZmJDVwB4B19KAABeWX5SLjEWIgFZHAtXODU0IBRCRT0=.1636018956.14779.348618.90f786b86fc62fc25cbab0ba94aebfe5',\n",
    "        'yandex_login': 'metall_20@mail.ru',\n",
    "        'my': 'YwA=',\n",
    "        'Nickel': '1',\n",
    "        'Radon': '1',\n",
    "        'Manganese': '1',\n",
    "        'i': 'ax6Axor8yRIc1KunUwZ0Ojpj3ZYFgEgarOQH/9ckrzSaKmVksHcyglb4hkmvZnAkiiacfG/aFXqsaQ3Jm73dFWCHukA=',\n",
    "        'Session_id': '3:1636821816.5.0.1636018956086:5D3pvA:8.1|1508812044.-1.0.1:305410596|3:243567.885568.OBaotNoMzlfmwu5XlJslzC4XKAA',\n",
    "        'sessionid2': '3:1636821816.5.0.1636018956086:5D3pvA:8.1|1508812044.-1.0.1:305410596|3:243567.885568.OBaotNoMzlfmwu5XlJslzC4XKAA',\n",
    "        '_ym_uid': '1594838816713899162',\n",
    "        'computer': '1',\n",
    "        'LBCBNrZSu': '1',\n",
    "        'kidsTabTooltipShown': '1',\n",
    "        'pepsi_year': 'today',\n",
    "        'safeframe-test-cookie_1636987515881_43_1': 'test',\n",
    "        '_ym_isad': '2',\n",
    "        'VTouhmwR': '1',\n",
    "        '_ym_d': '1636999336',\n",
    "        '_yasc': 'XFtYOD8USUONeDAlDfIjRaKTEkAF4WY/+Lb5iDPRxnQ8rwAXPxd2vHPvIgY=',\n",
    "        'yabs-frequency': '/5/00010000003MdLnX/ohdHPci00030Go7KoImF3W000C138RAMB4H30000m4CXOgH1ROO00030GoU2OK5jXW000BX38zgIfCn34kfom4F07SvxfH5gytt0G-1HxyKNv2UVSy530099znZMNaanTi13882H5D7-EEzYm4D0sN29jnIpaat1Gy02WFeWDc9_qrR0Go1JwbovPL8vVS13G16_KW8OghjyXqFy____PprAoyHjzMB0G-06CGbPxqMqTy13O6FWZwpsQiPfmKCW0cDAzBnKAfvumKC01Hdooy4TlaTjm4CWbqyobYOQBah1Gw01Y0ySS9800030Go3x4XnmaW000C138ACrP3LaKTjom4CW/',\n",
    "        'ys': 'udn.cDptZXRhbGxfMjBAbWFpbC5ydQ%3D%3D#wprid.1636999338430633-5872689049903018219-sas2-2338-sas-l7-balancer-8080-BAL-2532#c_chck.3913386717',\n",
    "        'yp': '1639591340.los.1#1639591340.losc.0#1668526101.p_sw.1636990100#1651796398.szm.1:1440x900:1440x789#1951378956.udn.cDptZXRhbGxfMjBAbWFpbC5ydQ%3D%3D#1637251529.mcv.0#1637251529.mcl.1o48vqd#1637252402.mct.null',\n",
    "        'device_id': 'a25cc617db69f4afee43b2b3157cd447a950d35d8',\n",
    "        'active-browser-timestamp': '1636999342098',\n",
    "        '_ym_visorc': 'b',\n",
    "        '_gcl_au': '1.1.990358599.1636999343',\n",
    "        'lastVisitedPage': '%7B%7D'}\n",
    "\n",
    "        headers = {'user-agent' : 'Mozilla/5.0 (Windows NT 6.1) AppleWebKit/537.36 (KHTML, like Gecko) Chrome/95.0.4638.69 Safari/537.36'}\n",
    "        res = requests.get(url, headers=headers, params=params,  cookies=cookies)\n",
    "        return str(res.json()['artists']['items'][0]['genres'][0])\n",
    "    except (IndexError, KeyError):        \n",
    "        return 'unknown' #если информации нет, возвращаем 'unknown'"
   ]
  },
  {
   "cell_type": "code",
   "execution_count": 253,
   "metadata": {},
   "outputs": [],
   "source": [
    "def genre_by_track(track): #функция для поиска жанра по названию трека\n",
    "    try:\n",
    "        url = 'https://music.yandex.ru/handlers/music-search.jsx'\n",
    "        params={'text': urllib.parse.quote(track),\n",
    "                'type' : 'tracks'}\n",
    "        cookies = {\n",
    "        'gdpr': '0',\n",
    "        'mda': '0',\n",
    "        'yandex_gid': '38',\n",
    "        'is_gdpr_b': 'COaIGBD2TigC',\n",
    "        'is_gdpr': '0',\n",
    "        'bltsr': '1',\n",
    "        'yandexuid': '2450519631594838815',\n",
    "        'yuidss': '2450519631594838815',\n",
    "        'ymex': '1638608355.oyu.9406303111635779726#1951328489.yrts.1635968489#1951376355.yrtsi.1636016355',\n",
    "        'L': 'Zgphc0sAQG5uZmJDVwB4B19KAABeWX5SLjEWIgFZHAtXODU0IBRCRT0=.1636018956.14779.348618.90f786b86fc62fc25cbab0ba94aebfe5',\n",
    "        'yandex_login': 'metall_20@mail.ru',\n",
    "        'my': 'YwA=',\n",
    "        'Nickel': '1',\n",
    "        'Radon': '1',\n",
    "        'Manganese': '1',\n",
    "        'i': 'ax6Axor8yRIc1KunUwZ0Ojpj3ZYFgEgarOQH/9ckrzSaKmVksHcyglb4hkmvZnAkiiacfG/aFXqsaQ3Jm73dFWCHukA=',\n",
    "        'Session_id': '3:1636821816.5.0.1636018956086:5D3pvA:8.1|1508812044.-1.0.1:305410596|3:243567.885568.OBaotNoMzlfmwu5XlJslzC4XKAA',\n",
    "        'sessionid2': '3:1636821816.5.0.1636018956086:5D3pvA:8.1|1508812044.-1.0.1:305410596|3:243567.885568.OBaotNoMzlfmwu5XlJslzC4XKAA',\n",
    "        '_ym_uid': '1594838816713899162',\n",
    "        'computer': '1',\n",
    "        'LBCBNrZSu': '1',\n",
    "        'kidsTabTooltipShown': '1',\n",
    "        'pepsi_year': 'today',\n",
    "        'safeframe-test-cookie_1636987515881_43_1': 'test',\n",
    "        '_ym_isad': '2',\n",
    "        'VTouhmwR': '1',\n",
    "        '_ym_d': '1636999336',\n",
    "        '_yasc': 'XFtYOD8USUONeDAlDfIjRaKTEkAF4WY/+Lb5iDPRxnQ8rwAXPxd2vHPvIgY=',\n",
    "        'yabs-frequency': '/5/00010000003MdLnX/ohdHPci00030Go7KoImF3W000C138RAMB4H30000m4CXOgH1ROO00030GoU2OK5jXW000BX38zgIfCn34kfom4F07SvxfH5gytt0G-1HxyKNv2UVSy530099znZMNaanTi13882H5D7-EEzYm4D0sN29jnIpaat1Gy02WFeWDc9_qrR0Go1JwbovPL8vVS13G16_KW8OghjyXqFy____PprAoyHjzMB0G-06CGbPxqMqTy13O6FWZwpsQiPfmKCW0cDAzBnKAfvumKC01Hdooy4TlaTjm4CWbqyobYOQBah1Gw01Y0ySS9800030Go3x4XnmaW000C138ACrP3LaKTjom4CW/',\n",
    "        'ys': 'udn.cDptZXRhbGxfMjBAbWFpbC5ydQ%3D%3D#wprid.1636999338430633-5872689049903018219-sas2-2338-sas-l7-balancer-8080-BAL-2532#c_chck.3913386717',\n",
    "        'yp': '1639591340.los.1#1639591340.losc.0#1668526101.p_sw.1636990100#1651796398.szm.1:1440x900:1440x789#1951378956.udn.cDptZXRhbGxfMjBAbWFpbC5ydQ%3D%3D#1637251529.mcv.0#1637251529.mcl.1o48vqd#1637252402.mct.null',\n",
    "        'device_id': 'a25cc617db69f4afee43b2b3157cd447a950d35d8',\n",
    "        'active-browser-timestamp': '1636999342098',\n",
    "        '_ym_visorc': 'b',\n",
    "        '_gcl_au': '1.1.990358599.1636999343',\n",
    "        'lastVisitedPage': '%7B%7D'}\n",
    "\n",
    "        headers = {'user-agent' : 'Mozilla/5.0 (Windows NT 6.1) AppleWebKit/537.36 (KHTML, like Gecko) Chrome/95.0.4638.69 Safari/537.36'}\n",
    "        res = requests.get(url, headers=headers, params=params,  cookies=cookies)\n",
    "        return str(res.json()['tracks']['items'][0]['albums'][0]['genre'])\n",
    "    except (IndexError, KeyError):        \n",
    "        return 'unknown' #если информации нет, возвращаем 'unknown'"
   ]
  },
  {
   "cell_type": "code",
   "execution_count": 254,
   "metadata": {},
   "outputs": [],
   "source": [
    "#заполняем функцией строки без жанра, но с исполнителем\n",
    "df.loc[((df.artist.isna() == False) & (df.genre.isna())),'genre'] =\\\n",
    "df.loc[((df.artist.isna() == False) & (df.genre.isna())), 'artist'].apply(genre_by_artist) \n",
    "# подождите, пожалуйста, ~2 минуты"
   ]
  },
  {
   "cell_type": "code",
   "execution_count": 255,
   "metadata": {},
   "outputs": [],
   "source": [
    "#заполняем функцией строки без жанра, но с названием трека\n",
    "df.loc[((df.track.isna() == False) & (df.genre.isna())),'genre'] =\\\n",
    "df.loc[((df.track.isna() == False) & (df.genre.isna())), 'track'].apply(genre_by_track) \n",
    "# пожалуйста еще 2 минуты"
   ]
  },
  {
   "cell_type": "code",
   "execution_count": 256,
   "metadata": {},
   "outputs": [],
   "source": [
    "df = df.fillna('unknown') #все остальные пропущенные данные заменяем на 'unknown'"
   ]
  },
  {
   "cell_type": "markdown",
   "metadata": {
    "id": "Ilsm-MZo_Zct"
   },
   "source": [
    "Убедимся, что в таблице не осталось пропусков, посчитав пропущенные значения."
   ]
  },
  {
   "cell_type": "code",
   "execution_count": 257,
   "metadata": {
    "id": "Tq4nYRX4_Zct"
   },
   "outputs": [
    {
     "data": {
      "text/plain": [
       "user_id    0\n",
       "track      0\n",
       "artist     0\n",
       "genre      0\n",
       "city       0\n",
       "time       0\n",
       "day        0\n",
       "dtype: int64"
      ]
     },
     "execution_count": 257,
     "metadata": {},
     "output_type": "execute_result"
    }
   ],
   "source": [
    "df.isna().sum()# подсчёт пропусков"
   ]
  },
  {
   "cell_type": "markdown",
   "metadata": {
    "id": "BWKRtBJ3_Zct"
   },
   "source": [
    "### Дубликаты\n",
    "Для упрощения заполнения пропусков, явные дубликаты удалены в прошлом пункте, теперь избавимся от неявных дубликатов в колонке `genre`. Hазвание одного и того же жанра может быть записано немного по-разному. Такие ошибки тоже повлияют на результат исследования."
   ]
  },
  {
   "cell_type": "markdown",
   "metadata": {
    "id": "eSjWwsOh_Zct"
   },
   "source": [
    "Выведем на экран список уникальных названий жанров, отсортированный в алфавитном порядке."
   ]
  },
  {
   "cell_type": "code",
   "execution_count": 258,
   "metadata": {
    "id": "JIUcqzZN_Zct"
   },
   "outputs": [
    {
     "data": {
      "text/plain": [
       "array(['acid', 'acoustic', 'action', 'adult', 'africa', 'afrikaans',\n",
       "       'alternative', 'alternativepunk', 'ambient', 'amerfolk',\n",
       "       'americana', 'animated', 'anime', 'arabesk', 'arabic', 'arena',\n",
       "       'argentinetango', 'armenian', 'art', 'audiobook', 'author',\n",
       "       'avantgarde', 'axé', 'baile', 'balkan', 'beats', 'bigroom',\n",
       "       'black', 'bluegrass', 'blues', 'bollywood', 'bossa', 'brazilian',\n",
       "       'breakbeat', 'breakbeatgenre', 'breaks', 'broadway', 'cantautori',\n",
       "       'cantopop', 'canzone', 'caribbean', 'caucasian', 'celtic',\n",
       "       'chamber', 'chanson', 'children', 'chill', 'chinese', 'choral',\n",
       "       'christian', 'christmas', 'classical', 'classicalmasterpieces',\n",
       "       'classicmetal', 'club', 'colombian', 'comedy', 'conjazz',\n",
       "       'contemporary', 'country', 'cuban', 'dance', 'dancehall',\n",
       "       'dancepop', 'dark', 'death', 'deep', 'deutschrock', 'deutschspr',\n",
       "       'dirty', 'disco', 'dnb', 'documentary', 'downbeat', 'downtempo',\n",
       "       'drum', 'dub', 'dubstep', 'eastern', 'easy', 'electronic',\n",
       "       'electronics', 'electropop', 'emo', 'entehno', 'epicmetal',\n",
       "       'estrada', 'ethnic', 'eurofolk', 'european', 'experimental',\n",
       "       'extrememetal', 'fado', 'fairytail', 'film', 'films', 'fitness',\n",
       "       'flamenco', 'folk', 'folklore', 'folkmetal', 'folkrock',\n",
       "       'folktronica', 'forchildren', 'foreignbard', 'foreignrap', 'forró',\n",
       "       'frankreich', 'französisch', 'french', 'funk', 'future', 'gangsta',\n",
       "       'garage', 'german', 'ghazal', 'gitarre', 'glitch', 'gospel',\n",
       "       'gothic', 'gothicmetal', 'grime', 'grunge', 'gypsy', 'handsup',\n",
       "       \"hard'n'heavy\", 'hardcore', 'hardstyle', 'hardtechno', 'hip',\n",
       "       'hip-hop', 'hiphop', 'historisch', 'holiday', 'hop', 'horror',\n",
       "       'house', 'hymn', 'idm', 'independent', 'indian', 'indie',\n",
       "       'indipop', 'industrial', 'inspirational', 'instrumental',\n",
       "       'international', 'irish', 'jam', 'japanese', 'jazz', 'jewish',\n",
       "       'jpop', 'jungle', 'k-pop', 'karadeniz', 'karaoke', 'kayokyoku',\n",
       "       'korean', 'laiko', 'latin', 'latinfolk', 'latino', 'leftfield',\n",
       "       'local', 'local-indie', 'lounge', 'loungeelectronic', 'lovers',\n",
       "       'malaysian', 'mandopop', 'marschmusik', 'meditative',\n",
       "       'mediterranean', 'melodic', 'metal', 'metalcore', 'metalcoregenre',\n",
       "       'mexican', 'middle', 'minimal', 'miscellaneous', 'modern', 'mood',\n",
       "       'mpb', 'muslim', 'native', 'neoklassik', 'neue', 'new', 'newage',\n",
       "       'newwave', 'nu', 'nujazz', 'numetal', 'oceania', 'old', 'opera',\n",
       "       'orchestral', 'other', 'piano', 'podcasts', 'pop', 'popdance',\n",
       "       'popelectronic', 'popeurodance', 'poprussian', 'post',\n",
       "       'posthardcore', 'postrock', 'power', 'progmetal', 'progressive',\n",
       "       'psychedelic', 'punjabi', 'punk', 'quebecois', 'ragga', 'ram',\n",
       "       'rancheras', 'rap', 'rave', 'reggae', 'reggaeton', 'regional',\n",
       "       'relax', 'religious', 'retro', 'rhythm', 'rnb', 'rnr', 'rock',\n",
       "       'rockabilly', 'rockalternative', 'rockindie', 'rockother',\n",
       "       'romance', 'roots', 'rusbards', 'rusestrada', 'rusfolk', 'ruspop',\n",
       "       'rusrap', 'rusrock', 'russian', 'salsa', 'samba', 'scenic',\n",
       "       'schlager', 'self', 'sertanejo', 'shanson', 'shoegazing',\n",
       "       'showtunes', 'singer', 'ska', 'skarock', 'slow', 'smooth', 'soft',\n",
       "       'soul', 'soulful', 'sound', 'soundtrack', 'southern', 'specialty',\n",
       "       'speech', 'spiritual', 'sport', 'stonerrock', 'surf', 'swing',\n",
       "       'synthpop', 'synthrock', 'sängerportrait', 'tango',\n",
       "       'tanzorchester', 'taraftar', 'tatar', 'tech', 'techno', 'teen',\n",
       "       'thrash', 'top', 'traditional', 'tradjazz', 'trance', 'tribal',\n",
       "       'trip', 'triphop', 'tropical', 'türk', 'türkçe', 'ukrrock',\n",
       "       'unknown', 'urban', 'uzbek', 'uzbekpop', 'variété', 'vi',\n",
       "       'videogame', 'vocal', 'western', 'world', 'worldbeat', 'ïîï',\n",
       "       'электроника'], dtype=object)"
      ]
     },
     "execution_count": 258,
     "metadata": {},
     "output_type": "execute_result"
    }
   ],
   "source": [
    "df.genre.sort_values().unique() # Просмотр уникальных названий жанров"
   ]
  },
  {
   "cell_type": "markdown",
   "metadata": {
    "id": "qej-Qmuo_Zct"
   },
   "source": [
    "В списоке присутствуют неявные дубликаты жанров. Это названия с ошибками или альтернативные названия того же жанра.\n",
    "Чтобы очистить от них таблицу, напишем функцию `replace_wrong_genres()` с двумя параметрами: \n",
    "* `wrong_genres` — список дубликатов,\n",
    "* `correct_genre` — строка с правильным значением."
   ]
  },
  {
   "cell_type": "code",
   "execution_count": 259,
   "metadata": {
    "id": "ErNDkmns_Zct"
   },
   "outputs": [],
   "source": [
    "def replace_wrong_genres(df, wrong_genres, correct_genre): # Функция для замены неявных дубликатов\n",
    "    for wrong in wrong_genres:\n",
    "        df.genre = df.genre.replace(wrong, correct_genre)"
   ]
  },
  {
   "cell_type": "markdown",
   "metadata": {
    "id": "aDoBJxbA_Zct"
   },
   "source": [
    "Составим словарь `change_genres` в котором ключем является коректное название, а значениями списоки ошибочных вариантов присутвубщие в наших данных.\n",
    "Вызовем `replace_wrong_genres()` для устранения неявных дубликатов."
   ]
  },
  {
   "cell_type": "code",
   "execution_count": 260,
   "metadata": {
    "id": "YN5i2hpmSo09"
   },
   "outputs": [],
   "source": [
    "change_genres = {'adult' : [ 'contemporary'],\n",
    "                 'african' : ['africa', 'afrikaans'],\n",
    "                 'american' : ['americana'],\n",
    "                 'anime' : ['fairytail'],\n",
    "                 'arabesk' : ['arabic'],\n",
    "                 'breakbeat' : ['beats', 'breaks'],\n",
    "                 'downbeat' : ['downtempo', \"slow\"],\n",
    "                 'dnb' : ['drum'],\n",
    "                 'dubstep' : ['dub'],\n",
    "                 'french' : ['frankreich', 'französisch'],\n",
    "                 'german' : ['deutschspr', 'tanzorchester'],\n",
    "                 'christian' : ['gospel'],\n",
    "                 'hiphop' : ['hip', 'hop', 'hip-hop'],\n",
    "                 'indie' : ['independent'],\n",
    "                 'jpop' : ['kayokyoku'],\n",
    "                 'kpop' : ['k-pop'],\n",
    "                 'latin' : ['latino'],\n",
    "                 'neoclassical' : ['neoklassik'],\n",
    "                 'new' : ['neue'],\n",
    "                 'brazilian' : ['mpb'],\n",
    "                 'dancepop' : ['popdance', 'popeurodance'],\n",
    "                 'electropop' : ['popelectronic'],\n",
    "                 'postrock' : ['post'],\n",
    "                 'alternative' : ['rockalternative'],\n",
    "                 'ruspop' : ['poprussian'],\n",
    "                 'rockindie' : ['shoegazing'],\n",
    "                 'soul' : ['soulful'],\n",
    "                 'soundtrack' : ['sound'],\n",
    "                 'self' : ['sängerportrait'],\n",
    "                 'turkishrock' : ['taraftar'],\n",
    "                 'techno' : ['tech'],\n",
    "                 'triphop' : [ 'trip'],\n",
    "                 'turkish' : ['türk', 'türkçe'],\n",
    "                 'pop' : ['ïîï'],\n",
    "                 'electronic' : ['электроника', 'electronics']}\n",
    "for correct_genre, wrong_genres in change_genres.items():\n",
    "    replace_wrong_genres(df, wrong_genres, correct_genre)\n",
    "# Устранение неявных дубликатов"
   ]
  },
  {
   "cell_type": "markdown",
   "metadata": {
    "id": "zQKF16_RG15m"
   },
   "source": [
    "Проверим, взглянув на отсортированный список уникальных значений столбца `genre`:"
   ]
  },
  {
   "cell_type": "code",
   "execution_count": 261,
   "metadata": {
    "id": "wvixALnFG15m",
    "scrolled": false
   },
   "outputs": [
    {
     "data": {
      "text/plain": [
       "array(['acid', 'acoustic', 'action', 'adult', 'african', 'alternative',\n",
       "       'alternativepunk', 'ambient', 'amerfolk', 'american', 'animated',\n",
       "       'anime', 'arabesk', 'arena', 'argentinetango', 'armenian', 'art',\n",
       "       'audiobook', 'author', 'avantgarde', 'axé', 'baile', 'balkan',\n",
       "       'bigroom', 'black', 'bluegrass', 'blues', 'bollywood', 'bossa',\n",
       "       'brazilian', 'breakbeat', 'breakbeatgenre', 'broadway',\n",
       "       'cantautori', 'cantopop', 'canzone', 'caribbean', 'caucasian',\n",
       "       'celtic', 'chamber', 'chanson', 'children', 'chill', 'chinese',\n",
       "       'choral', 'christian', 'christmas', 'classical',\n",
       "       'classicalmasterpieces', 'classicmetal', 'club', 'colombian',\n",
       "       'comedy', 'conjazz', 'country', 'cuban', 'dance', 'dancehall',\n",
       "       'dancepop', 'dark', 'death', 'deep', 'deutschrock', 'dirty',\n",
       "       'disco', 'dnb', 'documentary', 'downbeat', 'dubstep', 'eastern',\n",
       "       'easy', 'electronic', 'electropop', 'emo', 'entehno', 'epicmetal',\n",
       "       'estrada', 'ethnic', 'eurofolk', 'european', 'experimental',\n",
       "       'extrememetal', 'fado', 'film', 'films', 'fitness', 'flamenco',\n",
       "       'folk', 'folklore', 'folkmetal', 'folkrock', 'folktronica',\n",
       "       'forchildren', 'foreignbard', 'foreignrap', 'forró', 'french',\n",
       "       'funk', 'future', 'gangsta', 'garage', 'german', 'ghazal',\n",
       "       'gitarre', 'glitch', 'gothic', 'gothicmetal', 'grime', 'grunge',\n",
       "       'gypsy', 'handsup', \"hard'n'heavy\", 'hardcore', 'hardstyle',\n",
       "       'hardtechno', 'hiphop', 'historisch', 'holiday', 'horror', 'house',\n",
       "       'hymn', 'idm', 'indian', 'indie', 'indipop', 'industrial',\n",
       "       'inspirational', 'instrumental', 'international', 'irish', 'jam',\n",
       "       'japanese', 'jazz', 'jewish', 'jpop', 'jungle', 'karadeniz',\n",
       "       'karaoke', 'korean', 'kpop', 'laiko', 'latin', 'latinfolk',\n",
       "       'leftfield', 'local', 'local-indie', 'lounge', 'loungeelectronic',\n",
       "       'lovers', 'malaysian', 'mandopop', 'marschmusik', 'meditative',\n",
       "       'mediterranean', 'melodic', 'metal', 'metalcore', 'metalcoregenre',\n",
       "       'mexican', 'middle', 'minimal', 'miscellaneous', 'modern', 'mood',\n",
       "       'muslim', 'native', 'neoclassical', 'new', 'newage', 'newwave',\n",
       "       'nu', 'nujazz', 'numetal', 'oceania', 'old', 'opera', 'orchestral',\n",
       "       'other', 'piano', 'podcasts', 'pop', 'posthardcore', 'postrock',\n",
       "       'power', 'progmetal', 'progressive', 'psychedelic', 'punjabi',\n",
       "       'punk', 'quebecois', 'ragga', 'ram', 'rancheras', 'rap', 'rave',\n",
       "       'reggae', 'reggaeton', 'regional', 'relax', 'religious', 'retro',\n",
       "       'rhythm', 'rnb', 'rnr', 'rock', 'rockabilly', 'rockindie',\n",
       "       'rockother', 'romance', 'roots', 'rusbards', 'rusestrada',\n",
       "       'rusfolk', 'ruspop', 'rusrap', 'rusrock', 'russian', 'salsa',\n",
       "       'samba', 'scenic', 'schlager', 'self', 'sertanejo', 'shanson',\n",
       "       'showtunes', 'singer', 'ska', 'skarock', 'smooth', 'soft', 'soul',\n",
       "       'soundtrack', 'southern', 'specialty', 'speech', 'spiritual',\n",
       "       'sport', 'stonerrock', 'surf', 'swing', 'synthpop', 'synthrock',\n",
       "       'tango', 'tatar', 'techno', 'teen', 'thrash', 'top', 'traditional',\n",
       "       'tradjazz', 'trance', 'tribal', 'triphop', 'tropical', 'turkish',\n",
       "       'turkishrock', 'ukrrock', 'unknown', 'urban', 'uzbek', 'uzbekpop',\n",
       "       'variété', 'vi', 'videogame', 'vocal', 'western', 'world',\n",
       "       'worldbeat'], dtype=object)"
      ]
     },
     "execution_count": 261,
     "metadata": {},
     "output_type": "execute_result"
    }
   ],
   "source": [
    "df.genre.sort_values().unique() # Проверка на неявные дубликаты"
   ]
  },
  {
   "cell_type": "markdown",
   "metadata": {},
   "source": [
    "В `genre` имеется много разновидностей музыкальных жанров относящихся к одному и тому же направлению, но представленные разными названиями ответвлений. Это размывает истинную картину и не позволяет оценить реальную популярность жанра. Поэтому создадим классификатор поджанров по направлениям."
   ]
  },
  {
   "cell_type": "code",
   "execution_count": 262,
   "metadata": {},
   "outputs": [],
   "source": [
    "genre_class = {'pop' : [\"disco\",\"kpop\", \"dancepop\", \"handsup\",\n",
    "                        \"ruspop\", \"teen\", \"traditional\"], \n",
    "              'allrock' : [\"rusrock\", \"rnr\", \"progrock\", \"postrock\",\n",
    "                           \"newwave\", \"folkrock\", \"stonerrock\",\n",
    "                           \"hardrock\", \"rock\",\"adult\", \"arena\", \"art\",\"chamber\",\n",
    "                           \"hard'n'heavy\", \"indipop\", \"ram\", \"rockabilly\",\n",
    "                           \"rockother\", \"soft\", \"southern\"], \n",
    "              'indie' : [\"local-indie\"],\n",
    "              'metal' : [\"progmetal\", \"epicmetal\", \"folkmetal\", \"gothic\",\n",
    "                         \"industrial\", \"sludgemetal\",\"postmetal\", \"extrememetal\",\n",
    "                         \"numetal\", \"metalcore\", \"classicmetal\",\n",
    "                         \"thrash\", \"death\", \"black\", \"doommetal\", 'emo', \"power\"],\n",
    "              'alternative' : [\"posthardcore\", \"hardcore\",\n",
    "                               \"alternativepunk\", \"grunge\", \"rockindie\"], \n",
    "              'electronic' : [\"techno\", \"house\", \"trance\", \"breakbeatgenre\", \n",
    "                            \"dnb\", \"dubstep\", \"ambient\", \"experimental\",\n",
    "                             \"dance\", \"acid\", \"bigroom\", \"club\", \"dark\",\n",
    "                              \"deep\", \"downbeat\", \"electropop\", \"folktronica\",\n",
    "                              \"future\", \"garage\", \"glitch\", \"grime\", \"hardstyle\",\n",
    "                              \"hardtechno\", \"idm\", \"jungle\", \"leftfield\",\n",
    "                              \"minimal\", \"nu\", \"progressive\", \"rave\", \"synthpop\",\n",
    "                              \"synthrock\", \"tribal\", \"tropical\"], \n",
    "               'hiphop' : [\"rusrap\",\"breakbeat\", \"dirty\", \"gangsta\",\n",
    "                           \"rap\", \"triphop\", \"urban\", \"foreignrap\"],\n",
    "               'rnb' : [\"soul\",\"funk\", 'baile', \"rhythm\"], \n",
    "               'jazz' : [\"trad-jass\",\"modern-jazz\", \"conjazz\", \"nujazz\",\n",
    "                         \"smooth\", \"swing\", \"tradjazz\"], \n",
    "               'blues' : [],\n",
    "               'reggae' : [\"reggaeton\",\"dub\", \"dancehall\", \"ragga\", \"vi\"],\n",
    "               'ska' : [\"skarock\"], #\n",
    "               'punk' : [\"gypsy\"],\n",
    "               'world' : [\"russian\", \"tatar\", \"celtic\", \"balkan\",\n",
    "                          \"european\", \"jewish\", \"eastern\", \"african\",\n",
    "                          \"latin-american\", \"american\", \"romances\",\n",
    "                          \"argentinetango\", \"armenian\", \"georgian\",\n",
    "                          \"azerbaijani\", \"caucasian\", \"turkishclassical\",\n",
    "                          \"arabesk\", \"turkishfolk\", \"axé\", \"bossa\", \"brazilian\",\n",
    "                          \"cantautori\", 'cantopop', \"canzone\", \"caribbean\",\n",
    "                          \"chinese\", 'colombian', 'cuban', \"deutschrock\",\n",
    "                          \"german\", \"entehno\", 'ethnic', 'eurofolk',\n",
    "                          'european', \"fado\", \"flamenco\", \"folk\", \"forró\",\n",
    "                          \"french\", \"ghazal\", \"indian\",\"international\",\n",
    "                          \"irish\", \"japanese\", \"jewish\", \"jpop\", \"karadeniz\",\n",
    "                          \"korean\", \"laiko\", \"malaysian\", \"mandopop\",\n",
    "                          \"mediterranean\", \"mexican\", \"mpb\",\n",
    "                          \"muslim\", \"oceania\", \"punjabi\", \"quebecois\",\n",
    "                          \"rancheras\", \"regional\", \"speech\",\n",
    "                          \"turkish\", \"uzbek\", \"western\",\"turkishpop\",\n",
    "                          \"uzbekpop\",\"japanesepop\",\"israelipop\",\"azerbaijanpop\",\n",
    "                          \"ukrrock\", \"turkishrock\", \"israelirock\",\n",
    "                          \"turkishalternative\",\"turkishrap\", \"israelirap\",\n",
    "                          \"amerfolk\", \"latinfolk\"], \n",
    "               'estrada' : [\"rusestrada\", \"schlager\", \"variété\"],\n",
    "               'shanson' : [],\n",
    "               'country' : ['bluegrass'],\n",
    "               'soundtrack' : [\"film\", \"tv-series\", \"animated\",\n",
    "                               \"videogame\", \"musical\",\n",
    "                               \"bollywood\", \"anime\",  \"action\", \"broadway\",\n",
    "                               \"documentary\", \"horror\",\n",
    "                               \"miscellaneous\", \"scenic\"], \n",
    "               'easy' : [\"lounge\", \"meditative\", \"acoustic\", 'chill',\n",
    "                         \"gitarre\", \"instrumental\", \"lounge\",\n",
    "                         \"loungeelectronic\", \"melodic\", \"newage\", \"relax\"], \n",
    "               'singersongwriter' : [\"rusbards\", \"foreignbard\", 'author',\n",
    "                                     \"self\", \"singer\", \"sängerportrait\"], \n",
    "               'podcast' : [\"arts\", \"business\", \"comedy\", \"education\",\n",
    "                            \"health\", \"music\", \"hobbies\", \"technology\",\n",
    "                            \"government\", \"history\", \"familypodcasts\",\n",
    "                            \"news\", \"religion\", \"science\", \"society\",\n",
    "                            \"recreation\", \"filmpodcasts\",\n",
    "                            \"narrative\", \"artwork\"],\n",
    "               \n",
    "               'classicalmusic' : [\"opera\", \"modern-classical\", \"orchestral\"\n",
    "                                   \"classical\", \"classicalmasterpieces\",\n",
    "                                   'avantgarde', \"choral\", \"neoclassical\",\n",
    "                                   \"piano\", \"romance\", \"vocal\"], \n",
    "               'fiction' : [\"romancenovel\", \"historicalfiction\",\n",
    "                            \"sciencefiction\", \"fantasyliterature\",\n",
    "                            \"actionandadventure\", \"crimeandmystery\",\n",
    "                            \"dramaliterature\", \"sertanejo\"],\n",
    "               'audiobook' : [], #\n",
    "               'other' : [\"sport\", \"holiday\", 'christian', 'christmas',\n",
    "                          \"fitness\", \"folklore\", \"historisch\", \"hymn\",\n",
    "                          \"inspirational\", \"jam\", \"karaoke\",\n",
    "                          \"local\", \"lovers\", \"marschmusik\", \"middle\", \"modern\",\n",
    "                          \"mood\", \"native\", \"new\", \"old\", \"psychedelic\",\n",
    "                          \"religious\", \"retro\", \"roots\", \"salsa\", \"samba\",\n",
    "                          \"showtunes\", \"specialty\", \"spiritual\", \"surf\",\n",
    "                           \"tango\", \"top\", \"unknown\", \"worldbeat\", \"forchildren\",\"rusfolk\"]} \n",
    "\n",
    "def replaiser(sub, genre_class): #функция для определения жанра по поджанру\n",
    "    for genre, subgenre in genre_class.items():\n",
    "      if sub in subgenre:\n",
    "        return genre\n",
    "    return sub"
   ]
  },
  {
   "cell_type": "markdown",
   "metadata": {},
   "source": [
    "А имеющиеся данные о `genre` переименуем в `subgenre`"
   ]
  },
  {
   "cell_type": "code",
   "execution_count": 263,
   "metadata": {},
   "outputs": [],
   "source": [
    "df = df.rename(columns={'genre' : 'subgenre'})"
   ]
  },
  {
   "cell_type": "markdown",
   "metadata": {},
   "source": [
    "Заполняем новой информацией о жанре используя созданный классификатор "
   ]
  },
  {
   "cell_type": "code",
   "execution_count": 264,
   "metadata": {
    "scrolled": true
   },
   "outputs": [],
   "source": [
    "df.insert(3, 'genre', df.apply(lambda x: replaiser(x.subgenre, genre_class), axis=1)) #добавление столбца с актуальным жанром\n",
    "# Есть вариант лучше/лаконичнее?"
   ]
  },
  {
   "cell_type": "markdown",
   "metadata": {},
   "source": [
    "Посмотрим на данные после предобработки."
   ]
  },
  {
   "cell_type": "code",
   "execution_count": 265,
   "metadata": {},
   "outputs": [
    {
     "data": {
      "text/html": [
       "<div>\n",
       "<style scoped>\n",
       "    .dataframe tbody tr th:only-of-type {\n",
       "        vertical-align: middle;\n",
       "    }\n",
       "\n",
       "    .dataframe tbody tr th {\n",
       "        vertical-align: top;\n",
       "    }\n",
       "\n",
       "    .dataframe thead th {\n",
       "        text-align: right;\n",
       "    }\n",
       "</style>\n",
       "<table border=\"1\" class=\"dataframe\">\n",
       "  <thead>\n",
       "    <tr style=\"text-align: right;\">\n",
       "      <th></th>\n",
       "      <th>user_id</th>\n",
       "      <th>track</th>\n",
       "      <th>artist</th>\n",
       "      <th>genre</th>\n",
       "      <th>subgenre</th>\n",
       "      <th>city</th>\n",
       "      <th>time</th>\n",
       "      <th>day</th>\n",
       "    </tr>\n",
       "  </thead>\n",
       "  <tbody>\n",
       "    <tr>\n",
       "      <td>0</td>\n",
       "      <td>FFB692EC</td>\n",
       "      <td>Kamigata To Boots</td>\n",
       "      <td>The Mass Missile</td>\n",
       "      <td>allrock</td>\n",
       "      <td>rock</td>\n",
       "      <td>Saint-Petersburg</td>\n",
       "      <td>20:28:33</td>\n",
       "      <td>Wednesday</td>\n",
       "    </tr>\n",
       "    <tr>\n",
       "      <td>1</td>\n",
       "      <td>55204538</td>\n",
       "      <td>Delayed Because of Accident</td>\n",
       "      <td>Andreas Rönnberg</td>\n",
       "      <td>allrock</td>\n",
       "      <td>rock</td>\n",
       "      <td>Moscow</td>\n",
       "      <td>14:07:09</td>\n",
       "      <td>Friday</td>\n",
       "    </tr>\n",
       "    <tr>\n",
       "      <td>2</td>\n",
       "      <td>20EC38</td>\n",
       "      <td>Funiculì funiculà</td>\n",
       "      <td>Mario Lanza</td>\n",
       "      <td>pop</td>\n",
       "      <td>pop</td>\n",
       "      <td>Saint-Petersburg</td>\n",
       "      <td>20:58:07</td>\n",
       "      <td>Wednesday</td>\n",
       "    </tr>\n",
       "    <tr>\n",
       "      <td>3</td>\n",
       "      <td>A3DD03C9</td>\n",
       "      <td>Dragons in the Sunset</td>\n",
       "      <td>Fire + Ice</td>\n",
       "      <td>world</td>\n",
       "      <td>folk</td>\n",
       "      <td>Saint-Petersburg</td>\n",
       "      <td>08:37:09</td>\n",
       "      <td>Monday</td>\n",
       "    </tr>\n",
       "    <tr>\n",
       "      <td>4</td>\n",
       "      <td>E2DC1FAE</td>\n",
       "      <td>Soul People</td>\n",
       "      <td>Space Echo</td>\n",
       "      <td>electronic</td>\n",
       "      <td>dance</td>\n",
       "      <td>Moscow</td>\n",
       "      <td>08:34:34</td>\n",
       "      <td>Monday</td>\n",
       "    </tr>\n",
       "    <tr>\n",
       "      <td>...</td>\n",
       "      <td>...</td>\n",
       "      <td>...</td>\n",
       "      <td>...</td>\n",
       "      <td>...</td>\n",
       "      <td>...</td>\n",
       "      <td>...</td>\n",
       "      <td>...</td>\n",
       "      <td>...</td>\n",
       "    </tr>\n",
       "    <tr>\n",
       "      <td>61248</td>\n",
       "      <td>729CBB09</td>\n",
       "      <td>My Name</td>\n",
       "      <td>McLean</td>\n",
       "      <td>rnb</td>\n",
       "      <td>rnb</td>\n",
       "      <td>Moscow</td>\n",
       "      <td>13:32:28</td>\n",
       "      <td>Wednesday</td>\n",
       "    </tr>\n",
       "    <tr>\n",
       "      <td>61249</td>\n",
       "      <td>D08D4A55</td>\n",
       "      <td>Maybe One Day (feat. Black Spade)</td>\n",
       "      <td>Blu &amp; Exile</td>\n",
       "      <td>hiphop</td>\n",
       "      <td>hiphop</td>\n",
       "      <td>Saint-Petersburg</td>\n",
       "      <td>10:00:00</td>\n",
       "      <td>Monday</td>\n",
       "    </tr>\n",
       "    <tr>\n",
       "      <td>61250</td>\n",
       "      <td>C5E3A0D5</td>\n",
       "      <td>Jalopiina</td>\n",
       "      <td>unknown</td>\n",
       "      <td>metal</td>\n",
       "      <td>industrial</td>\n",
       "      <td>Moscow</td>\n",
       "      <td>20:09:26</td>\n",
       "      <td>Friday</td>\n",
       "    </tr>\n",
       "    <tr>\n",
       "      <td>61251</td>\n",
       "      <td>321D0506</td>\n",
       "      <td>Freight Train</td>\n",
       "      <td>Chas McDevitt</td>\n",
       "      <td>allrock</td>\n",
       "      <td>rock</td>\n",
       "      <td>Moscow</td>\n",
       "      <td>21:43:59</td>\n",
       "      <td>Friday</td>\n",
       "    </tr>\n",
       "    <tr>\n",
       "      <td>61252</td>\n",
       "      <td>3A64EF84</td>\n",
       "      <td>Tell Me Sweet Little Lies</td>\n",
       "      <td>Monica Lopez</td>\n",
       "      <td>country</td>\n",
       "      <td>country</td>\n",
       "      <td>Moscow</td>\n",
       "      <td>21:59:46</td>\n",
       "      <td>Friday</td>\n",
       "    </tr>\n",
       "  </tbody>\n",
       "</table>\n",
       "<p>61253 rows × 8 columns</p>\n",
       "</div>"
      ],
      "text/plain": [
       "        user_id                              track            artist  \\\n",
       "0      FFB692EC                  Kamigata To Boots  The Mass Missile   \n",
       "1      55204538        Delayed Because of Accident  Andreas Rönnberg   \n",
       "2        20EC38                  Funiculì funiculà       Mario Lanza   \n",
       "3      A3DD03C9              Dragons in the Sunset        Fire + Ice   \n",
       "4      E2DC1FAE                        Soul People        Space Echo   \n",
       "...         ...                                ...               ...   \n",
       "61248  729CBB09                            My Name            McLean   \n",
       "61249  D08D4A55  Maybe One Day (feat. Black Spade)       Blu & Exile   \n",
       "61250  C5E3A0D5                          Jalopiina           unknown   \n",
       "61251  321D0506                      Freight Train     Chas McDevitt   \n",
       "61252  3A64EF84          Tell Me Sweet Little Lies      Monica Lopez   \n",
       "\n",
       "            genre    subgenre              city      time        day  \n",
       "0         allrock        rock  Saint-Petersburg  20:28:33  Wednesday  \n",
       "1         allrock        rock            Moscow  14:07:09     Friday  \n",
       "2             pop         pop  Saint-Petersburg  20:58:07  Wednesday  \n",
       "3           world        folk  Saint-Petersburg  08:37:09     Monday  \n",
       "4      electronic       dance            Moscow  08:34:34     Monday  \n",
       "...           ...         ...               ...       ...        ...  \n",
       "61248         rnb         rnb            Moscow  13:32:28  Wednesday  \n",
       "61249      hiphop      hiphop  Saint-Petersburg  10:00:00     Monday  \n",
       "61250       metal  industrial            Moscow  20:09:26     Friday  \n",
       "61251     allrock        rock            Moscow  21:43:59     Friday  \n",
       "61252     country     country            Moscow  21:59:46     Friday  \n",
       "\n",
       "[61253 rows x 8 columns]"
      ]
     },
     "metadata": {},
     "output_type": "display_data"
    }
   ],
   "source": [
    "display(df)"
   ]
  },
  {
   "cell_type": "markdown",
   "metadata": {
    "id": "jz6a9-7HQUDd"
   },
   "source": [
    "**Выводы**\n",
    "\n",
    "Предобработка обнаружила 4 проблемы в данных:\n",
    "\n",
    "- нарушения в стиле заголовков,\n",
    "- пропущенные значения,\n",
    "- дубликаты — явные и неявные.\n",
    "- неявственная информация о жанре\n",
    "\n",
    "По мере возможности проблемы исправлены что позволит получить более точные результаты исследования. \n",
    "\n",
    "Теперь можно перейти к проверке гипотез. "
   ]
  },
  {
   "cell_type": "markdown",
   "metadata": {
    "id": "WttZHXH0SqKk"
   },
   "source": [
    "## Проверка гипотез"
   ]
  },
  {
   "cell_type": "markdown",
   "metadata": {
    "id": "Im936VVi_Zcu"
   },
   "source": [
    "### Сравнение поведения пользователей двух столиц"
   ]
  },
  {
   "cell_type": "markdown",
   "metadata": {
    "id": "nwt_MuaL_Zcu"
   },
   "source": [
    "Первая гипотеза утверждает, что пользователи по-разному слушают музыку в Москве и Санкт-Петербурге. Проверим это предположение."
   ]
  },
  {
   "cell_type": "code",
   "execution_count": 266,
   "metadata": {
    "id": "0_Qs96oh_Zcu"
   },
   "outputs": [
    {
     "data": {
      "text/html": [
       "<div>\n",
       "<style scoped>\n",
       "    .dataframe tbody tr th:only-of-type {\n",
       "        vertical-align: middle;\n",
       "    }\n",
       "\n",
       "    .dataframe tbody tr th {\n",
       "        vertical-align: top;\n",
       "    }\n",
       "\n",
       "    .dataframe thead th {\n",
       "        text-align: right;\n",
       "    }\n",
       "</style>\n",
       "<table border=\"1\" class=\"dataframe\">\n",
       "  <thead>\n",
       "    <tr style=\"text-align: right;\">\n",
       "      <th>day</th>\n",
       "      <th>Monday</th>\n",
       "      <th>Wednesday</th>\n",
       "      <th>Friday</th>\n",
       "    </tr>\n",
       "    <tr>\n",
       "      <th>city</th>\n",
       "      <th></th>\n",
       "      <th></th>\n",
       "      <th></th>\n",
       "    </tr>\n",
       "  </thead>\n",
       "  <tbody>\n",
       "    <tr>\n",
       "      <td>Moscow</td>\n",
       "      <td>15740</td>\n",
       "      <td>11056</td>\n",
       "      <td>15945</td>\n",
       "    </tr>\n",
       "    <tr>\n",
       "      <td>Saint-Petersburg</td>\n",
       "      <td>5614</td>\n",
       "      <td>7003</td>\n",
       "      <td>5895</td>\n",
       "    </tr>\n",
       "  </tbody>\n",
       "</table>\n",
       "</div>"
      ],
      "text/plain": [
       "day               Monday  Wednesday  Friday\n",
       "city                                       \n",
       "Moscow             15740      11056   15945\n",
       "Saint-Petersburg    5614       7003    5895"
      ]
     },
     "metadata": {},
     "output_type": "display_data"
    },
    {
     "data": {
      "text/plain": [
       "<matplotlib.axes._subplots.AxesSubplot at 0x7f1701ffa090>"
      ]
     },
     "execution_count": 266,
     "metadata": {},
     "output_type": "execute_result"
    },
    {
     "data": {
      "image/png": "[encoded data removed]",
      "text/plain": [
       "<Figure size 576x576 with 1 Axes>"
      ]
     },
     "metadata": {},
     "output_type": "display_data"
    }
   ],
   "source": [
    "city_track_count = df.pivot_table(values='user_id', columns='day', index='city', aggfunc='count')\\\n",
    "                     .reindex(columns=['Monday','Wednesday','Friday']) # Подсчёт прослушиваний в каждом городе по дням недели\n",
    "display(city_track_count)\n",
    "plt.figure(figsize=(8, 8))\n",
    "sns.countplot(data=df, x='day', hue='city', order=['Monday','Wednesday','Friday']) "
   ]
  },
  {
   "cell_type": "markdown",
   "metadata": {
    "id": "dzli3w8o_Zcu"
   },
   "source": [
    "В Москве прослушиваний больше, чем в Петербурге. Из этого не следует, что московские пользователи чаще слушают музыку. Просто самих пользователей в Москве больше."
   ]
  },
  {
   "cell_type": "code",
   "execution_count": 267,
   "metadata": {
    "id": "uZMKjiJz_Zcu"
   },
   "outputs": [
    {
     "data": {
      "text/plain": [
       "<matplotlib.axes._subplots.AxesSubplot at 0x7f1705a1a4d0>"
      ]
     },
     "execution_count": 267,
     "metadata": {},
     "output_type": "execute_result"
    },
    {
     "data": {
      "image/png": "[encoded data removed]",
      "text/plain": [
       "<Figure size 432x288 with 1 Axes>"
      ]
     },
     "metadata": {},
     "output_type": "display_data"
    }
   ],
   "source": [
    "norm_city_count = city_track_count.T / city_track_count.T.max().T # оцениваем относительную активность\n",
    "plt.ylim(0, 1.4)\n",
    "sns.lineplot(data=norm_city_count, sort=False, markers=True)"
   ]
  },
  {
   "cell_type": "markdown",
   "metadata": {
    "id": "-EgPIHYu_Zcu"
   },
   "source": [
    "**Выводы**\n",
    "\n",
    "Данные показывают разницу поведения пользователей:\n",
    "\n",
    "- В Москве пик прослушиваний приходится на понедельник и пятницу, а в среду заметен спад.\n",
    "- В Петербурге, наоборот, больше слушают музыку по средам. Активность в понедельник и пятницу здесь почти в равной мере уступает среде.\n",
    "\n",
    "Значит, данные говорят в пользу первой гипотезы."
   ]
  },
  {
   "cell_type": "markdown",
   "metadata": {
    "id": "atZAxtq4_Zcu"
   },
   "source": [
    "### Музыка в начале и в конце недели"
   ]
  },
  {
   "cell_type": "markdown",
   "metadata": {
    "id": "eXrQqXFH_Zcu"
   },
   "source": [
    "Согласно второй гипотезе, утром в понедельник в Москве преобладают одни жанры, а в Петербурге — другие. Так же и вечером пятницы преобладают разные жанры — в зависимости от города."
   ]
  },
  {
   "cell_type": "markdown",
   "metadata": {
    "id": "S8UcW6Hw_Zcu"
   },
   "source": [
    "Для оценки почасовой активности слушателей, добавим дополнительный столбец `h_time` показывающий в какой час был прослушан рассматриваемый трек."
   ]
  },
  {
   "cell_type": "code",
   "execution_count": 268,
   "metadata": {
    "id": "qeaFfM_P_Zcu"
   },
   "outputs": [],
   "source": [
    "df.insert(7, 'h_time', df.time.astype(str).str[:2].astype(int)+1) # добавление столбца с часом прослушивания"
   ]
  },
  {
   "cell_type": "markdown",
   "metadata": {
    "id": "ORaVRKto_Zcu"
   },
   "source": [
    "Оценим активность пользователей на основе часа прослушивания"
   ]
  },
  {
   "cell_type": "code",
   "execution_count": 269,
   "metadata": {
    "id": "laJT9BYl_Zcu"
   },
   "outputs": [
    {
     "data": {
      "text/plain": [
       "<matplotlib.axes._subplots.AxesSubplot at 0x7f1702bf6dd0>"
      ]
     },
     "execution_count": 269,
     "metadata": {},
     "output_type": "execute_result"
    },
    {
     "data": {
      "image/png": "[encoded data removed]",
      "text/plain": [
       "<Figure size 1080x576 with 1 Axes>"
      ]
     },
     "metadata": {},
     "output_type": "display_data"
    }
   ],
   "source": [
    "plt.figure(figsize=(15, 8))\n",
    "sns.countplot(data=df, x='h_time', hue='city')"
   ]
  },
  {
   "cell_type": "markdown",
   "metadata": {
    "id": "la2s2_PF_Zcu"
   },
   "source": [
    "Оказывается в данных также практически отсутвствует информация о прослушанных треках в периоды:\n",
    "* c 10 до 11\n",
    "* с 15 до 16\n",
    "* с 22 до 23\n",
    "\n",
    "Удалим эти сведения полность, чтобы они не искажали дальнейшие расчеты.\n",
    "И взглянем как меняется популярность 10 самых прослушиваемых жанров каждого из городов в зависимости от времени прослушивания и дня недели.\n",
    "\n",
    "Найдем 10 самых прослушиваемых жанров каждого из городов."
   ]
  },
  {
   "cell_type": "code",
   "execution_count": 270,
   "metadata": {
    "id": "yz7itPUQ_Zcu"
   },
   "outputs": [
    {
     "data": {
      "text/plain": [
       "True"
      ]
     },
     "metadata": {},
     "output_type": "display_data"
    },
    {
     "data": {
      "text/plain": [
       "['electronic',\n",
       " 'pop',\n",
       " 'allrock',\n",
       " 'hiphop',\n",
       " 'world',\n",
       " 'other',\n",
       " 'classical',\n",
       " 'alternative',\n",
       " 'soundtrack',\n",
       " 'metal']"
      ]
     },
     "metadata": {},
     "output_type": "display_data"
    }
   ],
   "source": [
    "top10_genres_m = list(df.query(\"city == 'Moscow'\").genre.value_counts().head(10).index) # топ 10 жанров Москвы\n",
    "top10_genres_sp = list(df.query(\"city == 'Saint-Petersburg'\").genre.value_counts().head(10).index) # топ 10 жанров Питера\n",
    "display(set(top10_genres_m) == set(top10_genres_sp)) # у обоих городов топ 10 совпали\n",
    "top10_genres = top10_genres_m \n",
    "display(top10_genres)"
   ]
  },
  {
   "cell_type": "code",
   "execution_count": 271,
   "metadata": {
    "id": "kwUcHPdy_Zcu",
    "scrolled": false
   },
   "outputs": [
    {
     "data": {
      "image/png": "[encoded data removed]",
      "text/plain": [
       "<Figure size 1152x432 with 3 Axes>"
      ]
     },
     "metadata": {},
     "output_type": "display_data"
    },
    {
     "data": {
      "image/png": "[encoded data removed]",
      "text/plain": [
       "<Figure size 1152x432 with 3 Axes>"
      ]
     },
     "metadata": {},
     "output_type": "display_data"
    }
   ],
   "source": [
    "for city in ['Moscow', 'Saint-Petersburg']: # изобразим на графиках доли топ 10 жанров в прослушаных за каждый час треках\n",
    "    \n",
    "    plt.figure(figsize=(16, 6))        \n",
    "    plt.suptitle(city, fontsize = 20)\n",
    "    plt.subplots_adjust(wspace=0.01)\n",
    "    \n",
    "    for day, place, legend_v in zip(['Monday','Wednesday','Friday'],[1,3,2], [False,False,'full']):\n",
    "        \n",
    "        t10 = df.query((\"city == @city & genre in @top10_genres & day == @day\"))\n",
    "        t10 = t10.pivot_table(values='user_id', columns='genre', index='h_time', aggfunc='count')\\\n",
    "                    .reindex(columns=top10_genres)\n",
    "        t10 = t10.query('electronic > electronic.mean()/10')\n",
    "        norm_t10 = t10.T/t10.T.sum()\n",
    "        plt.subplot(1,3,place)\n",
    "        sns.lineplot(data=norm_t10.T , dashes=False, sort=False, legend=legend_v).set_title(day)\n",
    "        if place == 2:\n",
    "            plt.yticks([])\n",
    "            plt.legend(loc='center', ncol = 10)"
   ]
  },
  {
   "cell_type": "markdown",
   "metadata": {},
   "source": [
    "Действительно доля жанра в прослушанных за час треках колеблется, но в довольно узких пределах\n",
    "\n",
    "Посмотрим насколько различна популярность 10 самых востребованных жанров в Москве и Санкт-Петербурге в зависимости от дня недели или времени суток."
   ]
  },
  {
   "cell_type": "code",
   "execution_count": 272,
   "metadata": {
    "id": "EzXVRE1o_Zcu"
   },
   "outputs": [
    {
     "data": {
      "image/png": "[encoded data removed]",
      "text/plain": [
       "<Figure size 576x576 with 1 Axes>"
      ]
     },
     "metadata": {},
     "output_type": "display_data"
    },
    {
     "data": {
      "image/png": "[encoded data removed]",
      "text/plain": [
       "<Figure size 576x576 with 1 Axes>"
      ]
     },
     "metadata": {},
     "output_type": "display_data"
    },
    {
     "data": {
      "image/png": "[encoded data removed]",
      "text/plain": [
       "<Figure size 576x576 with 1 Axes>"
      ]
     },
     "metadata": {},
     "output_type": "display_data"
    }
   ],
   "source": [
    "for day,place in zip(['Monday','Wednesday','Friday'],[1,2,3]):\n",
    "    t10_genre_mos = df.query((\"city == 'Moscow' & genre in @top10_genres & day == @day\"))\n",
    "    t10_genre_sp = df.query((\"city == 'Saint-Petersburg' & genre in @top10_genres & day == @day\"))\n",
    "    t10m = t10_genre_mos.pivot_table(values='user_id', columns='genre', index='h_time', aggfunc='count')\\\n",
    "                    .reindex(columns=top10_genres).fillna(0)\n",
    "    t10sp = t10_genre_sp.pivot_table(values='user_id', columns='genre', index='h_time', aggfunc='count')\\\n",
    "                    .reindex(columns=top10_genres).fillna(0)\n",
    "    \n",
    "    t10m = t10m.query('electronic > electronic.mean()/10')\n",
    "    t10sp = t10sp.query('electronic > electronic.mean()/10')\n",
    "\n",
    "    norm_t10_mos = t10m.T/t10m.T.sum()\n",
    "    norm_t10_sp = t10sp.T/t10sp.T.sum()\n",
    "\n",
    "\n",
    "    plt.figure(figsize=(8, 8))\n",
    "    sns.lineplot(data=norm_t10_mos.T*100-norm_t10_sp.T*100 , dashes=False, sort=False).set_title(day)\n",
    "    plt.legend(ncol = 3)\n",
    "    plt.figtext(0.44, 0.92, \"Moscow\",  fontsize = 20)\n",
    "    plt.figtext(0.38, 0.03, \"Saint-Petersburg\",  fontsize = 20)\n",
    "    plt.ylabel(\"difference, %\")\n",
    "    plt.xlabel(\"time of day\")"
   ]
  },
  {
   "cell_type": "markdown",
   "metadata": {
    "id": "JZaEKu5v_Zcu"
   },
   "source": [
    "**Выводы**\n",
    "\n",
    "1. В Москве и Петербурге идентичны топ-10 жанров.\n",
    "\n",
    "2. Доля этих жанров в прослушиваемой музыке может колебаться от дня ко дню и в зависимости от времени суток, но не значительно. \n",
    "\n",
    "2. В Москве и Петербурге успешность топ-10 жанров совпадает.\n",
    "\n",
    "\n",
    "Таким образом, вторая гипотеза подтвердилась лишь частично:\n",
    "* Пользователи слушают похожую музыку в начале недели и в конце.\n",
    "* Разница между Москвой и Петербургом не слишком выражена. \n"
   ]
  },
  {
   "cell_type": "code",
   "execution_count": null,
   "metadata": {},
   "outputs": [],
   "source": []
  },
  {
   "cell_type": "code",
   "execution_count": null,
   "metadata": {},
   "outputs": [],
   "source": []
  },
  {
   "cell_type": "code",
   "execution_count": 273,
   "metadata": {
    "scrolled": true
   },
   "outputs": [],
   "source": [
    "# df.insert(7, 'h_time', df.time.astype(str).str[:2].astype(int)+1) # не удалять\n",
    "# #day_activ = df.groupby(['h_time','genre','city'])"
   ]
  },
  {
   "cell_type": "code",
   "execution_count": 274,
   "metadata": {},
   "outputs": [],
   "source": [
    "# #df.h_time.value_counts().sort_index()\n",
    "# day_activ = df.groupby(['h_time','genre','city']).user_id.count()\n",
    "# day_activ"
   ]
  },
  {
   "cell_type": "code",
   "execution_count": 275,
   "metadata": {
    "scrolled": false
   },
   "outputs": [],
   "source": [
    "# plt.figure(figsize=(16, 8))\n",
    "# sns.countplot(data=df, x='h_time', hue='city')\n",
    "# #sns.countplot(data=day_activ, x='h_time', hue='city', stacked=True)\n",
    "# #day_activ"
   ]
  },
  {
   "cell_type": "code",
   "execution_count": 276,
   "metadata": {
    "scrolled": true
   },
   "outputs": [],
   "source": [
    "# top10_genres_m = list(df.query(\"city == 'Moscow'\").genre.value_counts().head(10).index)\n",
    "# top10_genres_sp = list(df.query(\"city == 'Saint-Petersburg'\").genre.value_counts().head(10).index)\n",
    "# display(set(top10_genres_m) == set(top10_genres_sp))\n",
    "# top10_genres = top10_genres_m\n",
    "# display(top10_genres)\n",
    "\n"
   ]
  },
  {
   "cell_type": "code",
   "execution_count": 277,
   "metadata": {
    "scrolled": false
   },
   "outputs": [],
   "source": [
    "# #def g_popularity (df, list_genres, days=['Monday','Wednesday','Friday'], cities=['Moscow', 'Saint-Petersburg']):\n",
    "# for city in ['Moscow', 'Saint-Petersburg']:\n",
    "    \n",
    "#     plt.figure(figsize=(16, 6))        \n",
    "#     plt.suptitle(city, fontsize = 20)\n",
    "#     plt.subplots_adjust(wspace=0.01)\n",
    "    \n",
    "#     for day, place, legend_v in zip(['Monday','Wednesday','Friday'],[1,3,2], [False,False,'full']):\n",
    "        \n",
    "#         t10 = df.query((\"city == @city & genre in @top10_genres & day == @day\"))\n",
    "#         t10 = t10.pivot_table(values='user_id', columns='genre', index='h_time', aggfunc='count')\\\n",
    "#                     .reindex(columns=top10_genres)\n",
    "#         t10 = t10.query('electronic > electronic.mean()/10')\n",
    "#         norm_t10 = t10.T/t10.T.sum()\n",
    "#         #plt.figure(figsize=(16, 6))        \n",
    "#         #plt.subplots_adjust(wspace=0.01)\n",
    "#         plt.subplot(1,3,place)\n",
    "#         sns.lineplot(data=norm_t10.T , dashes=False, sort=False, legend=legend_v).set_title(day)\n",
    "#         if place == 2:\n",
    "#             plt.yticks([])\n",
    "#             plt.legend(loc='center', ncol = 10)\n",
    "# #             plt.subplot(1,3,3)\n",
    "# #             sns.lineplot(data=norm_t10.T , dashes=False, sort=False, legend=False).set_title(day)\n",
    "# #             plt.subplot(1,3,2)\n",
    "# #             sns.lineplot(data=norm_t10.T , dashes=False, sort=False, legend=True).set_title(day)\n",
    "# #             plt.yticks([])\n",
    "# #             plt.legend(loc='center', ncol = 10)\n",
    "#             #return t10\n",
    "    \n",
    "# #g_popularity(df,top10_genres_m)    "
   ]
  },
  {
   "cell_type": "code",
   "execution_count": 278,
   "metadata": {},
   "outputs": [],
   "source": [
    "# for day,place in zip(['Monday','Wednesday','Friday'],[1,2,3]):\n",
    "#     t10_genre_mos = df.query((\"city == 'Moscow' & genre in @top10_genres & day == @day\"))\n",
    "#     t10_genre_sp = df.query((\"city == 'Saint-Petersburg' & genre in @top10_genres & day == @day\"))\n",
    "#     t10m = t10_genre_mos.pivot_table(values='user_id', columns='genre', index='h_time', aggfunc='count')\\\n",
    "#                     .reindex(columns=top10_genres).fillna(0)\n",
    "#     t10sp = t10_genre_sp.pivot_table(values='user_id', columns='genre', index='h_time', aggfunc='count')\\\n",
    "#                     .reindex(columns=top10_genres).fillna(0)\n",
    "    \n",
    "#     t10m = t10m.query('electronic > electronic.mean()/10')\n",
    "#     t10sp = t10sp.query('electronic > electronic.mean()/10')\n",
    "#     #display(t10m)\n",
    "#     #display(t10sp)\n",
    "\n",
    "#     norm_t10_mos = t10m.T/t10m.T.sum()\n",
    "#     norm_t10_sp = t10sp.T/t10sp.T.sum()\n",
    "#     #display(norm_t10_mos)\n",
    "#     #display(norm_t10_sp)\n",
    "\n",
    "#     plt.figure(figsize=(8, 8))\n",
    "#     sns.lineplot(data=norm_t10_mos.T*100-norm_t10_sp.T*100 , dashes=False, sort=False).set_title(day)\n",
    "#     plt.legend(ncol = 3)\n",
    "#     plt.figtext(0.44, 0.92, \"Moscow\",  fontsize = 20)\n",
    "#     plt.figtext(0.38, 0.03, \"Saint-Petersburg\",  fontsize = 20)\n",
    "#     plt.ylabel(\"difference, %\")\n",
    "#     plt.xlabel(\"time of day\")"
   ]
  },
  {
   "cell_type": "markdown",
   "metadata": {
    "id": "wrCe4MNX_Zcu"
   },
   "source": [
    "**Выводы**\n",
    "\n",
    "Если сравнить топ-10 жанров в понедельник утром, можно сделать такие выводы:\n",
    "\n",
    "1. В Москве и Петербурге слушают похожую музыку. Единственное отличие — в московский рейтинг вошёл жанр “world”, а в петербургский — джаз и классика.\n",
    "\n",
    "2. В Москве пропущенных значений оказалось так много, что значение `'unknown'` заняло десятое место среди самых популярных жанров. Значит, пропущенные значения занимают существенную долю в данных и угрожают достоверности исследования.\n",
    "\n",
    "Вечер пятницы не меняет эту картину. Некоторые жанры поднимаются немного выше, другие спускаются, но в целом топ-10 остаётся тем же самым.\n",
    "\n",
    "Таким образом, вторая гипотеза подтвердилась лишь частично:\n",
    "* Пользователи слушают похожую музыку в начале недели и в конце.\n",
    "* Разница между Москвой и Петербургом не слишком выражена. В Москве чаще слушают русскую популярную музыку, в Петербурге — джаз.\n",
    "\n",
    "Однако пропуски в данных ставят под сомнение этот результат. В Москве их так много, что рейтинг топ-10 мог бы выглядеть иначе, если бы не утерянные  данные о жанрах."
   ]
  },
  {
   "cell_type": "markdown",
   "metadata": {
    "id": "JolODAqr_Zcu"
   },
   "source": [
    "### Жанровые предпочтения в Москве и Петербурге\n",
    "\n",
    "Гипотеза: Петербург — столица рэпа, музыку этого жанра там слушают чаще, чем в Москве.  А Москва — город контрастов, в котором, тем не менее, преобладает поп-музыка."
   ]
  },
  {
   "cell_type": "markdown",
   "metadata": {
    "id": "DlegSvaT_Zcu"
   },
   "source": [
    "Частично воспользовавшись уже готовыми данными из прошлого пункта взглянем на сколько различается востребованность топ-10 жанров в Москве и Петербурге  "
   ]
  },
  {
   "cell_type": "code",
   "execution_count": 279,
   "metadata": {
    "id": "r19lIPke_Zcu",
    "scrolled": false
   },
   "outputs": [
    {
     "data": {
      "text/plain": [
       "Text(0, 0.5, 'difference, %')"
      ]
     },
     "execution_count": 279,
     "metadata": {},
     "output_type": "execute_result"
    },
    {
     "data": {
      "image/png": "[encoded data removed]",
      "text/plain": [
       "<Figure size 720x576 with 1 Axes>"
      ]
     },
     "metadata": {},
     "output_type": "display_data"
    }
   ],
   "source": [
    "diff = norm_t10_mos*100-norm_t10_sp*100 #разность между долями жанров ежечасно\n",
    "genre_difference = diff.mean(axis=1) # средняя разница между ежечасной разницой жанров\n",
    "plt.figure(figsize=(10, 8))\n",
    "sns.set(style='whitegrid')\n",
    "genre_difference.plot(kind='bar').set_title('Moscow',  fontsize = 20)\n",
    "plt.figtext(0.38, -0.1, \"Saint-Petersburg\",  fontsize = 20)\n",
    "plt.ylabel(\"difference, %\")"
   ]
  },
  {
   "cell_type": "markdown",
   "metadata": {
    "id": "6kMuomxTiIr8"
   },
   "source": [
    "И снова максимальная разница в 2% говорит о том, что массовые предпочтения меломанов Москвы и Петербурга схожи.\n",
    "\n",
    "Для для того чтобы окончательно удостовериться в этом, оценим насколько различны популярности поджанров в этих городах."
   ]
  },
  {
   "cell_type": "code",
   "execution_count": 280,
   "metadata": {
    "id": "WhCSooF8_Zcv"
   },
   "outputs": [
    {
     "data": {
      "text/plain": [
       "Text(0, 0.5, 'difference, %')"
      ]
     },
     "execution_count": 280,
     "metadata": {},
     "output_type": "execute_result"
    },
    {
     "data": {
      "image/png": "[encoded data removed]",
      "text/plain": [
       "<Figure size 720x576 with 1 Axes>"
      ]
     },
     "metadata": {},
     "output_type": "display_data"
    }
   ],
   "source": [
    "top_subgenres_m = list(df.query(\"city == 'Moscow'\").subgenre.value_counts().head(20).index)\n",
    "top_subgenres_sp = list(df.query(\"city == 'Saint-Petersburg'\").subgenre.value_counts().head(20).index)\n",
    "top_subgenres = top_subgenres_m + list(set(top_subgenres_sp).difference(set(top_subgenres_m)))\n",
    "t_subgenre_mos = df.query((\"city == 'Moscow' & subgenre in @top_subgenres\"))\n",
    "t_subgenre_sp = df.query((\"city == 'Saint-Petersburg' & subgenre in @top_subgenres\"))\n",
    "m = t_subgenre_mos.subgenre.value_counts()/t_subgenre_mos.subgenre.value_counts().sum()\n",
    "s = t_subgenre_sp.subgenre.value_counts()/t_subgenre_sp.subgenre.value_counts().sum()\n",
    "plt.figure(figsize=(10, 8))\n",
    "(m*100-s*100).plot(kind='bar').set_title('Moscow',  fontsize = 20)\n",
    "plt.figtext(0.38, -0.1, \"Saint-Petersburg\",  fontsize = 20)\n",
    "plt.ylabel(\"difference, %\")"
   ]
  },
  {
   "cell_type": "markdown",
   "metadata": {
    "id": "cnPG2vnN_Zcv"
   },
   "source": [
    "И разница менее 1% окончательно отвергает гипотезу.\n"
   ]
  },
  {
   "cell_type": "code",
   "execution_count": 281,
   "metadata": {
    "id": "gluLIpE7_Zcv"
   },
   "outputs": [],
   "source": [
    "# spb_genres = spb_general.groupby('genre').user_id.count().sort_values(ascending=False)# одной строкой: группировка таблицы spb_general по столбцу 'genre', \n",
    "# # подсчёт числа значений 'genre' в этой группировке методом count(), \n",
    "# # сортировка получившегося Series в порядке убывания и сохранение в spb_genres"
   ]
  },
  {
   "cell_type": "markdown",
   "metadata": {
    "id": "5Doha_ODgyQ8"
   },
   "source": [
    "Выведите на экран первые десять строк `spb_genres`:"
   ]
  },
  {
   "cell_type": "code",
   "execution_count": 282,
   "metadata": {
    "id": "uaGJHjVU_Zcv"
   },
   "outputs": [],
   "source": [
    "# spb_genres.head(10) # просмотр первых 10 строк spb_genres"
   ]
  },
  {
   "cell_type": "code",
   "execution_count": 283,
   "metadata": {
    "scrolled": false
   },
   "outputs": [],
   "source": [
    "# diff = norm_t10_mos*100-norm_t10_sp*100\n",
    "# genre_difference = diff.mean(axis=1)\n",
    "# plt.figure(figsize=(10, 8))\n",
    "# sns.set(style='whitegrid')\n",
    "# genre_difference.plot(kind='bar').set_title('Moscow',  fontsize = 20)\n",
    "# plt.figtext(0.38, -0.1, \"Saint-Petersburg\",  fontsize = 20)\n",
    "# plt.ylabel(\"difference, %\")"
   ]
  },
  {
   "cell_type": "code",
   "execution_count": 284,
   "metadata": {},
   "outputs": [],
   "source": [
    "# top_subgenres_m = list(df.query(\"city == 'Moscow'\").subgenre.value_counts().head(20).index)\n",
    "# top_subgenres_sp = list(df.query(\"city == 'Saint-Petersburg'\").subgenre.value_counts().head(20).index)\n",
    "# top_subgenres = top_subgenres_m + list(set(top_subgenres_sp).difference(set(top_subgenres_m)))\n",
    "# t_subgenre_mos = df.query((\"city == 'Moscow' & subgenre in @top_subgenres\"))\n",
    "# t_subgenre_sp = df.query((\"city == 'Saint-Petersburg' & subgenre in @top_subgenres\"))\n",
    "# m = t_subgenre_mos.subgenre.value_counts()/t_subgenre_mos.subgenre.value_counts().sum()\n",
    "# s = t_subgenre_sp.subgenre.value_counts()/t_subgenre_sp.subgenre.value_counts().sum()\n",
    "# plt.figure(figsize=(10, 8))\n",
    "# sns.set(style='whitegrid')\n",
    "# (m*100-s*100).plot(kind='bar').set_title('Moscow',  fontsize = 20)\n",
    "# plt.figtext(0.38, -0.1, \"Saint-Petersburg\",  fontsize = 20)\n",
    "# plt.ylabel(\"difference, %\")"
   ]
  },
  {
   "cell_type": "markdown",
   "metadata": {
    "id": "RY51YJYu_Zcv"
   },
   "source": [
    "**Выводы**"
   ]
  },
  {
   "cell_type": "markdown",
   "metadata": {
    "id": "nVhnJEm__Zcv"
   },
   "source": [
    "Гипотеза о том, что проживание в Петербурге окультуривает или проживание в Москве развращает музыкальные предпочтения и все остальные утверждающие этнических предпочтениях в музыке отвергнуты по имеющимся данным.\n"
   ]
  },
  {
   "cell_type": "markdown",
   "metadata": {
    "id": "ykKQ0N65_Zcv"
   },
   "source": [
    "## Итоги исследования"
   ]
  },
  {
   "cell_type": "markdown",
   "metadata": {
    "id": "tjUwbHb3_Zcv"
   },
   "source": [
    "Проверены три гипотезы и установлено:\n",
    "\n",
    "1. День недели по-разному влияет на активность пользователей в Москве и Петербурге. \n",
    "\n",
    "Первая гипотеза полностью подтвердилась.\n",
    "\n",
    "2. Музыкальные предпочтения не сильно меняются в течение недели — будь то Москва или Петербург.\n",
    "\n",
    "Таким образом, вторая гипотеза отвергнута.\n",
    "\n",
    "3. Во вкусах пользователей Москвы и Петербурга больше общего чем различий. Вопреки ожиданиям, предпочтения жанров в Петербурге идентичны московские.\n",
    "\n",
    "Третья гипотеза не подтвердилась. Если различия в предпочтениях и существуют, на основной массе пользователей они незаметны.\n"
   ]
  },
  {
   "cell_type": "code",
   "execution_count": null,
   "metadata": {},
   "outputs": [],
   "source": []
  }
 ],
 "metadata": {
  "ExecuteTimeLog": [
   {
    "duration": 565,
    "start_time": "2021-11-09T15:50:12.789Z"
   },
   {
    "duration": 350,
    "start_time": "2021-11-09T15:50:57.151Z"
   },
   {
    "duration": 280,
    "start_time": "2021-11-09T15:51:10.020Z"
   },
   {
    "duration": 159,
    "start_time": "2021-11-09T15:51:17.759Z"
   },
   {
    "duration": 16,
    "start_time": "2021-11-09T15:51:29.053Z"
   },
   {
    "duration": 26,
    "start_time": "2021-11-09T15:51:56.766Z"
   },
   {
    "duration": 4,
    "start_time": "2021-11-09T16:08:18.780Z"
   },
   {
    "duration": 5,
    "start_time": "2021-11-09T16:09:57.308Z"
   },
   {
    "duration": 19,
    "start_time": "2021-11-09T16:12:25.226Z"
   },
   {
    "duration": 5,
    "start_time": "2021-11-09T16:12:32.286Z"
   },
   {
    "duration": 4,
    "start_time": "2021-11-09T16:15:00.222Z"
   },
   {
    "duration": 25,
    "start_time": "2021-11-09T16:15:51.562Z"
   },
   {
    "duration": 1183,
    "start_time": "2021-11-09T16:28:11.254Z"
   },
   {
    "duration": 689,
    "start_time": "2021-11-09T16:28:16.493Z"
   },
   {
    "duration": 146,
    "start_time": "2021-11-09T16:31:26.322Z"
   },
   {
    "duration": 369,
    "start_time": "2021-11-10T12:23:32.218Z"
   },
   {
    "duration": 790,
    "start_time": "2021-11-10T12:25:02.770Z"
   },
   {
    "duration": 193,
    "start_time": "2021-11-10T12:25:03.578Z"
   },
   {
    "duration": 28,
    "start_time": "2021-11-10T12:25:04.148Z"
   },
   {
    "duration": 32,
    "start_time": "2021-11-10T12:25:04.728Z"
   },
   {
    "duration": 5,
    "start_time": "2021-11-10T12:25:06.523Z"
   },
   {
    "duration": 25,
    "start_time": "2021-11-10T12:25:08.412Z"
   },
   {
    "duration": 6,
    "start_time": "2021-11-10T12:25:09.546Z"
   },
   {
    "duration": 31,
    "start_time": "2021-11-10T12:25:11.150Z"
   },
   {
    "duration": 22,
    "start_time": "2021-11-10T12:25:13.579Z"
   },
   {
    "duration": 29,
    "start_time": "2021-11-10T12:25:15.553Z"
   },
   {
    "duration": 86,
    "start_time": "2021-11-10T12:27:41.349Z"
   },
   {
    "duration": 297,
    "start_time": "2021-11-10T12:30:39.430Z"
   },
   {
    "duration": 145,
    "start_time": "2021-11-10T12:31:16.953Z"
   },
   {
    "duration": 81,
    "start_time": "2021-11-10T12:31:28.974Z"
   },
   {
    "duration": 109,
    "start_time": "2021-11-10T12:31:38.827Z"
   },
   {
    "duration": 83,
    "start_time": "2021-11-10T12:31:41.520Z"
   },
   {
    "duration": 102,
    "start_time": "2021-11-10T12:32:19.809Z"
   },
   {
    "duration": 78,
    "start_time": "2021-11-10T12:32:24.143Z"
   },
   {
    "duration": 10,
    "start_time": "2021-11-10T12:37:59.177Z"
   },
   {
    "duration": 287,
    "start_time": "2021-11-10T12:38:12.264Z"
   },
   {
    "duration": 63,
    "start_time": "2021-11-10T12:38:22.111Z"
   },
   {
    "duration": 5,
    "start_time": "2021-11-10T12:49:04.843Z"
   },
   {
    "duration": 60,
    "start_time": "2021-11-10T12:49:06.484Z"
   },
   {
    "duration": 5,
    "start_time": "2021-11-10T12:49:30.968Z"
   },
   {
    "duration": 4,
    "start_time": "2021-11-10T12:51:01.006Z"
   },
   {
    "duration": 4,
    "start_time": "2021-11-10T12:51:05.720Z"
   },
   {
    "duration": 14,
    "start_time": "2021-11-10T12:53:05.236Z"
   },
   {
    "duration": 61,
    "start_time": "2021-11-10T12:53:25.540Z"
   },
   {
    "duration": 8175,
    "start_time": "2021-11-10T12:59:28.385Z"
   },
   {
    "duration": 956,
    "start_time": "2021-11-10T13:01:31.817Z"
   },
   {
    "duration": 24,
    "start_time": "2021-11-10T13:01:44.696Z"
   },
   {
    "duration": 15,
    "start_time": "2021-11-10T13:04:22.746Z"
   },
   {
    "duration": 852,
    "start_time": "2021-11-10T17:15:02.889Z"
   },
   {
    "duration": 217,
    "start_time": "2021-11-10T17:15:03.744Z"
   },
   {
    "duration": 31,
    "start_time": "2021-11-10T17:15:03.964Z"
   },
   {
    "duration": 37,
    "start_time": "2021-11-10T17:15:03.999Z"
   },
   {
    "duration": 5,
    "start_time": "2021-11-10T17:15:04.039Z"
   },
   {
    "duration": 27,
    "start_time": "2021-11-10T17:15:04.046Z"
   },
   {
    "duration": 14,
    "start_time": "2021-11-10T17:15:04.075Z"
   },
   {
    "duration": 41,
    "start_time": "2021-11-10T17:15:04.093Z"
   },
   {
    "duration": 22,
    "start_time": "2021-11-10T17:15:04.137Z"
   },
   {
    "duration": 41,
    "start_time": "2021-11-10T17:15:04.163Z"
   },
   {
    "duration": 107,
    "start_time": "2021-11-10T17:15:04.207Z"
   },
   {
    "duration": 113,
    "start_time": "2021-11-10T17:15:04.318Z"
   },
   {
    "duration": 86,
    "start_time": "2021-11-10T17:15:04.433Z"
   },
   {
    "duration": 63,
    "start_time": "2021-11-10T17:15:04.521Z"
   },
   {
    "duration": 6,
    "start_time": "2021-11-10T17:15:04.587Z"
   },
   {
    "duration": 27,
    "start_time": "2021-11-10T17:15:04.596Z"
   },
   {
    "duration": 55,
    "start_time": "2021-11-10T17:15:04.626Z"
   },
   {
    "duration": 22,
    "start_time": "2021-11-10T17:15:04.684Z"
   },
   {
    "duration": 17,
    "start_time": "2021-11-10T17:15:04.710Z"
   },
   {
    "duration": 54,
    "start_time": "2021-11-10T17:15:04.730Z"
   },
   {
    "duration": 8,
    "start_time": "2021-11-10T17:15:04.788Z"
   },
   {
    "duration": 12,
    "start_time": "2021-11-10T17:15:04.800Z"
   },
   {
    "duration": 8,
    "start_time": "2021-11-10T17:15:04.814Z"
   },
   {
    "duration": 7,
    "start_time": "2021-11-10T17:15:04.824Z"
   },
   {
    "duration": 4,
    "start_time": "2021-11-10T17:15:04.834Z"
   },
   {
    "duration": 6,
    "start_time": "2021-11-10T17:15:04.840Z"
   },
   {
    "duration": 3,
    "start_time": "2021-11-10T17:15:04.850Z"
   },
   {
    "duration": 10,
    "start_time": "2021-11-10T17:15:04.855Z"
   },
   {
    "duration": 7,
    "start_time": "2021-11-10T17:15:04.867Z"
   },
   {
    "duration": 14,
    "start_time": "2021-11-10T17:15:04.876Z"
   },
   {
    "duration": 15,
    "start_time": "2021-11-10T17:15:04.894Z"
   },
   {
    "duration": 6,
    "start_time": "2021-11-10T17:15:04.920Z"
   },
   {
    "duration": 10,
    "start_time": "2021-11-10T17:15:04.929Z"
   },
   {
    "duration": 6,
    "start_time": "2021-11-10T17:15:04.941Z"
   },
   {
    "duration": 5,
    "start_time": "2021-11-10T17:15:04.950Z"
   },
   {
    "duration": 4,
    "start_time": "2021-11-10T17:15:04.958Z"
   },
   {
    "duration": 5,
    "start_time": "2021-11-10T17:15:04.965Z"
   },
   {
    "duration": 14,
    "start_time": "2021-11-10T17:15:04.972Z"
   },
   {
    "duration": 18,
    "start_time": "2021-11-10T17:15:19.970Z"
   },
   {
    "duration": 4,
    "start_time": "2021-11-10T18:43:41.550Z"
   },
   {
    "duration": 382,
    "start_time": "2021-11-10T18:44:50.787Z"
   },
   {
    "duration": 5,
    "start_time": "2021-11-10T18:44:57.102Z"
   },
   {
    "duration": 333,
    "start_time": "2021-11-10T18:45:00.191Z"
   },
   {
    "duration": 18,
    "start_time": "2021-11-10T18:45:05.780Z"
   },
   {
    "duration": 17,
    "start_time": "2021-11-10T18:46:22.140Z"
   },
   {
    "duration": 17,
    "start_time": "2021-11-10T18:46:22.634Z"
   },
   {
    "duration": 17,
    "start_time": "2021-11-10T18:46:23.060Z"
   },
   {
    "duration": 16,
    "start_time": "2021-11-10T18:46:23.439Z"
   },
   {
    "duration": 19,
    "start_time": "2021-11-10T18:46:23.812Z"
   },
   {
    "duration": 17,
    "start_time": "2021-11-10T18:46:24.137Z"
   },
   {
    "duration": 99,
    "start_time": "2021-11-10T18:51:55.190Z"
   },
   {
    "duration": 110,
    "start_time": "2021-11-10T18:52:04.436Z"
   },
   {
    "duration": 308,
    "start_time": "2021-11-10T18:52:14.597Z"
   },
   {
    "duration": 371,
    "start_time": "2021-11-10T18:52:56.464Z"
   },
   {
    "duration": 106,
    "start_time": "2021-11-10T18:57:17.568Z"
   },
   {
    "duration": 305,
    "start_time": "2021-11-10T18:57:42.911Z"
   },
   {
    "duration": 301,
    "start_time": "2021-11-10T18:58:29.636Z"
   },
   {
    "duration": 13,
    "start_time": "2021-11-10T19:02:18.315Z"
   },
   {
    "duration": 12,
    "start_time": "2021-11-10T19:02:28.857Z"
   },
   {
    "duration": 38,
    "start_time": "2021-11-10T19:02:45.224Z"
   },
   {
    "duration": 36,
    "start_time": "2021-11-10T19:02:55.324Z"
   },
   {
    "duration": 16,
    "start_time": "2021-11-10T19:04:29.524Z"
   },
   {
    "duration": 32,
    "start_time": "2021-11-10T19:04:36.148Z"
   },
   {
    "duration": 15,
    "start_time": "2021-11-10T19:04:41.720Z"
   },
   {
    "duration": 26,
    "start_time": "2021-11-10T19:05:04.905Z"
   },
   {
    "duration": 13,
    "start_time": "2021-11-10T19:05:10.275Z"
   },
   {
    "duration": 322,
    "start_time": "2021-11-10T19:07:10.335Z"
   },
   {
    "duration": 46,
    "start_time": "2021-11-10T19:07:29.749Z"
   },
   {
    "duration": 739,
    "start_time": "2021-11-11T07:37:48.627Z"
   },
   {
    "duration": 193,
    "start_time": "2021-11-11T07:37:49.369Z"
   },
   {
    "duration": 32,
    "start_time": "2021-11-11T07:37:49.565Z"
   },
   {
    "duration": 35,
    "start_time": "2021-11-11T07:37:49.600Z"
   },
   {
    "duration": 6,
    "start_time": "2021-11-11T07:37:49.638Z"
   },
   {
    "duration": 60,
    "start_time": "2021-11-11T07:37:49.647Z"
   },
   {
    "duration": 8,
    "start_time": "2021-11-11T07:37:49.710Z"
   },
   {
    "duration": 64,
    "start_time": "2021-11-11T07:37:49.724Z"
   },
   {
    "duration": 24,
    "start_time": "2021-11-11T07:37:49.792Z"
   },
   {
    "duration": 29,
    "start_time": "2021-11-11T07:37:49.819Z"
   },
   {
    "duration": 113,
    "start_time": "2021-11-11T07:37:49.850Z"
   },
   {
    "duration": 124,
    "start_time": "2021-11-11T07:37:49.965Z"
   },
   {
    "duration": 79,
    "start_time": "2021-11-11T07:37:50.092Z"
   },
   {
    "duration": 57,
    "start_time": "2021-11-11T07:37:50.182Z"
   },
   {
    "duration": 4,
    "start_time": "2021-11-11T07:37:50.241Z"
   },
   {
    "duration": 37,
    "start_time": "2021-11-11T07:37:50.247Z"
   },
   {
    "duration": 57,
    "start_time": "2021-11-11T07:37:50.287Z"
   },
   {
    "duration": 36,
    "start_time": "2021-11-11T07:37:50.347Z"
   },
   {
    "duration": 14,
    "start_time": "2021-11-11T07:37:50.386Z"
   },
   {
    "duration": 4,
    "start_time": "2021-11-11T07:37:50.403Z"
   },
   {
    "duration": 29,
    "start_time": "2021-11-11T07:37:50.410Z"
   },
   {
    "duration": 42,
    "start_time": "2021-11-11T07:37:50.441Z"
   },
   {
    "duration": 16,
    "start_time": "2021-11-11T07:37:50.488Z"
   },
   {
    "duration": 20,
    "start_time": "2021-11-11T07:37:50.506Z"
   },
   {
    "duration": 18,
    "start_time": "2021-11-11T07:37:50.529Z"
   },
   {
    "duration": 45,
    "start_time": "2021-11-11T07:37:50.549Z"
   },
   {
    "duration": 38,
    "start_time": "2021-11-11T07:37:50.596Z"
   },
   {
    "duration": 45,
    "start_time": "2021-11-11T07:37:50.637Z"
   },
   {
    "duration": 12,
    "start_time": "2021-11-11T07:37:50.685Z"
   },
   {
    "duration": 10,
    "start_time": "2021-11-11T07:37:50.699Z"
   },
   {
    "duration": 17,
    "start_time": "2021-11-11T07:37:50.712Z"
   },
   {
    "duration": 23,
    "start_time": "2021-11-11T07:37:50.731Z"
   },
   {
    "duration": 23,
    "start_time": "2021-11-11T07:37:50.757Z"
   },
   {
    "duration": 15,
    "start_time": "2021-11-11T07:37:50.782Z"
   },
   {
    "duration": 10,
    "start_time": "2021-11-11T07:37:50.799Z"
   },
   {
    "duration": 10,
    "start_time": "2021-11-11T07:37:50.811Z"
   },
   {
    "duration": 12,
    "start_time": "2021-11-11T07:37:50.823Z"
   },
   {
    "duration": 7,
    "start_time": "2021-11-11T07:37:50.837Z"
   },
   {
    "duration": 6,
    "start_time": "2021-11-11T07:56:23.871Z"
   },
   {
    "duration": 741,
    "start_time": "2021-11-11T07:58:44.386Z"
   },
   {
    "duration": 5,
    "start_time": "2021-11-11T08:02:02.007Z"
   },
   {
    "duration": 30,
    "start_time": "2021-11-11T08:02:03.769Z"
   },
   {
    "duration": 6,
    "start_time": "2021-11-11T08:03:04.841Z"
   },
   {
    "duration": 22,
    "start_time": "2021-11-11T08:03:07.333Z"
   },
   {
    "duration": 6,
    "start_time": "2021-11-11T08:03:16.116Z"
   },
   {
    "duration": 24,
    "start_time": "2021-11-11T08:03:17.866Z"
   },
   {
    "duration": 19,
    "start_time": "2021-11-11T08:03:49.009Z"
   },
   {
    "duration": 24,
    "start_time": "2021-11-11T08:04:18.270Z"
   },
   {
    "duration": 18,
    "start_time": "2021-11-11T08:04:32.144Z"
   },
   {
    "duration": 30,
    "start_time": "2021-11-11T08:07:07.057Z"
   },
   {
    "duration": 15,
    "start_time": "2021-11-11T08:07:09.926Z"
   },
   {
    "duration": 11,
    "start_time": "2021-11-11T08:07:26.696Z"
   },
   {
    "duration": 7,
    "start_time": "2021-11-11T08:07:28.216Z"
   },
   {
    "duration": 14,
    "start_time": "2021-11-11T08:07:56.687Z"
   },
   {
    "duration": 7,
    "start_time": "2021-11-11T08:07:57.885Z"
   },
   {
    "duration": 6,
    "start_time": "2021-11-11T08:08:07.374Z"
   },
   {
    "duration": 10,
    "start_time": "2021-11-11T08:08:38.396Z"
   },
   {
    "duration": 8,
    "start_time": "2021-11-11T08:08:46.033Z"
   },
   {
    "duration": 6,
    "start_time": "2021-11-11T08:08:55.211Z"
   },
   {
    "duration": 4,
    "start_time": "2021-11-11T08:09:28.325Z"
   },
   {
    "duration": 222,
    "start_time": "2021-11-11T08:09:28.332Z"
   },
   {
    "duration": 27,
    "start_time": "2021-11-11T08:09:28.557Z"
   },
   {
    "duration": 34,
    "start_time": "2021-11-11T08:09:28.588Z"
   },
   {
    "duration": 7,
    "start_time": "2021-11-11T08:09:28.625Z"
   },
   {
    "duration": 64,
    "start_time": "2021-11-11T08:09:28.635Z"
   },
   {
    "duration": 6,
    "start_time": "2021-11-11T08:09:28.703Z"
   },
   {
    "duration": 36,
    "start_time": "2021-11-11T08:09:28.713Z"
   },
   {
    "duration": 47,
    "start_time": "2021-11-11T08:09:28.752Z"
   },
   {
    "duration": 32,
    "start_time": "2021-11-11T08:09:28.802Z"
   },
   {
    "duration": 117,
    "start_time": "2021-11-11T08:09:28.836Z"
   },
   {
    "duration": 106,
    "start_time": "2021-11-11T08:09:28.956Z"
   },
   {
    "duration": 86,
    "start_time": "2021-11-11T08:09:29.065Z"
   },
   {
    "duration": 79,
    "start_time": "2021-11-11T08:09:29.154Z"
   },
   {
    "duration": 5,
    "start_time": "2021-11-11T08:09:29.236Z"
   },
   {
    "duration": 17,
    "start_time": "2021-11-11T08:09:29.243Z"
   },
   {
    "duration": 61,
    "start_time": "2021-11-11T08:09:29.283Z"
   },
   {
    "duration": 43,
    "start_time": "2021-11-11T08:09:29.347Z"
   },
   {
    "duration": 13,
    "start_time": "2021-11-11T08:09:29.395Z"
   },
   {
    "duration": 5,
    "start_time": "2021-11-11T08:09:29.411Z"
   },
   {
    "duration": 23,
    "start_time": "2021-11-11T08:09:29.418Z"
   },
   {
    "duration": 50,
    "start_time": "2021-11-11T08:09:29.443Z"
   },
   {
    "duration": 20,
    "start_time": "2021-11-11T08:09:29.495Z"
   },
   {
    "duration": 15,
    "start_time": "2021-11-11T08:09:29.517Z"
   },
   {
    "duration": 18,
    "start_time": "2021-11-11T08:09:29.534Z"
   },
   {
    "duration": 36,
    "start_time": "2021-11-11T08:09:29.554Z"
   },
   {
    "duration": 36,
    "start_time": "2021-11-11T08:09:29.593Z"
   },
   {
    "duration": 14,
    "start_time": "2021-11-11T08:09:29.631Z"
   },
   {
    "duration": 46,
    "start_time": "2021-11-11T08:09:29.647Z"
   },
   {
    "duration": 5,
    "start_time": "2021-11-11T08:09:29.696Z"
   },
   {
    "duration": 28,
    "start_time": "2021-11-11T08:09:29.703Z"
   },
   {
    "duration": 17,
    "start_time": "2021-11-11T08:09:29.733Z"
   },
   {
    "duration": 23,
    "start_time": "2021-11-11T08:09:29.783Z"
   },
   {
    "duration": 17,
    "start_time": "2021-11-11T08:09:29.809Z"
   },
   {
    "duration": 10,
    "start_time": "2021-11-11T08:09:29.828Z"
   },
   {
    "duration": 6,
    "start_time": "2021-11-11T08:09:29.840Z"
   },
   {
    "duration": 9,
    "start_time": "2021-11-11T08:09:29.882Z"
   },
   {
    "duration": 8,
    "start_time": "2021-11-11T08:09:29.893Z"
   },
   {
    "duration": 681,
    "start_time": "2021-11-11T10:31:42.574Z"
   },
   {
    "duration": 404,
    "start_time": "2021-11-11T10:32:05.237Z"
   },
   {
    "duration": 4,
    "start_time": "2021-11-11T10:32:45.316Z"
   },
   {
    "duration": 339,
    "start_time": "2021-11-11T10:32:52.690Z"
   },
   {
    "duration": 354,
    "start_time": "2021-11-11T10:33:48.837Z"
   },
   {
    "duration": 4,
    "start_time": "2021-11-11T10:33:56.974Z"
   },
   {
    "duration": 202,
    "start_time": "2021-11-11T10:33:56.984Z"
   },
   {
    "duration": 15,
    "start_time": "2021-11-11T10:33:57.189Z"
   },
   {
    "duration": 35,
    "start_time": "2021-11-11T10:33:57.207Z"
   },
   {
    "duration": 10,
    "start_time": "2021-11-11T10:33:57.245Z"
   },
   {
    "duration": 25,
    "start_time": "2021-11-11T10:33:57.282Z"
   },
   {
    "duration": 15,
    "start_time": "2021-11-11T10:33:57.309Z"
   },
   {
    "duration": 37,
    "start_time": "2021-11-11T10:33:57.326Z"
   },
   {
    "duration": 22,
    "start_time": "2021-11-11T10:33:57.383Z"
   },
   {
    "duration": 31,
    "start_time": "2021-11-11T10:33:57.408Z"
   },
   {
    "duration": 108,
    "start_time": "2021-11-11T10:33:57.442Z"
   },
   {
    "duration": 108,
    "start_time": "2021-11-11T10:33:57.552Z"
   },
   {
    "duration": 87,
    "start_time": "2021-11-11T10:33:57.663Z"
   },
   {
    "duration": 65,
    "start_time": "2021-11-11T10:33:57.752Z"
   },
   {
    "duration": 3,
    "start_time": "2021-11-11T10:33:57.820Z"
   },
   {
    "duration": 21,
    "start_time": "2021-11-11T10:33:57.825Z"
   },
   {
    "duration": 75,
    "start_time": "2021-11-11T10:33:57.849Z"
   },
   {
    "duration": 15,
    "start_time": "2021-11-11T10:33:57.926Z"
   },
   {
    "duration": 44,
    "start_time": "2021-11-11T10:33:57.943Z"
   },
   {
    "duration": 5,
    "start_time": "2021-11-11T10:33:57.989Z"
   },
   {
    "duration": 26,
    "start_time": "2021-11-11T10:33:57.996Z"
   },
   {
    "duration": 16,
    "start_time": "2021-11-11T10:33:58.025Z"
   },
   {
    "duration": 45,
    "start_time": "2021-11-11T10:33:58.043Z"
   },
   {
    "duration": 15,
    "start_time": "2021-11-11T10:33:58.093Z"
   },
   {
    "duration": 19,
    "start_time": "2021-11-11T10:33:58.111Z"
   },
   {
    "duration": 17,
    "start_time": "2021-11-11T10:33:58.132Z"
   },
   {
    "duration": 324,
    "start_time": "2021-11-11T10:33:58.182Z"
   },
   {
    "duration": -75,
    "start_time": "2021-11-11T10:33:58.583Z"
   },
   {
    "duration": -81,
    "start_time": "2021-11-11T10:33:58.590Z"
   },
   {
    "duration": -87,
    "start_time": "2021-11-11T10:33:58.598Z"
   },
   {
    "duration": -89,
    "start_time": "2021-11-11T10:33:58.601Z"
   },
   {
    "duration": -92,
    "start_time": "2021-11-11T10:33:58.605Z"
   },
   {
    "duration": -95,
    "start_time": "2021-11-11T10:33:58.609Z"
   },
   {
    "duration": -96,
    "start_time": "2021-11-11T10:33:58.612Z"
   },
   {
    "duration": -98,
    "start_time": "2021-11-11T10:33:58.615Z"
   },
   {
    "duration": -102,
    "start_time": "2021-11-11T10:33:58.620Z"
   },
   {
    "duration": -104,
    "start_time": "2021-11-11T10:33:58.623Z"
   },
   {
    "duration": -106,
    "start_time": "2021-11-11T10:33:58.627Z"
   },
   {
    "duration": 4,
    "start_time": "2021-11-11T10:38:46.215Z"
   },
   {
    "duration": 439,
    "start_time": "2021-11-11T10:38:58.252Z"
   },
   {
    "duration": 101,
    "start_time": "2021-11-11T10:39:42.804Z"
   },
   {
    "duration": 112,
    "start_time": "2021-11-11T10:39:46.433Z"
   },
   {
    "duration": 4,
    "start_time": "2021-11-11T10:39:51.991Z"
   },
   {
    "duration": 308,
    "start_time": "2021-11-11T10:40:18.489Z"
   },
   {
    "duration": 3,
    "start_time": "2021-11-11T10:40:32.962Z"
   },
   {
    "duration": 4,
    "start_time": "2021-11-11T10:40:53.590Z"
   },
   {
    "duration": 369,
    "start_time": "2021-11-11T10:41:54.568Z"
   },
   {
    "duration": 4,
    "start_time": "2021-11-11T10:41:59.883Z"
   },
   {
    "duration": 334,
    "start_time": "2021-11-11T10:42:11.556Z"
   },
   {
    "duration": 313,
    "start_time": "2021-11-11T10:42:14.154Z"
   },
   {
    "duration": 3,
    "start_time": "2021-11-11T10:42:25.430Z"
   },
   {
    "duration": 110,
    "start_time": "2021-11-11T10:43:24.741Z"
   },
   {
    "duration": 39,
    "start_time": "2021-11-11T10:43:31.584Z"
   },
   {
    "duration": 36,
    "start_time": "2021-11-11T10:44:04.729Z"
   },
   {
    "duration": 40,
    "start_time": "2021-11-11T10:44:37.940Z"
   },
   {
    "duration": 312,
    "start_time": "2021-11-11T10:44:53.428Z"
   },
   {
    "duration": 4,
    "start_time": "2021-11-11T10:49:57.062Z"
   },
   {
    "duration": 9,
    "start_time": "2021-11-11T10:50:17.546Z"
   },
   {
    "duration": 114,
    "start_time": "2021-11-11T10:50:19.609Z"
   },
   {
    "duration": 9,
    "start_time": "2021-11-11T10:50:38.623Z"
   },
   {
    "duration": 393,
    "start_time": "2021-11-11T10:50:46.389Z"
   },
   {
    "duration": 9,
    "start_time": "2021-11-11T10:50:58.756Z"
   },
   {
    "duration": 309,
    "start_time": "2021-11-11T10:51:05.630Z"
   },
   {
    "duration": 422,
    "start_time": "2021-11-11T10:56:57.919Z"
   },
   {
    "duration": 386,
    "start_time": "2021-11-11T10:58:25.288Z"
   },
   {
    "duration": 4,
    "start_time": "2021-11-11T10:59:20.483Z"
   },
   {
    "duration": 476,
    "start_time": "2021-11-11T11:06:24.670Z"
   },
   {
    "duration": 390,
    "start_time": "2021-11-11T11:06:30.002Z"
   },
   {
    "duration": 380,
    "start_time": "2021-11-11T11:06:39.035Z"
   },
   {
    "duration": 1637,
    "start_time": "2021-11-11T17:41:01.201Z"
   },
   {
    "duration": 208,
    "start_time": "2021-11-11T17:41:02.841Z"
   },
   {
    "duration": 20,
    "start_time": "2021-11-11T17:41:03.052Z"
   },
   {
    "duration": 53,
    "start_time": "2021-11-11T17:41:03.076Z"
   },
   {
    "duration": 6,
    "start_time": "2021-11-11T17:41:03.133Z"
   },
   {
    "duration": 58,
    "start_time": "2021-11-11T17:41:03.142Z"
   },
   {
    "duration": 6,
    "start_time": "2021-11-11T17:41:03.203Z"
   },
   {
    "duration": 43,
    "start_time": "2021-11-11T17:41:03.212Z"
   },
   {
    "duration": 43,
    "start_time": "2021-11-11T17:41:03.260Z"
   },
   {
    "duration": 41,
    "start_time": "2021-11-11T17:41:03.308Z"
   },
   {
    "duration": 108,
    "start_time": "2021-11-11T17:41:03.352Z"
   },
   {
    "duration": 118,
    "start_time": "2021-11-11T17:41:03.462Z"
   },
   {
    "duration": 90,
    "start_time": "2021-11-11T17:41:03.583Z"
   },
   {
    "duration": 71,
    "start_time": "2021-11-11T17:41:03.676Z"
   },
   {
    "duration": 6,
    "start_time": "2021-11-11T17:41:03.750Z"
   },
   {
    "duration": 47,
    "start_time": "2021-11-11T17:41:03.758Z"
   },
   {
    "duration": 64,
    "start_time": "2021-11-11T17:41:03.807Z"
   },
   {
    "duration": 32,
    "start_time": "2021-11-11T17:41:03.873Z"
   },
   {
    "duration": 14,
    "start_time": "2021-11-11T17:41:03.907Z"
   },
   {
    "duration": 4,
    "start_time": "2021-11-11T17:41:03.924Z"
   },
   {
    "duration": 32,
    "start_time": "2021-11-11T17:41:03.930Z"
   },
   {
    "duration": 38,
    "start_time": "2021-11-11T17:41:03.964Z"
   },
   {
    "duration": 18,
    "start_time": "2021-11-11T17:41:04.005Z"
   },
   {
    "duration": 16,
    "start_time": "2021-11-11T17:41:04.026Z"
   },
   {
    "duration": 56,
    "start_time": "2021-11-11T17:41:04.044Z"
   },
   {
    "duration": 17,
    "start_time": "2021-11-11T17:41:04.103Z"
   },
   {
    "duration": 453,
    "start_time": "2021-11-11T17:41:04.126Z"
   },
   {
    "duration": 24,
    "start_time": "2021-11-11T17:41:04.582Z"
   },
   {
    "duration": 13,
    "start_time": "2021-11-11T17:41:04.608Z"
   },
   {
    "duration": 5,
    "start_time": "2021-11-11T17:41:04.624Z"
   },
   {
    "duration": 31,
    "start_time": "2021-11-11T17:41:04.632Z"
   },
   {
    "duration": 49,
    "start_time": "2021-11-11T17:41:04.665Z"
   },
   {
    "duration": 27,
    "start_time": "2021-11-11T17:41:04.717Z"
   },
   {
    "duration": 17,
    "start_time": "2021-11-11T17:41:04.746Z"
   },
   {
    "duration": 48,
    "start_time": "2021-11-11T17:41:04.765Z"
   },
   {
    "duration": 8,
    "start_time": "2021-11-11T17:41:04.816Z"
   },
   {
    "duration": 10,
    "start_time": "2021-11-11T17:41:04.827Z"
   },
   {
    "duration": 7,
    "start_time": "2021-11-11T17:41:04.840Z"
   },
   {
    "duration": 1450,
    "start_time": "2021-11-12T08:17:53.633Z"
   },
   {
    "duration": 185,
    "start_time": "2021-11-12T08:17:55.085Z"
   },
   {
    "duration": 24,
    "start_time": "2021-11-12T08:17:55.273Z"
   },
   {
    "duration": 32,
    "start_time": "2021-11-12T08:17:55.300Z"
   },
   {
    "duration": 6,
    "start_time": "2021-11-12T08:17:55.335Z"
   },
   {
    "duration": 59,
    "start_time": "2021-11-12T08:17:55.344Z"
   },
   {
    "duration": 6,
    "start_time": "2021-11-12T08:17:55.406Z"
   },
   {
    "duration": 31,
    "start_time": "2021-11-12T08:17:55.415Z"
   },
   {
    "duration": 52,
    "start_time": "2021-11-12T08:17:55.449Z"
   },
   {
    "duration": 31,
    "start_time": "2021-11-12T08:17:55.503Z"
   },
   {
    "duration": 114,
    "start_time": "2021-11-12T08:17:55.536Z"
   },
   {
    "duration": 115,
    "start_time": "2021-11-12T08:17:55.652Z"
   },
   {
    "duration": 83,
    "start_time": "2021-11-12T08:17:55.769Z"
   },
   {
    "duration": 70,
    "start_time": "2021-11-12T08:17:55.854Z"
   },
   {
    "duration": 4,
    "start_time": "2021-11-12T08:17:55.926Z"
   },
   {
    "duration": 20,
    "start_time": "2021-11-12T08:17:55.933Z"
   },
   {
    "duration": 73,
    "start_time": "2021-11-12T08:17:55.956Z"
   },
   {
    "duration": 14,
    "start_time": "2021-11-12T08:17:56.032Z"
   },
   {
    "duration": 35,
    "start_time": "2021-11-12T08:17:56.048Z"
   },
   {
    "duration": 5,
    "start_time": "2021-11-12T08:17:56.086Z"
   },
   {
    "duration": 27,
    "start_time": "2021-11-12T08:17:56.093Z"
   },
   {
    "duration": 17,
    "start_time": "2021-11-12T08:17:56.122Z"
   },
   {
    "duration": 51,
    "start_time": "2021-11-12T08:17:56.144Z"
   },
   {
    "duration": 17,
    "start_time": "2021-11-12T08:17:56.198Z"
   },
   {
    "duration": 18,
    "start_time": "2021-11-12T08:17:56.217Z"
   },
   {
    "duration": 59,
    "start_time": "2021-11-12T08:17:56.238Z"
   },
   {
    "duration": 412,
    "start_time": "2021-11-12T08:17:56.299Z"
   },
   {
    "duration": 15,
    "start_time": "2021-11-12T08:17:56.713Z"
   },
   {
    "duration": 12,
    "start_time": "2021-11-12T08:17:56.731Z"
   },
   {
    "duration": 7,
    "start_time": "2021-11-12T08:17:56.745Z"
   },
   {
    "duration": 24,
    "start_time": "2021-11-12T08:17:56.783Z"
   },
   {
    "duration": 17,
    "start_time": "2021-11-12T08:17:56.809Z"
   },
   {
    "duration": 56,
    "start_time": "2021-11-12T08:17:56.829Z"
   },
   {
    "duration": 21,
    "start_time": "2021-11-12T08:17:56.887Z"
   },
   {
    "duration": 18,
    "start_time": "2021-11-12T08:17:56.911Z"
   },
   {
    "duration": 7,
    "start_time": "2021-11-12T08:17:56.932Z"
   },
   {
    "duration": 47,
    "start_time": "2021-11-12T08:17:56.941Z"
   },
   {
    "duration": 11,
    "start_time": "2021-11-12T08:17:56.991Z"
   },
   {
    "duration": 1113,
    "start_time": "2021-11-13T19:08:40.493Z"
   },
   {
    "duration": 154,
    "start_time": "2021-11-13T19:08:41.608Z"
   },
   {
    "duration": 15,
    "start_time": "2021-11-13T19:08:41.764Z"
   },
   {
    "duration": 29,
    "start_time": "2021-11-13T19:08:41.781Z"
   },
   {
    "duration": 5,
    "start_time": "2021-11-13T19:08:41.812Z"
   },
   {
    "duration": 43,
    "start_time": "2021-11-13T19:08:41.820Z"
   },
   {
    "duration": 6,
    "start_time": "2021-11-13T19:08:41.865Z"
   },
   {
    "duration": 25,
    "start_time": "2021-11-13T19:08:41.874Z"
   },
   {
    "duration": 20,
    "start_time": "2021-11-13T19:08:41.902Z"
   },
   {
    "duration": 53,
    "start_time": "2021-11-13T19:08:41.923Z"
   },
   {
    "duration": 61,
    "start_time": "2021-11-13T19:08:41.978Z"
   },
   {
    "duration": 94,
    "start_time": "2021-11-13T19:08:42.040Z"
   },
   {
    "duration": 63,
    "start_time": "2021-11-13T19:08:42.136Z"
   },
   {
    "duration": 38,
    "start_time": "2021-11-13T19:08:42.201Z"
   },
   {
    "duration": 3,
    "start_time": "2021-11-13T19:08:42.241Z"
   },
   {
    "duration": 27,
    "start_time": "2021-11-13T19:08:42.246Z"
   },
   {
    "duration": 42,
    "start_time": "2021-11-13T19:08:42.275Z"
   },
   {
    "duration": 10,
    "start_time": "2021-11-13T19:08:42.319Z"
   },
   {
    "duration": 33,
    "start_time": "2021-11-13T19:08:42.331Z"
   },
   {
    "duration": 3,
    "start_time": "2021-11-13T19:08:42.366Z"
   },
   {
    "duration": 22,
    "start_time": "2021-11-13T19:08:42.371Z"
   },
   {
    "duration": 12,
    "start_time": "2021-11-13T19:08:42.395Z"
   },
   {
    "duration": 14,
    "start_time": "2021-11-13T19:08:42.410Z"
   },
   {
    "duration": 11,
    "start_time": "2021-11-13T19:08:42.426Z"
   },
   {
    "duration": 37,
    "start_time": "2021-11-13T19:08:42.439Z"
   },
   {
    "duration": 15,
    "start_time": "2021-11-13T19:08:42.477Z"
   },
   {
    "duration": 263,
    "start_time": "2021-11-13T19:08:42.494Z"
   },
   {
    "duration": 11,
    "start_time": "2021-11-13T19:08:42.763Z"
   },
   {
    "duration": 9,
    "start_time": "2021-11-13T19:08:42.775Z"
   },
   {
    "duration": 4,
    "start_time": "2021-11-13T19:08:42.786Z"
   },
   {
    "duration": 23,
    "start_time": "2021-11-13T19:08:42.791Z"
   },
   {
    "duration": 14,
    "start_time": "2021-11-13T19:08:42.816Z"
   },
   {
    "duration": 44,
    "start_time": "2021-11-13T19:08:42.832Z"
   },
   {
    "duration": 13,
    "start_time": "2021-11-13T19:08:42.878Z"
   },
   {
    "duration": 13,
    "start_time": "2021-11-13T19:08:42.893Z"
   },
   {
    "duration": 4,
    "start_time": "2021-11-13T19:08:42.908Z"
   },
   {
    "duration": 16,
    "start_time": "2021-11-13T19:08:42.914Z"
   },
   {
    "duration": 7,
    "start_time": "2021-11-13T19:08:42.932Z"
   },
   {
    "duration": 355,
    "start_time": "2021-11-13T19:43:46.934Z"
   },
   {
    "duration": 331,
    "start_time": "2021-11-13T19:44:34.448Z"
   },
   {
    "duration": 3,
    "start_time": "2021-11-13T19:44:44.246Z"
   },
   {
    "duration": 85,
    "start_time": "2021-11-13T19:44:46.174Z"
   },
   {
    "duration": 40,
    "start_time": "2021-11-13T19:44:52.422Z"
   },
   {
    "duration": 38,
    "start_time": "2021-11-13T19:45:54.990Z"
   },
   {
    "duration": 41,
    "start_time": "2021-11-13T19:46:01.127Z"
   },
   {
    "duration": 48,
    "start_time": "2021-11-13T19:46:05.760Z"
   },
   {
    "duration": 2,
    "start_time": "2021-11-13T19:46:21.435Z"
   },
   {
    "duration": 173,
    "start_time": "2021-11-13T19:46:21.439Z"
   },
   {
    "duration": 11,
    "start_time": "2021-11-13T19:46:21.615Z"
   },
   {
    "duration": 50,
    "start_time": "2021-11-13T19:46:21.628Z"
   },
   {
    "duration": 4,
    "start_time": "2021-11-13T19:46:21.680Z"
   },
   {
    "duration": 22,
    "start_time": "2021-11-13T19:46:21.686Z"
   },
   {
    "duration": 4,
    "start_time": "2021-11-13T19:46:21.710Z"
   },
   {
    "duration": 50,
    "start_time": "2021-11-13T19:46:21.716Z"
   },
   {
    "duration": 22,
    "start_time": "2021-11-13T19:46:21.772Z"
   },
   {
    "duration": 22,
    "start_time": "2021-11-13T19:46:21.796Z"
   },
   {
    "duration": 76,
    "start_time": "2021-11-13T19:46:21.820Z"
   },
   {
    "duration": 77,
    "start_time": "2021-11-13T19:46:21.898Z"
   },
   {
    "duration": 51,
    "start_time": "2021-11-13T19:46:21.978Z"
   },
   {
    "duration": 59,
    "start_time": "2021-11-13T19:46:22.031Z"
   },
   {
    "duration": 3,
    "start_time": "2021-11-13T19:46:22.092Z"
   },
   {
    "duration": 108,
    "start_time": "2021-11-13T19:46:22.097Z"
   },
   {
    "duration": 40,
    "start_time": "2021-11-13T19:46:22.207Z"
   },
   {
    "duration": 28,
    "start_time": "2021-11-13T19:46:22.248Z"
   },
   {
    "duration": 12,
    "start_time": "2021-11-13T19:46:22.278Z"
   },
   {
    "duration": 3,
    "start_time": "2021-11-13T19:46:22.292Z"
   },
   {
    "duration": 19,
    "start_time": "2021-11-13T19:46:22.296Z"
   },
   {
    "duration": 14,
    "start_time": "2021-11-13T19:46:22.317Z"
   },
   {
    "duration": 42,
    "start_time": "2021-11-13T19:46:22.332Z"
   },
   {
    "duration": 12,
    "start_time": "2021-11-13T19:46:22.378Z"
   },
   {
    "duration": 13,
    "start_time": "2021-11-13T19:46:22.392Z"
   },
   {
    "duration": 13,
    "start_time": "2021-11-13T19:46:22.407Z"
   },
   {
    "duration": 283,
    "start_time": "2021-11-13T19:46:22.425Z"
   },
   {
    "duration": 17,
    "start_time": "2021-11-13T19:46:22.710Z"
   },
   {
    "duration": 16,
    "start_time": "2021-11-13T19:46:22.729Z"
   },
   {
    "duration": 8,
    "start_time": "2021-11-13T19:46:22.763Z"
   },
   {
    "duration": 23,
    "start_time": "2021-11-13T19:46:22.773Z"
   },
   {
    "duration": 13,
    "start_time": "2021-11-13T19:46:22.798Z"
   },
   {
    "duration": 21,
    "start_time": "2021-11-13T19:46:22.812Z"
   },
   {
    "duration": 45,
    "start_time": "2021-11-13T19:46:22.835Z"
   },
   {
    "duration": 15,
    "start_time": "2021-11-13T19:46:22.882Z"
   },
   {
    "duration": 6,
    "start_time": "2021-11-13T19:46:22.900Z"
   },
   {
    "duration": 10,
    "start_time": "2021-11-13T19:46:22.907Z"
   },
   {
    "duration": 5,
    "start_time": "2021-11-13T19:46:22.919Z"
   },
   {
    "duration": 43,
    "start_time": "2021-11-13T19:46:43.199Z"
   },
   {
    "duration": 42,
    "start_time": "2021-11-13T19:46:45.773Z"
   },
   {
    "duration": 12,
    "start_time": "2021-11-13T19:49:54.418Z"
   },
   {
    "duration": 14,
    "start_time": "2021-11-13T19:50:12.952Z"
   },
   {
    "duration": 30,
    "start_time": "2021-11-13T19:52:05.252Z"
   },
   {
    "duration": 28,
    "start_time": "2021-11-13T19:52:12.379Z"
   },
   {
    "duration": 22,
    "start_time": "2021-11-13T19:52:17.342Z"
   },
   {
    "duration": 13,
    "start_time": "2021-11-13T20:01:09.368Z"
   },
   {
    "duration": 545,
    "start_time": "2021-11-13T20:01:49.931Z"
   },
   {
    "duration": 11,
    "start_time": "2021-11-13T20:02:26.055Z"
   },
   {
    "duration": 550,
    "start_time": "2021-11-13T20:02:27.367Z"
   },
   {
    "duration": 267,
    "start_time": "2021-11-13T20:02:39.738Z"
   },
   {
    "duration": 15,
    "start_time": "2021-11-13T20:02:49.866Z"
   },
   {
    "duration": 21,
    "start_time": "2021-11-13T20:02:52.807Z"
   },
   {
    "duration": 24,
    "start_time": "2021-11-13T20:02:58.746Z"
   },
   {
    "duration": 14,
    "start_time": "2021-11-13T20:03:03.991Z"
   },
   {
    "duration": 20,
    "start_time": "2021-11-13T20:03:05.047Z"
   },
   {
    "duration": 17,
    "start_time": "2021-11-13T20:03:11.978Z"
   },
   {
    "duration": 26,
    "start_time": "2021-11-13T20:03:14.043Z"
   },
   {
    "duration": 11,
    "start_time": "2021-11-13T20:03:39.313Z"
   },
   {
    "duration": 11,
    "start_time": "2021-11-13T20:03:42.681Z"
   },
   {
    "duration": 12,
    "start_time": "2021-11-13T20:03:44.349Z"
   },
   {
    "duration": 3,
    "start_time": "2021-11-13T20:03:58.246Z"
   },
   {
    "duration": 139,
    "start_time": "2021-11-13T20:03:58.250Z"
   },
   {
    "duration": 12,
    "start_time": "2021-11-13T20:03:58.391Z"
   },
   {
    "duration": 26,
    "start_time": "2021-11-13T20:03:58.405Z"
   },
   {
    "duration": 5,
    "start_time": "2021-11-13T20:03:58.433Z"
   },
   {
    "duration": 44,
    "start_time": "2021-11-13T20:03:58.439Z"
   },
   {
    "duration": 4,
    "start_time": "2021-11-13T20:03:58.485Z"
   },
   {
    "duration": 26,
    "start_time": "2021-11-13T20:03:58.491Z"
   },
   {
    "duration": 17,
    "start_time": "2021-11-13T20:03:58.520Z"
   },
   {
    "duration": 39,
    "start_time": "2021-11-13T20:03:58.539Z"
   },
   {
    "duration": 52,
    "start_time": "2021-11-13T20:03:58.580Z"
   },
   {
    "duration": 81,
    "start_time": "2021-11-13T20:03:58.634Z"
   },
   {
    "duration": 59,
    "start_time": "2021-11-13T20:03:58.717Z"
   },
   {
    "duration": 40,
    "start_time": "2021-11-13T20:03:58.778Z"
   },
   {
    "duration": 3,
    "start_time": "2021-11-13T20:03:58.819Z"
   },
   {
    "duration": 101,
    "start_time": "2021-11-13T20:03:58.823Z"
   },
   {
    "duration": 45,
    "start_time": "2021-11-13T20:03:58.926Z"
   },
   {
    "duration": 13,
    "start_time": "2021-11-13T20:03:58.973Z"
   },
   {
    "duration": 18,
    "start_time": "2021-11-13T20:03:58.988Z"
   },
   {
    "duration": 12,
    "start_time": "2021-11-13T20:03:59.008Z"
   },
   {
    "duration": 11,
    "start_time": "2021-11-13T20:03:59.022Z"
   },
   {
    "duration": 37,
    "start_time": "2021-11-13T20:03:59.035Z"
   },
   {
    "duration": 3,
    "start_time": "2021-11-13T20:03:59.074Z"
   },
   {
    "duration": 18,
    "start_time": "2021-11-13T20:03:59.079Z"
   },
   {
    "duration": 13,
    "start_time": "2021-11-13T20:03:59.098Z"
   },
   {
    "duration": 16,
    "start_time": "2021-11-13T20:03:59.113Z"
   },
   {
    "duration": 38,
    "start_time": "2021-11-13T20:03:59.133Z"
   },
   {
    "duration": 15,
    "start_time": "2021-11-13T20:03:59.173Z"
   },
   {
    "duration": 12,
    "start_time": "2021-11-13T20:03:59.190Z"
   },
   {
    "duration": 263,
    "start_time": "2021-11-13T20:03:59.203Z"
   },
   {
    "duration": 13,
    "start_time": "2021-11-13T20:03:59.467Z"
   },
   {
    "duration": 10,
    "start_time": "2021-11-13T20:03:59.481Z"
   },
   {
    "duration": 4,
    "start_time": "2021-11-13T20:03:59.493Z"
   },
   {
    "duration": 533,
    "start_time": "2021-11-13T20:03:59.498Z"
   },
   {
    "duration": 202,
    "start_time": "2021-11-13T20:03:59.831Z"
   },
   {
    "duration": 202,
    "start_time": "2021-11-13T20:03:59.832Z"
   },
   {
    "duration": 201,
    "start_time": "2021-11-13T20:03:59.834Z"
   },
   {
    "duration": 201,
    "start_time": "2021-11-13T20:03:59.835Z"
   },
   {
    "duration": 201,
    "start_time": "2021-11-13T20:03:59.836Z"
   },
   {
    "duration": 200,
    "start_time": "2021-11-13T20:03:59.838Z"
   },
   {
    "duration": 200,
    "start_time": "2021-11-13T20:03:59.839Z"
   },
   {
    "duration": 543,
    "start_time": "2021-11-13T20:04:26.333Z"
   },
   {
    "duration": 91,
    "start_time": "2021-11-13T20:05:27.209Z"
   },
   {
    "duration": 536,
    "start_time": "2021-11-13T20:05:31.254Z"
   },
   {
    "duration": 15,
    "start_time": "2021-11-13T20:06:24.401Z"
   },
   {
    "duration": 270,
    "start_time": "2021-11-13T20:06:25.277Z"
   },
   {
    "duration": 12,
    "start_time": "2021-11-13T20:07:42.813Z"
   },
   {
    "duration": 291,
    "start_time": "2021-11-13T20:07:43.701Z"
   },
   {
    "duration": 729,
    "start_time": "2021-11-13T20:07:57.027Z"
   },
   {
    "duration": 14,
    "start_time": "2021-11-13T20:12:46.703Z"
   },
   {
    "duration": 14,
    "start_time": "2021-11-13T20:12:51.518Z"
   },
   {
    "duration": 45,
    "start_time": "2021-11-13T20:13:13.229Z"
   },
   {
    "duration": 15,
    "start_time": "2021-11-13T20:13:14.271Z"
   },
   {
    "duration": 14,
    "start_time": "2021-11-13T20:15:35.572Z"
   },
   {
    "duration": 3,
    "start_time": "2021-11-13T20:16:39.597Z"
   },
   {
    "duration": 154,
    "start_time": "2021-11-13T20:16:39.602Z"
   },
   {
    "duration": 11,
    "start_time": "2021-11-13T20:16:39.758Z"
   },
   {
    "duration": 26,
    "start_time": "2021-11-13T20:16:39.771Z"
   },
   {
    "duration": 4,
    "start_time": "2021-11-13T20:16:39.799Z"
   },
   {
    "duration": 20,
    "start_time": "2021-11-13T20:16:39.805Z"
   },
   {
    "duration": 4,
    "start_time": "2021-11-13T20:16:39.827Z"
   },
   {
    "duration": 42,
    "start_time": "2021-11-13T20:16:39.832Z"
   },
   {
    "duration": 18,
    "start_time": "2021-11-13T20:16:39.878Z"
   },
   {
    "duration": 27,
    "start_time": "2021-11-13T20:16:39.898Z"
   },
   {
    "duration": 81,
    "start_time": "2021-11-13T20:16:39.927Z"
   },
   {
    "duration": 76,
    "start_time": "2021-11-13T20:16:40.010Z"
   },
   {
    "duration": 54,
    "start_time": "2021-11-13T20:16:40.088Z"
   },
   {
    "duration": 50,
    "start_time": "2021-11-13T20:16:40.143Z"
   },
   {
    "duration": 3,
    "start_time": "2021-11-13T20:16:40.194Z"
   },
   {
    "duration": 98,
    "start_time": "2021-11-13T20:16:40.199Z"
   },
   {
    "duration": 39,
    "start_time": "2021-11-13T20:16:40.299Z"
   },
   {
    "duration": 25,
    "start_time": "2021-11-13T20:16:40.340Z"
   },
   {
    "duration": 21,
    "start_time": "2021-11-13T20:16:40.367Z"
   },
   {
    "duration": 14,
    "start_time": "2021-11-13T20:16:40.389Z"
   },
   {
    "duration": 11,
    "start_time": "2021-11-13T20:16:40.405Z"
   },
   {
    "duration": 10,
    "start_time": "2021-11-13T20:16:40.418Z"
   },
   {
    "duration": 3,
    "start_time": "2021-11-13T20:16:40.430Z"
   },
   {
    "duration": 41,
    "start_time": "2021-11-13T20:16:40.434Z"
   },
   {
    "duration": 13,
    "start_time": "2021-11-13T20:16:40.477Z"
   },
   {
    "duration": 17,
    "start_time": "2021-11-13T20:16:40.492Z"
   },
   {
    "duration": 15,
    "start_time": "2021-11-13T20:16:40.513Z"
   },
   {
    "duration": 41,
    "start_time": "2021-11-13T20:16:40.530Z"
   },
   {
    "duration": 13,
    "start_time": "2021-11-13T20:16:40.573Z"
   },
   {
    "duration": 264,
    "start_time": "2021-11-13T20:16:40.588Z"
   },
   {
    "duration": 18,
    "start_time": "2021-11-13T20:16:40.854Z"
   },
   {
    "duration": 11,
    "start_time": "2021-11-13T20:16:40.873Z"
   },
   {
    "duration": 3,
    "start_time": "2021-11-13T20:16:40.886Z"
   },
   {
    "duration": 544,
    "start_time": "2021-11-13T20:16:40.891Z"
   },
   {
    "duration": 228,
    "start_time": "2021-11-13T20:16:41.209Z"
   },
   {
    "duration": 226,
    "start_time": "2021-11-13T20:16:41.212Z"
   },
   {
    "duration": 226,
    "start_time": "2021-11-13T20:16:41.213Z"
   },
   {
    "duration": 225,
    "start_time": "2021-11-13T20:16:41.215Z"
   },
   {
    "duration": 225,
    "start_time": "2021-11-13T20:16:41.216Z"
   },
   {
    "duration": 225,
    "start_time": "2021-11-13T20:16:41.217Z"
   },
   {
    "duration": 225,
    "start_time": "2021-11-13T20:16:41.218Z"
   },
   {
    "duration": 661,
    "start_time": "2021-11-13T20:16:58.025Z"
   },
   {
    "duration": 1091,
    "start_time": "2021-11-13T20:17:21.346Z"
   },
   {
    "duration": 3,
    "start_time": "2021-11-13T20:18:14.954Z"
   },
   {
    "duration": 13,
    "start_time": "2021-11-13T20:19:03.421Z"
   },
   {
    "duration": 16,
    "start_time": "2021-11-13T20:19:42.095Z"
   },
   {
    "duration": 13,
    "start_time": "2021-11-13T20:19:54.447Z"
   },
   {
    "duration": 451,
    "start_time": "2021-11-13T20:23:26.109Z"
   },
   {
    "duration": 12,
    "start_time": "2021-11-13T20:23:31.938Z"
   },
   {
    "duration": 1057,
    "start_time": "2021-11-13T20:23:55.150Z"
   },
   {
    "duration": 90,
    "start_time": "2021-11-13T20:23:58.173Z"
   },
   {
    "duration": 13,
    "start_time": "2021-11-13T20:25:41.045Z"
   },
   {
    "duration": 31,
    "start_time": "2021-11-13T20:25:42.157Z"
   },
   {
    "duration": 740,
    "start_time": "2021-11-13T20:25:43.503Z"
   },
   {
    "duration": 3,
    "start_time": "2021-11-13T20:25:50.243Z"
   },
   {
    "duration": 147,
    "start_time": "2021-11-13T20:25:50.248Z"
   },
   {
    "duration": 10,
    "start_time": "2021-11-13T20:25:50.397Z"
   },
   {
    "duration": 26,
    "start_time": "2021-11-13T20:25:50.409Z"
   },
   {
    "duration": 5,
    "start_time": "2021-11-13T20:25:50.437Z"
   },
   {
    "duration": 36,
    "start_time": "2021-11-13T20:25:50.443Z"
   },
   {
    "duration": 4,
    "start_time": "2021-11-13T20:25:50.480Z"
   },
   {
    "duration": 26,
    "start_time": "2021-11-13T20:25:50.486Z"
   },
   {
    "duration": 17,
    "start_time": "2021-11-13T20:25:50.515Z"
   },
   {
    "duration": 42,
    "start_time": "2021-11-13T20:25:50.534Z"
   },
   {
    "duration": 58,
    "start_time": "2021-11-13T20:25:50.577Z"
   },
   {
    "duration": 77,
    "start_time": "2021-11-13T20:25:50.636Z"
   },
   {
    "duration": 65,
    "start_time": "2021-11-13T20:25:50.715Z"
   },
   {
    "duration": 38,
    "start_time": "2021-11-13T20:25:50.782Z"
   },
   {
    "duration": 4,
    "start_time": "2021-11-13T20:25:50.821Z"
   },
   {
    "duration": 101,
    "start_time": "2021-11-13T20:25:50.826Z"
   },
   {
    "duration": 40,
    "start_time": "2021-11-13T20:25:50.928Z"
   },
   {
    "duration": 14,
    "start_time": "2021-11-13T20:25:50.970Z"
   },
   {
    "duration": 21,
    "start_time": "2021-11-13T20:25:50.986Z"
   },
   {
    "duration": 950,
    "start_time": "2021-11-13T20:25:51.009Z"
   },
   {
    "duration": 13,
    "start_time": "2021-11-13T20:25:51.961Z"
   },
   {
    "duration": 29,
    "start_time": "2021-11-13T20:25:51.976Z"
   },
   {
    "duration": 10,
    "start_time": "2021-11-13T20:25:52.007Z"
   },
   {
    "duration": 3,
    "start_time": "2021-11-13T20:25:52.018Z"
   },
   {
    "duration": 42,
    "start_time": "2021-11-13T20:25:52.023Z"
   },
   {
    "duration": 14,
    "start_time": "2021-11-13T20:25:52.067Z"
   },
   {
    "duration": 14,
    "start_time": "2021-11-13T20:25:52.084Z"
   },
   {
    "duration": 13,
    "start_time": "2021-11-13T20:25:52.100Z"
   },
   {
    "duration": 15,
    "start_time": "2021-11-13T20:25:52.114Z"
   },
   {
    "duration": 42,
    "start_time": "2021-11-13T20:25:52.130Z"
   },
   {
    "duration": 244,
    "start_time": "2021-11-13T20:25:52.174Z"
   },
   {
    "duration": 13,
    "start_time": "2021-11-13T20:25:52.420Z"
   },
   {
    "duration": 10,
    "start_time": "2021-11-13T20:25:52.434Z"
   },
   {
    "duration": 17,
    "start_time": "2021-11-13T20:25:52.446Z"
   },
   {
    "duration": 18,
    "start_time": "2021-11-13T20:25:52.464Z"
   },
   {
    "duration": 18,
    "start_time": "2021-11-13T20:25:52.483Z"
   },
   {
    "duration": 17,
    "start_time": "2021-11-13T20:25:52.503Z"
   },
   {
    "duration": 12,
    "start_time": "2021-11-13T20:25:52.521Z"
   },
   {
    "duration": 32,
    "start_time": "2021-11-13T20:25:52.535Z"
   },
   {
    "duration": 4,
    "start_time": "2021-11-13T20:25:52.569Z"
   },
   {
    "duration": 8,
    "start_time": "2021-11-13T20:25:52.574Z"
   },
   {
    "duration": 13,
    "start_time": "2021-11-13T20:25:52.583Z"
   },
   {
    "duration": 3,
    "start_time": "2021-11-13T20:28:46.869Z"
   },
   {
    "duration": 156,
    "start_time": "2021-11-13T20:28:46.874Z"
   },
   {
    "duration": 12,
    "start_time": "2021-11-13T20:28:47.032Z"
   },
   {
    "duration": 42,
    "start_time": "2021-11-13T20:28:47.046Z"
   },
   {
    "duration": 12,
    "start_time": "2021-11-13T20:28:47.091Z"
   },
   {
    "duration": 27,
    "start_time": "2021-11-13T20:28:47.104Z"
   },
   {
    "duration": 4,
    "start_time": "2021-11-13T20:28:47.133Z"
   },
   {
    "duration": 34,
    "start_time": "2021-11-13T20:28:47.140Z"
   },
   {
    "duration": 22,
    "start_time": "2021-11-13T20:28:47.177Z"
   },
   {
    "duration": 26,
    "start_time": "2021-11-13T20:28:47.201Z"
   },
   {
    "duration": 72,
    "start_time": "2021-11-13T20:28:47.229Z"
   },
   {
    "duration": 80,
    "start_time": "2021-11-13T20:28:47.303Z"
   },
   {
    "duration": 52,
    "start_time": "2021-11-13T20:28:47.385Z"
   },
   {
    "duration": 53,
    "start_time": "2021-11-13T20:28:47.439Z"
   },
   {
    "duration": 3,
    "start_time": "2021-11-13T20:28:47.493Z"
   },
   {
    "duration": 101,
    "start_time": "2021-11-13T20:28:47.498Z"
   },
   {
    "duration": 40,
    "start_time": "2021-11-13T20:28:47.600Z"
   },
   {
    "duration": 25,
    "start_time": "2021-11-13T20:28:47.642Z"
   },
   {
    "duration": 19,
    "start_time": "2021-11-13T20:28:47.669Z"
   },
   {
    "duration": 951,
    "start_time": "2021-11-13T20:28:47.690Z"
   },
   {
    "duration": 22,
    "start_time": "2021-11-13T20:28:48.642Z"
   },
   {
    "duration": 29,
    "start_time": "2021-11-13T20:28:48.666Z"
   },
   {
    "duration": 11,
    "start_time": "2021-11-13T20:28:48.698Z"
   },
   {
    "duration": 3,
    "start_time": "2021-11-13T20:28:48.711Z"
   },
   {
    "duration": 19,
    "start_time": "2021-11-13T20:28:48.715Z"
   },
   {
    "duration": 35,
    "start_time": "2021-11-13T20:28:48.736Z"
   },
   {
    "duration": 13,
    "start_time": "2021-11-13T20:28:48.773Z"
   },
   {
    "duration": 13,
    "start_time": "2021-11-13T20:28:48.788Z"
   },
   {
    "duration": 16,
    "start_time": "2021-11-13T20:28:48.802Z"
   },
   {
    "duration": 12,
    "start_time": "2021-11-13T20:28:48.820Z"
   },
   {
    "duration": 247,
    "start_time": "2021-11-13T20:28:48.864Z"
   },
   {
    "duration": 13,
    "start_time": "2021-11-13T20:28:49.113Z"
   },
   {
    "duration": 10,
    "start_time": "2021-11-13T20:28:49.128Z"
   },
   {
    "duration": 4,
    "start_time": "2021-11-13T20:28:49.139Z"
   },
   {
    "duration": 36,
    "start_time": "2021-11-13T20:28:49.144Z"
   },
   {
    "duration": 13,
    "start_time": "2021-11-13T20:28:49.182Z"
   },
   {
    "duration": 18,
    "start_time": "2021-11-13T20:28:49.197Z"
   },
   {
    "duration": 12,
    "start_time": "2021-11-13T20:28:49.217Z"
   },
   {
    "duration": 37,
    "start_time": "2021-11-13T20:28:49.231Z"
   },
   {
    "duration": 6,
    "start_time": "2021-11-13T20:28:49.270Z"
   },
   {
    "duration": 8,
    "start_time": "2021-11-13T20:28:49.278Z"
   },
   {
    "duration": 6,
    "start_time": "2021-11-13T20:28:49.288Z"
   },
   {
    "duration": 11,
    "start_time": "2021-11-13T20:31:32.947Z"
   },
   {
    "duration": 13,
    "start_time": "2021-11-13T20:32:05.139Z"
   },
   {
    "duration": 13,
    "start_time": "2021-11-13T20:32:51.502Z"
   },
   {
    "duration": 286,
    "start_time": "2021-11-13T20:44:26.513Z"
   },
   {
    "duration": 238,
    "start_time": "2021-11-13T20:44:34.738Z"
   },
   {
    "duration": 240,
    "start_time": "2021-11-13T20:46:00.202Z"
   },
   {
    "duration": 85,
    "start_time": "2021-11-13T20:46:19.387Z"
   },
   {
    "duration": 117,
    "start_time": "2021-11-13T20:46:27.411Z"
   },
   {
    "duration": 235,
    "start_time": "2021-11-13T20:46:30.335Z"
   },
   {
    "duration": 493,
    "start_time": "2021-11-13T20:47:03.898Z"
   },
   {
    "duration": 698,
    "start_time": "2021-11-13T20:47:12.315Z"
   },
   {
    "duration": 245,
    "start_time": "2021-11-13T20:47:32.359Z"
   },
   {
    "duration": 230,
    "start_time": "2021-11-13T20:49:19.876Z"
   },
   {
    "duration": 229,
    "start_time": "2021-11-13T20:50:49.783Z"
   },
   {
    "duration": 2,
    "start_time": "2021-11-13T20:50:51.332Z"
   },
   {
    "duration": 8,
    "start_time": "2021-11-13T20:51:14.009Z"
   },
   {
    "duration": 382,
    "start_time": "2021-11-13T20:57:41.130Z"
   },
   {
    "duration": 757,
    "start_time": "2021-11-13T20:58:59.697Z"
   },
   {
    "duration": 496,
    "start_time": "2021-11-13T20:59:11.177Z"
   },
   {
    "duration": 354,
    "start_time": "2021-11-13T20:59:19.004Z"
   },
   {
    "duration": 242,
    "start_time": "2021-11-13T20:59:26.477Z"
   },
   {
    "duration": 191,
    "start_time": "2021-11-13T20:59:34.816Z"
   },
   {
    "duration": 336,
    "start_time": "2021-11-13T21:00:11.009Z"
   },
   {
    "duration": 209,
    "start_time": "2021-11-13T21:00:15.804Z"
   },
   {
    "duration": 458,
    "start_time": "2021-11-13T21:00:57.119Z"
   },
   {
    "duration": 311,
    "start_time": "2021-11-13T21:03:12.640Z"
   },
   {
    "duration": 153,
    "start_time": "2021-11-13T21:04:46.433Z"
   },
   {
    "duration": 417,
    "start_time": "2021-11-13T21:12:53.053Z"
   },
   {
    "duration": 298,
    "start_time": "2021-11-13T21:13:19.752Z"
   },
   {
    "duration": 279,
    "start_time": "2021-11-13T21:13:53.438Z"
   },
   {
    "duration": 359,
    "start_time": "2021-11-13T21:14:46.611Z"
   },
   {
    "duration": 434,
    "start_time": "2021-11-13T21:18:08.969Z"
   },
   {
    "duration": 176,
    "start_time": "2021-11-13T21:19:32.557Z"
   },
   {
    "duration": 283,
    "start_time": "2021-11-13T21:19:55.967Z"
   },
   {
    "duration": 167,
    "start_time": "2021-11-13T21:21:07.878Z"
   },
   {
    "duration": 283,
    "start_time": "2021-11-13T21:21:14.632Z"
   },
   {
    "duration": 282,
    "start_time": "2021-11-13T21:22:49.592Z"
   },
   {
    "duration": 267,
    "start_time": "2021-11-13T21:22:52.293Z"
   },
   {
    "duration": 370,
    "start_time": "2021-11-13T21:22:56.063Z"
   },
   {
    "duration": 320,
    "start_time": "2021-11-13T21:23:05.615Z"
   },
   {
    "duration": 281,
    "start_time": "2021-11-13T21:23:41.198Z"
   },
   {
    "duration": 339,
    "start_time": "2021-11-13T21:24:20.871Z"
   },
   {
    "duration": 271,
    "start_time": "2021-11-13T21:24:47.299Z"
   },
   {
    "duration": 262,
    "start_time": "2021-11-13T21:25:01.915Z"
   },
   {
    "duration": 258,
    "start_time": "2021-11-13T21:25:06.935Z"
   },
   {
    "duration": 310,
    "start_time": "2021-11-13T21:25:16.828Z"
   },
   {
    "duration": 4,
    "start_time": "2021-11-13T21:26:10.513Z"
   },
   {
    "duration": 252,
    "start_time": "2021-11-13T21:27:13.851Z"
   },
   {
    "duration": 277,
    "start_time": "2021-11-13T21:27:21.067Z"
   },
   {
    "duration": 4,
    "start_time": "2021-11-13T21:27:52.148Z"
   },
   {
    "duration": 4,
    "start_time": "2021-11-13T21:28:03.724Z"
   },
   {
    "duration": 4,
    "start_time": "2021-11-13T21:28:22.147Z"
   },
   {
    "duration": 319,
    "start_time": "2021-11-13T21:28:51.915Z"
   },
   {
    "duration": 5,
    "start_time": "2021-11-13T21:29:01.575Z"
   },
   {
    "duration": 5,
    "start_time": "2021-11-13T21:29:06.246Z"
   },
   {
    "duration": 4,
    "start_time": "2021-11-13T21:29:16.974Z"
   },
   {
    "duration": 4,
    "start_time": "2021-11-13T21:29:31.338Z"
   },
   {
    "duration": 310,
    "start_time": "2021-11-13T21:29:58.685Z"
   },
   {
    "duration": 6,
    "start_time": "2021-11-13T21:30:18.685Z"
   },
   {
    "duration": 192,
    "start_time": "2021-11-13T21:32:35.975Z"
   },
   {
    "duration": 175,
    "start_time": "2021-11-13T21:33:28.742Z"
   },
   {
    "duration": 303,
    "start_time": "2021-11-13T21:34:20.320Z"
   },
   {
    "duration": 286,
    "start_time": "2021-11-13T21:35:10.767Z"
   },
   {
    "duration": 355,
    "start_time": "2021-11-13T21:35:14.706Z"
   },
   {
    "duration": 2,
    "start_time": "2021-11-13T21:35:27.892Z"
   },
   {
    "duration": 4,
    "start_time": "2021-11-13T21:35:32.240Z"
   },
   {
    "duration": 307,
    "start_time": "2021-11-13T21:35:45.652Z"
   },
   {
    "duration": 181,
    "start_time": "2021-11-13T21:41:50.951Z"
   },
   {
    "duration": 182,
    "start_time": "2021-11-13T21:43:06.230Z"
   },
   {
    "duration": 181,
    "start_time": "2021-11-13T21:43:16.165Z"
   },
   {
    "duration": 196,
    "start_time": "2021-11-13T21:43:58.370Z"
   },
   {
    "duration": 30,
    "start_time": "2021-11-13T21:44:04.499Z"
   },
   {
    "duration": 3,
    "start_time": "2021-11-13T22:01:24.344Z"
   },
   {
    "duration": 153,
    "start_time": "2021-11-13T22:01:24.349Z"
   },
   {
    "duration": 12,
    "start_time": "2021-11-13T22:01:24.504Z"
   },
   {
    "duration": 26,
    "start_time": "2021-11-13T22:01:24.518Z"
   },
   {
    "duration": 4,
    "start_time": "2021-11-13T22:01:24.563Z"
   },
   {
    "duration": 26,
    "start_time": "2021-11-13T22:01:24.569Z"
   },
   {
    "duration": 4,
    "start_time": "2021-11-13T22:01:24.597Z"
   },
   {
    "duration": 25,
    "start_time": "2021-11-13T22:01:24.603Z"
   },
   {
    "duration": 32,
    "start_time": "2021-11-13T22:01:24.631Z"
   },
   {
    "duration": 22,
    "start_time": "2021-11-13T22:01:24.666Z"
   },
   {
    "duration": 65,
    "start_time": "2021-11-13T22:01:24.690Z"
   },
   {
    "duration": 61,
    "start_time": "2021-11-13T22:01:24.763Z"
   },
   {
    "duration": 65,
    "start_time": "2021-11-13T22:01:24.826Z"
   },
   {
    "duration": 38,
    "start_time": "2021-11-13T22:01:24.893Z"
   },
   {
    "duration": 3,
    "start_time": "2021-11-13T22:01:24.932Z"
   },
   {
    "duration": 95,
    "start_time": "2021-11-13T22:01:24.937Z"
   },
   {
    "duration": 42,
    "start_time": "2021-11-13T22:01:25.034Z"
   },
   {
    "duration": 13,
    "start_time": "2021-11-13T22:01:25.078Z"
   },
   {
    "duration": 26,
    "start_time": "2021-11-13T22:01:25.093Z"
   },
   {
    "duration": 1049,
    "start_time": "2021-11-13T22:01:25.120Z"
   },
   {
    "duration": 13,
    "start_time": "2021-11-13T22:01:26.170Z"
   },
   {
    "duration": 27,
    "start_time": "2021-11-13T22:01:26.184Z"
   },
   {
    "duration": 10,
    "start_time": "2021-11-13T22:01:26.213Z"
   },
   {
    "duration": 3,
    "start_time": "2021-11-13T22:01:26.225Z"
   },
   {
    "duration": 39,
    "start_time": "2021-11-13T22:01:26.229Z"
   },
   {
    "duration": 11,
    "start_time": "2021-11-13T22:01:26.270Z"
   },
   {
    "duration": 16,
    "start_time": "2021-11-13T22:01:26.285Z"
   },
   {
    "duration": 16,
    "start_time": "2021-11-13T22:01:26.303Z"
   },
   {
    "duration": 19,
    "start_time": "2021-11-13T22:01:26.321Z"
   },
   {
    "duration": 34,
    "start_time": "2021-11-13T22:01:26.341Z"
   },
   {
    "duration": 5,
    "start_time": "2021-11-13T22:01:26.377Z"
   },
   {
    "duration": 259,
    "start_time": "2021-11-13T22:01:26.384Z"
   },
   {
    "duration": 3,
    "start_time": "2021-11-13T22:01:26.645Z"
   },
   {
    "duration": 25,
    "start_time": "2021-11-13T22:01:26.650Z"
   },
   {
    "duration": 10,
    "start_time": "2021-11-13T22:01:26.677Z"
   },
   {
    "duration": 8,
    "start_time": "2021-11-13T22:01:26.689Z"
   },
   {
    "duration": 26,
    "start_time": "2021-11-13T22:01:26.698Z"
   },
   {
    "duration": 15,
    "start_time": "2021-11-13T22:01:26.725Z"
   },
   {
    "duration": 32,
    "start_time": "2021-11-13T22:01:26.742Z"
   },
   {
    "duration": 13,
    "start_time": "2021-11-13T22:01:26.776Z"
   },
   {
    "duration": 8,
    "start_time": "2021-11-13T22:01:26.790Z"
   },
   {
    "duration": 8,
    "start_time": "2021-11-13T22:01:26.799Z"
   },
   {
    "duration": 13,
    "start_time": "2021-11-13T22:01:26.808Z"
   },
   {
    "duration": 6,
    "start_time": "2021-11-13T22:01:26.823Z"
   },
   {
    "duration": 319,
    "start_time": "2021-11-13T22:01:39.973Z"
   },
   {
    "duration": 226,
    "start_time": "2021-11-13T22:01:58.940Z"
   },
   {
    "duration": 234,
    "start_time": "2021-11-13T22:02:08.270Z"
   },
   {
    "duration": 1484,
    "start_time": "2021-11-14T05:36:58.000Z"
   },
   {
    "duration": 200,
    "start_time": "2021-11-14T05:36:59.487Z"
   },
   {
    "duration": 20,
    "start_time": "2021-11-14T05:36:59.690Z"
   },
   {
    "duration": 51,
    "start_time": "2021-11-14T05:36:59.712Z"
   },
   {
    "duration": 7,
    "start_time": "2021-11-14T05:36:59.766Z"
   },
   {
    "duration": 28,
    "start_time": "2021-11-14T05:36:59.775Z"
   },
   {
    "duration": 5,
    "start_time": "2021-11-14T05:36:59.805Z"
   },
   {
    "duration": 65,
    "start_time": "2021-11-14T05:36:59.813Z"
   },
   {
    "duration": 23,
    "start_time": "2021-11-14T05:36:59.881Z"
   },
   {
    "duration": 28,
    "start_time": "2021-11-14T05:36:59.907Z"
   },
   {
    "duration": 92,
    "start_time": "2021-11-14T05:36:59.969Z"
   },
   {
    "duration": 125,
    "start_time": "2021-11-14T05:37:00.064Z"
   },
   {
    "duration": 89,
    "start_time": "2021-11-14T05:37:00.192Z"
   },
   {
    "duration": 58,
    "start_time": "2021-11-14T05:37:00.283Z"
   },
   {
    "duration": 18,
    "start_time": "2021-11-14T05:37:00.343Z"
   },
   {
    "duration": 183,
    "start_time": "2021-11-14T05:37:00.364Z"
   },
   {
    "duration": 66,
    "start_time": "2021-11-14T05:37:00.549Z"
   },
   {
    "duration": 20,
    "start_time": "2021-11-14T05:37:00.617Z"
   },
   {
    "duration": 24,
    "start_time": "2021-11-14T05:37:00.661Z"
   },
   {
    "duration": 1997,
    "start_time": "2021-11-14T05:37:00.688Z"
   },
   {
    "duration": 21,
    "start_time": "2021-11-14T05:37:02.687Z"
   },
   {
    "duration": 28,
    "start_time": "2021-11-14T05:37:02.710Z"
   },
   {
    "duration": 15,
    "start_time": "2021-11-14T05:37:02.771Z"
   },
   {
    "duration": 5,
    "start_time": "2021-11-14T05:37:02.789Z"
   },
   {
    "duration": 35,
    "start_time": "2021-11-14T05:37:02.796Z"
   },
   {
    "duration": 31,
    "start_time": "2021-11-14T05:37:02.833Z"
   },
   {
    "duration": 19,
    "start_time": "2021-11-14T05:37:02.867Z"
   },
   {
    "duration": 19,
    "start_time": "2021-11-14T05:37:02.888Z"
   },
   {
    "duration": 17,
    "start_time": "2021-11-14T05:37:02.909Z"
   },
   {
    "duration": 22,
    "start_time": "2021-11-14T05:37:02.964Z"
   },
   {
    "duration": 4,
    "start_time": "2021-11-14T05:37:02.988Z"
   },
   {
    "duration": 436,
    "start_time": "2021-11-14T05:37:02.994Z"
   },
   {
    "duration": 34,
    "start_time": "2021-11-14T05:37:03.432Z"
   },
   {
    "duration": 13,
    "start_time": "2021-11-14T05:37:03.470Z"
   },
   {
    "duration": 5,
    "start_time": "2021-11-14T05:37:03.486Z"
   },
   {
    "duration": 28,
    "start_time": "2021-11-14T05:37:03.493Z"
   },
   {
    "duration": 48,
    "start_time": "2021-11-14T05:37:03.524Z"
   },
   {
    "duration": 26,
    "start_time": "2021-11-14T05:37:03.575Z"
   },
   {
    "duration": 17,
    "start_time": "2021-11-14T05:37:03.604Z"
   },
   {
    "duration": 45,
    "start_time": "2021-11-14T05:37:03.623Z"
   },
   {
    "duration": 10,
    "start_time": "2021-11-14T05:37:03.672Z"
   },
   {
    "duration": 16,
    "start_time": "2021-11-14T05:37:03.684Z"
   },
   {
    "duration": 6,
    "start_time": "2021-11-14T05:37:03.702Z"
   },
   {
    "duration": 1547,
    "start_time": "2021-11-14T05:38:31.234Z"
   },
   {
    "duration": 407,
    "start_time": "2021-11-14T05:54:14.887Z"
   },
   {
    "duration": 493,
    "start_time": "2021-11-14T05:54:28.406Z"
   },
   {
    "duration": 402,
    "start_time": "2021-11-14T05:54:34.897Z"
   },
   {
    "duration": 917,
    "start_time": "2021-11-14T05:55:09.273Z"
   },
   {
    "duration": 1500,
    "start_time": "2021-11-14T11:59:24.896Z"
   },
   {
    "duration": 172,
    "start_time": "2021-11-14T11:59:26.398Z"
   },
   {
    "duration": 20,
    "start_time": "2021-11-14T11:59:26.574Z"
   },
   {
    "duration": 43,
    "start_time": "2021-11-14T11:59:26.597Z"
   },
   {
    "duration": 6,
    "start_time": "2021-11-14T11:59:26.643Z"
   },
   {
    "duration": 26,
    "start_time": "2021-11-14T11:59:26.652Z"
   },
   {
    "duration": 10,
    "start_time": "2021-11-14T11:59:26.681Z"
   },
   {
    "duration": 66,
    "start_time": "2021-11-14T11:59:26.694Z"
   },
   {
    "duration": 22,
    "start_time": "2021-11-14T11:59:26.763Z"
   },
   {
    "duration": 58,
    "start_time": "2021-11-14T11:59:26.788Z"
   },
   {
    "duration": 105,
    "start_time": "2021-11-14T11:59:26.848Z"
   },
   {
    "duration": 105,
    "start_time": "2021-11-14T11:59:26.955Z"
   },
   {
    "duration": 84,
    "start_time": "2021-11-14T11:59:27.063Z"
   },
   {
    "duration": 57,
    "start_time": "2021-11-14T11:59:27.149Z"
   },
   {
    "duration": 20,
    "start_time": "2021-11-14T11:59:27.209Z"
   },
   {
    "duration": 164,
    "start_time": "2021-11-14T11:59:27.231Z"
   },
   {
    "duration": 69,
    "start_time": "2021-11-14T11:59:27.397Z"
   },
   {
    "duration": 19,
    "start_time": "2021-11-14T11:59:27.468Z"
   },
   {
    "duration": 40,
    "start_time": "2021-11-14T11:59:27.489Z"
   },
   {
    "duration": 1744,
    "start_time": "2021-11-14T11:59:27.531Z"
   },
   {
    "duration": 22,
    "start_time": "2021-11-14T11:59:29.277Z"
   },
   {
    "duration": 56,
    "start_time": "2021-11-14T11:59:29.302Z"
   },
   {
    "duration": 14,
    "start_time": "2021-11-14T11:59:29.365Z"
   },
   {
    "duration": 4,
    "start_time": "2021-11-14T11:59:29.382Z"
   },
   {
    "duration": 46,
    "start_time": "2021-11-14T11:59:29.389Z"
   },
   {
    "duration": 17,
    "start_time": "2021-11-14T11:59:29.438Z"
   },
   {
    "duration": 19,
    "start_time": "2021-11-14T11:59:29.457Z"
   },
   {
    "duration": 16,
    "start_time": "2021-11-14T11:59:29.479Z"
   },
   {
    "duration": 17,
    "start_time": "2021-11-14T11:59:29.529Z"
   },
   {
    "duration": 20,
    "start_time": "2021-11-14T11:59:29.549Z"
   },
   {
    "duration": 3,
    "start_time": "2021-11-14T11:59:29.572Z"
   },
   {
    "duration": 816,
    "start_time": "2021-11-14T11:59:29.577Z"
   },
   {
    "duration": -617,
    "start_time": "2021-11-14T11:59:31.013Z"
   },
   {
    "duration": -621,
    "start_time": "2021-11-14T11:59:31.018Z"
   },
   {
    "duration": -621,
    "start_time": "2021-11-14T11:59:31.019Z"
   },
   {
    "duration": -622,
    "start_time": "2021-11-14T11:59:31.021Z"
   },
   {
    "duration": -705,
    "start_time": "2021-11-14T11:59:31.105Z"
   },
   {
    "duration": -704,
    "start_time": "2021-11-14T11:59:31.106Z"
   },
   {
    "duration": -705,
    "start_time": "2021-11-14T11:59:31.108Z"
   },
   {
    "duration": -705,
    "start_time": "2021-11-14T11:59:31.109Z"
   },
   {
    "duration": -706,
    "start_time": "2021-11-14T11:59:31.111Z"
   },
   {
    "duration": -705,
    "start_time": "2021-11-14T11:59:31.112Z"
   },
   {
    "duration": -706,
    "start_time": "2021-11-14T11:59:31.114Z"
   },
   {
    "duration": 110,
    "start_time": "2021-11-14T11:59:53.993Z"
   },
   {
    "duration": 8342,
    "start_time": "2021-11-14T12:00:27.349Z"
   },
   {
    "duration": 567,
    "start_time": "2021-11-14T12:00:56.900Z"
   },
   {
    "duration": 112,
    "start_time": "2021-11-14T12:01:34.878Z"
   },
   {
    "duration": 285,
    "start_time": "2021-11-14T12:01:39.605Z"
   },
   {
    "duration": 295,
    "start_time": "2021-11-14T12:01:44.527Z"
   },
   {
    "duration": 303,
    "start_time": "2021-11-14T12:02:28.775Z"
   },
   {
    "duration": 383,
    "start_time": "2021-11-14T12:02:36.708Z"
   },
   {
    "duration": 301,
    "start_time": "2021-11-14T12:02:41.751Z"
   },
   {
    "duration": 316,
    "start_time": "2021-11-14T12:04:01.519Z"
   },
   {
    "duration": 347,
    "start_time": "2021-11-14T12:05:16.585Z"
   },
   {
    "duration": 343,
    "start_time": "2021-11-14T12:05:25.452Z"
   },
   {
    "duration": 115,
    "start_time": "2021-11-14T12:05:46.257Z"
   },
   {
    "duration": 292,
    "start_time": "2021-11-14T12:05:49.950Z"
   },
   {
    "duration": 305,
    "start_time": "2021-11-14T12:05:55.172Z"
   },
   {
    "duration": 8,
    "start_time": "2021-11-14T12:12:06.374Z"
   },
   {
    "duration": 7,
    "start_time": "2021-11-14T12:12:25.451Z"
   },
   {
    "duration": 7,
    "start_time": "2021-11-14T12:12:29.503Z"
   },
   {
    "duration": 20,
    "start_time": "2021-11-14T12:15:04.040Z"
   },
   {
    "duration": 26,
    "start_time": "2021-11-14T12:15:10.233Z"
   },
   {
    "duration": 8,
    "start_time": "2021-11-14T12:15:39.335Z"
   },
   {
    "duration": 9,
    "start_time": "2021-11-14T12:15:45.153Z"
   },
   {
    "duration": 19,
    "start_time": "2021-11-14T12:16:06.993Z"
   },
   {
    "duration": 19,
    "start_time": "2021-11-14T12:16:19.330Z"
   },
   {
    "duration": 26,
    "start_time": "2021-11-14T12:16:21.402Z"
   },
   {
    "duration": 10,
    "start_time": "2021-11-14T12:17:39.966Z"
   },
   {
    "duration": 10,
    "start_time": "2021-11-14T12:18:18.629Z"
   },
   {
    "duration": 25,
    "start_time": "2021-11-14T12:18:28.950Z"
   },
   {
    "duration": 12,
    "start_time": "2021-11-14T12:19:28.842Z"
   },
   {
    "duration": 17,
    "start_time": "2021-11-14T12:19:37.748Z"
   },
   {
    "duration": 8,
    "start_time": "2021-11-14T12:20:02.965Z"
   },
   {
    "duration": 7,
    "start_time": "2021-11-14T12:20:08.824Z"
   },
   {
    "duration": 8153,
    "start_time": "2021-11-14T12:20:12.159Z"
   },
   {
    "duration": 316,
    "start_time": "2021-11-14T12:20:44.972Z"
   },
   {
    "duration": 281,
    "start_time": "2021-11-14T12:20:48.520Z"
   },
   {
    "duration": 319,
    "start_time": "2021-11-14T12:21:02.957Z"
   },
   {
    "duration": 45,
    "start_time": "2021-11-14T12:23:12.120Z"
   },
   {
    "duration": 14,
    "start_time": "2021-11-14T12:24:39.289Z"
   },
   {
    "duration": 324,
    "start_time": "2021-11-14T12:26:35.855Z"
   },
   {
    "duration": 303,
    "start_time": "2021-11-14T12:26:40.488Z"
   },
   {
    "duration": 14,
    "start_time": "2021-11-14T12:26:44.845Z"
   },
   {
    "duration": 17,
    "start_time": "2021-11-14T12:26:58.033Z"
   },
   {
    "duration": 13,
    "start_time": "2021-11-14T12:27:05.223Z"
   },
   {
    "duration": 13,
    "start_time": "2021-11-14T12:29:18.878Z"
   },
   {
    "duration": 13,
    "start_time": "2021-11-14T12:29:24.334Z"
   },
   {
    "duration": 24,
    "start_time": "2021-11-14T12:30:52.095Z"
   },
   {
    "duration": 29,
    "start_time": "2021-11-14T12:30:56.491Z"
   },
   {
    "duration": 12,
    "start_time": "2021-11-14T12:34:55.686Z"
   },
   {
    "duration": 97,
    "start_time": "2021-11-14T12:41:56.925Z"
   },
   {
    "duration": 17,
    "start_time": "2021-11-14T12:41:59.745Z"
   },
   {
    "duration": 30,
    "start_time": "2021-11-14T12:42:13.707Z"
   },
   {
    "duration": 14,
    "start_time": "2021-11-14T12:42:19.018Z"
   },
   {
    "duration": 21,
    "start_time": "2021-11-14T12:42:23.536Z"
   },
   {
    "duration": 16,
    "start_time": "2021-11-14T12:42:33.913Z"
   },
   {
    "duration": 16,
    "start_time": "2021-11-14T12:42:42.379Z"
   },
   {
    "duration": 3,
    "start_time": "2021-11-14T12:43:52.318Z"
   },
   {
    "duration": 217,
    "start_time": "2021-11-14T12:43:52.324Z"
   },
   {
    "duration": 17,
    "start_time": "2021-11-14T12:43:52.545Z"
   },
   {
    "duration": 65,
    "start_time": "2021-11-14T12:43:52.564Z"
   },
   {
    "duration": 9,
    "start_time": "2021-11-14T12:43:52.631Z"
   },
   {
    "duration": 52,
    "start_time": "2021-11-14T12:43:52.642Z"
   },
   {
    "duration": 17,
    "start_time": "2021-11-14T12:43:52.696Z"
   },
   {
    "duration": 52,
    "start_time": "2021-11-14T12:43:52.719Z"
   },
   {
    "duration": 36,
    "start_time": "2021-11-14T12:43:52.774Z"
   },
   {
    "duration": 49,
    "start_time": "2021-11-14T12:43:52.812Z"
   },
   {
    "duration": 113,
    "start_time": "2021-11-14T12:43:52.863Z"
   },
   {
    "duration": 118,
    "start_time": "2021-11-14T12:43:52.978Z"
   },
   {
    "duration": 97,
    "start_time": "2021-11-14T12:43:53.098Z"
   },
   {
    "duration": 67,
    "start_time": "2021-11-14T12:43:53.197Z"
   },
   {
    "duration": 16,
    "start_time": "2021-11-14T12:43:53.267Z"
   },
   {
    "duration": 179,
    "start_time": "2021-11-14T12:43:53.286Z"
   },
   {
    "duration": 109,
    "start_time": "2021-11-14T12:43:53.468Z"
   },
   {
    "duration": 48,
    "start_time": "2021-11-14T12:43:53.581Z"
   },
   {
    "duration": 45,
    "start_time": "2021-11-14T12:43:53.633Z"
   },
   {
    "duration": 3481,
    "start_time": "2021-11-14T12:43:53.682Z"
   },
   {
    "duration": 31,
    "start_time": "2021-11-14T12:43:57.167Z"
   },
   {
    "duration": 61,
    "start_time": "2021-11-14T12:43:57.202Z"
   },
   {
    "duration": 15,
    "start_time": "2021-11-14T12:43:57.271Z"
   },
   {
    "duration": 13,
    "start_time": "2021-11-14T12:43:57.289Z"
   },
   {
    "duration": 48,
    "start_time": "2021-11-14T12:43:57.304Z"
   },
   {
    "duration": 33,
    "start_time": "2021-11-14T12:43:57.354Z"
   },
   {
    "duration": 55,
    "start_time": "2021-11-14T12:43:57.389Z"
   },
   {
    "duration": 83,
    "start_time": "2021-11-14T12:43:57.446Z"
   },
   {
    "duration": 29,
    "start_time": "2021-11-14T12:43:57.532Z"
   },
   {
    "duration": 84,
    "start_time": "2021-11-14T12:43:57.565Z"
   },
   {
    "duration": 19,
    "start_time": "2021-11-14T12:43:57.652Z"
   },
   {
    "duration": 637,
    "start_time": "2021-11-14T12:43:57.674Z"
   },
   {
    "duration": 21,
    "start_time": "2021-11-14T12:43:58.314Z"
   },
   {
    "duration": 40,
    "start_time": "2021-11-14T12:43:58.338Z"
   },
   {
    "duration": 28,
    "start_time": "2021-11-14T12:43:58.381Z"
   },
   {
    "duration": 6,
    "start_time": "2021-11-14T12:43:58.412Z"
   },
   {
    "duration": 64,
    "start_time": "2021-11-14T12:43:58.421Z"
   },
   {
    "duration": 36,
    "start_time": "2021-11-14T12:43:58.487Z"
   },
   {
    "duration": 28,
    "start_time": "2021-11-14T12:43:58.526Z"
   },
   {
    "duration": 26,
    "start_time": "2021-11-14T12:43:58.556Z"
   },
   {
    "duration": 35,
    "start_time": "2021-11-14T12:43:58.584Z"
   },
   {
    "duration": 13,
    "start_time": "2021-11-14T12:43:58.622Z"
   },
   {
    "duration": 36,
    "start_time": "2021-11-14T12:43:58.638Z"
   },
   {
    "duration": 13,
    "start_time": "2021-11-14T12:43:58.676Z"
   },
   {
    "duration": 277,
    "start_time": "2021-11-14T12:44:26.116Z"
   },
   {
    "duration": 305,
    "start_time": "2021-11-14T12:44:39.727Z"
   },
   {
    "duration": 942,
    "start_time": "2021-11-14T12:45:45.034Z"
   },
   {
    "duration": 334,
    "start_time": "2021-11-14T12:45:53.062Z"
   },
   {
    "duration": 438,
    "start_time": "2021-11-14T12:46:09.215Z"
   },
   {
    "duration": 419,
    "start_time": "2021-11-14T12:46:59.441Z"
   },
   {
    "duration": 560,
    "start_time": "2021-11-14T12:47:11.272Z"
   },
   {
    "duration": 356,
    "start_time": "2021-11-14T12:47:31.378Z"
   },
   {
    "duration": 991,
    "start_time": "2021-11-14T12:47:37.784Z"
   },
   {
    "duration": 355,
    "start_time": "2021-11-14T12:48:26.952Z"
   },
   {
    "duration": 336,
    "start_time": "2021-11-14T12:50:46.110Z"
   },
   {
    "duration": 373,
    "start_time": "2021-11-14T12:50:49.877Z"
   },
   {
    "duration": 376,
    "start_time": "2021-11-14T12:51:31.354Z"
   },
   {
    "duration": 351,
    "start_time": "2021-11-14T12:51:34.915Z"
   },
   {
    "duration": 432,
    "start_time": "2021-11-14T12:52:07.106Z"
   },
   {
    "duration": 334,
    "start_time": "2021-11-14T12:52:17.234Z"
   },
   {
    "duration": 298,
    "start_time": "2021-11-14T12:55:11.733Z"
   },
   {
    "duration": 352,
    "start_time": "2021-11-14T12:55:29.370Z"
   },
   {
    "duration": 319,
    "start_time": "2021-11-14T12:55:48.950Z"
   },
   {
    "duration": 9,
    "start_time": "2021-11-14T12:56:34.095Z"
   },
   {
    "duration": 7,
    "start_time": "2021-11-14T12:56:53.760Z"
   },
   {
    "duration": 13,
    "start_time": "2021-11-14T12:57:10.907Z"
   },
   {
    "duration": 292,
    "start_time": "2021-11-14T12:57:29.339Z"
   },
   {
    "duration": 427,
    "start_time": "2021-11-14T12:58:28.220Z"
   },
   {
    "duration": 583,
    "start_time": "2021-11-14T12:59:33.453Z"
   },
   {
    "duration": 864,
    "start_time": "2021-11-14T13:00:00.022Z"
   },
   {
    "duration": 769,
    "start_time": "2021-11-14T13:06:48.502Z"
   },
   {
    "duration": 345,
    "start_time": "2021-11-14T13:07:13.509Z"
   },
   {
    "duration": 354,
    "start_time": "2021-11-14T13:07:35.930Z"
   },
   {
    "duration": 444,
    "start_time": "2021-11-14T13:10:22.604Z"
   },
   {
    "duration": 434,
    "start_time": "2021-11-14T13:10:40.574Z"
   },
   {
    "duration": 326,
    "start_time": "2021-11-14T13:11:25.315Z"
   },
   {
    "duration": 667,
    "start_time": "2021-11-14T13:11:40.016Z"
   },
   {
    "duration": 521,
    "start_time": "2021-11-14T13:12:22.437Z"
   },
   {
    "duration": 415,
    "start_time": "2021-11-14T13:12:28.221Z"
   },
   {
    "duration": 342,
    "start_time": "2021-11-14T13:12:44.412Z"
   },
   {
    "duration": 419,
    "start_time": "2021-11-14T13:12:52.393Z"
   },
   {
    "duration": 357,
    "start_time": "2021-11-14T13:12:54.903Z"
   },
   {
    "duration": 331,
    "start_time": "2021-11-14T13:13:05.218Z"
   },
   {
    "duration": 425,
    "start_time": "2021-11-14T13:14:08.868Z"
   },
   {
    "duration": 365,
    "start_time": "2021-11-14T13:14:47.357Z"
   },
   {
    "duration": 448,
    "start_time": "2021-11-14T13:15:11.650Z"
   },
   {
    "duration": 358,
    "start_time": "2021-11-14T13:15:28.512Z"
   },
   {
    "duration": 346,
    "start_time": "2021-11-14T13:15:39.078Z"
   },
   {
    "duration": 466,
    "start_time": "2021-11-14T13:16:09.429Z"
   },
   {
    "duration": 614,
    "start_time": "2021-11-14T13:18:03.770Z"
   },
   {
    "duration": 412,
    "start_time": "2021-11-14T13:18:21.798Z"
   },
   {
    "duration": 595,
    "start_time": "2021-11-14T13:18:30.277Z"
   },
   {
    "duration": 314,
    "start_time": "2021-11-14T13:18:34.608Z"
   },
   {
    "duration": 13,
    "start_time": "2021-11-14T14:43:58.270Z"
   },
   {
    "duration": 14,
    "start_time": "2021-11-14T14:44:05.769Z"
   },
   {
    "duration": 320,
    "start_time": "2021-11-14T14:44:26.519Z"
   },
   {
    "duration": 360,
    "start_time": "2021-11-14T14:44:31.610Z"
   },
   {
    "duration": 306,
    "start_time": "2021-11-14T14:44:35.964Z"
   },
   {
    "duration": 13,
    "start_time": "2021-11-14T14:44:44.130Z"
   },
   {
    "duration": 330,
    "start_time": "2021-11-14T14:44:49.251Z"
   },
   {
    "duration": 307,
    "start_time": "2021-11-14T14:45:05.139Z"
   },
   {
    "duration": 305,
    "start_time": "2021-11-14T14:45:20.785Z"
   },
   {
    "duration": 14,
    "start_time": "2021-11-14T14:45:32.982Z"
   },
   {
    "duration": 13,
    "start_time": "2021-11-14T14:45:57.886Z"
   },
   {
    "duration": 310,
    "start_time": "2021-11-14T14:46:05.651Z"
   },
   {
    "duration": 304,
    "start_time": "2021-11-14T14:46:43.137Z"
   },
   {
    "duration": 318,
    "start_time": "2021-11-14T14:46:57.344Z"
   },
   {
    "duration": 302,
    "start_time": "2021-11-14T14:47:31.911Z"
   },
   {
    "duration": 383,
    "start_time": "2021-11-14T14:48:09.833Z"
   },
   {
    "duration": 314,
    "start_time": "2021-11-14T14:49:01.793Z"
   },
   {
    "duration": 305,
    "start_time": "2021-11-14T14:49:35.398Z"
   },
   {
    "duration": 311,
    "start_time": "2021-11-14T14:50:03.738Z"
   },
   {
    "duration": 303,
    "start_time": "2021-11-14T14:50:34.197Z"
   },
   {
    "duration": 306,
    "start_time": "2021-11-14T14:50:42.958Z"
   },
   {
    "duration": 489,
    "start_time": "2021-11-14T14:53:56.438Z"
   },
   {
    "duration": 521,
    "start_time": "2021-11-14T14:54:14.202Z"
   },
   {
    "duration": 478,
    "start_time": "2021-11-14T14:54:19.168Z"
   },
   {
    "duration": 389,
    "start_time": "2021-11-14T14:54:32.308Z"
   },
   {
    "duration": 313,
    "start_time": "2021-11-14T14:54:55.998Z"
   },
   {
    "duration": 314,
    "start_time": "2021-11-14T14:55:26.359Z"
   },
   {
    "duration": 302,
    "start_time": "2021-11-14T14:56:48.166Z"
   },
   {
    "duration": 470,
    "start_time": "2021-11-14T15:14:19.909Z"
   },
   {
    "duration": 304,
    "start_time": "2021-11-14T15:14:28.394Z"
   },
   {
    "duration": 311,
    "start_time": "2021-11-14T15:14:34.918Z"
   },
   {
    "duration": 407,
    "start_time": "2021-11-14T15:17:09.645Z"
   },
   {
    "duration": 406,
    "start_time": "2021-11-14T15:17:26.027Z"
   },
   {
    "duration": 20,
    "start_time": "2021-11-14T15:52:21.033Z"
   },
   {
    "duration": 7,
    "start_time": "2021-11-14T15:55:10.365Z"
   },
   {
    "duration": 7,
    "start_time": "2021-11-14T15:55:15.933Z"
   },
   {
    "duration": 34,
    "start_time": "2021-11-14T15:55:54.601Z"
   },
   {
    "duration": 22,
    "start_time": "2021-11-14T15:56:00.817Z"
   },
   {
    "duration": 306,
    "start_time": "2021-11-14T15:56:08.052Z"
   },
   {
    "duration": 300,
    "start_time": "2021-11-14T15:56:16.300Z"
   },
   {
    "duration": 7,
    "start_time": "2021-11-14T15:56:26.590Z"
   },
   {
    "duration": 44,
    "start_time": "2021-11-14T15:59:48.673Z"
   },
   {
    "duration": 61,
    "start_time": "2021-11-14T16:00:07.939Z"
   },
   {
    "duration": 345,
    "start_time": "2021-11-14T16:00:30.680Z"
   },
   {
    "duration": 4,
    "start_time": "2021-11-14T16:00:38.166Z"
   },
   {
    "duration": 323,
    "start_time": "2021-11-14T16:00:38.173Z"
   },
   {
    "duration": 35,
    "start_time": "2021-11-14T16:00:38.500Z"
   },
   {
    "duration": 71,
    "start_time": "2021-11-14T16:00:38.538Z"
   },
   {
    "duration": 19,
    "start_time": "2021-11-14T16:00:38.612Z"
   },
   {
    "duration": 54,
    "start_time": "2021-11-14T16:00:38.634Z"
   },
   {
    "duration": 16,
    "start_time": "2021-11-14T16:00:38.691Z"
   },
   {
    "duration": 51,
    "start_time": "2021-11-14T16:00:38.711Z"
   },
   {
    "duration": 55,
    "start_time": "2021-11-14T16:00:38.765Z"
   },
   {
    "duration": 37,
    "start_time": "2021-11-14T16:00:38.823Z"
   },
   {
    "duration": 124,
    "start_time": "2021-11-14T16:00:38.863Z"
   },
   {
    "duration": 119,
    "start_time": "2021-11-14T16:00:38.990Z"
   },
   {
    "duration": 91,
    "start_time": "2021-11-14T16:00:39.111Z"
   },
   {
    "duration": 107,
    "start_time": "2021-11-14T16:00:39.205Z"
   },
   {
    "duration": 15,
    "start_time": "2021-11-14T16:00:39.315Z"
   },
   {
    "duration": 216,
    "start_time": "2021-11-14T16:00:39.333Z"
   },
   {
    "duration": 83,
    "start_time": "2021-11-14T16:00:39.552Z"
   },
   {
    "duration": 31,
    "start_time": "2021-11-14T16:00:39.639Z"
   },
   {
    "duration": 33,
    "start_time": "2021-11-14T16:00:39.674Z"
   },
   {
    "duration": 3420,
    "start_time": "2021-11-14T16:00:39.711Z"
   },
   {
    "duration": 28,
    "start_time": "2021-11-14T16:00:43.134Z"
   },
   {
    "duration": 63,
    "start_time": "2021-11-14T16:00:43.166Z"
   },
   {
    "duration": 23,
    "start_time": "2021-11-14T16:00:43.238Z"
   },
   {
    "duration": 6,
    "start_time": "2021-11-14T16:00:43.265Z"
   },
   {
    "duration": 62,
    "start_time": "2021-11-14T16:00:43.273Z"
   },
   {
    "duration": 22,
    "start_time": "2021-11-14T16:00:43.338Z"
   },
   {
    "duration": 39,
    "start_time": "2021-11-14T16:00:43.362Z"
   },
   {
    "duration": 31,
    "start_time": "2021-11-14T16:00:43.404Z"
   },
   {
    "duration": 41,
    "start_time": "2021-11-14T16:00:43.437Z"
   },
   {
    "duration": 32,
    "start_time": "2021-11-14T16:00:43.481Z"
   },
   {
    "duration": 4,
    "start_time": "2021-11-14T16:00:43.528Z"
   },
   {
    "duration": 433,
    "start_time": "2021-11-14T16:00:43.534Z"
   },
   {
    "duration": 310,
    "start_time": "2021-11-14T16:00:43.970Z"
   },
   {
    "duration": 18,
    "start_time": "2021-11-14T16:00:44.283Z"
   },
   {
    "duration": 40,
    "start_time": "2021-11-14T16:00:44.304Z"
   },
   {
    "duration": 31,
    "start_time": "2021-11-14T16:00:44.347Z"
   },
   {
    "duration": 73,
    "start_time": "2021-11-14T16:00:44.381Z"
   },
   {
    "duration": 28,
    "start_time": "2021-11-14T16:00:44.457Z"
   },
   {
    "duration": 60,
    "start_time": "2021-11-14T16:00:44.488Z"
   },
   {
    "duration": 23,
    "start_time": "2021-11-14T16:00:44.551Z"
   },
   {
    "duration": 389,
    "start_time": "2021-11-14T16:00:44.577Z"
   },
   {
    "duration": -348,
    "start_time": "2021-11-14T16:00:45.316Z"
   },
   {
    "duration": -347,
    "start_time": "2021-11-14T16:00:45.317Z"
   },
   {
    "duration": -346,
    "start_time": "2021-11-14T16:00:45.318Z"
   },
   {
    "duration": -347,
    "start_time": "2021-11-14T16:00:45.320Z"
   },
   {
    "duration": 7,
    "start_time": "2021-11-14T16:01:17.499Z"
   },
   {
    "duration": 45,
    "start_time": "2021-11-14T16:01:28.567Z"
   },
   {
    "duration": 86,
    "start_time": "2021-11-14T16:01:37.597Z"
   },
   {
    "duration": 57,
    "start_time": "2021-11-14T16:01:40.959Z"
   },
   {
    "duration": 96,
    "start_time": "2021-11-14T16:02:04.498Z"
   },
   {
    "duration": 394,
    "start_time": "2021-11-14T16:03:05.777Z"
   },
   {
    "duration": 328,
    "start_time": "2021-11-14T16:03:17.471Z"
   },
   {
    "duration": 70,
    "start_time": "2021-11-14T16:03:24.513Z"
   },
   {
    "duration": 45,
    "start_time": "2021-11-14T16:04:09.676Z"
   },
   {
    "duration": 4,
    "start_time": "2021-11-14T16:04:27.451Z"
   },
   {
    "duration": 113,
    "start_time": "2021-11-14T16:05:08.749Z"
   },
   {
    "duration": 351,
    "start_time": "2021-11-14T16:05:13.898Z"
   },
   {
    "duration": 350,
    "start_time": "2021-11-14T16:06:18.743Z"
   },
   {
    "duration": 9,
    "start_time": "2021-11-14T16:07:47.909Z"
   },
   {
    "duration": 6,
    "start_time": "2021-11-14T16:07:54.798Z"
   },
   {
    "duration": 9,
    "start_time": "2021-11-14T16:07:57.798Z"
   },
   {
    "duration": 309,
    "start_time": "2021-11-14T16:08:05.784Z"
   },
   {
    "duration": 10,
    "start_time": "2021-11-14T16:08:11.371Z"
   },
   {
    "duration": 436,
    "start_time": "2021-11-14T16:08:56.166Z"
   },
   {
    "duration": 572,
    "start_time": "2021-11-14T16:09:00.459Z"
   },
   {
    "duration": 530,
    "start_time": "2021-11-14T16:09:08.894Z"
   },
   {
    "duration": 722,
    "start_time": "2021-11-14T16:11:43.864Z"
   },
   {
    "duration": 938,
    "start_time": "2021-11-14T16:15:27.707Z"
   },
   {
    "duration": 6,
    "start_time": "2021-11-14T16:15:45.655Z"
   },
   {
    "duration": 9,
    "start_time": "2021-11-14T16:16:09.182Z"
   },
   {
    "duration": 28,
    "start_time": "2021-11-14T16:18:03.863Z"
   },
   {
    "duration": 18,
    "start_time": "2021-11-14T16:18:10.089Z"
   },
   {
    "duration": 1174,
    "start_time": "2021-11-14T16:18:20.955Z"
   },
   {
    "duration": 592,
    "start_time": "2021-11-14T16:18:30.173Z"
   },
   {
    "duration": 295,
    "start_time": "2021-11-14T16:18:37.004Z"
   },
   {
    "duration": 521,
    "start_time": "2021-11-14T16:19:18.175Z"
   },
   {
    "duration": 525,
    "start_time": "2021-11-14T16:21:49.060Z"
   },
   {
    "duration": 519,
    "start_time": "2021-11-14T16:21:54.237Z"
   },
   {
    "duration": 17211,
    "start_time": "2021-11-14T16:23:33.841Z"
   },
   {
    "duration": 625,
    "start_time": "2021-11-14T16:24:58.757Z"
   },
   {
    "duration": 561,
    "start_time": "2021-11-14T16:25:02.494Z"
   },
   {
    "duration": 561,
    "start_time": "2021-11-14T16:25:16.157Z"
   },
   {
    "duration": 286,
    "start_time": "2021-11-14T16:25:41.102Z"
   },
   {
    "duration": 357,
    "start_time": "2021-11-14T16:51:21.547Z"
   },
   {
    "duration": 513,
    "start_time": "2021-11-14T16:51:25.962Z"
   },
   {
    "duration": 265,
    "start_time": "2021-11-14T16:56:39.651Z"
   },
   {
    "duration": 295,
    "start_time": "2021-11-14T16:56:54.082Z"
   },
   {
    "duration": 268,
    "start_time": "2021-11-14T16:58:32.407Z"
   },
   {
    "duration": 266,
    "start_time": "2021-11-14T16:59:32.098Z"
   },
   {
    "duration": 15,
    "start_time": "2021-11-14T17:00:53.237Z"
   },
   {
    "duration": 14,
    "start_time": "2021-11-14T17:01:02.734Z"
   },
   {
    "duration": 14,
    "start_time": "2021-11-14T17:01:10.415Z"
   },
   {
    "duration": 13,
    "start_time": "2021-11-14T17:01:24.995Z"
   },
   {
    "duration": 6083,
    "start_time": "2021-11-14T17:05:56.270Z"
   },
   {
    "duration": 308,
    "start_time": "2021-11-14T17:06:02.413Z"
   },
   {
    "duration": 25,
    "start_time": "2021-11-14T17:07:32.297Z"
   },
   {
    "duration": 24,
    "start_time": "2021-11-14T17:07:37.862Z"
   },
   {
    "duration": 295,
    "start_time": "2021-11-14T17:08:45.094Z"
   },
   {
    "duration": 344,
    "start_time": "2021-11-14T17:08:54.613Z"
   },
   {
    "duration": 29,
    "start_time": "2021-11-14T17:09:10.843Z"
   },
   {
    "duration": 24,
    "start_time": "2021-11-14T17:09:13.976Z"
   },
   {
    "duration": 28,
    "start_time": "2021-11-14T17:09:35.802Z"
   },
   {
    "duration": 24,
    "start_time": "2021-11-14T17:09:37.129Z"
   },
   {
    "duration": 26,
    "start_time": "2021-11-14T17:09:47.193Z"
   },
   {
    "duration": 25,
    "start_time": "2021-11-14T17:09:49.221Z"
   },
   {
    "duration": 304,
    "start_time": "2021-11-14T17:10:07.389Z"
   },
   {
    "duration": 29,
    "start_time": "2021-11-14T17:11:48.667Z"
   },
   {
    "duration": 343,
    "start_time": "2021-11-14T17:12:14.146Z"
   },
   {
    "duration": 338,
    "start_time": "2021-11-14T17:12:27.752Z"
   },
   {
    "duration": 32,
    "start_time": "2021-11-14T17:12:38.823Z"
   },
   {
    "duration": 24,
    "start_time": "2021-11-14T17:12:41.303Z"
   },
   {
    "duration": 129,
    "start_time": "2021-11-14T17:15:45.520Z"
   },
   {
    "duration": 27,
    "start_time": "2021-11-14T17:15:53.978Z"
   },
   {
    "duration": 5,
    "start_time": "2021-11-14T17:15:56.501Z"
   },
   {
    "duration": 44,
    "start_time": "2021-11-14T17:16:51.135Z"
   },
   {
    "duration": 5,
    "start_time": "2021-11-14T17:16:51.182Z"
   },
   {
    "duration": 45,
    "start_time": "2021-11-14T17:17:08.139Z"
   },
   {
    "duration": 43,
    "start_time": "2021-11-14T17:20:09.928Z"
   },
   {
    "duration": 5,
    "start_time": "2021-11-14T17:20:10.851Z"
   },
   {
    "duration": 39,
    "start_time": "2021-11-14T17:20:20.361Z"
   },
   {
    "duration": 6,
    "start_time": "2021-11-14T17:20:22.334Z"
   },
   {
    "duration": 37,
    "start_time": "2021-11-14T17:21:05.190Z"
   },
   {
    "duration": 5,
    "start_time": "2021-11-14T17:21:07.756Z"
   },
   {
    "duration": 8,
    "start_time": "2021-11-14T17:21:21.903Z"
   },
   {
    "duration": 48,
    "start_time": "2021-11-14T17:23:06.821Z"
   },
   {
    "duration": 4,
    "start_time": "2021-11-14T17:23:07.343Z"
   },
   {
    "duration": 57,
    "start_time": "2021-11-14T17:23:23.088Z"
   },
   {
    "duration": 27,
    "start_time": "2021-11-14T17:23:25.412Z"
   },
   {
    "duration": 62,
    "start_time": "2021-11-14T17:24:48.402Z"
   },
   {
    "duration": 28,
    "start_time": "2021-11-14T17:24:54.037Z"
   },
   {
    "duration": 40,
    "start_time": "2021-11-14T17:25:27.949Z"
   },
   {
    "duration": 1075,
    "start_time": "2021-11-14T17:28:13.313Z"
   },
   {
    "duration": 37,
    "start_time": "2021-11-14T17:29:11.074Z"
   },
   {
    "duration": 330,
    "start_time": "2021-11-14T17:29:41.492Z"
   },
   {
    "duration": 779,
    "start_time": "2021-11-14T17:29:57.731Z"
   },
   {
    "duration": 686,
    "start_time": "2021-11-14T17:30:03.297Z"
   },
   {
    "duration": 710,
    "start_time": "2021-11-14T17:31:10.123Z"
   },
   {
    "duration": 1351,
    "start_time": "2021-11-14T17:31:19.155Z"
   },
   {
    "duration": 541,
    "start_time": "2021-11-14T17:33:09.723Z"
   },
   {
    "duration": 189,
    "start_time": "2021-11-14T17:37:18.244Z"
   },
   {
    "duration": 947,
    "start_time": "2021-11-14T17:37:35.263Z"
   },
   {
    "duration": 802,
    "start_time": "2021-11-14T17:38:10.619Z"
   },
   {
    "duration": 964,
    "start_time": "2021-11-14T17:38:16.286Z"
   },
   {
    "duration": 1149,
    "start_time": "2021-11-14T17:38:24.790Z"
   },
   {
    "duration": 772,
    "start_time": "2021-11-14T17:38:47.602Z"
   },
   {
    "duration": 782,
    "start_time": "2021-11-14T17:38:54.199Z"
   },
   {
    "duration": 791,
    "start_time": "2021-11-14T17:39:12.861Z"
   },
   {
    "duration": 1084,
    "start_time": "2021-11-14T17:39:19.205Z"
   },
   {
    "duration": 1104,
    "start_time": "2021-11-14T17:39:28.259Z"
   },
   {
    "duration": 41,
    "start_time": "2021-11-14T17:43:09.378Z"
   },
   {
    "duration": 66,
    "start_time": "2021-11-14T17:46:32.628Z"
   },
   {
    "duration": 64,
    "start_time": "2021-11-14T17:47:38.229Z"
   },
   {
    "duration": 26,
    "start_time": "2021-11-14T17:47:40.367Z"
   },
   {
    "duration": 33,
    "start_time": "2021-11-14T17:48:09.877Z"
   },
   {
    "duration": 880,
    "start_time": "2021-11-14T17:48:11.302Z"
   },
   {
    "duration": 39,
    "start_time": "2021-11-14T17:48:37.403Z"
   },
   {
    "duration": 854,
    "start_time": "2021-11-14T17:48:38.297Z"
   },
   {
    "duration": 6,
    "start_time": "2021-11-14T17:49:03.803Z"
   },
   {
    "duration": 35,
    "start_time": "2021-11-14T17:49:20.230Z"
   },
   {
    "duration": 829,
    "start_time": "2021-11-14T17:49:25.284Z"
   },
   {
    "duration": 338,
    "start_time": "2021-11-14T17:50:24.511Z"
   },
   {
    "duration": 333,
    "start_time": "2021-11-14T17:51:04.205Z"
   },
   {
    "duration": 14,
    "start_time": "2021-11-14T17:51:25.083Z"
   },
   {
    "duration": 444,
    "start_time": "2021-11-14T17:52:05.650Z"
   },
   {
    "duration": 342,
    "start_time": "2021-11-14T17:52:44.660Z"
   },
   {
    "duration": 318,
    "start_time": "2021-11-14T17:52:59.497Z"
   },
   {
    "duration": 534,
    "start_time": "2021-11-14T17:53:21.241Z"
   },
   {
    "duration": 425,
    "start_time": "2021-11-14T17:57:45.488Z"
   },
   {
    "duration": 610,
    "start_time": "2021-11-14T17:57:59.422Z"
   },
   {
    "duration": 339,
    "start_time": "2021-11-14T17:58:34.342Z"
   },
   {
    "duration": 1934,
    "start_time": "2021-11-14T17:58:55.935Z"
   },
   {
    "duration": 609,
    "start_time": "2021-11-14T17:59:09.611Z"
   },
   {
    "duration": 1381,
    "start_time": "2021-11-14T17:59:13.003Z"
   },
   {
    "duration": 1900,
    "start_time": "2021-11-14T17:59:33.244Z"
   },
   {
    "duration": 15,
    "start_time": "2021-11-14T18:01:25.942Z"
   },
   {
    "duration": 99,
    "start_time": "2021-11-14T18:01:41.281Z"
   },
   {
    "duration": 26,
    "start_time": "2021-11-14T18:01:43.754Z"
   },
   {
    "duration": 37,
    "start_time": "2021-11-14T18:01:59.585Z"
   },
   {
    "duration": 2153,
    "start_time": "2021-11-14T18:02:36.748Z"
   },
   {
    "duration": 1762,
    "start_time": "2021-11-14T18:03:10.595Z"
   },
   {
    "duration": 1317,
    "start_time": "2021-11-14T18:03:55.707Z"
   },
   {
    "duration": 1279,
    "start_time": "2021-11-14T18:04:10.189Z"
   },
   {
    "duration": 1046,
    "start_time": "2021-11-14T18:04:30.076Z"
   },
   {
    "duration": 1060,
    "start_time": "2021-11-14T18:04:34.473Z"
   },
   {
    "duration": 1270,
    "start_time": "2021-11-14T18:04:54.041Z"
   },
   {
    "duration": 3316,
    "start_time": "2021-11-14T18:05:03.247Z"
   },
   {
    "duration": 1005,
    "start_time": "2021-11-14T18:05:09.279Z"
   },
   {
    "duration": 3157,
    "start_time": "2021-11-14T18:05:20.533Z"
   },
   {
    "duration": 1928,
    "start_time": "2021-11-14T18:05:34.441Z"
   },
   {
    "duration": 3268,
    "start_time": "2021-11-14T18:05:57.737Z"
   },
   {
    "duration": 3329,
    "start_time": "2021-11-14T18:06:07.531Z"
   },
   {
    "duration": 3466,
    "start_time": "2021-11-14T18:06:23.496Z"
   },
   {
    "duration": 2946,
    "start_time": "2021-11-14T18:06:29.253Z"
   },
   {
    "duration": 1054,
    "start_time": "2021-11-14T18:06:38.406Z"
   },
   {
    "duration": 1336,
    "start_time": "2021-11-14T18:07:09.479Z"
   },
   {
    "duration": 1080,
    "start_time": "2021-11-14T18:07:26.316Z"
   },
   {
    "duration": 1059,
    "start_time": "2021-11-14T18:07:36.931Z"
   },
   {
    "duration": 1034,
    "start_time": "2021-11-14T18:07:47.685Z"
   },
   {
    "duration": 1074,
    "start_time": "2021-11-14T18:07:53.414Z"
   },
   {
    "duration": 1278,
    "start_time": "2021-11-14T18:08:24.742Z"
   },
   {
    "duration": 1387,
    "start_time": "2021-11-14T18:08:37.523Z"
   },
   {
    "duration": 346,
    "start_time": "2021-11-14T18:10:54.846Z"
   },
   {
    "duration": 393,
    "start_time": "2021-11-15T06:27:18.647Z"
   },
   {
    "duration": 639,
    "start_time": "2021-11-15T06:28:10.232Z"
   },
   {
    "duration": 525,
    "start_time": "2021-11-15T06:28:37.022Z"
   },
   {
    "duration": 427,
    "start_time": "2021-11-15T06:28:50.167Z"
   },
   {
    "duration": 178,
    "start_time": "2021-11-15T06:29:00.254Z"
   },
   {
    "duration": 6,
    "start_time": "2021-11-15T06:30:22.285Z"
   },
   {
    "duration": 177,
    "start_time": "2021-11-15T06:30:32.474Z"
   },
   {
    "duration": 180,
    "start_time": "2021-11-15T06:30:50.053Z"
   },
   {
    "duration": 173,
    "start_time": "2021-11-15T06:30:57.348Z"
   },
   {
    "duration": 452,
    "start_time": "2021-11-15T06:31:07.241Z"
   },
   {
    "duration": 170,
    "start_time": "2021-11-15T06:31:20.394Z"
   },
   {
    "duration": 8,
    "start_time": "2021-11-15T06:31:25.905Z"
   },
   {
    "duration": 5,
    "start_time": "2021-11-15T06:31:30.124Z"
   },
   {
    "duration": 538,
    "start_time": "2021-11-15T06:32:10.142Z"
   },
   {
    "duration": 12,
    "start_time": "2021-11-15T06:32:25.740Z"
   },
   {
    "duration": 1212,
    "start_time": "2021-11-15T06:32:33.120Z"
   },
   {
    "duration": 5,
    "start_time": "2021-11-15T06:32:40.074Z"
   },
   {
    "duration": 8,
    "start_time": "2021-11-15T06:32:47.363Z"
   },
   {
    "duration": 6,
    "start_time": "2021-11-15T06:33:45.588Z"
   },
   {
    "duration": 928,
    "start_time": "2021-11-15T06:34:05.197Z"
   },
   {
    "duration": 787,
    "start_time": "2021-11-15T06:34:12.838Z"
   },
   {
    "duration": 5,
    "start_time": "2021-11-15T06:34:23.631Z"
   },
   {
    "duration": 1619,
    "start_time": "2021-11-15T06:36:42.938Z"
   },
   {
    "duration": 491,
    "start_time": "2021-11-15T06:37:03.461Z"
   },
   {
    "duration": 4,
    "start_time": "2021-11-15T06:37:17.936Z"
   },
   {
    "duration": 183,
    "start_time": "2021-11-15T06:37:19.204Z"
   },
   {
    "duration": 21,
    "start_time": "2021-11-15T06:37:32.006Z"
   },
   {
    "duration": 27,
    "start_time": "2021-11-15T06:38:00.836Z"
   },
   {
    "duration": 19,
    "start_time": "2021-11-15T06:38:08.928Z"
   },
   {
    "duration": 36,
    "start_time": "2021-11-15T06:38:34.940Z"
   },
   {
    "duration": 31,
    "start_time": "2021-11-15T06:39:19.215Z"
   },
   {
    "duration": 86,
    "start_time": "2021-11-15T06:39:23.675Z"
   },
   {
    "duration": 104,
    "start_time": "2021-11-15T06:39:28.012Z"
   },
   {
    "duration": 79,
    "start_time": "2021-11-15T06:39:29.011Z"
   },
   {
    "duration": 29,
    "start_time": "2021-11-15T06:39:32.376Z"
   },
   {
    "duration": 9,
    "start_time": "2021-11-15T06:40:53.380Z"
   },
   {
    "duration": 9,
    "start_time": "2021-11-15T06:41:00.043Z"
   },
   {
    "duration": 10,
    "start_time": "2021-11-15T06:41:04.890Z"
   },
   {
    "duration": 324,
    "start_time": "2021-11-15T06:41:15.508Z"
   },
   {
    "duration": 330,
    "start_time": "2021-11-15T06:41:35.526Z"
   },
   {
    "duration": 24,
    "start_time": "2021-11-15T06:41:40.842Z"
   },
   {
    "duration": 31,
    "start_time": "2021-11-15T06:42:37.243Z"
   },
   {
    "duration": 31,
    "start_time": "2021-11-15T06:43:01.361Z"
   },
   {
    "duration": 27,
    "start_time": "2021-11-15T06:43:41.676Z"
   },
   {
    "duration": 24,
    "start_time": "2021-11-15T06:44:09.721Z"
   },
   {
    "duration": 32,
    "start_time": "2021-11-15T06:47:17.309Z"
   },
   {
    "duration": 745,
    "start_time": "2021-11-15T06:50:24.289Z"
   },
   {
    "duration": 327,
    "start_time": "2021-11-15T06:50:44.787Z"
   },
   {
    "duration": 237,
    "start_time": "2021-11-15T07:03:10.518Z"
   },
   {
    "duration": 31,
    "start_time": "2021-11-15T07:03:32.898Z"
   },
   {
    "duration": 317,
    "start_time": "2021-11-15T07:07:18.248Z"
   },
   {
    "duration": 22,
    "start_time": "2021-11-15T07:07:30.410Z"
   },
   {
    "duration": 4,
    "start_time": "2021-11-15T07:32:48.981Z"
   },
   {
    "duration": 148,
    "start_time": "2021-11-15T07:32:49.870Z"
   },
   {
    "duration": 12,
    "start_time": "2021-11-15T07:32:54.978Z"
   },
   {
    "duration": 10,
    "start_time": "2021-11-15T07:34:34.593Z"
   },
   {
    "duration": 231,
    "start_time": "2021-11-15T07:34:35.463Z"
   },
   {
    "duration": 16,
    "start_time": "2021-11-15T07:34:36.405Z"
   },
   {
    "duration": 15,
    "start_time": "2021-11-15T07:34:38.880Z"
   },
   {
    "duration": 160,
    "start_time": "2021-11-15T07:36:57.506Z"
   },
   {
    "duration": 13,
    "start_time": "2021-11-15T07:36:58.316Z"
   },
   {
    "duration": 13,
    "start_time": "2021-11-15T07:37:02.263Z"
   },
   {
    "duration": 7,
    "start_time": "2021-11-15T07:37:15.114Z"
   },
   {
    "duration": 147,
    "start_time": "2021-11-15T07:37:15.774Z"
   },
   {
    "duration": 12,
    "start_time": "2021-11-15T07:37:16.370Z"
   },
   {
    "duration": 442,
    "start_time": "2021-11-15T07:41:49.134Z"
   },
   {
    "duration": 115,
    "start_time": "2021-11-15T07:41:51.839Z"
   },
   {
    "duration": 122,
    "start_time": "2021-11-15T07:42:39.638Z"
   },
   {
    "duration": 321,
    "start_time": "2021-11-15T07:42:52.462Z"
   },
   {
    "duration": 115,
    "start_time": "2021-11-15T07:42:58.389Z"
   },
   {
    "duration": 121,
    "start_time": "2021-11-15T07:43:07.844Z"
   },
   {
    "duration": 330,
    "start_time": "2021-11-15T07:43:10.795Z"
   },
   {
    "duration": 115,
    "start_time": "2021-11-15T07:43:16.183Z"
   },
   {
    "duration": 10,
    "start_time": "2021-11-15T07:43:20.661Z"
   },
   {
    "duration": 5,
    "start_time": "2021-11-15T07:43:22.450Z"
   },
   {
    "duration": 5,
    "start_time": "2021-11-15T07:43:27.768Z"
   },
   {
    "duration": 510,
    "start_time": "2021-11-15T07:45:40.609Z"
   },
   {
    "duration": 170,
    "start_time": "2021-11-15T07:46:11.566Z"
   },
   {
    "duration": 529,
    "start_time": "2021-11-15T07:49:52.744Z"
   },
   {
    "duration": 53,
    "start_time": "2021-11-15T07:49:58.663Z"
   },
   {
    "duration": 5,
    "start_time": "2021-11-15T07:50:08.500Z"
   },
   {
    "duration": 158,
    "start_time": "2021-11-15T10:15:54.123Z"
   },
   {
    "duration": 103,
    "start_time": "2021-11-15T10:16:02.009Z"
   },
   {
    "duration": 195,
    "start_time": "2021-11-15T10:16:04.748Z"
   },
   {
    "duration": 4,
    "start_time": "2021-11-15T10:17:33.005Z"
   },
   {
    "duration": 175,
    "start_time": "2021-11-15T10:17:45.413Z"
   },
   {
    "duration": 16,
    "start_time": "2021-11-15T10:17:49.719Z"
   },
   {
    "duration": 6,
    "start_time": "2021-11-15T10:17:59.067Z"
   },
   {
    "duration": 19,
    "start_time": "2021-11-15T10:18:01.999Z"
   },
   {
    "duration": 29,
    "start_time": "2021-11-15T10:18:12.636Z"
   },
   {
    "duration": 172,
    "start_time": "2021-11-15T10:18:16.562Z"
   },
   {
    "duration": 94,
    "start_time": "2021-11-15T10:18:34.212Z"
   },
   {
    "duration": 404,
    "start_time": "2021-11-15T10:24:50.128Z"
   },
   {
    "duration": 15,
    "start_time": "2021-11-15T10:24:54.075Z"
   },
   {
    "duration": 320,
    "start_time": "2021-11-15T10:25:07.874Z"
   },
   {
    "duration": 5,
    "start_time": "2021-11-15T10:25:14.120Z"
   },
   {
    "duration": 6,
    "start_time": "2021-11-15T10:25:19.609Z"
   },
   {
    "duration": 16,
    "start_time": "2021-11-15T10:25:35.200Z"
   },
   {
    "duration": 22,
    "start_time": "2021-11-15T10:39:21.778Z"
   },
   {
    "duration": 333,
    "start_time": "2021-11-15T10:39:36.307Z"
   },
   {
    "duration": 30,
    "start_time": "2021-11-15T10:39:50.325Z"
   },
   {
    "duration": 32,
    "start_time": "2021-11-15T10:40:09.011Z"
   },
   {
    "duration": 27,
    "start_time": "2021-11-15T10:40:27.177Z"
   },
   {
    "duration": 330,
    "start_time": "2021-11-15T10:51:53.287Z"
   },
   {
    "duration": 30,
    "start_time": "2021-11-15T10:52:34.563Z"
   },
   {
    "duration": 118,
    "start_time": "2021-11-15T11:03:40.426Z"
   },
   {
    "duration": 47,
    "start_time": "2021-11-15T11:15:58.215Z"
   },
   {
    "duration": 156,
    "start_time": "2021-11-15T11:16:04.257Z"
   },
   {
    "duration": 192,
    "start_time": "2021-11-15T11:17:17.871Z"
   },
   {
    "duration": 16,
    "start_time": "2021-11-15T11:17:19.100Z"
   },
   {
    "duration": 26,
    "start_time": "2021-11-15T11:17:25.959Z"
   },
   {
    "duration": 33,
    "start_time": "2021-11-15T11:17:31.387Z"
   },
   {
    "duration": 91,
    "start_time": "2021-11-15T11:17:36.842Z"
   },
   {
    "duration": 98,
    "start_time": "2021-11-15T11:17:40.012Z"
   },
   {
    "duration": 169,
    "start_time": "2021-11-15T11:17:43.116Z"
   },
   {
    "duration": 41,
    "start_time": "2021-11-15T11:19:18.554Z"
   },
   {
    "duration": 161,
    "start_time": "2021-11-15T11:19:28.567Z"
   },
   {
    "duration": 38,
    "start_time": "2021-11-15T11:20:17.367Z"
   },
   {
    "duration": 168,
    "start_time": "2021-11-15T11:20:19.160Z"
   },
   {
    "duration": 196,
    "start_time": "2021-11-15T11:21:09.573Z"
   },
   {
    "duration": 18,
    "start_time": "2021-11-15T11:21:15.410Z"
   },
   {
    "duration": 100,
    "start_time": "2021-11-15T11:21:24.238Z"
   },
   {
    "duration": 169,
    "start_time": "2021-11-15T11:21:31.438Z"
   },
   {
    "duration": 39,
    "start_time": "2021-11-15T11:22:49.251Z"
   },
   {
    "duration": 165,
    "start_time": "2021-11-15T11:22:50.847Z"
   },
   {
    "duration": 204,
    "start_time": "2021-11-15T11:24:39.425Z"
   },
   {
    "duration": 19,
    "start_time": "2021-11-15T11:24:42.710Z"
   },
   {
    "duration": 96,
    "start_time": "2021-11-15T11:24:48.189Z"
   },
   {
    "duration": 29,
    "start_time": "2021-11-15T11:25:04.676Z"
   },
   {
    "duration": 170,
    "start_time": "2021-11-15T11:28:06.305Z"
   },
   {
    "duration": 36,
    "start_time": "2021-11-15T11:28:43.605Z"
   },
   {
    "duration": 33,
    "start_time": "2021-11-15T11:30:47.557Z"
   },
   {
    "duration": 34,
    "start_time": "2021-11-15T11:30:55.355Z"
   },
   {
    "duration": 174,
    "start_time": "2021-11-15T11:31:54.284Z"
   },
   {
    "duration": 28,
    "start_time": "2021-11-15T11:40:54.144Z"
   },
   {
    "duration": 336,
    "start_time": "2021-11-15T11:42:35.245Z"
   },
   {
    "duration": 43,
    "start_time": "2021-11-15T11:42:49.530Z"
   },
   {
    "duration": 162,
    "start_time": "2021-11-15T11:42:52.087Z"
   },
   {
    "duration": 32,
    "start_time": "2021-11-15T11:44:39.657Z"
   },
   {
    "duration": 165,
    "start_time": "2021-11-15T11:44:45.785Z"
   },
   {
    "duration": 156,
    "start_time": "2021-11-15T11:45:12.888Z"
   },
   {
    "duration": 17,
    "start_time": "2021-11-15T11:45:42.739Z"
   },
   {
    "duration": 45,
    "start_time": "2021-11-15T11:46:26.223Z"
   },
   {
    "duration": 163,
    "start_time": "2021-11-15T11:46:29.328Z"
   },
   {
    "duration": 17,
    "start_time": "2021-11-15T12:25:13.702Z"
   },
   {
    "duration": 4,
    "start_time": "2021-11-15T12:25:23.858Z"
   },
   {
    "duration": 185,
    "start_time": "2021-11-15T12:25:24.756Z"
   },
   {
    "duration": 24,
    "start_time": "2021-11-15T12:25:29.120Z"
   },
   {
    "duration": 164,
    "start_time": "2021-11-15T12:25:36.123Z"
   },
   {
    "duration": 26,
    "start_time": "2021-11-15T12:25:38.803Z"
   },
   {
    "duration": 4,
    "start_time": "2021-11-15T12:27:52.932Z"
   },
   {
    "duration": 428,
    "start_time": "2021-11-15T12:28:23.369Z"
   },
   {
    "duration": 22,
    "start_time": "2021-11-15T12:29:14.793Z"
   },
   {
    "duration": 23,
    "start_time": "2021-11-15T12:29:25.879Z"
   },
   {
    "duration": 18,
    "start_time": "2021-11-15T12:29:56.922Z"
   },
   {
    "duration": 26,
    "start_time": "2021-11-15T12:30:09.986Z"
   },
   {
    "duration": 5,
    "start_time": "2021-11-15T12:30:14.822Z"
   },
   {
    "duration": 25,
    "start_time": "2021-11-15T12:31:00.532Z"
   },
   {
    "duration": 5,
    "start_time": "2021-11-15T12:31:02.757Z"
   },
   {
    "duration": 350,
    "start_time": "2021-11-15T12:31:16.218Z"
   },
   {
    "duration": 25,
    "start_time": "2021-11-15T12:37:39.478Z"
   },
   {
    "duration": 9,
    "start_time": "2021-11-15T12:37:44.810Z"
   },
   {
    "duration": 28,
    "start_time": "2021-11-15T12:38:01.449Z"
   },
   {
    "duration": 8,
    "start_time": "2021-11-15T12:38:04.346Z"
   },
   {
    "duration": 26,
    "start_time": "2021-11-15T12:38:12.223Z"
   },
   {
    "duration": 9,
    "start_time": "2021-11-15T12:38:13.852Z"
   },
   {
    "duration": 19,
    "start_time": "2021-11-15T12:38:34.231Z"
   },
   {
    "duration": 10,
    "start_time": "2021-11-15T12:38:37.644Z"
   },
   {
    "duration": 26,
    "start_time": "2021-11-15T12:39:56.639Z"
   },
   {
    "duration": 164,
    "start_time": "2021-11-15T12:40:12.637Z"
   },
   {
    "duration": 15,
    "start_time": "2021-11-15T12:40:35.425Z"
   },
   {
    "duration": 106,
    "start_time": "2021-11-15T12:40:56.187Z"
   },
   {
    "duration": 14,
    "start_time": "2021-11-15T12:41:00.139Z"
   },
   {
    "duration": 176,
    "start_time": "2021-11-15T12:41:12.823Z"
   },
   {
    "duration": 20,
    "start_time": "2021-11-15T12:41:16.647Z"
   },
   {
    "duration": 98,
    "start_time": "2021-11-15T12:41:22.646Z"
   },
   {
    "duration": 162,
    "start_time": "2021-11-15T12:41:29.390Z"
   },
   {
    "duration": 41,
    "start_time": "2021-11-15T12:41:37.886Z"
   },
   {
    "duration": 161,
    "start_time": "2021-11-15T12:41:40.614Z"
   },
   {
    "duration": 68,
    "start_time": "2021-11-15T12:41:42.978Z"
   },
   {
    "duration": 19,
    "start_time": "2021-11-15T12:42:09.032Z"
   },
   {
    "duration": 24,
    "start_time": "2021-11-15T12:42:18.485Z"
   },
   {
    "duration": 174,
    "start_time": "2021-11-15T12:43:21.269Z"
   },
   {
    "duration": 20,
    "start_time": "2021-11-15T12:43:24.788Z"
   },
   {
    "duration": 162,
    "start_time": "2021-11-15T12:43:27.597Z"
   },
   {
    "duration": 105,
    "start_time": "2021-11-15T12:43:30.516Z"
   },
   {
    "duration": 170,
    "start_time": "2021-11-15T12:43:32.882Z"
   },
   {
    "duration": 37,
    "start_time": "2021-11-15T12:43:42.900Z"
   },
   {
    "duration": 183,
    "start_time": "2021-11-15T12:43:48.485Z"
   },
   {
    "duration": 26,
    "start_time": "2021-11-15T12:43:50.234Z"
   },
   {
    "duration": 174,
    "start_time": "2021-11-15T12:46:28.864Z"
   },
   {
    "duration": 20,
    "start_time": "2021-11-15T12:46:32.584Z"
   },
   {
    "duration": 165,
    "start_time": "2021-11-15T12:46:34.667Z"
   },
   {
    "duration": 96,
    "start_time": "2021-11-15T12:46:38.020Z"
   },
   {
    "duration": 18,
    "start_time": "2021-11-15T12:46:42.973Z"
   },
   {
    "duration": 5,
    "start_time": "2021-11-15T12:58:53.288Z"
   },
   {
    "duration": 5,
    "start_time": "2021-11-15T12:58:57.930Z"
   },
   {
    "duration": 44,
    "start_time": "2021-11-15T13:09:07.058Z"
   },
   {
    "duration": 44,
    "start_time": "2021-11-15T13:10:52.664Z"
   },
   {
    "duration": 29,
    "start_time": "2021-11-15T13:11:18.436Z"
   },
   {
    "duration": 328,
    "start_time": "2021-11-15T13:11:34.659Z"
   },
   {
    "duration": 47,
    "start_time": "2021-11-15T13:11:42.191Z"
   },
   {
    "duration": 337,
    "start_time": "2021-11-15T13:11:48.815Z"
   },
   {
    "duration": 48,
    "start_time": "2021-11-15T13:11:52.613Z"
   },
   {
    "duration": 3,
    "start_time": "2021-11-15T13:11:56.244Z"
   },
   {
    "duration": 42,
    "start_time": "2021-11-15T13:12:10.430Z"
   },
   {
    "duration": 172,
    "start_time": "2021-11-15T13:16:18.967Z"
   },
   {
    "duration": 5,
    "start_time": "2021-11-15T13:21:02.750Z"
   },
   {
    "duration": 131,
    "start_time": "2021-11-15T13:21:10.264Z"
   },
   {
    "duration": 5,
    "start_time": "2021-11-15T13:21:31.601Z"
   },
   {
    "duration": 109,
    "start_time": "2021-11-15T13:21:34.236Z"
   },
   {
    "duration": 561,
    "start_time": "2021-11-15T13:21:52.367Z"
   },
   {
    "duration": 1017,
    "start_time": "2021-11-15T13:22:05.792Z"
   },
   {
    "duration": 5,
    "start_time": "2021-11-15T13:22:48.581Z"
   },
   {
    "duration": 1167,
    "start_time": "2021-11-15T15:23:49.518Z"
   },
   {
    "duration": 134,
    "start_time": "2021-11-15T15:23:50.715Z"
   },
   {
    "duration": 22,
    "start_time": "2021-11-15T15:23:56.285Z"
   },
   {
    "duration": 120,
    "start_time": "2021-11-15T15:23:58.087Z"
   },
   {
    "duration": 107,
    "start_time": "2021-11-15T16:07:05.955Z"
   },
   {
    "duration": 69,
    "start_time": "2021-11-15T16:07:11.852Z"
   },
   {
    "duration": 108,
    "start_time": "2021-11-15T16:07:15.509Z"
   },
   {
    "duration": 100,
    "start_time": "2021-11-15T16:09:29.683Z"
   },
   {
    "duration": 101,
    "start_time": "2021-11-15T16:09:45.442Z"
   },
   {
    "duration": 781,
    "start_time": "2021-11-15T17:34:52.142Z"
   },
   {
    "duration": 9,
    "start_time": "2021-11-15T17:35:00.153Z"
   },
   {
    "duration": 10,
    "start_time": "2021-11-15T17:35:14.705Z"
   },
   {
    "duration": 223,
    "start_time": "2021-11-15T17:35:50.837Z"
   },
   {
    "duration": 420,
    "start_time": "2021-11-15T17:43:31.344Z"
   },
   {
    "duration": 10,
    "start_time": "2021-11-15T17:43:40.102Z"
   },
   {
    "duration": 4,
    "start_time": "2021-11-15T17:43:42.737Z"
   },
   {
    "duration": 374,
    "start_time": "2021-11-15T17:44:02.053Z"
   },
   {
    "duration": 4,
    "start_time": "2021-11-15T17:44:10.861Z"
   },
   {
    "duration": 49,
    "start_time": "2021-11-15T17:44:34.262Z"
   },
   {
    "duration": 3,
    "start_time": "2021-11-15T17:44:42.947Z"
   },
   {
    "duration": 90,
    "start_time": "2021-11-15T17:44:43.745Z"
   },
   {
    "duration": 42,
    "start_time": "2021-11-15T17:44:50.956Z"
   },
   {
    "duration": 41,
    "start_time": "2021-11-15T17:45:07.604Z"
   },
   {
    "duration": 39,
    "start_time": "2021-11-15T17:45:13.008Z"
   },
   {
    "duration": 111,
    "start_time": "2021-11-15T17:47:32.921Z"
   },
   {
    "duration": 2146,
    "start_time": "2021-11-15T17:48:10.296Z"
   },
   {
    "duration": 4,
    "start_time": "2021-11-15T17:48:30.324Z"
   },
   {
    "duration": 426,
    "start_time": "2021-11-15T17:49:03.281Z"
   },
   {
    "duration": 360,
    "start_time": "2021-11-15T17:49:08.033Z"
   },
   {
    "duration": 111,
    "start_time": "2021-11-15T17:49:50.130Z"
   },
   {
    "duration": 17,
    "start_time": "2021-11-15T17:50:20.394Z"
   },
   {
    "duration": 13,
    "start_time": "2021-11-15T17:50:39.440Z"
   },
   {
    "duration": 97994,
    "start_time": "2021-11-15T17:50:58.213Z"
   },
   {
    "duration": 108,
    "start_time": "2021-11-15T17:52:44.718Z"
   },
   {
    "duration": 108,
    "start_time": "2021-11-15T17:52:48.511Z"
   },
   {
    "duration": 18,
    "start_time": "2021-11-15T17:53:13.263Z"
   },
   {
    "duration": 103,
    "start_time": "2021-11-15T17:56:15.236Z"
   },
   {
    "duration": 915,
    "start_time": "2021-11-15T17:56:17.474Z"
   },
   {
    "duration": 101,
    "start_time": "2021-11-15T17:57:40.230Z"
   },
   {
    "duration": 3,
    "start_time": "2021-11-15T17:57:47.115Z"
   },
   {
    "duration": 134,
    "start_time": "2021-11-15T17:57:48.436Z"
   },
   {
    "duration": 13,
    "start_time": "2021-11-15T17:57:51.504Z"
   },
   {
    "duration": 111,
    "start_time": "2021-11-15T17:57:53.822Z"
   },
   {
    "duration": 75,
    "start_time": "2021-11-15T17:57:58.242Z"
   },
   {
    "duration": 111,
    "start_time": "2021-11-15T17:58:00.563Z"
   },
   {
    "duration": 38,
    "start_time": "2021-11-15T17:58:10.797Z"
   },
   {
    "duration": 39,
    "start_time": "2021-11-15T17:58:13.043Z"
   },
   {
    "duration": 3,
    "start_time": "2021-11-15T17:58:18.680Z"
   },
   {
    "duration": 84,
    "start_time": "2021-11-15T17:58:19.826Z"
   },
   {
    "duration": 43,
    "start_time": "2021-11-15T17:58:24.901Z"
   },
   {
    "duration": 40,
    "start_time": "2021-11-15T17:58:26.390Z"
   },
   {
    "duration": 1179,
    "start_time": "2021-11-15T17:58:54.569Z"
   },
   {
    "duration": 113,
    "start_time": "2021-11-15T17:59:01.409Z"
   },
   {
    "duration": 410,
    "start_time": "2021-11-15T18:01:01.783Z"
   },
   {
    "duration": 40,
    "start_time": "2021-11-15T18:01:53.172Z"
   },
   {
    "duration": 177,
    "start_time": "2021-11-15T18:02:01.503Z"
   },
   {
    "duration": 41,
    "start_time": "2021-11-15T18:06:43.441Z"
   },
   {
    "duration": 186,
    "start_time": "2021-11-15T18:06:45.561Z"
   },
   {
    "duration": 467,
    "start_time": "2021-11-15T18:07:32.321Z"
   },
   {
    "duration": 44,
    "start_time": "2021-11-15T18:07:57.292Z"
   },
   {
    "duration": 2,
    "start_time": "2021-11-15T18:11:09.663Z"
   },
   {
    "duration": 4,
    "start_time": "2021-11-15T18:11:56.978Z"
   },
   {
    "duration": 445,
    "start_time": "2021-11-15T18:12:24.211Z"
   },
   {
    "duration": 583,
    "start_time": "2021-11-15T18:28:11.776Z"
   },
   {
    "duration": 387,
    "start_time": "2021-11-15T18:28:17.212Z"
   },
   {
    "duration": 4,
    "start_time": "2021-11-15T18:28:35.242Z"
   },
   {
    "duration": 5,
    "start_time": "2021-11-15T18:28:47.960Z"
   },
   {
    "duration": 4,
    "start_time": "2021-11-15T18:28:54.304Z"
   },
   {
    "duration": 48,
    "start_time": "2021-11-15T18:30:31.904Z"
   },
   {
    "duration": 453,
    "start_time": "2021-11-15T18:34:37.334Z"
   },
   {
    "duration": 453,
    "start_time": "2021-11-15T18:34:55.446Z"
   },
   {
    "duration": 378,
    "start_time": "2021-11-15T18:35:07.396Z"
   },
   {
    "duration": 122,
    "start_time": "2021-11-15T18:36:34.873Z"
   },
   {
    "duration": 5,
    "start_time": "2021-11-15T18:36:47.527Z"
   },
   {
    "duration": 44,
    "start_time": "2021-11-15T18:37:05.365Z"
   },
   {
    "duration": 46,
    "start_time": "2021-11-15T18:37:28.942Z"
   },
   {
    "duration": 53,
    "start_time": "2021-11-15T18:37:49.613Z"
   },
   {
    "duration": 44,
    "start_time": "2021-11-15T18:37:53.557Z"
   },
   {
    "duration": 41,
    "start_time": "2021-11-15T18:38:13.258Z"
   },
   {
    "duration": 47,
    "start_time": "2021-11-15T18:38:42.186Z"
   },
   {
    "duration": 57,
    "start_time": "2021-11-15T18:39:02.086Z"
   },
   {
    "duration": 48,
    "start_time": "2021-11-15T18:39:15.326Z"
   },
   {
    "duration": 48,
    "start_time": "2021-11-15T18:39:48.446Z"
   },
   {
    "duration": 45,
    "start_time": "2021-11-15T18:40:49.541Z"
   },
   {
    "duration": 45,
    "start_time": "2021-11-15T18:41:09.619Z"
   },
   {
    "duration": 179,
    "start_time": "2021-11-15T18:41:15.429Z"
   },
   {
    "duration": 44,
    "start_time": "2021-11-15T18:42:06.756Z"
   },
   {
    "duration": 244,
    "start_time": "2021-11-15T18:42:30.792Z"
   },
   {
    "duration": 43,
    "start_time": "2021-11-15T18:43:35.699Z"
   },
   {
    "duration": 49,
    "start_time": "2021-11-15T18:43:46.602Z"
   },
   {
    "duration": 45,
    "start_time": "2021-11-15T18:44:00.198Z"
   },
   {
    "duration": 43,
    "start_time": "2021-11-15T18:44:07.066Z"
   },
   {
    "duration": 46,
    "start_time": "2021-11-15T18:44:14.773Z"
   },
   {
    "duration": 50,
    "start_time": "2021-11-15T18:44:22.497Z"
   },
   {
    "duration": 42,
    "start_time": "2021-11-15T18:44:48.976Z"
   },
   {
    "duration": 530,
    "start_time": "2021-11-15T18:45:47.831Z"
   },
   {
    "duration": 47,
    "start_time": "2021-11-15T18:46:38.901Z"
   },
   {
    "duration": 432,
    "start_time": "2021-11-15T18:47:15.231Z"
   },
   {
    "duration": 612,
    "start_time": "2021-11-15T18:47:21.902Z"
   },
   {
    "duration": 49,
    "start_time": "2021-11-15T18:47:33.731Z"
   },
   {
    "duration": 633,
    "start_time": "2021-11-15T18:47:45.716Z"
   },
   {
    "duration": 44,
    "start_time": "2021-11-15T18:47:50.284Z"
   },
   {
    "duration": 651,
    "start_time": "2021-11-15T18:48:05.286Z"
   },
   {
    "duration": 506,
    "start_time": "2021-11-15T18:48:10.575Z"
   },
   {
    "duration": 553,
    "start_time": "2021-11-15T18:48:20.272Z"
   },
   {
    "duration": 447,
    "start_time": "2021-11-15T18:48:24.459Z"
   },
   {
    "duration": 548,
    "start_time": "2021-11-15T18:48:27.699Z"
   },
   {
    "duration": 431,
    "start_time": "2021-11-15T18:48:30.768Z"
   },
   {
    "duration": 65,
    "start_time": "2021-11-15T18:49:08.142Z"
   },
   {
    "duration": 265,
    "start_time": "2021-11-15T18:49:28.239Z"
   },
   {
    "duration": 5,
    "start_time": "2021-11-15T18:49:33.086Z"
   },
   {
    "duration": 105,
    "start_time": "2021-11-15T18:49:53.213Z"
   },
   {
    "duration": 5,
    "start_time": "2021-11-15T18:50:21.479Z"
   },
   {
    "duration": 296,
    "start_time": "2021-11-15T18:50:39.209Z"
   },
   {
    "duration": 4,
    "start_time": "2021-11-15T18:50:41.376Z"
   },
   {
    "duration": 181,
    "start_time": "2021-11-15T18:50:48.891Z"
   },
   {
    "duration": 306,
    "start_time": "2021-11-15T18:51:19.887Z"
   },
   {
    "duration": 434,
    "start_time": "2021-11-15T18:51:57.110Z"
   },
   {
    "duration": 198,
    "start_time": "2021-11-15T18:52:01.919Z"
   },
   {
    "duration": 24,
    "start_time": "2021-11-15T18:52:04.450Z"
   },
   {
    "duration": 5,
    "start_time": "2021-11-15T18:52:05.644Z"
   },
   {
    "duration": 5,
    "start_time": "2021-11-15T18:53:19.733Z"
   },
   {
    "duration": 390,
    "start_time": "2021-11-15T18:53:24.948Z"
   },
   {
    "duration": 370,
    "start_time": "2021-11-15T18:53:38.047Z"
   },
   {
    "duration": 5,
    "start_time": "2021-11-15T18:53:47.783Z"
   },
   {
    "duration": 5,
    "start_time": "2021-11-15T18:54:21.777Z"
   },
   {
    "duration": 426,
    "start_time": "2021-11-15T18:54:24.090Z"
   },
   {
    "duration": 106,
    "start_time": "2021-11-15T18:54:35.763Z"
   },
   {
    "duration": 848,
    "start_time": "2021-11-15T18:54:41.597Z"
   },
   {
    "duration": 4,
    "start_time": "2021-11-15T18:54:57.344Z"
   },
   {
    "duration": 542,
    "start_time": "2021-11-15T18:55:18.749Z"
   },
   {
    "duration": 102,
    "start_time": "2021-11-15T18:55:46.601Z"
   },
   {
    "duration": 445,
    "start_time": "2021-11-15T18:56:38.555Z"
   },
   {
    "duration": 6,
    "start_time": "2021-11-15T18:56:41.188Z"
   },
   {
    "duration": 5,
    "start_time": "2021-11-15T18:56:48.746Z"
   },
   {
    "duration": 523,
    "start_time": "2021-11-15T18:56:50.823Z"
   },
   {
    "duration": 13,
    "start_time": "2021-11-15T18:57:15.910Z"
   },
   {
    "duration": 16,
    "start_time": "2021-11-15T18:57:22.842Z"
   },
   {
    "duration": 12,
    "start_time": "2021-11-15T18:57:50.019Z"
   },
   {
    "duration": 1791,
    "start_time": "2021-11-15T18:58:29.349Z"
   },
   {
    "duration": 59,
    "start_time": "2021-11-15T18:58:52.392Z"
   },
   {
    "duration": 8,
    "start_time": "2021-11-15T18:58:54.923Z"
   },
   {
    "duration": 685,
    "start_time": "2021-11-15T18:59:01.191Z"
   },
   {
    "duration": 5,
    "start_time": "2021-11-15T19:01:54.804Z"
   },
   {
    "duration": 136108,
    "start_time": "2021-11-15T19:02:12.642Z"
   },
   {
    "duration": 5,
    "start_time": "2021-11-15T19:04:53.814Z"
   },
   {
    "duration": 101,
    "start_time": "2021-11-15T19:04:59.211Z"
   },
   {
    "duration": 900,
    "start_time": "2021-11-15T19:05:30.083Z"
   },
   {
    "duration": 109,
    "start_time": "2021-11-15T19:05:47.391Z"
   },
   {
    "duration": 838,
    "start_time": "2021-11-15T19:05:50.022Z"
   },
   {
    "duration": 134139,
    "start_time": "2021-11-15T19:06:45.085Z"
   },
   {
    "duration": 99,
    "start_time": "2021-11-15T19:08:59.226Z"
   },
   {
    "duration": 40,
    "start_time": "2021-11-15T19:10:01.117Z"
   },
   {
    "duration": 39,
    "start_time": "2021-11-15T19:10:15.419Z"
   },
   {
    "duration": 245,
    "start_time": "2021-11-15T19:14:15.727Z"
   },
   {
    "duration": 45,
    "start_time": "2021-11-15T19:14:20.018Z"
   },
   {
    "duration": 6,
    "start_time": "2021-11-15T19:23:25.673Z"
   },
   {
    "duration": 6,
    "start_time": "2021-11-15T19:24:02.237Z"
   },
   {
    "duration": 600,
    "start_time": "2021-11-15T19:24:21.111Z"
   },
   {
    "duration": 5,
    "start_time": "2021-11-15T19:24:42.128Z"
   },
   {
    "duration": 6,
    "start_time": "2021-11-15T19:24:47.955Z"
   },
   {
    "duration": 17,
    "start_time": "2021-11-15T19:24:59.868Z"
   },
   {
    "duration": 111,
    "start_time": "2021-11-15T19:25:18.281Z"
   },
   {
    "duration": 11,
    "start_time": "2021-11-15T19:29:24.300Z"
   },
   {
    "duration": 6,
    "start_time": "2021-11-15T19:29:30.008Z"
   },
   {
    "duration": 19,
    "start_time": "2021-11-15T19:30:17.057Z"
   },
   {
    "duration": 6,
    "start_time": "2021-11-15T19:30:34.792Z"
   },
   {
    "duration": 18,
    "start_time": "2021-11-15T19:30:37.789Z"
   },
   {
    "duration": 4452,
    "start_time": "2021-11-15T19:31:33.171Z"
   },
   {
    "duration": 5,
    "start_time": "2021-11-15T19:31:58.225Z"
   },
   {
    "duration": 462,
    "start_time": "2021-11-15T19:32:23.183Z"
   },
   {
    "duration": 670,
    "start_time": "2021-11-15T19:32:37.346Z"
   },
   {
    "duration": 766,
    "start_time": "2021-11-15T19:32:51.305Z"
   },
   {
    "duration": 60,
    "start_time": "2021-11-15T19:33:37.763Z"
   },
   {
    "duration": 454,
    "start_time": "2021-11-15T19:34:06.357Z"
   },
   {
    "duration": 91,
    "start_time": "2021-11-15T19:34:14.770Z"
   },
   {
    "duration": 94,
    "start_time": "2021-11-15T19:34:57.961Z"
   },
   {
    "duration": 88,
    "start_time": "2021-11-15T19:35:02.928Z"
   },
   {
    "duration": 7,
    "start_time": "2021-11-15T19:35:06.937Z"
   },
   {
    "duration": 7,
    "start_time": "2021-11-15T19:35:13.488Z"
   },
   {
    "duration": 178,
    "start_time": "2021-11-15T19:35:17.713Z"
   },
   {
    "duration": 6,
    "start_time": "2021-11-15T19:35:20.512Z"
   },
   {
    "duration": 64,
    "start_time": "2021-11-15T19:35:54.203Z"
   },
   {
    "duration": 64,
    "start_time": "2021-11-15T19:36:49.489Z"
   },
   {
    "duration": 6,
    "start_time": "2021-11-15T19:36:53.221Z"
   },
   {
    "duration": 110744,
    "start_time": "2021-11-15T19:36:56.853Z"
   },
   {
    "duration": 103,
    "start_time": "2021-11-15T19:39:38.665Z"
   },
   {
    "duration": 112051,
    "start_time": "2021-11-15T19:39:42.719Z"
   },
   {
    "duration": 100,
    "start_time": "2021-11-15T19:41:41.183Z"
   },
   {
    "duration": 21,
    "start_time": "2021-11-15T19:42:47.799Z"
   },
   {
    "duration": 41,
    "start_time": "2021-11-15T19:43:01.487Z"
   },
   {
    "duration": 21,
    "start_time": "2021-11-15T19:43:05.216Z"
   },
   {
    "duration": 11,
    "start_time": "2021-11-15T19:43:15.988Z"
   },
   {
    "duration": 30,
    "start_time": "2021-11-15T19:43:51.259Z"
   },
   {
    "duration": 3,
    "start_time": "2021-11-15T19:44:07.053Z"
   },
   {
    "duration": 127,
    "start_time": "2021-11-15T19:44:08.257Z"
   },
   {
    "duration": 17,
    "start_time": "2021-11-15T19:44:14.255Z"
   },
   {
    "duration": 24,
    "start_time": "2021-11-15T19:44:18.988Z"
   },
   {
    "duration": 42,
    "start_time": "2021-11-15T19:44:22.718Z"
   },
   {
    "duration": 24,
    "start_time": "2021-11-15T19:44:25.978Z"
   },
   {
    "duration": 3,
    "start_time": "2021-11-15T19:46:11.433Z"
   },
   {
    "duration": 137,
    "start_time": "2021-11-15T19:46:12.298Z"
   },
   {
    "duration": 9,
    "start_time": "2021-11-15T19:46:13.190Z"
   },
   {
    "duration": 24,
    "start_time": "2021-11-15T19:46:18.352Z"
   },
   {
    "duration": 5,
    "start_time": "2021-11-15T19:46:23.055Z"
   },
   {
    "duration": 12,
    "start_time": "2021-11-15T19:46:25.934Z"
   },
   {
    "duration": 4,
    "start_time": "2021-11-15T19:46:28.254Z"
   },
   {
    "duration": 22,
    "start_time": "2021-11-15T19:46:30.921Z"
   },
   {
    "duration": 66,
    "start_time": "2021-11-15T19:46:34.017Z"
   },
   {
    "duration": 110,
    "start_time": "2021-11-15T19:46:34.390Z"
   },
   {
    "duration": 132775,
    "start_time": "2021-11-15T19:46:54.288Z"
   },
   {
    "duration": 108330,
    "start_time": "2021-11-15T19:49:07.065Z"
   },
   {
    "duration": 50,
    "start_time": "2021-11-15T19:51:17.751Z"
   },
   {
    "duration": 39,
    "start_time": "2021-11-15T19:51:48.923Z"
   },
   {
    "duration": 40,
    "start_time": "2021-11-15T19:52:33.586Z"
   },
   {
    "duration": 39,
    "start_time": "2021-11-15T19:55:19.813Z"
   },
   {
    "duration": 3,
    "start_time": "2021-11-15T20:03:33.549Z"
   },
   {
    "duration": 153,
    "start_time": "2021-11-15T20:03:33.554Z"
   },
   {
    "duration": 10,
    "start_time": "2021-11-15T20:03:33.709Z"
   },
   {
    "duration": 25,
    "start_time": "2021-11-15T20:03:33.721Z"
   },
   {
    "duration": 3,
    "start_time": "2021-11-15T20:03:33.748Z"
   },
   {
    "duration": 16,
    "start_time": "2021-11-15T20:03:33.753Z"
   },
   {
    "duration": 3,
    "start_time": "2021-11-15T20:03:33.792Z"
   },
   {
    "duration": 26,
    "start_time": "2021-11-15T20:03:33.797Z"
   },
   {
    "duration": 78,
    "start_time": "2021-11-15T20:03:33.825Z"
   },
   {
    "duration": 117,
    "start_time": "2021-11-15T20:03:33.904Z"
   },
   {
    "duration": 67,
    "start_time": "2021-11-15T20:03:34.022Z"
   },
   {
    "duration": -386,
    "start_time": "2021-11-15T20:03:34.477Z"
   },
   {
    "duration": -387,
    "start_time": "2021-11-15T20:03:34.479Z"
   },
   {
    "duration": -388,
    "start_time": "2021-11-15T20:03:34.481Z"
   },
   {
    "duration": -388,
    "start_time": "2021-11-15T20:03:34.482Z"
   },
   {
    "duration": -389,
    "start_time": "2021-11-15T20:03:34.484Z"
   },
   {
    "duration": -390,
    "start_time": "2021-11-15T20:03:34.486Z"
   },
   {
    "duration": -394,
    "start_time": "2021-11-15T20:03:34.491Z"
   },
   {
    "duration": -395,
    "start_time": "2021-11-15T20:03:34.493Z"
   },
   {
    "duration": -396,
    "start_time": "2021-11-15T20:03:34.495Z"
   },
   {
    "duration": -396,
    "start_time": "2021-11-15T20:03:34.496Z"
   },
   {
    "duration": -397,
    "start_time": "2021-11-15T20:03:34.498Z"
   },
   {
    "duration": -397,
    "start_time": "2021-11-15T20:03:34.499Z"
   },
   {
    "duration": -398,
    "start_time": "2021-11-15T20:03:34.501Z"
   },
   {
    "duration": -400,
    "start_time": "2021-11-15T20:03:34.504Z"
   },
   {
    "duration": -401,
    "start_time": "2021-11-15T20:03:34.506Z"
   },
   {
    "duration": -401,
    "start_time": "2021-11-15T20:03:34.507Z"
   },
   {
    "duration": -402,
    "start_time": "2021-11-15T20:03:34.509Z"
   },
   {
    "duration": -402,
    "start_time": "2021-11-15T20:03:34.510Z"
   },
   {
    "duration": -403,
    "start_time": "2021-11-15T20:03:34.512Z"
   },
   {
    "duration": -403,
    "start_time": "2021-11-15T20:03:34.513Z"
   },
   {
    "duration": -404,
    "start_time": "2021-11-15T20:03:34.515Z"
   },
   {
    "duration": -409,
    "start_time": "2021-11-15T20:03:34.521Z"
   },
   {
    "duration": -410,
    "start_time": "2021-11-15T20:03:34.523Z"
   },
   {
    "duration": -411,
    "start_time": "2021-11-15T20:03:34.525Z"
   },
   {
    "duration": -411,
    "start_time": "2021-11-15T20:03:34.526Z"
   },
   {
    "duration": -412,
    "start_time": "2021-11-15T20:03:34.528Z"
   },
   {
    "duration": -450,
    "start_time": "2021-11-15T20:03:34.567Z"
   },
   {
    "duration": -451,
    "start_time": "2021-11-15T20:03:34.569Z"
   },
   {
    "duration": -451,
    "start_time": "2021-11-15T20:03:34.570Z"
   },
   {
    "duration": -455,
    "start_time": "2021-11-15T20:03:34.575Z"
   },
   {
    "duration": -462,
    "start_time": "2021-11-15T20:03:34.583Z"
   },
   {
    "duration": -462,
    "start_time": "2021-11-15T20:03:34.585Z"
   },
   {
    "duration": -462,
    "start_time": "2021-11-15T20:03:34.586Z"
   },
   {
    "duration": -464,
    "start_time": "2021-11-15T20:03:34.588Z"
   },
   {
    "duration": -489,
    "start_time": "2021-11-15T20:03:34.614Z"
   },
   {
    "duration": -488,
    "start_time": "2021-11-15T20:03:34.616Z"
   },
   {
    "duration": -489,
    "start_time": "2021-11-15T20:03:34.618Z"
   },
   {
    "duration": -490,
    "start_time": "2021-11-15T20:03:34.619Z"
   },
   {
    "duration": -491,
    "start_time": "2021-11-15T20:03:34.621Z"
   },
   {
    "duration": -492,
    "start_time": "2021-11-15T20:03:34.623Z"
   },
   {
    "duration": -496,
    "start_time": "2021-11-15T20:03:34.628Z"
   },
   {
    "duration": -498,
    "start_time": "2021-11-15T20:03:34.630Z"
   },
   {
    "duration": -501,
    "start_time": "2021-11-15T20:03:34.634Z"
   },
   {
    "duration": -503,
    "start_time": "2021-11-15T20:03:34.636Z"
   },
   {
    "duration": -537,
    "start_time": "2021-11-15T20:03:34.671Z"
   },
   {
    "duration": -546,
    "start_time": "2021-11-15T20:03:34.680Z"
   },
   {
    "duration": -548,
    "start_time": "2021-11-15T20:03:34.682Z"
   },
   {
    "duration": -491,
    "start_time": "2021-11-15T20:03:34.683Z"
   },
   {
    "duration": -492,
    "start_time": "2021-11-15T20:03:34.685Z"
   },
   {
    "duration": -492,
    "start_time": "2021-11-15T20:03:34.686Z"
   },
   {
    "duration": -493,
    "start_time": "2021-11-15T20:03:34.688Z"
   },
   {
    "duration": -494,
    "start_time": "2021-11-15T20:03:34.689Z"
   },
   {
    "duration": -495,
    "start_time": "2021-11-15T20:03:34.691Z"
   },
   {
    "duration": -495,
    "start_time": "2021-11-15T20:03:34.692Z"
   },
   {
    "duration": -496,
    "start_time": "2021-11-15T20:03:34.694Z"
   },
   {
    "duration": 2,
    "start_time": "2021-11-15T20:04:07.259Z"
   },
   {
    "duration": 150,
    "start_time": "2021-11-15T20:04:07.263Z"
   },
   {
    "duration": 10,
    "start_time": "2021-11-15T20:04:07.415Z"
   },
   {
    "duration": 28,
    "start_time": "2021-11-15T20:04:07.427Z"
   },
   {
    "duration": 3,
    "start_time": "2021-11-15T20:04:07.457Z"
   },
   {
    "duration": 37,
    "start_time": "2021-11-15T20:04:07.462Z"
   },
   {
    "duration": 3,
    "start_time": "2021-11-15T20:04:07.501Z"
   },
   {
    "duration": 26,
    "start_time": "2021-11-15T20:04:07.507Z"
   },
   {
    "duration": 75,
    "start_time": "2021-11-15T20:04:07.535Z"
   },
   {
    "duration": 108,
    "start_time": "2021-11-15T20:04:07.612Z"
   },
   {
    "duration": 6,
    "start_time": "2021-11-15T20:04:07.722Z"
   },
   {
    "duration": 7,
    "start_time": "2021-11-15T20:04:07.730Z"
   },
   {
    "duration": 136943,
    "start_time": "2021-11-15T20:04:07.738Z"
   },
   {
    "duration": 108718,
    "start_time": "2021-11-15T20:06:24.683Z"
   },
   {
    "duration": 3,
    "start_time": "2021-11-15T20:08:13.403Z"
   },
   {
    "duration": 36,
    "start_time": "2021-11-15T20:08:13.408Z"
   },
   {
    "duration": 21,
    "start_time": "2021-11-15T20:08:13.446Z"
   },
   {
    "duration": 69,
    "start_time": "2021-11-15T20:08:13.469Z"
   },
   {
    "duration": 67,
    "start_time": "2021-11-15T20:08:13.540Z"
   },
   {
    "duration": 45,
    "start_time": "2021-11-15T20:08:13.609Z"
   },
   {
    "duration": 51,
    "start_time": "2021-11-15T20:08:13.656Z"
   },
   {
    "duration": 3,
    "start_time": "2021-11-15T20:08:13.708Z"
   },
   {
    "duration": 101,
    "start_time": "2021-11-15T20:08:13.715Z"
   },
   {
    "duration": 37,
    "start_time": "2021-11-15T20:08:13.819Z"
   },
   {
    "duration": 48,
    "start_time": "2021-11-15T20:08:13.858Z"
   },
   {
    "duration": 37,
    "start_time": "2021-11-15T20:08:13.907Z"
   },
   {
    "duration": 12,
    "start_time": "2021-11-15T20:08:13.946Z"
   },
   {
    "duration": 34,
    "start_time": "2021-11-15T20:08:13.960Z"
   },
   {
    "duration": 951,
    "start_time": "2021-11-15T20:08:13.996Z"
   },
   {
    "duration": 12,
    "start_time": "2021-11-15T20:08:14.949Z"
   },
   {
    "duration": 32,
    "start_time": "2021-11-15T20:08:14.962Z"
   },
   {
    "duration": 9,
    "start_time": "2021-11-15T20:08:14.996Z"
   },
   {
    "duration": 13,
    "start_time": "2021-11-15T20:08:15.007Z"
   },
   {
    "duration": 34,
    "start_time": "2021-11-15T20:08:15.021Z"
   },
   {
    "duration": 17,
    "start_time": "2021-11-15T20:08:15.057Z"
   },
   {
    "duration": 21,
    "start_time": "2021-11-15T20:08:15.076Z"
   },
   {
    "duration": 12,
    "start_time": "2021-11-15T20:08:15.098Z"
   },
   {
    "duration": 13,
    "start_time": "2021-11-15T20:08:15.112Z"
   },
   {
    "duration": 12,
    "start_time": "2021-11-15T20:08:15.126Z"
   },
   {
    "duration": 2,
    "start_time": "2021-11-15T20:08:15.140Z"
   },
   {
    "duration": 276,
    "start_time": "2021-11-15T20:08:15.143Z"
   },
   {
    "duration": 182,
    "start_time": "2021-11-15T20:08:15.420Z"
   },
   {
    "duration": 176,
    "start_time": "2021-11-15T20:08:15.604Z"
   },
   {
    "duration": 14,
    "start_time": "2021-11-15T20:08:15.782Z"
   },
   {
    "duration": 13,
    "start_time": "2021-11-15T20:08:15.798Z"
   },
   {
    "duration": 6,
    "start_time": "2021-11-15T20:08:15.813Z"
   },
   {
    "duration": 22,
    "start_time": "2021-11-15T20:08:15.820Z"
   },
   {
    "duration": 12,
    "start_time": "2021-11-15T20:08:15.843Z"
   },
   {
    "duration": 36,
    "start_time": "2021-11-15T20:08:15.857Z"
   },
   {
    "duration": 11,
    "start_time": "2021-11-15T20:08:15.895Z"
   },
   {
    "duration": 2,
    "start_time": "2021-11-15T20:08:15.908Z"
   },
   {
    "duration": 194,
    "start_time": "2021-11-15T20:08:15.911Z"
   },
   {
    "duration": -379,
    "start_time": "2021-11-15T20:08:16.486Z"
   },
   {
    "duration": -379,
    "start_time": "2021-11-15T20:08:16.487Z"
   },
   {
    "duration": -381,
    "start_time": "2021-11-15T20:08:16.489Z"
   },
   {
    "duration": -382,
    "start_time": "2021-11-15T20:08:16.491Z"
   },
   {
    "duration": -382,
    "start_time": "2021-11-15T20:08:16.492Z"
   },
   {
    "duration": -383,
    "start_time": "2021-11-15T20:08:16.494Z"
   },
   {
    "duration": -384,
    "start_time": "2021-11-15T20:08:16.496Z"
   },
   {
    "duration": -389,
    "start_time": "2021-11-15T20:08:16.501Z"
   },
   {
    "duration": -389,
    "start_time": "2021-11-15T20:08:16.502Z"
   },
   {
    "duration": -390,
    "start_time": "2021-11-15T20:08:16.504Z"
   },
   {
    "duration": -391,
    "start_time": "2021-11-15T20:08:16.505Z"
   },
   {
    "duration": -392,
    "start_time": "2021-11-15T20:08:16.507Z"
   },
   {
    "duration": -392,
    "start_time": "2021-11-15T20:08:16.508Z"
   },
   {
    "duration": -393,
    "start_time": "2021-11-15T20:08:16.510Z"
   },
   {
    "duration": 314,
    "start_time": "2021-11-15T20:09:34.942Z"
   },
   {
    "duration": 13,
    "start_time": "2021-11-15T20:09:58.061Z"
   },
   {
    "duration": 10,
    "start_time": "2021-11-15T20:09:59.607Z"
   },
   {
    "duration": 4,
    "start_time": "2021-11-15T20:10:00.735Z"
   },
   {
    "duration": 17,
    "start_time": "2021-11-15T20:10:01.873Z"
   },
   {
    "duration": 14,
    "start_time": "2021-11-15T20:10:07.010Z"
   },
   {
    "duration": 18,
    "start_time": "2021-11-15T20:10:07.649Z"
   },
   {
    "duration": 16,
    "start_time": "2021-11-15T20:10:08.151Z"
   },
   {
    "duration": 3,
    "start_time": "2021-11-15T20:10:08.576Z"
   },
   {
    "duration": 13,
    "start_time": "2021-11-15T20:10:31.080Z"
   },
   {
    "duration": 33,
    "start_time": "2021-11-15T20:10:32.846Z"
   },
   {
    "duration": 21,
    "start_time": "2021-11-15T20:10:35.165Z"
   },
   {
    "duration": 313,
    "start_time": "2021-11-15T20:10:36.401Z"
   },
   {
    "duration": 38,
    "start_time": "2021-11-15T20:10:36.882Z"
   },
   {
    "duration": 17,
    "start_time": "2021-11-15T20:10:37.838Z"
   },
   {
    "duration": 19,
    "start_time": "2021-11-15T20:10:38.314Z"
   },
   {
    "duration": 708,
    "start_time": "2021-11-15T20:10:38.885Z"
   },
   {
    "duration": 27,
    "start_time": "2021-11-15T20:11:15.284Z"
   },
   {
    "duration": 7,
    "start_time": "2021-11-15T20:12:26.346Z"
   },
   {
    "duration": 6,
    "start_time": "2021-11-15T20:12:37.349Z"
   },
   {
    "duration": 379,
    "start_time": "2021-11-15T20:13:28.739Z"
   },
   {
    "duration": -367,
    "start_time": "2021-11-15T20:14:26.387Z"
   },
   {
    "duration": 195,
    "start_time": "2021-11-15T20:14:30.146Z"
   },
   {
    "duration": 195,
    "start_time": "2021-11-15T20:14:46.404Z"
   },
   {
    "duration": 31,
    "start_time": "2021-11-15T20:15:07.989Z"
   },
   {
    "duration": 203,
    "start_time": "2021-11-15T20:15:15.487Z"
   },
   {
    "duration": 184,
    "start_time": "2021-11-15T20:15:23.290Z"
   },
   {
    "duration": 210,
    "start_time": "2021-11-15T20:16:15.643Z"
   },
   {
    "duration": 206,
    "start_time": "2021-11-15T20:19:12.448Z"
   },
   {
    "duration": 365,
    "start_time": "2021-11-15T20:19:24.288Z"
   },
   {
    "duration": 13,
    "start_time": "2021-11-15T20:19:41.370Z"
   },
   {
    "duration": 195,
    "start_time": "2021-11-15T20:20:13.419Z"
   },
   {
    "duration": 268,
    "start_time": "2021-11-15T20:20:45.485Z"
   },
   {
    "duration": 15,
    "start_time": "2021-11-15T20:21:25.006Z"
   },
   {
    "duration": 14,
    "start_time": "2021-11-15T20:21:31.644Z"
   },
   {
    "duration": 5,
    "start_time": "2021-11-15T20:21:57.690Z"
   },
   {
    "duration": 718,
    "start_time": "2021-11-15T20:22:04.746Z"
   },
   {
    "duration": 2282,
    "start_time": "2021-11-16T06:37:41.806Z"
   },
   {
    "duration": 207,
    "start_time": "2021-11-16T06:37:44.127Z"
   },
   {
    "duration": 28,
    "start_time": "2021-11-16T06:37:51.899Z"
   },
   {
    "duration": 25,
    "start_time": "2021-11-16T06:37:54.374Z"
   },
   {
    "duration": 87,
    "start_time": "2021-11-16T06:38:06.188Z"
   },
   {
    "duration": 134,
    "start_time": "2021-11-16T06:38:12.107Z"
   },
   {
    "duration": 61,
    "start_time": "2021-11-16T06:38:37.136Z"
   },
   {
    "duration": 23,
    "start_time": "2021-11-16T06:38:56.865Z"
   },
   {
    "duration": 77,
    "start_time": "2021-11-16T06:39:03.481Z"
   },
   {
    "duration": 126,
    "start_time": "2021-11-16T06:39:03.852Z"
   },
   {
    "duration": 7,
    "start_time": "2021-11-16T06:39:04.530Z"
   },
   {
    "duration": 9,
    "start_time": "2021-11-16T06:39:05.729Z"
   },
   {
    "duration": 136044,
    "start_time": "2021-11-16T06:39:06.821Z"
   },
   {
    "duration": 112205,
    "start_time": "2021-11-16T06:41:22.867Z"
   },
   {
    "duration": 23,
    "start_time": "2021-11-16T06:43:25.172Z"
   },
   {
    "duration": 120,
    "start_time": "2021-11-16T06:43:30.116Z"
   },
   {
    "duration": 56,
    "start_time": "2021-11-16T06:43:39.154Z"
   },
   {
    "duration": 49,
    "start_time": "2021-11-16T06:43:42.748Z"
   },
   {
    "duration": 23,
    "start_time": "2021-11-16T06:44:05.178Z"
   },
   {
    "duration": 82,
    "start_time": "2021-11-16T06:44:10.159Z"
   },
   {
    "duration": 61,
    "start_time": "2021-11-16T06:44:11.370Z"
   },
   {
    "duration": 51,
    "start_time": "2021-11-16T06:44:12.709Z"
   },
   {
    "duration": 48,
    "start_time": "2021-11-16T06:44:20.468Z"
   },
   {
    "duration": 3,
    "start_time": "2021-11-16T06:44:26.142Z"
   },
   {
    "duration": 88,
    "start_time": "2021-11-16T06:44:30.805Z"
   },
   {
    "duration": 52,
    "start_time": "2021-11-16T06:44:37.779Z"
   },
   {
    "duration": 47,
    "start_time": "2021-11-16T06:44:44.829Z"
   },
   {
    "duration": 12,
    "start_time": "2021-11-16T06:44:58.803Z"
   },
   {
    "duration": 14,
    "start_time": "2021-11-16T06:45:03.667Z"
   },
   {
    "duration": 958,
    "start_time": "2021-11-16T06:45:04.958Z"
   },
   {
    "duration": 13,
    "start_time": "2021-11-16T06:45:05.918Z"
   },
   {
    "duration": 23,
    "start_time": "2021-11-16T06:45:29.515Z"
   },
   {
    "duration": 12,
    "start_time": "2021-11-16T06:45:33.504Z"
   },
   {
    "duration": 3,
    "start_time": "2021-11-16T06:45:46.308Z"
   },
   {
    "duration": 246,
    "start_time": "2021-11-16T06:46:00.341Z"
   },
   {
    "duration": 182,
    "start_time": "2021-11-16T06:46:22.840Z"
   },
   {
    "duration": 36,
    "start_time": "2021-11-16T06:47:45.323Z"
   },
   {
    "duration": 15,
    "start_time": "2021-11-16T06:47:48.776Z"
   },
   {
    "duration": 317,
    "start_time": "2021-11-16T06:47:50.171Z"
   },
   {
    "duration": 41,
    "start_time": "2021-11-16T06:48:17.389Z"
   },
   {
    "duration": 65,
    "start_time": "2021-11-16T06:49:13.499Z"
   },
   {
    "duration": 18,
    "start_time": "2021-11-16T06:49:47.311Z"
   },
   {
    "duration": 17,
    "start_time": "2021-11-16T06:50:35.214Z"
   },
   {
    "duration": 17,
    "start_time": "2021-11-16T06:50:45.401Z"
   },
   {
    "duration": 29,
    "start_time": "2021-11-16T06:51:00.042Z"
   },
   {
    "duration": 5,
    "start_time": "2021-11-16T06:51:07.975Z"
   },
   {
    "duration": 712,
    "start_time": "2021-11-16T06:52:54.553Z"
   },
   {
    "duration": 122,
    "start_time": "2021-11-16T07:01:44.683Z"
   },
   {
    "duration": 121,
    "start_time": "2021-11-16T07:01:50.015Z"
   },
   {
    "duration": 658,
    "start_time": "2021-11-16T07:02:32.441Z"
   },
   {
    "duration": 852,
    "start_time": "2021-11-16T07:02:43.315Z"
   },
   {
    "duration": 716,
    "start_time": "2021-11-16T07:02:55.117Z"
   },
   {
    "duration": 623,
    "start_time": "2021-11-16T07:03:00.420Z"
   },
   {
    "duration": 814,
    "start_time": "2021-11-16T07:03:19.383Z"
   },
   {
    "duration": 673,
    "start_time": "2021-11-16T07:03:39.645Z"
   },
   {
    "duration": 731,
    "start_time": "2021-11-16T07:03:47.332Z"
   },
   {
    "duration": 762,
    "start_time": "2021-11-16T07:03:58.525Z"
   },
   {
    "duration": 691,
    "start_time": "2021-11-16T07:04:18.452Z"
   },
   {
    "duration": 1962,
    "start_time": "2021-11-16T07:04:43.440Z"
   },
   {
    "duration": 557,
    "start_time": "2021-11-16T07:07:05.109Z"
   },
   {
    "duration": 1995,
    "start_time": "2021-11-16T07:07:19.804Z"
   },
   {
    "duration": 1962,
    "start_time": "2021-11-16T07:07:26.974Z"
   },
   {
    "duration": 2004,
    "start_time": "2021-11-16T07:08:52.898Z"
   },
   {
    "duration": 2226,
    "start_time": "2021-11-16T07:10:08.397Z"
   },
   {
    "duration": 1886,
    "start_time": "2021-11-16T07:11:44.760Z"
   },
   {
    "duration": 2042,
    "start_time": "2021-11-16T07:12:12.347Z"
   },
   {
    "duration": 1861,
    "start_time": "2021-11-16T07:12:17.983Z"
   },
   {
    "duration": 967,
    "start_time": "2021-11-16T07:12:37.861Z"
   },
   {
    "duration": 923,
    "start_time": "2021-11-16T07:15:34.674Z"
   },
   {
    "duration": 1099,
    "start_time": "2021-11-16T07:15:55.808Z"
   },
   {
    "duration": 1995,
    "start_time": "2021-11-16T07:17:57.230Z"
   },
   {
    "duration": 1966,
    "start_time": "2021-11-16T07:18:01.836Z"
   },
   {
    "duration": 949,
    "start_time": "2021-11-16T07:18:10.949Z"
   },
   {
    "duration": 1867,
    "start_time": "2021-11-16T07:18:16.877Z"
   },
   {
    "duration": 1922,
    "start_time": "2021-11-16T07:19:36.368Z"
   },
   {
    "duration": 2338,
    "start_time": "2021-11-16T07:19:46.340Z"
   },
   {
    "duration": 2036,
    "start_time": "2021-11-16T07:22:20.722Z"
   },
   {
    "duration": 2101,
    "start_time": "2021-11-16T07:22:27.842Z"
   },
   {
    "duration": 1907,
    "start_time": "2021-11-16T07:22:41.510Z"
   },
   {
    "duration": 1895,
    "start_time": "2021-11-16T07:23:17.978Z"
   },
   {
    "duration": 1881,
    "start_time": "2021-11-16T07:23:26.349Z"
   },
   {
    "duration": 2160,
    "start_time": "2021-11-16T07:23:35.470Z"
   },
   {
    "duration": 1864,
    "start_time": "2021-11-16T07:23:55.762Z"
   },
   {
    "duration": 1889,
    "start_time": "2021-11-16T07:24:08.061Z"
   },
   {
    "duration": 2002,
    "start_time": "2021-11-16T07:24:21.645Z"
   },
   {
    "duration": 1903,
    "start_time": "2021-11-16T07:24:39.049Z"
   },
   {
    "duration": 1894,
    "start_time": "2021-11-16T07:24:52.495Z"
   },
   {
    "duration": 1093,
    "start_time": "2021-11-16T07:25:59.695Z"
   },
   {
    "duration": 1693,
    "start_time": "2021-11-16T07:27:11.029Z"
   },
   {
    "duration": 1864,
    "start_time": "2021-11-16T07:27:18.961Z"
   },
   {
    "duration": 1844,
    "start_time": "2021-11-16T07:27:32.950Z"
   },
   {
    "duration": 2322,
    "start_time": "2021-11-16T07:27:42.132Z"
   },
   {
    "duration": 1748,
    "start_time": "2021-11-16T07:27:53.334Z"
   },
   {
    "duration": 448,
    "start_time": "2021-11-16T07:28:57.069Z"
   },
   {
    "duration": 860,
    "start_time": "2021-11-16T07:29:17.281Z"
   },
   {
    "duration": 1743,
    "start_time": "2021-11-16T07:29:23.709Z"
   },
   {
    "duration": 1799,
    "start_time": "2021-11-16T07:30:37.145Z"
   },
   {
    "duration": 1855,
    "start_time": "2021-11-16T07:30:46.571Z"
   },
   {
    "duration": 2776,
    "start_time": "2021-11-16T07:52:34.647Z"
   },
   {
    "duration": 322,
    "start_time": "2021-11-16T08:03:33.205Z"
   },
   {
    "duration": 323,
    "start_time": "2021-11-16T08:04:11.636Z"
   },
   {
    "duration": 593,
    "start_time": "2021-11-16T08:04:22.716Z"
   },
   {
    "duration": 940,
    "start_time": "2021-11-16T08:04:31.964Z"
   },
   {
    "duration": 1649,
    "start_time": "2021-11-16T08:10:32.224Z"
   },
   {
    "duration": 1801,
    "start_time": "2021-11-16T08:10:39.068Z"
   },
   {
    "duration": 491,
    "start_time": "2021-11-16T08:11:20.485Z"
   },
   {
    "duration": 551,
    "start_time": "2021-11-16T08:11:35.031Z"
   },
   {
    "duration": 1903,
    "start_time": "2021-11-16T08:11:43.157Z"
   },
   {
    "duration": 1841,
    "start_time": "2021-11-16T08:11:49.435Z"
   },
   {
    "duration": 2263,
    "start_time": "2021-11-16T08:12:02.769Z"
   },
   {
    "duration": 1855,
    "start_time": "2021-11-16T08:12:10.472Z"
   },
   {
    "duration": 1850,
    "start_time": "2021-11-16T08:12:57.392Z"
   },
   {
    "duration": 910,
    "start_time": "2021-11-16T08:13:43.232Z"
   },
   {
    "duration": 1932,
    "start_time": "2021-11-16T08:13:49.236Z"
   },
   {
    "duration": 95,
    "start_time": "2021-11-16T08:16:17.981Z"
   },
   {
    "duration": 1750,
    "start_time": "2021-11-16T08:16:20.694Z"
   },
   {
    "duration": 1055,
    "start_time": "2021-11-16T08:16:42.176Z"
   },
   {
    "duration": 923,
    "start_time": "2021-11-16T08:16:54.020Z"
   },
   {
    "duration": 1030,
    "start_time": "2021-11-16T08:16:57.221Z"
   },
   {
    "duration": 915,
    "start_time": "2021-11-16T08:17:15.424Z"
   },
   {
    "duration": 896,
    "start_time": "2021-11-16T08:18:28.722Z"
   },
   {
    "duration": 2012,
    "start_time": "2021-11-16T08:18:31.285Z"
   },
   {
    "duration": 1793,
    "start_time": "2021-11-16T08:19:19.293Z"
   },
   {
    "duration": 1771,
    "start_time": "2021-11-16T08:19:40.801Z"
   },
   {
    "duration": 1778,
    "start_time": "2021-11-16T08:20:05.034Z"
   },
   {
    "duration": 3,
    "start_time": "2021-11-16T08:25:14.580Z"
   },
   {
    "duration": 4,
    "start_time": "2021-11-16T08:56:25.888Z"
   },
   {
    "duration": 30,
    "start_time": "2021-11-16T08:57:05.912Z"
   },
   {
    "duration": 4,
    "start_time": "2021-11-16T09:07:30.358Z"
   },
   {
    "duration": 50,
    "start_time": "2021-11-16T09:07:32.406Z"
   },
   {
    "duration": 4,
    "start_time": "2021-11-16T09:07:39.349Z"
   },
   {
    "duration": 45,
    "start_time": "2021-11-16T09:07:40.811Z"
   },
   {
    "duration": 4,
    "start_time": "2021-11-16T09:08:16.312Z"
   },
   {
    "duration": 4,
    "start_time": "2021-11-16T09:08:17.755Z"
   },
   {
    "duration": 47,
    "start_time": "2021-11-16T09:08:20.016Z"
   },
   {
    "duration": 6,
    "start_time": "2021-11-16T09:09:08.940Z"
   },
   {
    "duration": 3724,
    "start_time": "2021-11-16T09:09:11.385Z"
   },
   {
    "duration": 6,
    "start_time": "2021-11-16T09:12:33.364Z"
   },
   {
    "duration": 1951,
    "start_time": "2021-11-16T09:12:34.920Z"
   },
   {
    "duration": 2363,
    "start_time": "2021-11-16T09:13:24.687Z"
   },
   {
    "duration": 1821,
    "start_time": "2021-11-16T09:13:37.970Z"
   },
   {
    "duration": 6,
    "start_time": "2021-11-16T09:14:07.455Z"
   },
   {
    "duration": 2,
    "start_time": "2021-11-16T09:14:08.845Z"
   },
   {
    "duration": 1793,
    "start_time": "2021-11-16T09:14:09.148Z"
   },
   {
    "duration": 6,
    "start_time": "2021-11-16T09:16:57.153Z"
   },
   {
    "duration": 3594,
    "start_time": "2021-11-16T09:16:59.689Z"
   },
   {
    "duration": 10,
    "start_time": "2021-11-16T09:18:13.496Z"
   },
   {
    "duration": 3513,
    "start_time": "2021-11-16T09:18:15.140Z"
   },
   {
    "duration": 6,
    "start_time": "2021-11-16T09:18:36.021Z"
   },
   {
    "duration": 1176,
    "start_time": "2021-11-16T09:18:38.071Z"
   },
   {
    "duration": 6,
    "start_time": "2021-11-16T09:19:33.228Z"
   },
   {
    "duration": 702,
    "start_time": "2021-11-16T09:19:36.042Z"
   },
   {
    "duration": 6,
    "start_time": "2021-11-16T09:20:58.543Z"
   },
   {
    "duration": 3834,
    "start_time": "2021-11-16T09:21:00.482Z"
   },
   {
    "duration": 6,
    "start_time": "2021-11-16T09:21:42.433Z"
   },
   {
    "duration": 3722,
    "start_time": "2021-11-16T09:21:43.882Z"
   },
   {
    "duration": 6,
    "start_time": "2021-11-16T09:21:58.744Z"
   },
   {
    "duration": 3795,
    "start_time": "2021-11-16T09:22:00.301Z"
   },
   {
    "duration": 6,
    "start_time": "2021-11-16T09:22:08.527Z"
   },
   {
    "duration": 3552,
    "start_time": "2021-11-16T09:22:22.900Z"
   },
   {
    "duration": 7,
    "start_time": "2021-11-16T09:22:40.842Z"
   },
   {
    "duration": 4155,
    "start_time": "2021-11-16T09:22:42.320Z"
   },
   {
    "duration": 6,
    "start_time": "2021-11-16T09:23:58.885Z"
   },
   {
    "duration": 1253,
    "start_time": "2021-11-16T09:24:00.449Z"
   },
   {
    "duration": 8,
    "start_time": "2021-11-16T09:24:17.885Z"
   },
   {
    "duration": 3579,
    "start_time": "2021-11-16T09:24:20.686Z"
   },
   {
    "duration": 283,
    "start_time": "2021-11-16T09:27:50.988Z"
   },
   {
    "duration": 4,
    "start_time": "2021-11-16T09:27:59.535Z"
   },
   {
    "duration": 98,
    "start_time": "2021-11-16T09:36:46.506Z"
   },
   {
    "duration": 4,
    "start_time": "2021-11-16T09:37:02.503Z"
   },
   {
    "duration": 5,
    "start_time": "2021-11-16T09:37:07.113Z"
   },
   {
    "duration": 6,
    "start_time": "2021-11-16T09:37:19.581Z"
   },
   {
    "duration": 2393,
    "start_time": "2021-11-16T09:37:21.008Z"
   },
   {
    "duration": 5,
    "start_time": "2021-11-16T09:38:16.797Z"
   },
   {
    "duration": 810,
    "start_time": "2021-11-16T09:38:19.795Z"
   },
   {
    "duration": 9,
    "start_time": "2021-11-16T09:38:27.582Z"
   },
   {
    "duration": 2410,
    "start_time": "2021-11-16T09:38:29.763Z"
   },
   {
    "duration": 10,
    "start_time": "2021-11-16T09:38:37.173Z"
   },
   {
    "duration": 3,
    "start_time": "2021-11-16T09:38:38.815Z"
   },
   {
    "duration": 3638,
    "start_time": "2021-11-16T09:38:39.045Z"
   },
   {
    "duration": 19,
    "start_time": "2021-11-16T09:43:15.443Z"
   },
   {
    "duration": 271,
    "start_time": "2021-11-16T09:53:28.647Z"
   },
   {
    "duration": 52,
    "start_time": "2021-11-16T09:53:30.835Z"
   },
   {
    "duration": 23,
    "start_time": "2021-11-16T09:53:33.427Z"
   },
   {
    "duration": 52,
    "start_time": "2021-11-16T09:53:45.699Z"
   },
   {
    "duration": 21,
    "start_time": "2021-11-16T09:53:48.738Z"
   },
   {
    "duration": 56,
    "start_time": "2021-11-16T09:53:58.602Z"
   },
   {
    "duration": 29,
    "start_time": "2021-11-16T09:54:03.258Z"
   },
   {
    "duration": 34,
    "start_time": "2021-11-16T09:54:30.908Z"
   },
   {
    "duration": 26,
    "start_time": "2021-11-16T09:54:44.860Z"
   },
   {
    "duration": 33,
    "start_time": "2021-11-16T09:55:07.647Z"
   },
   {
    "duration": 259,
    "start_time": "2021-11-16T09:56:12.394Z"
   },
   {
    "duration": 34,
    "start_time": "2021-11-16T09:57:00.626Z"
   },
   {
    "duration": 36,
    "start_time": "2021-11-16T09:57:01.642Z"
   },
   {
    "duration": 41,
    "start_time": "2021-11-16T09:57:31.886Z"
   },
   {
    "duration": 43,
    "start_time": "2021-11-16T09:57:41.332Z"
   },
   {
    "duration": 36,
    "start_time": "2021-11-16T09:58:10.642Z"
   },
   {
    "duration": 40,
    "start_time": "2021-11-16T09:59:35.681Z"
   },
   {
    "duration": 42,
    "start_time": "2021-11-16T09:59:39.607Z"
   },
   {
    "duration": 47,
    "start_time": "2021-11-16T09:59:51.753Z"
   },
   {
    "duration": 51,
    "start_time": "2021-11-16T10:00:03.188Z"
   },
   {
    "duration": 620,
    "start_time": "2021-11-16T10:00:38.665Z"
   },
   {
    "duration": 751,
    "start_time": "2021-11-16T10:01:00.676Z"
   },
   {
    "duration": 737,
    "start_time": "2021-11-16T10:01:22.122Z"
   },
   {
    "duration": 732,
    "start_time": "2021-11-16T10:01:58.726Z"
   },
   {
    "duration": 729,
    "start_time": "2021-11-16T11:09:36.255Z"
   },
   {
    "duration": 1005,
    "start_time": "2021-11-16T11:10:03.192Z"
   },
   {
    "duration": 968,
    "start_time": "2021-11-16T11:10:07.998Z"
   },
   {
    "duration": 720,
    "start_time": "2021-11-16T11:11:07.545Z"
   },
   {
    "duration": 460,
    "start_time": "2021-11-16T11:11:56.743Z"
   },
   {
    "duration": 827,
    "start_time": "2021-11-16T11:13:22.964Z"
   },
   {
    "duration": 1170,
    "start_time": "2021-11-16T11:13:30.187Z"
   },
   {
    "duration": 799,
    "start_time": "2021-11-16T11:13:42.571Z"
   },
   {
    "duration": 779,
    "start_time": "2021-11-16T11:13:49.419Z"
   },
   {
    "duration": 750,
    "start_time": "2021-11-16T11:13:58.692Z"
   },
   {
    "duration": 736,
    "start_time": "2021-11-16T11:14:03.410Z"
   },
   {
    "duration": 765,
    "start_time": "2021-11-16T11:14:08.868Z"
   },
   {
    "duration": 793,
    "start_time": "2021-11-16T11:14:13.252Z"
   },
   {
    "duration": 1122,
    "start_time": "2021-11-16T11:14:18.613Z"
   },
   {
    "duration": 1016,
    "start_time": "2021-11-16T11:14:27.540Z"
   },
   {
    "duration": 740,
    "start_time": "2021-11-16T11:14:38.574Z"
   },
   {
    "duration": 755,
    "start_time": "2021-11-16T11:14:44.743Z"
   },
   {
    "duration": 782,
    "start_time": "2021-11-16T11:14:48.939Z"
   },
   {
    "duration": 1531,
    "start_time": "2021-11-16T11:14:54.328Z"
   },
   {
    "duration": 766,
    "start_time": "2021-11-16T11:15:02.531Z"
   },
   {
    "duration": 768,
    "start_time": "2021-11-16T11:15:07.058Z"
   },
   {
    "duration": 801,
    "start_time": "2021-11-16T11:15:22.353Z"
   },
   {
    "duration": 805,
    "start_time": "2021-11-16T11:15:33.329Z"
   },
   {
    "duration": 748,
    "start_time": "2021-11-16T11:15:37.780Z"
   },
   {
    "duration": 761,
    "start_time": "2021-11-16T11:15:43.397Z"
   },
   {
    "duration": 822,
    "start_time": "2021-11-16T11:15:48.324Z"
   },
   {
    "duration": 738,
    "start_time": "2021-11-16T11:16:27.150Z"
   },
   {
    "duration": 784,
    "start_time": "2021-11-16T11:17:04.761Z"
   },
   {
    "duration": 757,
    "start_time": "2021-11-16T11:17:41.918Z"
   },
   {
    "duration": 771,
    "start_time": "2021-11-16T11:17:47.745Z"
   },
   {
    "duration": 676,
    "start_time": "2021-11-16T11:18:44.697Z"
   },
   {
    "duration": 262,
    "start_time": "2021-11-16T11:19:06.211Z"
   },
   {
    "duration": 785,
    "start_time": "2021-11-16T11:19:25.042Z"
   },
   {
    "duration": 18,
    "start_time": "2021-11-16T11:24:43.717Z"
   },
   {
    "duration": 10,
    "start_time": "2021-11-16T11:24:49.525Z"
   },
   {
    "duration": 12,
    "start_time": "2021-11-16T11:24:56.055Z"
   },
   {
    "duration": 6,
    "start_time": "2021-11-16T11:25:03.512Z"
   },
   {
    "duration": 12,
    "start_time": "2021-11-16T11:25:13.938Z"
   },
   {
    "duration": 5,
    "start_time": "2021-11-16T11:25:26.743Z"
   },
   {
    "duration": 138,
    "start_time": "2021-11-16T11:25:56.258Z"
   },
   {
    "duration": 3,
    "start_time": "2021-11-16T11:26:18.132Z"
   },
   {
    "duration": 5,
    "start_time": "2021-11-16T11:26:20.489Z"
   },
   {
    "duration": 157,
    "start_time": "2021-11-16T11:26:27.715Z"
   },
   {
    "duration": 202,
    "start_time": "2021-11-16T11:26:35.963Z"
   },
   {
    "duration": 125,
    "start_time": "2021-11-16T11:29:06.477Z"
   },
   {
    "duration": 136,
    "start_time": "2021-11-16T11:29:14.531Z"
   },
   {
    "duration": 194,
    "start_time": "2021-11-16T11:29:23.860Z"
   },
   {
    "duration": 266,
    "start_time": "2021-11-16T11:30:12.836Z"
   },
   {
    "duration": 257,
    "start_time": "2021-11-16T11:30:32.056Z"
   },
   {
    "duration": 517,
    "start_time": "2021-11-16T11:30:43.444Z"
   },
   {
    "duration": 220,
    "start_time": "2021-11-16T11:38:38.726Z"
   },
   {
    "duration": 207,
    "start_time": "2021-11-16T11:40:06.919Z"
   },
   {
    "duration": 210,
    "start_time": "2021-11-16T11:40:11.989Z"
   },
   {
    "duration": 277,
    "start_time": "2021-11-16T11:40:20.931Z"
   },
   {
    "duration": 211,
    "start_time": "2021-11-16T11:40:23.391Z"
   },
   {
    "duration": 218,
    "start_time": "2021-11-16T11:40:34.658Z"
   },
   {
    "duration": 303,
    "start_time": "2021-11-16T11:46:20.926Z"
   },
   {
    "duration": 213,
    "start_time": "2021-11-16T11:46:41.276Z"
   },
   {
    "duration": 382,
    "start_time": "2021-11-16T11:48:41.342Z"
   },
   {
    "duration": 377,
    "start_time": "2021-11-16T11:49:20.842Z"
   },
   {
    "duration": 295,
    "start_time": "2021-11-16T11:49:35.258Z"
   },
   {
    "duration": 309,
    "start_time": "2021-11-16T11:49:43.241Z"
   },
   {
    "duration": 388,
    "start_time": "2021-11-16T11:49:47.950Z"
   },
   {
    "duration": 300,
    "start_time": "2021-11-16T11:49:52.563Z"
   },
   {
    "duration": 31,
    "start_time": "2021-11-16T11:53:19.287Z"
   },
   {
    "duration": 4,
    "start_time": "2021-11-16T11:55:03.682Z"
   },
   {
    "duration": 4,
    "start_time": "2021-11-16T11:55:17.928Z"
   },
   {
    "duration": 263,
    "start_time": "2021-11-16T11:55:39.813Z"
   },
   {
    "duration": 4,
    "start_time": "2021-11-16T11:55:49.234Z"
   },
   {
    "duration": 33,
    "start_time": "2021-11-16T11:56:05.376Z"
   },
   {
    "duration": 5,
    "start_time": "2021-11-16T11:56:06.497Z"
   },
   {
    "duration": 4,
    "start_time": "2021-11-16T11:56:13.198Z"
   },
   {
    "duration": 33,
    "start_time": "2021-11-16T11:56:28.012Z"
   },
   {
    "duration": 29,
    "start_time": "2021-11-16T11:56:39.680Z"
   },
   {
    "duration": 5,
    "start_time": "2021-11-16T11:56:50.824Z"
   },
   {
    "duration": 4,
    "start_time": "2021-11-16T11:56:52.513Z"
   },
   {
    "duration": 4,
    "start_time": "2021-11-16T12:00:15.629Z"
   },
   {
    "duration": 3,
    "start_time": "2021-11-16T12:05:35.391Z"
   },
   {
    "duration": 4,
    "start_time": "2021-11-16T12:05:55.211Z"
   },
   {
    "duration": 1705,
    "start_time": "2021-11-16T12:08:41.964Z"
   },
   {
    "duration": 331,
    "start_time": "2021-11-16T12:09:47.442Z"
   },
   {
    "duration": 83,
    "start_time": "2021-11-16T12:10:10.797Z"
   },
   {
    "duration": 20,
    "start_time": "2021-11-16T12:10:18.215Z"
   },
   {
    "duration": 4,
    "start_time": "2021-11-16T12:12:19.066Z"
   },
   {
    "duration": 268,
    "start_time": "2021-11-16T12:12:31.905Z"
   },
   {
    "duration": 32,
    "start_time": "2021-11-16T12:12:35.935Z"
   },
   {
    "duration": 20,
    "start_time": "2021-11-16T12:12:37.220Z"
   },
   {
    "duration": 251,
    "start_time": "2021-11-16T12:12:39.127Z"
   },
   {
    "duration": 32,
    "start_time": "2021-11-16T12:12:51.028Z"
   },
   {
    "duration": 4,
    "start_time": "2021-11-16T12:12:52.004Z"
   },
   {
    "duration": 271,
    "start_time": "2021-11-16T12:13:02.399Z"
   },
   {
    "duration": 3,
    "start_time": "2021-11-16T12:14:50.248Z"
   },
   {
    "duration": 2,
    "start_time": "2021-11-16T12:15:06.931Z"
   },
   {
    "duration": 3,
    "start_time": "2021-11-16T12:15:10.534Z"
   },
   {
    "duration": 3,
    "start_time": "2021-11-16T12:15:21.744Z"
   },
   {
    "duration": 4,
    "start_time": "2021-11-16T12:15:35.578Z"
   },
   {
    "duration": 3,
    "start_time": "2021-11-16T12:15:54.252Z"
   },
   {
    "duration": 4,
    "start_time": "2021-11-16T12:15:55.229Z"
   },
   {
    "duration": 3,
    "start_time": "2021-11-16T12:15:58.499Z"
   },
   {
    "duration": 3,
    "start_time": "2021-11-16T12:15:58.993Z"
   },
   {
    "duration": 4,
    "start_time": "2021-11-16T12:15:59.723Z"
   },
   {
    "duration": 2,
    "start_time": "2021-11-16T12:16:29.594Z"
   },
   {
    "duration": 4,
    "start_time": "2021-11-16T12:16:33.340Z"
   },
   {
    "duration": 80,
    "start_time": "2021-11-16T12:18:27.636Z"
   },
   {
    "duration": 20,
    "start_time": "2021-11-16T12:18:35.578Z"
   },
   {
    "duration": 24,
    "start_time": "2021-11-16T12:18:45.003Z"
   },
   {
    "duration": 4,
    "start_time": "2021-11-16T12:19:08.360Z"
   },
   {
    "duration": 76,
    "start_time": "2021-11-16T12:19:28.578Z"
   },
   {
    "duration": 4,
    "start_time": "2021-11-16T12:19:29.827Z"
   },
   {
    "duration": 23,
    "start_time": "2021-11-16T12:19:40.118Z"
   },
   {
    "duration": 136,
    "start_time": "2021-11-16T12:21:38.350Z"
   },
   {
    "duration": 120,
    "start_time": "2021-11-16T12:22:35.174Z"
   },
   {
    "duration": 91,
    "start_time": "2021-11-16T12:22:45.651Z"
   },
   {
    "duration": 354,
    "start_time": "2021-11-16T12:23:02.611Z"
   },
   {
    "duration": 124,
    "start_time": "2021-11-16T12:28:22.758Z"
   },
   {
    "duration": 127,
    "start_time": "2021-11-16T12:29:24.110Z"
   },
   {
    "duration": 146,
    "start_time": "2021-11-16T12:30:12.969Z"
   },
   {
    "duration": 375,
    "start_time": "2021-11-16T12:30:15.767Z"
   },
   {
    "duration": 137,
    "start_time": "2021-11-16T12:34:29.085Z"
   },
   {
    "duration": 378,
    "start_time": "2021-11-16T12:34:33.001Z"
   },
   {
    "duration": 32,
    "start_time": "2021-11-16T12:36:52.369Z"
   },
   {
    "duration": 15,
    "start_time": "2021-11-16T12:37:24.524Z"
   },
   {
    "duration": 34,
    "start_time": "2021-11-16T12:41:34.650Z"
   },
   {
    "duration": 27,
    "start_time": "2021-11-16T12:41:35.542Z"
   },
   {
    "duration": 16,
    "start_time": "2021-11-16T12:41:41.833Z"
   },
   {
    "duration": 7,
    "start_time": "2021-11-16T12:42:12.389Z"
   },
   {
    "duration": 5,
    "start_time": "2021-11-16T12:42:26.725Z"
   },
   {
    "duration": 52,
    "start_time": "2021-11-16T12:42:46.131Z"
   },
   {
    "duration": 4,
    "start_time": "2021-11-16T12:42:48.284Z"
   },
   {
    "duration": 421,
    "start_time": "2021-11-16T12:43:21.949Z"
   },
   {
    "duration": 310,
    "start_time": "2021-11-16T12:43:37.312Z"
   },
   {
    "duration": 49,
    "start_time": "2021-11-16T12:44:28.833Z"
   },
   {
    "duration": 3,
    "start_time": "2021-11-16T12:44:31.918Z"
   },
   {
    "duration": 3,
    "start_time": "2021-11-16T12:44:34.225Z"
   },
   {
    "duration": 54,
    "start_time": "2021-11-16T12:44:54.578Z"
   },
   {
    "duration": 4,
    "start_time": "2021-11-16T12:44:56.243Z"
   },
   {
    "duration": 51,
    "start_time": "2021-11-16T12:45:04.819Z"
   },
   {
    "duration": 5,
    "start_time": "2021-11-16T12:45:06.604Z"
   },
   {
    "duration": 24,
    "start_time": "2021-11-16T12:45:15.610Z"
   },
   {
    "duration": 6,
    "start_time": "2021-11-16T12:45:15.773Z"
   },
   {
    "duration": 17,
    "start_time": "2021-11-16T12:45:39.874Z"
   },
   {
    "duration": 7,
    "start_time": "2021-11-16T12:46:09.841Z"
   },
   {
    "duration": 19,
    "start_time": "2021-11-16T12:47:07.568Z"
   },
   {
    "duration": 9,
    "start_time": "2021-11-16T12:47:49.434Z"
   },
   {
    "duration": 14,
    "start_time": "2021-11-16T12:48:22.932Z"
   },
   {
    "duration": 12,
    "start_time": "2021-11-16T12:48:58.353Z"
   },
   {
    "duration": 10,
    "start_time": "2021-11-16T12:50:33.504Z"
   },
   {
    "duration": 7,
    "start_time": "2021-11-16T12:50:34.645Z"
   },
   {
    "duration": 399,
    "start_time": "2021-11-16T12:51:08.621Z"
   },
   {
    "duration": 376,
    "start_time": "2021-11-16T12:51:34.780Z"
   },
   {
    "duration": 7,
    "start_time": "2021-11-16T12:52:48.567Z"
   },
   {
    "duration": 5,
    "start_time": "2021-11-16T12:52:54.972Z"
   },
   {
    "duration": 5,
    "start_time": "2021-11-16T12:52:57.944Z"
   },
   {
    "duration": 6,
    "start_time": "2021-11-16T12:53:01.016Z"
   },
   {
    "duration": 6,
    "start_time": "2021-11-16T12:53:10.074Z"
   },
   {
    "duration": 117,
    "start_time": "2021-11-16T12:53:49.787Z"
   },
   {
    "duration": 123,
    "start_time": "2021-11-16T12:54:25.772Z"
   },
   {
    "duration": 374,
    "start_time": "2021-11-16T12:54:32.706Z"
   },
   {
    "duration": 4,
    "start_time": "2021-11-16T12:54:46.703Z"
   },
   {
    "duration": 5,
    "start_time": "2021-11-16T12:54:49.704Z"
   },
   {
    "duration": 286,
    "start_time": "2021-11-16T12:54:51.957Z"
   },
   {
    "duration": 1654,
    "start_time": "2021-11-16T15:34:22.952Z"
   },
   {
    "duration": 192,
    "start_time": "2021-11-16T15:34:24.609Z"
   },
   {
    "duration": 23,
    "start_time": "2021-11-16T15:34:25.043Z"
   },
   {
    "duration": 34,
    "start_time": "2021-11-16T15:34:27.095Z"
   },
   {
    "duration": 6,
    "start_time": "2021-11-16T15:34:30.680Z"
   },
   {
    "duration": 36,
    "start_time": "2021-11-16T15:34:31.730Z"
   },
   {
    "duration": 5,
    "start_time": "2021-11-16T15:34:34.474Z"
   },
   {
    "duration": 33,
    "start_time": "2021-11-16T15:34:34.483Z"
   },
   {
    "duration": 148,
    "start_time": "2021-11-16T15:34:36.807Z"
   },
   {
    "duration": 337,
    "start_time": "2021-11-16T15:34:37.604Z"
   },
   {
    "duration": 9,
    "start_time": "2021-11-16T15:34:38.534Z"
   },
   {
    "duration": 12,
    "start_time": "2021-11-16T15:34:39.281Z"
   },
   {
    "duration": 158028,
    "start_time": "2021-11-16T15:34:40.895Z"
   },
   {
    "duration": 123632,
    "start_time": "2021-11-16T15:37:18.926Z"
   },
   {
    "duration": 16,
    "start_time": "2021-11-16T15:53:52.223Z"
   },
   {
    "duration": 4,
    "start_time": "2021-11-16T15:54:00.158Z"
   },
   {
    "duration": 54,
    "start_time": "2021-11-16T15:54:01.813Z"
   },
   {
    "duration": 42,
    "start_time": "2021-11-16T15:54:04.000Z"
   },
   {
    "duration": 87,
    "start_time": "2021-11-16T15:54:39.994Z"
   },
   {
    "duration": 29,
    "start_time": "2021-11-16T15:54:44.426Z"
   },
   {
    "duration": 75,
    "start_time": "2021-11-16T15:54:45.602Z"
   },
   {
    "duration": 93,
    "start_time": "2021-11-16T15:54:47.969Z"
   },
   {
    "duration": 88,
    "start_time": "2021-11-16T15:54:50.814Z"
   },
   {
    "duration": 61,
    "start_time": "2021-11-16T15:54:52.688Z"
   },
   {
    "duration": 4,
    "start_time": "2021-11-16T15:54:57.335Z"
   },
   {
    "duration": 141,
    "start_time": "2021-11-16T15:54:59.255Z"
   },
   {
    "duration": 65,
    "start_time": "2021-11-16T15:55:01.318Z"
   },
   {
    "duration": 19,
    "start_time": "2021-11-16T15:55:03.662Z"
   },
   {
    "duration": 17,
    "start_time": "2021-11-16T15:55:15.102Z"
   },
   {
    "duration": 1954,
    "start_time": "2021-11-16T15:55:17.393Z"
   },
   {
    "duration": 22,
    "start_time": "2021-11-16T15:55:19.350Z"
   },
   {
    "duration": 29,
    "start_time": "2021-11-16T15:55:28.198Z"
   },
   {
    "duration": 16,
    "start_time": "2021-11-16T15:55:29.897Z"
   },
   {
    "duration": 6,
    "start_time": "2021-11-16T15:55:32.497Z"
   },
   {
    "duration": 18,
    "start_time": "2021-11-16T15:55:34.017Z"
   },
   {
    "duration": 17,
    "start_time": "2021-11-16T15:55:34.491Z"
   },
   {
    "duration": 18,
    "start_time": "2021-11-16T15:55:34.931Z"
   },
   {
    "duration": 17,
    "start_time": "2021-11-16T15:55:35.424Z"
   },
   {
    "duration": 17,
    "start_time": "2021-11-16T15:55:35.969Z"
   },
   {
    "duration": 16,
    "start_time": "2021-11-16T15:55:36.754Z"
   },
   {
    "duration": 3,
    "start_time": "2021-11-16T15:55:39.000Z"
   },
   {
    "duration": 411,
    "start_time": "2021-11-16T15:55:41.384Z"
   },
   {
    "duration": 305,
    "start_time": "2021-11-16T15:55:43.476Z"
   },
   {
    "duration": 15,
    "start_time": "2021-11-16T15:55:47.321Z"
   },
   {
    "duration": 17,
    "start_time": "2021-11-16T15:55:47.758Z"
   },
   {
    "duration": 8,
    "start_time": "2021-11-16T15:55:48.997Z"
   },
   {
    "duration": 25,
    "start_time": "2021-11-16T15:55:50.242Z"
   },
   {
    "duration": 19,
    "start_time": "2021-11-16T15:55:51.075Z"
   },
   {
    "duration": 31,
    "start_time": "2021-11-16T15:55:51.790Z"
   },
   {
    "duration": 19,
    "start_time": "2021-11-16T15:55:52.471Z"
   },
   {
    "duration": 51,
    "start_time": "2021-11-16T15:55:55.647Z"
   },
   {
    "duration": 23,
    "start_time": "2021-11-16T15:55:56.241Z"
   },
   {
    "duration": 541,
    "start_time": "2021-11-16T15:55:58.062Z"
   },
   {
    "duration": 598,
    "start_time": "2021-11-16T15:56:01.441Z"
   },
   {
    "duration": 40,
    "start_time": "2021-11-16T15:56:27.461Z"
   },
   {
    "duration": 45,
    "start_time": "2021-11-16T15:56:38.567Z"
   },
   {
    "duration": 6749,
    "start_time": "2021-11-16T15:56:44.309Z"
   },
   {
    "duration": 34,
    "start_time": "2021-11-16T16:01:17.210Z"
   },
   {
    "duration": 48,
    "start_time": "2021-11-16T16:01:18.546Z"
   },
   {
    "duration": 78,
    "start_time": "2021-11-16T16:01:20.301Z"
   },
   {
    "duration": 1413,
    "start_time": "2021-11-16T16:01:21.906Z"
   },
   {
    "duration": 1508,
    "start_time": "2021-11-16T16:01:55.198Z"
   },
   {
    "duration": 1364,
    "start_time": "2021-11-16T16:02:07.017Z"
   },
   {
    "duration": 1360,
    "start_time": "2021-11-16T16:02:16.549Z"
   },
   {
    "duration": 1371,
    "start_time": "2021-11-16T16:02:24.883Z"
   },
   {
    "duration": 1495,
    "start_time": "2021-11-16T16:02:32.691Z"
   },
   {
    "duration": 144,
    "start_time": "2021-11-16T16:02:48.150Z"
   },
   {
    "duration": 1526,
    "start_time": "2021-11-16T16:02:52.265Z"
   },
   {
    "duration": 4135,
    "start_time": "2021-11-16T16:06:28.806Z"
   },
   {
    "duration": 4257,
    "start_time": "2021-11-16T16:06:46.461Z"
   },
   {
    "duration": 351,
    "start_time": "2021-11-16T16:10:01.683Z"
   },
   {
    "duration": 335,
    "start_time": "2021-11-16T16:11:00.769Z"
   },
   {
    "duration": 6973,
    "start_time": "2021-11-16T16:11:15.777Z"
   },
   {
    "duration": 5348,
    "start_time": "2021-11-16T16:11:29.240Z"
   },
   {
    "duration": 412,
    "start_time": "2021-11-16T16:21:48.745Z"
   },
   {
    "duration": 35,
    "start_time": "2021-11-16T16:25:48.739Z"
   },
   {
    "duration": 56,
    "start_time": "2021-11-16T16:25:49.456Z"
   },
   {
    "duration": 60,
    "start_time": "2021-11-16T16:25:50.254Z"
   },
   {
    "duration": 1618,
    "start_time": "2021-11-16T16:25:51.726Z"
   },
   {
    "duration": 4821,
    "start_time": "2021-11-16T16:27:14.337Z"
   },
   {
    "duration": 4234,
    "start_time": "2021-11-16T16:27:22.591Z"
   },
   {
    "duration": 11,
    "start_time": "2021-11-16T16:33:02.062Z"
   },
   {
    "duration": 4,
    "start_time": "2021-11-16T16:33:03.936Z"
   },
   {
    "duration": 7,
    "start_time": "2021-11-16T16:33:04.672Z"
   },
   {
    "duration": 485,
    "start_time": "2021-11-16T16:33:06.950Z"
   },
   {
    "duration": 173,
    "start_time": "2021-11-16T16:35:07.841Z"
   },
   {
    "duration": 1016,
    "start_time": "2021-11-16T16:35:09.653Z"
   },
   {
    "duration": 625,
    "start_time": "2021-11-16T16:35:19.722Z"
   },
   {
    "duration": 60,
    "start_time": "2021-11-16T16:35:23.452Z"
   },
   {
    "duration": 13,
    "start_time": "2021-11-16T16:35:33.549Z"
   },
   {
    "duration": 11,
    "start_time": "2021-11-16T16:35:34.561Z"
   },
   {
    "duration": 753,
    "start_time": "2021-11-16T16:35:35.659Z"
   },
   {
    "duration": 213,
    "start_time": "2021-11-16T16:39:38.793Z"
   },
   {
    "duration": 192,
    "start_time": "2021-11-16T16:40:56.244Z"
   },
   {
    "duration": 643,
    "start_time": "2021-11-16T16:40:58.016Z"
   },
   {
    "duration": 735,
    "start_time": "2021-11-16T16:50:14.453Z"
   },
   {
    "duration": 761,
    "start_time": "2021-11-16T16:52:17.404Z"
   },
   {
    "duration": 5,
    "start_time": "2021-11-16T16:54:21.520Z"
   },
   {
    "duration": 240,
    "start_time": "2021-11-16T16:54:21.527Z"
   },
   {
    "duration": 17,
    "start_time": "2021-11-16T16:54:21.770Z"
   },
   {
    "duration": 35,
    "start_time": "2021-11-16T16:54:21.802Z"
   },
   {
    "duration": 12,
    "start_time": "2021-11-16T16:54:21.840Z"
   },
   {
    "duration": 55,
    "start_time": "2021-11-16T16:54:21.855Z"
   },
   {
    "duration": 6,
    "start_time": "2021-11-16T16:54:21.912Z"
   },
   {
    "duration": 42,
    "start_time": "2021-11-16T16:54:21.920Z"
   },
   {
    "duration": 127,
    "start_time": "2021-11-16T16:54:21.966Z"
   },
   {
    "duration": 194,
    "start_time": "2021-11-16T16:54:22.096Z"
   },
   {
    "duration": 13,
    "start_time": "2021-11-16T16:54:22.292Z"
   },
   {
    "duration": 24,
    "start_time": "2021-11-16T16:54:22.308Z"
   },
   {
    "duration": 152766,
    "start_time": "2021-11-16T16:54:22.334Z"
   },
   {
    "duration": 122197,
    "start_time": "2021-11-16T16:56:55.103Z"
   },
   {
    "duration": 3,
    "start_time": "2021-11-16T16:58:57.302Z"
   },
   {
    "duration": 57,
    "start_time": "2021-11-16T16:58:57.308Z"
   },
   {
    "duration": 42,
    "start_time": "2021-11-16T16:58:57.367Z"
   },
   {
    "duration": 99,
    "start_time": "2021-11-16T16:58:57.411Z"
   },
   {
    "duration": 107,
    "start_time": "2021-11-16T16:58:57.513Z"
   },
   {
    "duration": 89,
    "start_time": "2021-11-16T16:58:57.623Z"
   },
   {
    "duration": 57,
    "start_time": "2021-11-16T16:58:57.714Z"
   },
   {
    "duration": 4,
    "start_time": "2021-11-16T16:58:57.774Z"
   },
   {
    "duration": 180,
    "start_time": "2021-11-16T16:58:57.780Z"
   },
   {
    "duration": 69,
    "start_time": "2021-11-16T16:58:57.962Z"
   },
   {
    "duration": 19,
    "start_time": "2021-11-16T16:58:58.034Z"
   },
   {
    "duration": 47,
    "start_time": "2021-11-16T16:58:58.056Z"
   },
   {
    "duration": 1870,
    "start_time": "2021-11-16T16:58:58.111Z"
   },
   {
    "duration": 36,
    "start_time": "2021-11-16T16:58:59.984Z"
   },
   {
    "duration": 55,
    "start_time": "2021-11-16T16:59:00.023Z"
   },
   {
    "duration": 25,
    "start_time": "2021-11-16T16:59:00.080Z"
   },
   {
    "duration": 9,
    "start_time": "2021-11-16T16:59:00.107Z"
   },
   {
    "duration": 66,
    "start_time": "2021-11-16T16:59:00.118Z"
   },
   {
    "duration": 26,
    "start_time": "2021-11-16T16:59:00.188Z"
   },
   {
    "duration": 44,
    "start_time": "2021-11-16T16:59:00.217Z"
   },
   {
    "duration": 40,
    "start_time": "2021-11-16T16:59:00.264Z"
   },
   {
    "duration": 27,
    "start_time": "2021-11-16T16:59:00.307Z"
   },
   {
    "duration": 35,
    "start_time": "2021-11-16T16:59:00.336Z"
   },
   {
    "duration": 20,
    "start_time": "2021-11-16T16:59:00.373Z"
   },
   {
    "duration": 609,
    "start_time": "2021-11-16T16:59:00.396Z"
   },
   {
    "duration": 368,
    "start_time": "2021-11-16T16:59:01.008Z"
   },
   {
    "duration": 27,
    "start_time": "2021-11-16T16:59:01.378Z"
   },
   {
    "duration": 14,
    "start_time": "2021-11-16T16:59:01.408Z"
   },
   {
    "duration": 20,
    "start_time": "2021-11-16T16:59:01.425Z"
   },
   {
    "duration": 57,
    "start_time": "2021-11-16T16:59:01.448Z"
   },
   {
    "duration": 42,
    "start_time": "2021-11-16T16:59:01.507Z"
   },
   {
    "duration": 49,
    "start_time": "2021-11-16T16:59:01.552Z"
   },
   {
    "duration": 29,
    "start_time": "2021-11-16T16:59:01.604Z"
   },
   {
    "duration": 61,
    "start_time": "2021-11-16T16:59:01.636Z"
   },
   {
    "duration": 21,
    "start_time": "2021-11-16T16:59:01.700Z"
   },
   {
    "duration": 651,
    "start_time": "2021-11-16T16:59:01.724Z"
   },
   {
    "duration": 58,
    "start_time": "2021-11-16T16:59:02.378Z"
   },
   {
    "duration": 8069,
    "start_time": "2021-11-16T16:59:02.439Z"
   },
   {
    "duration": 7494,
    "start_time": "2021-11-16T16:59:10.511Z"
   },
   {
    "duration": 18,
    "start_time": "2021-11-16T16:59:18.008Z"
   },
   {
    "duration": 8,
    "start_time": "2021-11-16T16:59:18.029Z"
   },
   {
    "duration": 31,
    "start_time": "2021-11-16T16:59:18.040Z"
   },
   {
    "duration": 28,
    "start_time": "2021-11-16T16:59:18.074Z"
   },
   {
    "duration": 791,
    "start_time": "2021-11-16T16:59:18.105Z"
   },
   {
    "duration": 760,
    "start_time": "2021-11-16T16:59:18.901Z"
   },
   {
    "duration": 3657,
    "start_time": "2021-11-16T16:59:19.663Z"
   },
   {
    "duration": 8,
    "start_time": "2021-11-16T16:59:23.323Z"
   },
   {
    "duration": 11,
    "start_time": "2021-11-16T16:59:23.334Z"
   },
   {
    "duration": 26,
    "start_time": "2021-11-16T16:59:23.347Z"
   },
   {
    "duration": 31,
    "start_time": "2021-11-16T16:59:23.375Z"
   },
   {
    "duration": 154,
    "start_time": "2021-11-16T16:59:23.408Z"
   },
   {
    "duration": -194,
    "start_time": "2021-11-16T16:59:23.759Z"
   },
   {
    "duration": -199,
    "start_time": "2021-11-16T16:59:23.765Z"
   },
   {
    "duration": -200,
    "start_time": "2021-11-16T16:59:23.767Z"
   },
   {
    "duration": -199,
    "start_time": "2021-11-16T16:59:23.768Z"
   },
   {
    "duration": -200,
    "start_time": "2021-11-16T16:59:23.770Z"
   },
   {
    "duration": -200,
    "start_time": "2021-11-16T16:59:23.771Z"
   },
   {
    "duration": -203,
    "start_time": "2021-11-16T16:59:23.776Z"
   },
   {
    "duration": -203,
    "start_time": "2021-11-16T16:59:23.777Z"
   },
   {
    "duration": -204,
    "start_time": "2021-11-16T16:59:23.779Z"
   },
   {
    "duration": -203,
    "start_time": "2021-11-16T16:59:23.780Z"
   },
   {
    "duration": -204,
    "start_time": "2021-11-16T16:59:23.782Z"
   },
   {
    "duration": 638,
    "start_time": "2021-11-16T17:02:29.467Z"
   },
   {
    "duration": 592,
    "start_time": "2021-11-16T17:03:15.631Z"
   },
   {
    "duration": 606,
    "start_time": "2021-11-16T17:03:24.536Z"
   },
   {
    "duration": 499,
    "start_time": "2021-11-16T17:03:30.186Z"
   },
   {
    "duration": 450,
    "start_time": "2021-11-16T17:03:35.254Z"
   },
   {
    "duration": 487,
    "start_time": "2021-11-16T17:04:15.208Z"
   },
   {
    "duration": 555,
    "start_time": "2021-11-16T17:04:26.012Z"
   },
   {
    "duration": 471,
    "start_time": "2021-11-16T17:04:42.572Z"
   },
   {
    "duration": 447,
    "start_time": "2021-11-16T17:05:44.564Z"
   },
   {
    "duration": 614,
    "start_time": "2021-11-16T17:06:13.520Z"
   },
   {
    "duration": 476,
    "start_time": "2021-11-16T17:06:56.307Z"
   },
   {
    "duration": 374,
    "start_time": "2021-11-16T17:07:00.644Z"
   },
   {
    "duration": 497,
    "start_time": "2021-11-16T17:07:47.791Z"
   },
   {
    "duration": 468,
    "start_time": "2021-11-16T17:09:20.343Z"
   },
   {
    "duration": 351,
    "start_time": "2021-11-16T17:09:22.560Z"
   },
   {
    "duration": 7973,
    "start_time": "2021-11-16T17:09:31.943Z"
   },
   {
    "duration": 4984,
    "start_time": "2021-11-16T17:09:47.082Z"
   },
   {
    "duration": 7,
    "start_time": "2021-11-16T17:10:31.317Z"
   },
   {
    "duration": 87,
    "start_time": "2021-11-16T17:18:41.221Z"
   },
   {
    "duration": 109,
    "start_time": "2021-11-16T17:18:44.367Z"
   },
   {
    "duration": 37,
    "start_time": "2021-11-16T17:50:05.066Z"
   },
   {
    "duration": 477,
    "start_time": "2021-11-16T18:22:01.965Z"
   },
   {
    "duration": 360,
    "start_time": "2021-11-16T18:23:18.794Z"
   },
   {
    "duration": 646,
    "start_time": "2021-11-16T18:28:14.192Z"
   },
   {
    "duration": 22,
    "start_time": "2021-11-16T18:32:30.300Z"
   },
   {
    "duration": 29,
    "start_time": "2021-11-16T18:32:42.877Z"
   },
   {
    "duration": 796,
    "start_time": "2021-11-16T18:32:59.667Z"
   },
   {
    "duration": 806,
    "start_time": "2021-11-16T18:33:19.497Z"
   },
   {
    "duration": 44,
    "start_time": "2021-11-16T18:41:19.347Z"
   },
   {
    "duration": 7448,
    "start_time": "2021-11-16T18:42:03.727Z"
   },
   {
    "duration": 4618,
    "start_time": "2021-11-16T18:52:14.068Z"
   },
   {
    "duration": 497,
    "start_time": "2021-11-16T19:06:36.494Z"
   },
   {
    "duration": 726,
    "start_time": "2021-11-16T19:11:04.117Z"
   },
   {
    "duration": 6,
    "start_time": "2021-11-16T19:24:29.773Z"
   },
   {
    "duration": 218,
    "start_time": "2021-11-16T19:24:29.782Z"
   },
   {
    "duration": 18,
    "start_time": "2021-11-16T19:24:30.003Z"
   },
   {
    "duration": 43,
    "start_time": "2021-11-16T19:24:30.024Z"
   },
   {
    "duration": 20,
    "start_time": "2021-11-16T19:24:30.069Z"
   },
   {
    "duration": 51,
    "start_time": "2021-11-16T19:24:30.100Z"
   },
   {
    "duration": 10,
    "start_time": "2021-11-16T19:24:30.154Z"
   },
   {
    "duration": 38,
    "start_time": "2021-11-16T19:24:30.169Z"
   },
   {
    "duration": 106,
    "start_time": "2021-11-16T19:24:30.210Z"
   },
   {
    "duration": 112,
    "start_time": "2021-11-16T19:24:30.318Z"
   },
   {
    "duration": 182,
    "start_time": "2021-11-16T19:24:30.432Z"
   },
   {
    "duration": 9,
    "start_time": "2021-11-16T19:24:30.616Z"
   },
   {
    "duration": 18,
    "start_time": "2021-11-16T19:24:30.627Z"
   },
   {
    "duration": 162,
    "start_time": "2021-11-16T19:24:30.648Z"
   },
   {
    "duration": -41,
    "start_time": "2021-11-16T19:24:30.855Z"
   },
   {
    "duration": -41,
    "start_time": "2021-11-16T19:24:30.857Z"
   },
   {
    "duration": -41,
    "start_time": "2021-11-16T19:24:30.858Z"
   },
   {
    "duration": -42,
    "start_time": "2021-11-16T19:24:30.860Z"
   },
   {
    "duration": -44,
    "start_time": "2021-11-16T19:24:30.863Z"
   },
   {
    "duration": -44,
    "start_time": "2021-11-16T19:24:30.865Z"
   },
   {
    "duration": -43,
    "start_time": "2021-11-16T19:24:30.866Z"
   },
   {
    "duration": -42,
    "start_time": "2021-11-16T19:24:30.867Z"
   },
   {
    "duration": -43,
    "start_time": "2021-11-16T19:24:30.869Z"
   },
   {
    "duration": -42,
    "start_time": "2021-11-16T19:24:30.870Z"
   },
   {
    "duration": -42,
    "start_time": "2021-11-16T19:24:30.872Z"
   },
   {
    "duration": -44,
    "start_time": "2021-11-16T19:24:30.876Z"
   },
   {
    "duration": -44,
    "start_time": "2021-11-16T19:24:30.877Z"
   },
   {
    "duration": -44,
    "start_time": "2021-11-16T19:24:30.879Z"
   },
   {
    "duration": -44,
    "start_time": "2021-11-16T19:24:30.880Z"
   },
   {
    "duration": -44,
    "start_time": "2021-11-16T19:24:30.882Z"
   },
   {
    "duration": -94,
    "start_time": "2021-11-16T19:24:30.934Z"
   },
   {
    "duration": -95,
    "start_time": "2021-11-16T19:24:30.936Z"
   },
   {
    "duration": -94,
    "start_time": "2021-11-16T19:24:30.937Z"
   },
   {
    "duration": -98,
    "start_time": "2021-11-16T19:24:30.942Z"
   },
   {
    "duration": -97,
    "start_time": "2021-11-16T19:24:30.943Z"
   },
   {
    "duration": -98,
    "start_time": "2021-11-16T19:24:30.945Z"
   },
   {
    "duration": -98,
    "start_time": "2021-11-16T19:24:30.947Z"
   },
   {
    "duration": -98,
    "start_time": "2021-11-16T19:24:30.949Z"
   },
   {
    "duration": -53,
    "start_time": "2021-11-16T19:24:30.953Z"
   },
   {
    "duration": -55,
    "start_time": "2021-11-16T19:24:30.957Z"
   },
   {
    "duration": -56,
    "start_time": "2021-11-16T19:24:30.959Z"
   },
   {
    "duration": -56,
    "start_time": "2021-11-16T19:24:30.961Z"
   },
   {
    "duration": -57,
    "start_time": "2021-11-16T19:24:30.963Z"
   },
   {
    "duration": -57,
    "start_time": "2021-11-16T19:24:30.965Z"
   },
   {
    "duration": 6,
    "start_time": "2021-11-16T19:26:43.456Z"
   },
   {
    "duration": 221,
    "start_time": "2021-11-16T19:26:43.465Z"
   },
   {
    "duration": 21,
    "start_time": "2021-11-16T19:26:43.689Z"
   },
   {
    "duration": 41,
    "start_time": "2021-11-16T19:26:43.713Z"
   },
   {
    "duration": 8,
    "start_time": "2021-11-16T19:26:43.757Z"
   },
   {
    "duration": 56,
    "start_time": "2021-11-16T19:26:43.768Z"
   },
   {
    "duration": 6,
    "start_time": "2021-11-16T19:26:43.828Z"
   },
   {
    "duration": 34,
    "start_time": "2021-11-16T19:26:43.839Z"
   },
   {
    "duration": 159,
    "start_time": "2021-11-16T19:26:43.876Z"
   },
   {
    "duration": 142,
    "start_time": "2021-11-16T19:26:44.037Z"
   },
   {
    "duration": 206,
    "start_time": "2021-11-16T19:26:44.182Z"
   },
   {
    "duration": 13,
    "start_time": "2021-11-16T19:26:44.390Z"
   },
   {
    "duration": 18,
    "start_time": "2021-11-16T19:26:44.406Z"
   },
   {
    "duration": 273,
    "start_time": "2021-11-16T19:26:44.427Z"
   },
   {
    "duration": -33,
    "start_time": "2021-11-16T19:26:44.736Z"
   },
   {
    "duration": -38,
    "start_time": "2021-11-16T19:26:44.743Z"
   },
   {
    "duration": -39,
    "start_time": "2021-11-16T19:26:44.745Z"
   },
   {
    "duration": -38,
    "start_time": "2021-11-16T19:26:44.746Z"
   },
   {
    "duration": -38,
    "start_time": "2021-11-16T19:26:44.747Z"
   },
   {
    "duration": -40,
    "start_time": "2021-11-16T19:26:44.751Z"
   },
   {
    "duration": -42,
    "start_time": "2021-11-16T19:26:44.755Z"
   },
   {
    "duration": -55,
    "start_time": "2021-11-16T19:26:44.769Z"
   },
   {
    "duration": -55,
    "start_time": "2021-11-16T19:26:44.770Z"
   },
   {
    "duration": -54,
    "start_time": "2021-11-16T19:26:44.771Z"
   },
   {
    "duration": -55,
    "start_time": "2021-11-16T19:26:44.773Z"
   },
   {
    "duration": -55,
    "start_time": "2021-11-16T19:26:44.774Z"
   },
   {
    "duration": -55,
    "start_time": "2021-11-16T19:26:44.775Z"
   },
   {
    "duration": -55,
    "start_time": "2021-11-16T19:26:44.776Z"
   },
   {
    "duration": -55,
    "start_time": "2021-11-16T19:26:44.778Z"
   },
   {
    "duration": -55,
    "start_time": "2021-11-16T19:26:44.779Z"
   },
   {
    "duration": -55,
    "start_time": "2021-11-16T19:26:44.780Z"
   },
   {
    "duration": -55,
    "start_time": "2021-11-16T19:26:44.782Z"
   },
   {
    "duration": -108,
    "start_time": "2021-11-16T19:26:44.836Z"
   },
   {
    "duration": -108,
    "start_time": "2021-11-16T19:26:44.837Z"
   },
   {
    "duration": -111,
    "start_time": "2021-11-16T19:26:44.841Z"
   },
   {
    "duration": -111,
    "start_time": "2021-11-16T19:26:44.842Z"
   },
   {
    "duration": -110,
    "start_time": "2021-11-16T19:26:44.843Z"
   },
   {
    "duration": -117,
    "start_time": "2021-11-16T19:26:44.851Z"
   },
   {
    "duration": -119,
    "start_time": "2021-11-16T19:26:44.854Z"
   },
   {
    "duration": -120,
    "start_time": "2021-11-16T19:26:44.856Z"
   },
   {
    "duration": -120,
    "start_time": "2021-11-16T19:26:44.857Z"
   },
   {
    "duration": -120,
    "start_time": "2021-11-16T19:26:44.859Z"
   },
   {
    "duration": -120,
    "start_time": "2021-11-16T19:26:44.860Z"
   },
   {
    "duration": -124,
    "start_time": "2021-11-16T19:26:44.865Z"
   },
   {
    "duration": 75413,
    "start_time": "2021-11-16T19:27:11.331Z"
   },
   {
    "duration": 6,
    "start_time": "2021-11-16T19:28:33.416Z"
   },
   {
    "duration": 206,
    "start_time": "2021-11-16T19:28:33.424Z"
   },
   {
    "duration": 23,
    "start_time": "2021-11-16T19:28:33.634Z"
   },
   {
    "duration": 53,
    "start_time": "2021-11-16T19:28:33.660Z"
   },
   {
    "duration": 11,
    "start_time": "2021-11-16T19:28:33.715Z"
   },
   {
    "duration": 31,
    "start_time": "2021-11-16T19:28:33.728Z"
   },
   {
    "duration": 6,
    "start_time": "2021-11-16T19:28:33.761Z"
   },
   {
    "duration": 68,
    "start_time": "2021-11-16T19:28:33.770Z"
   },
   {
    "duration": 107,
    "start_time": "2021-11-16T19:28:33.845Z"
   },
   {
    "duration": 106,
    "start_time": "2021-11-16T19:28:33.955Z"
   },
   {
    "duration": 185,
    "start_time": "2021-11-16T19:28:34.063Z"
   },
   {
    "duration": 9,
    "start_time": "2021-11-16T19:28:34.250Z"
   },
   {
    "duration": 16,
    "start_time": "2021-11-16T19:28:34.261Z"
   },
   {
    "duration": 142330,
    "start_time": "2021-11-16T19:28:34.279Z"
   },
   {
    "duration": 131,
    "start_time": "2021-11-16T19:30:56.612Z"
   },
   {
    "duration": -33,
    "start_time": "2021-11-16T19:30:56.779Z"
   },
   {
    "duration": -32,
    "start_time": "2021-11-16T19:30:56.780Z"
   },
   {
    "duration": -32,
    "start_time": "2021-11-16T19:30:56.782Z"
   },
   {
    "duration": -58,
    "start_time": "2021-11-16T19:30:56.809Z"
   },
   {
    "duration": -58,
    "start_time": "2021-11-16T19:30:56.811Z"
   },
   {
    "duration": -58,
    "start_time": "2021-11-16T19:30:56.812Z"
   },
   {
    "duration": -57,
    "start_time": "2021-11-16T19:30:56.813Z"
   },
   {
    "duration": -56,
    "start_time": "2021-11-16T19:30:56.814Z"
   },
   {
    "duration": -56,
    "start_time": "2021-11-16T19:30:56.816Z"
   },
   {
    "duration": -59,
    "start_time": "2021-11-16T19:30:56.820Z"
   },
   {
    "duration": -58,
    "start_time": "2021-11-16T19:30:56.821Z"
   },
   {
    "duration": -58,
    "start_time": "2021-11-16T19:30:56.822Z"
   },
   {
    "duration": -58,
    "start_time": "2021-11-16T19:30:56.824Z"
   },
   {
    "duration": -60,
    "start_time": "2021-11-16T19:30:56.827Z"
   },
   {
    "duration": -60,
    "start_time": "2021-11-16T19:30:56.829Z"
   },
   {
    "duration": -62,
    "start_time": "2021-11-16T19:30:56.832Z"
   },
   {
    "duration": -72,
    "start_time": "2021-11-16T19:30:56.843Z"
   },
   {
    "duration": -72,
    "start_time": "2021-11-16T19:30:56.844Z"
   },
   {
    "duration": -71,
    "start_time": "2021-11-16T19:30:56.845Z"
   },
   {
    "duration": -71,
    "start_time": "2021-11-16T19:30:56.846Z"
   },
   {
    "duration": -72,
    "start_time": "2021-11-16T19:30:56.848Z"
   },
   {
    "duration": -71,
    "start_time": "2021-11-16T19:30:56.849Z"
   },
   {
    "duration": -72,
    "start_time": "2021-11-16T19:30:56.851Z"
   },
   {
    "duration": -71,
    "start_time": "2021-11-16T19:30:56.852Z"
   },
   {
    "duration": -74,
    "start_time": "2021-11-16T19:30:56.856Z"
   },
   {
    "duration": -74,
    "start_time": "2021-11-16T19:30:56.857Z"
   },
   {
    "duration": -73,
    "start_time": "2021-11-16T19:30:56.858Z"
   },
   {
    "duration": -73,
    "start_time": "2021-11-16T19:30:56.859Z"
   },
   {
    "duration": -61,
    "start_time": "2021-11-16T19:30:56.861Z"
   },
   {
    "duration": 11392,
    "start_time": "2021-11-16T19:31:12.536Z"
   },
   {
    "duration": 5,
    "start_time": "2021-11-16T19:32:06.853Z"
   },
   {
    "duration": 207,
    "start_time": "2021-11-16T19:32:06.861Z"
   },
   {
    "duration": 16,
    "start_time": "2021-11-16T19:32:07.071Z"
   },
   {
    "duration": 33,
    "start_time": "2021-11-16T19:32:07.102Z"
   },
   {
    "duration": 6,
    "start_time": "2021-11-16T19:32:07.137Z"
   },
   {
    "duration": 28,
    "start_time": "2021-11-16T19:32:07.145Z"
   },
   {
    "duration": 6,
    "start_time": "2021-11-16T19:32:07.201Z"
   },
   {
    "duration": 34,
    "start_time": "2021-11-16T19:32:07.210Z"
   },
   {
    "duration": 112,
    "start_time": "2021-11-16T19:32:07.247Z"
   },
   {
    "duration": 106,
    "start_time": "2021-11-16T19:32:07.361Z"
   },
   {
    "duration": 168,
    "start_time": "2021-11-16T19:32:07.470Z"
   },
   {
    "duration": 9,
    "start_time": "2021-11-16T19:32:07.641Z"
   },
   {
    "duration": 17,
    "start_time": "2021-11-16T19:32:07.652Z"
   },
   {
    "duration": 140709,
    "start_time": "2021-11-16T19:32:07.671Z"
   },
   {
    "duration": 113482,
    "start_time": "2021-11-16T19:34:28.382Z"
   },
   {
    "duration": 44,
    "start_time": "2021-11-16T19:36:21.866Z"
   },
   {
    "duration": 29,
    "start_time": "2021-11-16T19:36:21.912Z"
   },
   {
    "duration": 80,
    "start_time": "2021-11-16T19:36:21.943Z"
   },
   {
    "duration": 4,
    "start_time": "2021-11-16T19:36:22.025Z"
   },
   {
    "duration": 180,
    "start_time": "2021-11-16T19:36:22.032Z"
   },
   {
    "duration": 61,
    "start_time": "2021-11-16T19:36:22.215Z"
   },
   {
    "duration": 35,
    "start_time": "2021-11-16T19:36:22.279Z"
   },
   {
    "duration": 20,
    "start_time": "2021-11-16T19:36:22.320Z"
   },
   {
    "duration": 1971,
    "start_time": "2021-11-16T19:36:22.342Z"
   },
   {
    "duration": 24,
    "start_time": "2021-11-16T19:36:24.315Z"
   },
   {
    "duration": 490,
    "start_time": "2021-11-16T19:36:24.341Z"
   },
   {
    "duration": 372,
    "start_time": "2021-11-16T19:36:24.834Z"
   },
   {
    "duration": 48,
    "start_time": "2021-11-16T19:36:25.208Z"
   },
   {
    "duration": 617,
    "start_time": "2021-11-16T19:36:25.258Z"
   },
   {
    "duration": 52,
    "start_time": "2021-11-16T19:36:25.878Z"
   },
   {
    "duration": 7742,
    "start_time": "2021-11-16T19:36:25.933Z"
   },
   {
    "duration": 4703,
    "start_time": "2021-11-16T19:36:33.677Z"
   },
   {
    "duration": 3,
    "start_time": "2021-11-16T19:36:38.383Z"
   },
   {
    "duration": 9,
    "start_time": "2021-11-16T19:36:38.401Z"
   },
   {
    "duration": 6,
    "start_time": "2021-11-16T19:36:38.412Z"
   },
   {
    "duration": 7,
    "start_time": "2021-11-16T19:36:38.420Z"
   },
   {
    "duration": 6,
    "start_time": "2021-11-16T19:36:38.429Z"
   },
   {
    "duration": 8,
    "start_time": "2021-11-16T19:36:38.438Z"
   },
   {
    "duration": 519,
    "start_time": "2021-11-16T19:36:38.449Z"
   },
   {
    "duration": 736,
    "start_time": "2021-11-16T19:36:38.971Z"
   },
   {
    "duration": 3,
    "start_time": "2021-11-16T19:36:39.709Z"
   },
   {
    "duration": 7,
    "start_time": "2021-11-16T19:36:39.714Z"
   },
   {
    "duration": 6,
    "start_time": "2021-11-16T19:36:39.724Z"
   },
   {
    "duration": 8,
    "start_time": "2021-11-16T19:36:39.733Z"
   }
  ],
  "colab": {
   "collapsed_sections": [
    "E0vqbgi9ay0H",
    "VUC88oWjTJw2"
   ],
   "name": "yandex_music_project_2021.2.ipynb",
   "provenance": []
  },
  "kernelspec": {
   "display_name": "Python 3",
   "language": "python",
   "name": "python3"
  },
  "language_info": {
   "codemirror_mode": {
    "name": "ipython",
    "version": 3
   },
   "file_extension": ".py",
   "mimetype": "text/x-python",
   "name": "python",
   "nbconvert_exporter": "python",
   "pygments_lexer": "ipython3",
   "version": "3.7.8"
  },
  "toc": {
   "base_numbering": 1,
   "nav_menu": {},
   "number_sections": true,
   "sideBar": true,
   "skip_h1_title": true,
   "title_cell": "Table of Contents",
   "title_sidebar": "Contents",
   "toc_cell": false,
   "toc_position": {
    "height": "calc(100% - 180px)",
    "left": "10px",
    "top": "150px",
    "width": "165px"
   },
   "toc_section_display": true,
   "toc_window_display": true
  }
 },
 "nbformat": 4,
 "nbformat_minor": 1
}
