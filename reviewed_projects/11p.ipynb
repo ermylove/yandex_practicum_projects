{
 "cells": [
  {
   "cell_type": "code",
   "execution_count": 1,
   "metadata": {},
   "outputs": [],
   "source": [
    "# !pip install category_encoders\n",
    "# !pip install missingno\n",
    "# !pip install --user imblearn\n",
    "\n",
    "import warnings\n",
    "warnings.simplefilter('ignore')"
   ]
  },
  {
   "cell_type": "markdown",
   "metadata": {},
   "source": [
    "<div class=\"alert alert-block alert-info\">\n",
    "<b>Комментарий студента:</b> Очень жаль, что вывод всех ячеек пропал, так как в данной среде нужно 3-7 часов, чтобы заного прогнать весь этот код.  \n",
    "    В самой первой ячейке были строки с для установки дополнительных библиотек с которыми код запускается в среде Яндекс.Практикума. Они были закоментированы, чтобы после перезапуска ядра убрать лишнюю системную информацию об установке с проекта. Правда после последнего обновления иногда требуется несколько раз их переустановить, чтобы все заработало.\n",
    "</div>"
   ]
  },
  {
   "cell_type": "markdown",
   "metadata": {},
   "source": [
    "<div class=\"alert alert-block alert-success\">\n",
    "<b>Комментарий от ревьюера v2</b>\n",
    "    \n",
    "<b>Успех:</b> Если в проекте есть особенности запуска, то лучше о них предупреждать в начале проекта, тогда можно избежать таких недопониманий)\n",
    "</div>"
   ]
  },
  {
   "cell_type": "markdown",
   "metadata": {},
   "source": [
    "Привет, меня зовут Дмитрий Акимов и я буду проверять твой проект.\n",
    "<br>Небольшая вступительная часть и начнем работу)\n",
    "<br> Если не против, то предлагаю общаться на «ты». Если это не удобно - дай знать, и мы перейдем на \"вы\". Моя основная цель — не указать на совершенные ошибки, а поделиться своим опытом и помочь сделать твой проект лучше. Для этого я буду использовать разный стиль оформления комментариев. \n",
    "<div class=\"alert alert-block alert-success\">\n",
    "<b>Успех:</b> Все хорошо.\n",
    "</div>\n",
    "\n",
    "<div class=\"alert alert-warning\">\n",
    "<b>Рекомендация:</b> Критических замечаний нет, но есть возможность сделать твою работу лучше.\n",
    "</div>\n",
    "\n",
    "<div class=\"alert alert-block alert-danger\">\n",
    "<b>Необходимо исправить:</b> Если требуются исправления. Работа не может быть принята с красными комментариями.\n",
    "</div>\n",
    "\n",
    "<div class=\"alert alert-block alert-info\">\n",
    "<b>Совет:</b> В таких комментариях я постараюсь оставлять полезные советы)\n",
    "</div>\n",
    "\n",
    "Давай работать над проектом в диалоге: если ты что-то меняешь в проекте по моим рекомендациям — пиши об этом.\n",
    "Будет очень хорошо, если ты будешь помечать свои действия следующим образом:\n",
    "<div class=\"alert alert-block alert-info\">\n",
    "<b>Комментарий студента:</b> ...\n",
    "</div>\n",
    "Пожалуйста, не перемещай, не изменяй и не удаляй мои комментарии. Всё это поможет выполнить повторную проверку твоего проекта оперативнее». \n"
   ]
  },
  {
   "cell_type": "markdown",
   "metadata": {},
   "source": [
    "# Определение стоимости автомобилей"
   ]
  },
  {
   "cell_type": "markdown",
   "metadata": {},
   "source": [
    "Сервис по продаже автомобилей с пробегом «Не бит, не крашен» разрабатывает приложение в котором можно быстро узнать рыночную стоимость своего автомобиля. В распоряжении исторические данные.  \n",
    "\n",
    "Нужно:\n",
    "- построить модель для определения стоимости \n",
    "- помимо качества предсказания, учитывать скорость предсказания и время обучения\n",
    "- для оценки качества моделей использовать метрику RMSE\n",
    "- в качестве одной из моделей использовать LightGBM"
   ]
  },
  {
   "cell_type": "markdown",
   "metadata": {},
   "source": [
    "## Знакомство с данными"
   ]
  },
  {
   "cell_type": "code",
   "execution_count": 2,
   "metadata": {},
   "outputs": [],
   "source": [
    "import pandas as pd\n",
    "import numpy as np\n",
    "import matplotlib.pyplot as plt\n",
    "import seaborn as sns\n",
    "\n",
    "import re\n",
    "import missingno as msno\n",
    "import time\n",
    "\n",
    "from sklearn.pipeline import Pipeline\n",
    "from sklearn.model_selection import train_test_split, cross_val_score, GridSearchCV\n",
    "from sklearn.preprocessing import PolynomialFeatures, StandardScaler\n",
    "from sklearn.base import BaseEstimator, TransformerMixin\n",
    "\n",
    "from sklearn.linear_model import LinearRegression\n",
    "from sklearn.neighbors import KNeighborsRegressor\n",
    "from sklearn.ensemble import RandomForestRegressor\n",
    "from lightgbm import LGBMRegressor\n",
    "from catboost import CatBoostRegressor\n",
    "\n",
    "import category_encoders as ce\n",
    "from imblearn.pipeline import make_pipeline\n",
    "from sklearn.metrics import mean_squared_error\n",
    "\n",
    "RANDOM_SEED = 42"
   ]
  },
  {
   "cell_type": "markdown",
   "metadata": {},
   "source": [
    "<div class=\"alert alert-block alert-danger\">\n",
    "<b>Комментарий от ревьюера v1</b>\n",
    "    \n",
    "<b>Необходимо исправить:</b> К сожалению, ты используешь библиотеки, которых нет в среде Практикума, я попытаюсь проверить проект без запуска, но чтобы я принял работу это необходимо будет исправить.\n",
    "\n",
    "</div>"
   ]
  },
  {
   "cell_type": "markdown",
   "metadata": {},
   "source": [
    "<div class=\"alert alert-block alert-info\">\n",
    "<b>Комментарий студента:</b> Комментарий дал выше\n",
    "</div>"
   ]
  },
  {
   "cell_type": "code",
   "execution_count": 3,
   "metadata": {},
   "outputs": [],
   "source": [
    "df = pd.read_csv('/datasets/autos.csv', parse_dates=['DateCrawled', 'LastSeen', 'DateCreated'])"
   ]
  },
  {
   "cell_type": "code",
   "execution_count": 4,
   "metadata": {
    "scrolled": false
   },
   "outputs": [
    {
     "data": {
      "text/html": [
       "<div>\n",
       "<style scoped>\n",
       "    .dataframe tbody tr th:only-of-type {\n",
       "        vertical-align: middle;\n",
       "    }\n",
       "\n",
       "    .dataframe tbody tr th {\n",
       "        vertical-align: top;\n",
       "    }\n",
       "\n",
       "    .dataframe thead th {\n",
       "        text-align: right;\n",
       "    }\n",
       "</style>\n",
       "<table border=\"1\" class=\"dataframe\">\n",
       "  <thead>\n",
       "    <tr style=\"text-align: right;\">\n",
       "      <th></th>\n",
       "      <th>DateCrawled</th>\n",
       "      <th>Price</th>\n",
       "      <th>VehicleType</th>\n",
       "      <th>RegistrationYear</th>\n",
       "      <th>Gearbox</th>\n",
       "      <th>Power</th>\n",
       "      <th>Model</th>\n",
       "      <th>Kilometer</th>\n",
       "      <th>RegistrationMonth</th>\n",
       "      <th>FuelType</th>\n",
       "      <th>Brand</th>\n",
       "      <th>NotRepaired</th>\n",
       "      <th>DateCreated</th>\n",
       "      <th>NumberOfPictures</th>\n",
       "      <th>PostalCode</th>\n",
       "      <th>LastSeen</th>\n",
       "    </tr>\n",
       "  </thead>\n",
       "  <tbody>\n",
       "    <tr>\n",
       "      <th>0</th>\n",
       "      <td>2016-03-24 11:52:17</td>\n",
       "      <td>480</td>\n",
       "      <td>NaN</td>\n",
       "      <td>1993</td>\n",
       "      <td>manual</td>\n",
       "      <td>0</td>\n",
       "      <td>golf</td>\n",
       "      <td>150000</td>\n",
       "      <td>0</td>\n",
       "      <td>petrol</td>\n",
       "      <td>volkswagen</td>\n",
       "      <td>NaN</td>\n",
       "      <td>2016-03-24</td>\n",
       "      <td>0</td>\n",
       "      <td>70435</td>\n",
       "      <td>2016-04-07 03:16:57</td>\n",
       "    </tr>\n",
       "    <tr>\n",
       "      <th>1</th>\n",
       "      <td>2016-03-24 10:58:45</td>\n",
       "      <td>18300</td>\n",
       "      <td>coupe</td>\n",
       "      <td>2011</td>\n",
       "      <td>manual</td>\n",
       "      <td>190</td>\n",
       "      <td>NaN</td>\n",
       "      <td>125000</td>\n",
       "      <td>5</td>\n",
       "      <td>gasoline</td>\n",
       "      <td>audi</td>\n",
       "      <td>yes</td>\n",
       "      <td>2016-03-24</td>\n",
       "      <td>0</td>\n",
       "      <td>66954</td>\n",
       "      <td>2016-04-07 01:46:50</td>\n",
       "    </tr>\n",
       "    <tr>\n",
       "      <th>2</th>\n",
       "      <td>2016-03-14 12:52:21</td>\n",
       "      <td>9800</td>\n",
       "      <td>suv</td>\n",
       "      <td>2004</td>\n",
       "      <td>auto</td>\n",
       "      <td>163</td>\n",
       "      <td>grand</td>\n",
       "      <td>125000</td>\n",
       "      <td>8</td>\n",
       "      <td>gasoline</td>\n",
       "      <td>jeep</td>\n",
       "      <td>NaN</td>\n",
       "      <td>2016-03-14</td>\n",
       "      <td>0</td>\n",
       "      <td>90480</td>\n",
       "      <td>2016-04-05 12:47:46</td>\n",
       "    </tr>\n",
       "    <tr>\n",
       "      <th>3</th>\n",
       "      <td>2016-03-17 16:54:04</td>\n",
       "      <td>1500</td>\n",
       "      <td>small</td>\n",
       "      <td>2001</td>\n",
       "      <td>manual</td>\n",
       "      <td>75</td>\n",
       "      <td>golf</td>\n",
       "      <td>150000</td>\n",
       "      <td>6</td>\n",
       "      <td>petrol</td>\n",
       "      <td>volkswagen</td>\n",
       "      <td>no</td>\n",
       "      <td>2016-03-17</td>\n",
       "      <td>0</td>\n",
       "      <td>91074</td>\n",
       "      <td>2016-03-17 17:40:17</td>\n",
       "    </tr>\n",
       "    <tr>\n",
       "      <th>4</th>\n",
       "      <td>2016-03-31 17:25:20</td>\n",
       "      <td>3600</td>\n",
       "      <td>small</td>\n",
       "      <td>2008</td>\n",
       "      <td>manual</td>\n",
       "      <td>69</td>\n",
       "      <td>fabia</td>\n",
       "      <td>90000</td>\n",
       "      <td>7</td>\n",
       "      <td>gasoline</td>\n",
       "      <td>skoda</td>\n",
       "      <td>no</td>\n",
       "      <td>2016-03-31</td>\n",
       "      <td>0</td>\n",
       "      <td>60437</td>\n",
       "      <td>2016-04-06 10:17:21</td>\n",
       "    </tr>\n",
       "  </tbody>\n",
       "</table>\n",
       "</div>"
      ],
      "text/plain": [
       "          DateCrawled  Price VehicleType  RegistrationYear Gearbox  Power  \\\n",
       "0 2016-03-24 11:52:17    480         NaN              1993  manual      0   \n",
       "1 2016-03-24 10:58:45  18300       coupe              2011  manual    190   \n",
       "2 2016-03-14 12:52:21   9800         suv              2004    auto    163   \n",
       "3 2016-03-17 16:54:04   1500       small              2001  manual     75   \n",
       "4 2016-03-31 17:25:20   3600       small              2008  manual     69   \n",
       "\n",
       "   Model  Kilometer  RegistrationMonth  FuelType       Brand NotRepaired  \\\n",
       "0   golf     150000                  0    petrol  volkswagen         NaN   \n",
       "1    NaN     125000                  5  gasoline        audi         yes   \n",
       "2  grand     125000                  8  gasoline        jeep         NaN   \n",
       "3   golf     150000                  6    petrol  volkswagen          no   \n",
       "4  fabia      90000                  7  gasoline       skoda          no   \n",
       "\n",
       "  DateCreated  NumberOfPictures  PostalCode            LastSeen  \n",
       "0  2016-03-24                 0       70435 2016-04-07 03:16:57  \n",
       "1  2016-03-24                 0       66954 2016-04-07 01:46:50  \n",
       "2  2016-03-14                 0       90480 2016-04-05 12:47:46  \n",
       "3  2016-03-17                 0       91074 2016-03-17 17:40:17  \n",
       "4  2016-03-31                 0       60437 2016-04-06 10:17:21  "
      ]
     },
     "execution_count": 4,
     "metadata": {},
     "output_type": "execute_result"
    }
   ],
   "source": [
    "df.head()"
   ]
  },
  {
   "cell_type": "markdown",
   "metadata": {},
   "source": [
    "<div class=\"alert alert-warning\">\n",
    "<b>Комментарий от ревьюера v1</b>\n",
    "    \n",
    "<b>Рекомендация:</b> Лучше ограничивать вывод таблицы методами .head() или .tail(), иначе тетрадка может стать слишком тяжелой.\n",
    "</div>\n"
   ]
  },
  {
   "cell_type": "markdown",
   "metadata": {},
   "source": [
    "<div class=\"alert alert-block alert-info\">\n",
    "<b>Комментарий студента:</b> исправил\n",
    "</div>"
   ]
  },
  {
   "cell_type": "markdown",
   "metadata": {},
   "source": [
    "Согласно приложенной документации, в колонках содержется следующая информация:  \n",
    "\n",
    "**Признаки**  \n",
    "*DateCrawled* — дата скачивания анкеты из базы  \n",
    "*VehicleType* — тип автомобильного кузова  \n",
    "*RegistrationYear* — год регистрации автомобиля  \n",
    "*Gearbox* — тип коробки передач  \n",
    "*Power* — мощность (л. с.)  \n",
    "*Model* — модель автомобиля  \n",
    "*Kilometer* — пробег (км)  \n",
    "*RegistrationMonth* — месяц регистрации автомобиля  \n",
    "*FuelType* — тип топлива  \n",
    "*Brand* — марка автомобиля  \n",
    "*NotRepaired* — была машина в ремонте или нет  \n",
    "*DateCreated* — дата создания анкеты  \n",
    "*NumberOfPictures* — количество фотографий автомобиля  \n",
    "*PostalCode* — почтовый индекс владельца анкеты (пользователя)  \n",
    "*LastSeen* — дата последней активности пользователя  \n",
    "\n",
    "**Целевой признак**  \n",
    "*Price* — цена (евро)  "
   ]
  },
  {
   "cell_type": "markdown",
   "metadata": {},
   "source": [
    "Приведем названия колонок в соответствие с хорошим стилем\n"
   ]
  },
  {
   "cell_type": "code",
   "execution_count": 5,
   "metadata": {},
   "outputs": [],
   "source": [
    "def small_snaker(word:str)->str:\n",
    "  for symbol in set(word):\n",
    "    if not symbol.islower():\n",
    "      word = word.replace(symbol, '_'+symbol)\n",
    "  return word[1:].lower()"
   ]
  },
  {
   "cell_type": "code",
   "execution_count": 6,
   "metadata": {},
   "outputs": [],
   "source": [
    "df.columns = [small_snaker(column) for column in df.columns]"
   ]
  },
  {
   "cell_type": "code",
   "execution_count": 7,
   "metadata": {
    "scrolled": false
   },
   "outputs": [
    {
     "data": {
      "text/plain": [
       "date_crawled           0.000000\n",
       "price                  0.000000\n",
       "vehicle_type          10.579368\n",
       "registration_year      0.000000\n",
       "gearbox                5.596709\n",
       "power                  0.000000\n",
       "model                  5.560588\n",
       "kilometer              0.000000\n",
       "registration_month     0.000000\n",
       "fuel_type              9.282697\n",
       "brand                  0.000000\n",
       "not_repaired          20.079070\n",
       "date_created           0.000000\n",
       "number_of_pictures     0.000000\n",
       "postal_code            0.000000\n",
       "last_seen              0.000000\n",
       "dtype: float64"
      ]
     },
     "execution_count": 7,
     "metadata": {},
     "output_type": "execute_result"
    }
   ],
   "source": [
    "df.isna().mean()*100"
   ]
  },
  {
   "cell_type": "markdown",
   "metadata": {},
   "source": [
    "Имеется значительное количество пропусков в колонках `model`, `gearbox`, `fuel_type`, `vehicle_type`, `not_repaired`"
   ]
  },
  {
   "cell_type": "markdown",
   "metadata": {},
   "source": [
    "<div class=\"alert alert-block alert-success\">\n",
    "<b>Комментарий от ревьюера v1</b>\n",
    "    \n",
    "<b>Успех:</b> Отлично, пропуски в данных есть и их надо обработать.\n",
    "</div>"
   ]
  },
  {
   "cell_type": "markdown",
   "metadata": {},
   "source": [
    "### Dates"
   ]
  },
  {
   "cell_type": "code",
   "execution_count": 8,
   "metadata": {},
   "outputs": [
    {
     "data": {
      "text/plain": [
       "329497   2016-03-05 14:06:22\n",
       "220583   2016-03-05 14:06:23\n",
       "176823   2016-03-05 14:06:24\n",
       "99885    2016-03-05 14:06:24\n",
       "324763   2016-03-05 14:06:24\n",
       "                 ...        \n",
       "204218   2016-04-07 14:36:53\n",
       "53739    2016-04-07 14:36:54\n",
       "301030   2016-04-07 14:36:55\n",
       "339649   2016-04-07 14:36:56\n",
       "90713    2016-04-07 14:36:58\n",
       "Name: date_crawled, Length: 354369, dtype: datetime64[ns]"
      ]
     },
     "execution_count": 8,
     "metadata": {},
     "output_type": "execute_result"
    }
   ],
   "source": [
    "df.date_crawled.sort_values()"
   ]
  },
  {
   "cell_type": "code",
   "execution_count": 9,
   "metadata": {},
   "outputs": [
    {
     "data": {
      "text/plain": [
       "61207    2014-03-10\n",
       "4001     2015-03-20\n",
       "342275   2015-06-18\n",
       "86601    2015-08-07\n",
       "175103   2015-08-10\n",
       "            ...    \n",
       "134418   2016-04-07\n",
       "176987   2016-04-07\n",
       "206303   2016-04-07\n",
       "309336   2016-04-07\n",
       "305430   2016-04-07\n",
       "Name: date_created, Length: 354369, dtype: datetime64[ns]"
      ]
     },
     "execution_count": 9,
     "metadata": {},
     "output_type": "execute_result"
    }
   ],
   "source": [
    "df.date_created.sort_values()"
   ]
  },
  {
   "cell_type": "code",
   "execution_count": 10,
   "metadata": {},
   "outputs": [
    {
     "data": {
      "text/plain": [
       "296785   2016-03-05 14:15:08\n",
       "262341   2016-03-05 14:15:16\n",
       "130462   2016-03-05 14:15:39\n",
       "285695   2016-03-05 14:18:30\n",
       "169065   2016-03-05 14:25:59\n",
       "                 ...        \n",
       "54852    2016-04-07 14:58:50\n",
       "59506    2016-04-07 14:58:50\n",
       "116344   2016-04-07 14:58:50\n",
       "215705   2016-04-07 14:58:50\n",
       "327303   2016-04-07 14:58:51\n",
       "Name: last_seen, Length: 354369, dtype: datetime64[ns]"
      ]
     },
     "execution_count": 10,
     "metadata": {},
     "output_type": "execute_result"
    }
   ],
   "source": [
    "df.last_seen.sort_values() "
   ]
  },
  {
   "cell_type": "markdown",
   "metadata": {},
   "source": [
    "Данные предоставлены по большей части за один, 2016 год.  Эта информация не является ценной при предсказании цены."
   ]
  },
  {
   "cell_type": "markdown",
   "metadata": {},
   "source": [
    "<div class=\"alert alert-block alert-success\">\n",
    "<b>Комментарий от ревьюера v1</b>\n",
    "\n",
    "👍\n",
    "</div>"
   ]
  },
  {
   "cell_type": "markdown",
   "metadata": {},
   "source": [
    "### Model"
   ]
  },
  {
   "cell_type": "code",
   "execution_count": 11,
   "metadata": {
    "scrolled": false
   },
   "outputs": [
    {
     "data": {
      "text/plain": [
       "array(['golf', nan, 'grand', 'fabia', '3er', '2_reihe', 'other', 'c_max',\n",
       "       '3_reihe', 'passat', 'navara', 'ka', 'polo', 'twingo', 'a_klasse',\n",
       "       'scirocco', '5er', 'meriva', 'arosa', 'c4', 'civic', 'transporter',\n",
       "       'punto', 'e_klasse', 'clio', 'kadett', 'kangoo', 'corsa', 'one',\n",
       "       'fortwo', '1er', 'b_klasse', 'signum', 'astra', 'a8', 'jetta',\n",
       "       'fiesta', 'c_klasse', 'micra', 'vito', 'sprinter', '156', 'escort',\n",
       "       'forester', 'xc_reihe', 'scenic', 'a4', 'a1', 'insignia', 'combo',\n",
       "       'focus', 'tt', 'a6', 'jazz', 'omega', 'slk', '7er', '80', '147',\n",
       "       '100', 'z_reihe', 'sportage', 'sorento', 'v40', 'ibiza', 'mustang',\n",
       "       'eos', 'touran', 'getz', 'a3', 'almera', 'megane', 'lupo', 'r19',\n",
       "       'zafira', 'caddy', 'mondeo', 'cordoba', 'colt', 'impreza',\n",
       "       'vectra', 'berlingo', 'tiguan', 'i_reihe', 'espace', 'sharan',\n",
       "       '6_reihe', 'panda', 'up', 'seicento', 'ceed', '5_reihe', 'yeti',\n",
       "       'octavia', 'mii', 'rx_reihe', '6er', 'modus', 'fox', 'matiz',\n",
       "       'beetle', 'c1', 'rio', 'touareg', 'logan', 'spider', 'cuore',\n",
       "       's_max', 'a2', 'galaxy', 'c3', 'viano', 's_klasse', '1_reihe',\n",
       "       'avensis', 'roomster', 'sl', 'kaefer', 'santa', 'cooper', 'leon',\n",
       "       '4_reihe', 'a5', '500', 'laguna', 'ptcruiser', 'clk', 'primera',\n",
       "       'x_reihe', 'exeo', '159', 'transit', 'juke', 'qashqai', 'carisma',\n",
       "       'accord', 'corolla', 'lanos', 'phaeton', 'verso', 'swift', 'rav',\n",
       "       'picanto', 'boxster', 'kalos', 'superb', 'stilo', 'alhambra',\n",
       "       'mx_reihe', 'roadster', 'ypsilon', 'cayenne', 'galant', 'justy',\n",
       "       '90', 'sirion', 'crossfire', 'agila', 'duster', 'cr_reihe', 'v50',\n",
       "       'c_reihe', 'v_klasse', 'm_klasse', 'yaris', 'c5', 'aygo', 'cc',\n",
       "       'carnival', 'fusion', '911', 'bora', 'forfour', 'm_reihe', 'cl',\n",
       "       'tigra', '300c', 'spark', 'v70', 'kuga', 'x_type', 'ducato',\n",
       "       's_type', 'x_trail', 'toledo', 'altea', 'voyager', 'calibra',\n",
       "       'bravo', 'antara', 'tucson', 'citigo', 'jimny', 'wrangler',\n",
       "       'lybra', 'q7', 'lancer', 'captiva', 'c2', 'discovery',\n",
       "       'freelander', 'sandero', 'note', '900', 'cherokee', 'clubman',\n",
       "       'samara', 'defender', '601', 'cx_reihe', 'legacy', 'pajero',\n",
       "       'auris', 'niva', 's60', 'nubira', 'vivaro', 'g_klasse', 'lodgy',\n",
       "       '850', 'range_rover', 'q3', 'serie_2', 'glk', 'charade', 'croma',\n",
       "       'outlander', 'doblo', 'musa', 'move', '9000', 'v60', '145', 'aveo',\n",
       "       '200', 'b_max', 'range_rover_sport', 'terios', 'rangerover', 'q5',\n",
       "       'range_rover_evoque', 'materia', 'delta', 'gl', 'kalina', 'amarok',\n",
       "       'elefantino', 'i3', 'kappa', 'serie_3', 'serie_1'], dtype=object)"
      ]
     },
     "execution_count": 11,
     "metadata": {},
     "output_type": "execute_result"
    }
   ],
   "source": [
    "df.model.unique()"
   ]
  },
  {
   "cell_type": "code",
   "execution_count": 12,
   "metadata": {
    "scrolled": true
   },
   "outputs": [
    {
     "data": {
      "text/plain": [
       "golf                  29232\n",
       "other                 24421\n",
       "3er                   19761\n",
       "polo                  13066\n",
       "corsa                 12570\n",
       "                      ...  \n",
       "i3                        8\n",
       "serie_3                   4\n",
       "rangerover                4\n",
       "serie_1                   2\n",
       "range_rover_evoque        2\n",
       "Name: model, Length: 250, dtype: int64"
      ]
     },
     "execution_count": 12,
     "metadata": {},
     "output_type": "execute_result"
    }
   ],
   "source": [
    "df.model.value_counts()"
   ]
  },
  {
   "cell_type": "markdown",
   "metadata": {},
   "source": [
    "По моделям данные корректны"
   ]
  },
  {
   "cell_type": "markdown",
   "metadata": {},
   "source": [
    "### VehicleType"
   ]
  },
  {
   "cell_type": "code",
   "execution_count": 13,
   "metadata": {},
   "outputs": [
    {
     "data": {
      "text/plain": [
       "sedan          91457\n",
       "small          79831\n",
       "wagon          65166\n",
       "bus            28775\n",
       "convertible    20203\n",
       "coupe          16163\n",
       "suv            11996\n",
       "other           3288\n",
       "Name: vehicle_type, dtype: int64"
      ]
     },
     "execution_count": 13,
     "metadata": {},
     "output_type": "execute_result"
    }
   ],
   "source": [
    "df.vehicle_type.value_counts()"
   ]
  },
  {
   "cell_type": "markdown",
   "metadata": {},
   "source": [
    "Кроме пропусков имеется `other` для автомобилей которым по неизвестным причинам не подошел один из стандартный типов кузова. Казалось бы эти данные можно попробовать востановить по схожим моделям. Но рассмотрим на примере самой популярной модели."
   ]
  },
  {
   "cell_type": "code",
   "execution_count": 14,
   "metadata": {},
   "outputs": [
    {
     "data": {
      "text/html": [
       "<div>\n",
       "<style scoped>\n",
       "    .dataframe tbody tr th:only-of-type {\n",
       "        vertical-align: middle;\n",
       "    }\n",
       "\n",
       "    .dataframe tbody tr th {\n",
       "        vertical-align: top;\n",
       "    }\n",
       "\n",
       "    .dataframe thead tr th {\n",
       "        text-align: left;\n",
       "    }\n",
       "</style>\n",
       "<table border=\"1\" class=\"dataframe\">\n",
       "  <thead>\n",
       "    <tr>\n",
       "      <th></th>\n",
       "      <th>vehicle_type</th>\n",
       "      <th>mean</th>\n",
       "      <th>count</th>\n",
       "    </tr>\n",
       "    <tr>\n",
       "      <th></th>\n",
       "      <th></th>\n",
       "      <th>price</th>\n",
       "      <th>price</th>\n",
       "    </tr>\n",
       "  </thead>\n",
       "  <tbody>\n",
       "    <tr>\n",
       "      <th>0</th>\n",
       "      <td>bus</td>\n",
       "      <td>8488.322368</td>\n",
       "      <td>760</td>\n",
       "    </tr>\n",
       "    <tr>\n",
       "      <th>1</th>\n",
       "      <td>convertible</td>\n",
       "      <td>3855.640163</td>\n",
       "      <td>1962</td>\n",
       "    </tr>\n",
       "    <tr>\n",
       "      <th>2</th>\n",
       "      <td>coupe</td>\n",
       "      <td>4645.261072</td>\n",
       "      <td>429</td>\n",
       "    </tr>\n",
       "    <tr>\n",
       "      <th>3</th>\n",
       "      <td>other</td>\n",
       "      <td>3154.859459</td>\n",
       "      <td>185</td>\n",
       "    </tr>\n",
       "    <tr>\n",
       "      <th>4</th>\n",
       "      <td>sedan</td>\n",
       "      <td>4921.943435</td>\n",
       "      <td>14744</td>\n",
       "    </tr>\n",
       "    <tr>\n",
       "      <th>5</th>\n",
       "      <td>small</td>\n",
       "      <td>1983.397341</td>\n",
       "      <td>3911</td>\n",
       "    </tr>\n",
       "    <tr>\n",
       "      <th>6</th>\n",
       "      <td>suv</td>\n",
       "      <td>5655.720000</td>\n",
       "      <td>25</td>\n",
       "    </tr>\n",
       "    <tr>\n",
       "      <th>7</th>\n",
       "      <td>wagon</td>\n",
       "      <td>4525.200880</td>\n",
       "      <td>3181</td>\n",
       "    </tr>\n",
       "  </tbody>\n",
       "</table>\n",
       "</div>"
      ],
      "text/plain": [
       "  vehicle_type         mean  count\n",
       "                      price  price\n",
       "0          bus  8488.322368    760\n",
       "1  convertible  3855.640163   1962\n",
       "2        coupe  4645.261072    429\n",
       "3        other  3154.859459    185\n",
       "4        sedan  4921.943435  14744\n",
       "5        small  1983.397341   3911\n",
       "6          suv  5655.720000     25\n",
       "7        wagon  4525.200880   3181"
      ]
     },
     "execution_count": 14,
     "metadata": {},
     "output_type": "execute_result"
    }
   ],
   "source": [
    "df[(df.brand == 'volkswagen') & (df.model == 'golf')].pivot_table(index='vehicle_type',\n",
    "                                                                  values='price',\n",
    "                                                                  aggfunc=['mean', 'count']).reset_index()"
   ]
  },
  {
   "cell_type": "markdown",
   "metadata": {},
   "source": [
    "Автобус VW Golf. Звучит так, что либо мне не хватает знаний о рассматриваемой отрасли, либо что данные не совсем корректны. Поэтому оставим их без изменений"
   ]
  },
  {
   "cell_type": "markdown",
   "metadata": {},
   "source": [
    "<div class=\"alert alert-block alert-success\">\n",
    "<b>Комментарий от ревьюера v1</b>\n",
    "    \n",
    "<b>Успех:</b> Действительно, очень смелое предположение, которое сразу не бьется с жизнью)\n",
    "</div>"
   ]
  },
  {
   "cell_type": "markdown",
   "metadata": {},
   "source": [
    "### RegistrationYear "
   ]
  },
  {
   "cell_type": "code",
   "execution_count": 15,
   "metadata": {},
   "outputs": [
    {
     "data": {
      "image/png": "[encoded data removed]",
      "text/plain": [
       "<Figure size 1440x648 with 1 Axes>"
      ]
     },
     "metadata": {
      "needs_background": "light"
     },
     "output_type": "display_data"
    }
   ],
   "source": [
    "plt.figure(figsize=(20,9))\n",
    "plt.title('Registration year count', fontsize=20)\n",
    "plt.xticks(rotation=90)\n",
    "sns.countplot(df.registration_year);"
   ]
  },
  {
   "cell_type": "markdown",
   "metadata": {},
   "source": [
    "Не малая доля заполнявших данные решили указать ложный год. В том числе группа 2016-2018 годов, так как известно, что информация формировалась в 2016"
   ]
  },
  {
   "cell_type": "markdown",
   "metadata": {},
   "source": [
    "<div class=\"alert alert-block alert-success\">\n",
    "<b>Комментарий от ревьюера v1</b>\n",
    "    \n",
    "<b>Успех:</b> Хорошо, что ты не забываешь, что мы ограничены 2016 годом.\n",
    "</div>"
   ]
  },
  {
   "cell_type": "markdown",
   "metadata": {},
   "source": [
    "### Gearbox "
   ]
  },
  {
   "cell_type": "code",
   "execution_count": 16,
   "metadata": {},
   "outputs": [
    {
     "data": {
      "text/plain": [
       "manual    268251\n",
       "auto       66285\n",
       "Name: gearbox, dtype: int64"
      ]
     },
     "execution_count": 16,
     "metadata": {},
     "output_type": "execute_result"
    }
   ],
   "source": [
    "df.gearbox.value_counts()"
   ]
  },
  {
   "cell_type": "markdown",
   "metadata": {},
   "source": [
    "Помимо пропусков указаны 2 типа коробок передач"
   ]
  },
  {
   "cell_type": "markdown",
   "metadata": {},
   "source": [
    "### Power"
   ]
  },
  {
   "cell_type": "code",
   "execution_count": 17,
   "metadata": {},
   "outputs": [
    {
     "data": {
      "text/plain": [
       "<AxesSubplot:title={'center':'Power distribution'}>"
      ]
     },
     "execution_count": 17,
     "metadata": {},
     "output_type": "execute_result"
    },
    {
     "data": {
      "image/png": "[encoded data removed]",
      "text/plain": [
       "<Figure size 864x648 with 1 Axes>"
      ]
     },
     "metadata": {
      "needs_background": "light"
     },
     "output_type": "display_data"
    }
   ],
   "source": [
    "plt.figure(figsize=(12,9))\n",
    "plt.title('Power distribution', fontsize=20)\n",
    "df.power.hist(bins=100,  range=(0, 1000))"
   ]
  },
  {
   "cell_type": "markdown",
   "metadata": {},
   "source": [
    "И тут не обошлось без шутников"
   ]
  },
  {
   "cell_type": "markdown",
   "metadata": {},
   "source": [
    "### Kilometer"
   ]
  },
  {
   "cell_type": "code",
   "execution_count": 18,
   "metadata": {},
   "outputs": [
    {
     "data": {
      "text/plain": [
       "<AxesSubplot:title={'center':'Mileage'}>"
      ]
     },
     "execution_count": 18,
     "metadata": {},
     "output_type": "execute_result"
    },
    {
     "data": {
      "image/png": "[encoded data removed]",
      "text/plain": [
       "<Figure size 432x288 with 1 Axes>"
      ]
     },
     "metadata": {
      "needs_background": "light"
     },
     "output_type": "display_data"
    }
   ],
   "source": [
    "plt.title('Mileage', fontsize=20)\n",
    "df.kilometer.hist(bins=50)"
   ]
  },
  {
   "cell_type": "markdown",
   "metadata": {},
   "source": [
    "Данные округлены и основная часть автомобилей с пробегом 150 тыс. км."
   ]
  },
  {
   "cell_type": "markdown",
   "metadata": {},
   "source": [
    "### FuelType"
   ]
  },
  {
   "cell_type": "code",
   "execution_count": 19,
   "metadata": {},
   "outputs": [
    {
     "data": {
      "text/plain": [
       "petrol      216352\n",
       "gasoline     98720\n",
       "lpg           5310\n",
       "cng            565\n",
       "hybrid         233\n",
       "other          204\n",
       "electric        90\n",
       "Name: fuel_type, dtype: int64"
      ]
     },
     "execution_count": 19,
     "metadata": {},
     "output_type": "execute_result"
    }
   ],
   "source": [
    "df.fuel_type.value_counts()"
   ]
  },
  {
   "cell_type": "code",
   "execution_count": 20,
   "metadata": {},
   "outputs": [
    {
     "name": "stdout",
     "output_type": "stream",
     "text": [
      "Средняя цена автомобилей petrol: 3750.024432406449\n",
      "Средняя цена автомобилей gasoline: 6579.760139789303\n"
     ]
    }
   ],
   "source": [
    "print(f\"Средняя цена автомобилей petrol: {df[df.fuel_type == 'petrol'].price.mean()}\")\n",
    "print(f\"Средняя цена автомобилей gasoline: {df[df.fuel_type == 'gasoline'].price.mean()}\")"
   ]
  },
  {
   "cell_type": "markdown",
   "metadata": {},
   "source": [
    "Так как данные из вселенной где petrol и gasoline это значительно различающиеся типы топлива, оставим признак без изменений"
   ]
  },
  {
   "cell_type": "markdown",
   "metadata": {},
   "source": [
    "<div class=\"alert alert-block alert-success\">\n",
    "<b>Комментарий от ревьюера v1</b>\n",
    "    \n",
    "<b>Успех:</b> Можно было бы провести сравнение распределений, чтобы убедиться, что мы можем считать эти два признака разными, ведь petrol и gasoline это один тип топлива.\n",
    "</div>"
   ]
  },
  {
   "cell_type": "markdown",
   "metadata": {},
   "source": [
    "### Brand"
   ]
  },
  {
   "cell_type": "code",
   "execution_count": 21,
   "metadata": {},
   "outputs": [
    {
     "data": {
      "text/plain": [
       "array(['volkswagen', 'audi', 'jeep', 'skoda', 'bmw', 'peugeot', 'ford',\n",
       "       'mazda', 'nissan', 'renault', 'mercedes_benz', 'opel', 'seat',\n",
       "       'citroen', 'honda', 'fiat', 'mini', 'smart', 'hyundai',\n",
       "       'sonstige_autos', 'alfa_romeo', 'subaru', 'volvo', 'mitsubishi',\n",
       "       'kia', 'suzuki', 'lancia', 'toyota', 'chevrolet', 'dacia',\n",
       "       'daihatsu', 'trabant', 'saab', 'chrysler', 'jaguar', 'daewoo',\n",
       "       'porsche', 'rover', 'land_rover', 'lada'], dtype=object)"
      ]
     },
     "execution_count": 21,
     "metadata": {},
     "output_type": "execute_result"
    }
   ],
   "source": [
    "df.brand.unique()"
   ]
  },
  {
   "cell_type": "markdown",
   "metadata": {},
   "source": [
    "### NotRepaired"
   ]
  },
  {
   "cell_type": "code",
   "execution_count": 22,
   "metadata": {},
   "outputs": [
    {
     "data": {
      "text/plain": [
       "no     247161\n",
       "yes     36054\n",
       "Name: not_repaired, dtype: int64"
      ]
     },
     "execution_count": 22,
     "metadata": {},
     "output_type": "execute_result"
    }
   ],
   "source": [
    "df.not_repaired.value_counts()"
   ]
  },
  {
   "cell_type": "markdown",
   "metadata": {},
   "source": [
    "### NumberOfPictures"
   ]
  },
  {
   "cell_type": "code",
   "execution_count": 23,
   "metadata": {},
   "outputs": [
    {
     "data": {
      "text/plain": [
       "0    354369\n",
       "Name: number_of_pictures, dtype: int64"
      ]
     },
     "execution_count": 23,
     "metadata": {},
     "output_type": "execute_result"
    }
   ],
   "source": [
    "df.number_of_pictures.value_counts()"
   ]
  },
  {
   "cell_type": "markdown",
   "metadata": {},
   "source": [
    "В данном случае не важно по какой причине, но данных нет и признак бесполезен"
   ]
  },
  {
   "cell_type": "markdown",
   "metadata": {},
   "source": [
    "### RegistrationMonth"
   ]
  },
  {
   "cell_type": "code",
   "execution_count": 24,
   "metadata": {},
   "outputs": [
    {
     "data": {
      "text/plain": [
       "0     37352\n",
       "1     23219\n",
       "2     21267\n",
       "3     34373\n",
       "4     29270\n",
       "5     29153\n",
       "6     31508\n",
       "7     27213\n",
       "8     22627\n",
       "9     23813\n",
       "10    26099\n",
       "11    24186\n",
       "12    24289\n",
       "Name: registration_month, dtype: int64"
      ]
     },
     "execution_count": 24,
     "metadata": {},
     "output_type": "execute_result"
    }
   ],
   "source": [
    "df.registration_month.value_counts().sort_index()"
   ]
  },
  {
   "cell_type": "markdown",
   "metadata": {},
   "source": [
    "Нулевой месяц позволит отсеять те записи, в которых данные намеренно заполняются не корректно, в остальном признак не нужен"
   ]
  },
  {
   "cell_type": "markdown",
   "metadata": {},
   "source": [
    "### PostalCode"
   ]
  },
  {
   "cell_type": "code",
   "execution_count": 25,
   "metadata": {
    "scrolled": false
   },
   "outputs": [
    {
     "data": {
      "image/png": "[encoded data removed]",
      "text/plain": [
       "<Figure size 1800x648 with 1 Axes>"
      ]
     },
     "metadata": {
      "needs_background": "light"
     },
     "output_type": "display_data"
    }
   ],
   "source": [
    "plt.figure(figsize=(25,9))\n",
    "plt.xticks(rotation=90)\n",
    "plt.title('Postcode count', fontsize=20)\n",
    "sns.countplot(df.postal_code.value_counts().values);"
   ]
  },
  {
   "cell_type": "markdown",
   "metadata": {},
   "source": [
    "Почтовые индексы. Вероятней всего Немецкие. Большая часть малочисленны, вероятно это частные объявления. Но есть Большое количество объявлений из одного района. Скорей всего там располагаются крупные магазины также выставляющие автомобиле на площадке."
   ]
  },
  {
   "cell_type": "markdown",
   "metadata": {},
   "source": [
    "### Price"
   ]
  },
  {
   "cell_type": "code",
   "execution_count": 26,
   "metadata": {},
   "outputs": [
    {
     "data": {
      "text/plain": [
       "<AxesSubplot:title={'center':'Price count'}, xlabel='price', ylabel='count'>"
      ]
     },
     "execution_count": 26,
     "metadata": {},
     "output_type": "execute_result"
    },
    {
     "data": {
      "image/png": "[encoded data removed]",
      "text/plain": [
       "<Figure size 1440x648 with 1 Axes>"
      ]
     },
     "metadata": {
      "needs_background": "light"
     },
     "output_type": "display_data"
    }
   ],
   "source": [
    "plt.figure(figsize=(20,9))\n",
    "plt.title('Price count', fontsize=20)\n",
    "plt.xticks(rotation=90)\n",
    "sns.countplot(df.price//100)"
   ]
  },
  {
   "cell_type": "markdown",
   "metadata": {},
   "source": [
    "Околонулевые значения, не смотря на их природу, нам не пригодятся."
   ]
  },
  {
   "cell_type": "markdown",
   "metadata": {},
   "source": [
    "### Duplicated"
   ]
  },
  {
   "cell_type": "markdown",
   "metadata": {},
   "source": [
    "Если убрать дату, предположив, что объявление было выложено повторно позднее, а также не сравнивать по столбцам с пропусками, исключив тем самым одинаковые объявления но загруженные с ошибкой, получим количество возможных дубликатов"
   ]
  },
  {
   "cell_type": "code",
   "execution_count": 27,
   "metadata": {},
   "outputs": [
    {
     "data": {
      "text/plain": [
       "28901"
      ]
     },
     "execution_count": 27,
     "metadata": {},
     "output_type": "execute_result"
    }
   ],
   "source": [
    "df.drop(['vehicle_type',\n",
    "         'gearbox',\n",
    "         'model',\n",
    "         'fuel_type',\n",
    "         'not_repaired',\n",
    "         'date_crawled',\n",
    "         'date_created',\n",
    "         'last_seen'], axis=1).duplicated().sum()"
   ]
  },
  {
   "cell_type": "markdown",
   "metadata": {},
   "source": [
    "<div class=\"alert alert-block alert-success\">\n",
    "<b>Комментарий от ревьюера v1</b>\n",
    "    \n",
    "<b>Успех:</b> Отличное исследование признаков, круто, что ты рассмотрел каждый, нашел проблемы и наметил пути их решения. По PostalCode могу посоветовать оставить только 2 первых цифры кода, это номер почтового региона Германии. И вместо того, чтобы искать дубли удаляя признаки, лучше воспользоваться свойством subset метода duplicated().\n",
    "</div>"
   ]
  },
  {
   "cell_type": "markdown",
   "metadata": {},
   "source": [
    "<div class=\"alert alert-block alert-info\">\n",
    "<b>Комментарий студента:</b> Я пробовал \"извращаться\" с PostalCode. Но наименьшая ошибка была, когда его просто удаляешь \n",
    "</div>"
   ]
  },
  {
   "cell_type": "markdown",
   "metadata": {},
   "source": [
    "## Предобработка"
   ]
  },
  {
   "cell_type": "markdown",
   "metadata": {},
   "source": [
    "Взглянем на шутников"
   ]
  },
  {
   "cell_type": "code",
   "execution_count": 28,
   "metadata": {},
   "outputs": [
    {
     "data": {
      "text/plain": [
       "<AxesSubplot:>"
      ]
     },
     "execution_count": 28,
     "metadata": {},
     "output_type": "execute_result"
    },
    {
     "data": {
      "image/png": "[encoded data removed]",
      "text/plain": [
       "<Figure size 1800x720 with 2 Axes>"
      ]
     },
     "metadata": {
      "needs_background": "light"
     },
     "output_type": "display_data"
    }
   ],
   "source": [
    "msno.matrix(df.sort_values(by='registration_month'))"
   ]
  },
  {
   "cell_type": "code",
   "execution_count": 29,
   "metadata": {
    "scrolled": false
   },
   "outputs": [
    {
     "data": {
      "text/plain": [
       "<AxesSubplot:>"
      ]
     },
     "execution_count": 29,
     "metadata": {},
     "output_type": "execute_result"
    },
    {
     "data": {
      "image/png": "[encoded data removed]",
      "text/plain": [
       "<Figure size 1800x720 with 2 Axes>"
      ]
     },
     "metadata": {
      "needs_background": "light"
     },
     "output_type": "display_data"
    }
   ],
   "source": [
    "msno.matrix(df.sort_values(by='power'))"
   ]
  },
  {
   "cell_type": "code",
   "execution_count": 30,
   "metadata": {},
   "outputs": [
    {
     "data": {
      "text/plain": [
       "<AxesSubplot:>"
      ]
     },
     "execution_count": 30,
     "metadata": {},
     "output_type": "execute_result"
    },
    {
     "data": {
      "image/png": "[encoded data removed]",
      "text/plain": [
       "<Figure size 1800x720 with 2 Axes>"
      ]
     },
     "metadata": {
      "needs_background": "light"
     },
     "output_type": "display_data"
    }
   ],
   "source": [
    "msno.matrix(df.sort_values(by='registration_year', ascending=False))"
   ]
  },
  {
   "cell_type": "markdown",
   "metadata": {},
   "source": [
    "Некорректные записи аккумулируют в себе в том числе и большое число пропусков. Удалим эти \"шуточные\" строки.  \n",
    "А также записи с годом регистрации старше 1990, так как записи малочислены и цена во многом характеризуется техническим состоянием автомобиля не отображенным в данных.  \n",
    "Записи с сверхнизкой ценой в нашем случае тоже будем считать не релевантными."
   ]
  },
  {
   "cell_type": "code",
   "execution_count": 31,
   "metadata": {},
   "outputs": [],
   "source": [
    "df = df[(df.registration_year < 2016) &\\\n",
    "        (df.registration_year > 1990) &\\\n",
    "        (df.registration_month != 0) &\\\n",
    "        (df.price >10) &\\\n",
    "        (df.power>50) &\\\n",
    "        (df.power<250)]"
   ]
  },
  {
   "cell_type": "code",
   "execution_count": 32,
   "metadata": {},
   "outputs": [
    {
     "data": {
      "text/plain": [
       "date_crawled           0.000000\n",
       "price                  0.000000\n",
       "vehicle_type           0.950945\n",
       "registration_year      0.000000\n",
       "gearbox                1.193554\n",
       "power                  0.000000\n",
       "model                  2.684203\n",
       "kilometer              0.000000\n",
       "registration_month     0.000000\n",
       "fuel_type              3.199647\n",
       "brand                  0.000000\n",
       "not_repaired          11.423276\n",
       "date_created           0.000000\n",
       "number_of_pictures     0.000000\n",
       "postal_code            0.000000\n",
       "last_seen              0.000000\n",
       "dtype: float64"
      ]
     },
     "execution_count": 32,
     "metadata": {},
     "output_type": "execute_result"
    }
   ],
   "source": [
    "df.isna().mean()*100"
   ]
  },
  {
   "cell_type": "markdown",
   "metadata": {},
   "source": [
    "Что уже значительно снизило количество пропусков."
   ]
  },
  {
   "cell_type": "markdown",
   "metadata": {},
   "source": [
    "<div class=\"alert alert-block alert-success\">\n",
    "<b>Комментарий от ревьюера v1</b>\n",
    "    \n",
    "<b>Успех:</b> Отлично, лучше сначала избавиться от аномалий, а потом заполнять пропуски. Можно ещё попробовать удалить строки с большим количеством пропусков и избавиться от них.\n",
    "</div>"
   ]
  },
  {
   "cell_type": "markdown",
   "metadata": {},
   "source": [
    "Теперь убираем бесполезные признаки"
   ]
  },
  {
   "cell_type": "code",
   "execution_count": 33,
   "metadata": {},
   "outputs": [],
   "source": [
    "df = df.drop(['date_crawled',\n",
    "              'number_of_pictures',\n",
    "              'date_created',\n",
    "              'last_seen',\n",
    "              'registration_month'],axis=1)"
   ]
  },
  {
   "cell_type": "markdown",
   "metadata": {},
   "source": [
    "И дубликаты"
   ]
  },
  {
   "cell_type": "code",
   "execution_count": 34,
   "metadata": {},
   "outputs": [],
   "source": [
    "df = df.drop_duplicates()"
   ]
  },
  {
   "cell_type": "markdown",
   "metadata": {},
   "source": [
    "Пропуски в информации о ремонте заполним значениями `unknown`"
   ]
  },
  {
   "cell_type": "code",
   "execution_count": 35,
   "metadata": {},
   "outputs": [],
   "source": [
    "df['not_repaired'] = df['not_repaired'].fillna('unknown')"
   ]
  },
  {
   "cell_type": "markdown",
   "metadata": {},
   "source": [
    "Количество остальных пропусков не значительно, поэтому их удалим"
   ]
  },
  {
   "cell_type": "code",
   "execution_count": 36,
   "metadata": {},
   "outputs": [],
   "source": [
    "df = df.dropna()\n",
    "df = df.reset_index()"
   ]
  },
  {
   "cell_type": "markdown",
   "metadata": {},
   "source": [
    "<div class=\"alert alert-block alert-success\">\n",
    "<b>Комментарий от ревьюера v1</b>\n",
    "    \n",
    "<b>Успех:</b> Отлично, идеальная предобработка) \n",
    "</div>"
   ]
  },
  {
   "cell_type": "markdown",
   "metadata": {},
   "source": [
    "## Оценка моделей"
   ]
  },
  {
   "cell_type": "markdown",
   "metadata": {},
   "source": [
    "Для дальнейшей работы возьмем модели различных типов:  \n",
    "- LinearRegression\n",
    "- KNeighborsRegressor\n",
    "- RandomForestRegressor\n",
    "- LGBMRegressor\n",
    "- CatBoostRegressor"
   ]
  },
  {
   "cell_type": "markdown",
   "metadata": {},
   "source": [
    "Подготовливаем категориальные данные для LGBMRegressor и CatBoostRegressor"
   ]
  },
  {
   "cell_type": "code",
   "execution_count": 37,
   "metadata": {
    "scrolled": true
   },
   "outputs": [],
   "source": [
    "cat_features = ['vehicle_type', 'gearbox','model', 'fuel_type', 'brand', 'not_repaired', 'postal_code']\n",
    "for feature in cat_features:\n",
    "  df[feature] = df[feature].astype('category')"
   ]
  },
  {
   "cell_type": "markdown",
   "metadata": {},
   "source": [
    "Разбиваем выборку для обучения"
   ]
  },
  {
   "cell_type": "code",
   "execution_count": 38,
   "metadata": {},
   "outputs": [],
   "source": [
    "X_train, X_test, y_train, y_test = train_test_split(df.drop('price', axis=1),\n",
    "                                                    df.price,\n",
    "                                                    test_size=0.2,\n",
    "                                                    random_state=RANDOM_SEED) "
   ]
  },
  {
   "cell_type": "markdown",
   "metadata": {},
   "source": [
    "Произведем первичную оценку точности и скорости моделей."
   ]
  },
  {
   "cell_type": "code",
   "execution_count": 39,
   "metadata": {},
   "outputs": [
    {
     "name": "stdout",
     "output_type": "stream",
     "text": [
      "BaseNEncoder...\n",
      "LinearRegression done\n",
      "KNeighborsRegressor done\n",
      "RandomForestRegressor done\n",
      "LGBMRegressor done\n",
      "CatBoostRegressor done\n",
      "...BaseNEncoder done\n",
      "--------------------------------------------------\n",
      "BinaryEncoder...\n",
      "LinearRegression done\n",
      "KNeighborsRegressor done\n",
      "RandomForestRegressor done\n",
      "LGBMRegressor done\n",
      "CatBoostRegressor done\n",
      "...BinaryEncoder done\n",
      "--------------------------------------------------\n",
      "CountEncoder...\n",
      "LinearRegression done\n",
      "KNeighborsRegressor done\n",
      "RandomForestRegressor done\n",
      "LGBMRegressor done\n",
      "CatBoostRegressor done\n",
      "...CountEncoder done\n",
      "--------------------------------------------------\n",
      "HashingEncoder...\n",
      "LinearRegression done\n",
      "KNeighborsRegressor done\n",
      "RandomForestRegressor done\n",
      "LGBMRegressor done\n",
      "CatBoostRegressor done\n",
      "...HashingEncoder done\n",
      "--------------------------------------------------\n",
      "OrdinalEncoder...\n",
      "LinearRegression done\n",
      "KNeighborsRegressor done\n",
      "RandomForestRegressor done\n",
      "LGBMRegressor done\n",
      "CatBoostRegressor done\n",
      "...OrdinalEncoder done\n",
      "--------------------------------------------------\n",
      "CatBoostEncoder...\n",
      "LinearRegression done\n",
      "KNeighborsRegressor done\n",
      "RandomForestRegressor done\n",
      "LGBMRegressor done\n",
      "CatBoostRegressor done\n",
      "...CatBoostEncoder done\n",
      "--------------------------------------------------\n",
      "JamesSteinEncoder...\n",
      "LinearRegression done\n",
      "KNeighborsRegressor done\n",
      "RandomForestRegressor done\n",
      "LGBMRegressor done\n",
      "CatBoostRegressor done\n",
      "...JamesSteinEncoder done\n",
      "--------------------------------------------------\n",
      "MEstimateEncoder...\n",
      "LinearRegression done\n",
      "KNeighborsRegressor done\n",
      "RandomForestRegressor done\n",
      "LGBMRegressor done\n",
      "CatBoostRegressor done\n",
      "...MEstimateEncoder done\n",
      "--------------------------------------------------\n",
      "TargetEncoder...\n",
      "LinearRegression done\n",
      "KNeighborsRegressor done\n",
      "RandomForestRegressor done\n",
      "LGBMRegressor done\n",
      "CatBoostRegressor done\n",
      "...TargetEncoder done\n",
      "--------------------------------------------------\n",
      "QuantileEncoder...\n",
      "LinearRegression done\n",
      "KNeighborsRegressor done\n",
      "RandomForestRegressor done\n",
      "LGBMRegressor done\n",
      "CatBoostRegressor done\n",
      "...QuantileEncoder done\n",
      "--------------------------------------------------\n"
     ]
    }
   ],
   "source": [
    "encoders = [\n",
    "            ce.BaseNEncoder(cols=cat_features),\n",
    "            ce.BinaryEncoder(cols=cat_features),\n",
    "            ce.CountEncoder(cols=cat_features),\n",
    "            ce.HashingEncoder(cols=cat_features),\n",
    "            ce.OrdinalEncoder(cols=cat_features),\n",
    "            ce.CatBoostEncoder(cols=cat_features), # \n",
    "            ce.JamesSteinEncoder(cols=cat_features),\n",
    "            ce.MEstimateEncoder(cols=cat_features),\n",
    "            ce.TargetEncoder(cols=cat_features),\n",
    "            ce.QuantileEncoder(cols=cat_features),\n",
    "           \n",
    "] #используемые энкодеры категориальных признаков\n",
    "\n",
    "\n",
    "models = [LinearRegression(n_jobs=-1),\n",
    "          KNeighborsRegressor(n_neighbors=13, weights='distance', n_jobs=-1),\n",
    "          RandomForestRegressor(n_estimators=300, max_depth=7, random_state=RANDOM_SEED, n_jobs=-1),\n",
    "          LGBMRegressor(n_estimators=300, random_state=RANDOM_SEED, objective='root_mean_squared_error', n_jobs=-1),\n",
    "          CatBoostRegressor(n_estimators=300, random_state=RANDOM_SEED, verbose=0)\n",
    "          ] #используемые модели\n",
    "\n",
    "\n",
    "rmse_result = pd.DataFrame(columns=[small_snaker(str(model.__class__.__name__)) for model in models],\n",
    "                           index=[small_snaker(str(encoder.__class__.__name__)) for encoder in encoders]+['without_encoder'],\n",
    "                           dtype=float) # dataframe с rmse \n",
    "model_worktime = rmse_result.copy() # dataframe под время обработки\n",
    "\n",
    "for i, encoder in enumerate(encoders):\n",
    "    print(f'{encoder.__class__.__name__}...') # визуализация процесса\n",
    "    preproc_linear_pipe = make_pipeline(\n",
    "        encoder,\n",
    "        PolynomialFeatures(),\n",
    "        StandardScaler()) # пайплайн для линейной модели\n",
    "    preproc_knn_pipe = make_pipeline(encoder, StandardScaler()) # пайплайн для knn\n",
    "    \n",
    "    models_rmse = [] # список результатов енкодера для всех моделей для дальнейшего добавления в df\n",
    "    model_time = [] # список времени енкодера для всех моделей для дальнейшего добавления в df\n",
    "\n",
    "    for model in models:\n",
    "        \n",
    "        if model.__class__.__name__ in ['LinearRegression']:\n",
    "            preproc = preproc_linear_pipe\n",
    "        elif model.__class__.__name__ in ['KNeighborsRegressor']:\n",
    "            preproc =  preproc_knn_pipe\n",
    "        else: preproc = encoder\n",
    "\n",
    "        model_pipe = Pipeline([ ('prep', preproc), ('model', model) ]) # пайплайн предобработки + модели\n",
    "        start_time = time.time()\n",
    "        models_rmse.append(np.absolute(cross_val_score(model_pipe,\n",
    "                                                       X_train,\n",
    "                                                       y_train,\n",
    "                                                       cv=3,\n",
    "                                                       scoring='neg_root_mean_squared_error').mean()))\n",
    "        model_time.append(np.round((time.time() - start_time), 2))\n",
    "        print(f'{model.__class__.__name__} done')\n",
    "    print(f'...{encoder.__class__.__name__} done')\n",
    "    print('-'*50)\n",
    "    model_worktime.iloc[i] = model_time\n",
    "    rmse_result.iloc[i] = models_rmse"
   ]
  },
  {
   "cell_type": "code",
   "execution_count": 40,
   "metadata": {},
   "outputs": [],
   "source": [
    "for model_index, model in enumerate(models):\n",
    "    if model.__class__.__name__ in ['LGBMRegressor','CatBoostRegressor']:\n",
    "        if model.__class__.__name__ in ['CatBoostRegressor']:\n",
    "            model.set_params(cat_features=cat_features)\n",
    "        start_time = time.time()\n",
    "        rmse_result.iloc[len(rmse_result)-1,\n",
    "                             model_index]=(np.absolute(cross_val_score(model,\n",
    "                                                                       X_train,\n",
    "                                                                       y_train,\n",
    "                                                                       cv=3,\n",
    "                                                                       scoring='neg_root_mean_squared_error').mean()))\n",
    "        model_worktime.iloc[len(rmse_result)-1,model_index] = np.round((time.time() - start_time), 2)\n",
    "        # результаты бустингов без обработки категориальных переменных"
   ]
  },
  {
   "cell_type": "code",
   "execution_count": 41,
   "metadata": {},
   "outputs": [
    {
     "data": {
      "text/html": [
       "<div>\n",
       "<style scoped>\n",
       "    .dataframe tbody tr th:only-of-type {\n",
       "        vertical-align: middle;\n",
       "    }\n",
       "\n",
       "    .dataframe tbody tr th {\n",
       "        vertical-align: top;\n",
       "    }\n",
       "\n",
       "    .dataframe thead th {\n",
       "        text-align: right;\n",
       "    }\n",
       "</style>\n",
       "<table border=\"1\" class=\"dataframe\">\n",
       "  <thead>\n",
       "    <tr style=\"text-align: right;\">\n",
       "      <th></th>\n",
       "      <th>linear_regression</th>\n",
       "      <th>k_neighbors_regressor</th>\n",
       "      <th>random_forest_regressor</th>\n",
       "      <th>l_g_b_m_regressor</th>\n",
       "      <th>cat_boost_regressor</th>\n",
       "    </tr>\n",
       "  </thead>\n",
       "  <tbody>\n",
       "    <tr>\n",
       "      <th>base_n_encoder</th>\n",
       "      <td>1719.365612</td>\n",
       "      <td>2495.919808</td>\n",
       "      <td>1983.151748</td>\n",
       "      <td>1490.061899</td>\n",
       "      <td>1484.085646</td>\n",
       "    </tr>\n",
       "    <tr>\n",
       "      <th>binary_encoder</th>\n",
       "      <td>1719.365612</td>\n",
       "      <td>2495.919808</td>\n",
       "      <td>1983.151748</td>\n",
       "      <td>1490.061899</td>\n",
       "      <td>1484.085646</td>\n",
       "    </tr>\n",
       "    <tr>\n",
       "      <th>count_encoder</th>\n",
       "      <td>1944.136033</td>\n",
       "      <td>1903.762018</td>\n",
       "      <td>1919.592049</td>\n",
       "      <td>1471.755330</td>\n",
       "      <td>1471.046091</td>\n",
       "    </tr>\n",
       "    <tr>\n",
       "      <th>hashing_encoder</th>\n",
       "      <td>2044.934765</td>\n",
       "      <td>2137.335209</td>\n",
       "      <td>2014.626917</td>\n",
       "      <td>1773.450349</td>\n",
       "      <td>1790.345563</td>\n",
       "    </tr>\n",
       "    <tr>\n",
       "      <th>ordinal_encoder</th>\n",
       "      <td>2018.235157</td>\n",
       "      <td>1899.912802</td>\n",
       "      <td>1958.490956</td>\n",
       "      <td>1473.847109</td>\n",
       "      <td>1479.778967</td>\n",
       "    </tr>\n",
       "    <tr>\n",
       "      <th>cat_boost_encoder</th>\n",
       "      <td>1838.230530</td>\n",
       "      <td>1765.664813</td>\n",
       "      <td>1857.401682</td>\n",
       "      <td>1498.493010</td>\n",
       "      <td>1501.923075</td>\n",
       "    </tr>\n",
       "    <tr>\n",
       "      <th>james_stein_encoder</th>\n",
       "      <td>1868.782387</td>\n",
       "      <td>1887.162061</td>\n",
       "      <td>1838.828975</td>\n",
       "      <td>1513.875275</td>\n",
       "      <td>1503.300436</td>\n",
       "    </tr>\n",
       "    <tr>\n",
       "      <th>m_estimate_encoder</th>\n",
       "      <td>1851.634143</td>\n",
       "      <td>1796.922697</td>\n",
       "      <td>1838.986993</td>\n",
       "      <td>1485.530624</td>\n",
       "      <td>1481.372528</td>\n",
       "    </tr>\n",
       "    <tr>\n",
       "      <th>target_encoder</th>\n",
       "      <td>1851.472764</td>\n",
       "      <td>1795.779511</td>\n",
       "      <td>1838.868933</td>\n",
       "      <td>1486.018764</td>\n",
       "      <td>1483.759631</td>\n",
       "    </tr>\n",
       "    <tr>\n",
       "      <th>quantile_encoder</th>\n",
       "      <td>1853.320747</td>\n",
       "      <td>1787.492367</td>\n",
       "      <td>1858.566350</td>\n",
       "      <td>1468.824532</td>\n",
       "      <td>1472.394272</td>\n",
       "    </tr>\n",
       "    <tr>\n",
       "      <th>without_encoder</th>\n",
       "      <td>NaN</td>\n",
       "      <td>NaN</td>\n",
       "      <td>NaN</td>\n",
       "      <td>1474.777897</td>\n",
       "      <td>1463.074825</td>\n",
       "    </tr>\n",
       "  </tbody>\n",
       "</table>\n",
       "</div>"
      ],
      "text/plain": [
       "                     linear_regression  k_neighbors_regressor  \\\n",
       "base_n_encoder             1719.365612            2495.919808   \n",
       "binary_encoder             1719.365612            2495.919808   \n",
       "count_encoder              1944.136033            1903.762018   \n",
       "hashing_encoder            2044.934765            2137.335209   \n",
       "ordinal_encoder            2018.235157            1899.912802   \n",
       "cat_boost_encoder          1838.230530            1765.664813   \n",
       "james_stein_encoder        1868.782387            1887.162061   \n",
       "m_estimate_encoder         1851.634143            1796.922697   \n",
       "target_encoder             1851.472764            1795.779511   \n",
       "quantile_encoder           1853.320747            1787.492367   \n",
       "without_encoder                    NaN                    NaN   \n",
       "\n",
       "                     random_forest_regressor  l_g_b_m_regressor  \\\n",
       "base_n_encoder                   1983.151748        1490.061899   \n",
       "binary_encoder                   1983.151748        1490.061899   \n",
       "count_encoder                    1919.592049        1471.755330   \n",
       "hashing_encoder                  2014.626917        1773.450349   \n",
       "ordinal_encoder                  1958.490956        1473.847109   \n",
       "cat_boost_encoder                1857.401682        1498.493010   \n",
       "james_stein_encoder              1838.828975        1513.875275   \n",
       "m_estimate_encoder               1838.986993        1485.530624   \n",
       "target_encoder                   1838.868933        1486.018764   \n",
       "quantile_encoder                 1858.566350        1468.824532   \n",
       "without_encoder                          NaN        1474.777897   \n",
       "\n",
       "                     cat_boost_regressor  \n",
       "base_n_encoder               1484.085646  \n",
       "binary_encoder               1484.085646  \n",
       "count_encoder                1471.046091  \n",
       "hashing_encoder              1790.345563  \n",
       "ordinal_encoder              1479.778967  \n",
       "cat_boost_encoder            1501.923075  \n",
       "james_stein_encoder          1503.300436  \n",
       "m_estimate_encoder           1481.372528  \n",
       "target_encoder               1483.759631  \n",
       "quantile_encoder             1472.394272  \n",
       "without_encoder              1463.074825  "
      ]
     },
     "execution_count": 41,
     "metadata": {},
     "output_type": "execute_result"
    }
   ],
   "source": [
    "rmse_result"
   ]
  },
  {
   "cell_type": "code",
   "execution_count": 42,
   "metadata": {},
   "outputs": [
    {
     "data": {
      "text/html": [
       "<div>\n",
       "<style scoped>\n",
       "    .dataframe tbody tr th:only-of-type {\n",
       "        vertical-align: middle;\n",
       "    }\n",
       "\n",
       "    .dataframe tbody tr th {\n",
       "        vertical-align: top;\n",
       "    }\n",
       "\n",
       "    .dataframe thead th {\n",
       "        text-align: right;\n",
       "    }\n",
       "</style>\n",
       "<table border=\"1\" class=\"dataframe\">\n",
       "  <thead>\n",
       "    <tr style=\"text-align: right;\">\n",
       "      <th></th>\n",
       "      <th>linear_regression</th>\n",
       "      <th>k_neighbors_regressor</th>\n",
       "      <th>random_forest_regressor</th>\n",
       "      <th>l_g_b_m_regressor</th>\n",
       "      <th>cat_boost_regressor</th>\n",
       "    </tr>\n",
       "  </thead>\n",
       "  <tbody>\n",
       "    <tr>\n",
       "      <th>base_n_encoder</th>\n",
       "      <td>255.73</td>\n",
       "      <td>800.40</td>\n",
       "      <td>388.40</td>\n",
       "      <td>92.41</td>\n",
       "      <td>39.04</td>\n",
       "    </tr>\n",
       "    <tr>\n",
       "      <th>binary_encoder</th>\n",
       "      <td>215.96</td>\n",
       "      <td>795.76</td>\n",
       "      <td>410.21</td>\n",
       "      <td>55.84</td>\n",
       "      <td>38.75</td>\n",
       "    </tr>\n",
       "    <tr>\n",
       "      <th>count_encoder</th>\n",
       "      <td>14.17</td>\n",
       "      <td>124.13</td>\n",
       "      <td>221.36</td>\n",
       "      <td>41.07</td>\n",
       "      <td>37.79</td>\n",
       "    </tr>\n",
       "    <tr>\n",
       "      <th>hashing_encoder</th>\n",
       "      <td>564.65</td>\n",
       "      <td>609.37</td>\n",
       "      <td>723.46</td>\n",
       "      <td>616.29</td>\n",
       "      <td>628.60</td>\n",
       "    </tr>\n",
       "    <tr>\n",
       "      <th>ordinal_encoder</th>\n",
       "      <td>11.90</td>\n",
       "      <td>113.96</td>\n",
       "      <td>263.65</td>\n",
       "      <td>936.38</td>\n",
       "      <td>36.99</td>\n",
       "    </tr>\n",
       "    <tr>\n",
       "      <th>cat_boost_encoder</th>\n",
       "      <td>17.78</td>\n",
       "      <td>110.53</td>\n",
       "      <td>589.06</td>\n",
       "      <td>48.94</td>\n",
       "      <td>38.23</td>\n",
       "    </tr>\n",
       "    <tr>\n",
       "      <th>james_stein_encoder</th>\n",
       "      <td>14.34</td>\n",
       "      <td>111.92</td>\n",
       "      <td>249.81</td>\n",
       "      <td>42.50</td>\n",
       "      <td>37.44</td>\n",
       "    </tr>\n",
       "    <tr>\n",
       "      <th>m_estimate_encoder</th>\n",
       "      <td>13.87</td>\n",
       "      <td>92.53</td>\n",
       "      <td>245.70</td>\n",
       "      <td>41.28</td>\n",
       "      <td>37.93</td>\n",
       "    </tr>\n",
       "    <tr>\n",
       "      <th>target_encoder</th>\n",
       "      <td>14.95</td>\n",
       "      <td>91.70</td>\n",
       "      <td>247.75</td>\n",
       "      <td>58.16</td>\n",
       "      <td>39.81</td>\n",
       "    </tr>\n",
       "    <tr>\n",
       "      <th>quantile_encoder</th>\n",
       "      <td>20.48</td>\n",
       "      <td>95.64</td>\n",
       "      <td>245.71</td>\n",
       "      <td>47.44</td>\n",
       "      <td>42.04</td>\n",
       "    </tr>\n",
       "    <tr>\n",
       "      <th>without_encoder</th>\n",
       "      <td>NaN</td>\n",
       "      <td>NaN</td>\n",
       "      <td>NaN</td>\n",
       "      <td>137.71</td>\n",
       "      <td>314.01</td>\n",
       "    </tr>\n",
       "  </tbody>\n",
       "</table>\n",
       "</div>"
      ],
      "text/plain": [
       "                     linear_regression  k_neighbors_regressor  \\\n",
       "base_n_encoder                  255.73                 800.40   \n",
       "binary_encoder                  215.96                 795.76   \n",
       "count_encoder                    14.17                 124.13   \n",
       "hashing_encoder                 564.65                 609.37   \n",
       "ordinal_encoder                  11.90                 113.96   \n",
       "cat_boost_encoder                17.78                 110.53   \n",
       "james_stein_encoder              14.34                 111.92   \n",
       "m_estimate_encoder               13.87                  92.53   \n",
       "target_encoder                   14.95                  91.70   \n",
       "quantile_encoder                 20.48                  95.64   \n",
       "without_encoder                    NaN                    NaN   \n",
       "\n",
       "                     random_forest_regressor  l_g_b_m_regressor  \\\n",
       "base_n_encoder                        388.40              92.41   \n",
       "binary_encoder                        410.21              55.84   \n",
       "count_encoder                         221.36              41.07   \n",
       "hashing_encoder                       723.46             616.29   \n",
       "ordinal_encoder                       263.65             936.38   \n",
       "cat_boost_encoder                     589.06              48.94   \n",
       "james_stein_encoder                   249.81              42.50   \n",
       "m_estimate_encoder                    245.70              41.28   \n",
       "target_encoder                        247.75              58.16   \n",
       "quantile_encoder                      245.71              47.44   \n",
       "without_encoder                          NaN             137.71   \n",
       "\n",
       "                     cat_boost_regressor  \n",
       "base_n_encoder                     39.04  \n",
       "binary_encoder                     38.75  \n",
       "count_encoder                      37.79  \n",
       "hashing_encoder                   628.60  \n",
       "ordinal_encoder                    36.99  \n",
       "cat_boost_encoder                  38.23  \n",
       "james_stein_encoder                37.44  \n",
       "m_estimate_encoder                 37.93  \n",
       "target_encoder                     39.81  \n",
       "quantile_encoder                   42.04  \n",
       "without_encoder                   314.01  "
      ]
     },
     "execution_count": 42,
     "metadata": {},
     "output_type": "execute_result"
    }
   ],
   "source": [
    "model_worktime"
   ]
  },
  {
   "cell_type": "markdown",
   "metadata": {},
   "source": [
    "<div class=\"alert alert-block alert-success\">\n",
    "<b>Комментарий от ревьюера v1</b>\n",
    "    \n",
    "<b>Успех:</b> Комплексный подход) Теперь можно выделить наиболее перспективные модели и оптимизировать их.\n",
    "</div>"
   ]
  },
  {
   "cell_type": "markdown",
   "metadata": {},
   "source": [
    "<div class=\"alert alert-block alert-info\">\n",
    "<b>Комментарий студента:</b> При перезапуске кода меняется время выполнения моделей из-за колебаний загруженности серверов. Это может изменить предпочтительность кодировщиков, но общий вывод останется неизменным"
   ]
  },
  {
   "cell_type": "markdown",
   "metadata": {},
   "source": [
    "## Обучение моделей"
   ]
  },
  {
   "cell_type": "markdown",
   "metadata": {},
   "source": [
    "Берем модели получившие совокупность наилучших характеристики  \n",
    "*В данной среде временные данные могут значительно колебаться в зависимости от загруженности*"
   ]
  },
  {
   "cell_type": "code",
   "execution_count": 43,
   "metadata": {},
   "outputs": [],
   "source": [
    "lin_pip = make_pipeline(\n",
    "            ce.CatBoostEncoder(cols=cat_features),\n",
    "            PolynomialFeatures(),\n",
    "            StandardScaler(),\n",
    "            LinearRegression(n_jobs=-1)\n",
    "            )\n",
    "knn_pip = make_pipeline(\n",
    "            ce.CatBoostEncoder(cols=cat_features),\n",
    "            StandardScaler(),\n",
    "            KNeighborsRegressor(n_neighbors=13, weights='distance', n_jobs=-1)\n",
    "            )\n",
    "rfr_pip = make_pipeline(\n",
    "            ce.TargetEncoder(cols=cat_features),\n",
    "            RandomForestRegressor(n_estimators=300, max_depth=7, random_state=RANDOM_SEED, n_jobs=-1)\n",
    "            )\n",
    "lgr_pip = make_pipeline(\n",
    "            ce.QuantileEncoder(cols=cat_features),\n",
    "            LGBMRegressor(n_estimators=1000,\n",
    "                          random_state=RANDOM_SEED,\n",
    "                          objective='root_mean_squared_error',\n",
    "                          reg_alpha=0.1,\n",
    "                          n_jobs=-1))\n",
    "\n",
    "cbr_pip = make_pipeline(\n",
    "            ce.QuantileEncoder(cols=cat_features),\n",
    "            CatBoostRegressor(n_estimators=1000,\n",
    "                            random_state=RANDOM_SEED,\n",
    "                            early_stopping_rounds=300,\n",
    "                            verbose=0))\n",
    "models2 = [(lin_pip, 'linear', {'polynomialfeatures__order': ['C','F']}),\n",
    "            (knn_pip, 'knn', {'kneighborsregressor__n_neighbors': [10,13,16]}),\n",
    "            (rfr_pip, 'rforest', {'randomforestregressor__max_depth': [4,7,10]}),\n",
    "            (lgr_pip, 'lgbm', {'lgbmregressor__reg_lambda': [0.1,0.01]}),\n",
    "            (cbr_pip, 'catb', {'catboostregressor__depth': [4,7,10]})]"
   ]
  },
  {
   "cell_type": "markdown",
   "metadata": {},
   "source": [
    "Подбираем параметры, обучаем и измеряем скорость и точность предсказания"
   ]
  },
  {
   "cell_type": "code",
   "execution_count": 44,
   "metadata": {},
   "outputs": [],
   "source": [
    "model_prop = pd.DataFrame(index=[small_snaker(str(model.__class__.__name__ )) for model in models],\n",
    "                          columns=['rmse', 'fit_time', 'predict_time'])\n",
    "\n",
    "for model_index,(model,name_model,params) in enumerate(models2):\n",
    "    grs = GridSearchCV(model, params, scoring='neg_root_mean_squared_error', cv=3)\n",
    "    grs.fit(X_train, y_train)\n",
    "    model = grs.best_estimator_\n",
    "    start_time = time.time()    \n",
    "    model.fit(X_train, y_train)\n",
    "    model_prop.iloc[model_index]['fit_time'] = f\"{np.round((time.time() - start_time),2)}s\"\n",
    "    start_time = time.time()\n",
    "    pred = model.predict(X_test)\n",
    "    model_prop.iloc[model_index]['predict_time'] = f\"{np.round((time.time() - start_time),2)}s\"\n",
    "    model_prop.iloc[model_index]['rmse'] = np.round(mean_squared_error(y_test, pred, squared=False),2)    "
   ]
  },
  {
   "cell_type": "markdown",
   "metadata": {},
   "source": [
    "<div class=\"alert alert-block alert-success\">\n",
    "<b>Комментарий от ревьюера v1</b>\n",
    "    \n",
    "<b>Успех:</b> Хорошая автоматизация обучения, ещё можно добавить, что при обучении GridSearchCV возвращается объект класса, который можно использовать для предсказания(используется модель с лучшим результатом), поэтому необязательно опять обучать модель, можно просто использовать grs. Если вопрос с данными по времени, то они тоже хранятся в grs.cv_result_\n",
    "</div>"
   ]
  },
  {
   "cell_type": "code",
   "execution_count": 45,
   "metadata": {},
   "outputs": [
    {
     "data": {
      "text/html": [
       "<div>\n",
       "<style scoped>\n",
       "    .dataframe tbody tr th:only-of-type {\n",
       "        vertical-align: middle;\n",
       "    }\n",
       "\n",
       "    .dataframe tbody tr th {\n",
       "        vertical-align: top;\n",
       "    }\n",
       "\n",
       "    .dataframe thead th {\n",
       "        text-align: right;\n",
       "    }\n",
       "</style>\n",
       "<table border=\"1\" class=\"dataframe\">\n",
       "  <thead>\n",
       "    <tr style=\"text-align: right;\">\n",
       "      <th></th>\n",
       "      <th>rmse</th>\n",
       "      <th>fit_time</th>\n",
       "      <th>predict_time</th>\n",
       "    </tr>\n",
       "  </thead>\n",
       "  <tbody>\n",
       "    <tr>\n",
       "      <th>linear_regression</th>\n",
       "      <td>1848.57</td>\n",
       "      <td>6.79s</td>\n",
       "      <td>0.23s</td>\n",
       "    </tr>\n",
       "    <tr>\n",
       "      <th>k_neighbors_regressor</th>\n",
       "      <td>1739.14</td>\n",
       "      <td>1.97s</td>\n",
       "      <td>41.9s</td>\n",
       "    </tr>\n",
       "    <tr>\n",
       "      <th>random_forest_regressor</th>\n",
       "      <td>1645.67</td>\n",
       "      <td>167.34s</td>\n",
       "      <td>1.53s</td>\n",
       "    </tr>\n",
       "    <tr>\n",
       "      <th>l_g_b_m_regressor</th>\n",
       "      <td>1438.39</td>\n",
       "      <td>48.6s</td>\n",
       "      <td>5.1s</td>\n",
       "    </tr>\n",
       "    <tr>\n",
       "      <th>cat_boost_regressor</th>\n",
       "      <td>1424.35</td>\n",
       "      <td>147.34s</td>\n",
       "      <td>0.36s</td>\n",
       "    </tr>\n",
       "  </tbody>\n",
       "</table>\n",
       "</div>"
      ],
      "text/plain": [
       "                            rmse fit_time predict_time\n",
       "linear_regression        1848.57    6.79s        0.23s\n",
       "k_neighbors_regressor    1739.14    1.97s        41.9s\n",
       "random_forest_regressor  1645.67  167.34s        1.53s\n",
       "l_g_b_m_regressor        1438.39    48.6s         5.1s\n",
       "cat_boost_regressor      1424.35  147.34s        0.36s"
      ]
     },
     "execution_count": 45,
     "metadata": {},
     "output_type": "execute_result"
    }
   ],
   "source": [
    "model_prop"
   ]
  },
  {
   "cell_type": "markdown",
   "metadata": {},
   "source": [
    "## Выводы"
   ]
  },
  {
   "cell_type": "markdown",
   "metadata": {},
   "source": [
    "Чтобы в данном случае получить наиболее точную и быструю модель для предсказания стоимости бустинги являются лучшим инструментом, "
   ]
  },
  {
   "cell_type": "markdown",
   "metadata": {},
   "source": [
    "<div class=\"alert alert-block alert-success\">\n",
    "    <b>Комментарий от ревьюера v1</b>\n",
    "    \n",
    "# Общий вывод\n",
    "    \n",
    "Работа выполнена на очень высоком уровне. Хорошая предобработка данных и комплексный подход к обучению моделей. Тут особо и нечего добавить, кроме выводов.\n",
    "    \n",
    "</div>\n",
    "<div class=\"alert alert-block alert-danger\">\n",
    "\n",
    "Так как это учебный проект, то необходимо получить какую-нибудь модель и вывод) Лучше сравнивать модели по оценке на кросс-валидации, выбрать лучшую и протестировать её на тестовой выборке. Тут нужно понимать, что чем чаще мы используем тестовую выборку, тем сильнее мы переобучаемся на ней( в том смысле, что мы выбираем модель под конкретные данные), поэтому лучше использовать её только для финального тестирования.\n",
    " \n",
    "- Добавь, пожалуйста, выбор итоговой модели и её оценку;\n",
    "- Поправь проект так, чтобы он запускался на платформе.\n",
    "\n",
    "</div>\n",
    "\n",
    "Уверен, что ты быстро всё поправишь. Если есть вопросы, то задавай."
   ]
  },
  {
   "cell_type": "markdown",
   "metadata": {},
   "source": [
    "<div class=\"alert alert-block alert-info\">\n",
    "<b>Комментарий студента:</b> Изначально модели сравниваются и подбираются параметры исключительно кросс-валидацией на трэйне. Тестовая выборка участвует только в 5 финальных моделях, по которым и сделан вывод."
   ]
  },
  {
   "cell_type": "markdown",
   "metadata": {},
   "source": [
    "<div class=\"alert alert-block alert-success\">\n",
    "    <b>Комментарий от ревьюера v2</b>\n",
    "    \n",
    "# Общий вывод\n",
    "    \n",
    "Спасибо, что поправил работу и жаль, что пришлось заново тратить время на обучение, но лучше предупреждать если твой проект долго выполняется или вообще не тянется практикумом, ревьюеры тебе за это только спасибо скажут)\n",
    "</div>\n",
    "<div class=\"alert alert-block alert-danger\">\n",
    "\n",
    "5 моделей это хорошо, но нам же необходимо выбрать одну модель, которую мы и будем использовать для предсказания. Это цель всего проекта. И вот для выбора конкретной модели лучше использовать оценку на кросс-валидации, так как она более устойчива к возможным перекосам в данных. Если сначала протестировать все модели, а потом из них выбрать лучшую, то получается, что мы выбираем модель, которая лучше всего предсказывает тестовые данные, что завышает финальную оценку модели.<br>\n",
    "   \n",
    "\n",
    "</div>\n",
    "\n",
    "Я готов принять твой проект, если есть вопросы, то можешь задать, если нет, то присылай назад и я приму проект."
   ]
  },
  {
   "cell_type": "code",
   "execution_count": null,
   "metadata": {},
   "outputs": [],
   "source": []
  }
 ],
 "metadata": {
  "ExecuteTimeLog": [
   {
    "duration": 2120,
    "start_time": "2022-04-11T09:40:44.601Z"
   },
   {
    "duration": 571,
    "start_time": "2022-04-11T09:40:52.144Z"
   },
   {
    "duration": 1251,
    "start_time": "2022-04-11T09:41:13.854Z"
   },
   {
    "duration": 42,
    "start_time": "2022-04-11T09:41:20.168Z"
   },
   {
    "duration": 5,
    "start_time": "2022-04-11T09:41:30.104Z"
   },
   {
    "duration": 4,
    "start_time": "2022-04-11T09:41:36.302Z"
   },
   {
    "duration": 50,
    "start_time": "2022-04-11T09:42:07.766Z"
   },
   {
    "duration": 39,
    "start_time": "2022-04-11T09:42:16.241Z"
   },
   {
    "duration": 243,
    "start_time": "2022-04-11T09:42:25.167Z"
   },
   {
    "duration": 22,
    "start_time": "2022-04-11T09:42:41.670Z"
   },
   {
    "duration": 97,
    "start_time": "2022-04-11T09:42:52.185Z"
   },
   {
    "duration": 17,
    "start_time": "2022-04-11T09:42:59.459Z"
   },
   {
    "duration": 28,
    "start_time": "2022-04-11T09:43:02.966Z"
   },
   {
    "duration": 4,
    "start_time": "2022-04-11T09:43:13.916Z"
   },
   {
    "duration": 176,
    "start_time": "2022-04-11T09:43:22.537Z"
   },
   {
    "duration": 46,
    "start_time": "2022-04-11T09:43:29.862Z"
   },
   {
    "duration": 27,
    "start_time": "2022-04-11T09:43:45.582Z"
   },
   {
    "duration": 5244,
    "start_time": "2022-04-11T09:43:55.694Z"
   },
   {
    "duration": 277,
    "start_time": "2022-04-11T09:44:02.025Z"
   },
   {
    "duration": 4,
    "start_time": "2022-04-11T09:44:46.901Z"
   },
   {
    "duration": 1927,
    "start_time": "2022-04-11T09:44:47.721Z"
   },
   {
    "duration": 2079,
    "start_time": "2022-04-11T09:44:57.945Z"
   },
   {
    "duration": 4,
    "start_time": "2022-04-11T09:45:04.580Z"
   },
   {
    "duration": 3,
    "start_time": "2022-04-11T18:56:22.847Z"
   },
   {
    "duration": 920,
    "start_time": "2022-04-11T18:56:23.083Z"
   },
   {
    "duration": 22,
    "start_time": "2022-04-11T18:56:27.137Z"
   },
   {
    "duration": 1672,
    "start_time": "2022-04-13T18:37:23.586Z"
   },
   {
    "duration": 105,
    "start_time": "2022-04-13T18:38:24.421Z"
   },
   {
    "duration": 5,
    "start_time": "2022-04-13T18:38:28.348Z"
   },
   {
    "duration": 13,
    "start_time": "2022-04-13T18:38:32.597Z"
   },
   {
    "duration": 5,
    "start_time": "2022-04-13T18:38:52.246Z"
   },
   {
    "duration": 6,
    "start_time": "2022-04-13T18:38:57.128Z"
   },
   {
    "duration": 4,
    "start_time": "2022-04-13T18:39:10.098Z"
   },
   {
    "duration": 3229,
    "start_time": "2022-04-13T18:39:46.363Z"
   },
   {
    "duration": 11898,
    "start_time": "2022-04-13T18:40:03.033Z"
   },
   {
    "duration": 5,
    "start_time": "2022-04-13T18:40:15.640Z"
   },
   {
    "duration": 5,
    "start_time": "2022-04-13T18:40:18.938Z"
   },
   {
    "duration": 1662,
    "start_time": "2022-04-15T12:18:49.704Z"
   },
   {
    "duration": 3763,
    "start_time": "2022-04-15T12:19:19.805Z"
   },
   {
    "duration": 636,
    "start_time": "2022-04-15T12:19:37.245Z"
   },
   {
    "duration": 4097,
    "start_time": "2022-04-15T12:19:42.145Z"
   },
   {
    "duration": 134,
    "start_time": "2022-04-15T12:20:01.014Z"
   },
   {
    "duration": 6077,
    "start_time": "2022-04-15T12:20:15.537Z"
   },
   {
    "duration": 28,
    "start_time": "2022-04-15T12:20:28.139Z"
   },
   {
    "duration": 7412,
    "start_time": "2022-04-15T12:20:40.745Z"
   },
   {
    "duration": 21,
    "start_time": "2022-04-15T12:20:55.580Z"
   },
   {
    "duration": 5,
    "start_time": "2022-04-15T12:21:09.335Z"
   },
   {
    "duration": 1768,
    "start_time": "2022-04-15T12:21:11.912Z"
   },
   {
    "duration": 1353,
    "start_time": "2022-04-15T12:21:21.090Z"
   },
   {
    "duration": 1361,
    "start_time": "2022-04-15T12:22:10.148Z"
   },
   {
    "duration": 46,
    "start_time": "2022-04-15T12:22:21.796Z"
   },
   {
    "duration": 4,
    "start_time": "2022-04-15T12:23:22.550Z"
   },
   {
    "duration": 4,
    "start_time": "2022-04-15T12:23:23.160Z"
   },
   {
    "duration": 159,
    "start_time": "2022-04-15T12:48:37.651Z"
   },
   {
    "duration": 14435,
    "start_time": "2022-04-15T16:54:28.372Z"
   },
   {
    "duration": 3,
    "start_time": "2022-04-15T17:38:42.130Z"
   },
   {
    "duration": 2050,
    "start_time": "2022-04-15T17:45:53.578Z"
   },
   {
    "duration": 1031,
    "start_time": "2022-04-15T17:46:04.412Z"
   },
   {
    "duration": 142,
    "start_time": "2022-04-15T17:54:55.070Z"
   },
   {
    "duration": 29,
    "start_time": "2022-04-15T17:55:12.739Z"
   },
   {
    "duration": 3,
    "start_time": "2022-04-15T17:55:16.376Z"
   },
   {
    "duration": 4,
    "start_time": "2022-04-15T17:55:16.736Z"
   },
   {
    "duration": 92,
    "start_time": "2022-04-15T17:55:17.847Z"
   },
   {
    "duration": 58,
    "start_time": "2022-04-15T17:55:20.591Z"
   },
   {
    "duration": 40,
    "start_time": "2022-04-15T17:55:22.375Z"
   },
   {
    "duration": 35,
    "start_time": "2022-04-15T17:55:23.932Z"
   },
   {
    "duration": 60,
    "start_time": "2022-04-15T17:58:37.442Z"
   },
   {
    "duration": 23,
    "start_time": "2022-04-15T18:05:58.971Z"
   },
   {
    "duration": 34,
    "start_time": "2022-04-15T18:06:37.408Z"
   },
   {
    "duration": 31,
    "start_time": "2022-04-15T18:07:44.414Z"
   },
   {
    "duration": 61,
    "start_time": "2022-04-15T18:11:20.737Z"
   },
   {
    "duration": 58,
    "start_time": "2022-04-15T18:11:34.587Z"
   },
   {
    "duration": 66,
    "start_time": "2022-04-15T18:13:56.627Z"
   },
   {
    "duration": 1859,
    "start_time": "2022-04-15T18:14:50.476Z"
   },
   {
    "duration": 35,
    "start_time": "2022-04-15T18:19:48.982Z"
   },
   {
    "duration": 34,
    "start_time": "2022-04-15T18:20:12.486Z"
   },
   {
    "duration": 259,
    "start_time": "2022-04-15T18:20:46.295Z"
   },
   {
    "duration": 168,
    "start_time": "2022-04-15T18:21:19.030Z"
   },
   {
    "duration": 35,
    "start_time": "2022-04-15T18:22:19.471Z"
   },
   {
    "duration": 94,
    "start_time": "2022-04-15T18:24:21.101Z"
   },
   {
    "duration": 86,
    "start_time": "2022-04-15T18:24:36.651Z"
   },
   {
    "duration": 188,
    "start_time": "2022-04-15T18:25:23.122Z"
   },
   {
    "duration": 184,
    "start_time": "2022-04-15T18:25:27.661Z"
   },
   {
    "duration": 176,
    "start_time": "2022-04-15T18:25:46.939Z"
   },
   {
    "duration": 119,
    "start_time": "2022-04-15T18:26:17.859Z"
   },
   {
    "duration": 35,
    "start_time": "2022-04-15T18:28:22.058Z"
   },
   {
    "duration": 35,
    "start_time": "2022-04-15T18:28:44.431Z"
   },
   {
    "duration": 8,
    "start_time": "2022-04-15T18:29:12.716Z"
   },
   {
    "duration": 3201,
    "start_time": "2022-04-15T18:31:12.421Z"
   },
   {
    "duration": 2536,
    "start_time": "2022-04-15T18:31:36.237Z"
   },
   {
    "duration": 2440,
    "start_time": "2022-04-15T18:35:12.123Z"
   },
   {
    "duration": 3157,
    "start_time": "2022-04-15T18:38:16.127Z"
   },
   {
    "duration": 172,
    "start_time": "2022-04-15T18:39:32.851Z"
   },
   {
    "duration": 264,
    "start_time": "2022-04-15T18:40:05.840Z"
   },
   {
    "duration": 100,
    "start_time": "2022-04-15T18:41:31.358Z"
   },
   {
    "duration": 254,
    "start_time": "2022-04-15T18:41:42.371Z"
   },
   {
    "duration": 100,
    "start_time": "2022-04-15T18:45:15.047Z"
   },
   {
    "duration": 13,
    "start_time": "2022-04-15T18:47:42.034Z"
   },
   {
    "duration": 9,
    "start_time": "2022-04-15T18:48:14.783Z"
   },
   {
    "duration": 7,
    "start_time": "2022-04-15T18:48:25.703Z"
   },
   {
    "duration": 287079,
    "start_time": "2022-04-16T05:49:09.818Z"
   },
   {
    "duration": 1692,
    "start_time": "2022-04-16T05:54:18.236Z"
   },
   {
    "duration": 1489,
    "start_time": "2022-04-16T05:54:35.763Z"
   },
   {
    "duration": 149412,
    "start_time": "2022-04-16T05:54:40.218Z"
   },
   {
    "duration": 1509,
    "start_time": "2022-04-16T06:08:44.431Z"
   },
   {
    "duration": 98911,
    "start_time": "2022-04-16T06:08:54.068Z"
   },
   {
    "duration": 98923,
    "start_time": "2022-04-16T06:10:36.480Z"
   },
   {
    "duration": 6267,
    "start_time": "2022-04-16T06:12:35.175Z"
   },
   {
    "duration": 3,
    "start_time": "2022-04-16T06:12:52.443Z"
   },
   {
    "duration": 1368,
    "start_time": "2022-04-16T06:13:06.517Z"
   },
   {
    "duration": 968,
    "start_time": "2022-04-16T06:13:12.605Z"
   },
   {
    "duration": 599,
    "start_time": "2022-04-16T06:13:13.575Z"
   },
   {
    "duration": 3,
    "start_time": "2022-04-16T06:13:20.250Z"
   },
   {
    "duration": 3,
    "start_time": "2022-04-16T06:13:20.587Z"
   },
   {
    "duration": 86,
    "start_time": "2022-04-16T06:13:21.655Z"
   },
   {
    "duration": 53,
    "start_time": "2022-04-16T06:13:32.327Z"
   },
   {
    "duration": 39,
    "start_time": "2022-04-16T06:13:32.682Z"
   },
   {
    "duration": 59,
    "start_time": "2022-04-16T06:13:33.340Z"
   },
   {
    "duration": 23,
    "start_time": "2022-04-16T06:13:36.903Z"
   },
   {
    "duration": 34,
    "start_time": "2022-04-16T06:13:38.126Z"
   },
   {
    "duration": 31,
    "start_time": "2022-04-16T06:13:40.182Z"
   },
   {
    "duration": 64,
    "start_time": "2022-04-16T06:13:41.356Z"
   },
   {
    "duration": 1973,
    "start_time": "2022-04-16T06:13:44.829Z"
   },
   {
    "duration": 9,
    "start_time": "2022-04-16T06:14:04.180Z"
   },
   {
    "duration": 2,
    "start_time": "2022-04-16T06:15:05.585Z"
   },
   {
    "duration": 1346,
    "start_time": "2022-04-16T06:15:05.589Z"
   },
   {
    "duration": 1036,
    "start_time": "2022-04-16T06:15:06.937Z"
   },
   {
    "duration": 31,
    "start_time": "2022-04-16T06:15:07.976Z"
   },
   {
    "duration": 3,
    "start_time": "2022-04-16T06:15:08.009Z"
   },
   {
    "duration": 5,
    "start_time": "2022-04-16T06:15:08.013Z"
   },
   {
    "duration": 100,
    "start_time": "2022-04-16T06:15:08.019Z"
   },
   {
    "duration": 57,
    "start_time": "2022-04-16T06:15:08.121Z"
   },
   {
    "duration": 55,
    "start_time": "2022-04-16T06:15:08.181Z"
   },
   {
    "duration": 69,
    "start_time": "2022-04-16T06:15:08.238Z"
   },
   {
    "duration": 24,
    "start_time": "2022-04-16T06:15:08.309Z"
   },
   {
    "duration": 38,
    "start_time": "2022-04-16T06:15:08.334Z"
   },
   {
    "duration": 51,
    "start_time": "2022-04-16T06:15:08.373Z"
   },
   {
    "duration": 83,
    "start_time": "2022-04-16T06:15:08.425Z"
   },
   {
    "duration": 2082,
    "start_time": "2022-04-16T06:15:08.509Z"
   },
   {
    "duration": 37,
    "start_time": "2022-04-16T06:15:10.593Z"
   },
   {
    "duration": 283,
    "start_time": "2022-04-16T06:15:10.632Z"
   },
   {
    "duration": 199,
    "start_time": "2022-04-16T06:15:10.917Z"
   },
   {
    "duration": 35,
    "start_time": "2022-04-16T06:15:11.117Z"
   },
   {
    "duration": 98,
    "start_time": "2022-04-16T06:15:11.153Z"
   },
   {
    "duration": 24,
    "start_time": "2022-04-16T06:15:11.252Z"
   },
   {
    "duration": 50,
    "start_time": "2022-04-16T06:15:11.277Z"
   },
   {
    "duration": 9,
    "start_time": "2022-04-16T06:15:11.328Z"
   },
   {
    "duration": 8,
    "start_time": "2022-04-16T06:15:11.339Z"
   },
   {
    "duration": 3256,
    "start_time": "2022-04-16T06:15:11.349Z"
   },
   {
    "duration": 2441,
    "start_time": "2022-04-16T06:15:14.607Z"
   },
   {
    "duration": 8,
    "start_time": "2022-04-16T06:16:24.705Z"
   },
   {
    "duration": 1368,
    "start_time": "2022-04-16T06:16:24.715Z"
   },
   {
    "duration": 931,
    "start_time": "2022-04-16T06:16:26.085Z"
   },
   {
    "duration": 26,
    "start_time": "2022-04-16T06:16:27.019Z"
   },
   {
    "duration": 3,
    "start_time": "2022-04-16T06:16:27.046Z"
   },
   {
    "duration": 6,
    "start_time": "2022-04-16T06:16:27.051Z"
   },
   {
    "duration": 105,
    "start_time": "2022-04-16T06:16:27.058Z"
   },
   {
    "duration": 58,
    "start_time": "2022-04-16T06:16:27.165Z"
   },
   {
    "duration": 37,
    "start_time": "2022-04-16T06:16:27.225Z"
   },
   {
    "duration": 72,
    "start_time": "2022-04-16T06:16:27.264Z"
   },
   {
    "duration": 23,
    "start_time": "2022-04-16T06:16:27.338Z"
   },
   {
    "duration": 49,
    "start_time": "2022-04-16T06:16:27.362Z"
   },
   {
    "duration": 32,
    "start_time": "2022-04-16T06:16:27.413Z"
   },
   {
    "duration": 84,
    "start_time": "2022-04-16T06:16:27.447Z"
   },
   {
    "duration": 2082,
    "start_time": "2022-04-16T06:16:27.532Z"
   },
   {
    "duration": 33,
    "start_time": "2022-04-16T06:16:29.616Z"
   },
   {
    "duration": 299,
    "start_time": "2022-04-16T06:16:29.651Z"
   },
   {
    "duration": 209,
    "start_time": "2022-04-16T06:16:29.952Z"
   },
   {
    "duration": 44,
    "start_time": "2022-04-16T06:16:30.163Z"
   },
   {
    "duration": 89,
    "start_time": "2022-04-16T06:16:30.209Z"
   },
   {
    "duration": 24,
    "start_time": "2022-04-16T06:16:30.307Z"
   },
   {
    "duration": 32,
    "start_time": "2022-04-16T06:16:30.333Z"
   },
   {
    "duration": 8,
    "start_time": "2022-04-16T06:16:30.367Z"
   },
   {
    "duration": 35,
    "start_time": "2022-04-16T06:16:30.377Z"
   },
   {
    "duration": 3209,
    "start_time": "2022-04-16T06:16:30.414Z"
   },
   {
    "duration": 2549,
    "start_time": "2022-04-16T06:16:33.625Z"
   },
   {
    "duration": 103,
    "start_time": "2022-04-16T06:16:36.176Z"
   },
   {
    "duration": 4,
    "start_time": "2022-04-16T07:30:34.113Z"
   },
   {
    "duration": 1682,
    "start_time": "2022-04-16T08:11:13.676Z"
   },
   {
    "duration": 1643,
    "start_time": "2022-04-16T08:12:14.203Z"
   },
   {
    "duration": 121,
    "start_time": "2022-04-16T08:14:25.830Z"
   },
   {
    "duration": 1738,
    "start_time": "2022-04-16T08:14:32.342Z"
   },
   {
    "duration": 25,
    "start_time": "2022-04-16T08:23:31.895Z"
   },
   {
    "duration": 65,
    "start_time": "2022-04-16T08:25:06.811Z"
   },
   {
    "duration": 10,
    "start_time": "2022-04-16T08:31:16.481Z"
   },
   {
    "duration": 2,
    "start_time": "2022-04-16T08:31:38.213Z"
   },
   {
    "duration": 5,
    "start_time": "2022-04-16T08:31:38.217Z"
   },
   {
    "duration": 956,
    "start_time": "2022-04-16T08:31:38.224Z"
   },
   {
    "duration": 28,
    "start_time": "2022-04-16T08:31:39.182Z"
   },
   {
    "duration": 3,
    "start_time": "2022-04-16T08:31:39.212Z"
   },
   {
    "duration": 5,
    "start_time": "2022-04-16T08:31:39.216Z"
   },
   {
    "duration": 102,
    "start_time": "2022-04-16T08:31:39.222Z"
   },
   {
    "duration": 54,
    "start_time": "2022-04-16T08:31:39.326Z"
   },
   {
    "duration": 45,
    "start_time": "2022-04-16T08:31:39.383Z"
   },
   {
    "duration": 56,
    "start_time": "2022-04-16T08:31:39.429Z"
   },
   {
    "duration": 36,
    "start_time": "2022-04-16T08:31:39.487Z"
   },
   {
    "duration": 40,
    "start_time": "2022-04-16T08:31:39.525Z"
   },
   {
    "duration": 48,
    "start_time": "2022-04-16T08:31:39.566Z"
   },
   {
    "duration": 71,
    "start_time": "2022-04-16T08:31:39.616Z"
   },
   {
    "duration": 2043,
    "start_time": "2022-04-16T08:31:39.689Z"
   },
   {
    "duration": 31,
    "start_time": "2022-04-16T08:31:41.733Z"
   },
   {
    "duration": 281,
    "start_time": "2022-04-16T08:31:41.766Z"
   },
   {
    "duration": 196,
    "start_time": "2022-04-16T08:31:42.049Z"
   },
   {
    "duration": 34,
    "start_time": "2022-04-16T08:31:42.246Z"
   },
   {
    "duration": 83,
    "start_time": "2022-04-16T08:31:42.282Z"
   },
   {
    "duration": 24,
    "start_time": "2022-04-16T08:31:42.367Z"
   },
   {
    "duration": 46,
    "start_time": "2022-04-16T08:31:42.392Z"
   },
   {
    "duration": 12,
    "start_time": "2022-04-16T08:31:42.440Z"
   },
   {
    "duration": 8,
    "start_time": "2022-04-16T08:31:42.455Z"
   },
   {
    "duration": 3345,
    "start_time": "2022-04-16T08:31:42.464Z"
   },
   {
    "duration": 2624,
    "start_time": "2022-04-16T08:31:45.810Z"
   },
   {
    "duration": 76,
    "start_time": "2022-04-16T08:31:48.435Z"
   },
   {
    "duration": 1619,
    "start_time": "2022-04-16T08:31:48.512Z"
   },
   {
    "duration": 1622,
    "start_time": "2022-04-16T08:31:50.132Z"
   },
   {
    "duration": 1684,
    "start_time": "2022-04-16T08:31:51.756Z"
   },
   {
    "duration": 25,
    "start_time": "2022-04-16T08:31:53.442Z"
   },
   {
    "duration": 73,
    "start_time": "2022-04-16T08:31:53.469Z"
   },
   {
    "duration": 21,
    "start_time": "2022-04-16T08:31:53.544Z"
   },
   {
    "duration": 180,
    "start_time": "2022-04-16T08:31:53.567Z"
   },
   {
    "duration": 16,
    "start_time": "2022-04-16T08:31:53.749Z"
   },
   {
    "duration": 89,
    "start_time": "2022-04-16T08:31:53.767Z"
   },
   {
    "duration": 119,
    "start_time": "2022-04-16T08:31:53.859Z"
   },
   {
    "duration": 30,
    "start_time": "2022-04-16T08:32:48.440Z"
   },
   {
    "duration": 9,
    "start_time": "2022-04-16T08:53:26.921Z"
   },
   {
    "duration": 7,
    "start_time": "2022-04-16T08:53:47.814Z"
   },
   {
    "duration": 1277,
    "start_time": "2022-04-16T08:53:47.823Z"
   },
   {
    "duration": 932,
    "start_time": "2022-04-16T08:53:49.102Z"
   },
   {
    "duration": 27,
    "start_time": "2022-04-16T08:53:50.036Z"
   },
   {
    "duration": 4,
    "start_time": "2022-04-16T08:53:50.065Z"
   },
   {
    "duration": 5,
    "start_time": "2022-04-16T08:53:50.071Z"
   },
   {
    "duration": 104,
    "start_time": "2022-04-16T08:53:50.078Z"
   },
   {
    "duration": 64,
    "start_time": "2022-04-16T08:53:50.184Z"
   },
   {
    "duration": 34,
    "start_time": "2022-04-16T08:53:50.250Z"
   },
   {
    "duration": 74,
    "start_time": "2022-04-16T08:53:50.287Z"
   },
   {
    "duration": 22,
    "start_time": "2022-04-16T08:53:50.363Z"
   },
   {
    "duration": 45,
    "start_time": "2022-04-16T08:53:50.387Z"
   },
   {
    "duration": 30,
    "start_time": "2022-04-16T08:53:50.434Z"
   },
   {
    "duration": 85,
    "start_time": "2022-04-16T08:53:50.466Z"
   },
   {
    "duration": 1977,
    "start_time": "2022-04-16T08:53:50.553Z"
   },
   {
    "duration": 32,
    "start_time": "2022-04-16T08:53:52.531Z"
   },
   {
    "duration": 280,
    "start_time": "2022-04-16T08:53:52.564Z"
   },
   {
    "duration": 194,
    "start_time": "2022-04-16T08:53:52.846Z"
   },
   {
    "duration": 35,
    "start_time": "2022-04-16T08:53:53.042Z"
   },
   {
    "duration": 94,
    "start_time": "2022-04-16T08:53:53.078Z"
   },
   {
    "duration": 23,
    "start_time": "2022-04-16T08:53:53.174Z"
   },
   {
    "duration": 31,
    "start_time": "2022-04-16T08:53:53.207Z"
   },
   {
    "duration": 8,
    "start_time": "2022-04-16T08:53:53.240Z"
   },
   {
    "duration": 8,
    "start_time": "2022-04-16T08:53:53.249Z"
   },
   {
    "duration": 3134,
    "start_time": "2022-04-16T08:53:53.258Z"
   },
   {
    "duration": 2388,
    "start_time": "2022-04-16T08:53:56.393Z"
   },
   {
    "duration": 99,
    "start_time": "2022-04-16T08:53:58.782Z"
   },
   {
    "duration": 1640,
    "start_time": "2022-04-16T08:53:58.884Z"
   },
   {
    "duration": 1598,
    "start_time": "2022-04-16T08:54:00.526Z"
   },
   {
    "duration": 1714,
    "start_time": "2022-04-16T08:54:02.125Z"
   },
   {
    "duration": 24,
    "start_time": "2022-04-16T08:54:03.841Z"
   },
   {
    "duration": 75,
    "start_time": "2022-04-16T08:54:03.867Z"
   },
   {
    "duration": 17,
    "start_time": "2022-04-16T08:54:03.943Z"
   },
   {
    "duration": 174,
    "start_time": "2022-04-16T08:54:03.962Z"
   },
   {
    "duration": 15,
    "start_time": "2022-04-16T08:54:04.137Z"
   },
   {
    "duration": 88,
    "start_time": "2022-04-16T08:54:04.154Z"
   },
   {
    "duration": 107,
    "start_time": "2022-04-16T08:54:04.243Z"
   },
   {
    "duration": 32,
    "start_time": "2022-04-16T08:54:04.352Z"
   },
   {
    "duration": 82,
    "start_time": "2022-04-16T08:54:04.386Z"
   },
   {
    "duration": 8,
    "start_time": "2022-04-16T08:56:22.573Z"
   },
   {
    "duration": 1345,
    "start_time": "2022-04-16T08:56:22.583Z"
   },
   {
    "duration": 980,
    "start_time": "2022-04-16T08:56:23.930Z"
   },
   {
    "duration": 30,
    "start_time": "2022-04-16T08:56:24.912Z"
   },
   {
    "duration": 4,
    "start_time": "2022-04-16T08:56:24.943Z"
   },
   {
    "duration": 7,
    "start_time": "2022-04-16T08:56:24.948Z"
   },
   {
    "duration": 109,
    "start_time": "2022-04-16T08:56:24.957Z"
   },
   {
    "duration": 62,
    "start_time": "2022-04-16T08:56:25.067Z"
   },
   {
    "duration": 40,
    "start_time": "2022-04-16T08:56:25.130Z"
   },
   {
    "duration": 80,
    "start_time": "2022-04-16T08:56:25.172Z"
   },
   {
    "duration": 23,
    "start_time": "2022-04-16T08:56:25.253Z"
   },
   {
    "duration": 48,
    "start_time": "2022-04-16T08:56:25.278Z"
   },
   {
    "duration": 35,
    "start_time": "2022-04-16T08:56:25.328Z"
   },
   {
    "duration": 86,
    "start_time": "2022-04-16T08:56:25.365Z"
   },
   {
    "duration": 2087,
    "start_time": "2022-04-16T08:56:25.452Z"
   },
   {
    "duration": 33,
    "start_time": "2022-04-16T08:56:27.541Z"
   },
   {
    "duration": 293,
    "start_time": "2022-04-16T08:56:27.576Z"
   },
   {
    "duration": 204,
    "start_time": "2022-04-16T08:56:27.871Z"
   },
   {
    "duration": 39,
    "start_time": "2022-04-16T08:56:28.076Z"
   },
   {
    "duration": 92,
    "start_time": "2022-04-16T08:56:28.116Z"
   },
   {
    "duration": 25,
    "start_time": "2022-04-16T08:56:28.210Z"
   },
   {
    "duration": 31,
    "start_time": "2022-04-16T08:56:28.237Z"
   },
   {
    "duration": 9,
    "start_time": "2022-04-16T08:56:28.269Z"
   },
   {
    "duration": 28,
    "start_time": "2022-04-16T08:56:28.280Z"
   },
   {
    "duration": 3263,
    "start_time": "2022-04-16T08:56:28.309Z"
   },
   {
    "duration": 2474,
    "start_time": "2022-04-16T08:56:31.574Z"
   },
   {
    "duration": 107,
    "start_time": "2022-04-16T08:56:34.049Z"
   },
   {
    "duration": 1682,
    "start_time": "2022-04-16T08:56:34.159Z"
   },
   {
    "duration": 1678,
    "start_time": "2022-04-16T08:56:35.842Z"
   },
   {
    "duration": 1730,
    "start_time": "2022-04-16T08:56:37.521Z"
   },
   {
    "duration": 25,
    "start_time": "2022-04-16T08:56:39.252Z"
   },
   {
    "duration": 75,
    "start_time": "2022-04-16T08:56:39.279Z"
   },
   {
    "duration": 17,
    "start_time": "2022-04-16T08:56:39.356Z"
   },
   {
    "duration": 179,
    "start_time": "2022-04-16T08:56:39.375Z"
   },
   {
    "duration": 15,
    "start_time": "2022-04-16T08:56:39.556Z"
   },
   {
    "duration": 89,
    "start_time": "2022-04-16T08:56:39.572Z"
   },
   {
    "duration": 111,
    "start_time": "2022-04-16T08:56:39.663Z"
   },
   {
    "duration": 36,
    "start_time": "2022-04-16T08:56:39.776Z"
   },
   {
    "duration": 143,
    "start_time": "2022-04-16T08:56:39.814Z"
   },
   {
    "duration": 8,
    "start_time": "2022-04-16T08:58:13.670Z"
   },
   {
    "duration": 1392,
    "start_time": "2022-04-16T08:58:13.680Z"
   },
   {
    "duration": 986,
    "start_time": "2022-04-16T08:58:15.074Z"
   },
   {
    "duration": 29,
    "start_time": "2022-04-16T08:58:16.062Z"
   },
   {
    "duration": 3,
    "start_time": "2022-04-16T08:58:16.093Z"
   },
   {
    "duration": 12,
    "start_time": "2022-04-16T08:58:16.097Z"
   },
   {
    "duration": 101,
    "start_time": "2022-04-16T08:58:16.111Z"
   },
   {
    "duration": 55,
    "start_time": "2022-04-16T08:58:16.214Z"
   },
   {
    "duration": 51,
    "start_time": "2022-04-16T08:58:16.271Z"
   },
   {
    "duration": 62,
    "start_time": "2022-04-16T08:58:16.325Z"
   },
   {
    "duration": 34,
    "start_time": "2022-04-16T08:58:16.388Z"
   },
   {
    "duration": 35,
    "start_time": "2022-04-16T08:58:16.424Z"
   },
   {
    "duration": 48,
    "start_time": "2022-04-16T08:58:16.460Z"
   },
   {
    "duration": 69,
    "start_time": "2022-04-16T08:58:16.510Z"
   },
   {
    "duration": 2090,
    "start_time": "2022-04-16T08:58:16.581Z"
   },
   {
    "duration": 38,
    "start_time": "2022-04-16T08:58:18.672Z"
   },
   {
    "duration": 286,
    "start_time": "2022-04-16T08:58:18.712Z"
   },
   {
    "duration": 200,
    "start_time": "2022-04-16T08:58:18.999Z"
   },
   {
    "duration": 38,
    "start_time": "2022-04-16T08:58:19.201Z"
   },
   {
    "duration": 92,
    "start_time": "2022-04-16T08:58:19.241Z"
   },
   {
    "duration": 24,
    "start_time": "2022-04-16T08:58:19.335Z"
   },
   {
    "duration": 48,
    "start_time": "2022-04-16T08:58:19.360Z"
   },
   {
    "duration": 7,
    "start_time": "2022-04-16T08:58:19.409Z"
   },
   {
    "duration": 8,
    "start_time": "2022-04-16T08:58:19.418Z"
   },
   {
    "duration": 3232,
    "start_time": "2022-04-16T08:58:19.427Z"
   },
   {
    "duration": 2455,
    "start_time": "2022-04-16T08:58:22.661Z"
   },
   {
    "duration": 101,
    "start_time": "2022-04-16T08:58:25.118Z"
   },
   {
    "duration": 1627,
    "start_time": "2022-04-16T08:58:25.222Z"
   },
   {
    "duration": 1684,
    "start_time": "2022-04-16T08:58:26.850Z"
   },
   {
    "duration": 1772,
    "start_time": "2022-04-16T08:58:28.535Z"
   },
   {
    "duration": 23,
    "start_time": "2022-04-16T08:58:30.309Z"
   },
   {
    "duration": 59,
    "start_time": "2022-04-16T08:58:30.334Z"
   },
   {
    "duration": 20,
    "start_time": "2022-04-16T08:58:30.408Z"
   },
   {
    "duration": 174,
    "start_time": "2022-04-16T08:58:30.430Z"
   },
   {
    "duration": 14,
    "start_time": "2022-04-16T08:58:30.606Z"
   },
   {
    "duration": 85,
    "start_time": "2022-04-16T08:58:30.622Z"
   },
   {
    "duration": 110,
    "start_time": "2022-04-16T08:58:30.709Z"
   },
   {
    "duration": 33,
    "start_time": "2022-04-16T08:58:30.820Z"
   },
   {
    "duration": 145888,
    "start_time": "2022-04-16T08:58:30.855Z"
   },
   {
    "duration": 8,
    "start_time": "2022-04-16T09:04:32.029Z"
   },
   {
    "duration": 1315,
    "start_time": "2022-04-16T09:04:32.039Z"
   },
   {
    "duration": 959,
    "start_time": "2022-04-16T09:04:33.356Z"
   },
   {
    "duration": 30,
    "start_time": "2022-04-16T09:04:34.317Z"
   },
   {
    "duration": 4,
    "start_time": "2022-04-16T09:04:34.348Z"
   },
   {
    "duration": 6,
    "start_time": "2022-04-16T09:04:34.354Z"
   },
   {
    "duration": 106,
    "start_time": "2022-04-16T09:04:34.362Z"
   },
   {
    "duration": 63,
    "start_time": "2022-04-16T09:04:34.469Z"
   },
   {
    "duration": 34,
    "start_time": "2022-04-16T09:04:34.533Z"
   },
   {
    "duration": 74,
    "start_time": "2022-04-16T09:04:34.570Z"
   },
   {
    "duration": 22,
    "start_time": "2022-04-16T09:04:34.646Z"
   },
   {
    "duration": 47,
    "start_time": "2022-04-16T09:04:34.670Z"
   },
   {
    "duration": 33,
    "start_time": "2022-04-16T09:04:34.719Z"
   },
   {
    "duration": 78,
    "start_time": "2022-04-16T09:04:34.754Z"
   },
   {
    "duration": 2059,
    "start_time": "2022-04-16T09:04:34.833Z"
   },
   {
    "duration": 38,
    "start_time": "2022-04-16T09:04:36.893Z"
   },
   {
    "duration": 282,
    "start_time": "2022-04-16T09:04:36.932Z"
   },
   {
    "duration": 192,
    "start_time": "2022-04-16T09:04:37.215Z"
   },
   {
    "duration": 32,
    "start_time": "2022-04-16T09:04:37.409Z"
   },
   {
    "duration": 94,
    "start_time": "2022-04-16T09:04:37.442Z"
   },
   {
    "duration": 23,
    "start_time": "2022-04-16T09:04:37.537Z"
   },
   {
    "duration": 46,
    "start_time": "2022-04-16T09:04:37.562Z"
   },
   {
    "duration": 12,
    "start_time": "2022-04-16T09:04:37.610Z"
   },
   {
    "duration": 7,
    "start_time": "2022-04-16T09:04:37.623Z"
   },
   {
    "duration": 3232,
    "start_time": "2022-04-16T09:04:37.632Z"
   },
   {
    "duration": 2419,
    "start_time": "2022-04-16T09:04:40.866Z"
   },
   {
    "duration": 95,
    "start_time": "2022-04-16T09:04:43.287Z"
   },
   {
    "duration": 1618,
    "start_time": "2022-04-16T09:04:43.385Z"
   },
   {
    "duration": 1564,
    "start_time": "2022-04-16T09:04:45.005Z"
   },
   {
    "duration": 1754,
    "start_time": "2022-04-16T09:04:46.571Z"
   },
   {
    "duration": 24,
    "start_time": "2022-04-16T09:04:48.327Z"
   },
   {
    "duration": 77,
    "start_time": "2022-04-16T09:04:48.353Z"
   },
   {
    "duration": 18,
    "start_time": "2022-04-16T09:04:48.431Z"
   },
   {
    "duration": 174,
    "start_time": "2022-04-16T09:04:48.450Z"
   },
   {
    "duration": 16,
    "start_time": "2022-04-16T09:04:48.625Z"
   },
   {
    "duration": 90,
    "start_time": "2022-04-16T09:04:48.642Z"
   },
   {
    "duration": 110,
    "start_time": "2022-04-16T09:04:48.733Z"
   },
   {
    "duration": 29,
    "start_time": "2022-04-16T09:04:48.844Z"
   },
   {
    "duration": 7,
    "start_time": "2022-04-16T14:34:45.737Z"
   },
   {
    "duration": 2035,
    "start_time": "2022-04-16T14:34:45.746Z"
   },
   {
    "duration": 960,
    "start_time": "2022-04-16T14:34:47.782Z"
   },
   {
    "duration": 26,
    "start_time": "2022-04-16T14:34:48.744Z"
   },
   {
    "duration": 3,
    "start_time": "2022-04-16T14:34:48.772Z"
   },
   {
    "duration": 7,
    "start_time": "2022-04-16T14:34:48.776Z"
   },
   {
    "duration": 93,
    "start_time": "2022-04-16T14:34:48.785Z"
   },
   {
    "duration": 62,
    "start_time": "2022-04-16T14:34:48.880Z"
   },
   {
    "duration": 37,
    "start_time": "2022-04-16T14:34:48.944Z"
   },
   {
    "duration": 72,
    "start_time": "2022-04-16T14:34:48.984Z"
   },
   {
    "duration": 24,
    "start_time": "2022-04-16T14:34:49.058Z"
   },
   {
    "duration": 51,
    "start_time": "2022-04-16T14:34:49.083Z"
   },
   {
    "duration": 32,
    "start_time": "2022-04-16T14:34:49.136Z"
   },
   {
    "duration": 79,
    "start_time": "2022-04-16T14:34:49.169Z"
   },
   {
    "duration": 2039,
    "start_time": "2022-04-16T14:34:49.250Z"
   },
   {
    "duration": 32,
    "start_time": "2022-04-16T14:34:51.290Z"
   },
   {
    "duration": 287,
    "start_time": "2022-04-16T14:34:51.324Z"
   },
   {
    "duration": 192,
    "start_time": "2022-04-16T14:34:51.613Z"
   },
   {
    "duration": 34,
    "start_time": "2022-04-16T14:34:51.807Z"
   },
   {
    "duration": 95,
    "start_time": "2022-04-16T14:34:51.842Z"
   },
   {
    "duration": 22,
    "start_time": "2022-04-16T14:34:51.939Z"
   },
   {
    "duration": 46,
    "start_time": "2022-04-16T14:34:51.962Z"
   },
   {
    "duration": 7,
    "start_time": "2022-04-16T14:34:52.009Z"
   },
   {
    "duration": 7,
    "start_time": "2022-04-16T14:34:52.018Z"
   },
   {
    "duration": 1440,
    "start_time": "2022-04-16T14:34:52.026Z"
   },
   {
    "duration": 2381,
    "start_time": "2022-04-16T14:34:53.468Z"
   },
   {
    "duration": 96,
    "start_time": "2022-04-16T14:34:55.850Z"
   },
   {
    "duration": 1669,
    "start_time": "2022-04-16T14:34:55.951Z"
   },
   {
    "duration": 1592,
    "start_time": "2022-04-16T14:34:57.622Z"
   },
   {
    "duration": 1691,
    "start_time": "2022-04-16T14:34:59.216Z"
   },
   {
    "duration": 23,
    "start_time": "2022-04-16T14:35:00.909Z"
   },
   {
    "duration": 74,
    "start_time": "2022-04-16T14:35:00.934Z"
   },
   {
    "duration": 20,
    "start_time": "2022-04-16T14:35:01.010Z"
   },
   {
    "duration": 174,
    "start_time": "2022-04-16T14:35:01.032Z"
   },
   {
    "duration": 15,
    "start_time": "2022-04-16T14:35:01.208Z"
   },
   {
    "duration": 87,
    "start_time": "2022-04-16T14:35:01.224Z"
   },
   {
    "duration": 106,
    "start_time": "2022-04-16T14:35:01.312Z"
   },
   {
    "duration": 32,
    "start_time": "2022-04-16T14:35:01.419Z"
   },
   {
    "duration": 4366,
    "start_time": "2022-04-16T14:35:01.452Z"
   },
   {
    "duration": 8,
    "start_time": "2022-04-16T14:36:26.470Z"
   },
   {
    "duration": 1310,
    "start_time": "2022-04-16T14:36:26.480Z"
   },
   {
    "duration": 940,
    "start_time": "2022-04-16T14:36:27.792Z"
   },
   {
    "duration": 26,
    "start_time": "2022-04-16T14:36:28.734Z"
   },
   {
    "duration": 3,
    "start_time": "2022-04-16T14:36:28.762Z"
   },
   {
    "duration": 8,
    "start_time": "2022-04-16T14:36:28.766Z"
   },
   {
    "duration": 101,
    "start_time": "2022-04-16T14:36:28.775Z"
   },
   {
    "duration": 64,
    "start_time": "2022-04-16T14:36:28.877Z"
   },
   {
    "duration": 37,
    "start_time": "2022-04-16T14:36:28.942Z"
   },
   {
    "duration": 70,
    "start_time": "2022-04-16T14:36:28.982Z"
   },
   {
    "duration": 24,
    "start_time": "2022-04-16T14:36:29.054Z"
   },
   {
    "duration": 52,
    "start_time": "2022-04-16T14:36:29.079Z"
   },
   {
    "duration": 42,
    "start_time": "2022-04-16T14:36:29.132Z"
   },
   {
    "duration": 72,
    "start_time": "2022-04-16T14:36:29.176Z"
   },
   {
    "duration": 2058,
    "start_time": "2022-04-16T14:36:29.250Z"
   },
   {
    "duration": 32,
    "start_time": "2022-04-16T14:36:31.309Z"
   },
   {
    "duration": 291,
    "start_time": "2022-04-16T14:36:31.342Z"
   },
   {
    "duration": 200,
    "start_time": "2022-04-16T14:36:31.635Z"
   },
   {
    "duration": 32,
    "start_time": "2022-04-16T14:36:31.836Z"
   },
   {
    "duration": 85,
    "start_time": "2022-04-16T14:36:31.870Z"
   },
   {
    "duration": 22,
    "start_time": "2022-04-16T14:36:31.956Z"
   },
   {
    "duration": 40,
    "start_time": "2022-04-16T14:36:31.980Z"
   },
   {
    "duration": 9,
    "start_time": "2022-04-16T14:36:32.022Z"
   },
   {
    "duration": 8,
    "start_time": "2022-04-16T14:36:32.032Z"
   },
   {
    "duration": 3423,
    "start_time": "2022-04-16T14:36:32.041Z"
   },
   {
    "duration": 2552,
    "start_time": "2022-04-16T14:36:35.466Z"
   },
   {
    "duration": 101,
    "start_time": "2022-04-16T14:36:38.020Z"
   },
   {
    "duration": 1616,
    "start_time": "2022-04-16T14:36:38.125Z"
   },
   {
    "duration": 1631,
    "start_time": "2022-04-16T14:36:39.742Z"
   },
   {
    "duration": 1662,
    "start_time": "2022-04-16T14:36:41.375Z"
   },
   {
    "duration": 24,
    "start_time": "2022-04-16T14:36:43.039Z"
   },
   {
    "duration": 73,
    "start_time": "2022-04-16T14:36:43.065Z"
   },
   {
    "duration": 17,
    "start_time": "2022-04-16T14:36:43.140Z"
   },
   {
    "duration": 168,
    "start_time": "2022-04-16T14:36:43.158Z"
   },
   {
    "duration": 15,
    "start_time": "2022-04-16T14:36:43.328Z"
   },
   {
    "duration": 87,
    "start_time": "2022-04-16T14:36:43.345Z"
   },
   {
    "duration": 103,
    "start_time": "2022-04-16T14:36:43.434Z"
   },
   {
    "duration": 30,
    "start_time": "2022-04-16T14:36:43.538Z"
   },
   {
    "duration": 207407,
    "start_time": "2022-04-16T14:36:43.570Z"
   },
   {
    "duration": 8,
    "start_time": "2022-04-16T14:40:32.214Z"
   },
   {
    "duration": 1373,
    "start_time": "2022-04-16T14:40:32.224Z"
   },
   {
    "duration": 990,
    "start_time": "2022-04-16T14:40:33.598Z"
   },
   {
    "duration": 31,
    "start_time": "2022-04-16T14:40:34.589Z"
   },
   {
    "duration": 3,
    "start_time": "2022-04-16T14:40:34.623Z"
   },
   {
    "duration": 7,
    "start_time": "2022-04-16T14:40:34.628Z"
   },
   {
    "duration": 102,
    "start_time": "2022-04-16T14:40:34.636Z"
   },
   {
    "duration": 72,
    "start_time": "2022-04-16T14:40:34.740Z"
   },
   {
    "duration": 39,
    "start_time": "2022-04-16T14:40:34.814Z"
   },
   {
    "duration": 73,
    "start_time": "2022-04-16T14:40:34.855Z"
   },
   {
    "duration": 24,
    "start_time": "2022-04-16T14:40:34.930Z"
   },
   {
    "duration": 54,
    "start_time": "2022-04-16T14:40:34.956Z"
   },
   {
    "duration": 35,
    "start_time": "2022-04-16T14:40:35.012Z"
   },
   {
    "duration": 88,
    "start_time": "2022-04-16T14:40:35.051Z"
   },
   {
    "duration": 2143,
    "start_time": "2022-04-16T14:40:35.141Z"
   },
   {
    "duration": 40,
    "start_time": "2022-04-16T14:40:37.286Z"
   },
   {
    "duration": 304,
    "start_time": "2022-04-16T14:40:37.328Z"
   },
   {
    "duration": 210,
    "start_time": "2022-04-16T14:40:37.633Z"
   },
   {
    "duration": 36,
    "start_time": "2022-04-16T14:40:37.845Z"
   },
   {
    "duration": 97,
    "start_time": "2022-04-16T14:40:37.883Z"
   },
   {
    "duration": 32,
    "start_time": "2022-04-16T14:40:37.982Z"
   },
   {
    "duration": 33,
    "start_time": "2022-04-16T14:40:38.015Z"
   },
   {
    "duration": 9,
    "start_time": "2022-04-16T14:40:38.050Z"
   },
   {
    "duration": 8,
    "start_time": "2022-04-16T14:40:38.061Z"
   },
   {
    "duration": 3317,
    "start_time": "2022-04-16T14:40:38.071Z"
   },
   {
    "duration": 2456,
    "start_time": "2022-04-16T14:40:41.390Z"
   },
   {
    "duration": 98,
    "start_time": "2022-04-16T14:40:43.848Z"
   },
   {
    "duration": 1581,
    "start_time": "2022-04-16T14:40:43.947Z"
   },
   {
    "duration": 1570,
    "start_time": "2022-04-16T14:40:45.530Z"
   },
   {
    "duration": 1726,
    "start_time": "2022-04-16T14:40:47.101Z"
   },
   {
    "duration": 25,
    "start_time": "2022-04-16T14:40:48.828Z"
   },
   {
    "duration": 77,
    "start_time": "2022-04-16T14:40:48.854Z"
   },
   {
    "duration": 17,
    "start_time": "2022-04-16T14:40:48.932Z"
   },
   {
    "duration": 179,
    "start_time": "2022-04-16T14:40:48.950Z"
   },
   {
    "duration": 16,
    "start_time": "2022-04-16T14:40:49.131Z"
   },
   {
    "duration": 90,
    "start_time": "2022-04-16T14:40:49.149Z"
   },
   {
    "duration": 105,
    "start_time": "2022-04-16T14:40:49.241Z"
   },
   {
    "duration": 30,
    "start_time": "2022-04-16T14:40:49.347Z"
   },
   {
    "duration": 18083092,
    "start_time": "2022-04-16T14:40:49.379Z"
   },
   {
    "duration": 221970,
    "start_time": "2022-04-16T19:42:12.475Z"
   },
   {
    "duration": 713,
    "start_time": "2022-04-16T19:45:54.447Z"
   },
   {
    "duration": 765,
    "start_time": "2022-04-16T19:45:55.162Z"
   },
   {
    "duration": 10,
    "start_time": "2022-04-16T19:47:56.373Z"
   },
   {
    "duration": 11,
    "start_time": "2022-04-16T19:48:03.926Z"
   },
   {
    "duration": 84,
    "start_time": "2022-04-16T19:57:29.814Z"
   },
   {
    "duration": 6,
    "start_time": "2022-04-16T19:57:56.786Z"
   },
   {
    "duration": 1521053,
    "start_time": "2022-04-16T19:58:05.812Z"
   },
   {
    "duration": 0,
    "start_time": "2022-04-16T20:23:26.867Z"
   },
   {
    "duration": 6,
    "start_time": "2022-04-16T20:24:34.807Z"
   },
   {
    "duration": 1815847,
    "start_time": "2022-04-16T20:24:49.083Z"
   },
   {
    "duration": 7,
    "start_time": "2022-04-16T20:55:04.932Z"
   },
   {
    "duration": 7,
    "start_time": "2022-04-18T06:14:29.430Z"
   },
   {
    "duration": 1312,
    "start_time": "2022-04-18T06:14:29.439Z"
   },
   {
    "duration": 0,
    "start_time": "2022-04-18T06:14:30.754Z"
   },
   {
    "duration": 0,
    "start_time": "2022-04-18T06:14:30.756Z"
   },
   {
    "duration": 0,
    "start_time": "2022-04-18T06:14:30.757Z"
   },
   {
    "duration": 0,
    "start_time": "2022-04-18T06:14:30.758Z"
   },
   {
    "duration": 0,
    "start_time": "2022-04-18T06:14:30.759Z"
   },
   {
    "duration": 0,
    "start_time": "2022-04-18T06:14:30.761Z"
   },
   {
    "duration": 0,
    "start_time": "2022-04-18T06:14:30.761Z"
   },
   {
    "duration": 0,
    "start_time": "2022-04-18T06:14:30.763Z"
   },
   {
    "duration": 0,
    "start_time": "2022-04-18T06:14:30.764Z"
   },
   {
    "duration": 0,
    "start_time": "2022-04-18T06:14:30.765Z"
   },
   {
    "duration": 0,
    "start_time": "2022-04-18T06:14:30.766Z"
   },
   {
    "duration": 0,
    "start_time": "2022-04-18T06:14:30.767Z"
   },
   {
    "duration": 0,
    "start_time": "2022-04-18T06:14:30.768Z"
   },
   {
    "duration": 0,
    "start_time": "2022-04-18T06:14:30.769Z"
   },
   {
    "duration": 0,
    "start_time": "2022-04-18T06:14:30.770Z"
   },
   {
    "duration": 0,
    "start_time": "2022-04-18T06:14:30.771Z"
   },
   {
    "duration": 0,
    "start_time": "2022-04-18T06:14:30.773Z"
   },
   {
    "duration": 0,
    "start_time": "2022-04-18T06:14:30.773Z"
   },
   {
    "duration": 0,
    "start_time": "2022-04-18T06:14:30.775Z"
   },
   {
    "duration": 0,
    "start_time": "2022-04-18T06:14:30.776Z"
   },
   {
    "duration": 0,
    "start_time": "2022-04-18T06:14:30.777Z"
   },
   {
    "duration": 0,
    "start_time": "2022-04-18T06:14:30.778Z"
   },
   {
    "duration": 0,
    "start_time": "2022-04-18T06:14:30.779Z"
   },
   {
    "duration": 0,
    "start_time": "2022-04-18T06:14:30.780Z"
   },
   {
    "duration": 0,
    "start_time": "2022-04-18T06:14:30.781Z"
   },
   {
    "duration": 0,
    "start_time": "2022-04-18T06:14:30.782Z"
   },
   {
    "duration": 0,
    "start_time": "2022-04-18T06:14:30.783Z"
   },
   {
    "duration": 0,
    "start_time": "2022-04-18T06:14:30.784Z"
   },
   {
    "duration": 0,
    "start_time": "2022-04-18T06:14:30.833Z"
   },
   {
    "duration": 0,
    "start_time": "2022-04-18T06:14:30.834Z"
   },
   {
    "duration": 0,
    "start_time": "2022-04-18T06:14:30.835Z"
   },
   {
    "duration": 0,
    "start_time": "2022-04-18T06:14:30.836Z"
   },
   {
    "duration": 0,
    "start_time": "2022-04-18T06:14:30.837Z"
   },
   {
    "duration": 0,
    "start_time": "2022-04-18T06:14:30.839Z"
   },
   {
    "duration": 0,
    "start_time": "2022-04-18T06:14:30.840Z"
   },
   {
    "duration": 0,
    "start_time": "2022-04-18T06:14:30.841Z"
   },
   {
    "duration": 0,
    "start_time": "2022-04-18T06:14:30.842Z"
   },
   {
    "duration": 0,
    "start_time": "2022-04-18T06:14:30.843Z"
   },
   {
    "duration": 0,
    "start_time": "2022-04-18T06:14:30.844Z"
   },
   {
    "duration": 0,
    "start_time": "2022-04-18T06:14:30.845Z"
   },
   {
    "duration": 0,
    "start_time": "2022-04-18T06:14:30.846Z"
   },
   {
    "duration": 0,
    "start_time": "2022-04-18T06:14:30.847Z"
   },
   {
    "duration": 0,
    "start_time": "2022-04-18T06:14:30.849Z"
   },
   {
    "duration": 255,
    "start_time": "2022-04-18T06:19:07.862Z"
   },
   {
    "duration": 166,
    "start_time": "2022-04-18T07:04:21.680Z"
   },
   {
    "duration": 12637,
    "start_time": "2022-04-18T07:24:45.532Z"
   },
   {
    "duration": 2002,
    "start_time": "2022-04-18T07:25:07.692Z"
   },
   {
    "duration": 6683,
    "start_time": "2022-04-18T07:25:13.924Z"
   },
   {
    "duration": 19,
    "start_time": "2022-04-18T07:25:55.157Z"
   },
   {
    "duration": 17,
    "start_time": "2022-04-18T07:25:56.924Z"
   },
   {
    "duration": 7833,
    "start_time": "2022-04-18T07:26:03.703Z"
   },
   {
    "duration": 1266,
    "start_time": "2022-04-18T07:26:57.290Z"
   },
   {
    "duration": 1187,
    "start_time": "2022-04-18T07:27:21.016Z"
   },
   {
    "duration": 18,
    "start_time": "2022-04-18T07:27:22.205Z"
   },
   {
    "duration": 4,
    "start_time": "2022-04-18T07:27:22.225Z"
   },
   {
    "duration": 18,
    "start_time": "2022-04-18T07:27:22.232Z"
   },
   {
    "duration": 16,
    "start_time": "2022-04-18T07:27:22.251Z"
   },
   {
    "duration": 12,
    "start_time": "2022-04-18T07:27:22.269Z"
   },
   {
    "duration": 18,
    "start_time": "2022-04-18T07:27:22.283Z"
   },
   {
    "duration": 16,
    "start_time": "2022-04-18T07:27:22.303Z"
   },
   {
    "duration": 23,
    "start_time": "2022-04-18T07:27:22.320Z"
   },
   {
    "duration": 12,
    "start_time": "2022-04-18T07:27:22.346Z"
   },
   {
    "duration": 19,
    "start_time": "2022-04-18T07:27:22.360Z"
   },
   {
    "duration": 34,
    "start_time": "2022-04-18T07:27:22.380Z"
   },
   {
    "duration": 172,
    "start_time": "2022-04-18T07:27:22.416Z"
   },
   {
    "duration": 6,
    "start_time": "2022-04-18T07:27:22.590Z"
   },
   {
    "duration": 355,
    "start_time": "2022-04-18T07:27:22.599Z"
   },
   {
    "duration": 191,
    "start_time": "2022-04-18T07:27:22.956Z"
   },
   {
    "duration": 8,
    "start_time": "2022-04-18T07:27:23.149Z"
   },
   {
    "duration": 16,
    "start_time": "2022-04-18T07:27:23.159Z"
   },
   {
    "duration": 32,
    "start_time": "2022-04-18T07:27:23.177Z"
   },
   {
    "duration": 21,
    "start_time": "2022-04-18T07:27:23.211Z"
   },
   {
    "duration": 8,
    "start_time": "2022-04-18T07:27:23.235Z"
   },
   {
    "duration": 9,
    "start_time": "2022-04-18T07:27:23.245Z"
   },
   {
    "duration": 157,
    "start_time": "2022-04-18T07:27:23.256Z"
   },
   {
    "duration": 175,
    "start_time": "2022-04-18T07:27:23.415Z"
   },
   {
    "duration": 7,
    "start_time": "2022-04-18T07:27:23.591Z"
   },
   {
    "duration": 676,
    "start_time": "2022-04-18T07:27:23.600Z"
   },
   {
    "duration": 610,
    "start_time": "2022-04-18T07:27:24.278Z"
   },
   {
    "duration": 606,
    "start_time": "2022-04-18T07:27:24.892Z"
   },
   {
    "duration": 6,
    "start_time": "2022-04-18T07:27:25.500Z"
   },
   {
    "duration": 14,
    "start_time": "2022-04-18T07:27:25.507Z"
   },
   {
    "duration": 7,
    "start_time": "2022-04-18T07:27:25.523Z"
   },
   {
    "duration": 8,
    "start_time": "2022-04-18T07:27:25.532Z"
   },
   {
    "duration": 14,
    "start_time": "2022-04-18T07:27:25.541Z"
   },
   {
    "duration": 5,
    "start_time": "2022-04-18T07:27:25.557Z"
   },
   {
    "duration": 10,
    "start_time": "2022-04-18T07:27:25.564Z"
   },
   {
    "duration": 8,
    "start_time": "2022-04-18T07:27:25.575Z"
   },
   {
    "duration": 149,
    "start_time": "2022-04-18T07:27:25.585Z"
   },
   {
    "duration": 0,
    "start_time": "2022-04-18T07:27:25.736Z"
   },
   {
    "duration": 0,
    "start_time": "2022-04-18T07:27:25.737Z"
   },
   {
    "duration": 0,
    "start_time": "2022-04-18T07:27:25.738Z"
   },
   {
    "duration": 0,
    "start_time": "2022-04-18T07:27:25.739Z"
   },
   {
    "duration": 0,
    "start_time": "2022-04-18T07:27:25.740Z"
   },
   {
    "duration": 0,
    "start_time": "2022-04-18T07:27:25.741Z"
   },
   {
    "duration": 6507,
    "start_time": "2022-04-18T07:28:17.281Z"
   },
   {
    "duration": 1357,
    "start_time": "2022-04-18T07:28:23.791Z"
   },
   {
    "duration": 968,
    "start_time": "2022-04-18T07:28:25.150Z"
   },
   {
    "duration": 16,
    "start_time": "2022-04-18T07:28:26.120Z"
   },
   {
    "duration": 3,
    "start_time": "2022-04-18T07:28:26.137Z"
   },
   {
    "duration": 15,
    "start_time": "2022-04-18T07:28:26.141Z"
   },
   {
    "duration": 12,
    "start_time": "2022-04-18T07:28:26.157Z"
   },
   {
    "duration": 5,
    "start_time": "2022-04-18T07:28:26.171Z"
   },
   {
    "duration": 13,
    "start_time": "2022-04-18T07:28:26.177Z"
   },
   {
    "duration": 11,
    "start_time": "2022-04-18T07:28:26.193Z"
   },
   {
    "duration": 7,
    "start_time": "2022-04-18T07:28:26.206Z"
   },
   {
    "duration": 7,
    "start_time": "2022-04-18T07:28:26.214Z"
   },
   {
    "duration": 6,
    "start_time": "2022-04-18T07:28:26.223Z"
   },
   {
    "duration": 38,
    "start_time": "2022-04-18T07:28:26.231Z"
   },
   {
    "duration": 163,
    "start_time": "2022-04-18T07:28:26.270Z"
   },
   {
    "duration": 6,
    "start_time": "2022-04-18T07:28:26.434Z"
   },
   {
    "duration": 314,
    "start_time": "2022-04-18T07:28:26.442Z"
   },
   {
    "duration": 172,
    "start_time": "2022-04-18T07:28:26.758Z"
   },
   {
    "duration": 6,
    "start_time": "2022-04-18T07:28:26.931Z"
   },
   {
    "duration": 18,
    "start_time": "2022-04-18T07:28:26.938Z"
   },
   {
    "duration": 4,
    "start_time": "2022-04-18T07:28:26.958Z"
   },
   {
    "duration": 7,
    "start_time": "2022-04-18T07:28:26.963Z"
   },
   {
    "duration": 12,
    "start_time": "2022-04-18T07:28:26.972Z"
   },
   {
    "duration": 31,
    "start_time": "2022-04-18T07:28:26.986Z"
   },
   {
    "duration": 148,
    "start_time": "2022-04-18T07:28:27.019Z"
   },
   {
    "duration": 153,
    "start_time": "2022-04-18T07:28:27.169Z"
   },
   {
    "duration": 7,
    "start_time": "2022-04-18T07:28:27.324Z"
   },
   {
    "duration": 581,
    "start_time": "2022-04-18T07:28:27.334Z"
   },
   {
    "duration": 560,
    "start_time": "2022-04-18T07:28:27.916Z"
   },
   {
    "duration": 540,
    "start_time": "2022-04-18T07:28:28.477Z"
   },
   {
    "duration": 6,
    "start_time": "2022-04-18T07:28:29.019Z"
   },
   {
    "duration": 28,
    "start_time": "2022-04-18T07:28:29.026Z"
   },
   {
    "duration": 8,
    "start_time": "2022-04-18T07:28:29.055Z"
   },
   {
    "duration": 18,
    "start_time": "2022-04-18T07:28:29.065Z"
   },
   {
    "duration": 22,
    "start_time": "2022-04-18T07:28:29.085Z"
   },
   {
    "duration": 17,
    "start_time": "2022-04-18T07:28:29.109Z"
   },
   {
    "duration": 26,
    "start_time": "2022-04-18T07:28:29.127Z"
   },
   {
    "duration": 19,
    "start_time": "2022-04-18T07:28:29.155Z"
   },
   {
    "duration": 160,
    "start_time": "2022-04-18T07:28:29.175Z"
   },
   {
    "duration": 0,
    "start_time": "2022-04-18T07:28:29.337Z"
   },
   {
    "duration": 0,
    "start_time": "2022-04-18T07:28:29.338Z"
   },
   {
    "duration": 0,
    "start_time": "2022-04-18T07:28:29.339Z"
   },
   {
    "duration": 0,
    "start_time": "2022-04-18T07:28:29.340Z"
   },
   {
    "duration": 0,
    "start_time": "2022-04-18T07:28:29.341Z"
   },
   {
    "duration": 0,
    "start_time": "2022-04-18T07:28:29.342Z"
   },
   {
    "duration": 27,
    "start_time": "2022-04-18T07:33:54.756Z"
   },
   {
    "duration": 28,
    "start_time": "2022-04-18T07:36:10.860Z"
   },
   {
    "duration": 25,
    "start_time": "2022-04-18T07:36:16.820Z"
   },
   {
    "duration": 7826,
    "start_time": "2022-04-18T07:36:40.618Z"
   },
   {
    "duration": 1400,
    "start_time": "2022-04-18T07:36:48.447Z"
   },
   {
    "duration": 934,
    "start_time": "2022-04-18T07:36:49.849Z"
   },
   {
    "duration": 18,
    "start_time": "2022-04-18T07:36:50.785Z"
   },
   {
    "duration": 20,
    "start_time": "2022-04-18T07:36:50.805Z"
   },
   {
    "duration": 20,
    "start_time": "2022-04-18T07:36:50.827Z"
   },
   {
    "duration": 25,
    "start_time": "2022-04-18T07:36:50.848Z"
   },
   {
    "duration": 17,
    "start_time": "2022-04-18T07:36:50.875Z"
   },
   {
    "duration": 15,
    "start_time": "2022-04-18T07:36:50.893Z"
   },
   {
    "duration": 18,
    "start_time": "2022-04-18T07:36:50.911Z"
   },
   {
    "duration": 17,
    "start_time": "2022-04-18T07:36:50.931Z"
   },
   {
    "duration": 20,
    "start_time": "2022-04-18T07:36:50.950Z"
   },
   {
    "duration": 24,
    "start_time": "2022-04-18T07:36:50.972Z"
   },
   {
    "duration": 27,
    "start_time": "2022-04-18T07:36:50.998Z"
   },
   {
    "duration": 176,
    "start_time": "2022-04-18T07:36:51.027Z"
   },
   {
    "duration": 5,
    "start_time": "2022-04-18T07:36:51.205Z"
   },
   {
    "duration": 331,
    "start_time": "2022-04-18T07:36:51.212Z"
   },
   {
    "duration": 190,
    "start_time": "2022-04-18T07:36:51.544Z"
   },
   {
    "duration": 6,
    "start_time": "2022-04-18T07:36:51.736Z"
   },
   {
    "duration": 20,
    "start_time": "2022-04-18T07:36:51.755Z"
   },
   {
    "duration": 23,
    "start_time": "2022-04-18T07:36:51.777Z"
   },
   {
    "duration": 14,
    "start_time": "2022-04-18T07:36:51.802Z"
   },
   {
    "duration": 33,
    "start_time": "2022-04-18T07:36:51.817Z"
   },
   {
    "duration": 15,
    "start_time": "2022-04-18T07:36:51.852Z"
   },
   {
    "duration": 151,
    "start_time": "2022-04-18T07:36:51.869Z"
   },
   {
    "duration": 171,
    "start_time": "2022-04-18T07:36:52.021Z"
   },
   {
    "duration": 8,
    "start_time": "2022-04-18T07:36:52.194Z"
   },
   {
    "duration": 605,
    "start_time": "2022-04-18T07:36:52.206Z"
   },
   {
    "duration": 579,
    "start_time": "2022-04-18T07:36:52.814Z"
   },
   {
    "duration": 598,
    "start_time": "2022-04-18T07:36:53.395Z"
   },
   {
    "duration": 7,
    "start_time": "2022-04-18T07:36:53.995Z"
   },
   {
    "duration": 17,
    "start_time": "2022-04-18T07:36:54.004Z"
   },
   {
    "duration": 15,
    "start_time": "2022-04-18T07:36:54.023Z"
   },
   {
    "duration": 20,
    "start_time": "2022-04-18T07:36:54.040Z"
   },
   {
    "duration": 16,
    "start_time": "2022-04-18T07:36:54.062Z"
   },
   {
    "duration": 25,
    "start_time": "2022-04-18T07:36:54.079Z"
   },
   {
    "duration": 16,
    "start_time": "2022-04-18T07:36:54.106Z"
   },
   {
    "duration": 23,
    "start_time": "2022-04-18T07:36:54.124Z"
   },
   {
    "duration": 152,
    "start_time": "2022-04-18T07:36:54.149Z"
   },
   {
    "duration": 0,
    "start_time": "2022-04-18T07:36:54.303Z"
   },
   {
    "duration": 1,
    "start_time": "2022-04-18T07:36:54.304Z"
   },
   {
    "duration": 0,
    "start_time": "2022-04-18T07:36:54.306Z"
   },
   {
    "duration": 0,
    "start_time": "2022-04-18T07:36:54.307Z"
   },
   {
    "duration": 0,
    "start_time": "2022-04-18T07:36:54.308Z"
   },
   {
    "duration": 0,
    "start_time": "2022-04-18T07:36:54.309Z"
   },
   {
    "duration": 27,
    "start_time": "2022-04-18T07:37:20.586Z"
   },
   {
    "duration": 7,
    "start_time": "2022-04-18T07:39:17.126Z"
   },
   {
    "duration": 1399,
    "start_time": "2022-04-18T07:39:17.135Z"
   },
   {
    "duration": 909,
    "start_time": "2022-04-18T07:39:18.536Z"
   },
   {
    "duration": 20,
    "start_time": "2022-04-18T07:39:19.447Z"
   },
   {
    "duration": 3,
    "start_time": "2022-04-18T07:39:19.469Z"
   },
   {
    "duration": 5,
    "start_time": "2022-04-18T07:39:19.473Z"
   },
   {
    "duration": 17,
    "start_time": "2022-04-18T07:39:19.480Z"
   },
   {
    "duration": 5,
    "start_time": "2022-04-18T07:39:19.498Z"
   },
   {
    "duration": 7,
    "start_time": "2022-04-18T07:39:19.505Z"
   },
   {
    "duration": 6,
    "start_time": "2022-04-18T07:39:19.513Z"
   },
   {
    "duration": 4,
    "start_time": "2022-04-18T07:39:19.522Z"
   },
   {
    "duration": 6,
    "start_time": "2022-04-18T07:39:19.555Z"
   },
   {
    "duration": 8,
    "start_time": "2022-04-18T07:39:19.562Z"
   },
   {
    "duration": 20,
    "start_time": "2022-04-18T07:39:19.571Z"
   },
   {
    "duration": 176,
    "start_time": "2022-04-18T07:39:19.593Z"
   },
   {
    "duration": 6,
    "start_time": "2022-04-18T07:39:19.770Z"
   },
   {
    "duration": 312,
    "start_time": "2022-04-18T07:39:19.777Z"
   },
   {
    "duration": 181,
    "start_time": "2022-04-18T07:39:20.090Z"
   },
   {
    "duration": 5,
    "start_time": "2022-04-18T07:39:20.273Z"
   },
   {
    "duration": 27,
    "start_time": "2022-04-18T07:39:20.280Z"
   },
   {
    "duration": 23,
    "start_time": "2022-04-18T07:39:20.309Z"
   },
   {
    "duration": 12,
    "start_time": "2022-04-18T07:39:20.333Z"
   },
   {
    "duration": 21,
    "start_time": "2022-04-18T07:39:20.346Z"
   },
   {
    "duration": 21,
    "start_time": "2022-04-18T07:39:20.368Z"
   },
   {
    "duration": 153,
    "start_time": "2022-04-18T07:39:20.391Z"
   },
   {
    "duration": 175,
    "start_time": "2022-04-18T07:39:20.546Z"
   },
   {
    "duration": 7,
    "start_time": "2022-04-18T07:39:20.722Z"
   },
   {
    "duration": 560,
    "start_time": "2022-04-18T07:39:20.731Z"
   },
   {
    "duration": 592,
    "start_time": "2022-04-18T07:39:21.294Z"
   },
   {
    "duration": 608,
    "start_time": "2022-04-18T07:39:21.887Z"
   },
   {
    "duration": 5,
    "start_time": "2022-04-18T07:39:22.497Z"
   },
   {
    "duration": 31,
    "start_time": "2022-04-18T07:39:22.504Z"
   },
   {
    "duration": 12,
    "start_time": "2022-04-18T07:39:22.536Z"
   },
   {
    "duration": 35,
    "start_time": "2022-04-18T07:39:22.550Z"
   },
   {
    "duration": 21,
    "start_time": "2022-04-18T07:39:22.587Z"
   },
   {
    "duration": 15,
    "start_time": "2022-04-18T07:39:22.610Z"
   },
   {
    "duration": 20,
    "start_time": "2022-04-18T07:39:22.627Z"
   },
   {
    "duration": 13,
    "start_time": "2022-04-18T07:39:22.648Z"
   },
   {
    "duration": 141,
    "start_time": "2022-04-18T07:39:22.662Z"
   },
   {
    "duration": 1344,
    "start_time": "2022-04-18T07:39:55.992Z"
   },
   {
    "duration": 3134,
    "start_time": "2022-04-18T07:40:08.857Z"
   },
   {
    "duration": 7,
    "start_time": "2022-04-18T07:41:20.709Z"
   },
   {
    "duration": 1836,
    "start_time": "2022-04-18T07:41:20.719Z"
   },
   {
    "duration": 1366,
    "start_time": "2022-04-18T07:41:22.557Z"
   },
   {
    "duration": 23,
    "start_time": "2022-04-18T07:41:23.924Z"
   },
   {
    "duration": 4,
    "start_time": "2022-04-18T07:41:23.955Z"
   },
   {
    "duration": 6,
    "start_time": "2022-04-18T07:41:23.961Z"
   },
   {
    "duration": 12,
    "start_time": "2022-04-18T07:41:23.968Z"
   },
   {
    "duration": 5,
    "start_time": "2022-04-18T07:41:23.982Z"
   },
   {
    "duration": 6,
    "start_time": "2022-04-18T07:41:23.989Z"
   },
   {
    "duration": 6,
    "start_time": "2022-04-18T07:41:23.997Z"
   },
   {
    "duration": 7,
    "start_time": "2022-04-18T07:41:24.005Z"
   },
   {
    "duration": 8,
    "start_time": "2022-04-18T07:41:24.013Z"
   },
   {
    "duration": 33,
    "start_time": "2022-04-18T07:41:24.022Z"
   },
   {
    "duration": 18,
    "start_time": "2022-04-18T07:41:24.057Z"
   },
   {
    "duration": 164,
    "start_time": "2022-04-18T07:41:24.077Z"
   },
   {
    "duration": 12,
    "start_time": "2022-04-18T07:41:24.243Z"
   },
   {
    "duration": 470,
    "start_time": "2022-04-18T07:41:24.257Z"
   },
   {
    "duration": 276,
    "start_time": "2022-04-18T07:41:24.728Z"
   },
   {
    "duration": 7,
    "start_time": "2022-04-18T07:41:25.006Z"
   },
   {
    "duration": 13,
    "start_time": "2022-04-18T07:41:25.015Z"
   },
   {
    "duration": 25,
    "start_time": "2022-04-18T07:41:25.031Z"
   },
   {
    "duration": 11,
    "start_time": "2022-04-18T07:41:25.058Z"
   },
   {
    "duration": 8,
    "start_time": "2022-04-18T07:41:25.071Z"
   },
   {
    "duration": 10,
    "start_time": "2022-04-18T07:41:25.081Z"
   },
   {
    "duration": 144,
    "start_time": "2022-04-18T07:41:25.093Z"
   },
   {
    "duration": 158,
    "start_time": "2022-04-18T07:41:25.239Z"
   },
   {
    "duration": 6,
    "start_time": "2022-04-18T07:41:25.399Z"
   },
   {
    "duration": 564,
    "start_time": "2022-04-18T07:41:25.407Z"
   },
   {
    "duration": 537,
    "start_time": "2022-04-18T07:41:25.976Z"
   },
   {
    "duration": 563,
    "start_time": "2022-04-18T07:41:26.515Z"
   },
   {
    "duration": 5,
    "start_time": "2022-04-18T07:41:27.080Z"
   },
   {
    "duration": 23,
    "start_time": "2022-04-18T07:41:27.087Z"
   },
   {
    "duration": 16,
    "start_time": "2022-04-18T07:41:27.111Z"
   },
   {
    "duration": 20,
    "start_time": "2022-04-18T07:41:27.129Z"
   },
   {
    "duration": 6,
    "start_time": "2022-04-18T07:41:27.151Z"
   },
   {
    "duration": 8,
    "start_time": "2022-04-18T07:41:27.159Z"
   },
   {
    "duration": 9,
    "start_time": "2022-04-18T07:41:27.168Z"
   },
   {
    "duration": 6,
    "start_time": "2022-04-18T07:41:27.178Z"
   },
   {
    "duration": 143,
    "start_time": "2022-04-18T07:41:27.186Z"
   },
   {
    "duration": 5105,
    "start_time": "2022-04-18T07:42:11.914Z"
   },
   {
    "duration": 5,
    "start_time": "2022-04-18T07:42:17.022Z"
   },
   {
    "duration": 902,
    "start_time": "2022-04-18T07:42:17.028Z"
   },
   {
    "duration": 14,
    "start_time": "2022-04-18T07:42:17.933Z"
   },
   {
    "duration": 9,
    "start_time": "2022-04-18T07:42:17.954Z"
   },
   {
    "duration": 36,
    "start_time": "2022-04-18T07:42:17.964Z"
   },
   {
    "duration": 103,
    "start_time": "2022-04-18T07:42:18.002Z"
   },
   {
    "duration": 59,
    "start_time": "2022-04-18T07:42:18.106Z"
   },
   {
    "duration": 35,
    "start_time": "2022-04-18T07:42:18.166Z"
   },
   {
    "duration": 72,
    "start_time": "2022-04-18T07:42:18.204Z"
   },
   {
    "duration": 23,
    "start_time": "2022-04-18T07:42:18.277Z"
   },
   {
    "duration": 50,
    "start_time": "2022-04-18T07:42:18.301Z"
   },
   {
    "duration": 36,
    "start_time": "2022-04-18T07:42:18.353Z"
   },
   {
    "duration": 70,
    "start_time": "2022-04-18T07:42:18.391Z"
   },
   {
    "duration": 1836,
    "start_time": "2022-04-18T07:42:18.462Z"
   },
   {
    "duration": 31,
    "start_time": "2022-04-18T07:42:20.300Z"
   },
   {
    "duration": 253,
    "start_time": "2022-04-18T07:42:20.332Z"
   },
   {
    "duration": 173,
    "start_time": "2022-04-18T07:42:20.587Z"
   },
   {
    "duration": 32,
    "start_time": "2022-04-18T07:42:20.762Z"
   },
   {
    "duration": 78,
    "start_time": "2022-04-18T07:42:20.796Z"
   },
   {
    "duration": 22,
    "start_time": "2022-04-18T07:42:20.876Z"
   },
   {
    "duration": 31,
    "start_time": "2022-04-18T07:42:20.899Z"
   },
   {
    "duration": 27,
    "start_time": "2022-04-18T07:42:20.931Z"
   },
   {
    "duration": 8,
    "start_time": "2022-04-18T07:42:20.960Z"
   },
   {
    "duration": 2979,
    "start_time": "2022-04-18T07:42:20.970Z"
   },
   {
    "duration": 2138,
    "start_time": "2022-04-18T07:42:23.950Z"
   },
   {
    "duration": 87,
    "start_time": "2022-04-18T07:42:26.090Z"
   },
   {
    "duration": 1699,
    "start_time": "2022-04-18T07:42:26.180Z"
   },
   {
    "duration": 6357,
    "start_time": "2022-04-18T07:42:31.277Z"
   },
   {
    "duration": 1438,
    "start_time": "2022-04-18T07:42:37.636Z"
   },
   {
    "duration": 1079,
    "start_time": "2022-04-18T07:42:39.076Z"
   },
   {
    "duration": 17,
    "start_time": "2022-04-18T07:42:40.157Z"
   },
   {
    "duration": 5,
    "start_time": "2022-04-18T07:42:40.176Z"
   },
   {
    "duration": 8,
    "start_time": "2022-04-18T07:42:40.182Z"
   },
   {
    "duration": 102,
    "start_time": "2022-04-18T07:42:40.192Z"
   },
   {
    "duration": 61,
    "start_time": "2022-04-18T07:42:40.295Z"
   },
   {
    "duration": 38,
    "start_time": "2022-04-18T07:42:40.357Z"
   },
   {
    "duration": 77,
    "start_time": "2022-04-18T07:42:40.398Z"
   },
   {
    "duration": 23,
    "start_time": "2022-04-18T07:42:40.477Z"
   },
   {
    "duration": 41,
    "start_time": "2022-04-18T07:42:40.502Z"
   },
   {
    "duration": 35,
    "start_time": "2022-04-18T07:42:40.555Z"
   },
   {
    "duration": 76,
    "start_time": "2022-04-18T07:42:40.592Z"
   },
   {
    "duration": 1824,
    "start_time": "2022-04-18T07:42:40.669Z"
   },
   {
    "duration": 32,
    "start_time": "2022-04-18T07:42:42.495Z"
   },
   {
    "duration": 258,
    "start_time": "2022-04-18T07:42:42.529Z"
   },
   {
    "duration": 174,
    "start_time": "2022-04-18T07:42:42.789Z"
   },
   {
    "duration": 32,
    "start_time": "2022-04-18T07:42:42.965Z"
   },
   {
    "duration": 93,
    "start_time": "2022-04-18T07:42:42.998Z"
   },
   {
    "duration": 24,
    "start_time": "2022-04-18T07:42:43.092Z"
   },
   {
    "duration": 44,
    "start_time": "2022-04-18T07:42:43.118Z"
   },
   {
    "duration": 9,
    "start_time": "2022-04-18T07:42:43.164Z"
   },
   {
    "duration": 7,
    "start_time": "2022-04-18T07:42:43.175Z"
   },
   {
    "duration": 2820,
    "start_time": "2022-04-18T07:42:43.184Z"
   },
   {
    "duration": 2126,
    "start_time": "2022-04-18T07:42:46.006Z"
   },
   {
    "duration": 88,
    "start_time": "2022-04-18T07:42:48.134Z"
   },
   {
    "duration": 1551,
    "start_time": "2022-04-18T07:42:48.225Z"
   },
   {
    "duration": 1615,
    "start_time": "2022-04-18T07:42:49.777Z"
   },
   {
    "duration": 1696,
    "start_time": "2022-04-18T07:42:51.394Z"
   },
   {
    "duration": 24,
    "start_time": "2022-04-18T07:42:53.091Z"
   },
   {
    "duration": 71,
    "start_time": "2022-04-18T07:42:53.116Z"
   },
   {
    "duration": 17,
    "start_time": "2022-04-18T07:42:53.188Z"
   },
   {
    "duration": 165,
    "start_time": "2022-04-18T07:42:53.207Z"
   },
   {
    "duration": 15,
    "start_time": "2022-04-18T07:42:53.373Z"
   },
   {
    "duration": 87,
    "start_time": "2022-04-18T07:42:53.390Z"
   },
   {
    "duration": 101,
    "start_time": "2022-04-18T07:42:53.479Z"
   },
   {
    "duration": 31,
    "start_time": "2022-04-18T07:42:53.582Z"
   },
   {
    "duration": 7336632,
    "start_time": "2022-04-18T07:42:53.614Z"
   },
   {
    "duration": 302479,
    "start_time": "2022-04-18T09:45:10.248Z"
   },
   {
    "duration": 10,
    "start_time": "2022-04-18T09:50:12.729Z"
   },
   {
    "duration": 20,
    "start_time": "2022-04-18T09:50:12.741Z"
   },
   {
    "duration": 7,
    "start_time": "2022-04-18T09:50:12.763Z"
   },
   {
    "duration": 1830470,
    "start_time": "2022-04-18T09:50:12.771Z"
   },
   {
    "duration": 12,
    "start_time": "2022-04-18T10:20:43.243Z"
   },
   {
    "duration": 185909,
    "start_time": "2022-04-21T07:25:34.060Z"
   },
   {
    "duration": 1278,
    "start_time": "2022-04-21T07:29:00.314Z"
   },
   {
    "duration": 120239,
    "start_time": "2022-04-21T07:29:10.281Z"
   },
   {
    "duration": 1461,
    "start_time": "2022-04-21T07:31:38.745Z"
   },
   {
    "duration": 12,
    "start_time": "2022-04-21T07:32:13.123Z"
   },
   {
    "duration": 1387,
    "start_time": "2022-04-21T07:32:13.137Z"
   },
   {
    "duration": 1028,
    "start_time": "2022-04-21T07:32:14.527Z"
   },
   {
    "duration": 20,
    "start_time": "2022-04-21T07:32:15.557Z"
   },
   {
    "duration": 3,
    "start_time": "2022-04-21T07:32:15.580Z"
   },
   {
    "duration": 4,
    "start_time": "2022-04-21T07:32:15.585Z"
   },
   {
    "duration": 101,
    "start_time": "2022-04-21T07:32:15.608Z"
   },
   {
    "duration": 59,
    "start_time": "2022-04-21T07:32:15.711Z"
   },
   {
    "duration": 70,
    "start_time": "2022-04-21T07:32:15.772Z"
   },
   {
    "duration": 78,
    "start_time": "2022-04-21T07:32:15.844Z"
   },
   {
    "duration": 46,
    "start_time": "2022-04-21T07:32:15.926Z"
   },
   {
    "duration": 54,
    "start_time": "2022-04-21T07:32:15.974Z"
   },
   {
    "duration": 42,
    "start_time": "2022-04-21T07:32:16.030Z"
   },
   {
    "duration": 87,
    "start_time": "2022-04-21T07:32:16.074Z"
   },
   {
    "duration": 2266,
    "start_time": "2022-04-21T07:32:16.163Z"
   },
   {
    "duration": 37,
    "start_time": "2022-04-21T07:32:18.431Z"
   },
   {
    "duration": 320,
    "start_time": "2022-04-21T07:32:18.470Z"
   },
   {
    "duration": 213,
    "start_time": "2022-04-21T07:32:18.791Z"
   },
   {
    "duration": 36,
    "start_time": "2022-04-21T07:32:19.007Z"
   },
   {
    "duration": 105,
    "start_time": "2022-04-21T07:32:19.045Z"
   },
   {
    "duration": 25,
    "start_time": "2022-04-21T07:32:19.152Z"
   },
   {
    "duration": 47,
    "start_time": "2022-04-21T07:32:19.179Z"
   },
   {
    "duration": 16,
    "start_time": "2022-04-21T07:32:19.228Z"
   },
   {
    "duration": 9,
    "start_time": "2022-04-21T07:32:19.245Z"
   },
   {
    "duration": 3361,
    "start_time": "2022-04-21T07:32:19.255Z"
   },
   {
    "duration": 2456,
    "start_time": "2022-04-21T07:32:22.617Z"
   },
   {
    "duration": 94,
    "start_time": "2022-04-21T07:32:25.075Z"
   },
   {
    "duration": 1553,
    "start_time": "2022-04-21T07:32:25.170Z"
   },
   {
    "duration": 1586,
    "start_time": "2022-04-21T07:32:26.726Z"
   },
   {
    "duration": 1645,
    "start_time": "2022-04-21T07:32:28.314Z"
   },
   {
    "duration": 24,
    "start_time": "2022-04-21T07:32:29.960Z"
   },
   {
    "duration": 73,
    "start_time": "2022-04-21T07:32:29.986Z"
   },
   {
    "duration": 15,
    "start_time": "2022-04-21T07:32:30.061Z"
   },
   {
    "duration": 168,
    "start_time": "2022-04-21T07:32:30.078Z"
   },
   {
    "duration": 14,
    "start_time": "2022-04-21T07:32:30.248Z"
   },
   {
    "duration": 85,
    "start_time": "2022-04-21T07:32:30.264Z"
   },
   {
    "duration": 98,
    "start_time": "2022-04-21T07:32:30.351Z"
   },
   {
    "duration": 28,
    "start_time": "2022-04-21T07:32:30.450Z"
   },
   {
    "duration": 5222948,
    "start_time": "2022-04-21T07:32:30.480Z"
   },
   {
    "duration": 0,
    "start_time": "2022-04-21T08:59:33.430Z"
   },
   {
    "duration": 0,
    "start_time": "2022-04-21T08:59:33.432Z"
   },
   {
    "duration": 0,
    "start_time": "2022-04-21T08:59:33.433Z"
   },
   {
    "duration": 7,
    "start_time": "2022-04-21T08:59:48.679Z"
   },
   {
    "duration": 1352,
    "start_time": "2022-04-21T08:59:48.690Z"
   },
   {
    "duration": 937,
    "start_time": "2022-04-21T08:59:50.043Z"
   },
   {
    "duration": 16,
    "start_time": "2022-04-21T08:59:50.982Z"
   },
   {
    "duration": 4,
    "start_time": "2022-04-21T08:59:51.006Z"
   },
   {
    "duration": 5,
    "start_time": "2022-04-21T08:59:51.011Z"
   },
   {
    "duration": 97,
    "start_time": "2022-04-21T08:59:51.017Z"
   },
   {
    "duration": 54,
    "start_time": "2022-04-21T08:59:51.115Z"
   },
   {
    "duration": 49,
    "start_time": "2022-04-21T08:59:51.171Z"
   },
   {
    "duration": 60,
    "start_time": "2022-04-21T08:59:51.222Z"
   },
   {
    "duration": 36,
    "start_time": "2022-04-21T08:59:51.284Z"
   },
   {
    "duration": 39,
    "start_time": "2022-04-21T08:59:51.321Z"
   },
   {
    "duration": 37,
    "start_time": "2022-04-21T08:59:51.362Z"
   },
   {
    "duration": 65,
    "start_time": "2022-04-21T08:59:51.407Z"
   },
   {
    "duration": 2023,
    "start_time": "2022-04-21T08:59:51.473Z"
   },
   {
    "duration": 32,
    "start_time": "2022-04-21T08:59:53.498Z"
   },
   {
    "duration": 286,
    "start_time": "2022-04-21T08:59:53.532Z"
   },
   {
    "duration": 192,
    "start_time": "2022-04-21T08:59:53.820Z"
   },
   {
    "duration": 33,
    "start_time": "2022-04-21T08:59:54.014Z"
   },
   {
    "duration": 92,
    "start_time": "2022-04-21T08:59:54.049Z"
   },
   {
    "duration": 24,
    "start_time": "2022-04-21T08:59:54.144Z"
   },
   {
    "duration": 51,
    "start_time": "2022-04-21T08:59:54.170Z"
   },
   {
    "duration": 8,
    "start_time": "2022-04-21T08:59:54.223Z"
   },
   {
    "duration": 17,
    "start_time": "2022-04-21T08:59:54.233Z"
   },
   {
    "duration": 3113,
    "start_time": "2022-04-21T08:59:54.252Z"
   },
   {
    "duration": 2503,
    "start_time": "2022-04-21T08:59:57.367Z"
   },
   {
    "duration": 94,
    "start_time": "2022-04-21T08:59:59.871Z"
   },
   {
    "duration": 1575,
    "start_time": "2022-04-21T08:59:59.967Z"
   },
   {
    "duration": 1583,
    "start_time": "2022-04-21T09:00:01.546Z"
   },
   {
    "duration": 1733,
    "start_time": "2022-04-21T09:00:03.131Z"
   },
   {
    "duration": 25,
    "start_time": "2022-04-21T09:00:04.866Z"
   },
   {
    "duration": 76,
    "start_time": "2022-04-21T09:00:04.893Z"
   },
   {
    "duration": 15,
    "start_time": "2022-04-21T09:00:04.971Z"
   },
   {
    "duration": 191,
    "start_time": "2022-04-21T09:00:04.988Z"
   },
   {
    "duration": 16,
    "start_time": "2022-04-21T09:00:05.181Z"
   },
   {
    "duration": 82,
    "start_time": "2022-04-21T09:00:05.199Z"
   },
   {
    "duration": 108,
    "start_time": "2022-04-21T09:00:05.283Z"
   },
   {
    "duration": 39,
    "start_time": "2022-04-21T09:00:05.393Z"
   },
   {
    "duration": 5,
    "start_time": "2022-04-21T11:21:35.785Z"
   },
   {
    "duration": 1560,
    "start_time": "2022-04-22T05:00:26.408Z"
   },
   {
    "duration": 231551,
    "start_time": "2022-04-22T05:00:32.517Z"
   },
   {
    "duration": 437,
    "start_time": "2022-04-22T05:04:30.373Z"
   },
   {
    "duration": 124712,
    "start_time": "2022-04-22T05:04:40.301Z"
   },
   {
    "duration": 1726,
    "start_time": "2022-04-22T05:07:29.589Z"
   },
   {
    "duration": 23276,
    "start_time": "2022-04-22T05:07:38.484Z"
   },
   {
    "duration": 103,
    "start_time": "2022-04-22T05:08:01.762Z"
   },
   {
    "duration": 7637,
    "start_time": "2022-04-22T05:08:23.473Z"
   },
   {
    "duration": 1410,
    "start_time": "2022-04-22T05:08:41.947Z"
   },
   {
    "duration": 8,
    "start_time": "2022-04-22T05:09:02.480Z"
   },
   {
    "duration": 1359,
    "start_time": "2022-04-22T05:09:02.490Z"
   },
   {
    "duration": 1034,
    "start_time": "2022-04-22T05:09:03.851Z"
   },
   {
    "duration": 19,
    "start_time": "2022-04-22T05:09:04.887Z"
   },
   {
    "duration": 3,
    "start_time": "2022-04-22T05:09:04.908Z"
   },
   {
    "duration": 20,
    "start_time": "2022-04-22T05:09:04.913Z"
   },
   {
    "duration": 104,
    "start_time": "2022-04-22T05:09:04.935Z"
   },
   {
    "duration": 63,
    "start_time": "2022-04-22T05:09:05.040Z"
   },
   {
    "duration": 58,
    "start_time": "2022-04-22T05:09:05.104Z"
   },
   {
    "duration": 73,
    "start_time": "2022-04-22T05:09:05.164Z"
   },
   {
    "duration": 25,
    "start_time": "2022-04-22T05:09:05.239Z"
   },
   {
    "duration": 41,
    "start_time": "2022-04-22T05:09:05.265Z"
   },
   {
    "duration": 52,
    "start_time": "2022-04-22T05:09:05.308Z"
   },
   {
    "duration": 81,
    "start_time": "2022-04-22T05:09:05.362Z"
   },
   {
    "duration": 2214,
    "start_time": "2022-04-22T05:09:05.444Z"
   },
   {
    "duration": 34,
    "start_time": "2022-04-22T05:09:07.660Z"
   },
   {
    "duration": 321,
    "start_time": "2022-04-22T05:09:07.696Z"
   },
   {
    "duration": 217,
    "start_time": "2022-04-22T05:09:08.019Z"
   },
   {
    "duration": 36,
    "start_time": "2022-04-22T05:09:08.238Z"
   },
   {
    "duration": 105,
    "start_time": "2022-04-22T05:09:08.275Z"
   },
   {
    "duration": 25,
    "start_time": "2022-04-22T05:09:08.382Z"
   },
   {
    "duration": 47,
    "start_time": "2022-04-22T05:09:08.409Z"
   },
   {
    "duration": 88,
    "start_time": "2022-04-22T05:09:08.460Z"
   },
   {
    "duration": 9,
    "start_time": "2022-04-22T05:09:08.549Z"
   },
   {
    "duration": 3525,
    "start_time": "2022-04-22T05:09:08.560Z"
   },
   {
    "duration": 2598,
    "start_time": "2022-04-22T05:09:12.087Z"
   },
   {
    "duration": 103,
    "start_time": "2022-04-22T05:09:14.687Z"
   },
   {
    "duration": 1691,
    "start_time": "2022-04-22T05:09:14.792Z"
   },
   {
    "duration": 1689,
    "start_time": "2022-04-22T05:09:16.487Z"
   },
   {
    "duration": 1808,
    "start_time": "2022-04-22T05:09:18.178Z"
   },
   {
    "duration": 26,
    "start_time": "2022-04-22T05:09:19.988Z"
   },
   {
    "duration": 79,
    "start_time": "2022-04-22T05:09:20.016Z"
   },
   {
    "duration": 17,
    "start_time": "2022-04-22T05:09:20.097Z"
   },
   {
    "duration": 188,
    "start_time": "2022-04-22T05:09:20.116Z"
   },
   {
    "duration": 16,
    "start_time": "2022-04-22T05:09:20.306Z"
   },
   {
    "duration": 84,
    "start_time": "2022-04-22T05:09:20.324Z"
   },
   {
    "duration": 118,
    "start_time": "2022-04-22T05:09:20.410Z"
   },
   {
    "duration": 35,
    "start_time": "2022-04-22T05:09:20.532Z"
   },
   {
    "duration": 13254890,
    "start_time": "2022-04-22T05:09:20.569Z"
   },
   {
    "duration": 905952,
    "start_time": "2022-04-22T08:50:15.461Z"
   },
   {
    "duration": 12,
    "start_time": "2022-04-22T09:05:21.415Z"
   },
   {
    "duration": 24,
    "start_time": "2022-04-22T09:05:21.434Z"
   },
   {
    "duration": 12,
    "start_time": "2022-04-22T09:08:34.396Z"
   },
   {
    "duration": 9123750,
    "start_time": "2022-04-22T09:08:35.301Z"
   },
   {
    "duration": 0,
    "start_time": "2022-04-22T11:40:39.058Z"
   },
   {
    "duration": 23160,
    "start_time": "2022-04-26T04:52:49.899Z"
   },
   {
    "duration": 2510,
    "start_time": "2022-04-26T04:53:13.063Z"
   },
   {
    "duration": 10452,
    "start_time": "2022-04-26T04:53:28.716Z"
   },
   {
    "duration": 2174,
    "start_time": "2022-04-26T04:53:39.171Z"
   },
   {
    "duration": 12,
    "start_time": "2022-04-26T04:54:28.448Z"
   },
   {
    "duration": 2763,
    "start_time": "2022-04-26T04:54:28.463Z"
   },
   {
    "duration": 2230,
    "start_time": "2022-04-26T04:54:31.229Z"
   },
   {
    "duration": 38,
    "start_time": "2022-04-26T04:54:33.463Z"
   },
   {
    "duration": 21,
    "start_time": "2022-04-26T04:54:33.504Z"
   },
   {
    "duration": 8,
    "start_time": "2022-04-26T04:54:33.528Z"
   },
   {
    "duration": 220,
    "start_time": "2022-04-26T04:54:33.539Z"
   },
   {
    "duration": 103,
    "start_time": "2022-04-26T04:54:33.762Z"
   },
   {
    "duration": 80,
    "start_time": "2022-04-26T04:54:33.871Z"
   },
   {
    "duration": 120,
    "start_time": "2022-04-26T04:54:33.954Z"
   },
   {
    "duration": 69,
    "start_time": "2022-04-26T04:54:34.077Z"
   },
   {
    "duration": 99,
    "start_time": "2022-04-26T04:54:34.149Z"
   },
   {
    "duration": 89,
    "start_time": "2022-04-26T04:54:34.251Z"
   },
   {
    "duration": 115,
    "start_time": "2022-04-26T04:54:34.343Z"
   },
   {
    "duration": 3100,
    "start_time": "2022-04-26T04:54:34.460Z"
   },
   {
    "duration": 43,
    "start_time": "2022-04-26T04:54:37.562Z"
   },
   {
    "duration": 502,
    "start_time": "2022-04-26T04:54:37.607Z"
   },
   {
    "duration": 312,
    "start_time": "2022-04-26T04:54:38.112Z"
   },
   {
    "duration": 47,
    "start_time": "2022-04-26T04:54:38.426Z"
   },
   {
    "duration": 145,
    "start_time": "2022-04-26T04:54:38.476Z"
   },
   {
    "duration": 37,
    "start_time": "2022-04-26T04:54:38.625Z"
   },
   {
    "duration": 63,
    "start_time": "2022-04-26T04:54:38.664Z"
   },
   {
    "duration": 12,
    "start_time": "2022-04-26T04:54:38.729Z"
   },
   {
    "duration": 13,
    "start_time": "2022-04-26T04:54:38.748Z"
   },
   {
    "duration": 5081,
    "start_time": "2022-04-26T04:54:38.763Z"
   },
   {
    "duration": 3881,
    "start_time": "2022-04-26T04:54:43.847Z"
   },
   {
    "duration": 147,
    "start_time": "2022-04-26T04:54:47.730Z"
   },
   {
    "duration": 2749,
    "start_time": "2022-04-26T04:54:47.879Z"
   },
   {
    "duration": 2690,
    "start_time": "2022-04-26T04:54:50.630Z"
   },
   {
    "duration": 2846,
    "start_time": "2022-04-26T04:54:53.325Z"
   },
   {
    "duration": 52,
    "start_time": "2022-04-26T04:54:56.174Z"
   },
   {
    "duration": 76,
    "start_time": "2022-04-26T04:54:56.228Z"
   },
   {
    "duration": 36,
    "start_time": "2022-04-26T04:54:56.307Z"
   },
   {
    "duration": 264,
    "start_time": "2022-04-26T04:54:56.345Z"
   },
   {
    "duration": 25,
    "start_time": "2022-04-26T04:54:56.611Z"
   },
   {
    "duration": 123,
    "start_time": "2022-04-26T04:54:56.638Z"
   },
   {
    "duration": 174,
    "start_time": "2022-04-26T04:54:56.763Z"
   },
   {
    "duration": 42,
    "start_time": "2022-04-26T04:54:56.939Z"
   },
   {
    "duration": 10632091,
    "start_time": "2022-04-26T04:54:56.983Z"
   },
   {
    "duration": 451734,
    "start_time": "2022-04-26T07:52:09.077Z"
   },
   {
    "duration": 32,
    "start_time": "2022-04-26T07:59:40.815Z"
   },
   {
    "duration": 30,
    "start_time": "2022-04-26T07:59:40.850Z"
   },
   {
    "duration": 16,
    "start_time": "2022-04-26T07:59:40.883Z"
   },
   {
    "duration": 2720963,
    "start_time": "2022-04-26T07:59:40.925Z"
   },
   {
    "duration": 11,
    "start_time": "2022-04-26T08:45:01.890Z"
   }
  ],
  "kernelspec": {
   "display_name": "Python 3 (ipykernel)",
   "language": "python",
   "name": "python3"
  },
  "language_info": {
   "codemirror_mode": {
    "name": "ipython",
    "version": 3
   },
   "file_extension": ".py",
   "mimetype": "text/x-python",
   "name": "python",
   "nbconvert_exporter": "python",
   "pygments_lexer": "ipython3",
   "version": "3.9.5"
  },
  "toc": {
   "base_numbering": 1,
   "nav_menu": {},
   "number_sections": true,
   "sideBar": true,
   "skip_h1_title": true,
   "title_cell": "Table of Contents",
   "title_sidebar": "Contents",
   "toc_cell": false,
   "toc_position": {},
   "toc_section_display": true,
   "toc_window_display": false
  }
 },
 "nbformat": 4,
 "nbformat_minor": 2
}
