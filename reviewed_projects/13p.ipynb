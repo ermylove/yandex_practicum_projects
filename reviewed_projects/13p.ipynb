{
 "cells": [
  {
   "cell_type": "markdown",
   "metadata": {},
   "source": [
    "Привет, меня зовут .... Сегодня я проверю твой проект.\n",
    "<br> Дальнейшее общение будет происходить на \"ты\" если это не вызывает никаких проблем.\n",
    "<br> Желательно реагировать на каждый мой комментарий ('исправил', 'не понятно как исправить ошибку', ...)\n",
    "<br> Пожалуйста, не удаляй комментарии ревьюера, так как они повышают качество повторного ревью.\n",
    "\n",
    "Комментарии будут в <font color='green'>зеленой</font>, <font color='blue'>синей</font> или <font color='red'>красной</font> рамках:\n",
    "\n",
    "<div class=\"alert alert-block alert-success\">\n",
    "<b>Успех:</b> Если все сделано отлично\n",
    "</div>\n",
    "\n",
    "<div class=\"alert alert-block alert-info\">\n",
    "<b>Совет: </b> Если можно немного улучшить\n",
    "</div>\n",
    "\n",
    "<div class=\"alert alert-block alert-danger\">\n",
    "<b>Ошибка:</b> Если требуются исправления. Работа не может быть принята с красными комментариями.\n",
    "</div>\n",
    "\n",
    "-------------------\n",
    "\n",
    "Будет очень хорошо, если ты будешь помечать свои действия следующим образом:\n",
    "<div class=\"alert alert-block alert-warning\">\n",
    "<b>Комментарий студента:</b> ...\n",
    "</div>\n",
    "\n",
    "<div class=\"alert alert-block alert-warning\">\n",
    "<b>Изменения:</b> Были внесены следующие изменения ...\n",
    "</div>\n",
    "\n",
    "<font color='green'><b>Полезные (и просто интересные) материалы:</b></font> \\\n",
    "Для работы с текстами используют и другие подходы. Например, сейчас активно используются RNN (LSTM) и трансформеры (BERT и другие с улицы Сезам, например, ELMO). НО! Они не являются панацеей, не всегда они нужны, так как и TF-IDF или Word2Vec + модели из классического ML тоже могут справляться. \\\n",
    "BERT тяжелый, существует много его вариаций для разных задач, есть готовые модели, есть надстройки над библиотекой transformers. Если, обучать BERT на GPU (можно в Google Colab или Kaggle), то должно быть побыстрее.\\\n",
    "https://huggingface.co/transformers/model_doc/bert.html \\\n",
    "https://t.me/renat_alimbekov \\\n",
    "https://colah.github.io/posts/2015-08-Understanding-LSTMs/ - Про LSTM \\\n",
    "https://web.stanford.edu/~jurafsky/slp3/10.pdf - про энкодер-декодер модели, этеншены\\\n",
    "https://pytorch.org/tutorials/beginner/transformer_tutorial.html - официальный гайд\n",
    "по трансформеру от создателей pytorch\\\n",
    "https://transformer.huggingface.co/ - поболтать с трансформером \\\n",
    "Библиотеки: allennlp, fairseq, transformers, tensorflow-text — множествореализованных\n",
    "методов для трансформеров методов NLP \\\n",
    "Word2Vec https://radimrehurek.com/gensim/models/word2vec.html \n",
    "\n",
    "<font color='green'>Пример BERT с GPU:\n",
    "```python\n",
    "%%time\n",
    "from tqdm import notebook\n",
    "batch_size = 2 # для примера возьмем такой батч, где будет всего две строки датасета\n",
    "embeddings = [] \n",
    "for i in notebook.tqdm(range(input_ids.shape[0] // batch_size)):\n",
    "        batch = torch.LongTensor(input_ids[batch_size*i:batch_size*(i+1)]).cuda() # закидываем тензор на GPU\n",
    "        attention_mask_batch = torch.LongTensor(attention_mask[batch_size*i:batch_size*(i+1)]).cuda()\n",
    "        \n",
    "        with torch.no_grad():\n",
    "            model.cuda()\n",
    "            batch_embeddings = model(batch, attention_mask=attention_mask_batch)\n",
    "        \n",
    "        embeddings.append(batch_embeddings[0][:,0,:].cpu().numpy()) # перевод обратно на проц, чтобы в нумпай кинуть\n",
    "        del batch\n",
    "        del attention_mask_batch\n",
    "        del batch_embeddings\n",
    "        \n",
    "features = np.concatenate(embeddings) \n",
    "```\n",
    "Можно сделать предварительную проверку на наличие GPU.\\\n",
    "Например, так: ```device = torch.device(\"cuda:0\") if torch.cuda.is_available() else torch.device(\"cpu\")```\\\n",
    "Тогда вместо .cuda() нужно писать .to(device)\n",
    "\n",
    "Если понравилась работа с текстами, то можешь посмотреть очень интересный (но очень-очень сложный) курс лекций: https://github.com/yandexdataschool/nlp_course .\n",
    "</font>\n",
    "\n",
    "### <font color='orange'>Общее впечатление</font>\n",
    "* Большое спасибо за проделанную работу. Видно, что приложено много усилий.\n",
    "* Радует, что ноутбук хорошо структурирован. Приятно проверять такие работы.\n",
    "* Работа получилась отличной, тебе удалось добиться достаточно хорошего качества. Поздравляю!\n",
    "* Проект может быть зачтен, но я его отправлю назад, чтобы у тебя была возможность задать вопросы и внести правки, при желании. Однако, ты можешь просто вернуть проект в таком же виде и я его зачту."
   ]
  },
  {
   "cell_type": "markdown",
   "metadata": {},
   "source": [
    "<div class=\"alert alert-block alert-warning\">\n",
    "<b>Комментарий студента:</b> Спасибо за материалы\n",
    "</div>"
   ]
  },
  {
   "cell_type": "markdown",
   "metadata": {},
   "source": [
    "\n",
    "### <font color='orange'>Общее впечатление (ревью 2)</font>\n",
    "* Проект зачтен!\n",
    "* Удачи в дальнейшем обучении и следующих работах!"
   ]
  },
  {
   "cell_type": "markdown",
   "metadata": {
    "toc": true
   },
   "source": [
    "<h1>Содержание<span class=\"tocSkip\"></span></h1>\n",
    "<div class=\"toc\"><ul class=\"toc-item\"><li><ul class=\"toc-item\"><li><span><a href=\"#Общее-впечатление\" data-toc-modified-id=\"Общее-впечатление-0.1\"><span class=\"toc-item-num\">0.1&nbsp;&nbsp;</span><font color=\"orange\">Общее впечатление</font></a></span></li><li><span><a href=\"#Общее-впечатление-(ревью-2)\" data-toc-modified-id=\"Общее-впечатление-(ревью-2)-0.2\"><span class=\"toc-item-num\">0.2&nbsp;&nbsp;</span><font color=\"orange\">Общее впечатление (ревью 2)</font></a></span></li></ul></li><li><span><a href=\"#Подготовка\" data-toc-modified-id=\"Подготовка-1\"><span class=\"toc-item-num\">1&nbsp;&nbsp;</span>Подготовка</a></span></li><li><span><a href=\"#Обучение\" data-toc-modified-id=\"Обучение-2\"><span class=\"toc-item-num\">2&nbsp;&nbsp;</span>Обучение</a></span></li><li><span><a href=\"#Вывод\" data-toc-modified-id=\"Вывод-3\"><span class=\"toc-item-num\">3&nbsp;&nbsp;</span>Вывод</a></span></li></ul></div>"
   ]
  },
  {
   "cell_type": "markdown",
   "metadata": {},
   "source": [
    "# Проект для «Викишоп»"
   ]
  },
  {
   "cell_type": "markdown",
   "metadata": {},
   "source": [
    "Интернет-магазину «Викишоп» нужен инструмент, который будет искать токсичные комментарии в описанияя товаров отправлять их на модерацию. \n",
    "В распоряжении набор размеченных данных.\n",
    "\n",
    "Необходимо:\n",
    "1. Обучить модель классифицирующую комментарии на позитивные и негативные. \n",
    "2. Построить модель со значением метрики качества *F1* не меньше 0.75. \n"
   ]
  },
  {
   "cell_type": "markdown",
   "metadata": {},
   "source": [
    "## Подготовка"
   ]
  },
  {
   "cell_type": "code",
   "execution_count": 1,
   "metadata": {},
   "outputs": [],
   "source": [
    "import pandas as pd\n",
    "from catboost import CatBoostClassifier\n",
    "from sklearn.model_selection import train_test_split, cross_val_score\n",
    "from sklearn.metrics import f1_score, precision_recall_curve\n",
    "\n",
    "import re\n",
    "import string"
   ]
  },
  {
   "cell_type": "markdown",
   "metadata": {},
   "source": [
    "<div class=\"alert alert-block alert-success\">\n",
    "<b>Успех:</b> Отлично, что все импорты собраны в первой ячейке ноутбука! Если у того, кто будет запускать твой ноутбук будут отсутствовать некоторые библиотеки, то он это увидит сразу, а не в процессе!\n",
    "</div>"
   ]
  },
  {
   "cell_type": "code",
   "execution_count": 2,
   "metadata": {
    "scrolled": true
   },
   "outputs": [
    {
     "data": {
      "text/html": [
       "<div>\n",
       "<style scoped>\n",
       "    .dataframe tbody tr th:only-of-type {\n",
       "        vertical-align: middle;\n",
       "    }\n",
       "\n",
       "    .dataframe tbody tr th {\n",
       "        vertical-align: top;\n",
       "    }\n",
       "\n",
       "    .dataframe thead th {\n",
       "        text-align: right;\n",
       "    }\n",
       "</style>\n",
       "<table border=\"1\" class=\"dataframe\">\n",
       "  <thead>\n",
       "    <tr style=\"text-align: right;\">\n",
       "      <th></th>\n",
       "      <th>text</th>\n",
       "      <th>toxic</th>\n",
       "    </tr>\n",
       "  </thead>\n",
       "  <tbody>\n",
       "    <tr>\n",
       "      <th>0</th>\n",
       "      <td>Explanation\\nWhy the edits made under my usern...</td>\n",
       "      <td>0</td>\n",
       "    </tr>\n",
       "    <tr>\n",
       "      <th>1</th>\n",
       "      <td>D'aww! He matches this background colour I'm s...</td>\n",
       "      <td>0</td>\n",
       "    </tr>\n",
       "    <tr>\n",
       "      <th>2</th>\n",
       "      <td>Hey man, I'm really not trying to edit war. It...</td>\n",
       "      <td>0</td>\n",
       "    </tr>\n",
       "    <tr>\n",
       "      <th>3</th>\n",
       "      <td>\"\\nMore\\nI can't make any real suggestions on ...</td>\n",
       "      <td>0</td>\n",
       "    </tr>\n",
       "    <tr>\n",
       "      <th>4</th>\n",
       "      <td>You, sir, are my hero. Any chance you remember...</td>\n",
       "      <td>0</td>\n",
       "    </tr>\n",
       "  </tbody>\n",
       "</table>\n",
       "</div>"
      ],
      "text/plain": [
       "                                                text  toxic\n",
       "0  Explanation\\nWhy the edits made under my usern...      0\n",
       "1  D'aww! He matches this background colour I'm s...      0\n",
       "2  Hey man, I'm really not trying to edit war. It...      0\n",
       "3  \"\\nMore\\nI can't make any real suggestions on ...      0\n",
       "4  You, sir, are my hero. Any chance you remember...      0"
      ]
     },
     "execution_count": 2,
     "metadata": {},
     "output_type": "execute_result"
    }
   ],
   "source": [
    "df = pd.read_csv('/datasets/toxic_comments.csv')\n",
    "df.head()"
   ]
  },
  {
   "cell_type": "markdown",
   "metadata": {},
   "source": [
    "Столбец *text* в нём содержит текст комментария, а *toxic* — целевой признак."
   ]
  },
  {
   "cell_type": "code",
   "execution_count": 3,
   "metadata": {},
   "outputs": [
    {
     "data": {
      "text/plain": [
       "0    0.898321\n",
       "1    0.101679\n",
       "Name: toxic, dtype: float64"
      ]
     },
     "execution_count": 3,
     "metadata": {},
     "output_type": "execute_result"
    }
   ],
   "source": [
    "df.toxic.value_counts(normalize=True)"
   ]
  },
  {
   "cell_type": "markdown",
   "metadata": {},
   "source": [
    "Токсичных коментариев в выборке около 10%"
   ]
  },
  {
   "cell_type": "markdown",
   "metadata": {},
   "source": [
    "<div class=\"alert alert-block alert-success\">\n",
    "<b>Успех:</b> Данные загружены корректно. Радует, что абаланс классов был изучен!\n",
    "</div>"
   ]
  },
  {
   "cell_type": "markdown",
   "metadata": {},
   "source": [
    "Необходимо очистить данные от символов, цифр, ссылок и т.п. А также привести слова в строчный шрифт."
   ]
  },
  {
   "cell_type": "code",
   "execution_count": 4,
   "metadata": {},
   "outputs": [],
   "source": [
    "def text_cleaning(text):\n",
    "    text = text.lower()\n",
    "    text = re.sub('\\[.*?\\]', '', text)\n",
    "    text = re.sub(\"\\'\", '', text)\n",
    "    text = re.sub('\\\\W',' ',text)\n",
    "    text = re.sub('https?://\\S+|www\\.\\S+', '', text)\n",
    "    text = re.sub('<.*?>+', '', text)\n",
    "    text = re.sub('[%s]' % re.escape(string.punctuation), '', text)\n",
    "    text = re.sub('\\n', '', text)\n",
    "    text = re.sub('\\w*\\d\\w*', '', text)\n",
    "    \n",
    "    return text"
   ]
  },
  {
   "cell_type": "code",
   "execution_count": 5,
   "metadata": {},
   "outputs": [
    {
     "data": {
      "text/html": [
       "<div>\n",
       "<style scoped>\n",
       "    .dataframe tbody tr th:only-of-type {\n",
       "        vertical-align: middle;\n",
       "    }\n",
       "\n",
       "    .dataframe tbody tr th {\n",
       "        vertical-align: top;\n",
       "    }\n",
       "\n",
       "    .dataframe thead th {\n",
       "        text-align: right;\n",
       "    }\n",
       "</style>\n",
       "<table border=\"1\" class=\"dataframe\">\n",
       "  <thead>\n",
       "    <tr style=\"text-align: right;\">\n",
       "      <th></th>\n",
       "      <th>text</th>\n",
       "      <th>toxic</th>\n",
       "    </tr>\n",
       "  </thead>\n",
       "  <tbody>\n",
       "    <tr>\n",
       "      <th>0</th>\n",
       "      <td>explanation why the edits made under my userna...</td>\n",
       "      <td>0</td>\n",
       "    </tr>\n",
       "    <tr>\n",
       "      <th>1</th>\n",
       "      <td>daww  he matches this background colour im see...</td>\n",
       "      <td>0</td>\n",
       "    </tr>\n",
       "    <tr>\n",
       "      <th>2</th>\n",
       "      <td>hey man  im really not trying to edit war  its...</td>\n",
       "      <td>0</td>\n",
       "    </tr>\n",
       "    <tr>\n",
       "      <th>3</th>\n",
       "      <td>more i cant make any real suggestions on imp...</td>\n",
       "      <td>0</td>\n",
       "    </tr>\n",
       "    <tr>\n",
       "      <th>4</th>\n",
       "      <td>you  sir  are my hero  any chance you remember...</td>\n",
       "      <td>0</td>\n",
       "    </tr>\n",
       "  </tbody>\n",
       "</table>\n",
       "</div>"
      ],
      "text/plain": [
       "                                                text  toxic\n",
       "0  explanation why the edits made under my userna...      0\n",
       "1  daww  he matches this background colour im see...      0\n",
       "2  hey man  im really not trying to edit war  its...      0\n",
       "3    more i cant make any real suggestions on imp...      0\n",
       "4  you  sir  are my hero  any chance you remember...      0"
      ]
     },
     "execution_count": 5,
     "metadata": {},
     "output_type": "execute_result"
    }
   ],
   "source": [
    "df['text']=df['text'].apply(text_cleaning)\n",
    "df.head()"
   ]
  },
  {
   "cell_type": "markdown",
   "metadata": {},
   "source": [
    "<div class=\"alert alert-block alert-success\">\n",
    "<b>Успех:</b> Очистка была сделана верно.\n",
    "</div>\n",
    "\n",
    "<div class=\"alert alert-block alert-info\">\n",
    "<b>Совет: </b> желательно было еще провести лемматизацию.\n",
    "</div>"
   ]
  },
  {
   "cell_type": "markdown",
   "metadata": {},
   "source": [
    "## Обучение"
   ]
  },
  {
   "cell_type": "markdown",
   "metadata": {},
   "source": [
    "Разбиваем данные на тренировочные, валидационные и тестовые."
   ]
  },
  {
   "cell_type": "code",
   "execution_count": 6,
   "metadata": {},
   "outputs": [],
   "source": [
    "X_train, X_test, y_train, y_test = train_test_split(df.drop('toxic', axis=1),\n",
    "                                                    df.toxic,\n",
    "                                                    test_size=0.2,\n",
    "                                                    random_state=42)\n",
    "X_train, X_valid, y_train, y_valid = train_test_split(X_train,\n",
    "                                                      y_train,\n",
    "                                                      test_size=0.1,\n",
    "                                                      random_state=42)"
   ]
  },
  {
   "cell_type": "markdown",
   "metadata": {},
   "source": [
    "Оценим может ли CatBoostClassifier обеспечить необходимую точность"
   ]
  },
  {
   "cell_type": "code",
   "execution_count": 7,
   "metadata": {},
   "outputs": [
    {
     "name": "stdout",
     "output_type": "stream",
     "text": [
      "Learning rate set to 0.065688\n",
      "0:\tlearn: 0.6928900\ttotal: 802ms\tremaining: 13m 21s\n",
      "500:\tlearn: 0.7876905\ttotal: 5m 28s\tremaining: 5m 27s\n",
      "999:\tlearn: 0.8200429\ttotal: 11m 19s\tremaining: 0us\n",
      "Learning rate set to 0.065688\n",
      "0:\tlearn: 0.7116975\ttotal: 783ms\tremaining: 13m 2s\n",
      "500:\tlearn: 0.7911252\ttotal: 5m 51s\tremaining: 5m 50s\n",
      "999:\tlearn: 0.8189391\ttotal: 11m 45s\tremaining: 0us\n",
      "Learning rate set to 0.065688\n",
      "0:\tlearn: 0.6888844\ttotal: 752ms\tremaining: 12m 31s\n",
      "500:\tlearn: 0.7865735\ttotal: 6m 10s\tremaining: 6m 8s\n",
      "999:\tlearn: 0.8162390\ttotal: 12m 6s\tremaining: 0us\n"
     ]
    },
    {
     "data": {
      "text/plain": [
       "0.7739772068106703"
      ]
     },
     "execution_count": 7,
     "metadata": {},
     "output_type": "execute_result"
    }
   ],
   "source": [
    "cbc = CatBoostClassifier(iterations=1000,                         \n",
    "                         eval_metric='F1',                        \n",
    "                         text_features=['text'],\n",
    "                         random_seed=42,\n",
    "                         verbose=500)\n",
    "\n",
    "cross_val_score(cbc, X_train, y_train, cv=3, scoring='f1').mean()"
   ]
  },
  {
   "cell_type": "markdown",
   "metadata": {},
   "source": [
    "То, что надо.\n",
    "\n",
    "Обучаем модель"
   ]
  },
  {
   "cell_type": "code",
   "execution_count": 8,
   "metadata": {},
   "outputs": [
    {
     "name": "stdout",
     "output_type": "stream",
     "text": [
      "Learning rate set to 0.050786\n",
      "0:\tlearn: 0.7074892\ttest: 0.7436415\tbest: 0.7436415 (0)\ttotal: 902ms\tremaining: 1h 15m 7s\n",
      "1000:\tlearn: 0.8032460\ttest: 0.7937034\tbest: 0.7943615 (879)\ttotal: 14m 35s\tremaining: 58m 18s\n",
      "2000:\tlearn: 0.8310244\ttest: 0.7929043\tbest: 0.7953700 (1578)\ttotal: 28m 58s\tremaining: 43m 25s\n",
      "3000:\tlearn: 0.8471481\ttest: 0.7915980\tbest: 0.7953700 (1578)\ttotal: 42m 42s\tremaining: 28m 27s\n",
      "4000:\tlearn: 0.8628601\ttest: 0.7909465\tbest: 0.7953700 (1578)\ttotal: 56m 6s\tremaining: 14m\n",
      "4999:\tlearn: 0.8775888\ttest: 0.7902761\tbest: 0.7953700 (1578)\ttotal: 1h 9m 58s\tremaining: 0us\n",
      "\n",
      "bestTest = 0.7953699876\n",
      "bestIteration = 1578\n",
      "\n",
      "Shrink model to first 1579 iterations.\n"
     ]
    },
    {
     "data": {
      "text/plain": [
       "0.7845812723861504"
      ]
     },
     "execution_count": 8,
     "metadata": {},
     "output_type": "execute_result"
    }
   ],
   "source": [
    "cbc = CatBoostClassifier(iterations=5000,                         \n",
    "                         eval_metric='F1',                        \n",
    "                         text_features=['text'],\n",
    "                         random_seed=42,\n",
    "                         use_best_model=True,\n",
    "                         verbose=1000)\n",
    "\n",
    "cbc.fit(X_train, y_train, eval_set=(X_valid, y_valid))\n",
    "f1_score(y_test, cbc.predict(X_test)) "
   ]
  },
  {
   "cell_type": "markdown",
   "metadata": {},
   "source": [
    "Повышаем точность за счет выбора наилучшего threshold"
   ]
  },
  {
   "cell_type": "code",
   "execution_count": 11,
   "metadata": {},
   "outputs": [],
   "source": [
    "precision, recall, thresholds = precision_recall_curve(y_train, cbc.predict_proba(X_train)[:, 1])\n",
    "result = pd.DataFrame([precision,recall,thresholds]).T\n",
    "result.columns = ['precision','recall','threshold']\n",
    "result['f1'] = 2*result.precision*result.recall/(result.precision+result.recall)\n",
    "boundary = result[result.f1 == result.f1.max()].threshold.values"
   ]
  },
  {
   "cell_type": "code",
   "execution_count": 12,
   "metadata": {},
   "outputs": [
    {
     "data": {
      "text/plain": [
       "0.7992063492063491"
      ]
     },
     "execution_count": 12,
     "metadata": {},
     "output_type": "execute_result"
    }
   ],
   "source": [
    "f1_score(y_valid, (cbc.predict_proba(X_valid)[:, 1]>boundary)*1)"
   ]
  },
  {
   "cell_type": "markdown",
   "metadata": {},
   "source": [
    "<div class=\"alert alert-block alert-success\">\n",
    "<b>Успех:</b> Разбиение было сделано верно. Хороший подход с использованием внутреннего метода коидровки!\n",
    "</div>"
   ]
  },
  {
   "cell_type": "markdown",
   "metadata": {},
   "source": [
    "<div class=\"alert alert-block alert-info\">\n",
    "<b>Совет: </b> Можно было еще нестроить параметры с помощью кросс-валидации.\n",
    "</div>"
   ]
  },
  {
   "cell_type": "markdown",
   "metadata": {},
   "source": [
    "## Вывод"
   ]
  },
  {
   "cell_type": "markdown",
   "metadata": {},
   "source": [
    "Для распознования токсичных комментариев удалось построить модель CatBoostClassifier со значеним метрики F1 выше 0.75 (0.799)"
   ]
  }
 ],
 "metadata": {
  "ExecuteTimeLog": [
   {
    "duration": 3682,
    "start_time": "2022-04-29T10:33:19.181Z"
   },
   {
    "duration": 53,
    "start_time": "2022-04-29T10:34:20.192Z"
   },
   {
    "duration": 1639,
    "start_time": "2022-05-01T07:37:23.188Z"
   },
   {
    "duration": 210,
    "start_time": "2022-05-01T07:37:24.830Z"
   },
   {
    "duration": 0,
    "start_time": "2022-05-01T07:37:25.044Z"
   },
   {
    "duration": 0,
    "start_time": "2022-05-01T07:37:25.047Z"
   },
   {
    "duration": 0,
    "start_time": "2022-05-01T07:37:25.049Z"
   },
   {
    "duration": 0,
    "start_time": "2022-05-01T07:37:25.051Z"
   },
   {
    "duration": 0,
    "start_time": "2022-05-01T07:37:25.053Z"
   },
   {
    "duration": 0,
    "start_time": "2022-05-01T07:37:25.055Z"
   },
   {
    "duration": 0,
    "start_time": "2022-05-01T07:37:25.057Z"
   },
   {
    "duration": 1626,
    "start_time": "2022-05-01T07:38:02.422Z"
   },
   {
    "duration": 1438,
    "start_time": "2022-05-01T07:38:04.052Z"
   },
   {
    "duration": 6,
    "start_time": "2022-05-01T07:38:05.493Z"
   },
   {
    "duration": 20187,
    "start_time": "2022-05-01T07:38:05.501Z"
   },
   {
    "duration": 37,
    "start_time": "2022-05-01T07:38:25.690Z"
   },
   {
    "duration": 170,
    "start_time": "2022-05-01T07:38:25.730Z"
   },
   {
    "duration": 0,
    "start_time": "2022-05-01T07:38:25.903Z"
   },
   {
    "duration": 0,
    "start_time": "2022-05-01T07:38:25.904Z"
   },
   {
    "duration": 0,
    "start_time": "2022-05-01T07:38:25.906Z"
   },
   {
    "duration": 13,
    "start_time": "2022-05-01T07:42:20.847Z"
   },
   {
    "duration": 1853,
    "start_time": "2022-05-01T07:42:29.831Z"
   },
   {
    "duration": 1196,
    "start_time": "2022-05-01T07:42:31.687Z"
   },
   {
    "duration": 16,
    "start_time": "2022-05-01T07:42:32.888Z"
   },
   {
    "duration": 6,
    "start_time": "2022-05-01T07:42:32.907Z"
   },
   {
    "duration": 20156,
    "start_time": "2022-05-01T07:42:32.916Z"
   },
   {
    "duration": 45,
    "start_time": "2022-05-01T07:42:53.074Z"
   },
   {
    "duration": 180,
    "start_time": "2022-05-01T07:42:53.121Z"
   },
   {
    "duration": 0,
    "start_time": "2022-05-01T07:42:53.304Z"
   },
   {
    "duration": 0,
    "start_time": "2022-05-01T07:42:53.309Z"
   },
   {
    "duration": 0,
    "start_time": "2022-05-01T07:42:53.311Z"
   },
   {
    "duration": 111,
    "start_time": "2022-05-01T07:42:53.652Z"
   },
   {
    "duration": 591,
    "start_time": "2022-05-01T07:44:37.910Z"
   },
   {
    "duration": 898,
    "start_time": "2022-05-01T07:45:00.050Z"
   },
   {
    "duration": 8,
    "start_time": "2022-05-01T07:45:03.347Z"
   },
   {
    "duration": 793,
    "start_time": "2022-05-01T07:45:10.242Z"
   },
   {
    "duration": 695,
    "start_time": "2022-05-01T07:46:47.269Z"
   },
   {
    "duration": 567,
    "start_time": "2022-05-01T07:46:53.838Z"
   },
   {
    "duration": 661,
    "start_time": "2022-05-01T07:47:04.999Z"
   },
   {
    "duration": 17,
    "start_time": "2022-05-01T07:47:19.888Z"
   },
   {
    "duration": 9,
    "start_time": "2022-05-01T07:47:25.102Z"
   },
   {
    "duration": 18,
    "start_time": "2022-05-01T07:47:31.885Z"
   },
   {
    "duration": 5,
    "start_time": "2022-05-01T07:47:37.950Z"
   },
   {
    "duration": 4,
    "start_time": "2022-05-01T07:48:18.448Z"
   },
   {
    "duration": 553,
    "start_time": "2022-05-01T07:48:20.605Z"
   },
   {
    "duration": 4,
    "start_time": "2022-05-01T07:48:53.544Z"
   },
   {
    "duration": 12721,
    "start_time": "2022-05-01T07:48:55.269Z"
   },
   {
    "duration": 1567,
    "start_time": "2022-05-01T07:50:03.040Z"
   },
   {
    "duration": 1088,
    "start_time": "2022-05-01T07:50:04.609Z"
   },
   {
    "duration": 15,
    "start_time": "2022-05-01T07:50:05.699Z"
   },
   {
    "duration": 5,
    "start_time": "2022-05-01T07:50:05.717Z"
   },
   {
    "duration": 20197,
    "start_time": "2022-05-01T07:50:05.725Z"
   },
   {
    "duration": 35,
    "start_time": "2022-05-01T07:50:25.924Z"
   },
   {
    "duration": 190461,
    "start_time": "2022-05-01T07:50:25.962Z"
   },
   {
    "duration": 0,
    "start_time": "2022-05-01T07:53:36.425Z"
   },
   {
    "duration": 0,
    "start_time": "2022-05-01T07:53:36.427Z"
   },
   {
    "duration": 0,
    "start_time": "2022-05-01T07:53:36.429Z"
   },
   {
    "duration": 1635,
    "start_time": "2022-05-01T11:16:56.432Z"
   },
   {
    "duration": 1021,
    "start_time": "2022-05-01T11:16:58.070Z"
   },
   {
    "duration": 13,
    "start_time": "2022-05-01T11:16:59.094Z"
   },
   {
    "duration": 6,
    "start_time": "2022-05-01T11:16:59.109Z"
   },
   {
    "duration": 6877,
    "start_time": "2022-05-01T11:16:59.119Z"
   },
   {
    "duration": 0,
    "start_time": "2022-05-01T11:17:05.999Z"
   },
   {
    "duration": 0,
    "start_time": "2022-05-01T11:17:06.001Z"
   },
   {
    "duration": 0,
    "start_time": "2022-05-01T11:17:06.003Z"
   },
   {
    "duration": 0,
    "start_time": "2022-05-01T11:17:06.005Z"
   },
   {
    "duration": 0,
    "start_time": "2022-05-01T11:17:06.007Z"
   },
   {
    "duration": 1592,
    "start_time": "2022-05-01T11:20:21.356Z"
   },
   {
    "duration": 1043,
    "start_time": "2022-05-01T11:20:22.952Z"
   },
   {
    "duration": 16,
    "start_time": "2022-05-01T11:20:23.997Z"
   },
   {
    "duration": 8,
    "start_time": "2022-05-01T11:20:24.015Z"
   },
   {
    "duration": 27834,
    "start_time": "2022-05-01T11:20:24.027Z"
   },
   {
    "duration": 71,
    "start_time": "2022-05-01T11:20:51.864Z"
   },
   {
    "duration": 2161313,
    "start_time": "2022-05-01T11:20:51.937Z"
   },
   {
    "duration": 4225297,
    "start_time": "2022-05-01T11:56:53.252Z"
   },
   {
    "duration": 0,
    "start_time": "2022-05-01T13:07:36.131Z"
   },
   {
    "duration": 0,
    "start_time": "2022-05-01T13:07:36.132Z"
   },
   {
    "duration": 25703,
    "start_time": "2022-05-01T13:07:41.369Z"
   },
   {
    "duration": 0,
    "start_time": "2022-05-01T13:08:07.083Z"
   },
   {
    "duration": 23180,
    "start_time": "2022-05-01T13:08:49.671Z"
   },
   {
    "duration": 2385,
    "start_time": "2022-05-01T13:09:12.854Z"
   },
   {
    "duration": 18,
    "start_time": "2022-05-01T13:09:42.268Z"
   },
   {
    "duration": 433,
    "start_time": "2022-05-01T13:10:04.806Z"
   },
   {
    "duration": 17,
    "start_time": "2022-05-01T13:10:28.798Z"
   },
   {
    "duration": 11,
    "start_time": "2022-05-01T13:10:39.260Z"
   },
   {
    "duration": 7,
    "start_time": "2022-05-01T13:11:36.453Z"
   },
   {
    "duration": 14,
    "start_time": "2022-05-01T13:11:59.413Z"
   },
   {
    "duration": 5,
    "start_time": "2022-05-01T13:12:06.376Z"
   },
   {
    "duration": 14,
    "start_time": "2022-05-01T13:12:13.989Z"
   }
  ],
  "kernelspec": {
   "display_name": "Python 3 (ipykernel)",
   "language": "python",
   "name": "python3"
  },
  "language_info": {
   "codemirror_mode": {
    "name": "ipython",
    "version": 3
   },
   "file_extension": ".py",
   "mimetype": "text/x-python",
   "name": "python",
   "nbconvert_exporter": "python",
   "pygments_lexer": "ipython3",
   "version": "3.9.5"
  },
  "toc": {
   "base_numbering": 1,
   "nav_menu": {},
   "number_sections": true,
   "sideBar": true,
   "skip_h1_title": true,
   "title_cell": "Содержание",
   "title_sidebar": "Contents",
   "toc_cell": true,
   "toc_position": {
    "height": "calc(100% - 180px)",
    "left": "10px",
    "top": "150px",
    "width": "302.391px"
   },
   "toc_section_display": true,
   "toc_window_display": false
  }
 },
 "nbformat": 4,
 "nbformat_minor": 2
}
